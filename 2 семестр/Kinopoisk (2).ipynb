{
  "cells": [
    {
      "cell_type": "markdown",
      "metadata": {
        "id": "2oQHKWCQ91t1"
      },
      "source": [
        "# Пакеты"
      ]
    },
    {
      "cell_type": "code",
      "execution_count": null,
      "metadata": {
        "colab": {
          "base_uri": "https://localhost:8080/"
        },
        "id": "s1Iu3Zk9QA0t",
        "outputId": "7827b71f-08bf-41d7-da9f-0e5b64f1d696"
      },
      "outputs": [
        {
          "name": "stdout",
          "output_type": "stream",
          "text": [
            "Collecting pymorphy2\n",
            "  Downloading pymorphy2-0.9.1-py3-none-any.whl (55 kB)\n",
            "\u001b[2K     \u001b[90m━━━━━━━━━━━━━━━━━━━━━━━━━━━━━━━━━━━━━━━━\u001b[0m \u001b[32m55.5/55.5 kB\u001b[0m \u001b[31m652.7 kB/s\u001b[0m eta \u001b[36m0:00:00\u001b[0m\n",
            "\u001b[?25hCollecting dawg-python>=0.7.1 (from pymorphy2)\n",
            "  Downloading DAWG_Python-0.7.2-py2.py3-none-any.whl (11 kB)\n",
            "Collecting pymorphy2-dicts-ru<3.0,>=2.4 (from pymorphy2)\n",
            "  Downloading pymorphy2_dicts_ru-2.4.417127.4579844-py2.py3-none-any.whl (8.2 MB)\n",
            "\u001b[2K     \u001b[90m━━━━━━━━━━━━━━━━━━━━━━━━━━━━━━━━━━━━━━━━\u001b[0m \u001b[32m8.2/8.2 MB\u001b[0m \u001b[31m27.7 MB/s\u001b[0m eta \u001b[36m0:00:00\u001b[0m\n",
            "\u001b[?25hCollecting docopt>=0.6 (from pymorphy2)\n",
            "  Downloading docopt-0.6.2.tar.gz (25 kB)\n",
            "  Preparing metadata (setup.py) ... \u001b[?25l\u001b[?25hdone\n",
            "Building wheels for collected packages: docopt\n",
            "  Building wheel for docopt (setup.py) ... \u001b[?25l\u001b[?25hdone\n",
            "  Created wheel for docopt: filename=docopt-0.6.2-py2.py3-none-any.whl size=13706 sha256=23ae1bb16b7354f660dccef12c8d34b15a8fcef556cf3fa03597ce10263ff587\n",
            "  Stored in directory: /root/.cache/pip/wheels/fc/ab/d4/5da2067ac95b36618c629a5f93f809425700506f72c9732fac\n",
            "Successfully built docopt\n",
            "Installing collected packages: pymorphy2-dicts-ru, docopt, dawg-python, pymorphy2\n",
            "Successfully installed dawg-python-0.7.2 docopt-0.6.2 pymorphy2-0.9.1 pymorphy2-dicts-ru-2.4.417127.4579844\n",
            "Collecting umap-learn\n",
            "  Downloading umap-learn-0.5.5.tar.gz (90 kB)\n",
            "\u001b[2K     \u001b[90m━━━━━━━━━━━━━━━━━━━━━━━━━━━━━━━━━━━━━━━━\u001b[0m \u001b[32m90.9/90.9 kB\u001b[0m \u001b[31m968.1 kB/s\u001b[0m eta \u001b[36m0:00:00\u001b[0m\n",
            "\u001b[?25h  Preparing metadata (setup.py) ... \u001b[?25l\u001b[?25hdone\n",
            "Requirement already satisfied: numpy>=1.17 in /usr/local/lib/python3.10/dist-packages (from umap-learn) (1.23.5)\n",
            "Requirement already satisfied: scipy>=1.3.1 in /usr/local/lib/python3.10/dist-packages (from umap-learn) (1.11.4)\n",
            "Requirement already satisfied: scikit-learn>=0.22 in /usr/local/lib/python3.10/dist-packages (from umap-learn) (1.2.2)\n",
            "Requirement already satisfied: numba>=0.51.2 in /usr/local/lib/python3.10/dist-packages (from umap-learn) (0.58.1)\n",
            "Collecting pynndescent>=0.5 (from umap-learn)\n",
            "  Downloading pynndescent-0.5.11-py3-none-any.whl (55 kB)\n",
            "\u001b[2K     \u001b[90m━━━━━━━━━━━━━━━━━━━━━━━━━━━━━━━━━━━━━━━━\u001b[0m \u001b[32m55.8/55.8 kB\u001b[0m \u001b[31m6.4 MB/s\u001b[0m eta \u001b[36m0:00:00\u001b[0m\n",
            "\u001b[?25hRequirement already satisfied: tqdm in /usr/local/lib/python3.10/dist-packages (from umap-learn) (4.66.1)\n",
            "Requirement already satisfied: llvmlite<0.42,>=0.41.0dev0 in /usr/local/lib/python3.10/dist-packages (from numba>=0.51.2->umap-learn) (0.41.1)\n",
            "Requirement already satisfied: joblib>=0.11 in /usr/local/lib/python3.10/dist-packages (from pynndescent>=0.5->umap-learn) (1.3.2)\n",
            "Requirement already satisfied: threadpoolctl>=2.0.0 in /usr/local/lib/python3.10/dist-packages (from scikit-learn>=0.22->umap-learn) (3.2.0)\n",
            "Building wheels for collected packages: umap-learn\n",
            "  Building wheel for umap-learn (setup.py) ... \u001b[?25l\u001b[?25hdone\n",
            "  Created wheel for umap-learn: filename=umap_learn-0.5.5-py3-none-any.whl size=86832 sha256=1a96ab4d1b782bc9319608f4ee0f7767ca1cce2ba2b8d599b7bc2b20a4b9c870\n",
            "  Stored in directory: /root/.cache/pip/wheels/3a/70/07/428d2b58660a1a3b431db59b806a10da736612ebbc66c1bcc5\n",
            "Successfully built umap-learn\n",
            "Installing collected packages: pynndescent, umap-learn\n",
            "Successfully installed pynndescent-0.5.11 umap-learn-0.5.5\n"
          ]
        }
      ],
      "source": [
        "!pip install pymorphy2\n",
        "!pip install umap-learn"
      ]
    },
    {
      "cell_type": "code",
      "execution_count": null,
      "metadata": {
        "colab": {
          "base_uri": "https://localhost:8080/"
        },
        "id": "A_9pphn6DuFS",
        "outputId": "3799fbec-2777-4fad-88d7-8d9cec3dd209"
      },
      "outputs": [
        {
          "name": "stderr",
          "output_type": "stream",
          "text": [
            "[nltk_data] Downloading package stopwords to /root/nltk_data...\n",
            "[nltk_data]   Unzipping corpora/stopwords.zip.\n",
            "[nltk_data] Downloading package punkt to /root/nltk_data...\n",
            "[nltk_data]   Unzipping tokenizers/punkt.zip.\n"
          ]
        }
      ],
      "source": [
        "import pandas as pd\n",
        "import seaborn as sns\n",
        "import re\n",
        "import requests\n",
        "import warnings\n",
        "from typing import Iterable, Callable\n",
        "from matplotlib import pyplot as plt\n",
        "from collections import Counter\n",
        "import nltk\n",
        "from sklearn.feature_extraction.text import TfidfVectorizer\n",
        "from sklearn.metrics import precision_score, accuracy_score\n",
        "import numpy as np\n",
        "import pymorphy2\n",
        "from tqdm import tqdm\n",
        "from functools import lru_cache\n",
        "from IPython.core.display import HTML, display\n",
        "from math import ceil\n",
        "from gensim.models.doc2vec import Doc2Vec\n",
        "import time\n",
        "import umap\n",
        "import torch\n",
        "\n",
        "\n",
        "nltk.download('stopwords')\n",
        "nltk.download('punkt')\n",
        "\n",
        "warnings.simplefilter(\"ignore\")\n",
        "%matplotlib inline\n",
        "sns.set(style=\"darkgrid\")"
      ]
    },
    {
      "cell_type": "markdown",
      "metadata": {
        "id": "RagcMoNk94_E"
      },
      "source": [
        "# Получение данных с кинопоиска"
      ]
    },
    {
      "cell_type": "code",
      "execution_count": null,
      "metadata": {
        "id": "vt1FRNX1q4Z4"
      },
      "outputs": [],
      "source": [
        "headers = {\"X-API-KEY\": \"\"}\n",
        "\n",
        "def get_movies_on_page(page: int, select_fields: list[str]) -> dict:\n",
        "    response = requests.get(\n",
        "        'https://api.kinopoisk.dev/v1.4/movie',\n",
        "        params={\n",
        "            \"selectFields\": select_fields,\n",
        "            \"limit\": 250,\n",
        "            \"page\": page,\n",
        "        },\n",
        "        headers=headers\n",
        "    )\n",
        "    return response.json()"
      ]
    },
    {
      "cell_type": "code",
      "execution_count": null,
      "metadata": {
        "id": "C5yYIl9CDxPb"
      },
      "outputs": [],
      "source": [
        "movie_select_fields = [\n",
        "    \"id\",\n",
        "    \"name\",\n",
        "    \"enName\",\n",
        "    \"alternativeName\",\n",
        "    \"description\",\n",
        "    \"shortDescription\",\n",
        "    \"slogan\",\n",
        "    \"type\",\n",
        "    \"year\",\n",
        "    \"rating\",\n",
        "    \"votes\",\n",
        "    \"genres\",\n",
        "    \"persons\",\n",
        "    \"facts\",\n",
        "]"
      ]
    },
    {
      "cell_type": "code",
      "execution_count": null,
      "metadata": {
        "id": "tJK-bJo0Fw4N"
      },
      "outputs": [],
      "source": [
        "def remove_href_pattern(s: str) -> str:\n",
        "    return re.sub(r'<a\\s+href=\"\\/[^\"]+\"[^>]*>([^<]+)<\\/a>', r'\\1', s)\n",
        "\n",
        "def remove_tabulate(df: pd.DataFrame, fields: list[str]) -> None:\n",
        "    for field in fields:\n",
        "        df[field] = df[field].apply(lambda text: str(text).replace(\"\\n\",\" \").replace(\"\\xa0\", \" \").replace(\"\\r \\r\", \"\"))\n",
        "\n",
        "def filter_movie_df(movie_df: pd.DataFrame) -> None:\n",
        "    movie_df.facts = movie_df.facts.apply(lambda facts: [remove_href_pattern(fact['value']).replace(\"\\n\",\" \").replace(\"\\xa0\", \" \").replace(\"\\r \\r\", \"\") for fact in facts] if facts is not None else None)\n",
        "    movie_df.rating = movie_df.rating.apply(lambda rating: rating['imdb'])\n",
        "    movie_df.votes = movie_df.votes.apply(lambda votes: votes['imdb'])\n",
        "    movie_df.genres = movie_df.genres.apply(lambda genres: [genre['name'] for genre in genres] if genres is not None else None)\n",
        "    remove_tabulate(movie_df, (\"description\",\"shortDescription\", \"slogan\"))"
      ]
    },
    {
      "cell_type": "code",
      "execution_count": null,
      "metadata": {
        "id": "nzy1o3j7D4qi"
      },
      "outputs": [],
      "source": [
        "def create_movie_df_on_pages(pages: Iterable, select_fields: list[str]) -> pd.DataFrame:\n",
        "    movie_df = pd.DataFrame()\n",
        "    total_pages = max(pages)\n",
        "    for page in pages:\n",
        "        if page > total_pages:\n",
        "            print(\"PAGES IS OVER!\")\n",
        "            return movie_df\n",
        "        response = get_movies_on_page(page, select_fields)\n",
        "        total_pages = response['pages']\n",
        "        page_df = pd.DataFrame(response['docs'])\n",
        "        filter_movie_df(page_df)\n",
        "        movie_df = pd.concat([movie_df, page_df])\n",
        "        movie_df = movie_df.reset_index(drop=True)\n",
        "    return movie_df"
      ]
    },
    {
      "cell_type": "code",
      "execution_count": null,
      "metadata": {
        "id": "R0nbojW8IZMf"
      },
      "outputs": [],
      "source": [
        "movie_df = create_movie_df_on_pages(range(1,11), movie_select_fields)"
      ]
    },
    {
      "cell_type": "code",
      "execution_count": null,
      "metadata": {
        "colab": {
          "base_uri": "https://localhost:8080/",
          "height": 944
        },
        "id": "8oE2MPGgI9w2",
        "outputId": "db4e5653-858b-4411-e5f3-66025a051ae3"
      },
      "outputs": [
        {
          "data": {
            "text/html": [
              "\n",
              "  <div id=\"df-c020e56f-61cf-46a9-afe0-59883c7da3b4\" class=\"colab-df-container\">\n",
              "    <div>\n",
              "<style scoped>\n",
              "    .dataframe tbody tr th:only-of-type {\n",
              "        vertical-align: middle;\n",
              "    }\n",
              "\n",
              "    .dataframe tbody tr th {\n",
              "        vertical-align: top;\n",
              "    }\n",
              "\n",
              "    .dataframe thead th {\n",
              "        text-align: right;\n",
              "    }\n",
              "</style>\n",
              "<table border=\"1\" class=\"dataframe\">\n",
              "  <thead>\n",
              "    <tr style=\"text-align: right;\">\n",
              "      <th></th>\n",
              "      <th>rating</th>\n",
              "      <th>votes</th>\n",
              "      <th>id</th>\n",
              "      <th>type</th>\n",
              "      <th>name</th>\n",
              "      <th>description</th>\n",
              "      <th>slogan</th>\n",
              "      <th>year</th>\n",
              "      <th>facts</th>\n",
              "      <th>genres</th>\n",
              "      <th>persons</th>\n",
              "      <th>alternativeName</th>\n",
              "      <th>enName</th>\n",
              "      <th>shortDescription</th>\n",
              "    </tr>\n",
              "  </thead>\n",
              "  <tbody>\n",
              "    <tr>\n",
              "      <th>0</th>\n",
              "      <td>8.5</td>\n",
              "      <td>906583</td>\n",
              "      <td>535341</td>\n",
              "      <td>movie</td>\n",
              "      <td>1+1</td>\n",
              "      <td>Пострадав в результате несчастного случая, бог...</td>\n",
              "      <td>Sometimes you have to reach into someone else'...</td>\n",
              "      <td>2011</td>\n",
              "      <td>[На создание картины режиссёрский дуэт вдохнов...</td>\n",
              "      <td>[драма, комедия, биография]</td>\n",
              "      <td>[{'id': 71427, 'photo': 'https://st.kp.yandex....</td>\n",
              "      <td>Intouchables</td>\n",
              "      <td>None</td>\n",
              "      <td>Аристократ на коляске нанимает в сиделки бывше...</td>\n",
              "    </tr>\n",
              "    <tr>\n",
              "      <th>1</th>\n",
              "      <td>7.8</td>\n",
              "      <td>375707</td>\n",
              "      <td>1143242</td>\n",
              "      <td>movie</td>\n",
              "      <td>Джентльмены</td>\n",
              "      <td>Один ушлый американец ещё со студенческих лет ...</td>\n",
              "      <td>Criminal. Class</td>\n",
              "      <td>2019</td>\n",
              "      <td>[Хью Грант и Чарли Ханнэм снимали свои сцены в...</td>\n",
              "      <td>[криминал, комедия, боевик]</td>\n",
              "      <td>[{'id': 797, 'photo': 'https://st.kp.yandex.ne...</td>\n",
              "      <td>The Gentlemen</td>\n",
              "      <td>None</td>\n",
              "      <td>Наркобарон хочет уйти на покой, но криминальны...</td>\n",
              "    </tr>\n",
              "    <tr>\n",
              "      <th>2</th>\n",
              "      <td>8.2</td>\n",
              "      <td>1529079</td>\n",
              "      <td>462682</td>\n",
              "      <td>movie</td>\n",
              "      <td>Волк с Уолл-стрит</td>\n",
              "      <td>1987 год. Джордан Белфорт становится брокером ...</td>\n",
              "      <td>Earn. Spend. Party.</td>\n",
              "      <td>2013</td>\n",
              "      <td>[Фильм снят по мотивам книги мемуаров Джордана...</td>\n",
              "      <td>[драма, криминал, биография, комедия]</td>\n",
              "      <td>[{'id': 37859, 'photo': 'https://st.kp.yandex....</td>\n",
              "      <td>The Wolf of Wall Street</td>\n",
              "      <td>None</td>\n",
              "      <td>Восхождение циника-гедониста на бизнес-олимп 1...</td>\n",
              "    </tr>\n",
              "    <tr>\n",
              "      <th>3</th>\n",
              "      <td>7.8</td>\n",
              "      <td>23670</td>\n",
              "      <td>41519</td>\n",
              "      <td>movie</td>\n",
              "      <td>Брат</td>\n",
              "      <td>Демобилизовавшись, Данила Багров вернулся в ро...</td>\n",
              "      <td>None</td>\n",
              "      <td>1997</td>\n",
              "      <td>[Свитер крупной вязки, который носил Данила Ба...</td>\n",
              "      <td>[драма, криминал, боевик]</td>\n",
              "      <td>[{'id': 25250, 'photo': 'https://st.kp.yandex....</td>\n",
              "      <td>None</td>\n",
              "      <td>None</td>\n",
              "      <td>Дембель Данила Багров защищает слабых в Петерб...</td>\n",
              "    </tr>\n",
              "    <tr>\n",
              "      <th>4</th>\n",
              "      <td>7.1</td>\n",
              "      <td>199196</td>\n",
              "      <td>1318972</td>\n",
              "      <td>movie</td>\n",
              "      <td>Гнев человеческий</td>\n",
              "      <td>Грузовики лос-анджелесской инкассаторской комп...</td>\n",
              "      <td>None</td>\n",
              "      <td>2021</td>\n",
              "      <td>[Хотя действие картины происходит в Лос-Анджел...</td>\n",
              "      <td>[боевик, триллер]</td>\n",
              "      <td>[{'id': 1514, 'photo': 'https://st.kp.yandex.n...</td>\n",
              "      <td>Wrath of Man</td>\n",
              "      <td>None</td>\n",
              "      <td>Хмурый мужчина прикидывается инкассатором, что...</td>\n",
              "    </tr>\n",
              "    <tr>\n",
              "      <th>...</th>\n",
              "      <td>...</td>\n",
              "      <td>...</td>\n",
              "      <td>...</td>\n",
              "      <td>...</td>\n",
              "      <td>...</td>\n",
              "      <td>...</td>\n",
              "      <td>...</td>\n",
              "      <td>...</td>\n",
              "      <td>...</td>\n",
              "      <td>...</td>\n",
              "      <td>...</td>\n",
              "      <td>...</td>\n",
              "      <td>...</td>\n",
              "      <td>...</td>\n",
              "    </tr>\n",
              "    <tr>\n",
              "      <th>2495</th>\n",
              "      <td>7.1</td>\n",
              "      <td>321756</td>\n",
              "      <td>898</td>\n",
              "      <td>movie</td>\n",
              "      <td>Бэтмен возвращается</td>\n",
              "      <td>Над Готэмом нависла новая угроза. Два эксцентр...</td>\n",
              "      <td>Возвращение 19 июня!</td>\n",
              "      <td>1992</td>\n",
              "      <td>[ДеВито было запрещено рассказывать о своем пе...</td>\n",
              "      <td>[боевик, фантастика]</td>\n",
              "      <td>[{'id': 22773, 'photo': 'https://st.kp.yandex....</td>\n",
              "      <td>Batman Returns</td>\n",
              "      <td>Batman 2</td>\n",
              "      <td>Готэму угрожают человек-пингвин и Женщина-кошк...</td>\n",
              "    </tr>\n",
              "    <tr>\n",
              "      <th>2496</th>\n",
              "      <td>7.4</td>\n",
              "      <td>197471</td>\n",
              "      <td>7636</td>\n",
              "      <td>movie</td>\n",
              "      <td>Английский пациент</td>\n",
              "      <td>Вторая мировая война близится к концу. Молодая...</td>\n",
              "      <td>In memory, love lives forever</td>\n",
              "      <td>1996</td>\n",
              "      <td>[Фильм снят по мотивам романа Майкла Ондаатже ...</td>\n",
              "      <td>[драма, мелодрама, военный]</td>\n",
              "      <td>[{'id': 22670, 'photo': 'https://st.kp.yandex....</td>\n",
              "      <td>The English Patient</td>\n",
              "      <td>None</td>\n",
              "      <td>Война превращает роман картографа с чужой жено...</td>\n",
              "    </tr>\n",
              "    <tr>\n",
              "      <th>2497</th>\n",
              "      <td>7.1</td>\n",
              "      <td>144575</td>\n",
              "      <td>1211076</td>\n",
              "      <td>movie</td>\n",
              "      <td>Французский вестник. Приложение к газете «Либе...</td>\n",
              "      <td>Собрание удивительных историй, опубликованных ...</td>\n",
              "      <td>None</td>\n",
              "      <td>2020</td>\n",
              "      <td>[Имя и фамилия персонажа, которого исполнил Оу...</td>\n",
              "      <td>[драма, мелодрама, комедия]</td>\n",
              "      <td>[{'id': 518, 'photo': 'https://st.kp.yandex.ne...</td>\n",
              "      <td>The French Dispatch</td>\n",
              "      <td>None</td>\n",
              "      <td>После смерти главреда журналисты выпускают пос...</td>\n",
              "    </tr>\n",
              "    <tr>\n",
              "      <th>2498</th>\n",
              "      <td>6.2</td>\n",
              "      <td>139577</td>\n",
              "      <td>7316</td>\n",
              "      <td>movie</td>\n",
              "      <td>Джиперс Криперс</td>\n",
              "      <td>Если бы Дэрри и Триш знали, во что превратится...</td>\n",
              "      <td>Кто тебя пожирает?</td>\n",
              "      <td>2001</td>\n",
              "      <td>[Рабочее название картины – «И тут приходит Бу...</td>\n",
              "      <td>[ужасы, триллер]</td>\n",
              "      <td>[{'id': 1605, 'photo': 'https://st.kp.yandex.n...</td>\n",
              "      <td>Jeepers Creepers</td>\n",
              "      <td>Here Comes the Boogeyman</td>\n",
              "      <td>Жуткий незнакомец вторгается в жизнь брата и с...</td>\n",
              "    </tr>\n",
              "    <tr>\n",
              "      <th>2499</th>\n",
              "      <td>8.1</td>\n",
              "      <td>19611</td>\n",
              "      <td>1115221</td>\n",
              "      <td>tv-series</td>\n",
              "      <td>Крёстный отец Гарлема</td>\n",
              "      <td>Криминальный босс Бампи Джонсон руководит торг...</td>\n",
              "      <td>None</td>\n",
              "      <td>2019</td>\n",
              "      <td>[]</td>\n",
              "      <td>[драма, криминал]</td>\n",
              "      <td>[{'id': 7371, 'photo': 'https://st.kp.yandex.n...</td>\n",
              "      <td>Godfather of Harlem</td>\n",
              "      <td>None</td>\n",
              "      <td>Авторитет возвращается в Гарлем после тюрьмы. ...</td>\n",
              "    </tr>\n",
              "  </tbody>\n",
              "</table>\n",
              "<p>2500 rows × 14 columns</p>\n",
              "</div>\n",
              "    <div class=\"colab-df-buttons\">\n",
              "\n",
              "  <div class=\"colab-df-container\">\n",
              "    <button class=\"colab-df-convert\" onclick=\"convertToInteractive('df-c020e56f-61cf-46a9-afe0-59883c7da3b4')\"\n",
              "            title=\"Convert this dataframe to an interactive table.\"\n",
              "            style=\"display:none;\">\n",
              "\n",
              "  <svg xmlns=\"http://www.w3.org/2000/svg\" height=\"24px\" viewBox=\"0 -960 960 960\">\n",
              "    <path d=\"M120-120v-720h720v720H120Zm60-500h600v-160H180v160Zm220 220h160v-160H400v160Zm0 220h160v-160H400v160ZM180-400h160v-160H180v160Zm440 0h160v-160H620v160ZM180-180h160v-160H180v160Zm440 0h160v-160H620v160Z\"/>\n",
              "  </svg>\n",
              "    </button>\n",
              "\n",
              "  <style>\n",
              "    .colab-df-container {\n",
              "      display:flex;\n",
              "      gap: 12px;\n",
              "    }\n",
              "\n",
              "    .colab-df-convert {\n",
              "      background-color: #E8F0FE;\n",
              "      border: none;\n",
              "      border-radius: 50%;\n",
              "      cursor: pointer;\n",
              "      display: none;\n",
              "      fill: #1967D2;\n",
              "      height: 32px;\n",
              "      padding: 0 0 0 0;\n",
              "      width: 32px;\n",
              "    }\n",
              "\n",
              "    .colab-df-convert:hover {\n",
              "      background-color: #E2EBFA;\n",
              "      box-shadow: 0px 1px 2px rgba(60, 64, 67, 0.3), 0px 1px 3px 1px rgba(60, 64, 67, 0.15);\n",
              "      fill: #174EA6;\n",
              "    }\n",
              "\n",
              "    .colab-df-buttons div {\n",
              "      margin-bottom: 4px;\n",
              "    }\n",
              "\n",
              "    [theme=dark] .colab-df-convert {\n",
              "      background-color: #3B4455;\n",
              "      fill: #D2E3FC;\n",
              "    }\n",
              "\n",
              "    [theme=dark] .colab-df-convert:hover {\n",
              "      background-color: #434B5C;\n",
              "      box-shadow: 0px 1px 3px 1px rgba(0, 0, 0, 0.15);\n",
              "      filter: drop-shadow(0px 1px 2px rgba(0, 0, 0, 0.3));\n",
              "      fill: #FFFFFF;\n",
              "    }\n",
              "  </style>\n",
              "\n",
              "    <script>\n",
              "      const buttonEl =\n",
              "        document.querySelector('#df-c020e56f-61cf-46a9-afe0-59883c7da3b4 button.colab-df-convert');\n",
              "      buttonEl.style.display =\n",
              "        google.colab.kernel.accessAllowed ? 'block' : 'none';\n",
              "\n",
              "      async function convertToInteractive(key) {\n",
              "        const element = document.querySelector('#df-c020e56f-61cf-46a9-afe0-59883c7da3b4');\n",
              "        const dataTable =\n",
              "          await google.colab.kernel.invokeFunction('convertToInteractive',\n",
              "                                                    [key], {});\n",
              "        if (!dataTable) return;\n",
              "\n",
              "        const docLinkHtml = 'Like what you see? Visit the ' +\n",
              "          '<a target=\"_blank\" href=https://colab.research.google.com/notebooks/data_table.ipynb>data table notebook</a>'\n",
              "          + ' to learn more about interactive tables.';\n",
              "        element.innerHTML = '';\n",
              "        dataTable['output_type'] = 'display_data';\n",
              "        await google.colab.output.renderOutput(dataTable, element);\n",
              "        const docLink = document.createElement('div');\n",
              "        docLink.innerHTML = docLinkHtml;\n",
              "        element.appendChild(docLink);\n",
              "      }\n",
              "    </script>\n",
              "  </div>\n",
              "\n",
              "\n",
              "<div id=\"df-03b40e7d-bf5f-42ae-affc-f50d27b7c75b\">\n",
              "  <button class=\"colab-df-quickchart\" onclick=\"quickchart('df-03b40e7d-bf5f-42ae-affc-f50d27b7c75b')\"\n",
              "            title=\"Suggest charts\"\n",
              "            style=\"display:none;\">\n",
              "\n",
              "<svg xmlns=\"http://www.w3.org/2000/svg\" height=\"24px\"viewBox=\"0 0 24 24\"\n",
              "     width=\"24px\">\n",
              "    <g>\n",
              "        <path d=\"M19 3H5c-1.1 0-2 .9-2 2v14c0 1.1.9 2 2 2h14c1.1 0 2-.9 2-2V5c0-1.1-.9-2-2-2zM9 17H7v-7h2v7zm4 0h-2V7h2v10zm4 0h-2v-4h2v4z\"/>\n",
              "    </g>\n",
              "</svg>\n",
              "  </button>\n",
              "\n",
              "<style>\n",
              "  .colab-df-quickchart {\n",
              "      --bg-color: #E8F0FE;\n",
              "      --fill-color: #1967D2;\n",
              "      --hover-bg-color: #E2EBFA;\n",
              "      --hover-fill-color: #174EA6;\n",
              "      --disabled-fill-color: #AAA;\n",
              "      --disabled-bg-color: #DDD;\n",
              "  }\n",
              "\n",
              "  [theme=dark] .colab-df-quickchart {\n",
              "      --bg-color: #3B4455;\n",
              "      --fill-color: #D2E3FC;\n",
              "      --hover-bg-color: #434B5C;\n",
              "      --hover-fill-color: #FFFFFF;\n",
              "      --disabled-bg-color: #3B4455;\n",
              "      --disabled-fill-color: #666;\n",
              "  }\n",
              "\n",
              "  .colab-df-quickchart {\n",
              "    background-color: var(--bg-color);\n",
              "    border: none;\n",
              "    border-radius: 50%;\n",
              "    cursor: pointer;\n",
              "    display: none;\n",
              "    fill: var(--fill-color);\n",
              "    height: 32px;\n",
              "    padding: 0;\n",
              "    width: 32px;\n",
              "  }\n",
              "\n",
              "  .colab-df-quickchart:hover {\n",
              "    background-color: var(--hover-bg-color);\n",
              "    box-shadow: 0 1px 2px rgba(60, 64, 67, 0.3), 0 1px 3px 1px rgba(60, 64, 67, 0.15);\n",
              "    fill: var(--button-hover-fill-color);\n",
              "  }\n",
              "\n",
              "  .colab-df-quickchart-complete:disabled,\n",
              "  .colab-df-quickchart-complete:disabled:hover {\n",
              "    background-color: var(--disabled-bg-color);\n",
              "    fill: var(--disabled-fill-color);\n",
              "    box-shadow: none;\n",
              "  }\n",
              "\n",
              "  .colab-df-spinner {\n",
              "    border: 2px solid var(--fill-color);\n",
              "    border-color: transparent;\n",
              "    border-bottom-color: var(--fill-color);\n",
              "    animation:\n",
              "      spin 1s steps(1) infinite;\n",
              "  }\n",
              "\n",
              "  @keyframes spin {\n",
              "    0% {\n",
              "      border-color: transparent;\n",
              "      border-bottom-color: var(--fill-color);\n",
              "      border-left-color: var(--fill-color);\n",
              "    }\n",
              "    20% {\n",
              "      border-color: transparent;\n",
              "      border-left-color: var(--fill-color);\n",
              "      border-top-color: var(--fill-color);\n",
              "    }\n",
              "    30% {\n",
              "      border-color: transparent;\n",
              "      border-left-color: var(--fill-color);\n",
              "      border-top-color: var(--fill-color);\n",
              "      border-right-color: var(--fill-color);\n",
              "    }\n",
              "    40% {\n",
              "      border-color: transparent;\n",
              "      border-right-color: var(--fill-color);\n",
              "      border-top-color: var(--fill-color);\n",
              "    }\n",
              "    60% {\n",
              "      border-color: transparent;\n",
              "      border-right-color: var(--fill-color);\n",
              "    }\n",
              "    80% {\n",
              "      border-color: transparent;\n",
              "      border-right-color: var(--fill-color);\n",
              "      border-bottom-color: var(--fill-color);\n",
              "    }\n",
              "    90% {\n",
              "      border-color: transparent;\n",
              "      border-bottom-color: var(--fill-color);\n",
              "    }\n",
              "  }\n",
              "</style>\n",
              "\n",
              "  <script>\n",
              "    async function quickchart(key) {\n",
              "      const quickchartButtonEl =\n",
              "        document.querySelector('#' + key + ' button');\n",
              "      quickchartButtonEl.disabled = true;  // To prevent multiple clicks.\n",
              "      quickchartButtonEl.classList.add('colab-df-spinner');\n",
              "      try {\n",
              "        const charts = await google.colab.kernel.invokeFunction(\n",
              "            'suggestCharts', [key], {});\n",
              "      } catch (error) {\n",
              "        console.error('Error during call to suggestCharts:', error);\n",
              "      }\n",
              "      quickchartButtonEl.classList.remove('colab-df-spinner');\n",
              "      quickchartButtonEl.classList.add('colab-df-quickchart-complete');\n",
              "    }\n",
              "    (() => {\n",
              "      let quickchartButtonEl =\n",
              "        document.querySelector('#df-03b40e7d-bf5f-42ae-affc-f50d27b7c75b button');\n",
              "      quickchartButtonEl.style.display =\n",
              "        google.colab.kernel.accessAllowed ? 'block' : 'none';\n",
              "    })();\n",
              "  </script>\n",
              "</div>\n",
              "    </div>\n",
              "  </div>\n"
            ],
            "text/plain": [
              "      rating    votes       id       type  \\\n",
              "0        8.5   906583   535341      movie   \n",
              "1        7.8   375707  1143242      movie   \n",
              "2        8.2  1529079   462682      movie   \n",
              "3        7.8    23670    41519      movie   \n",
              "4        7.1   199196  1318972      movie   \n",
              "...      ...      ...      ...        ...   \n",
              "2495     7.1   321756      898      movie   \n",
              "2496     7.4   197471     7636      movie   \n",
              "2497     7.1   144575  1211076      movie   \n",
              "2498     6.2   139577     7316      movie   \n",
              "2499     8.1    19611  1115221  tv-series   \n",
              "\n",
              "                                                   name  \\\n",
              "0                                                   1+1   \n",
              "1                                           Джентльмены   \n",
              "2                                     Волк с Уолл-стрит   \n",
              "3                                                  Брат   \n",
              "4                                     Гнев человеческий   \n",
              "...                                                 ...   \n",
              "2495                                Бэтмен возвращается   \n",
              "2496                                 Английский пациент   \n",
              "2497  Французский вестник. Приложение к газете «Либе...   \n",
              "2498                                    Джиперс Криперс   \n",
              "2499                              Крёстный отец Гарлема   \n",
              "\n",
              "                                            description  \\\n",
              "0     Пострадав в результате несчастного случая, бог...   \n",
              "1     Один ушлый американец ещё со студенческих лет ...   \n",
              "2     1987 год. Джордан Белфорт становится брокером ...   \n",
              "3     Демобилизовавшись, Данила Багров вернулся в ро...   \n",
              "4     Грузовики лос-анджелесской инкассаторской комп...   \n",
              "...                                                 ...   \n",
              "2495  Над Готэмом нависла новая угроза. Два эксцентр...   \n",
              "2496  Вторая мировая война близится к концу. Молодая...   \n",
              "2497  Собрание удивительных историй, опубликованных ...   \n",
              "2498  Если бы Дэрри и Триш знали, во что превратится...   \n",
              "2499  Криминальный босс Бампи Джонсон руководит торг...   \n",
              "\n",
              "                                                 slogan  year  \\\n",
              "0     Sometimes you have to reach into someone else'...  2011   \n",
              "1                                       Criminal. Class  2019   \n",
              "2                                   Earn. Spend. Party.  2013   \n",
              "3                                                  None  1997   \n",
              "4                                                  None  2021   \n",
              "...                                                 ...   ...   \n",
              "2495                               Возвращение 19 июня!  1992   \n",
              "2496                      In memory, love lives forever  1996   \n",
              "2497                                               None  2020   \n",
              "2498                                 Кто тебя пожирает?  2001   \n",
              "2499                                               None  2019   \n",
              "\n",
              "                                                  facts  \\\n",
              "0     [На создание картины режиссёрский дуэт вдохнов...   \n",
              "1     [Хью Грант и Чарли Ханнэм снимали свои сцены в...   \n",
              "2     [Фильм снят по мотивам книги мемуаров Джордана...   \n",
              "3     [Свитер крупной вязки, который носил Данила Ба...   \n",
              "4     [Хотя действие картины происходит в Лос-Анджел...   \n",
              "...                                                 ...   \n",
              "2495  [ДеВито было запрещено рассказывать о своем пе...   \n",
              "2496  [Фильм снят по мотивам романа Майкла Ондаатже ...   \n",
              "2497  [Имя и фамилия персонажа, которого исполнил Оу...   \n",
              "2498  [Рабочее название картины – «И тут приходит Бу...   \n",
              "2499                                                 []   \n",
              "\n",
              "                                     genres  \\\n",
              "0               [драма, комедия, биография]   \n",
              "1               [криминал, комедия, боевик]   \n",
              "2     [драма, криминал, биография, комедия]   \n",
              "3                 [драма, криминал, боевик]   \n",
              "4                         [боевик, триллер]   \n",
              "...                                     ...   \n",
              "2495                   [боевик, фантастика]   \n",
              "2496            [драма, мелодрама, военный]   \n",
              "2497            [драма, мелодрама, комедия]   \n",
              "2498                       [ужасы, триллер]   \n",
              "2499                      [драма, криминал]   \n",
              "\n",
              "                                                persons  \\\n",
              "0     [{'id': 71427, 'photo': 'https://st.kp.yandex....   \n",
              "1     [{'id': 797, 'photo': 'https://st.kp.yandex.ne...   \n",
              "2     [{'id': 37859, 'photo': 'https://st.kp.yandex....   \n",
              "3     [{'id': 25250, 'photo': 'https://st.kp.yandex....   \n",
              "4     [{'id': 1514, 'photo': 'https://st.kp.yandex.n...   \n",
              "...                                                 ...   \n",
              "2495  [{'id': 22773, 'photo': 'https://st.kp.yandex....   \n",
              "2496  [{'id': 22670, 'photo': 'https://st.kp.yandex....   \n",
              "2497  [{'id': 518, 'photo': 'https://st.kp.yandex.ne...   \n",
              "2498  [{'id': 1605, 'photo': 'https://st.kp.yandex.n...   \n",
              "2499  [{'id': 7371, 'photo': 'https://st.kp.yandex.n...   \n",
              "\n",
              "              alternativeName                    enName  \\\n",
              "0                Intouchables                      None   \n",
              "1               The Gentlemen                      None   \n",
              "2     The Wolf of Wall Street                      None   \n",
              "3                        None                      None   \n",
              "4                Wrath of Man                      None   \n",
              "...                       ...                       ...   \n",
              "2495           Batman Returns                  Batman 2   \n",
              "2496      The English Patient                      None   \n",
              "2497      The French Dispatch                      None   \n",
              "2498         Jeepers Creepers  Here Comes the Boogeyman   \n",
              "2499      Godfather of Harlem                      None   \n",
              "\n",
              "                                       shortDescription  \n",
              "0     Аристократ на коляске нанимает в сиделки бывше...  \n",
              "1     Наркобарон хочет уйти на покой, но криминальны...  \n",
              "2     Восхождение циника-гедониста на бизнес-олимп 1...  \n",
              "3     Дембель Данила Багров защищает слабых в Петерб...  \n",
              "4     Хмурый мужчина прикидывается инкассатором, что...  \n",
              "...                                                 ...  \n",
              "2495  Готэму угрожают человек-пингвин и Женщина-кошк...  \n",
              "2496  Война превращает роман картографа с чужой жено...  \n",
              "2497  После смерти главреда журналисты выпускают пос...  \n",
              "2498  Жуткий незнакомец вторгается в жизнь брата и с...  \n",
              "2499  Авторитет возвращается в Гарлем после тюрьмы. ...  \n",
              "\n",
              "[2500 rows x 14 columns]"
            ]
          },
          "execution_count": 70,
          "metadata": {},
          "output_type": "execute_result"
        }
      ],
      "source": [
        "movie_df"
      ]
    },
    {
      "cell_type": "code",
      "execution_count": null,
      "metadata": {
        "id": "fyMLLh9HKkRi"
      },
      "outputs": [],
      "source": [
        "review_select_fields = [\n",
        "    \"id\",\n",
        "    \"movieId\",\n",
        "    \"title\",\n",
        "    \"type\",\n",
        "    \"review\",\n",
        "    \"author\",\n",
        "    \"authorId\",\n",
        "]"
      ]
    },
    {
      "cell_type": "code",
      "execution_count": null,
      "metadata": {
        "id": "V-fVgEPgK__x"
      },
      "outputs": [],
      "source": [
        "def get_reviews_from_movie_ids_on_page(movie_ids: list[str], page: int, select_fields: list[str]) -> dict:\n",
        "    response = requests.get(\n",
        "        'https://api.kinopoisk.dev/v1.4/review',\n",
        "        params={\n",
        "            \"selectFields\": select_fields,\n",
        "            \"limit\": 250,\n",
        "            \"movieId\": movie_ids,\n",
        "            \"page\": page,\n",
        "        },\n",
        "        headers=headers\n",
        "    )\n",
        "    return response.json()"
      ]
    },
    {
      "cell_type": "code",
      "execution_count": null,
      "metadata": {
        "id": "eqw9X5cOX-Ll"
      },
      "outputs": [],
      "source": [
        "def filter_review_df(review_df: pd.DataFrame) -> None:\n",
        "    remove_tabulate(review_df, (\"review\",\"title\"))"
      ]
    },
    {
      "cell_type": "code",
      "execution_count": null,
      "metadata": {
        "id": "X7upZM8AJ-Hm"
      },
      "outputs": [],
      "source": [
        "def create_review_df_from_limited_movie_ids(movie_ids: list[str], select_fields: list[str], page_limit: int = 5) -> pd.DataFrame:\n",
        "    review_df = pd.DataFrame()\n",
        "    total_pages = page_limit\n",
        "    for page in range(1, page_limit+1):\n",
        "        if page > total_pages:\n",
        "            print(\"PAGES FOR MOVIE IDS IS OVER!\")\n",
        "            return review_df\n",
        "        response = get_reviews_from_movie_ids_on_page(movie_ids, page, select_fields)\n",
        "        total_pages = response['pages']\n",
        "        page_df = pd.DataFrame(response['docs'])\n",
        "        filter_review_df(page_df)\n",
        "        review_df = pd.concat([review_df, page_df])\n",
        "        review_df = review_df.reset_index(drop=True)\n",
        "    print(\"EXCEEDED PAGE LIMIT FOR REVIEWS\")\n",
        "    return review_df"
      ]
    },
    {
      "cell_type": "code",
      "execution_count": null,
      "metadata": {
        "id": "Ta7Jq9-ekBLb"
      },
      "outputs": [],
      "source": [
        "def create_review_df_from_movie_ids(movie_ids: np.array, select_fields: list[str], page_limit: int = 5) -> pd.DataFrame:\n",
        "    review_df = pd.DataFrame()\n",
        "    size = movie_ids.shape[0]\n",
        "    for it in range(ceil(size/250)):\n",
        "        page_df = create_review_df_from_limited_movie_ids(movie_ids[it*250:min((it+1)*250,size)], review_select_fields)\n",
        "        review_df = pd.concat([review_df, page_df]).reset_index(drop=True)\n",
        "    return review_df"
      ]
    },
    {
      "cell_type": "code",
      "execution_count": null,
      "metadata": {
        "colab": {
          "base_uri": "https://localhost:8080/"
        },
        "id": "CgwtUq76YTg3",
        "outputId": "da32b371-58d4-4dee-9fac-7a532cd64a3b"
      },
      "outputs": [
        {
          "name": "stdout",
          "output_type": "stream",
          "text": [
            "EXCEEDED PAGE LIMIT FOR REVIEWS\n",
            "EXCEEDED PAGE LIMIT FOR REVIEWS\n",
            "EXCEEDED PAGE LIMIT FOR REVIEWS\n",
            "EXCEEDED PAGE LIMIT FOR REVIEWS\n",
            "EXCEEDED PAGE LIMIT FOR REVIEWS\n",
            "EXCEEDED PAGE LIMIT FOR REVIEWS\n",
            "EXCEEDED PAGE LIMIT FOR REVIEWS\n",
            "EXCEEDED PAGE LIMIT FOR REVIEWS\n",
            "EXCEEDED PAGE LIMIT FOR REVIEWS\n",
            "EXCEEDED PAGE LIMIT FOR REVIEWS\n"
          ]
        }
      ],
      "source": [
        "review_df = create_review_df_from_movie_ids(movie_df.id.values, review_select_fields, page_limit = 10)"
      ]
    },
    {
      "cell_type": "code",
      "execution_count": null,
      "metadata": {
        "colab": {
          "base_uri": "https://localhost:8080/",
          "height": 424
        },
        "id": "r-hBlosdrnhu",
        "outputId": "54b0df35-6324-4529-9b93-d1c9a8a90de8"
      },
      "outputs": [
        {
          "data": {
            "text/html": [
              "\n",
              "  <div id=\"df-1ac909d9-65cd-472e-9868-622830581dd1\" class=\"colab-df-container\">\n",
              "    <div>\n",
              "<style scoped>\n",
              "    .dataframe tbody tr th:only-of-type {\n",
              "        vertical-align: middle;\n",
              "    }\n",
              "\n",
              "    .dataframe tbody tr th {\n",
              "        vertical-align: top;\n",
              "    }\n",
              "\n",
              "    .dataframe thead th {\n",
              "        text-align: right;\n",
              "    }\n",
              "</style>\n",
              "<table border=\"1\" class=\"dataframe\">\n",
              "  <thead>\n",
              "    <tr style=\"text-align: right;\">\n",
              "      <th></th>\n",
              "      <th>id</th>\n",
              "      <th>movieId</th>\n",
              "      <th>title</th>\n",
              "      <th>type</th>\n",
              "      <th>review</th>\n",
              "      <th>author</th>\n",
              "      <th>authorId</th>\n",
              "    </tr>\n",
              "  </thead>\n",
              "  <tbody>\n",
              "    <tr>\n",
              "      <th>0</th>\n",
              "      <td>3324223</td>\n",
              "      <td>326</td>\n",
              "      <td>Главным героем всё это время был не Энди Дюфрейн</td>\n",
              "      <td>Позитивный</td>\n",
              "      <td>Говоря про фильм «Побег из Шоушенка», то я все...</td>\n",
              "      <td>HochuHollywood</td>\n",
              "      <td>1453824.0</td>\n",
              "    </tr>\n",
              "    <tr>\n",
              "      <th>1</th>\n",
              "      <td>3323034</td>\n",
              "      <td>5019944</td>\n",
              "      <td>Даешь работу плутонянининанам! (хе-хе)</td>\n",
              "      <td>Позитивный</td>\n",
              "      <td>Очень понравилась концовка. Очень не понравило...</td>\n",
              "      <td>bluebellaza</td>\n",
              "      <td>1084607.0</td>\n",
              "    </tr>\n",
              "    <tr>\n",
              "      <th>2</th>\n",
              "      <td>3322706</td>\n",
              "      <td>5019944</td>\n",
              "      <td>Новый взгляд на фантастику — Кибердеревня!</td>\n",
              "      <td>Позитивный</td>\n",
              "      <td>Неожиданно классный сериал, сочетающий в себе ...</td>\n",
              "      <td>a.smirnova@creagames.ru</td>\n",
              "      <td>18658956.0</td>\n",
              "    </tr>\n",
              "    <tr>\n",
              "      <th>3</th>\n",
              "      <td>3322405</td>\n",
              "      <td>5019944</td>\n",
              "      <td>Растеряли все полимеры</td>\n",
              "      <td>Нейтральный</td>\n",
              "      <td>Начался сериал бодренько, и серии до пятой я н...</td>\n",
              "      <td>mega-linch</td>\n",
              "      <td>31270117.0</td>\n",
              "    </tr>\n",
              "    <tr>\n",
              "      <th>4</th>\n",
              "      <td>3322252</td>\n",
              "      <td>5019944</td>\n",
              "      <td>Марсианский кукумбер увидел большой экран</td>\n",
              "      <td>Позитивный</td>\n",
              "      <td>Думаю, многие видели короткие ролики, появивши...</td>\n",
              "      <td>barrels-n-bullets</td>\n",
              "      <td>21221018.0</td>\n",
              "    </tr>\n",
              "    <tr>\n",
              "      <th>...</th>\n",
              "      <td>...</td>\n",
              "      <td>...</td>\n",
              "      <td>...</td>\n",
              "      <td>...</td>\n",
              "      <td>...</td>\n",
              "      <td>...</td>\n",
              "      <td>...</td>\n",
              "    </tr>\n",
              "    <tr>\n",
              "      <th>12495</th>\n",
              "      <td>2958066</td>\n",
              "      <td>817509</td>\n",
              "      <td>реально крутой сериал</td>\n",
              "      <td>Позитивный</td>\n",
              "      <td>На самом деле, редко советую кому нормальный с...</td>\n",
              "      <td>Александр Болсуновский - 1520</td>\n",
              "      <td>61330771.0</td>\n",
              "    </tr>\n",
              "    <tr>\n",
              "      <th>12496</th>\n",
              "      <td>2958038</td>\n",
              "      <td>412248</td>\n",
              "      <td>Рецензия на фильм Все умрут, а я останусь</td>\n",
              "      <td>Позитивный</td>\n",
              "      <td>У всех разные ассоциации и воспоминания о школ...</td>\n",
              "      <td>danayassin</td>\n",
              "      <td>65077609.0</td>\n",
              "    </tr>\n",
              "    <tr>\n",
              "      <th>12497</th>\n",
              "      <td>2958010</td>\n",
              "      <td>1190387</td>\n",
              "      <td>Смерть во имя жизни.</td>\n",
              "      <td>Позитивный</td>\n",
              "      <td>Очень странно, что рейтинг настолько низкий. М...</td>\n",
              "      <td>Очарованный_странник</td>\n",
              "      <td>14153751.0</td>\n",
              "    </tr>\n",
              "    <tr>\n",
              "      <th>12498</th>\n",
              "      <td>2957997</td>\n",
              "      <td>412248</td>\n",
              "      <td>Осуждать нельзя, понять</td>\n",
              "      <td>Позитивный</td>\n",
              "      <td>Кажется, что конфликт между родителями и детьм...</td>\n",
              "      <td>Anel Kemeshova</td>\n",
              "      <td>63175641.0</td>\n",
              "    </tr>\n",
              "    <tr>\n",
              "      <th>12499</th>\n",
              "      <td>2957989</td>\n",
              "      <td>933208</td>\n",
              "      <td>Сюжет раскрывает мир</td>\n",
              "      <td>Позитивный</td>\n",
              "      <td>Мало чего приходится ждать от российских блокб...</td>\n",
              "      <td>Елена Вячеславовна Хмельницкая</td>\n",
              "      <td>59159586.0</td>\n",
              "    </tr>\n",
              "  </tbody>\n",
              "</table>\n",
              "<p>12500 rows × 7 columns</p>\n",
              "</div>\n",
              "    <div class=\"colab-df-buttons\">\n",
              "\n",
              "  <div class=\"colab-df-container\">\n",
              "    <button class=\"colab-df-convert\" onclick=\"convertToInteractive('df-1ac909d9-65cd-472e-9868-622830581dd1')\"\n",
              "            title=\"Convert this dataframe to an interactive table.\"\n",
              "            style=\"display:none;\">\n",
              "\n",
              "  <svg xmlns=\"http://www.w3.org/2000/svg\" height=\"24px\" viewBox=\"0 -960 960 960\">\n",
              "    <path d=\"M120-120v-720h720v720H120Zm60-500h600v-160H180v160Zm220 220h160v-160H400v160Zm0 220h160v-160H400v160ZM180-400h160v-160H180v160Zm440 0h160v-160H620v160ZM180-180h160v-160H180v160Zm440 0h160v-160H620v160Z\"/>\n",
              "  </svg>\n",
              "    </button>\n",
              "\n",
              "  <style>\n",
              "    .colab-df-container {\n",
              "      display:flex;\n",
              "      gap: 12px;\n",
              "    }\n",
              "\n",
              "    .colab-df-convert {\n",
              "      background-color: #E8F0FE;\n",
              "      border: none;\n",
              "      border-radius: 50%;\n",
              "      cursor: pointer;\n",
              "      display: none;\n",
              "      fill: #1967D2;\n",
              "      height: 32px;\n",
              "      padding: 0 0 0 0;\n",
              "      width: 32px;\n",
              "    }\n",
              "\n",
              "    .colab-df-convert:hover {\n",
              "      background-color: #E2EBFA;\n",
              "      box-shadow: 0px 1px 2px rgba(60, 64, 67, 0.3), 0px 1px 3px 1px rgba(60, 64, 67, 0.15);\n",
              "      fill: #174EA6;\n",
              "    }\n",
              "\n",
              "    .colab-df-buttons div {\n",
              "      margin-bottom: 4px;\n",
              "    }\n",
              "\n",
              "    [theme=dark] .colab-df-convert {\n",
              "      background-color: #3B4455;\n",
              "      fill: #D2E3FC;\n",
              "    }\n",
              "\n",
              "    [theme=dark] .colab-df-convert:hover {\n",
              "      background-color: #434B5C;\n",
              "      box-shadow: 0px 1px 3px 1px rgba(0, 0, 0, 0.15);\n",
              "      filter: drop-shadow(0px 1px 2px rgba(0, 0, 0, 0.3));\n",
              "      fill: #FFFFFF;\n",
              "    }\n",
              "  </style>\n",
              "\n",
              "    <script>\n",
              "      const buttonEl =\n",
              "        document.querySelector('#df-1ac909d9-65cd-472e-9868-622830581dd1 button.colab-df-convert');\n",
              "      buttonEl.style.display =\n",
              "        google.colab.kernel.accessAllowed ? 'block' : 'none';\n",
              "\n",
              "      async function convertToInteractive(key) {\n",
              "        const element = document.querySelector('#df-1ac909d9-65cd-472e-9868-622830581dd1');\n",
              "        const dataTable =\n",
              "          await google.colab.kernel.invokeFunction('convertToInteractive',\n",
              "                                                    [key], {});\n",
              "        if (!dataTable) return;\n",
              "\n",
              "        const docLinkHtml = 'Like what you see? Visit the ' +\n",
              "          '<a target=\"_blank\" href=https://colab.research.google.com/notebooks/data_table.ipynb>data table notebook</a>'\n",
              "          + ' to learn more about interactive tables.';\n",
              "        element.innerHTML = '';\n",
              "        dataTable['output_type'] = 'display_data';\n",
              "        await google.colab.output.renderOutput(dataTable, element);\n",
              "        const docLink = document.createElement('div');\n",
              "        docLink.innerHTML = docLinkHtml;\n",
              "        element.appendChild(docLink);\n",
              "      }\n",
              "    </script>\n",
              "  </div>\n",
              "\n",
              "\n",
              "<div id=\"df-20480614-69ab-4c81-9e73-453a7bd85808\">\n",
              "  <button class=\"colab-df-quickchart\" onclick=\"quickchart('df-20480614-69ab-4c81-9e73-453a7bd85808')\"\n",
              "            title=\"Suggest charts\"\n",
              "            style=\"display:none;\">\n",
              "\n",
              "<svg xmlns=\"http://www.w3.org/2000/svg\" height=\"24px\"viewBox=\"0 0 24 24\"\n",
              "     width=\"24px\">\n",
              "    <g>\n",
              "        <path d=\"M19 3H5c-1.1 0-2 .9-2 2v14c0 1.1.9 2 2 2h14c1.1 0 2-.9 2-2V5c0-1.1-.9-2-2-2zM9 17H7v-7h2v7zm4 0h-2V7h2v10zm4 0h-2v-4h2v4z\"/>\n",
              "    </g>\n",
              "</svg>\n",
              "  </button>\n",
              "\n",
              "<style>\n",
              "  .colab-df-quickchart {\n",
              "      --bg-color: #E8F0FE;\n",
              "      --fill-color: #1967D2;\n",
              "      --hover-bg-color: #E2EBFA;\n",
              "      --hover-fill-color: #174EA6;\n",
              "      --disabled-fill-color: #AAA;\n",
              "      --disabled-bg-color: #DDD;\n",
              "  }\n",
              "\n",
              "  [theme=dark] .colab-df-quickchart {\n",
              "      --bg-color: #3B4455;\n",
              "      --fill-color: #D2E3FC;\n",
              "      --hover-bg-color: #434B5C;\n",
              "      --hover-fill-color: #FFFFFF;\n",
              "      --disabled-bg-color: #3B4455;\n",
              "      --disabled-fill-color: #666;\n",
              "  }\n",
              "\n",
              "  .colab-df-quickchart {\n",
              "    background-color: var(--bg-color);\n",
              "    border: none;\n",
              "    border-radius: 50%;\n",
              "    cursor: pointer;\n",
              "    display: none;\n",
              "    fill: var(--fill-color);\n",
              "    height: 32px;\n",
              "    padding: 0;\n",
              "    width: 32px;\n",
              "  }\n",
              "\n",
              "  .colab-df-quickchart:hover {\n",
              "    background-color: var(--hover-bg-color);\n",
              "    box-shadow: 0 1px 2px rgba(60, 64, 67, 0.3), 0 1px 3px 1px rgba(60, 64, 67, 0.15);\n",
              "    fill: var(--button-hover-fill-color);\n",
              "  }\n",
              "\n",
              "  .colab-df-quickchart-complete:disabled,\n",
              "  .colab-df-quickchart-complete:disabled:hover {\n",
              "    background-color: var(--disabled-bg-color);\n",
              "    fill: var(--disabled-fill-color);\n",
              "    box-shadow: none;\n",
              "  }\n",
              "\n",
              "  .colab-df-spinner {\n",
              "    border: 2px solid var(--fill-color);\n",
              "    border-color: transparent;\n",
              "    border-bottom-color: var(--fill-color);\n",
              "    animation:\n",
              "      spin 1s steps(1) infinite;\n",
              "  }\n",
              "\n",
              "  @keyframes spin {\n",
              "    0% {\n",
              "      border-color: transparent;\n",
              "      border-bottom-color: var(--fill-color);\n",
              "      border-left-color: var(--fill-color);\n",
              "    }\n",
              "    20% {\n",
              "      border-color: transparent;\n",
              "      border-left-color: var(--fill-color);\n",
              "      border-top-color: var(--fill-color);\n",
              "    }\n",
              "    30% {\n",
              "      border-color: transparent;\n",
              "      border-left-color: var(--fill-color);\n",
              "      border-top-color: var(--fill-color);\n",
              "      border-right-color: var(--fill-color);\n",
              "    }\n",
              "    40% {\n",
              "      border-color: transparent;\n",
              "      border-right-color: var(--fill-color);\n",
              "      border-top-color: var(--fill-color);\n",
              "    }\n",
              "    60% {\n",
              "      border-color: transparent;\n",
              "      border-right-color: var(--fill-color);\n",
              "    }\n",
              "    80% {\n",
              "      border-color: transparent;\n",
              "      border-right-color: var(--fill-color);\n",
              "      border-bottom-color: var(--fill-color);\n",
              "    }\n",
              "    90% {\n",
              "      border-color: transparent;\n",
              "      border-bottom-color: var(--fill-color);\n",
              "    }\n",
              "  }\n",
              "</style>\n",
              "\n",
              "  <script>\n",
              "    async function quickchart(key) {\n",
              "      const quickchartButtonEl =\n",
              "        document.querySelector('#' + key + ' button');\n",
              "      quickchartButtonEl.disabled = true;  // To prevent multiple clicks.\n",
              "      quickchartButtonEl.classList.add('colab-df-spinner');\n",
              "      try {\n",
              "        const charts = await google.colab.kernel.invokeFunction(\n",
              "            'suggestCharts', [key], {});\n",
              "      } catch (error) {\n",
              "        console.error('Error during call to suggestCharts:', error);\n",
              "      }\n",
              "      quickchartButtonEl.classList.remove('colab-df-spinner');\n",
              "      quickchartButtonEl.classList.add('colab-df-quickchart-complete');\n",
              "    }\n",
              "    (() => {\n",
              "      let quickchartButtonEl =\n",
              "        document.querySelector('#df-20480614-69ab-4c81-9e73-453a7bd85808 button');\n",
              "      quickchartButtonEl.style.display =\n",
              "        google.colab.kernel.accessAllowed ? 'block' : 'none';\n",
              "    })();\n",
              "  </script>\n",
              "</div>\n",
              "    </div>\n",
              "  </div>\n"
            ],
            "text/plain": [
              "            id  movieId                                             title  \\\n",
              "0      3324223      326  Главным героем всё это время был не Энди Дюфрейн   \n",
              "1      3323034  5019944            Даешь работу плутонянининанам! (хе-хе)   \n",
              "2      3322706  5019944        Новый взгляд на фантастику — Кибердеревня!   \n",
              "3      3322405  5019944                            Растеряли все полимеры   \n",
              "4      3322252  5019944         Марсианский кукумбер увидел большой экран   \n",
              "...        ...      ...                                               ...   \n",
              "12495  2958066   817509                             реально крутой сериал   \n",
              "12496  2958038   412248         Рецензия на фильм Все умрут, а я останусь   \n",
              "12497  2958010  1190387                              Смерть во имя жизни.   \n",
              "12498  2957997   412248                           Осуждать нельзя, понять   \n",
              "12499  2957989   933208                              Сюжет раскрывает мир   \n",
              "\n",
              "              type                                             review  \\\n",
              "0       Позитивный  Говоря про фильм «Побег из Шоушенка», то я все...   \n",
              "1       Позитивный  Очень понравилась концовка. Очень не понравило...   \n",
              "2       Позитивный  Неожиданно классный сериал, сочетающий в себе ...   \n",
              "3      Нейтральный  Начался сериал бодренько, и серии до пятой я н...   \n",
              "4       Позитивный  Думаю, многие видели короткие ролики, появивши...   \n",
              "...            ...                                                ...   \n",
              "12495   Позитивный  На самом деле, редко советую кому нормальный с...   \n",
              "12496   Позитивный  У всех разные ассоциации и воспоминания о школ...   \n",
              "12497   Позитивный  Очень странно, что рейтинг настолько низкий. М...   \n",
              "12498   Позитивный  Кажется, что конфликт между родителями и детьм...   \n",
              "12499   Позитивный  Мало чего приходится ждать от российских блокб...   \n",
              "\n",
              "                               author    authorId  \n",
              "0                      HochuHollywood   1453824.0  \n",
              "1                         bluebellaza   1084607.0  \n",
              "2             a.smirnova@creagames.ru  18658956.0  \n",
              "3                          mega-linch  31270117.0  \n",
              "4                   barrels-n-bullets  21221018.0  \n",
              "...                               ...         ...  \n",
              "12495   Александр Болсуновский - 1520  61330771.0  \n",
              "12496                      danayassin  65077609.0  \n",
              "12497            Очарованный_странник  14153751.0  \n",
              "12498                  Anel Kemeshova  63175641.0  \n",
              "12499  Елена Вячеславовна Хмельницкая  59159586.0  \n",
              "\n",
              "[12500 rows x 7 columns]"
            ]
          },
          "execution_count": 77,
          "metadata": {},
          "output_type": "execute_result"
        }
      ],
      "source": [
        "review_df"
      ]
    },
    {
      "cell_type": "code",
      "execution_count": null,
      "metadata": {
        "colab": {
          "base_uri": "https://localhost:8080/"
        },
        "id": "goKmwHIgawGj",
        "outputId": "116f7eda-7602-45bc-8413-a12938cfb052"
      },
      "outputs": [
        {
          "data": {
            "text/plain": [
              "2112"
            ]
          },
          "execution_count": 78,
          "metadata": {},
          "output_type": "execute_result"
        }
      ],
      "source": [
        "len(list(set(pd.merge(review_df, movie_df, left_on='movieId', right_on='id', how='left')['name'].values)))"
      ]
    },
    {
      "cell_type": "code",
      "execution_count": null,
      "metadata": {
        "id": "_JaZk2Vcnmwh"
      },
      "outputs": [],
      "source": [
        "movie_df.to_csv(\"movies large.csv\", index=False)"
      ]
    },
    {
      "cell_type": "code",
      "execution_count": null,
      "metadata": {
        "id": "DiSyvzeeZLa1"
      },
      "outputs": [],
      "source": [
        "review_df.to_csv(\"reviews large.csv\", index=False)"
      ]
    },
    {
      "cell_type": "markdown",
      "metadata": {
        "id": "BN7qRIVb4fnm"
      },
      "source": [
        "# Получить датасет из kaggle"
      ]
    },
    {
      "cell_type": "code",
      "execution_count": null,
      "metadata": {
        "id": "tcsZW35P4fK1"
      },
      "outputs": [],
      "source": [
        "!mkdir -p ~/.kaggle\n",
        "!echo '{\"username\":\"goshaserbin\",\"key\":\"\"}' > ~/.kaggle/kaggle.json\n",
        "!chmod 600 /root/.kaggle/kaggle.json"
      ]
    },
    {
      "cell_type": "code",
      "execution_count": null,
      "metadata": {
        "colab": {
          "base_uri": "https://localhost:8080/"
        },
        "id": "oMUDB-gh4s-P",
        "outputId": "8651ed3d-a945-46b4-9825-a7650c98a0e0"
      },
      "outputs": [
        {
          "name": "stdout",
          "output_type": "stream",
          "text": [
            "Downloading movies.zip to /content\n",
            " 94% 41.0M/43.8M [00:03<00:00, 14.9MB/s]\n",
            "100% 43.8M/43.8M [00:03<00:00, 15.1MB/s]\n",
            "Archive:  movies.zip\n",
            "  inflating: movies large.csv        \n",
            "  inflating: movies mini.csv         \n",
            "  inflating: movies.csv              \n",
            "  inflating: reviews large.csv       \n",
            "  inflating: reviews mini.csv        \n",
            "  inflating: reviews.csv             \n",
            "  inflating: validation.csv          \n"
          ]
        }
      ],
      "source": [
        "!kaggle datasets download -d goshaserbin/movies\n",
        "!unzip movies"
      ]
    },
    {
      "cell_type": "code",
      "execution_count": null,
      "metadata": {
        "id": "hCQYzq0ZLeax"
      },
      "outputs": [],
      "source": [
        "movie_df = pd.read_csv(\"movies large.csv\")\n",
        "review_df = pd.read_csv(\"reviews large.csv\")"
      ]
    },
    {
      "cell_type": "code",
      "execution_count": null,
      "metadata": {
        "id": "m1O_5TGxkXTU"
      },
      "outputs": [],
      "source": [
        "val_df = pd.read_csv(\"validation.csv\")\n",
        "val_df['movieId'] = pd.merge(val_df, movie_df, left_on='movieName', right_on='name', how='left')['id']"
      ]
    },
    {
      "cell_type": "markdown",
      "metadata": {
        "id": "H6lPHpphekJd"
      },
      "source": [
        "# Анализ данных"
      ]
    },
    {
      "cell_type": "code",
      "execution_count": null,
      "metadata": {
        "colab": {
          "base_uri": "https://localhost:8080/"
        },
        "id": "PmghWr3BeNAQ",
        "outputId": "9e03b5e4-4e33-4d2a-b4bf-3d7dcff60b46"
      },
      "outputs": [
        {
          "data": {
            "text/plain": [
              "array(['Коралина в Стране Кошмаров', 'История игрушек: Большой побег',\n",
              "       'Она', 'После', 'Мег: Монстр глубины', 'Призрак', 'Утиные истории',\n",
              "       'Великолепный век', 'Уроки фарси', 'Отбросы', 'Маленькие женщины',\n",
              "       'Голодные игры: Сойка-пересмешница. Часть I', 'Уикенд с батей',\n",
              "       'Том и Джерри', 'Впритык', 'Матрица: Революция', 'Секс по дружбе',\n",
              "       'Лжец, лжец', 'Самый пьяный округ в мире', 'Оффлайн', 'Пацаны',\n",
              "       'Умница Уилл Хантинг', 'Заклятие', '28 дней спустя', 'Русалочка',\n",
              "       'Экипаж', 'Бесконечность', 'Хищник', 'Зов предков',\n",
              "       'Скотт Пилигрим против всех', 'Чудо-женщина', 'Анастасия',\n",
              "       'Ветреная река', 'Храбрая сердцем', '1408', 'Бамблби',\n",
              "       'Сумерки. Сага. Новолуние',\n",
              "       'Шерлок Холмс и доктор Ватсон: Знакомство', 'Интервью с вампиром',\n",
              "       'Морозко', 'Отличница лёгкого поведения', 'Белое солнце пустыни',\n",
              "       'Мизантроп', 'Элизиум: Рай не на Земле', 'Летчик', 'Шазам!',\n",
              "       'Знамение', 'Аферистка', 'Звездный путь', 'Мой сосед Тоторо',\n",
              "       'Пиджак', 'Парк Юрского периода',\n",
              "       'Добро пожаловать, или Посторонним вход воспрещен',\n",
              "       'Мастер и Маргарита', 'Лука', 'Офицеры', 'Хороший доктор',\n",
              "       'Армагеддон', 'Очень плохая училка', 'Искупление', 'Гарфилд',\n",
              "       'Декстер', 'Вселенная Стивена Хокинга', 'Полночь в Париже',\n",
              "       'Код Да Винчи', 'Рассказ служанки', 'Три метра над уровнем неба',\n",
              "       'Мгла', 'Эйс Вентура: Розыск домашних животных', 'Дом у озера',\n",
              "       'Мортал Комбат', 'Родные', 'Рэмпейдж', 'Неудержимые',\n",
              "       'Остров сокровищ', 'Убить Билла 2', 'Покемон. Детектив Пикачу',\n",
              "       'Бобик в гостях у Барбоса', 'Платформа', 'Они сражались за Родину',\n",
              "       'Бёрдмэн', 'Надвое', 'Ивановы-Ивановы',\n",
              "       'Мальчишник 2: Из Вегаса в Бангкок', 'Мой любимый враг',\n",
              "       'Форсаж 8', 'Дьявол в деталях', 'Дружить по-русски!',\n",
              "       '1941. Крылья над Берлином', 'Чернобыль: Зона отчуждения',\n",
              "       'Берегись автомобиля', 'Интерны', 'Подмена', 'Открытие ведьм',\n",
              "       'Стартрек: Возмездие', 'Невероятный Халк', 'Семь психопатов',\n",
              "       'Кощей. Начало', 'Воин', 'Лунтик и его друзья'], dtype=object)"
            ]
          },
          "execution_count": 139,
          "metadata": {},
          "output_type": "execute_result"
        }
      ],
      "source": [
        "movie_df.name.unique()[600:700]"
      ]
    },
    {
      "cell_type": "code",
      "execution_count": null,
      "metadata": {
        "colab": {
          "base_uri": "https://localhost:8080/",
          "height": 424
        },
        "id": "XBf0mbpGeruL",
        "outputId": "0ec0a249-8120-4d52-8212-03add8cca07a"
      },
      "outputs": [
        {
          "data": {
            "text/html": [
              "\n",
              "  <div id=\"df-036c2ed0-aeee-4c89-a406-db6ca173c176\" class=\"colab-df-container\">\n",
              "    <div>\n",
              "<style scoped>\n",
              "    .dataframe tbody tr th:only-of-type {\n",
              "        vertical-align: middle;\n",
              "    }\n",
              "\n",
              "    .dataframe tbody tr th {\n",
              "        vertical-align: top;\n",
              "    }\n",
              "\n",
              "    .dataframe thead th {\n",
              "        text-align: right;\n",
              "    }\n",
              "</style>\n",
              "<table border=\"1\" class=\"dataframe\">\n",
              "  <thead>\n",
              "    <tr style=\"text-align: right;\">\n",
              "      <th></th>\n",
              "      <th>id</th>\n",
              "      <th>movieId</th>\n",
              "      <th>title</th>\n",
              "      <th>type</th>\n",
              "      <th>review</th>\n",
              "      <th>author</th>\n",
              "      <th>authorId</th>\n",
              "    </tr>\n",
              "  </thead>\n",
              "  <tbody>\n",
              "    <tr>\n",
              "      <th>0</th>\n",
              "      <td>3324223</td>\n",
              "      <td>326</td>\n",
              "      <td>Главным героем всё это время был не Энди Дюфрейн</td>\n",
              "      <td>Позитивный</td>\n",
              "      <td>Говоря про фильм «Побег из Шоушенка», то я все...</td>\n",
              "      <td>HochuHollywood</td>\n",
              "      <td>1453824.0</td>\n",
              "    </tr>\n",
              "    <tr>\n",
              "      <th>1</th>\n",
              "      <td>3323034</td>\n",
              "      <td>5019944</td>\n",
              "      <td>Даешь работу плутонянининанам! (хе-хе)</td>\n",
              "      <td>Позитивный</td>\n",
              "      <td>Очень понравилась концовка. Очень не понравило...</td>\n",
              "      <td>bluebellaza</td>\n",
              "      <td>1084607.0</td>\n",
              "    </tr>\n",
              "    <tr>\n",
              "      <th>2</th>\n",
              "      <td>3322706</td>\n",
              "      <td>5019944</td>\n",
              "      <td>Новый взгляд на фантастику — Кибердеревня!</td>\n",
              "      <td>Позитивный</td>\n",
              "      <td>Неожиданно классный сериал, сочетающий в себе ...</td>\n",
              "      <td>a.smirnova@creagames.ru</td>\n",
              "      <td>18658956.0</td>\n",
              "    </tr>\n",
              "    <tr>\n",
              "      <th>3</th>\n",
              "      <td>3322405</td>\n",
              "      <td>5019944</td>\n",
              "      <td>Растеряли все полимеры</td>\n",
              "      <td>Нейтральный</td>\n",
              "      <td>Начался сериал бодренько, и серии до пятой я н...</td>\n",
              "      <td>mega-linch</td>\n",
              "      <td>31270117.0</td>\n",
              "    </tr>\n",
              "    <tr>\n",
              "      <th>4</th>\n",
              "      <td>3322252</td>\n",
              "      <td>5019944</td>\n",
              "      <td>Марсианский кукумбер увидел большой экран</td>\n",
              "      <td>Позитивный</td>\n",
              "      <td>Думаю, многие видели короткие ролики, появивши...</td>\n",
              "      <td>barrels-n-bullets</td>\n",
              "      <td>21221018.0</td>\n",
              "    </tr>\n",
              "    <tr>\n",
              "      <th>...</th>\n",
              "      <td>...</td>\n",
              "      <td>...</td>\n",
              "      <td>...</td>\n",
              "      <td>...</td>\n",
              "      <td>...</td>\n",
              "      <td>...</td>\n",
              "      <td>...</td>\n",
              "    </tr>\n",
              "    <tr>\n",
              "      <th>12495</th>\n",
              "      <td>2958066</td>\n",
              "      <td>817509</td>\n",
              "      <td>реально крутой сериал</td>\n",
              "      <td>Позитивный</td>\n",
              "      <td>На самом деле, редко советую кому нормальный с...</td>\n",
              "      <td>Александр Болсуновский - 1520</td>\n",
              "      <td>61330771.0</td>\n",
              "    </tr>\n",
              "    <tr>\n",
              "      <th>12496</th>\n",
              "      <td>2958038</td>\n",
              "      <td>412248</td>\n",
              "      <td>Рецензия на фильм Все умрут, а я останусь</td>\n",
              "      <td>Позитивный</td>\n",
              "      <td>У всех разные ассоциации и воспоминания о школ...</td>\n",
              "      <td>danayassin</td>\n",
              "      <td>65077609.0</td>\n",
              "    </tr>\n",
              "    <tr>\n",
              "      <th>12497</th>\n",
              "      <td>2958010</td>\n",
              "      <td>1190387</td>\n",
              "      <td>Смерть во имя жизни.</td>\n",
              "      <td>Позитивный</td>\n",
              "      <td>Очень странно, что рейтинг настолько низкий. М...</td>\n",
              "      <td>Очарованный_странник</td>\n",
              "      <td>14153751.0</td>\n",
              "    </tr>\n",
              "    <tr>\n",
              "      <th>12498</th>\n",
              "      <td>2957997</td>\n",
              "      <td>412248</td>\n",
              "      <td>Осуждать нельзя, понять</td>\n",
              "      <td>Позитивный</td>\n",
              "      <td>Кажется, что конфликт между родителями и детьм...</td>\n",
              "      <td>Anel Kemeshova</td>\n",
              "      <td>63175641.0</td>\n",
              "    </tr>\n",
              "    <tr>\n",
              "      <th>12499</th>\n",
              "      <td>2957989</td>\n",
              "      <td>933208</td>\n",
              "      <td>Сюжет раскрывает мир</td>\n",
              "      <td>Позитивный</td>\n",
              "      <td>Мало чего приходится ждать от российских блокб...</td>\n",
              "      <td>Елена Вячеславовна Хмельницкая</td>\n",
              "      <td>59159586.0</td>\n",
              "    </tr>\n",
              "  </tbody>\n",
              "</table>\n",
              "<p>12500 rows × 7 columns</p>\n",
              "</div>\n",
              "    <div class=\"colab-df-buttons\">\n",
              "\n",
              "  <div class=\"colab-df-container\">\n",
              "    <button class=\"colab-df-convert\" onclick=\"convertToInteractive('df-036c2ed0-aeee-4c89-a406-db6ca173c176')\"\n",
              "            title=\"Convert this dataframe to an interactive table.\"\n",
              "            style=\"display:none;\">\n",
              "\n",
              "  <svg xmlns=\"http://www.w3.org/2000/svg\" height=\"24px\" viewBox=\"0 -960 960 960\">\n",
              "    <path d=\"M120-120v-720h720v720H120Zm60-500h600v-160H180v160Zm220 220h160v-160H400v160Zm0 220h160v-160H400v160ZM180-400h160v-160H180v160Zm440 0h160v-160H620v160ZM180-180h160v-160H180v160Zm440 0h160v-160H620v160Z\"/>\n",
              "  </svg>\n",
              "    </button>\n",
              "\n",
              "  <style>\n",
              "    .colab-df-container {\n",
              "      display:flex;\n",
              "      gap: 12px;\n",
              "    }\n",
              "\n",
              "    .colab-df-convert {\n",
              "      background-color: #E8F0FE;\n",
              "      border: none;\n",
              "      border-radius: 50%;\n",
              "      cursor: pointer;\n",
              "      display: none;\n",
              "      fill: #1967D2;\n",
              "      height: 32px;\n",
              "      padding: 0 0 0 0;\n",
              "      width: 32px;\n",
              "    }\n",
              "\n",
              "    .colab-df-convert:hover {\n",
              "      background-color: #E2EBFA;\n",
              "      box-shadow: 0px 1px 2px rgba(60, 64, 67, 0.3), 0px 1px 3px 1px rgba(60, 64, 67, 0.15);\n",
              "      fill: #174EA6;\n",
              "    }\n",
              "\n",
              "    .colab-df-buttons div {\n",
              "      margin-bottom: 4px;\n",
              "    }\n",
              "\n",
              "    [theme=dark] .colab-df-convert {\n",
              "      background-color: #3B4455;\n",
              "      fill: #D2E3FC;\n",
              "    }\n",
              "\n",
              "    [theme=dark] .colab-df-convert:hover {\n",
              "      background-color: #434B5C;\n",
              "      box-shadow: 0px 1px 3px 1px rgba(0, 0, 0, 0.15);\n",
              "      filter: drop-shadow(0px 1px 2px rgba(0, 0, 0, 0.3));\n",
              "      fill: #FFFFFF;\n",
              "    }\n",
              "  </style>\n",
              "\n",
              "    <script>\n",
              "      const buttonEl =\n",
              "        document.querySelector('#df-036c2ed0-aeee-4c89-a406-db6ca173c176 button.colab-df-convert');\n",
              "      buttonEl.style.display =\n",
              "        google.colab.kernel.accessAllowed ? 'block' : 'none';\n",
              "\n",
              "      async function convertToInteractive(key) {\n",
              "        const element = document.querySelector('#df-036c2ed0-aeee-4c89-a406-db6ca173c176');\n",
              "        const dataTable =\n",
              "          await google.colab.kernel.invokeFunction('convertToInteractive',\n",
              "                                                    [key], {});\n",
              "        if (!dataTable) return;\n",
              "\n",
              "        const docLinkHtml = 'Like what you see? Visit the ' +\n",
              "          '<a target=\"_blank\" href=https://colab.research.google.com/notebooks/data_table.ipynb>data table notebook</a>'\n",
              "          + ' to learn more about interactive tables.';\n",
              "        element.innerHTML = '';\n",
              "        dataTable['output_type'] = 'display_data';\n",
              "        await google.colab.output.renderOutput(dataTable, element);\n",
              "        const docLink = document.createElement('div');\n",
              "        docLink.innerHTML = docLinkHtml;\n",
              "        element.appendChild(docLink);\n",
              "      }\n",
              "    </script>\n",
              "  </div>\n",
              "\n",
              "\n",
              "<div id=\"df-fa95220c-1f2a-4c4d-af81-0ff863e8ad67\">\n",
              "  <button class=\"colab-df-quickchart\" onclick=\"quickchart('df-fa95220c-1f2a-4c4d-af81-0ff863e8ad67')\"\n",
              "            title=\"Suggest charts\"\n",
              "            style=\"display:none;\">\n",
              "\n",
              "<svg xmlns=\"http://www.w3.org/2000/svg\" height=\"24px\"viewBox=\"0 0 24 24\"\n",
              "     width=\"24px\">\n",
              "    <g>\n",
              "        <path d=\"M19 3H5c-1.1 0-2 .9-2 2v14c0 1.1.9 2 2 2h14c1.1 0 2-.9 2-2V5c0-1.1-.9-2-2-2zM9 17H7v-7h2v7zm4 0h-2V7h2v10zm4 0h-2v-4h2v4z\"/>\n",
              "    </g>\n",
              "</svg>\n",
              "  </button>\n",
              "\n",
              "<style>\n",
              "  .colab-df-quickchart {\n",
              "      --bg-color: #E8F0FE;\n",
              "      --fill-color: #1967D2;\n",
              "      --hover-bg-color: #E2EBFA;\n",
              "      --hover-fill-color: #174EA6;\n",
              "      --disabled-fill-color: #AAA;\n",
              "      --disabled-bg-color: #DDD;\n",
              "  }\n",
              "\n",
              "  [theme=dark] .colab-df-quickchart {\n",
              "      --bg-color: #3B4455;\n",
              "      --fill-color: #D2E3FC;\n",
              "      --hover-bg-color: #434B5C;\n",
              "      --hover-fill-color: #FFFFFF;\n",
              "      --disabled-bg-color: #3B4455;\n",
              "      --disabled-fill-color: #666;\n",
              "  }\n",
              "\n",
              "  .colab-df-quickchart {\n",
              "    background-color: var(--bg-color);\n",
              "    border: none;\n",
              "    border-radius: 50%;\n",
              "    cursor: pointer;\n",
              "    display: none;\n",
              "    fill: var(--fill-color);\n",
              "    height: 32px;\n",
              "    padding: 0;\n",
              "    width: 32px;\n",
              "  }\n",
              "\n",
              "  .colab-df-quickchart:hover {\n",
              "    background-color: var(--hover-bg-color);\n",
              "    box-shadow: 0 1px 2px rgba(60, 64, 67, 0.3), 0 1px 3px 1px rgba(60, 64, 67, 0.15);\n",
              "    fill: var(--button-hover-fill-color);\n",
              "  }\n",
              "\n",
              "  .colab-df-quickchart-complete:disabled,\n",
              "  .colab-df-quickchart-complete:disabled:hover {\n",
              "    background-color: var(--disabled-bg-color);\n",
              "    fill: var(--disabled-fill-color);\n",
              "    box-shadow: none;\n",
              "  }\n",
              "\n",
              "  .colab-df-spinner {\n",
              "    border: 2px solid var(--fill-color);\n",
              "    border-color: transparent;\n",
              "    border-bottom-color: var(--fill-color);\n",
              "    animation:\n",
              "      spin 1s steps(1) infinite;\n",
              "  }\n",
              "\n",
              "  @keyframes spin {\n",
              "    0% {\n",
              "      border-color: transparent;\n",
              "      border-bottom-color: var(--fill-color);\n",
              "      border-left-color: var(--fill-color);\n",
              "    }\n",
              "    20% {\n",
              "      border-color: transparent;\n",
              "      border-left-color: var(--fill-color);\n",
              "      border-top-color: var(--fill-color);\n",
              "    }\n",
              "    30% {\n",
              "      border-color: transparent;\n",
              "      border-left-color: var(--fill-color);\n",
              "      border-top-color: var(--fill-color);\n",
              "      border-right-color: var(--fill-color);\n",
              "    }\n",
              "    40% {\n",
              "      border-color: transparent;\n",
              "      border-right-color: var(--fill-color);\n",
              "      border-top-color: var(--fill-color);\n",
              "    }\n",
              "    60% {\n",
              "      border-color: transparent;\n",
              "      border-right-color: var(--fill-color);\n",
              "    }\n",
              "    80% {\n",
              "      border-color: transparent;\n",
              "      border-right-color: var(--fill-color);\n",
              "      border-bottom-color: var(--fill-color);\n",
              "    }\n",
              "    90% {\n",
              "      border-color: transparent;\n",
              "      border-bottom-color: var(--fill-color);\n",
              "    }\n",
              "  }\n",
              "</style>\n",
              "\n",
              "  <script>\n",
              "    async function quickchart(key) {\n",
              "      const quickchartButtonEl =\n",
              "        document.querySelector('#' + key + ' button');\n",
              "      quickchartButtonEl.disabled = true;  // To prevent multiple clicks.\n",
              "      quickchartButtonEl.classList.add('colab-df-spinner');\n",
              "      try {\n",
              "        const charts = await google.colab.kernel.invokeFunction(\n",
              "            'suggestCharts', [key], {});\n",
              "      } catch (error) {\n",
              "        console.error('Error during call to suggestCharts:', error);\n",
              "      }\n",
              "      quickchartButtonEl.classList.remove('colab-df-spinner');\n",
              "      quickchartButtonEl.classList.add('colab-df-quickchart-complete');\n",
              "    }\n",
              "    (() => {\n",
              "      let quickchartButtonEl =\n",
              "        document.querySelector('#df-fa95220c-1f2a-4c4d-af81-0ff863e8ad67 button');\n",
              "      quickchartButtonEl.style.display =\n",
              "        google.colab.kernel.accessAllowed ? 'block' : 'none';\n",
              "    })();\n",
              "  </script>\n",
              "</div>\n",
              "    </div>\n",
              "  </div>\n"
            ],
            "text/plain": [
              "            id  movieId                                             title  \\\n",
              "0      3324223      326  Главным героем всё это время был не Энди Дюфрейн   \n",
              "1      3323034  5019944            Даешь работу плутонянининанам! (хе-хе)   \n",
              "2      3322706  5019944        Новый взгляд на фантастику — Кибердеревня!   \n",
              "3      3322405  5019944                            Растеряли все полимеры   \n",
              "4      3322252  5019944         Марсианский кукумбер увидел большой экран   \n",
              "...        ...      ...                                               ...   \n",
              "12495  2958066   817509                             реально крутой сериал   \n",
              "12496  2958038   412248         Рецензия на фильм Все умрут, а я останусь   \n",
              "12497  2958010  1190387                              Смерть во имя жизни.   \n",
              "12498  2957997   412248                           Осуждать нельзя, понять   \n",
              "12499  2957989   933208                              Сюжет раскрывает мир   \n",
              "\n",
              "              type                                             review  \\\n",
              "0       Позитивный  Говоря про фильм «Побег из Шоушенка», то я все...   \n",
              "1       Позитивный  Очень понравилась концовка. Очень не понравило...   \n",
              "2       Позитивный  Неожиданно классный сериал, сочетающий в себе ...   \n",
              "3      Нейтральный  Начался сериал бодренько, и серии до пятой я н...   \n",
              "4       Позитивный  Думаю, многие видели короткие ролики, появивши...   \n",
              "...            ...                                                ...   \n",
              "12495   Позитивный  На самом деле, редко советую кому нормальный с...   \n",
              "12496   Позитивный  У всех разные ассоциации и воспоминания о школ...   \n",
              "12497   Позитивный  Очень странно, что рейтинг настолько низкий. М...   \n",
              "12498   Позитивный  Кажется, что конфликт между родителями и детьм...   \n",
              "12499   Позитивный  Мало чего приходится ждать от российских блокб...   \n",
              "\n",
              "                               author    authorId  \n",
              "0                      HochuHollywood   1453824.0  \n",
              "1                         bluebellaza   1084607.0  \n",
              "2             a.smirnova@creagames.ru  18658956.0  \n",
              "3                          mega-linch  31270117.0  \n",
              "4                   barrels-n-bullets  21221018.0  \n",
              "...                               ...         ...  \n",
              "12495   Александр Болсуновский - 1520  61330771.0  \n",
              "12496                      danayassin  65077609.0  \n",
              "12497            Очарованный_странник  14153751.0  \n",
              "12498                  Anel Kemeshova  63175641.0  \n",
              "12499  Елена Вячеславовна Хмельницкая  59159586.0  \n",
              "\n",
              "[12500 rows x 7 columns]"
            ]
          },
          "execution_count": 140,
          "metadata": {},
          "output_type": "execute_result"
        }
      ],
      "source": [
        "review_df"
      ]
    },
    {
      "cell_type": "code",
      "execution_count": null,
      "metadata": {
        "colab": {
          "base_uri": "https://localhost:8080/",
          "height": 1000
        },
        "id": "6O6hDLlqhAJS",
        "outputId": "ebbd0ecc-d680-4017-f3ef-41660ab0cfbc"
      },
      "outputs": [
        {
          "data": {
            "text/html": [
              "\n",
              "  <div id=\"df-b106d265-5da6-4099-bae3-ca07d266a91c\" class=\"colab-df-container\">\n",
              "    <div>\n",
              "<style scoped>\n",
              "    .dataframe tbody tr th:only-of-type {\n",
              "        vertical-align: middle;\n",
              "    }\n",
              "\n",
              "    .dataframe tbody tr th {\n",
              "        vertical-align: top;\n",
              "    }\n",
              "\n",
              "    .dataframe thead th {\n",
              "        text-align: right;\n",
              "    }\n",
              "</style>\n",
              "<table border=\"1\" class=\"dataframe\">\n",
              "  <thead>\n",
              "    <tr style=\"text-align: right;\">\n",
              "      <th></th>\n",
              "      <th>review</th>\n",
              "      <th>movieName</th>\n",
              "      <th>movieId</th>\n",
              "    </tr>\n",
              "  </thead>\n",
              "  <tbody>\n",
              "    <tr>\n",
              "      <th>0</th>\n",
              "      <td>Это аниме повествует об атаке гигантских челов...</td>\n",
              "      <td>Атака титанов</td>\n",
              "      <td>749374</td>\n",
              "    </tr>\n",
              "    <tr>\n",
              "      <th>1</th>\n",
              "      <td>В этом биографическом фильме рассказывается о ...</td>\n",
              "      <td>Богемская рапсодия</td>\n",
              "      <td>568289</td>\n",
              "    </tr>\n",
              "    <tr>\n",
              "      <th>2</th>\n",
              "      <td>История про человека, который решил кардинальн...</td>\n",
              "      <td>Бойцовский клуб</td>\n",
              "      <td>361</td>\n",
              "    </tr>\n",
              "    <tr>\n",
              "      <th>3</th>\n",
              "      <td>Добрый мультик про робота-мусорщика и несерьез...</td>\n",
              "      <td>ВАЛЛ·И</td>\n",
              "      <td>279102</td>\n",
              "    </tr>\n",
              "    <tr>\n",
              "      <th>4</th>\n",
              "      <td>Фильм-биография про брокера. В фильме большое ...</td>\n",
              "      <td>Волк с Уолл-стрит</td>\n",
              "      <td>462682</td>\n",
              "    </tr>\n",
              "    <tr>\n",
              "      <th>5</th>\n",
              "      <td>Фильм по известной серии книг про особенного р...</td>\n",
              "      <td>Гарри Поттер и философский камень</td>\n",
              "      <td>689</td>\n",
              "    </tr>\n",
              "    <tr>\n",
              "      <th>6</th>\n",
              "      <td>Старый фильм по книге Стивена Кинга, в котором...</td>\n",
              "      <td>Зеленая миля</td>\n",
              "      <td>435</td>\n",
              "    </tr>\n",
              "    <tr>\n",
              "      <th>7</th>\n",
              "      <td>В недалеком будущем наша планета стала практич...</td>\n",
              "      <td>Интерстеллар</td>\n",
              "      <td>258687</td>\n",
              "    </tr>\n",
              "    <tr>\n",
              "      <th>8</th>\n",
              "      <td>Фильм по книге. Рассказана история детектива, ...</td>\n",
              "      <td>Остров проклятых</td>\n",
              "      <td>397667</td>\n",
              "    </tr>\n",
              "    <tr>\n",
              "      <th>9</th>\n",
              "      <td>Актер из человека паука в фильме про войну</td>\n",
              "      <td>По соображениям совести</td>\n",
              "      <td>649917</td>\n",
              "    </tr>\n",
              "    <tr>\n",
              "      <th>10</th>\n",
              "      <td>Актер из человека паука помогает бороться прот...</td>\n",
              "      <td>По соображениям совести</td>\n",
              "      <td>649917</td>\n",
              "    </tr>\n",
              "    <tr>\n",
              "      <th>11</th>\n",
              "      <td>Мультик про крысу, которая любила готовить и п...</td>\n",
              "      <td>Рататуй</td>\n",
              "      <td>89514</td>\n",
              "    </tr>\n",
              "    <tr>\n",
              "      <th>12</th>\n",
              "      <td>Супер популярный фильм о затонувшем корабле и ...</td>\n",
              "      <td>Титаник</td>\n",
              "      <td>2213</td>\n",
              "    </tr>\n",
              "    <tr>\n",
              "      <th>13</th>\n",
              "      <td>Мультик про огра, живущего на болоте</td>\n",
              "      <td>Шрэк</td>\n",
              "      <td>430</td>\n",
              "    </tr>\n",
              "    <tr>\n",
              "      <th>14</th>\n",
              "      <td>Ужастик от Стивена Кинга про существо, которое...</td>\n",
              "      <td>Оно</td>\n",
              "      <td>453397</td>\n",
              "    </tr>\n",
              "    <tr>\n",
              "      <th>15</th>\n",
              "      <td>Группа низкорослых людей отправляется в поход,...</td>\n",
              "      <td>Властелин колец: Братство Кольца</td>\n",
              "      <td>328</td>\n",
              "    </tr>\n",
              "    <tr>\n",
              "      <th>16</th>\n",
              "      <td>Очень толстые люди сбегают с Земли, чтобы в ко...</td>\n",
              "      <td>ВАЛЛ·И</td>\n",
              "      <td>279102</td>\n",
              "    </tr>\n",
              "    <tr>\n",
              "      <th>17</th>\n",
              "      <td>Безответственная семья, безответственный ребен...</td>\n",
              "      <td>Один дома</td>\n",
              "      <td>8124</td>\n",
              "    </tr>\n",
              "    <tr>\n",
              "      <th>18</th>\n",
              "      <td>Мизантроп, живущий поодаль от городской суеты ...</td>\n",
              "      <td>Шрэк</td>\n",
              "      <td>430</td>\n",
              "    </tr>\n",
              "    <tr>\n",
              "      <th>19</th>\n",
              "      <td>Фильм про то как после распространение зомби-в...</td>\n",
              "      <td>Я — легенда</td>\n",
              "      <td>195524</td>\n",
              "    </tr>\n",
              "    <tr>\n",
              "      <th>20</th>\n",
              "      <td>Главный герой — мальчик из бедной семьи, наход...</td>\n",
              "      <td>Чарли и шоколадная фабрика</td>\n",
              "      <td>38905</td>\n",
              "    </tr>\n",
              "    <tr>\n",
              "      <th>21</th>\n",
              "      <td>Человек изначально родился старым, а потом с к...</td>\n",
              "      <td>Загадочная история Бенджамина Баттона</td>\n",
              "      <td>81555</td>\n",
              "    </tr>\n",
              "    <tr>\n",
              "      <th>22</th>\n",
              "      <td>Фильм, действие которого происходит во вселенн...</td>\n",
              "      <td>Фантастические твари и где они обитают</td>\n",
              "      <td>797840</td>\n",
              "    </tr>\n",
              "    <tr>\n",
              "      <th>23</th>\n",
              "      <td>Молодой человек хочет стать крутым барабанщико...</td>\n",
              "      <td>Одержимость</td>\n",
              "      <td>725190</td>\n",
              "    </tr>\n",
              "    <tr>\n",
              "      <th>24</th>\n",
              "      <td>Фильм, в котором показана ужасная сторона прин...</td>\n",
              "      <td>Реквием по мечте</td>\n",
              "      <td>23737</td>\n",
              "    </tr>\n",
              "    <tr>\n",
              "      <th>25</th>\n",
              "      <td>Мультик про разговаривающие машины. Главный ге...</td>\n",
              "      <td>Тачки</td>\n",
              "      <td>367</td>\n",
              "    </tr>\n",
              "    <tr>\n",
              "      <th>26</th>\n",
              "      <td>Мамонт, ленивец и саблезубый тигр спасают чело...</td>\n",
              "      <td>Ледниковый период</td>\n",
              "      <td>61249</td>\n",
              "    </tr>\n",
              "    <tr>\n",
              "      <th>27</th>\n",
              "      <td>Мультик про панду, которая оказалась избранной...</td>\n",
              "      <td>Кунг-фу Панда</td>\n",
              "      <td>707</td>\n",
              "    </tr>\n",
              "    <tr>\n",
              "      <th>28</th>\n",
              "      <td>В этом старом советском фильме показаны приклю...</td>\n",
              "      <td>12 стульев</td>\n",
              "      <td>103734</td>\n",
              "    </tr>\n",
              "    <tr>\n",
              "      <th>29</th>\n",
              "      <td>Очень популярный мультик про желтую губку, жив...</td>\n",
              "      <td>Губка Боб квадратные штаны</td>\n",
              "      <td>46789</td>\n",
              "    </tr>\n",
              "    <tr>\n",
              "      <th>30</th>\n",
              "      <td>Мрачный мультик, главный герой, перед своей св...</td>\n",
              "      <td>Труп невесты</td>\n",
              "      <td>77270</td>\n",
              "    </tr>\n",
              "    <tr>\n",
              "      <th>31</th>\n",
              "      <td>У главного героя ножницы вместо рук, в конце ф...</td>\n",
              "      <td>Эдвард руки-ножницы</td>\n",
              "      <td>161268</td>\n",
              "    </tr>\n",
              "    <tr>\n",
              "      <th>32</th>\n",
              "      <td>Фильм, снятый по книге, в котором на землю при...</td>\n",
              "      <td>Война миров</td>\n",
              "      <td>77548</td>\n",
              "    </tr>\n",
              "    <tr>\n",
              "      <th>33</th>\n",
              "      <td>Говорящий рыжий кот, который любит лазанью</td>\n",
              "      <td>Гарфилд</td>\n",
              "      <td>8421</td>\n",
              "    </tr>\n",
              "    <tr>\n",
              "      <th>34</th>\n",
              "      <td>Какой-то ученый воссоздал динозавров по сохран...</td>\n",
              "      <td>Парк Юрского периода</td>\n",
              "      <td>81289</td>\n",
              "    </tr>\n",
              "    <tr>\n",
              "      <th>35</th>\n",
              "      <td>Российский сериал про молодых врачей, который ...</td>\n",
              "      <td>Интерны</td>\n",
              "      <td>8932</td>\n",
              "    </tr>\n",
              "    <tr>\n",
              "      <th>36</th>\n",
              "      <td>Фильм ужасы про то как весь мир накрыл туман, ...</td>\n",
              "      <td>Мгла</td>\n",
              "      <td>7121</td>\n",
              "    </tr>\n",
              "    <tr>\n",
              "      <th>37</th>\n",
              "      <td>Старый добрый советский мультик про людей, кот...</td>\n",
              "      <td>Остров сокровищ</td>\n",
              "      <td>501998</td>\n",
              "    </tr>\n",
              "  </tbody>\n",
              "</table>\n",
              "</div>\n",
              "    <div class=\"colab-df-buttons\">\n",
              "\n",
              "  <div class=\"colab-df-container\">\n",
              "    <button class=\"colab-df-convert\" onclick=\"convertToInteractive('df-b106d265-5da6-4099-bae3-ca07d266a91c')\"\n",
              "            title=\"Convert this dataframe to an interactive table.\"\n",
              "            style=\"display:none;\">\n",
              "\n",
              "  <svg xmlns=\"http://www.w3.org/2000/svg\" height=\"24px\" viewBox=\"0 -960 960 960\">\n",
              "    <path d=\"M120-120v-720h720v720H120Zm60-500h600v-160H180v160Zm220 220h160v-160H400v160Zm0 220h160v-160H400v160ZM180-400h160v-160H180v160Zm440 0h160v-160H620v160ZM180-180h160v-160H180v160Zm440 0h160v-160H620v160Z\"/>\n",
              "  </svg>\n",
              "    </button>\n",
              "\n",
              "  <style>\n",
              "    .colab-df-container {\n",
              "      display:flex;\n",
              "      gap: 12px;\n",
              "    }\n",
              "\n",
              "    .colab-df-convert {\n",
              "      background-color: #E8F0FE;\n",
              "      border: none;\n",
              "      border-radius: 50%;\n",
              "      cursor: pointer;\n",
              "      display: none;\n",
              "      fill: #1967D2;\n",
              "      height: 32px;\n",
              "      padding: 0 0 0 0;\n",
              "      width: 32px;\n",
              "    }\n",
              "\n",
              "    .colab-df-convert:hover {\n",
              "      background-color: #E2EBFA;\n",
              "      box-shadow: 0px 1px 2px rgba(60, 64, 67, 0.3), 0px 1px 3px 1px rgba(60, 64, 67, 0.15);\n",
              "      fill: #174EA6;\n",
              "    }\n",
              "\n",
              "    .colab-df-buttons div {\n",
              "      margin-bottom: 4px;\n",
              "    }\n",
              "\n",
              "    [theme=dark] .colab-df-convert {\n",
              "      background-color: #3B4455;\n",
              "      fill: #D2E3FC;\n",
              "    }\n",
              "\n",
              "    [theme=dark] .colab-df-convert:hover {\n",
              "      background-color: #434B5C;\n",
              "      box-shadow: 0px 1px 3px 1px rgba(0, 0, 0, 0.15);\n",
              "      filter: drop-shadow(0px 1px 2px rgba(0, 0, 0, 0.3));\n",
              "      fill: #FFFFFF;\n",
              "    }\n",
              "  </style>\n",
              "\n",
              "    <script>\n",
              "      const buttonEl =\n",
              "        document.querySelector('#df-b106d265-5da6-4099-bae3-ca07d266a91c button.colab-df-convert');\n",
              "      buttonEl.style.display =\n",
              "        google.colab.kernel.accessAllowed ? 'block' : 'none';\n",
              "\n",
              "      async function convertToInteractive(key) {\n",
              "        const element = document.querySelector('#df-b106d265-5da6-4099-bae3-ca07d266a91c');\n",
              "        const dataTable =\n",
              "          await google.colab.kernel.invokeFunction('convertToInteractive',\n",
              "                                                    [key], {});\n",
              "        if (!dataTable) return;\n",
              "\n",
              "        const docLinkHtml = 'Like what you see? Visit the ' +\n",
              "          '<a target=\"_blank\" href=https://colab.research.google.com/notebooks/data_table.ipynb>data table notebook</a>'\n",
              "          + ' to learn more about interactive tables.';\n",
              "        element.innerHTML = '';\n",
              "        dataTable['output_type'] = 'display_data';\n",
              "        await google.colab.output.renderOutput(dataTable, element);\n",
              "        const docLink = document.createElement('div');\n",
              "        docLink.innerHTML = docLinkHtml;\n",
              "        element.appendChild(docLink);\n",
              "      }\n",
              "    </script>\n",
              "  </div>\n",
              "\n",
              "\n",
              "<div id=\"df-6d71a2fe-cf76-44b6-bf43-a7b589c4c53a\">\n",
              "  <button class=\"colab-df-quickchart\" onclick=\"quickchart('df-6d71a2fe-cf76-44b6-bf43-a7b589c4c53a')\"\n",
              "            title=\"Suggest charts\"\n",
              "            style=\"display:none;\">\n",
              "\n",
              "<svg xmlns=\"http://www.w3.org/2000/svg\" height=\"24px\"viewBox=\"0 0 24 24\"\n",
              "     width=\"24px\">\n",
              "    <g>\n",
              "        <path d=\"M19 3H5c-1.1 0-2 .9-2 2v14c0 1.1.9 2 2 2h14c1.1 0 2-.9 2-2V5c0-1.1-.9-2-2-2zM9 17H7v-7h2v7zm4 0h-2V7h2v10zm4 0h-2v-4h2v4z\"/>\n",
              "    </g>\n",
              "</svg>\n",
              "  </button>\n",
              "\n",
              "<style>\n",
              "  .colab-df-quickchart {\n",
              "      --bg-color: #E8F0FE;\n",
              "      --fill-color: #1967D2;\n",
              "      --hover-bg-color: #E2EBFA;\n",
              "      --hover-fill-color: #174EA6;\n",
              "      --disabled-fill-color: #AAA;\n",
              "      --disabled-bg-color: #DDD;\n",
              "  }\n",
              "\n",
              "  [theme=dark] .colab-df-quickchart {\n",
              "      --bg-color: #3B4455;\n",
              "      --fill-color: #D2E3FC;\n",
              "      --hover-bg-color: #434B5C;\n",
              "      --hover-fill-color: #FFFFFF;\n",
              "      --disabled-bg-color: #3B4455;\n",
              "      --disabled-fill-color: #666;\n",
              "  }\n",
              "\n",
              "  .colab-df-quickchart {\n",
              "    background-color: var(--bg-color);\n",
              "    border: none;\n",
              "    border-radius: 50%;\n",
              "    cursor: pointer;\n",
              "    display: none;\n",
              "    fill: var(--fill-color);\n",
              "    height: 32px;\n",
              "    padding: 0;\n",
              "    width: 32px;\n",
              "  }\n",
              "\n",
              "  .colab-df-quickchart:hover {\n",
              "    background-color: var(--hover-bg-color);\n",
              "    box-shadow: 0 1px 2px rgba(60, 64, 67, 0.3), 0 1px 3px 1px rgba(60, 64, 67, 0.15);\n",
              "    fill: var(--button-hover-fill-color);\n",
              "  }\n",
              "\n",
              "  .colab-df-quickchart-complete:disabled,\n",
              "  .colab-df-quickchart-complete:disabled:hover {\n",
              "    background-color: var(--disabled-bg-color);\n",
              "    fill: var(--disabled-fill-color);\n",
              "    box-shadow: none;\n",
              "  }\n",
              "\n",
              "  .colab-df-spinner {\n",
              "    border: 2px solid var(--fill-color);\n",
              "    border-color: transparent;\n",
              "    border-bottom-color: var(--fill-color);\n",
              "    animation:\n",
              "      spin 1s steps(1) infinite;\n",
              "  }\n",
              "\n",
              "  @keyframes spin {\n",
              "    0% {\n",
              "      border-color: transparent;\n",
              "      border-bottom-color: var(--fill-color);\n",
              "      border-left-color: var(--fill-color);\n",
              "    }\n",
              "    20% {\n",
              "      border-color: transparent;\n",
              "      border-left-color: var(--fill-color);\n",
              "      border-top-color: var(--fill-color);\n",
              "    }\n",
              "    30% {\n",
              "      border-color: transparent;\n",
              "      border-left-color: var(--fill-color);\n",
              "      border-top-color: var(--fill-color);\n",
              "      border-right-color: var(--fill-color);\n",
              "    }\n",
              "    40% {\n",
              "      border-color: transparent;\n",
              "      border-right-color: var(--fill-color);\n",
              "      border-top-color: var(--fill-color);\n",
              "    }\n",
              "    60% {\n",
              "      border-color: transparent;\n",
              "      border-right-color: var(--fill-color);\n",
              "    }\n",
              "    80% {\n",
              "      border-color: transparent;\n",
              "      border-right-color: var(--fill-color);\n",
              "      border-bottom-color: var(--fill-color);\n",
              "    }\n",
              "    90% {\n",
              "      border-color: transparent;\n",
              "      border-bottom-color: var(--fill-color);\n",
              "    }\n",
              "  }\n",
              "</style>\n",
              "\n",
              "  <script>\n",
              "    async function quickchart(key) {\n",
              "      const quickchartButtonEl =\n",
              "        document.querySelector('#' + key + ' button');\n",
              "      quickchartButtonEl.disabled = true;  // To prevent multiple clicks.\n",
              "      quickchartButtonEl.classList.add('colab-df-spinner');\n",
              "      try {\n",
              "        const charts = await google.colab.kernel.invokeFunction(\n",
              "            'suggestCharts', [key], {});\n",
              "      } catch (error) {\n",
              "        console.error('Error during call to suggestCharts:', error);\n",
              "      }\n",
              "      quickchartButtonEl.classList.remove('colab-df-spinner');\n",
              "      quickchartButtonEl.classList.add('colab-df-quickchart-complete');\n",
              "    }\n",
              "    (() => {\n",
              "      let quickchartButtonEl =\n",
              "        document.querySelector('#df-6d71a2fe-cf76-44b6-bf43-a7b589c4c53a button');\n",
              "      quickchartButtonEl.style.display =\n",
              "        google.colab.kernel.accessAllowed ? 'block' : 'none';\n",
              "    })();\n",
              "  </script>\n",
              "</div>\n",
              "    </div>\n",
              "  </div>\n"
            ],
            "text/plain": [
              "                                               review  \\\n",
              "0   Это аниме повествует об атаке гигантских челов...   \n",
              "1   В этом биографическом фильме рассказывается о ...   \n",
              "2   История про человека, который решил кардинальн...   \n",
              "3   Добрый мультик про робота-мусорщика и несерьез...   \n",
              "4   Фильм-биография про брокера. В фильме большое ...   \n",
              "5   Фильм по известной серии книг про особенного р...   \n",
              "6   Старый фильм по книге Стивена Кинга, в котором...   \n",
              "7   В недалеком будущем наша планета стала практич...   \n",
              "8   Фильм по книге. Рассказана история детектива, ...   \n",
              "9          Актер из человека паука в фильме про войну   \n",
              "10  Актер из человека паука помогает бороться прот...   \n",
              "11  Мультик про крысу, которая любила готовить и п...   \n",
              "12  Супер популярный фильм о затонувшем корабле и ...   \n",
              "13               Мультик про огра, живущего на болоте   \n",
              "14  Ужастик от Стивена Кинга про существо, которое...   \n",
              "15  Группа низкорослых людей отправляется в поход,...   \n",
              "16  Очень толстые люди сбегают с Земли, чтобы в ко...   \n",
              "17  Безответственная семья, безответственный ребен...   \n",
              "18  Мизантроп, живущий поодаль от городской суеты ...   \n",
              "19  Фильм про то как после распространение зомби-в...   \n",
              "20  Главный герой — мальчик из бедной семьи, наход...   \n",
              "21  Человек изначально родился старым, а потом с к...   \n",
              "22  Фильм, действие которого происходит во вселенн...   \n",
              "23  Молодой человек хочет стать крутым барабанщико...   \n",
              "24  Фильм, в котором показана ужасная сторона прин...   \n",
              "25  Мультик про разговаривающие машины. Главный ге...   \n",
              "26  Мамонт, ленивец и саблезубый тигр спасают чело...   \n",
              "27  Мультик про панду, которая оказалась избранной...   \n",
              "28  В этом старом советском фильме показаны приклю...   \n",
              "29  Очень популярный мультик про желтую губку, жив...   \n",
              "30  Мрачный мультик, главный герой, перед своей св...   \n",
              "31  У главного героя ножницы вместо рук, в конце ф...   \n",
              "32  Фильм, снятый по книге, в котором на землю при...   \n",
              "33         Говорящий рыжий кот, который любит лазанью   \n",
              "34  Какой-то ученый воссоздал динозавров по сохран...   \n",
              "35  Российский сериал про молодых врачей, который ...   \n",
              "36  Фильм ужасы про то как весь мир накрыл туман, ...   \n",
              "37  Старый добрый советский мультик про людей, кот...   \n",
              "\n",
              "                                 movieName  movieId  \n",
              "0                            Атака титанов   749374  \n",
              "1                       Богемская рапсодия   568289  \n",
              "2                          Бойцовский клуб      361  \n",
              "3                                   ВАЛЛ·И   279102  \n",
              "4                        Волк с Уолл-стрит   462682  \n",
              "5        Гарри Поттер и философский камень      689  \n",
              "6                             Зеленая миля      435  \n",
              "7                             Интерстеллар   258687  \n",
              "8                         Остров проклятых   397667  \n",
              "9                  По соображениям совести   649917  \n",
              "10                 По соображениям совести   649917  \n",
              "11                                 Рататуй    89514  \n",
              "12                                 Титаник     2213  \n",
              "13                                    Шрэк      430  \n",
              "14                                     Оно   453397  \n",
              "15        Властелин колец: Братство Кольца      328  \n",
              "16                                  ВАЛЛ·И   279102  \n",
              "17                               Один дома     8124  \n",
              "18                                    Шрэк      430  \n",
              "19                             Я — легенда   195524  \n",
              "20              Чарли и шоколадная фабрика    38905  \n",
              "21   Загадочная история Бенджамина Баттона    81555  \n",
              "22  Фантастические твари и где они обитают   797840  \n",
              "23                             Одержимость   725190  \n",
              "24                        Реквием по мечте    23737  \n",
              "25                                   Тачки      367  \n",
              "26                       Ледниковый период    61249  \n",
              "27                           Кунг-фу Панда      707  \n",
              "28                              12 стульев   103734  \n",
              "29              Губка Боб квадратные штаны    46789  \n",
              "30                            Труп невесты    77270  \n",
              "31                     Эдвард руки-ножницы   161268  \n",
              "32                             Война миров    77548  \n",
              "33                                 Гарфилд     8421  \n",
              "34                    Парк Юрского периода    81289  \n",
              "35                                 Интерны     8932  \n",
              "36                                    Мгла     7121  \n",
              "37                         Остров сокровищ   501998  "
            ]
          },
          "execution_count": 141,
          "metadata": {},
          "output_type": "execute_result"
        }
      ],
      "source": [
        "val_df"
      ]
    },
    {
      "cell_type": "code",
      "execution_count": null,
      "metadata": {
        "colab": {
          "base_uri": "https://localhost:8080/"
        },
        "id": "fd0n2kk_wZME",
        "outputId": "3766e75b-65fd-44a6-a507-5e29b0e4621c"
      },
      "outputs": [
        {
          "name": "stdout",
          "output_type": "stream",
          "text": [
            "1+1\n",
            "Пострадав в результате несчастного случая, богатый аристократ Филипп нанимает в помощники человека, который менее всего подходит для этой работы, – молодого жителя предместья Дрисса, только что освободившегося из тюрьмы. Несмотря на то, что Филипп прикован к инвалидному креслу, Дриссу удается привнести в размеренную жизнь аристократа дух приключений.\n",
            "Аристократ на коляске нанимает в сиделки бывшего заключенного. Искрометная французская комедия с Омаром Си\n"
          ]
        }
      ],
      "source": [
        "index = 0\n",
        "print(movie_df.name[index])\n",
        "print(movie_df.description[index])\n",
        "print(movie_df.shortDescription[index])"
      ]
    },
    {
      "cell_type": "code",
      "execution_count": null,
      "metadata": {
        "colab": {
          "base_uri": "https://localhost:8080/",
          "height": 105
        },
        "id": "q6GvuSUsyatu",
        "outputId": "630ff740-56bc-4d18-b2a9-1ea0ed295640"
      },
      "outputs": [
        {
          "data": {
            "application/vnd.google.colaboratory.intrinsic+json": {
              "type": "string"
            },
            "text/plain": [
              "'С уверенностью могу сказать, что это один из самых лучших фильмов современного кинематографа. Потрясающая история дружбы, которая проходит через время, боль, утрату, препятствия, но все равно сохраняет свою теплоту и доверие.  Клевый сюжет, который так или иначе затрагивает тему социального и финансового неравенства. Яркие актеры, лучезарный Идрис не оставляет равнодушным. Фильм ярко демонстрирует, что ни смотря ни на что, даже казалось бы непоправимые обстоятельства, наше счастье зависит от нас самих, а так же от тех людей, которых мы выбрали себе в окружение.  Обычный человек может быть спасательным кругом в той или иной жизненной ситуации. Важное иметь таких людей и платить верностью, заботой и любовью. Здорово, что фильм снят на основе реальных событий-это заставляет верить в добро и маленькое волшебство.  Элементы роскошной жизни (дорогие автомобили, частные самолёты, классические концерты музыки) так же цепляют. Но так же фильм отражает мысль, что не все купишь за деньги. И сколько бы их не было-важное оставаться самим собой, сохраняя в себе человеческое достоинство и доброту.  Считаю его современной классикой, поэтому обязательно к просмотру.'"
            ]
          },
          "execution_count": 143,
          "metadata": {},
          "output_type": "execute_result"
        }
      ],
      "source": [
        "review_df[review_df.movieId == movie_df.id[index]].review.values[0]"
      ]
    },
    {
      "cell_type": "code",
      "execution_count": null,
      "metadata": {
        "colab": {
          "base_uri": "https://localhost:8080/",
          "height": 480
        },
        "id": "il2um4mpuHDv",
        "outputId": "4a5524d1-92f8-4a07-b40b-eb1c434694ed"
      },
      "outputs": [
        {
          "data": {
            "image/png": "[encoded data removed]",
            "text/plain": [
              "<Figure size 640x480 with 1 Axes>"
            ]
          },
          "metadata": {},
          "output_type": "display_data"
        }
      ],
      "source": [
        "plt.hist(movie_df.description.str.len(), alpha=0.5, label='description')\n",
        "plt.hist(movie_df.shortDescription.str.len(), alpha=0.5, label='shortDescription', bins = 5)\n",
        "plt.xlabel('symbols')\n",
        "plt.title('hist')\n",
        "plt.legend(loc='upper right')\n",
        "plt.show()"
      ]
    },
    {
      "cell_type": "code",
      "execution_count": null,
      "metadata": {
        "colab": {
          "base_uri": "https://localhost:8080/",
          "height": 480
        },
        "id": "qmM3blbvgqw6",
        "outputId": "208b771d-24d6-4ab0-a9e5-63f83a28d3d1"
      },
      "outputs": [
        {
          "data": {
            "image/png": "[encoded data removed]",
            "text/plain": [
              "<Figure size 640x480 with 1 Axes>"
            ]
          },
          "metadata": {},
          "output_type": "display_data"
        }
      ],
      "source": [
        "movie_df.description.apply(lambda text: len(str(text).rstrip(\".\").split(\".\"))).hist(alpha=0.5, label='description')\n",
        "movie_df.shortDescription.apply(lambda text: len(str(text).rstrip(\".\").split(\".\"))).hist(alpha=0.5, label='shortDescription', bins = 5)\n",
        "plt.xlabel('sentences')\n",
        "plt.title('hist')\n",
        "plt.legend(loc='upper right')\n",
        "plt.show()"
      ]
    },
    {
      "cell_type": "code",
      "execution_count": null,
      "metadata": {
        "colab": {
          "base_uri": "https://localhost:8080/",
          "height": 480
        },
        "id": "i25h0HM0f3Rj",
        "outputId": "dc83ce3e-c1ae-4642-c542-38be97235617"
      },
      "outputs": [
        {
          "data": {
            "image/png": "[encoded data removed]",
            "text/plain": [
              "<Figure size 640x480 with 1 Axes>"
            ]
          },
          "metadata": {},
          "output_type": "display_data"
        }
      ],
      "source": [
        "review_df.review.str.len().hist(bins=20)\n",
        "plt.xlabel('symbols')\n",
        "plt.title('hist')\n",
        "plt.show()"
      ]
    },
    {
      "cell_type": "code",
      "execution_count": null,
      "metadata": {
        "colab": {
          "base_uri": "https://localhost:8080/",
          "height": 480
        },
        "id": "XVqLehk8v7vR",
        "outputId": "a6facc7e-919f-4513-f908-f8e7ea018171"
      },
      "outputs": [
        {
          "data": {
            "image/png": "[encoded data removed]",
            "text/plain": [
              "<Figure size 640x480 with 1 Axes>"
            ]
          },
          "metadata": {},
          "output_type": "display_data"
        }
      ],
      "source": [
        "review_df.review.apply(lambda text: len(str(text).rstrip(\".\").split(\".\"))).hist(alpha=0.5, label='description',bins=20)\n",
        "plt.xlabel('sentences')\n",
        "plt.title('hist')\n",
        "plt.show()"
      ]
    },
    {
      "cell_type": "markdown",
      "metadata": {
        "id": "LjPYqXz5BCLm"
      },
      "source": [
        "# Функции для работы с текстами"
      ]
    },
    {
      "cell_type": "code",
      "execution_count": null,
      "metadata": {
        "id": "TMPUirbYM9DO"
      },
      "outputs": [],
      "source": [
        "STOP_WORDS = nltk.corpus.stopwords.words('russian') + [\"фильм\", \"который\"]\n",
        "TOKEN_PATTERN: str = r\"(?u)\\b\\w\\w+\\b\""
      ]
    },
    {
      "cell_type": "code",
      "execution_count": null,
      "metadata": {
        "id": "AJu81RGKBIgs"
      },
      "outputs": [],
      "source": [
        "def tokenize(text: str, pattern: str) -> list[str]:\n",
        "    return re.findall(pattern, text.lower())\n",
        "\n",
        "lemmatizer = pymorphy2.MorphAnalyzer()\n",
        "stemmer = nltk.stem.SnowballStemmer('russian')\n",
        "\n",
        "@lru_cache(maxsize=None)\n",
        "def cached_lemm(word: str) -> str:\n",
        "    return lemmatizer.parse(word)[0].normal_form\n",
        "\n",
        "def process_texts(texts: list[str], token_pattern: str, func: Callable[[str],str], with_stop_words = False, with_concat = True) -> list[str]:\n",
        "    tokenized_texts = [tokenize(text, token_pattern) for text in texts]\n",
        "    processed_texts = []\n",
        "    for text in tqdm(tokenized_texts):\n",
        "        processed_text = [func(word) for word in text if (not with_stop_words) or (word not in STOP_WORDS)]\n",
        "        if with_stop_words:\n",
        "            processed_text = [word for word in text if word not in STOP_WORDS]\n",
        "        if with_concat:\n",
        "            processed_text = \" \".join(processed_text)\n",
        "        processed_texts.append(processed_text)\n",
        "    return processed_texts\n",
        "\n",
        "def lemmatize(texts: list[str], token_pattern: str = TOKEN_PATTERN, with_stop_words = False, with_concat = True) -> list[str]:\n",
        "    return process_texts(texts, token_pattern, cached_lemm, with_stop_words, with_concat)\n",
        "\n",
        "def stem(texts: list[str], token_pattern: str = TOKEN_PATTERN, with_stop_words = False, with_concat = True) -> list[str]:\n",
        "    return process_texts(texts, token_pattern, stemmer.stem, with_stop_words, with_concat)\n",
        "\n"
      ]
    },
    {
      "cell_type": "code",
      "execution_count": null,
      "metadata": {
        "colab": {
          "base_uri": "https://localhost:8080/"
        },
        "id": "tHEug2djKVR7",
        "outputId": "dbd21252-15b7-48c9-8174-205802f5cb77"
      },
      "outputs": [
        {
          "name": "stderr",
          "output_type": "stream",
          "text": [
            "100%|██████████| 1/1 [00:00<00:00, 980.21it/s]\n"
          ]
        },
        {
          "data": {
            "text/plain": [
              "[['сегодня', 'хорошая', 'погода']]"
            ]
          },
          "execution_count": 9,
          "metadata": {},
          "output_type": "execute_result"
        }
      ],
      "source": [
        "lemmatize(['сегодня хорошая погода у меня'], token_pattern = TOKEN_PATTERN, with_stop_words=True, with_concat=False)"
      ]
    },
    {
      "cell_type": "markdown",
      "metadata": {
        "id": "XPUdbpnC-Whh"
      },
      "source": [
        "# Модели"
      ]
    },
    {
      "cell_type": "markdown",
      "metadata": {
        "id": "xz9Y93qk-Yma"
      },
      "source": [
        "## TFIDF"
      ]
    },
    {
      "cell_type": "code",
      "execution_count": null,
      "metadata": {
        "id": "jCzuhx0FNVkX"
      },
      "outputs": [],
      "source": [
        "class TfidfModel:\n",
        "    def __init__(\n",
        "        self,\n",
        "        with_lemmatizing: bool = True,\n",
        "        with_stemming: bool = False,\n",
        "        token_pattern: str = r\"(?u)\\b\\w\\w+\\b\",\n",
        "        *args,\n",
        "        **kwargs,\n",
        "        ):\n",
        "\n",
        "        self.token_pattern = token_pattern\n",
        "        self.with_lemmatizing = with_lemmatizing\n",
        "        self.with_stemming = with_stemming\n",
        "        self.vectorizer = TfidfVectorizer(token_pattern=token_pattern, *args, **kwargs)\n",
        "        self.tfidf_embds = None\n",
        "\n",
        "    def process_texts(self, texts: list[str]) -> list[str]:\n",
        "        if self.with_lemmatizing:\n",
        "            texts = lemmatize(texts, self.token_pattern)\n",
        "        elif self.with_stemming:\n",
        "            texts = stem(texts, self.token_pattern)\n",
        "        return texts\n",
        "\n",
        "    def fit(self, texts: list[str]):\n",
        "        texts = self.process_texts(texts)\n",
        "        self.tfidf_embds = self.vectorizer.fit_transform(texts)\n",
        "\n",
        "    def vectorize(self, texts: list[str]) -> np.array:\n",
        "        texts = self.process_texts(texts)\n",
        "        return self.vectorizer.transform(np.array(texts))\n",
        "\n",
        "    def predict(self, texts: list[str]) -> list[int]:\n",
        "        x = self.vectorize(texts)\n",
        "        cos_sims = np.dot(x, self.tfidf_embds.T).toarray() # x_x\n",
        "        indexes = np.argmax(cos_sims, axis = 1)\n",
        "        return indexes"
      ]
    },
    {
      "cell_type": "code",
      "execution_count": null,
      "metadata": {
        "id": "aRE9oyVFa2KN"
      },
      "outputs": [],
      "source": [
        "model = TfidfModel(stop_words = stop_words, ngram_range=(1, 2), max_df = 0.9)"
      ]
    },
    {
      "cell_type": "markdown",
      "metadata": {
        "id": "xfPfLQDu_F1Y"
      },
      "source": [
        "### Описания будут сравниваться с описаниями на кинопоиске"
      ]
    },
    {
      "cell_type": "code",
      "execution_count": null,
      "metadata": {
        "colab": {
          "base_uri": "https://localhost:8080/"
        },
        "id": "qeAPdX5r9hmE",
        "outputId": "50a51a13-4325-44c7-f557-65fd8f6d888c"
      },
      "outputs": [
        {
          "name": "stderr",
          "output_type": "stream",
          "text": [
            "100%|██████████| 1500/1500 [00:03<00:00, 444.25it/s]\n"
          ]
        }
      ],
      "source": [
        "train_texts = movie_df.description.values\n",
        "model.fit(train_texts)"
      ]
    },
    {
      "cell_type": "markdown",
      "metadata": {
        "id": "rmKvv-_X_dLt"
      },
      "source": [
        "Проверка на коротких описаниях с кинопоиска"
      ]
    },
    {
      "cell_type": "code",
      "execution_count": null,
      "metadata": {
        "colab": {
          "base_uri": "https://localhost:8080/"
        },
        "id": "63dSQafSMGAZ",
        "outputId": "0ad6ff28-10b9-4696-81f8-5b75005deaa5"
      },
      "outputs": [
        {
          "name": "stderr",
          "output_type": "stream",
          "text": [
            "100%|██████████| 1500/1500 [00:00<00:00, 3071.42it/s]\n"
          ]
        },
        {
          "data": {
            "text/plain": [
              "0.328"
            ]
          },
          "execution_count": 32,
          "metadata": {},
          "output_type": "execute_result"
        }
      ],
      "source": [
        "test_texts = movie_df.shortDescription.values\n",
        "y_true = movie_df.id.values\n",
        "y_pred = movie_df.id[model.predict(test_texts)].values\n",
        "accuracy_score(y_true, y_pred)"
      ]
    },
    {
      "cell_type": "markdown",
      "metadata": {
        "id": "i7hRukDV_kQ2"
      },
      "source": [
        "Проверка на собственном датасете"
      ]
    },
    {
      "cell_type": "code",
      "execution_count": null,
      "metadata": {
        "id": "Gwi_nPqLlPdD"
      },
      "outputs": [],
      "source": [
        "val_texts = val_df.review.values\n",
        "y_pred = movie_df.id[model.predict(val_texts)].values\n",
        "y_true = val_df.movieId.values\n",
        "accuracy_score(y_true, y_pred)"
      ]
    },
    {
      "cell_type": "code",
      "execution_count": null,
      "metadata": {
        "id": "4rUqWVxU3zHo"
      },
      "outputs": [],
      "source": [
        "def validate(y_pred: list[int], y_true: list[int], val_texts: list[str]):\n",
        "    token2id = {token: i for i, token in enumerate(sorted(model.vectorizer.vocabulary_))}\n",
        "    chosen = pd.merge(pd.Series(y_pred).rename('ids'), movie_df, left_on= 'ids', right_on='id', how='left')[['name', 'description']]\n",
        "    chosen_names = chosen.name.values\n",
        "    chosen_embds = model.vectorize(chosen.description.values)\n",
        "\n",
        "    true_names = pd.merge(pd.Series(y_true).rename('ids'), movie_df, left_on= 'ids', right_on='id', how='left')['name'].values\n",
        "\n",
        "    importance = model.vectorize(val_texts).multiply(chosen_embds)\n",
        "    max_importance = importance.max()\n",
        "    texts_tokens = model.join_tokenize(val_texts)\n",
        "\n",
        "    for i, text in enumerate(val_texts):\n",
        "        print(\"\\n\\n\\n\")\n",
        "        print(f'predicted = {chosen_names[i]}')\n",
        "        print(f'true = {true_names[i]}')\n",
        "\n",
        "        text_tokens = texts_tokens[i].split()\n",
        "\n",
        "        html_string = '''\n",
        "        <p style=\"font-size:16px; color:#000000; border: 2px solid #000; text-align: justify; background-color:#ffffff; border-radius: 25px; padding: 20px;\">\n",
        "        '''\n",
        "\n",
        "        for token in text_tokens:\n",
        "            if token in token2id:\n",
        "                weight = importance[i,token2id[token]]\n",
        "                component = hex(int(255 - 255 * weight / max_importance))[2:]\n",
        "                color = f'{component}{component}ff'\n",
        "            else:\n",
        "                weight = 0.0\n",
        "                color = 'ffffff'\n",
        "            html_string += f'<span style=\"background-color: #{color}\"; title=\"{weight:.2f}\">{token}</span> '\n",
        "\n",
        "        html_string += '</p>'\n",
        "\n",
        "        display(HTML(html_string))\n"
      ]
    },
    {
      "cell_type": "code",
      "execution_count": null,
      "metadata": {
        "colab": {
          "base_uri": "https://localhost:8080/",
          "height": 1000
        },
        "id": "ny-v_HF54uGL",
        "outputId": "e8dff72c-be10-4850-f93c-e91eb6f31119"
      },
      "outputs": [
        {
          "name": "stderr",
          "output_type": "stream",
          "text": [
            "100%|██████████| 19/19 [00:00<00:00, 20262.34it/s]\n",
            "100%|██████████| 19/19 [00:00<00:00, 40268.71it/s]\n",
            "100%|██████████| 19/19 [00:00<00:00, 8534.14it/s]"
          ]
        },
        {
          "name": "stdout",
          "output_type": "stream",
          "text": [
            "\n",
            "\n",
            "\n",
            "\n",
            "predicted = Человек-паук: Через вселенные\n",
            "true = Атака титанов\n"
          ]
        },
        {
          "name": "stderr",
          "output_type": "stream",
          "text": [
            "\n"
          ]
        },
        {
          "data": {
            "text/html": [
              "\n",
              "        <p style=\"font-size:16px; color:#000000; border: 2px solid #000; text-align: justify; background-color:#ffffff; border-radius: 25px; padding: 20px;\">\n",
              "        <span style=\"background-color: #f6f6ff\"; title=\"0.01\">это</span> <span style=\"background-color: #ffffff\"; title=\"0.00\">аниме</span> <span style=\"background-color: #ffffff\"; title=\"0.00\">повествовать</span> <span style=\"background-color: #ffffff\"; title=\"0.00\">о</span> <span style=\"background-color: #ffffff\"; title=\"0.00\">атака</span> <span style=\"background-color: #dcdcff\"; title=\"0.02\">гигантский</span> <span style=\"background-color: #ffffff\"; title=\"0.00\">человекоподобный</span> <span style=\"background-color: #ffffff\"; title=\"0.00\">существо</span> <span style=\"background-color: #ffffff\"; title=\"0.00\">на</span> <span style=\"background-color: #eeeeff\"; title=\"0.01\">человек</span> <span style=\"background-color: #cdcdff\"; title=\"0.04\">немой</span> <span style=\"background-color: #ffffff\"; title=\"0.00\">очень</span> <span style=\"background-color: #ffffff\"; title=\"0.00\">классный</span> <span style=\"background-color: #ffffff\"; title=\"0.00\">музыка</span> </p>"
            ],
            "text/plain": [
              "<IPython.core.display.HTML object>"
            ]
          },
          "metadata": {},
          "output_type": "display_data"
        },
        {
          "name": "stdout",
          "output_type": "stream",
          "text": [
            "\n",
            "\n",
            "\n",
            "\n",
            "predicted = Эдвард руки-ножницы\n",
            "true = Богемская рапсодия\n"
          ]
        },
        {
          "data": {
            "text/html": [
              "\n",
              "        <p style=\"font-size:16px; color:#000000; border: 2px solid #000; text-align: justify; background-color:#ffffff; border-radius: 25px; padding: 20px;\">\n",
              "        <span style=\"background-color: #ffffff\"; title=\"0.00\">это</span> <span style=\"background-color: #ffffff\"; title=\"0.00\">биографический</span> <span style=\"background-color: #ffffff\"; title=\"0.00\">фильм</span> <span style=\"background-color: #ffffff\"; title=\"0.00\">рассказываться</span> <span style=\"background-color: #ffffff\"; title=\"0.00\">жизнь</span> <span style=\"background-color: #ffffff\"; title=\"0.00\">вокалист</span> <span style=\"background-color: #ffffff\"; title=\"0.00\">известный</span> <span style=\"background-color: #ffffff\"; title=\"0.00\">группа</span> <span style=\"background-color: #e4e4ff\"; title=\"0.02\">конец</span> <span style=\"background-color: #ffffff\"; title=\"0.00\">он</span> <span style=\"background-color: #d2d2ff\"; title=\"0.03\">умереть</span> <span style=\"background-color: #ffffff\"; title=\"0.00\">от</span> <span style=\"background-color: #ffffff\"; title=\"0.00\">рак</span> </p>"
            ],
            "text/plain": [
              "<IPython.core.display.HTML object>"
            ]
          },
          "metadata": {},
          "output_type": "display_data"
        },
        {
          "name": "stdout",
          "output_type": "stream",
          "text": [
            "\n",
            "\n",
            "\n",
            "\n",
            "predicted = Физрук\n",
            "true = Бойцовский клуб\n"
          ]
        },
        {
          "data": {
            "text/html": [
              "\n",
              "        <p style=\"font-size:16px; color:#000000; border: 2px solid #000; text-align: justify; background-color:#ffffff; border-radius: 25px; padding: 20px;\">\n",
              "        <span style=\"background-color: #f6f6ff\"; title=\"0.01\">история</span> <span style=\"background-color: #ffffff\"; title=\"0.00\">про</span> <span style=\"background-color: #f9f9ff\"; title=\"0.00\">человек</span> <span style=\"background-color: #fcfcff\"; title=\"0.00\">который</span> <span style=\"background-color: #f1f1ff\"; title=\"0.01\">решить</span> <span style=\"background-color: #d6d6ff\"; title=\"0.03\">кардинально</span> <span style=\"background-color: #ffffff\"; title=\"0.00\">поменять</span> <span style=\"background-color: #fcfcff\"; title=\"0.00\">свой</span> <span style=\"background-color: #f6f6ff\"; title=\"0.01\">жизнь</span> <span style=\"background-color: #ffffff\"; title=\"0.00\">заняться</span> <span style=\"background-color: #ffffff\"; title=\"0.00\">саморазрушение</span> <span style=\"background-color: #ffffff\"; title=\"0.00\">итог</span> <span style=\"background-color: #ffffff\"; title=\"0.00\">оказаться</span> <span style=\"background-color: #ffffff\"; title=\"0.00\">что</span> <span style=\"background-color: #ffffff\"; title=\"0.00\">он</span> <span style=\"background-color: #ffffff\"; title=\"0.00\">сойти</span> <span style=\"background-color: #ffffff\"; title=\"0.00\">ум</span> <span style=\"background-color: #ffffff\"; title=\"0.00\">он</span> <span style=\"background-color: #ffffff\"; title=\"0.00\">друг</span> <span style=\"background-color: #ffffff\"; title=\"0.00\">оказаться</span> <span style=\"background-color: #ffffff\"; title=\"0.00\">он</span> <span style=\"background-color: #ffffff\"; title=\"0.00\">сам</span> </p>"
            ],
            "text/plain": [
              "<IPython.core.display.HTML object>"
            ]
          },
          "metadata": {},
          "output_type": "display_data"
        },
        {
          "name": "stdout",
          "output_type": "stream",
          "text": [
            "\n",
            "\n",
            "\n",
            "\n",
            "predicted = Я, робот\n",
            "true = ВАЛЛ·И\n"
          ]
        },
        {
          "data": {
            "text/html": [
              "\n",
              "        <p style=\"font-size:16px; color:#000000; border: 2px solid #000; text-align: justify; background-color:#ffffff; border-radius: 25px; padding: 20px;\">\n",
              "        <span style=\"background-color: #ffffff\"; title=\"0.00\">добрый</span> <span style=\"background-color: #ffffff\"; title=\"0.00\">мультик</span> <span style=\"background-color: #ffffff\"; title=\"0.00\">про</span> <span style=\"background-color: #4141ff\"; title=\"0.14\">робот</span> <span style=\"background-color: #ffffff\"; title=\"0.00\">мусорщик</span> <span style=\"background-color: #ffffff\"; title=\"0.00\">несерьёзный</span> <span style=\"background-color: #ffffff\"; title=\"0.00\">отношение</span> <span style=\"background-color: #e7e7ff\"; title=\"0.02\">человек</span> <span style=\"background-color: #ffffff\"; title=\"0.00\">природа</span> </p>"
            ],
            "text/plain": [
              "<IPython.core.display.HTML object>"
            ]
          },
          "metadata": {},
          "output_type": "display_data"
        },
        {
          "name": "stdout",
          "output_type": "stream",
          "text": [
            "\n",
            "\n",
            "\n",
            "\n",
            "predicted = Последний рубеж\n",
            "true = Волк с Уолл-стрит\n"
          ]
        },
        {
          "data": {
            "text/html": [
              "\n",
              "        <p style=\"font-size:16px; color:#000000; border: 2px solid #000; text-align: justify; background-color:#ffffff; border-radius: 25px; padding: 20px;\">\n",
              "        <span style=\"background-color: #ffffff\"; title=\"0.00\">фильм</span> <span style=\"background-color: #ffffff\"; title=\"0.00\">биография</span> <span style=\"background-color: #ffffff\"; title=\"0.00\">про</span> <span style=\"background-color: #ababff\"; title=\"0.06\">брокер</span> <span style=\"background-color: #ffffff\"; title=\"0.00\">фильм</span> <span style=\"background-color: #ffffff\"; title=\"0.00\">большой</span> <span style=\"background-color: #ffffff\"; title=\"0.00\">количество</span> <span style=\"background-color: #ffffff\"; title=\"0.00\">похабщина</span> <span style=\"background-color: #9c9cff\"; title=\"0.07\">наркотик</span> <span style=\"background-color: #ffffff\"; title=\"0.00\">прочее</span> <span style=\"background-color: #ffffff\"; title=\"0.00\">ди</span> <span style=\"background-color: #ffffff\"; title=\"0.00\">каприо</span> <span style=\"background-color: #ffffff\"; title=\"0.00\">классно</span> <span style=\"background-color: #ffffff\"; title=\"0.00\">сыграть</span> </p>"
            ],
            "text/plain": [
              "<IPython.core.display.HTML object>"
            ]
          },
          "metadata": {},
          "output_type": "display_data"
        },
        {
          "name": "stdout",
          "output_type": "stream",
          "text": [
            "\n",
            "\n",
            "\n",
            "\n",
            "predicted = Библиотекарь\n",
            "true = Гарри Поттер и философский камень\n"
          ]
        },
        {
          "data": {
            "text/html": [
              "\n",
              "        <p style=\"font-size:16px; color:#000000; border: 2px solid #000; text-align: justify; background-color:#ffffff; border-radius: 25px; padding: 20px;\">\n",
              "        <span style=\"background-color: #ffffff\"; title=\"0.00\">фильм</span> <span style=\"background-color: #ffffff\"; title=\"0.00\">по</span> <span style=\"background-color: #ffffff\"; title=\"0.00\">известный</span> <span style=\"background-color: #ffffff\"; title=\"0.00\">серия</span> <span style=\"background-color: #5555ff\"; title=\"0.12\">книга</span> <span style=\"background-color: #ffffff\"; title=\"0.00\">про</span> <span style=\"background-color: #ffffff\"; title=\"0.00\">особенный</span> <span style=\"background-color: #ffffff\"; title=\"0.00\">ребёнок</span> <span style=\"background-color: #ffffff\"; title=\"0.00\">волшебник</span> <span style=\"background-color: #f9f9ff\"; title=\"0.00\">это</span> <span style=\"background-color: #ffffff\"; title=\"0.00\">первый</span> <span style=\"background-color: #eaeaff\"; title=\"0.02\">часть</span> </p>"
            ],
            "text/plain": [
              "<IPython.core.display.HTML object>"
            ]
          },
          "metadata": {},
          "output_type": "display_data"
        },
        {
          "name": "stdout",
          "output_type": "stream",
          "text": [
            "\n",
            "\n",
            "\n",
            "\n",
            "predicted = Библиотекарь\n",
            "true = Зеленая миля\n"
          ]
        },
        {
          "data": {
            "text/html": [
              "\n",
              "        <p style=\"font-size:16px; color:#000000; border: 2px solid #000; text-align: justify; background-color:#ffffff; border-radius: 25px; padding: 20px;\">\n",
              "        <span style=\"background-color: #ffffff\"; title=\"0.00\">старый</span> <span style=\"background-color: #ffffff\"; title=\"0.00\">фильм</span> <span style=\"background-color: #ffffff\"; title=\"0.00\">по</span> <span style=\"background-color: #6e6eff\"; title=\"0.10\">книга</span> <span style=\"background-color: #ffffff\"; title=\"0.00\">стивен</span> <span style=\"background-color: #ffffff\"; title=\"0.00\">кинг</span> <span style=\"background-color: #fcfcff\"; title=\"0.00\">который</span> <span style=\"background-color: #ffffff\"; title=\"0.00\">заключить</span> <span style=\"background-color: #ffffff\"; title=\"0.00\">чернокожий</span> <span style=\"background-color: #ffffff\"; title=\"0.00\">приговаривать</span> <span style=\"background-color: #ffffff\"; title=\"0.00\">смертный</span> <span style=\"background-color: #ffffff\"; title=\"0.00\">казнь</span> <span style=\"background-color: #ffffff\"; title=\"0.00\">за</span> <span style=\"background-color: #ffffff\"; title=\"0.00\">то</span> <span style=\"background-color: #ffffff\"; title=\"0.00\">что</span> <span style=\"background-color: #ffffff\"; title=\"0.00\">он</span> <span style=\"background-color: #ffffff\"; title=\"0.00\">не</span> <span style=\"background-color: #ffffff\"; title=\"0.00\">совершать</span> </p>"
            ],
            "text/plain": [
              "<IPython.core.display.HTML object>"
            ]
          },
          "metadata": {},
          "output_type": "display_data"
        },
        {
          "name": "stdout",
          "output_type": "stream",
          "text": [
            "\n",
            "\n",
            "\n",
            "\n",
            "predicted = Чёрная дыра\n",
            "true = Интерстеллар\n"
          ]
        },
        {
          "data": {
            "text/html": [
              "\n",
              "        <p style=\"font-size:16px; color:#000000; border: 2px solid #000; text-align: justify; background-color:#ffffff; border-radius: 25px; padding: 20px;\">\n",
              "        <span style=\"background-color: #d9d9ff\"; title=\"0.03\">недалёкий</span> <span style=\"background-color: #ececff\"; title=\"0.01\">будущее</span> <span style=\"background-color: #ffffff\"; title=\"0.00\">наш</span> <span style=\"background-color: #8484ff\"; title=\"0.09\">планета</span> <span style=\"background-color: #ffffff\"; title=\"0.00\">стать</span> <span style=\"background-color: #ffffff\"; title=\"0.00\">практически</span> <span style=\"background-color: #ffffff\"; title=\"0.00\">непригодный</span> <span style=\"background-color: #ffffff\"; title=\"0.00\">для</span> <span style=\"background-color: #ffffff\"; title=\"0.00\">жизнь</span> <span style=\"background-color: #ffffff\"; title=\"0.00\">человечество</span> <span style=\"background-color: #ffffff\"; title=\"0.00\">организовать</span> <span style=\"background-color: #ffffff\"; title=\"0.00\">масштабный</span> <span style=\"background-color: #ffffff\"; title=\"0.00\">миссия</span> <span style=\"background-color: #ffffff\"; title=\"0.00\">по</span> <span style=\"background-color: #ffffff\"; title=\"0.00\">нахождение</span> <span style=\"background-color: #ffffff\"; title=\"0.00\">новый</span> <span style=\"background-color: #8484ff\"; title=\"0.09\">планета</span> <span style=\"background-color: #ffffff\"; title=\"0.00\">для</span> <span style=\"background-color: #ffffff\"; title=\"0.00\">жизнь</span> </p>"
            ],
            "text/plain": [
              "<IPython.core.display.HTML object>"
            ]
          },
          "metadata": {},
          "output_type": "display_data"
        },
        {
          "name": "stdout",
          "output_type": "stream",
          "text": [
            "\n",
            "\n",
            "\n",
            "\n",
            "predicted = Заклятие\n",
            "true = Остров проклятых\n"
          ]
        },
        {
          "data": {
            "text/html": [
              "\n",
              "        <p style=\"font-size:16px; color:#000000; border: 2px solid #000; text-align: justify; background-color:#ffffff; border-radius: 25px; padding: 20px;\">\n",
              "        <span style=\"background-color: #ffffff\"; title=\"0.00\">фильм</span> <span style=\"background-color: #ffffff\"; title=\"0.00\">по</span> <span style=\"background-color: #ffffff\"; title=\"0.00\">книга</span> <span style=\"background-color: #ffffff\"; title=\"0.00\">рассказать</span> <span style=\"background-color: #ffffff\"; title=\"0.00\">история</span> <span style=\"background-color: #d9d9ff\"; title=\"0.03\">детектив</span> <span style=\"background-color: #f9f9ff\"; title=\"0.00\">который</span> <span style=\"background-color: #ffffff\"; title=\"0.00\">высадиться</span> <span style=\"background-color: #ffffff\"; title=\"0.00\">на</span> <span style=\"background-color: #ffffff\"; title=\"0.00\">остров</span> <span style=\"background-color: #ffffff\"; title=\"0.00\">с</span> <span style=\"background-color: #f9f9ff\"; title=\"0.00\">свой</span> <span style=\"background-color: #ffffff\"; title=\"0.00\">напарник</span> <span style=\"background-color: #ffffff\"; title=\"0.00\">стать</span> <span style=\"background-color: #d5d5ff\"; title=\"0.03\">расследовать</span> <span style=\"background-color: #ffffff\"; title=\"0.00\">пропажа</span> <span style=\"background-color: #ffffff\"; title=\"0.00\">один</span> <span style=\"background-color: #ffffff\"; title=\"0.00\">пациентка</span> </p>"
            ],
            "text/plain": [
              "<IPython.core.display.HTML object>"
            ]
          },
          "metadata": {},
          "output_type": "display_data"
        },
        {
          "name": "stdout",
          "output_type": "stream",
          "text": [
            "\n",
            "\n",
            "\n",
            "\n",
            "predicted = Человек-паук: Через вселенные\n",
            "true = По соображениям совести\n"
          ]
        },
        {
          "data": {
            "text/html": [
              "\n",
              "        <p style=\"font-size:16px; color:#000000; border: 2px solid #000; text-align: justify; background-color:#ffffff; border-radius: 25px; padding: 20px;\">\n",
              "        <span style=\"background-color: #ffffff\"; title=\"0.00\">актёр</span> <span style=\"background-color: #ffffff\"; title=\"0.00\">из</span> <span style=\"background-color: #e3e3ff\"; title=\"0.02\">человек</span> <span style=\"background-color: #6f6fff\"; title=\"0.10\">паук</span> <span style=\"background-color: #ffffff\"; title=\"0.00\">фильм</span> <span style=\"background-color: #ffffff\"; title=\"0.00\">про</span> <span style=\"background-color: #ffffff\"; title=\"0.00\">война</span> </p>"
            ],
            "text/plain": [
              "<IPython.core.display.HTML object>"
            ]
          },
          "metadata": {},
          "output_type": "display_data"
        },
        {
          "name": "stdout",
          "output_type": "stream",
          "text": [
            "\n",
            "\n",
            "\n",
            "\n",
            "predicted = Человек-паук: Через вселенные\n",
            "true = По соображениям совести\n"
          ]
        },
        {
          "data": {
            "text/html": [
              "\n",
              "        <p style=\"font-size:16px; color:#000000; border: 2px solid #000; text-align: justify; background-color:#ffffff; border-radius: 25px; padding: 20px;\">\n",
              "        <span style=\"background-color: #ffffff\"; title=\"0.00\">актёр</span> <span style=\"background-color: #ffffff\"; title=\"0.00\">из</span> <span style=\"background-color: #ededff\"; title=\"0.01\">человек</span> <span style=\"background-color: #a0a0ff\"; title=\"0.07\">паук</span> <span style=\"background-color: #ffffff\"; title=\"0.00\">помогать</span> <span style=\"background-color: #ffffff\"; title=\"0.00\">бороться</span> <span style=\"background-color: #ffffff\"; title=\"0.00\">против</span> <span style=\"background-color: #ffffff\"; title=\"0.00\">японец</span> </p>"
            ],
            "text/plain": [
              "<IPython.core.display.HTML object>"
            ]
          },
          "metadata": {},
          "output_type": "display_data"
        },
        {
          "name": "stdout",
          "output_type": "stream",
          "text": [
            "\n",
            "\n",
            "\n",
            "\n",
            "predicted = Любовь. Смерть. Роботы\n",
            "true = Рататуй\n"
          ]
        },
        {
          "data": {
            "text/html": [
              "\n",
              "        <p style=\"font-size:16px; color:#000000; border: 2px solid #000; text-align: justify; background-color:#ffffff; border-radius: 25px; padding: 20px;\">\n",
              "        <span style=\"background-color: #ffffff\"; title=\"0.00\">мультик</span> <span style=\"background-color: #ffffff\"; title=\"0.00\">про</span> <span style=\"background-color: #ffffff\"; title=\"0.00\">крыса</span> <span style=\"background-color: #ffffff\"; title=\"0.00\">который</span> <span style=\"background-color: #ffffff\"; title=\"0.00\">любить</span> <span style=\"background-color: #ffffff\"; title=\"0.00\">готовить</span> <span style=\"background-color: #ffffff\"; title=\"0.00\">помогать</span> <span style=\"background-color: #ffffff\"; title=\"0.00\">это</span> <span style=\"background-color: #ffffff\"; title=\"0.00\">неопытный</span> <span style=\"background-color: #ffffff\"; title=\"0.00\">челик</span> <span style=\"background-color: #ffffff\"; title=\"0.00\">но</span> <span style=\"background-color: #ffffff\"; title=\"0.00\">там</span> <span style=\"background-color: #ffffff\"; title=\"0.00\">подниматься</span> <span style=\"background-color: #ffffff\"; title=\"0.00\">всякий</span> <span style=\"background-color: #ffffff\"; title=\"0.00\">недетский</span> <span style=\"background-color: #4949ff\"; title=\"0.13\">тема</span> <span style=\"background-color: #ffffff\"; title=\"0.00\">предназначение</span> </p>"
            ],
            "text/plain": [
              "<IPython.core.display.HTML object>"
            ]
          },
          "metadata": {},
          "output_type": "display_data"
        },
        {
          "name": "stdout",
          "output_type": "stream",
          "text": [
            "\n",
            "\n",
            "\n",
            "\n",
            "predicted = Леди Баг и Супер-кот\n",
            "true = Титаник\n"
          ]
        },
        {
          "data": {
            "text/html": [
              "\n",
              "        <p style=\"font-size:16px; color:#000000; border: 2px solid #000; text-align: justify; background-color:#ffffff; border-radius: 25px; padding: 20px;\">\n",
              "        <span style=\"background-color: #00ff\"; title=\"0.18\">супер</span> <span style=\"background-color: #ffffff\"; title=\"0.00\">популярный</span> <span style=\"background-color: #ffffff\"; title=\"0.00\">фильм</span> <span style=\"background-color: #ffffff\"; title=\"0.00\">затонуть</span> <span style=\"background-color: #ffffff\"; title=\"0.00\">корабль</span> <span style=\"background-color: #ffffff\"; title=\"0.00\">любовь</span> </p>"
            ],
            "text/plain": [
              "<IPython.core.display.HTML object>"
            ]
          },
          "metadata": {},
          "output_type": "display_data"
        },
        {
          "name": "stdout",
          "output_type": "stream",
          "text": [
            "\n",
            "\n",
            "\n",
            "\n",
            "predicted = Шрэк\n",
            "true = Шрэк\n"
          ]
        },
        {
          "data": {
            "text/html": [
              "\n",
              "        <p style=\"font-size:16px; color:#000000; border: 2px solid #000; text-align: justify; background-color:#ffffff; border-radius: 25px; padding: 20px;\">\n",
              "        <span style=\"background-color: #ffffff\"; title=\"0.00\">мультик</span> <span style=\"background-color: #ffffff\"; title=\"0.00\">про</span> <span style=\"background-color: #ffffff\"; title=\"0.00\">огра</span> <span style=\"background-color: #e3e3ff\"; title=\"0.02\">жить</span> <span style=\"background-color: #ffffff\"; title=\"0.00\">на</span> <span style=\"background-color: #2f2fff\"; title=\"0.15\">болото</span> </p>"
            ],
            "text/plain": [
              "<IPython.core.display.HTML object>"
            ]
          },
          "metadata": {},
          "output_type": "display_data"
        },
        {
          "name": "stdout",
          "output_type": "stream",
          "text": [
            "\n",
            "\n",
            "\n",
            "\n",
            "predicted = Красавица и чудовище\n",
            "true = Оно\n"
          ]
        },
        {
          "data": {
            "text/html": [
              "\n",
              "        <p style=\"font-size:16px; color:#000000; border: 2px solid #000; text-align: justify; background-color:#ffffff; border-radius: 25px; padding: 20px;\">\n",
              "        <span style=\"background-color: #ffffff\"; title=\"0.00\">ужастик</span> <span style=\"background-color: #ffffff\"; title=\"0.00\">от</span> <span style=\"background-color: #ffffff\"; title=\"0.00\">стивен</span> <span style=\"background-color: #ffffff\"; title=\"0.00\">кинг</span> <span style=\"background-color: #ffffff\"; title=\"0.00\">про</span> <span style=\"background-color: #ffffff\"; title=\"0.00\">существо</span> <span style=\"background-color: #f9f9ff\"; title=\"0.00\">который</span> <span style=\"background-color: #ffffff\"; title=\"0.00\">менять</span> <span style=\"background-color: #ffffff\"; title=\"0.00\">свой</span> <span style=\"background-color: #c4c4ff\"; title=\"0.04\">облик</span> <span style=\"background-color: #ffffff\"; title=\"0.00\">на</span> <span style=\"background-color: #d7d7ff\"; title=\"0.03\">человеческий</span> <span style=\"background-color: #ffffff\"; title=\"0.00\">страх</span> </p>"
            ],
            "text/plain": [
              "<IPython.core.display.HTML object>"
            ]
          },
          "metadata": {},
          "output_type": "display_data"
        },
        {
          "name": "stdout",
          "output_type": "stream",
          "text": [
            "\n",
            "\n",
            "\n",
            "\n",
            "predicted = Ледниковый период\n",
            "true = Властелин колец: Братство Кольца\n"
          ]
        },
        {
          "data": {
            "text/html": [
              "\n",
              "        <p style=\"font-size:16px; color:#000000; border: 2px solid #000; text-align: justify; background-color:#ffffff; border-radius: 25px; padding: 20px;\">\n",
              "        <span style=\"background-color: #ffffff\"; title=\"0.00\">группа</span> <span style=\"background-color: #ffffff\"; title=\"0.00\">низкорослый</span> <span style=\"background-color: #f5f5ff\"; title=\"0.01\">человек</span> <span style=\"background-color: #ededff\"; title=\"0.01\">отправляться</span> <span style=\"background-color: #ffffff\"; title=\"0.00\">поход</span> <span style=\"background-color: #ffffff\"; title=\"0.00\">чтобы</span> <span style=\"background-color: #ffffff\"; title=\"0.00\">избавиться</span> <span style=\"background-color: #ffffff\"; title=\"0.00\">от</span> <span style=\"background-color: #ffffff\"; title=\"0.00\">драгоценность</span> </p>"
            ],
            "text/plain": [
              "<IPython.core.display.HTML object>"
            ]
          },
          "metadata": {},
          "output_type": "display_data"
        },
        {
          "name": "stdout",
          "output_type": "stream",
          "text": [
            "\n",
            "\n",
            "\n",
            "\n",
            "predicted = Я, робот\n",
            "true = ВАЛЛ·И\n"
          ]
        },
        {
          "data": {
            "text/html": [
              "\n",
              "        <p style=\"font-size:16px; color:#000000; border: 2px solid #000; text-align: justify; background-color:#ffffff; border-radius: 25px; padding: 20px;\">\n",
              "        <span style=\"background-color: #ffffff\"; title=\"0.00\">очень</span> <span style=\"background-color: #ffffff\"; title=\"0.00\">толстый</span> <span style=\"background-color: #e7e7ff\"; title=\"0.02\">человек</span> <span style=\"background-color: #ffffff\"; title=\"0.00\">сбегать</span> <span style=\"background-color: #ffffff\"; title=\"0.00\">земля</span> <span style=\"background-color: #ffffff\"; title=\"0.00\">чтобы</span> <span style=\"background-color: #ffffff\"; title=\"0.00\">конечный</span> <span style=\"background-color: #ffffff\"; title=\"0.00\">итог</span> <span style=\"background-color: #ffffff\"; title=\"0.00\">они</span> <span style=\"background-color: #ffffff\"; title=\"0.00\">спасти</span> <span style=\"background-color: #ffffff\"; title=\"0.00\">ботинок</span> <span style=\"background-color: #fafaff\"; title=\"0.00\">который</span> <span style=\"background-color: #ffffff\"; title=\"0.00\">найти</span> <span style=\"background-color: #3d3dff\"; title=\"0.14\">робот</span> <span style=\"background-color: #ffffff\"; title=\"0.00\">пылесос</span> </p>"
            ],
            "text/plain": [
              "<IPython.core.display.HTML object>"
            ]
          },
          "metadata": {},
          "output_type": "display_data"
        },
        {
          "name": "stdout",
          "output_type": "stream",
          "text": [
            "\n",
            "\n",
            "\n",
            "\n",
            "predicted = Мажор\n",
            "true = Один дома\n"
          ]
        },
        {
          "data": {
            "text/html": [
              "\n",
              "        <p style=\"font-size:16px; color:#000000; border: 2px solid #000; text-align: justify; background-color:#ffffff; border-radius: 25px; padding: 20px;\">\n",
              "        <span style=\"background-color: #7b7bff\"; title=\"0.10\">безответственный</span> <span style=\"background-color: #ffffff\"; title=\"0.00\">семья</span> <span style=\"background-color: #7b7bff\"; title=\"0.10\">безответственный</span> <span style=\"background-color: #f4f4ff\"; title=\"0.01\">ребёнок</span> <span style=\"background-color: #7b7bff\"; title=\"0.10\">безответственный</span> <span style=\"background-color: #ffffff\"; title=\"0.00\">грабитель</span> <span style=\"background-color: #ffffff\"; title=\"0.00\">ещё</span> <span style=\"background-color: #ffffff\"; title=\"0.00\">канун</span> <span style=\"background-color: #ffffff\"; title=\"0.00\">праздник</span> </p>"
            ],
            "text/plain": [
              "<IPython.core.display.HTML object>"
            ]
          },
          "metadata": {},
          "output_type": "display_data"
        },
        {
          "name": "stdout",
          "output_type": "stream",
          "text": [
            "\n",
            "\n",
            "\n",
            "\n",
            "predicted = Гром: Трудное детство\n",
            "true = Шрэк\n"
          ]
        },
        {
          "data": {
            "text/html": [
              "\n",
              "        <p style=\"font-size:16px; color:#000000; border: 2px solid #000; text-align: justify; background-color:#ffffff; border-radius: 25px; padding: 20px;\">\n",
              "        <span style=\"background-color: #ffffff\"; title=\"0.00\">мизантроп</span> <span style=\"background-color: #ffffff\"; title=\"0.00\">жить</span> <span style=\"background-color: #ffffff\"; title=\"0.00\">поодаль</span> <span style=\"background-color: #ffffff\"; title=\"0.00\">от</span> <span style=\"background-color: #ffffff\"; title=\"0.00\">городской</span> <span style=\"background-color: #ffffff\"; title=\"0.00\">суета</span> <span style=\"background-color: #d3d3ff\"; title=\"0.03\">ввязываться</span> <span style=\"background-color: #d3d3ff\"; title=\"0.03\">сомнительный</span> <span style=\"background-color: #ffffff\"; title=\"0.00\">путешествие</span> <span style=\"background-color: #ffffff\"; title=\"0.00\">дабы</span> <span style=\"background-color: #ffffff\"; title=\"0.00\">решить</span> <span style=\"background-color: #ffffff\"; title=\"0.00\">проблема</span> <span style=\"background-color: #ffffff\"; title=\"0.00\">недвижимость</span> <span style=\"background-color: #ffffff\"; title=\"0.00\">конец</span> <span style=\"background-color: #ffffff\"; title=\"0.00\">фильм</span> <span style=\"background-color: #ffffff\"; title=\"0.00\">он</span> <span style=\"background-color: #ffffff\"; title=\"0.00\">понимать</span> <span style=\"background-color: #ffffff\"; title=\"0.00\">что</span> <span style=\"background-color: #ffffff\"; title=\"0.00\">любовь</span> <span style=\"background-color: #ffffff\"; title=\"0.00\">сильный</span> <span style=\"background-color: #ffffff\"; title=\"0.00\">мизантропия</span> <span style=\"background-color: #ffffff\"; title=\"0.00\">жениться</span> <span style=\"background-color: #ffffff\"; title=\"0.00\">но</span> <span style=\"background-color: #ffffff\"; title=\"0.00\">жить</span> <span style=\"background-color: #ffffff\"; title=\"0.00\">оставаться</span> <span style=\"background-color: #ffffff\"; title=\"0.00\">всё</span> <span style=\"background-color: #ffffff\"; title=\"0.00\">также</span> <span style=\"background-color: #ffffff\"; title=\"0.00\">далеко</span> <span style=\"background-color: #ffffff\"; title=\"0.00\">от</span> <span style=\"background-color: #ffffff\"; title=\"0.00\">город</span> </p>"
            ],
            "text/plain": [
              "<IPython.core.display.HTML object>"
            ]
          },
          "metadata": {},
          "output_type": "display_data"
        }
      ],
      "source": [
        "validate(y_pred, y_true, val_texts)"
      ]
    },
    {
      "cell_type": "markdown",
      "metadata": {
        "id": "GlikMGvH_qbH"
      },
      "source": [
        "### Описания будут сравниваться с отзывами (цельными)"
      ]
    },
    {
      "cell_type": "code",
      "execution_count": null,
      "metadata": {
        "colab": {
          "base_uri": "https://localhost:8080/"
        },
        "id": "balcQnYA_pxd",
        "outputId": "1e6b18c0-3eb9-402c-9877-4868e7bfc3ec"
      },
      "outputs": [
        {
          "name": "stderr",
          "output_type": "stream",
          "text": [
            "100%|██████████| 7500/7500 [00:30<00:00, 243.36it/s]\n"
          ]
        }
      ],
      "source": [
        "train_texts = review_df.review.values\n",
        "model.fit(train_texts)"
      ]
    },
    {
      "cell_type": "markdown",
      "metadata": {
        "id": "a9DBs7dIAIDh"
      },
      "source": [
        "Проверка на коротких описаниях с кинопоиска"
      ]
    },
    {
      "cell_type": "code",
      "execution_count": null,
      "metadata": {
        "colab": {
          "base_uri": "https://localhost:8080/"
        },
        "id": "Qy95lPnkAIDs",
        "outputId": "8ef261ea-e7a9-48d4-c2f9-db018e3292d5"
      },
      "outputs": [
        {
          "name": "stderr",
          "output_type": "stream",
          "text": [
            "100%|██████████| 1500/1500 [00:00<00:00, 88831.01it/s]\n"
          ]
        },
        {
          "data": {
            "text/plain": [
              "0.3473333333333333"
            ]
          },
          "execution_count": 74,
          "metadata": {},
          "output_type": "execute_result"
        }
      ],
      "source": [
        "test_texts = movie_df.shortDescription.values\n",
        "y_true = movie_df.id.values\n",
        "y_pred= review_df.movieId[model.predict(test_texts)].values\n",
        "accuracy_score(y_true, y_pred)"
      ]
    },
    {
      "cell_type": "markdown",
      "metadata": {
        "id": "tfe18dlnAS8i"
      },
      "source": [
        "Проверка на собственном датасете"
      ]
    },
    {
      "cell_type": "code",
      "execution_count": null,
      "metadata": {
        "colab": {
          "base_uri": "https://localhost:8080/"
        },
        "id": "U0iSax06AS8t",
        "outputId": "fed41eba-9633-4aa4-dc3c-489523b61709"
      },
      "outputs": [
        {
          "name": "stderr",
          "output_type": "stream",
          "text": [
            "100%|██████████| 19/19 [00:00<00:00, 39885.77it/s]\n"
          ]
        },
        {
          "data": {
            "text/plain": [
              "0.21052631578947367"
            ]
          },
          "execution_count": 75,
          "metadata": {},
          "output_type": "execute_result"
        }
      ],
      "source": [
        "val_texts = val_df.review.values\n",
        "y_pred = review_df.movieId[model.predict(val_texts)].values\n",
        "y_true = val_df.movieId.values\n",
        "accuracy_score(y_true, y_pred)"
      ]
    },
    {
      "cell_type": "code",
      "execution_count": null,
      "metadata": {
        "colab": {
          "base_uri": "https://localhost:8080/",
          "height": 1000
        },
        "id": "kKd0EkqjAS8t",
        "outputId": "bb84cbc9-0561-4f68-dd10-897574a58d3a"
      },
      "outputs": [
        {
          "name": "stderr",
          "output_type": "stream",
          "text": [
            "100%|██████████| 19/19 [00:00<00:00, 5184.22it/s]\n",
            "100%|██████████| 19/19 [00:00<00:00, 13721.04it/s]\n",
            "100%|██████████| 19/19 [00:00<00:00, 18290.52it/s]"
          ]
        },
        {
          "name": "stdout",
          "output_type": "stream",
          "text": [
            "\n",
            "\n",
            "\n",
            "\n",
            "predicted = Твоё имя\n",
            "true = Атака титанов\n"
          ]
        },
        {
          "name": "stderr",
          "output_type": "stream",
          "text": [
            "\n"
          ]
        },
        {
          "data": {
            "text/html": [
              "\n",
              "        <p style=\"font-size:16px; color:#000000; border: 2px solid #000; text-align: justify; background-color:#ffffff; border-radius: 25px; padding: 20px;\">\n",
              "        <span style=\"background-color: #ffffff\"; title=\"0.00\">это</span> <span style=\"background-color: #ffffff\"; title=\"0.00\">аниме</span> <span style=\"background-color: #ffffff\"; title=\"0.00\">повествовать</span> <span style=\"background-color: #ffffff\"; title=\"0.00\">о</span> <span style=\"background-color: #ffffff\"; title=\"0.00\">атака</span> <span style=\"background-color: #ffffff\"; title=\"0.00\">гигантский</span> <span style=\"background-color: #ffffff\"; title=\"0.00\">человекоподобный</span> <span style=\"background-color: #ffffff\"; title=\"0.00\">существо</span> <span style=\"background-color: #ffffff\"; title=\"0.00\">на</span> <span style=\"background-color: #ffffff\"; title=\"0.00\">человек</span> <span style=\"background-color: #ffffff\"; title=\"0.00\">немой</span> <span style=\"background-color: #ffffff\"; title=\"0.00\">очень</span> <span style=\"background-color: #ffffff\"; title=\"0.00\">классный</span> <span style=\"background-color: #ffffff\"; title=\"0.00\">музыка</span> </p>"
            ],
            "text/plain": [
              "<IPython.core.display.HTML object>"
            ]
          },
          "metadata": {},
          "output_type": "display_data"
        },
        {
          "name": "stdout",
          "output_type": "stream",
          "text": [
            "\n",
            "\n",
            "\n",
            "\n",
            "predicted = Король и Шут\n",
            "true = Богемская рапсодия\n"
          ]
        },
        {
          "data": {
            "text/html": [
              "\n",
              "        <p style=\"font-size:16px; color:#000000; border: 2px solid #000; text-align: justify; background-color:#ffffff; border-radius: 25px; padding: 20px;\">\n",
              "        <span style=\"background-color: #ffffff\"; title=\"0.00\">это</span> <span style=\"background-color: #ffffff\"; title=\"0.00\">биографический</span> <span style=\"background-color: #ffffff\"; title=\"0.00\">фильм</span> <span style=\"background-color: #ffffff\"; title=\"0.00\">рассказываться</span> <span style=\"background-color: #ffffff\"; title=\"0.00\">жизнь</span> <span style=\"background-color: #ffffff\"; title=\"0.00\">вокалист</span> <span style=\"background-color: #ffffff\"; title=\"0.00\">известный</span> <span style=\"background-color: #d0d0ff\"; title=\"0.02\">группа</span> <span style=\"background-color: #ffffff\"; title=\"0.00\">конец</span> <span style=\"background-color: #ffffff\"; title=\"0.00\">он</span> <span style=\"background-color: #ffffff\"; title=\"0.00\">умереть</span> <span style=\"background-color: #ffffff\"; title=\"0.00\">от</span> <span style=\"background-color: #ffffff\"; title=\"0.00\">рак</span> </p>"
            ],
            "text/plain": [
              "<IPython.core.display.HTML object>"
            ]
          },
          "metadata": {},
          "output_type": "display_data"
        },
        {
          "name": "stdout",
          "output_type": "stream",
          "text": [
            "\n",
            "\n",
            "\n",
            "\n",
            "predicted = Мы купили зоопарк\n",
            "true = Бойцовский клуб\n"
          ]
        },
        {
          "data": {
            "text/html": [
              "\n",
              "        <p style=\"font-size:16px; color:#000000; border: 2px solid #000; text-align: justify; background-color:#ffffff; border-radius: 25px; padding: 20px;\">\n",
              "        <span style=\"background-color: #ffffff\"; title=\"0.00\">история</span> <span style=\"background-color: #ffffff\"; title=\"0.00\">про</span> <span style=\"background-color: #ffffff\"; title=\"0.00\">человек</span> <span style=\"background-color: #fbfbff\"; title=\"0.00\">который</span> <span style=\"background-color: #ffffff\"; title=\"0.00\">решить</span> <span style=\"background-color: #ffffff\"; title=\"0.00\">кардинально</span> <span style=\"background-color: #ffffff\"; title=\"0.00\">поменять</span> <span style=\"background-color: #ffffff\"; title=\"0.00\">свой</span> <span style=\"background-color: #ffffff\"; title=\"0.00\">жизнь</span> <span style=\"background-color: #ffffff\"; title=\"0.00\">заняться</span> <span style=\"background-color: #ffffff\"; title=\"0.00\">саморазрушение</span> <span style=\"background-color: #ffffff\"; title=\"0.00\">итог</span> <span style=\"background-color: #ffffff\"; title=\"0.00\">оказаться</span> <span style=\"background-color: #ffffff\"; title=\"0.00\">что</span> <span style=\"background-color: #ffffff\"; title=\"0.00\">он</span> <span style=\"background-color: #ffffff\"; title=\"0.00\">сойти</span> <span style=\"background-color: #ffffff\"; title=\"0.00\">ум</span> <span style=\"background-color: #ffffff\"; title=\"0.00\">он</span> <span style=\"background-color: #ffffff\"; title=\"0.00\">друг</span> <span style=\"background-color: #ffffff\"; title=\"0.00\">оказаться</span> <span style=\"background-color: #ffffff\"; title=\"0.00\">он</span> <span style=\"background-color: #ffffff\"; title=\"0.00\">сам</span> </p>"
            ],
            "text/plain": [
              "<IPython.core.display.HTML object>"
            ]
          },
          "metadata": {},
          "output_type": "display_data"
        },
        {
          "name": "stdout",
          "output_type": "stream",
          "text": [
            "\n",
            "\n",
            "\n",
            "\n",
            "predicted = ВАЛЛ·И\n",
            "true = ВАЛЛ·И\n"
          ]
        },
        {
          "data": {
            "text/html": [
              "\n",
              "        <p style=\"font-size:16px; color:#000000; border: 2px solid #000; text-align: justify; background-color:#ffffff; border-radius: 25px; padding: 20px;\">\n",
              "        <span style=\"background-color: #ffffff\"; title=\"0.00\">добрый</span> <span style=\"background-color: #ffffff\"; title=\"0.00\">мультик</span> <span style=\"background-color: #ffffff\"; title=\"0.00\">про</span> <span style=\"background-color: #d2d2ff\"; title=\"0.02\">робот</span> <span style=\"background-color: #ffffff\"; title=\"0.00\">мусорщик</span> <span style=\"background-color: #ffffff\"; title=\"0.00\">несерьёзный</span> <span style=\"background-color: #ffffff\"; title=\"0.00\">отношение</span> <span style=\"background-color: #f9f9ff\"; title=\"0.00\">человек</span> <span style=\"background-color: #ffffff\"; title=\"0.00\">природа</span> </p>"
            ],
            "text/plain": [
              "<IPython.core.display.HTML object>"
            ]
          },
          "metadata": {},
          "output_type": "display_data"
        },
        {
          "name": "stdout",
          "output_type": "stream",
          "text": [
            "\n",
            "\n",
            "\n",
            "\n",
            "predicted = Не смотрите наверх\n",
            "true = Волк с Уолл-стрит\n"
          ]
        },
        {
          "data": {
            "text/html": [
              "\n",
              "        <p style=\"font-size:16px; color:#000000; border: 2px solid #000; text-align: justify; background-color:#ffffff; border-radius: 25px; padding: 20px;\">\n",
              "        <span style=\"background-color: #ffffff\"; title=\"0.00\">фильм</span> <span style=\"background-color: #ffffff\"; title=\"0.00\">биография</span> <span style=\"background-color: #ffffff\"; title=\"0.00\">про</span> <span style=\"background-color: #ffffff\"; title=\"0.00\">брокер</span> <span style=\"background-color: #ffffff\"; title=\"0.00\">фильм</span> <span style=\"background-color: #ffffff\"; title=\"0.00\">большой</span> <span style=\"background-color: #ffffff\"; title=\"0.00\">количество</span> <span style=\"background-color: #ffffff\"; title=\"0.00\">похабщина</span> <span style=\"background-color: #ffffff\"; title=\"0.00\">наркотик</span> <span style=\"background-color: #ffffff\"; title=\"0.00\">прочее</span> <span style=\"background-color: #ffffff\"; title=\"0.00\">ди</span> <span style=\"background-color: #ffffff\"; title=\"0.00\">каприо</span> <span style=\"background-color: #ffffff\"; title=\"0.00\">классно</span> <span style=\"background-color: #ffffff\"; title=\"0.00\">сыграть</span> </p>"
            ],
            "text/plain": [
              "<IPython.core.display.HTML object>"
            ]
          },
          "metadata": {},
          "output_type": "display_data"
        },
        {
          "name": "stdout",
          "output_type": "stream",
          "text": [
            "\n",
            "\n",
            "\n",
            "\n",
            "predicted = Орудия смерти: Город костей\n",
            "true = Гарри Поттер и философский камень\n"
          ]
        },
        {
          "data": {
            "text/html": [
              "\n",
              "        <p style=\"font-size:16px; color:#000000; border: 2px solid #000; text-align: justify; background-color:#ffffff; border-radius: 25px; padding: 20px;\">\n",
              "        <span style=\"background-color: #ffffff\"; title=\"0.00\">фильм</span> <span style=\"background-color: #ffffff\"; title=\"0.00\">по</span> <span style=\"background-color: #ffffff\"; title=\"0.00\">известный</span> <span style=\"background-color: #ffffff\"; title=\"0.00\">серия</span> <span style=\"background-color: #ffffff\"; title=\"0.00\">книга</span> <span style=\"background-color: #ffffff\"; title=\"0.00\">про</span> <span style=\"background-color: #ffffff\"; title=\"0.00\">особенный</span> <span style=\"background-color: #ffffff\"; title=\"0.00\">ребёнок</span> <span style=\"background-color: #ffffff\"; title=\"0.00\">волшебник</span> <span style=\"background-color: #ffffff\"; title=\"0.00\">это</span> <span style=\"background-color: #ffffff\"; title=\"0.00\">первый</span> <span style=\"background-color: #ffffff\"; title=\"0.00\">часть</span> </p>"
            ],
            "text/plain": [
              "<IPython.core.display.HTML object>"
            ]
          },
          "metadata": {},
          "output_type": "display_data"
        },
        {
          "name": "stdout",
          "output_type": "stream",
          "text": [
            "\n",
            "\n",
            "\n",
            "\n",
            "predicted = Зеленая миля\n",
            "true = Зеленая миля\n"
          ]
        },
        {
          "data": {
            "text/html": [
              "\n",
              "        <p style=\"font-size:16px; color:#000000; border: 2px solid #000; text-align: justify; background-color:#ffffff; border-radius: 25px; padding: 20px;\">\n",
              "        <span style=\"background-color: #ffffff\"; title=\"0.00\">старый</span> <span style=\"background-color: #ffffff\"; title=\"0.00\">фильм</span> <span style=\"background-color: #ffffff\"; title=\"0.00\">по</span> <span style=\"background-color: #ffffff\"; title=\"0.00\">книга</span> <span style=\"background-color: #ffffff\"; title=\"0.00\">стивен</span> <span style=\"background-color: #ffffff\"; title=\"0.00\">кинг</span> <span style=\"background-color: #fcfcff\"; title=\"0.00\">который</span> <span style=\"background-color: #ceceff\"; title=\"0.02\">заключить</span> <span style=\"background-color: #ffffff\"; title=\"0.00\">чернокожий</span> <span style=\"background-color: #ffffff\"; title=\"0.00\">приговаривать</span> <span style=\"background-color: #ffffff\"; title=\"0.00\">смертный</span> <span style=\"background-color: #bebeff\"; title=\"0.03\">казнь</span> <span style=\"background-color: #ffffff\"; title=\"0.00\">за</span> <span style=\"background-color: #ffffff\"; title=\"0.00\">то</span> <span style=\"background-color: #ffffff\"; title=\"0.00\">что</span> <span style=\"background-color: #ffffff\"; title=\"0.00\">он</span> <span style=\"background-color: #ffffff\"; title=\"0.00\">не</span> <span style=\"background-color: #ffffff\"; title=\"0.00\">совершать</span> </p>"
            ],
            "text/plain": [
              "<IPython.core.display.HTML object>"
            ]
          },
          "metadata": {},
          "output_type": "display_data"
        },
        {
          "name": "stdout",
          "output_type": "stream",
          "text": [
            "\n",
            "\n",
            "\n",
            "\n",
            "predicted = Кин-дза-дза!\n",
            "true = Интерстеллар\n"
          ]
        },
        {
          "data": {
            "text/html": [
              "\n",
              "        <p style=\"font-size:16px; color:#000000; border: 2px solid #000; text-align: justify; background-color:#ffffff; border-radius: 25px; padding: 20px;\">\n",
              "        <span style=\"background-color: #ffffff\"; title=\"0.00\">недалёкий</span> <span style=\"background-color: #ffffff\"; title=\"0.00\">будущее</span> <span style=\"background-color: #ffffff\"; title=\"0.00\">наш</span> <span style=\"background-color: #d0d0ff\"; title=\"0.02\">планета</span> <span style=\"background-color: #ffffff\"; title=\"0.00\">стать</span> <span style=\"background-color: #ffffff\"; title=\"0.00\">практически</span> <span style=\"background-color: #ffffff\"; title=\"0.00\">непригодный</span> <span style=\"background-color: #ffffff\"; title=\"0.00\">для</span> <span style=\"background-color: #ffffff\"; title=\"0.00\">жизнь</span> <span style=\"background-color: #ffffff\"; title=\"0.00\">человечество</span> <span style=\"background-color: #ffffff\"; title=\"0.00\">организовать</span> <span style=\"background-color: #ffffff\"; title=\"0.00\">масштабный</span> <span style=\"background-color: #ffffff\"; title=\"0.00\">миссия</span> <span style=\"background-color: #ffffff\"; title=\"0.00\">по</span> <span style=\"background-color: #ffffff\"; title=\"0.00\">нахождение</span> <span style=\"background-color: #ffffff\"; title=\"0.00\">новый</span> <span style=\"background-color: #d0d0ff\"; title=\"0.02\">планета</span> <span style=\"background-color: #ffffff\"; title=\"0.00\">для</span> <span style=\"background-color: #ffffff\"; title=\"0.00\">жизнь</span> </p>"
            ],
            "text/plain": [
              "<IPython.core.display.HTML object>"
            ]
          },
          "metadata": {},
          "output_type": "display_data"
        },
        {
          "name": "stdout",
          "output_type": "stream",
          "text": [
            "\n",
            "\n",
            "\n",
            "\n",
            "predicted = Остров проклятых\n",
            "true = Остров проклятых\n"
          ]
        },
        {
          "data": {
            "text/html": [
              "\n",
              "        <p style=\"font-size:16px; color:#000000; border: 2px solid #000; text-align: justify; background-color:#ffffff; border-radius: 25px; padding: 20px;\">\n",
              "        <span style=\"background-color: #ffffff\"; title=\"0.00\">фильм</span> <span style=\"background-color: #ffffff\"; title=\"0.00\">по</span> <span style=\"background-color: #ffffff\"; title=\"0.00\">книга</span> <span style=\"background-color: #ffffff\"; title=\"0.00\">рассказать</span> <span style=\"background-color: #ffffff\"; title=\"0.00\">история</span> <span style=\"background-color: #ffffff\"; title=\"0.00\">детектив</span> <span style=\"background-color: #ffffff\"; title=\"0.00\">который</span> <span style=\"background-color: #ffffff\"; title=\"0.00\">высадиться</span> <span style=\"background-color: #ffffff\"; title=\"0.00\">на</span> <span style=\"background-color: #cdcdff\"; title=\"0.02\">остров</span> <span style=\"background-color: #ffffff\"; title=\"0.00\">с</span> <span style=\"background-color: #ffffff\"; title=\"0.00\">свой</span> <span style=\"background-color: #ffffff\"; title=\"0.00\">напарник</span> <span style=\"background-color: #ffffff\"; title=\"0.00\">стать</span> <span style=\"background-color: #b5b5ff\"; title=\"0.03\">расследовать</span> <span style=\"background-color: #ffffff\"; title=\"0.00\">пропажа</span> <span style=\"background-color: #ffffff\"; title=\"0.00\">один</span> <span style=\"background-color: #6c6cff\"; title=\"0.07\">пациентка</span> </p>"
            ],
            "text/plain": [
              "<IPython.core.display.HTML object>"
            ]
          },
          "metadata": {},
          "output_type": "display_data"
        },
        {
          "name": "stdout",
          "output_type": "stream",
          "text": [
            "\n",
            "\n",
            "\n",
            "\n",
            "predicted = Новый Человек-паук\n",
            "true = По соображениям совести\n"
          ]
        },
        {
          "data": {
            "text/html": [
              "\n",
              "        <p style=\"font-size:16px; color:#000000; border: 2px solid #000; text-align: justify; background-color:#ffffff; border-radius: 25px; padding: 20px;\">\n",
              "        <span style=\"background-color: #ffffff\"; title=\"0.00\">актёр</span> <span style=\"background-color: #ffffff\"; title=\"0.00\">из</span> <span style=\"background-color: #f9f9ff\"; title=\"0.00\">человек</span> <span style=\"background-color: #8f8fff\"; title=\"0.05\">паук</span> <span style=\"background-color: #ffffff\"; title=\"0.00\">фильм</span> <span style=\"background-color: #ffffff\"; title=\"0.00\">про</span> <span style=\"background-color: #ffffff\"; title=\"0.00\">война</span> </p>"
            ],
            "text/plain": [
              "<IPython.core.display.HTML object>"
            ]
          },
          "metadata": {},
          "output_type": "display_data"
        },
        {
          "name": "stdout",
          "output_type": "stream",
          "text": [
            "\n",
            "\n",
            "\n",
            "\n",
            "predicted = Новый Человек-паук\n",
            "true = По соображениям совести\n"
          ]
        },
        {
          "data": {
            "text/html": [
              "\n",
              "        <p style=\"font-size:16px; color:#000000; border: 2px solid #000; text-align: justify; background-color:#ffffff; border-radius: 25px; padding: 20px;\">\n",
              "        <span style=\"background-color: #ffffff\"; title=\"0.00\">актёр</span> <span style=\"background-color: #ffffff\"; title=\"0.00\">из</span> <span style=\"background-color: #fbfbff\"; title=\"0.00\">человек</span> <span style=\"background-color: #babaff\"; title=\"0.03\">паук</span> <span style=\"background-color: #eaeaff\"; title=\"0.01\">помогать</span> <span style=\"background-color: #ffffff\"; title=\"0.00\">бороться</span> <span style=\"background-color: #ffffff\"; title=\"0.00\">против</span> <span style=\"background-color: #ffffff\"; title=\"0.00\">японец</span> </p>"
            ],
            "text/plain": [
              "<IPython.core.display.HTML object>"
            ]
          },
          "metadata": {},
          "output_type": "display_data"
        },
        {
          "name": "stdout",
          "output_type": "stream",
          "text": [
            "\n",
            "\n",
            "\n",
            "\n",
            "predicted = Рататуй\n",
            "true = Рататуй\n"
          ]
        },
        {
          "data": {
            "text/html": [
              "\n",
              "        <p style=\"font-size:16px; color:#000000; border: 2px solid #000; text-align: justify; background-color:#ffffff; border-radius: 25px; padding: 20px;\">\n",
              "        <span style=\"background-color: #ffffff\"; title=\"0.00\">мультик</span> <span style=\"background-color: #ffffff\"; title=\"0.00\">про</span> <span style=\"background-color: #c6c6ff\"; title=\"0.03\">крыса</span> <span style=\"background-color: #fdfdff\"; title=\"0.00\">который</span> <span style=\"background-color: #ffffff\"; title=\"0.00\">любить</span> <span style=\"background-color: #ffffff\"; title=\"0.00\">готовить</span> <span style=\"background-color: #ffffff\"; title=\"0.00\">помогать</span> <span style=\"background-color: #ffffff\"; title=\"0.00\">это</span> <span style=\"background-color: #ffffff\"; title=\"0.00\">неопытный</span> <span style=\"background-color: #ffffff\"; title=\"0.00\">челик</span> <span style=\"background-color: #ffffff\"; title=\"0.00\">но</span> <span style=\"background-color: #ffffff\"; title=\"0.00\">там</span> <span style=\"background-color: #ffffff\"; title=\"0.00\">подниматься</span> <span style=\"background-color: #ffffff\"; title=\"0.00\">всякий</span> <span style=\"background-color: #ffffff\"; title=\"0.00\">недетский</span> <span style=\"background-color: #ffffff\"; title=\"0.00\">тема</span> <span style=\"background-color: #ffffff\"; title=\"0.00\">предназначение</span> </p>"
            ],
            "text/plain": [
              "<IPython.core.display.HTML object>"
            ]
          },
          "metadata": {},
          "output_type": "display_data"
        },
        {
          "name": "stdout",
          "output_type": "stream",
          "text": [
            "\n",
            "\n",
            "\n",
            "\n",
            "predicted = Русалочка\n",
            "true = Титаник\n"
          ]
        },
        {
          "data": {
            "text/html": [
              "\n",
              "        <p style=\"font-size:16px; color:#000000; border: 2px solid #000; text-align: justify; background-color:#ffffff; border-radius: 25px; padding: 20px;\">\n",
              "        <span style=\"background-color: #ffffff\"; title=\"0.00\">супер</span> <span style=\"background-color: #ffffff\"; title=\"0.00\">популярный</span> <span style=\"background-color: #ffffff\"; title=\"0.00\">фильм</span> <span style=\"background-color: #ffffff\"; title=\"0.00\">затонуть</span> <span style=\"background-color: #ffffff\"; title=\"0.00\">корабль</span> <span style=\"background-color: #f0f0ff\"; title=\"0.01\">любовь</span> </p>"
            ],
            "text/plain": [
              "<IPython.core.display.HTML object>"
            ]
          },
          "metadata": {},
          "output_type": "display_data"
        },
        {
          "name": "stdout",
          "output_type": "stream",
          "text": [
            "\n",
            "\n",
            "\n",
            "\n",
            "predicted = Шрэк навсегда\n",
            "true = Шрэк\n"
          ]
        },
        {
          "data": {
            "text/html": [
              "\n",
              "        <p style=\"font-size:16px; color:#000000; border: 2px solid #000; text-align: justify; background-color:#ffffff; border-radius: 25px; padding: 20px;\">\n",
              "        <span style=\"background-color: #ffffff\"; title=\"0.00\">мультик</span> <span style=\"background-color: #ffffff\"; title=\"0.00\">про</span> <span style=\"background-color: #00ff\"; title=\"0.12\">огра</span> <span style=\"background-color: #ffffff\"; title=\"0.00\">жить</span> <span style=\"background-color: #ffffff\"; title=\"0.00\">на</span> <span style=\"background-color: #ffffff\"; title=\"0.00\">болото</span> </p>"
            ],
            "text/plain": [
              "<IPython.core.display.HTML object>"
            ]
          },
          "metadata": {},
          "output_type": "display_data"
        },
        {
          "name": "stdout",
          "output_type": "stream",
          "text": [
            "\n",
            "\n",
            "\n",
            "\n",
            "predicted = Мгла\n",
            "true = Оно\n"
          ]
        },
        {
          "data": {
            "text/html": [
              "\n",
              "        <p style=\"font-size:16px; color:#000000; border: 2px solid #000; text-align: justify; background-color:#ffffff; border-radius: 25px; padding: 20px;\">\n",
              "        <span style=\"background-color: #ffffff\"; title=\"0.00\">ужастик</span> <span style=\"background-color: #ffffff\"; title=\"0.00\">от</span> <span style=\"background-color: #ffffff\"; title=\"0.00\">стивен</span> <span style=\"background-color: #ffffff\"; title=\"0.00\">кинг</span> <span style=\"background-color: #ffffff\"; title=\"0.00\">про</span> <span style=\"background-color: #ffffff\"; title=\"0.00\">существо</span> <span style=\"background-color: #ffffff\"; title=\"0.00\">который</span> <span style=\"background-color: #ffffff\"; title=\"0.00\">менять</span> <span style=\"background-color: #ffffff\"; title=\"0.00\">свой</span> <span style=\"background-color: #ffffff\"; title=\"0.00\">облик</span> <span style=\"background-color: #ffffff\"; title=\"0.00\">на</span> <span style=\"background-color: #ffffff\"; title=\"0.00\">человеческий</span> <span style=\"background-color: #ffffff\"; title=\"0.00\">страх</span> </p>"
            ],
            "text/plain": [
              "<IPython.core.display.HTML object>"
            ]
          },
          "metadata": {},
          "output_type": "display_data"
        },
        {
          "name": "stdout",
          "output_type": "stream",
          "text": [
            "\n",
            "\n",
            "\n",
            "\n",
            "predicted = Король и Шут\n",
            "true = Властелин колец: Братство Кольца\n"
          ]
        },
        {
          "data": {
            "text/html": [
              "\n",
              "        <p style=\"font-size:16px; color:#000000; border: 2px solid #000; text-align: justify; background-color:#ffffff; border-radius: 25px; padding: 20px;\">\n",
              "        <span style=\"background-color: #babaff\"; title=\"0.03\">группа</span> <span style=\"background-color: #ffffff\"; title=\"0.00\">низкорослый</span> <span style=\"background-color: #ffffff\"; title=\"0.00\">человек</span> <span style=\"background-color: #c9c9ff\"; title=\"0.02\">отправляться</span> <span style=\"background-color: #ffffff\"; title=\"0.00\">поход</span> <span style=\"background-color: #ffffff\"; title=\"0.00\">чтобы</span> <span style=\"background-color: #ffffff\"; title=\"0.00\">избавиться</span> <span style=\"background-color: #ffffff\"; title=\"0.00\">от</span> <span style=\"background-color: #ffffff\"; title=\"0.00\">драгоценность</span> </p>"
            ],
            "text/plain": [
              "<IPython.core.display.HTML object>"
            ]
          },
          "metadata": {},
          "output_type": "display_data"
        },
        {
          "name": "stdout",
          "output_type": "stream",
          "text": [
            "\n",
            "\n",
            "\n",
            "\n",
            "predicted = Живая сталь\n",
            "true = ВАЛЛ·И\n"
          ]
        },
        {
          "data": {
            "text/html": [
              "\n",
              "        <p style=\"font-size:16px; color:#000000; border: 2px solid #000; text-align: justify; background-color:#ffffff; border-radius: 25px; padding: 20px;\">\n",
              "        <span style=\"background-color: #f9f9ff\"; title=\"0.00\">очень</span> <span style=\"background-color: #ffffff\"; title=\"0.00\">толстый</span> <span style=\"background-color: #f9f9ff\"; title=\"0.00\">человек</span> <span style=\"background-color: #ffffff\"; title=\"0.00\">сбегать</span> <span style=\"background-color: #ffffff\"; title=\"0.00\">земля</span> <span style=\"background-color: #ffffff\"; title=\"0.00\">чтобы</span> <span style=\"background-color: #ffffff\"; title=\"0.00\">конечный</span> <span style=\"background-color: #ffffff\"; title=\"0.00\">итог</span> <span style=\"background-color: #ffffff\"; title=\"0.00\">они</span> <span style=\"background-color: #ffffff\"; title=\"0.00\">спасти</span> <span style=\"background-color: #ffffff\"; title=\"0.00\">ботинок</span> <span style=\"background-color: #ffffff\"; title=\"0.00\">который</span> <span style=\"background-color: #ececff\"; title=\"0.01\">найти</span> <span style=\"background-color: #a2a2ff\"; title=\"0.04\">робот</span> <span style=\"background-color: #ffffff\"; title=\"0.00\">пылесос</span> </p>"
            ],
            "text/plain": [
              "<IPython.core.display.HTML object>"
            ]
          },
          "metadata": {},
          "output_type": "display_data"
        },
        {
          "name": "stdout",
          "output_type": "stream",
          "text": [
            "\n",
            "\n",
            "\n",
            "\n",
            "predicted = Однажды в Вегасе\n",
            "true = Один дома\n"
          ]
        },
        {
          "data": {
            "text/html": [
              "\n",
              "        <p style=\"font-size:16px; color:#000000; border: 2px solid #000; text-align: justify; background-color:#ffffff; border-radius: 25px; padding: 20px;\">\n",
              "        <span style=\"background-color: #ffffff\"; title=\"0.00\">безответственный</span> <span style=\"background-color: #ffffff\"; title=\"0.00\">семья</span> <span style=\"background-color: #ffffff\"; title=\"0.00\">безответственный</span> <span style=\"background-color: #ffffff\"; title=\"0.00\">ребёнок</span> <span style=\"background-color: #ffffff\"; title=\"0.00\">безответственный</span> <span style=\"background-color: #ffffff\"; title=\"0.00\">грабитель</span> <span style=\"background-color: #ffffff\"; title=\"0.00\">ещё</span> <span style=\"background-color: #ffffff\"; title=\"0.00\">канун</span> <span style=\"background-color: #ffffff\"; title=\"0.00\">праздник</span> </p>"
            ],
            "text/plain": [
              "<IPython.core.display.HTML object>"
            ]
          },
          "metadata": {},
          "output_type": "display_data"
        },
        {
          "name": "stdout",
          "output_type": "stream",
          "text": [
            "\n",
            "\n",
            "\n",
            "\n",
            "predicted = Мизантроп\n",
            "true = Шрэк\n"
          ]
        },
        {
          "data": {
            "text/html": [
              "\n",
              "        <p style=\"font-size:16px; color:#000000; border: 2px solid #000; text-align: justify; background-color:#ffffff; border-radius: 25px; padding: 20px;\">\n",
              "        <span style=\"background-color: #ffffff\"; title=\"0.00\">мизантроп</span> <span style=\"background-color: #ffffff\"; title=\"0.00\">жить</span> <span style=\"background-color: #ffffff\"; title=\"0.00\">поодаль</span> <span style=\"background-color: #ffffff\"; title=\"0.00\">от</span> <span style=\"background-color: #ffffff\"; title=\"0.00\">городской</span> <span style=\"background-color: #ffffff\"; title=\"0.00\">суета</span> <span style=\"background-color: #ffffff\"; title=\"0.00\">ввязываться</span> <span style=\"background-color: #ffffff\"; title=\"0.00\">сомнительный</span> <span style=\"background-color: #ffffff\"; title=\"0.00\">путешествие</span> <span style=\"background-color: #ffffff\"; title=\"0.00\">дабы</span> <span style=\"background-color: #ffffff\"; title=\"0.00\">решить</span> <span style=\"background-color: #ffffff\"; title=\"0.00\">проблема</span> <span style=\"background-color: #ffffff\"; title=\"0.00\">недвижимость</span> <span style=\"background-color: #ffffff\"; title=\"0.00\">конец</span> <span style=\"background-color: #ffffff\"; title=\"0.00\">фильм</span> <span style=\"background-color: #ffffff\"; title=\"0.00\">он</span> <span style=\"background-color: #ffffff\"; title=\"0.00\">понимать</span> <span style=\"background-color: #ffffff\"; title=\"0.00\">что</span> <span style=\"background-color: #ffffff\"; title=\"0.00\">любовь</span> <span style=\"background-color: #ffffff\"; title=\"0.00\">сильный</span> <span style=\"background-color: #ffffff\"; title=\"0.00\">мизантропия</span> <span style=\"background-color: #ffffff\"; title=\"0.00\">жениться</span> <span style=\"background-color: #ffffff\"; title=\"0.00\">но</span> <span style=\"background-color: #ffffff\"; title=\"0.00\">жить</span> <span style=\"background-color: #ffffff\"; title=\"0.00\">оставаться</span> <span style=\"background-color: #ffffff\"; title=\"0.00\">всё</span> <span style=\"background-color: #ffffff\"; title=\"0.00\">также</span> <span style=\"background-color: #ffffff\"; title=\"0.00\">далеко</span> <span style=\"background-color: #ffffff\"; title=\"0.00\">от</span> <span style=\"background-color: #f1f1ff\"; title=\"0.01\">город</span> </p>"
            ],
            "text/plain": [
              "<IPython.core.display.HTML object>"
            ]
          },
          "metadata": {},
          "output_type": "display_data"
        }
      ],
      "source": [
        "validate(y_pred, y_true, val_texts)"
      ]
    },
    {
      "cell_type": "markdown",
      "metadata": {
        "id": "t2uCXt5_G3PS"
      },
      "source": [
        "### Описания будут сравниваться с отзывами (все предложения из отзывов отдельно)"
      ]
    },
    {
      "cell_type": "code",
      "execution_count": null,
      "metadata": {
        "id": "3RUl97mBIQJB"
      },
      "outputs": [],
      "source": [
        "model = TfidfModel(stop_words = stop_words, ngram_range=(1, 2), max_df = 0.5)"
      ]
    },
    {
      "cell_type": "code",
      "execution_count": null,
      "metadata": {
        "id": "25AviTxGBppH"
      },
      "outputs": [],
      "source": [
        "# разделить отзывы на предложения\n",
        "sentences = []\n",
        "for review in review_df['review']:\n",
        "    for sent in nltk.sent_tokenize(review):\n",
        "        sentences.append(sent)\n",
        "\n",
        "# создать новый датафрейм\n",
        "review_sent_df = pd.DataFrame({'sentences': sentences, 'movieId': review_df['movieId'].repeat(review_df['review'].apply(nltk.sent_tokenize).apply(len))}).reset_index(drop=True)"
      ]
    },
    {
      "cell_type": "code",
      "execution_count": null,
      "metadata": {
        "colab": {
          "base_uri": "https://localhost:8080/",
          "height": 423
        },
        "id": "BZ_3vP_KIxQP",
        "outputId": "c8d4d182-a865-4beb-f066-2011712cc8f5"
      },
      "outputs": [
        {
          "data": {
            "text/html": [
              "\n",
              "  <div id=\"df-7665531d-05ea-4053-aae0-0eb0c6b88173\" class=\"colab-df-container\">\n",
              "    <div>\n",
              "<style scoped>\n",
              "    .dataframe tbody tr th:only-of-type {\n",
              "        vertical-align: middle;\n",
              "    }\n",
              "\n",
              "    .dataframe tbody tr th {\n",
              "        vertical-align: top;\n",
              "    }\n",
              "\n",
              "    .dataframe thead th {\n",
              "        text-align: right;\n",
              "    }\n",
              "</style>\n",
              "<table border=\"1\" class=\"dataframe\">\n",
              "  <thead>\n",
              "    <tr style=\"text-align: right;\">\n",
              "      <th></th>\n",
              "      <th>sentences</th>\n",
              "      <th>movieId</th>\n",
              "    </tr>\n",
              "  </thead>\n",
              "  <tbody>\n",
              "    <tr>\n",
              "      <th>0</th>\n",
              "      <td>Говоря про фильм «Побег из Шоушенка», то я все...</td>\n",
              "      <td>326</td>\n",
              "    </tr>\n",
              "    <tr>\n",
              "      <th>1</th>\n",
              "      <td>Это точно история Реддинга, а не Энди Дюфрейна...</td>\n",
              "      <td>326</td>\n",
              "    </tr>\n",
              "    <tr>\n",
              "      <th>2</th>\n",
              "      <td>Он действительно предстает перед нами, как зре...</td>\n",
              "      <td>326</td>\n",
              "    </tr>\n",
              "    <tr>\n",
              "      <th>3</th>\n",
              "      <td>Это точно история Эллиса Бойда Реддинга, тем б...</td>\n",
              "      <td>326</td>\n",
              "    </tr>\n",
              "    <tr>\n",
              "      <th>4</th>\n",
              "      <td>Очень понравилась концовка.</td>\n",
              "      <td>5019944</td>\n",
              "    </tr>\n",
              "    <tr>\n",
              "      <th>...</th>\n",
              "      <td>...</td>\n",
              "      <td>...</td>\n",
              "    </tr>\n",
              "    <tr>\n",
              "      <th>337811</th>\n",
              "      <td>Но далеко не всегда фильм объясняет, почему им...</td>\n",
              "      <td>933208</td>\n",
              "    </tr>\n",
              "    <tr>\n",
              "      <th>337812</th>\n",
              "      <td>В «Коме» такой, казалось бы, незначительной де...</td>\n",
              "      <td>933208</td>\n",
              "    </tr>\n",
              "    <tr>\n",
              "      <th>337813</th>\n",
              "      <td>Именно эта деталь, думаю, и является ядром фил...</td>\n",
              "      <td>933208</td>\n",
              "    </tr>\n",
              "    <tr>\n",
              "      <th>337814</th>\n",
              "      <td>Именно эта деталь придаёт открытой концовке ос...</td>\n",
              "      <td>933208</td>\n",
              "    </tr>\n",
              "    <tr>\n",
              "      <th>337815</th>\n",
              "      <td>Именно эта деталь оставляет надежду на продолж...</td>\n",
              "      <td>933208</td>\n",
              "    </tr>\n",
              "  </tbody>\n",
              "</table>\n",
              "<p>337816 rows × 2 columns</p>\n",
              "</div>\n",
              "    <div class=\"colab-df-buttons\">\n",
              "\n",
              "  <div class=\"colab-df-container\">\n",
              "    <button class=\"colab-df-convert\" onclick=\"convertToInteractive('df-7665531d-05ea-4053-aae0-0eb0c6b88173')\"\n",
              "            title=\"Convert this dataframe to an interactive table.\"\n",
              "            style=\"display:none;\">\n",
              "\n",
              "  <svg xmlns=\"http://www.w3.org/2000/svg\" height=\"24px\" viewBox=\"0 -960 960 960\">\n",
              "    <path d=\"M120-120v-720h720v720H120Zm60-500h600v-160H180v160Zm220 220h160v-160H400v160Zm0 220h160v-160H400v160ZM180-400h160v-160H180v160Zm440 0h160v-160H620v160ZM180-180h160v-160H180v160Zm440 0h160v-160H620v160Z\"/>\n",
              "  </svg>\n",
              "    </button>\n",
              "\n",
              "  <style>\n",
              "    .colab-df-container {\n",
              "      display:flex;\n",
              "      gap: 12px;\n",
              "    }\n",
              "\n",
              "    .colab-df-convert {\n",
              "      background-color: #E8F0FE;\n",
              "      border: none;\n",
              "      border-radius: 50%;\n",
              "      cursor: pointer;\n",
              "      display: none;\n",
              "      fill: #1967D2;\n",
              "      height: 32px;\n",
              "      padding: 0 0 0 0;\n",
              "      width: 32px;\n",
              "    }\n",
              "\n",
              "    .colab-df-convert:hover {\n",
              "      background-color: #E2EBFA;\n",
              "      box-shadow: 0px 1px 2px rgba(60, 64, 67, 0.3), 0px 1px 3px 1px rgba(60, 64, 67, 0.15);\n",
              "      fill: #174EA6;\n",
              "    }\n",
              "\n",
              "    .colab-df-buttons div {\n",
              "      margin-bottom: 4px;\n",
              "    }\n",
              "\n",
              "    [theme=dark] .colab-df-convert {\n",
              "      background-color: #3B4455;\n",
              "      fill: #D2E3FC;\n",
              "    }\n",
              "\n",
              "    [theme=dark] .colab-df-convert:hover {\n",
              "      background-color: #434B5C;\n",
              "      box-shadow: 0px 1px 3px 1px rgba(0, 0, 0, 0.15);\n",
              "      filter: drop-shadow(0px 1px 2px rgba(0, 0, 0, 0.3));\n",
              "      fill: #FFFFFF;\n",
              "    }\n",
              "  </style>\n",
              "\n",
              "    <script>\n",
              "      const buttonEl =\n",
              "        document.querySelector('#df-7665531d-05ea-4053-aae0-0eb0c6b88173 button.colab-df-convert');\n",
              "      buttonEl.style.display =\n",
              "        google.colab.kernel.accessAllowed ? 'block' : 'none';\n",
              "\n",
              "      async function convertToInteractive(key) {\n",
              "        const element = document.querySelector('#df-7665531d-05ea-4053-aae0-0eb0c6b88173');\n",
              "        const dataTable =\n",
              "          await google.colab.kernel.invokeFunction('convertToInteractive',\n",
              "                                                    [key], {});\n",
              "        if (!dataTable) return;\n",
              "\n",
              "        const docLinkHtml = 'Like what you see? Visit the ' +\n",
              "          '<a target=\"_blank\" href=https://colab.research.google.com/notebooks/data_table.ipynb>data table notebook</a>'\n",
              "          + ' to learn more about interactive tables.';\n",
              "        element.innerHTML = '';\n",
              "        dataTable['output_type'] = 'display_data';\n",
              "        await google.colab.output.renderOutput(dataTable, element);\n",
              "        const docLink = document.createElement('div');\n",
              "        docLink.innerHTML = docLinkHtml;\n",
              "        element.appendChild(docLink);\n",
              "      }\n",
              "    </script>\n",
              "  </div>\n",
              "\n",
              "\n",
              "<div id=\"df-751ba80b-9028-4087-86e5-4ad479ab73f2\">\n",
              "  <button class=\"colab-df-quickchart\" onclick=\"quickchart('df-751ba80b-9028-4087-86e5-4ad479ab73f2')\"\n",
              "            title=\"Suggest charts\"\n",
              "            style=\"display:none;\">\n",
              "\n",
              "<svg xmlns=\"http://www.w3.org/2000/svg\" height=\"24px\"viewBox=\"0 0 24 24\"\n",
              "     width=\"24px\">\n",
              "    <g>\n",
              "        <path d=\"M19 3H5c-1.1 0-2 .9-2 2v14c0 1.1.9 2 2 2h14c1.1 0 2-.9 2-2V5c0-1.1-.9-2-2-2zM9 17H7v-7h2v7zm4 0h-2V7h2v10zm4 0h-2v-4h2v4z\"/>\n",
              "    </g>\n",
              "</svg>\n",
              "  </button>\n",
              "\n",
              "<style>\n",
              "  .colab-df-quickchart {\n",
              "      --bg-color: #E8F0FE;\n",
              "      --fill-color: #1967D2;\n",
              "      --hover-bg-color: #E2EBFA;\n",
              "      --hover-fill-color: #174EA6;\n",
              "      --disabled-fill-color: #AAA;\n",
              "      --disabled-bg-color: #DDD;\n",
              "  }\n",
              "\n",
              "  [theme=dark] .colab-df-quickchart {\n",
              "      --bg-color: #3B4455;\n",
              "      --fill-color: #D2E3FC;\n",
              "      --hover-bg-color: #434B5C;\n",
              "      --hover-fill-color: #FFFFFF;\n",
              "      --disabled-bg-color: #3B4455;\n",
              "      --disabled-fill-color: #666;\n",
              "  }\n",
              "\n",
              "  .colab-df-quickchart {\n",
              "    background-color: var(--bg-color);\n",
              "    border: none;\n",
              "    border-radius: 50%;\n",
              "    cursor: pointer;\n",
              "    display: none;\n",
              "    fill: var(--fill-color);\n",
              "    height: 32px;\n",
              "    padding: 0;\n",
              "    width: 32px;\n",
              "  }\n",
              "\n",
              "  .colab-df-quickchart:hover {\n",
              "    background-color: var(--hover-bg-color);\n",
              "    box-shadow: 0 1px 2px rgba(60, 64, 67, 0.3), 0 1px 3px 1px rgba(60, 64, 67, 0.15);\n",
              "    fill: var(--button-hover-fill-color);\n",
              "  }\n",
              "\n",
              "  .colab-df-quickchart-complete:disabled,\n",
              "  .colab-df-quickchart-complete:disabled:hover {\n",
              "    background-color: var(--disabled-bg-color);\n",
              "    fill: var(--disabled-fill-color);\n",
              "    box-shadow: none;\n",
              "  }\n",
              "\n",
              "  .colab-df-spinner {\n",
              "    border: 2px solid var(--fill-color);\n",
              "    border-color: transparent;\n",
              "    border-bottom-color: var(--fill-color);\n",
              "    animation:\n",
              "      spin 1s steps(1) infinite;\n",
              "  }\n",
              "\n",
              "  @keyframes spin {\n",
              "    0% {\n",
              "      border-color: transparent;\n",
              "      border-bottom-color: var(--fill-color);\n",
              "      border-left-color: var(--fill-color);\n",
              "    }\n",
              "    20% {\n",
              "      border-color: transparent;\n",
              "      border-left-color: var(--fill-color);\n",
              "      border-top-color: var(--fill-color);\n",
              "    }\n",
              "    30% {\n",
              "      border-color: transparent;\n",
              "      border-left-color: var(--fill-color);\n",
              "      border-top-color: var(--fill-color);\n",
              "      border-right-color: var(--fill-color);\n",
              "    }\n",
              "    40% {\n",
              "      border-color: transparent;\n",
              "      border-right-color: var(--fill-color);\n",
              "      border-top-color: var(--fill-color);\n",
              "    }\n",
              "    60% {\n",
              "      border-color: transparent;\n",
              "      border-right-color: var(--fill-color);\n",
              "    }\n",
              "    80% {\n",
              "      border-color: transparent;\n",
              "      border-right-color: var(--fill-color);\n",
              "      border-bottom-color: var(--fill-color);\n",
              "    }\n",
              "    90% {\n",
              "      border-color: transparent;\n",
              "      border-bottom-color: var(--fill-color);\n",
              "    }\n",
              "  }\n",
              "</style>\n",
              "\n",
              "  <script>\n",
              "    async function quickchart(key) {\n",
              "      const quickchartButtonEl =\n",
              "        document.querySelector('#' + key + ' button');\n",
              "      quickchartButtonEl.disabled = true;  // To prevent multiple clicks.\n",
              "      quickchartButtonEl.classList.add('colab-df-spinner');\n",
              "      try {\n",
              "        const charts = await google.colab.kernel.invokeFunction(\n",
              "            'suggestCharts', [key], {});\n",
              "      } catch (error) {\n",
              "        console.error('Error during call to suggestCharts:', error);\n",
              "      }\n",
              "      quickchartButtonEl.classList.remove('colab-df-spinner');\n",
              "      quickchartButtonEl.classList.add('colab-df-quickchart-complete');\n",
              "    }\n",
              "    (() => {\n",
              "      let quickchartButtonEl =\n",
              "        document.querySelector('#df-751ba80b-9028-4087-86e5-4ad479ab73f2 button');\n",
              "      quickchartButtonEl.style.display =\n",
              "        google.colab.kernel.accessAllowed ? 'block' : 'none';\n",
              "    })();\n",
              "  </script>\n",
              "</div>\n",
              "    </div>\n",
              "  </div>\n"
            ],
            "text/plain": [
              "                                                sentences  movieId\n",
              "0       Говоря про фильм «Побег из Шоушенка», то я все...      326\n",
              "1       Это точно история Реддинга, а не Энди Дюфрейна...      326\n",
              "2       Он действительно предстает перед нами, как зре...      326\n",
              "3       Это точно история Эллиса Бойда Реддинга, тем б...      326\n",
              "4                             Очень понравилась концовка.  5019944\n",
              "...                                                   ...      ...\n",
              "337811  Но далеко не всегда фильм объясняет, почему им...   933208\n",
              "337812  В «Коме» такой, казалось бы, незначительной де...   933208\n",
              "337813  Именно эта деталь, думаю, и является ядром фил...   933208\n",
              "337814  Именно эта деталь придаёт открытой концовке ос...   933208\n",
              "337815  Именно эта деталь оставляет надежду на продолж...   933208\n",
              "\n",
              "[337816 rows x 2 columns]"
            ]
          },
          "execution_count": 53,
          "metadata": {},
          "output_type": "execute_result"
        }
      ],
      "source": [
        "review_sent_df"
      ]
    },
    {
      "cell_type": "code",
      "execution_count": null,
      "metadata": {
        "colab": {
          "base_uri": "https://localhost:8080/"
        },
        "id": "AUpzpX4wG3Pr",
        "outputId": "41965f81-d1be-4120-cca7-0b497cbb80c2"
      },
      "outputs": [
        {
          "name": "stderr",
          "output_type": "stream",
          "text": [
            "100%|██████████| 204296/204296 [00:01<00:00, 106227.55it/s]\n"
          ]
        }
      ],
      "source": [
        "train_texts = review_sent_df.sentences.values\n",
        "model.fit(train_texts)"
      ]
    },
    {
      "cell_type": "markdown",
      "metadata": {
        "id": "jMeqBLmjG3Ps"
      },
      "source": [
        "Проверка на коротких описаниях с кинопоиска"
      ]
    },
    {
      "cell_type": "code",
      "execution_count": null,
      "metadata": {
        "colab": {
          "base_uri": "https://localhost:8080/"
        },
        "id": "reDTEq2vG3Ps",
        "outputId": "2913c9ff-f729-49f0-cbec-b3d22f7aa8e9"
      },
      "outputs": [
        {
          "name": "stderr",
          "output_type": "stream",
          "text": [
            "100%|██████████| 1500/1500 [00:00<00:00, 116926.35it/s]\n"
          ]
        },
        {
          "data": {
            "text/plain": [
              "0.14666666666666667"
            ]
          },
          "execution_count": 80,
          "metadata": {},
          "output_type": "execute_result"
        }
      ],
      "source": [
        "test_texts = movie_df.shortDescription.values\n",
        "y_true = movie_df.id.values\n",
        "y_pred= review_sent_df.movieId[model.predict(test_texts)].values\n",
        "accuracy_score(y_true, y_pred)"
      ]
    },
    {
      "cell_type": "markdown",
      "metadata": {
        "id": "87FyxmZvG3Pt"
      },
      "source": [
        "Проверка на собственном датасете"
      ]
    },
    {
      "cell_type": "code",
      "execution_count": null,
      "metadata": {
        "colab": {
          "base_uri": "https://localhost:8080/"
        },
        "id": "ryD4doo-G3Pt",
        "outputId": "d9e244dd-50aa-477d-9bdc-31965f485718"
      },
      "outputs": [
        {
          "name": "stderr",
          "output_type": "stream",
          "text": [
            "100%|██████████| 19/19 [00:00<00:00, 7163.31it/s]\n"
          ]
        },
        {
          "data": {
            "text/plain": [
              "0.10526315789473684"
            ]
          },
          "execution_count": 81,
          "metadata": {},
          "output_type": "execute_result"
        }
      ],
      "source": [
        "val_texts = val_df.review.values\n",
        "y_pred = review_sent_df.movieId[model.predict(val_texts)].values\n",
        "y_true = val_df.movieId.values\n",
        "accuracy_score(y_true, y_pred)"
      ]
    },
    {
      "cell_type": "code",
      "execution_count": null,
      "metadata": {
        "colab": {
          "base_uri": "https://localhost:8080/",
          "height": 1000
        },
        "id": "ibouO6fBG3Pu",
        "outputId": "a7165dbf-0f34-4ea4-d96e-663b0883ab81"
      },
      "outputs": [
        {
          "name": "stderr",
          "output_type": "stream",
          "text": [
            "100%|██████████| 19/19 [00:00<00:00, 6413.31it/s]\n",
            "100%|██████████| 19/19 [00:00<00:00, 39122.13it/s]\n",
            "100%|██████████| 19/19 [00:00<00:00, 13416.12it/s]"
          ]
        },
        {
          "name": "stdout",
          "output_type": "stream",
          "text": [
            "\n",
            "\n",
            "\n",
            "\n",
            "predicted = Адвокат дьявола\n",
            "true = Атака титанов\n"
          ]
        },
        {
          "name": "stderr",
          "output_type": "stream",
          "text": [
            "\n"
          ]
        },
        {
          "data": {
            "text/html": [
              "\n",
              "        <p style=\"font-size:16px; color:#000000; border: 2px solid #000; text-align: justify; background-color:#ffffff; border-radius: 25px; padding: 20px;\">\n",
              "        <span style=\"background-color: #f9f9ff\"; title=\"0.00\">это</span> <span style=\"background-color: #ffffff\"; title=\"0.00\">аниме</span> <span style=\"background-color: #ffffff\"; title=\"0.00\">повествовать</span> <span style=\"background-color: #ffffff\"; title=\"0.00\">о</span> <span style=\"background-color: #ffffff\"; title=\"0.00\">атака</span> <span style=\"background-color: #ffffff\"; title=\"0.00\">гигантский</span> <span style=\"background-color: #ffffff\"; title=\"0.00\">человекоподобный</span> <span style=\"background-color: #ffffff\"; title=\"0.00\">существо</span> <span style=\"background-color: #ffffff\"; title=\"0.00\">на</span> <span style=\"background-color: #f2f2ff\"; title=\"0.01\">человек</span> <span style=\"background-color: #ffffff\"; title=\"0.00\">немой</span> <span style=\"background-color: #ffffff\"; title=\"0.00\">очень</span> <span style=\"background-color: #ffffff\"; title=\"0.00\">классный</span> <span style=\"background-color: #ffffff\"; title=\"0.00\">музыка</span> </p>"
            ],
            "text/plain": [
              "<IPython.core.display.HTML object>"
            ]
          },
          "metadata": {},
          "output_type": "display_data"
        },
        {
          "name": "stdout",
          "output_type": "stream",
          "text": [
            "\n",
            "\n",
            "\n",
            "\n",
            "predicted = Постучись в мою дверь\n",
            "true = Богемская рапсодия\n"
          ]
        },
        {
          "data": {
            "text/html": [
              "\n",
              "        <p style=\"font-size:16px; color:#000000; border: 2px solid #000; text-align: justify; background-color:#ffffff; border-radius: 25px; padding: 20px;\">\n",
              "        <span style=\"background-color: #ffffff\"; title=\"0.00\">это</span> <span style=\"background-color: #ffffff\"; title=\"0.00\">биографический</span> <span style=\"background-color: #ffffff\"; title=\"0.00\">фильм</span> <span style=\"background-color: #ffffff\"; title=\"0.00\">рассказываться</span> <span style=\"background-color: #ffffff\"; title=\"0.00\">жизнь</span> <span style=\"background-color: #ffffff\"; title=\"0.00\">вокалист</span> <span style=\"background-color: #ffffff\"; title=\"0.00\">известный</span> <span style=\"background-color: #ffffff\"; title=\"0.00\">группа</span> <span style=\"background-color: #ffffff\"; title=\"0.00\">конец</span> <span style=\"background-color: #ffffff\"; title=\"0.00\">он</span> <span style=\"background-color: #ffffff\"; title=\"0.00\">умереть</span> <span style=\"background-color: #ffffff\"; title=\"0.00\">от</span> <span style=\"background-color: #ffffff\"; title=\"0.00\">рак</span> </p>"
            ],
            "text/plain": [
              "<IPython.core.display.HTML object>"
            ]
          },
          "metadata": {},
          "output_type": "display_data"
        },
        {
          "name": "stdout",
          "output_type": "stream",
          "text": [
            "\n",
            "\n",
            "\n",
            "\n",
            "predicted = Груз 200\n",
            "true = Бойцовский клуб\n"
          ]
        },
        {
          "data": {
            "text/html": [
              "\n",
              "        <p style=\"font-size:16px; color:#000000; border: 2px solid #000; text-align: justify; background-color:#ffffff; border-radius: 25px; padding: 20px;\">\n",
              "        <span style=\"background-color: #ffffff\"; title=\"0.00\">история</span> <span style=\"background-color: #ffffff\"; title=\"0.00\">про</span> <span style=\"background-color: #ffffff\"; title=\"0.00\">человек</span> <span style=\"background-color: #ffffff\"; title=\"0.00\">который</span> <span style=\"background-color: #ffffff\"; title=\"0.00\">решить</span> <span style=\"background-color: #ffffff\"; title=\"0.00\">кардинально</span> <span style=\"background-color: #ffffff\"; title=\"0.00\">поменять</span> <span style=\"background-color: #ffffff\"; title=\"0.00\">свой</span> <span style=\"background-color: #ffffff\"; title=\"0.00\">жизнь</span> <span style=\"background-color: #ffffff\"; title=\"0.00\">заняться</span> <span style=\"background-color: #ffffff\"; title=\"0.00\">саморазрушение</span> <span style=\"background-color: #ffffff\"; title=\"0.00\">итог</span> <span style=\"background-color: #ffffff\"; title=\"0.00\">оказаться</span> <span style=\"background-color: #ffffff\"; title=\"0.00\">что</span> <span style=\"background-color: #ffffff\"; title=\"0.00\">он</span> <span style=\"background-color: #ffffff\"; title=\"0.00\">сойти</span> <span style=\"background-color: #ffffff\"; title=\"0.00\">ум</span> <span style=\"background-color: #ffffff\"; title=\"0.00\">он</span> <span style=\"background-color: #ffffff\"; title=\"0.00\">друг</span> <span style=\"background-color: #ffffff\"; title=\"0.00\">оказаться</span> <span style=\"background-color: #ffffff\"; title=\"0.00\">он</span> <span style=\"background-color: #ffffff\"; title=\"0.00\">сам</span> </p>"
            ],
            "text/plain": [
              "<IPython.core.display.HTML object>"
            ]
          },
          "metadata": {},
          "output_type": "display_data"
        },
        {
          "name": "stdout",
          "output_type": "stream",
          "text": [
            "\n",
            "\n",
            "\n",
            "\n",
            "predicted = ВАЛЛ·И\n",
            "true = ВАЛЛ·И\n"
          ]
        },
        {
          "data": {
            "text/html": [
              "\n",
              "        <p style=\"font-size:16px; color:#000000; border: 2px solid #000; text-align: justify; background-color:#ffffff; border-radius: 25px; padding: 20px;\">\n",
              "        <span style=\"background-color: #ffffff\"; title=\"0.00\">добрый</span> <span style=\"background-color: #ffffff\"; title=\"0.00\">мультик</span> <span style=\"background-color: #ffffff\"; title=\"0.00\">про</span> <span style=\"background-color: #d1d1ff\"; title=\"0.02\">робот</span> <span style=\"background-color: #ffffff\"; title=\"0.00\">мусорщик</span> <span style=\"background-color: #ffffff\"; title=\"0.00\">несерьёзный</span> <span style=\"background-color: #ffffff\"; title=\"0.00\">отношение</span> <span style=\"background-color: #f0f0ff\"; title=\"0.01\">человек</span> <span style=\"background-color: #ffffff\"; title=\"0.00\">природа</span> </p>"
            ],
            "text/plain": [
              "<IPython.core.display.HTML object>"
            ]
          },
          "metadata": {},
          "output_type": "display_data"
        },
        {
          "name": "stdout",
          "output_type": "stream",
          "text": [
            "\n",
            "\n",
            "\n",
            "\n",
            "predicted = Красное уведомление\n",
            "true = Волк с Уолл-стрит\n"
          ]
        },
        {
          "data": {
            "text/html": [
              "\n",
              "        <p style=\"font-size:16px; color:#000000; border: 2px solid #000; text-align: justify; background-color:#ffffff; border-radius: 25px; padding: 20px;\">\n",
              "        <span style=\"background-color: #ffffff\"; title=\"0.00\">фильм</span> <span style=\"background-color: #ffffff\"; title=\"0.00\">биография</span> <span style=\"background-color: #ffffff\"; title=\"0.00\">про</span> <span style=\"background-color: #ffffff\"; title=\"0.00\">брокер</span> <span style=\"background-color: #ffffff\"; title=\"0.00\">фильм</span> <span style=\"background-color: #ffffff\"; title=\"0.00\">большой</span> <span style=\"background-color: #ffffff\"; title=\"0.00\">количество</span> <span style=\"background-color: #ffffff\"; title=\"0.00\">похабщина</span> <span style=\"background-color: #ffffff\"; title=\"0.00\">наркотик</span> <span style=\"background-color: #ffffff\"; title=\"0.00\">прочее</span> <span style=\"background-color: #ffffff\"; title=\"0.00\">ди</span> <span style=\"background-color: #ffffff\"; title=\"0.00\">каприо</span> <span style=\"background-color: #ffffff\"; title=\"0.00\">классно</span> <span style=\"background-color: #ffffff\"; title=\"0.00\">сыграть</span> </p>"
            ],
            "text/plain": [
              "<IPython.core.display.HTML object>"
            ]
          },
          "metadata": {},
          "output_type": "display_data"
        },
        {
          "name": "stdout",
          "output_type": "stream",
          "text": [
            "\n",
            "\n",
            "\n",
            "\n",
            "predicted = Форсаж 9\n",
            "true = Гарри Поттер и философский камень\n"
          ]
        },
        {
          "data": {
            "text/html": [
              "\n",
              "        <p style=\"font-size:16px; color:#000000; border: 2px solid #000; text-align: justify; background-color:#ffffff; border-radius: 25px; padding: 20px;\">\n",
              "        <span style=\"background-color: #ffffff\"; title=\"0.00\">фильм</span> <span style=\"background-color: #ffffff\"; title=\"0.00\">по</span> <span style=\"background-color: #ffffff\"; title=\"0.00\">известный</span> <span style=\"background-color: #ffffff\"; title=\"0.00\">серия</span> <span style=\"background-color: #ffffff\"; title=\"0.00\">книга</span> <span style=\"background-color: #ffffff\"; title=\"0.00\">про</span> <span style=\"background-color: #ffffff\"; title=\"0.00\">особенный</span> <span style=\"background-color: #ffffff\"; title=\"0.00\">ребёнок</span> <span style=\"background-color: #ffffff\"; title=\"0.00\">волшебник</span> <span style=\"background-color: #ffffff\"; title=\"0.00\">это</span> <span style=\"background-color: #ffffff\"; title=\"0.00\">первый</span> <span style=\"background-color: #ffffff\"; title=\"0.00\">часть</span> </p>"
            ],
            "text/plain": [
              "<IPython.core.display.HTML object>"
            ]
          },
          "metadata": {},
          "output_type": "display_data"
        },
        {
          "name": "stdout",
          "output_type": "stream",
          "text": [
            "\n",
            "\n",
            "\n",
            "\n",
            "predicted = Охотники за разумом\n",
            "true = Зеленая миля\n"
          ]
        },
        {
          "data": {
            "text/html": [
              "\n",
              "        <p style=\"font-size:16px; color:#000000; border: 2px solid #000; text-align: justify; background-color:#ffffff; border-radius: 25px; padding: 20px;\">\n",
              "        <span style=\"background-color: #ffffff\"; title=\"0.00\">старый</span> <span style=\"background-color: #ffffff\"; title=\"0.00\">фильм</span> <span style=\"background-color: #ffffff\"; title=\"0.00\">по</span> <span style=\"background-color: #ffffff\"; title=\"0.00\">книга</span> <span style=\"background-color: #ffffff\"; title=\"0.00\">стивен</span> <span style=\"background-color: #ffffff\"; title=\"0.00\">кинг</span> <span style=\"background-color: #ffffff\"; title=\"0.00\">который</span> <span style=\"background-color: #ffffff\"; title=\"0.00\">заключить</span> <span style=\"background-color: #ffffff\"; title=\"0.00\">чернокожий</span> <span style=\"background-color: #ffffff\"; title=\"0.00\">приговаривать</span> <span style=\"background-color: #ffffff\"; title=\"0.00\">смертный</span> <span style=\"background-color: #ffffff\"; title=\"0.00\">казнь</span> <span style=\"background-color: #ffffff\"; title=\"0.00\">за</span> <span style=\"background-color: #ffffff\"; title=\"0.00\">то</span> <span style=\"background-color: #ffffff\"; title=\"0.00\">что</span> <span style=\"background-color: #ffffff\"; title=\"0.00\">он</span> <span style=\"background-color: #ffffff\"; title=\"0.00\">не</span> <span style=\"background-color: #ffffff\"; title=\"0.00\">совершать</span> </p>"
            ],
            "text/plain": [
              "<IPython.core.display.HTML object>"
            ]
          },
          "metadata": {},
          "output_type": "display_data"
        },
        {
          "name": "stdout",
          "output_type": "stream",
          "text": [
            "\n",
            "\n",
            "\n",
            "\n",
            "predicted = Первому игроку приготовиться\n",
            "true = Интерстеллар\n"
          ]
        },
        {
          "data": {
            "text/html": [
              "\n",
              "        <p style=\"font-size:16px; color:#000000; border: 2px solid #000; text-align: justify; background-color:#ffffff; border-radius: 25px; padding: 20px;\">\n",
              "        <span style=\"background-color: #ffffff\"; title=\"0.00\">недалёкий</span> <span style=\"background-color: #ffffff\"; title=\"0.00\">будущее</span> <span style=\"background-color: #ffffff\"; title=\"0.00\">наш</span> <span style=\"background-color: #ffffff\"; title=\"0.00\">планета</span> <span style=\"background-color: #ffffff\"; title=\"0.00\">стать</span> <span style=\"background-color: #ffffff\"; title=\"0.00\">практически</span> <span style=\"background-color: #ffffff\"; title=\"0.00\">непригодный</span> <span style=\"background-color: #ffffff\"; title=\"0.00\">для</span> <span style=\"background-color: #ffffff\"; title=\"0.00\">жизнь</span> <span style=\"background-color: #ffffff\"; title=\"0.00\">человечество</span> <span style=\"background-color: #ffffff\"; title=\"0.00\">организовать</span> <span style=\"background-color: #ffffff\"; title=\"0.00\">масштабный</span> <span style=\"background-color: #ffffff\"; title=\"0.00\">миссия</span> <span style=\"background-color: #ffffff\"; title=\"0.00\">по</span> <span style=\"background-color: #ffffff\"; title=\"0.00\">нахождение</span> <span style=\"background-color: #ffffff\"; title=\"0.00\">новый</span> <span style=\"background-color: #ffffff\"; title=\"0.00\">планета</span> <span style=\"background-color: #ffffff\"; title=\"0.00\">для</span> <span style=\"background-color: #ffffff\"; title=\"0.00\">жизнь</span> </p>"
            ],
            "text/plain": [
              "<IPython.core.display.HTML object>"
            ]
          },
          "metadata": {},
          "output_type": "display_data"
        },
        {
          "name": "stdout",
          "output_type": "stream",
          "text": [
            "\n",
            "\n",
            "\n",
            "\n",
            "predicted = Шерлок\n",
            "true = Остров проклятых\n"
          ]
        },
        {
          "data": {
            "text/html": [
              "\n",
              "        <p style=\"font-size:16px; color:#000000; border: 2px solid #000; text-align: justify; background-color:#ffffff; border-radius: 25px; padding: 20px;\">\n",
              "        <span style=\"background-color: #ffffff\"; title=\"0.00\">фильм</span> <span style=\"background-color: #ffffff\"; title=\"0.00\">по</span> <span style=\"background-color: #ffffff\"; title=\"0.00\">книга</span> <span style=\"background-color: #ffffff\"; title=\"0.00\">рассказать</span> <span style=\"background-color: #ffffff\"; title=\"0.00\">история</span> <span style=\"background-color: #ffffff\"; title=\"0.00\">детектив</span> <span style=\"background-color: #f7f7ff\"; title=\"0.00\">который</span> <span style=\"background-color: #ffffff\"; title=\"0.00\">высадиться</span> <span style=\"background-color: #ffffff\"; title=\"0.00\">на</span> <span style=\"background-color: #ffffff\"; title=\"0.00\">остров</span> <span style=\"background-color: #ffffff\"; title=\"0.00\">с</span> <span style=\"background-color: #ffffff\"; title=\"0.00\">свой</span> <span style=\"background-color: #ffffff\"; title=\"0.00\">напарник</span> <span style=\"background-color: #ffffff\"; title=\"0.00\">стать</span> <span style=\"background-color: #ffffff\"; title=\"0.00\">расследовать</span> <span style=\"background-color: #ffffff\"; title=\"0.00\">пропажа</span> <span style=\"background-color: #ffffff\"; title=\"0.00\">один</span> <span style=\"background-color: #ffffff\"; title=\"0.00\">пациентка</span> </p>"
            ],
            "text/plain": [
              "<IPython.core.display.HTML object>"
            ]
          },
          "metadata": {},
          "output_type": "display_data"
        },
        {
          "name": "stdout",
          "output_type": "stream",
          "text": [
            "\n",
            "\n",
            "\n",
            "\n",
            "predicted = Человек-паук: Возвращение домой\n",
            "true = По соображениям совести\n"
          ]
        },
        {
          "data": {
            "text/html": [
              "\n",
              "        <p style=\"font-size:16px; color:#000000; border: 2px solid #000; text-align: justify; background-color:#ffffff; border-radius: 25px; padding: 20px;\">\n",
              "        <span style=\"background-color: #ffffff\"; title=\"0.00\">актёр</span> <span style=\"background-color: #ffffff\"; title=\"0.00\">из</span> <span style=\"background-color: #e6e6ff\"; title=\"0.01\">человек</span> <span style=\"background-color: #adadff\"; title=\"0.04\">паук</span> <span style=\"background-color: #ffffff\"; title=\"0.00\">фильм</span> <span style=\"background-color: #ffffff\"; title=\"0.00\">про</span> <span style=\"background-color: #ffffff\"; title=\"0.00\">война</span> </p>"
            ],
            "text/plain": [
              "<IPython.core.display.HTML object>"
            ]
          },
          "metadata": {},
          "output_type": "display_data"
        },
        {
          "name": "stdout",
          "output_type": "stream",
          "text": [
            "\n",
            "\n",
            "\n",
            "\n",
            "predicted = Человек-паук: Возвращение домой\n",
            "true = По соображениям совести\n"
          ]
        },
        {
          "data": {
            "text/html": [
              "\n",
              "        <p style=\"font-size:16px; color:#000000; border: 2px solid #000; text-align: justify; background-color:#ffffff; border-radius: 25px; padding: 20px;\">\n",
              "        <span style=\"background-color: #ffffff\"; title=\"0.00\">актёр</span> <span style=\"background-color: #ffffff\"; title=\"0.00\">из</span> <span style=\"background-color: #efefff\"; title=\"0.01\">человек</span> <span style=\"background-color: #cacaff\"; title=\"0.03\">паук</span> <span style=\"background-color: #ffffff\"; title=\"0.00\">помогать</span> <span style=\"background-color: #ffffff\"; title=\"0.00\">бороться</span> <span style=\"background-color: #ffffff\"; title=\"0.00\">против</span> <span style=\"background-color: #ffffff\"; title=\"0.00\">японец</span> </p>"
            ],
            "text/plain": [
              "<IPython.core.display.HTML object>"
            ]
          },
          "metadata": {},
          "output_type": "display_data"
        },
        {
          "name": "stdout",
          "output_type": "stream",
          "text": [
            "\n",
            "\n",
            "\n",
            "\n",
            "predicted = Матрица: Воскрешение\n",
            "true = Рататуй\n"
          ]
        },
        {
          "data": {
            "text/html": [
              "\n",
              "        <p style=\"font-size:16px; color:#000000; border: 2px solid #000; text-align: justify; background-color:#ffffff; border-radius: 25px; padding: 20px;\">\n",
              "        <span style=\"background-color: #ffffff\"; title=\"0.00\">мультик</span> <span style=\"background-color: #ffffff\"; title=\"0.00\">про</span> <span style=\"background-color: #ffffff\"; title=\"0.00\">крыса</span> <span style=\"background-color: #ffffff\"; title=\"0.00\">который</span> <span style=\"background-color: #ffffff\"; title=\"0.00\">любить</span> <span style=\"background-color: #ffffff\"; title=\"0.00\">готовить</span> <span style=\"background-color: #ffffff\"; title=\"0.00\">помогать</span> <span style=\"background-color: #f8f8ff\"; title=\"0.00\">это</span> <span style=\"background-color: #ffffff\"; title=\"0.00\">неопытный</span> <span style=\"background-color: #ffffff\"; title=\"0.00\">челик</span> <span style=\"background-color: #ffffff\"; title=\"0.00\">но</span> <span style=\"background-color: #ffffff\"; title=\"0.00\">там</span> <span style=\"background-color: #ffffff\"; title=\"0.00\">подниматься</span> <span style=\"background-color: #ffffff\"; title=\"0.00\">всякий</span> <span style=\"background-color: #ffffff\"; title=\"0.00\">недетский</span> <span style=\"background-color: #ffffff\"; title=\"0.00\">тема</span> <span style=\"background-color: #ffffff\"; title=\"0.00\">предназначение</span> </p>"
            ],
            "text/plain": [
              "<IPython.core.display.HTML object>"
            ]
          },
          "metadata": {},
          "output_type": "display_data"
        },
        {
          "name": "stdout",
          "output_type": "stream",
          "text": [
            "\n",
            "\n",
            "\n",
            "\n",
            "predicted = После\n",
            "true = Титаник\n"
          ]
        },
        {
          "data": {
            "text/html": [
              "\n",
              "        <p style=\"font-size:16px; color:#000000; border: 2px solid #000; text-align: justify; background-color:#ffffff; border-radius: 25px; padding: 20px;\">\n",
              "        <span style=\"background-color: #ffffff\"; title=\"0.00\">супер</span> <span style=\"background-color: #ffffff\"; title=\"0.00\">популярный</span> <span style=\"background-color: #ffffff\"; title=\"0.00\">фильм</span> <span style=\"background-color: #ffffff\"; title=\"0.00\">затонуть</span> <span style=\"background-color: #ffffff\"; title=\"0.00\">корабль</span> <span style=\"background-color: #ffffff\"; title=\"0.00\">любовь</span> </p>"
            ],
            "text/plain": [
              "<IPython.core.display.HTML object>"
            ]
          },
          "metadata": {},
          "output_type": "display_data"
        },
        {
          "name": "stdout",
          "output_type": "stream",
          "text": [
            "\n",
            "\n",
            "\n",
            "\n",
            "predicted = Шрэк\n",
            "true = Шрэк\n"
          ]
        },
        {
          "data": {
            "text/html": [
              "\n",
              "        <p style=\"font-size:16px; color:#000000; border: 2px solid #000; text-align: justify; background-color:#ffffff; border-radius: 25px; padding: 20px;\">\n",
              "        <span style=\"background-color: #ffffff\"; title=\"0.00\">мультик</span> <span style=\"background-color: #ffffff\"; title=\"0.00\">про</span> <span style=\"background-color: #ffffff\"; title=\"0.00\">огра</span> <span style=\"background-color: #bebeff\"; title=\"0.03\">жить</span> <span style=\"background-color: #ffffff\"; title=\"0.00\">на</span> <span style=\"background-color: #00ff\"; title=\"0.13\">болото</span> </p>"
            ],
            "text/plain": [
              "<IPython.core.display.HTML object>"
            ]
          },
          "metadata": {},
          "output_type": "display_data"
        },
        {
          "name": "stdout",
          "output_type": "stream",
          "text": [
            "\n",
            "\n",
            "\n",
            "\n",
            "predicted = Матрица: Воскрешение\n",
            "true = Оно\n"
          ]
        },
        {
          "data": {
            "text/html": [
              "\n",
              "        <p style=\"font-size:16px; color:#000000; border: 2px solid #000; text-align: justify; background-color:#ffffff; border-radius: 25px; padding: 20px;\">\n",
              "        <span style=\"background-color: #ffffff\"; title=\"0.00\">ужастик</span> <span style=\"background-color: #ffffff\"; title=\"0.00\">от</span> <span style=\"background-color: #ffffff\"; title=\"0.00\">стивен</span> <span style=\"background-color: #ffffff\"; title=\"0.00\">кинг</span> <span style=\"background-color: #ffffff\"; title=\"0.00\">про</span> <span style=\"background-color: #ffffff\"; title=\"0.00\">существо</span> <span style=\"background-color: #ffffff\"; title=\"0.00\">который</span> <span style=\"background-color: #ffffff\"; title=\"0.00\">менять</span> <span style=\"background-color: #f3f3ff\"; title=\"0.01\">свой</span> <span style=\"background-color: #ffffff\"; title=\"0.00\">облик</span> <span style=\"background-color: #ffffff\"; title=\"0.00\">на</span> <span style=\"background-color: #ffffff\"; title=\"0.00\">человеческий</span> <span style=\"background-color: #ffffff\"; title=\"0.00\">страх</span> </p>"
            ],
            "text/plain": [
              "<IPython.core.display.HTML object>"
            ]
          },
          "metadata": {},
          "output_type": "display_data"
        },
        {
          "name": "stdout",
          "output_type": "stream",
          "text": [
            "\n",
            "\n",
            "\n",
            "\n",
            "predicted = Кибердеревня\n",
            "true = Властелин колец: Братство Кольца\n"
          ]
        },
        {
          "data": {
            "text/html": [
              "\n",
              "        <p style=\"font-size:16px; color:#000000; border: 2px solid #000; text-align: justify; background-color:#ffffff; border-radius: 25px; padding: 20px;\">\n",
              "        <span style=\"background-color: #ffffff\"; title=\"0.00\">группа</span> <span style=\"background-color: #ffffff\"; title=\"0.00\">низкорослый</span> <span style=\"background-color: #ffffff\"; title=\"0.00\">человек</span> <span style=\"background-color: #c1c1ff\"; title=\"0.03\">отправляться</span> <span style=\"background-color: #ffffff\"; title=\"0.00\">поход</span> <span style=\"background-color: #ffffff\"; title=\"0.00\">чтобы</span> <span style=\"background-color: #ffffff\"; title=\"0.00\">избавиться</span> <span style=\"background-color: #ffffff\"; title=\"0.00\">от</span> <span style=\"background-color: #ffffff\"; title=\"0.00\">драгоценность</span> </p>"
            ],
            "text/plain": [
              "<IPython.core.display.HTML object>"
            ]
          },
          "metadata": {},
          "output_type": "display_data"
        },
        {
          "name": "stdout",
          "output_type": "stream",
          "text": [
            "\n",
            "\n",
            "\n",
            "\n",
            "predicted = Не смотрите наверх\n",
            "true = ВАЛЛ·И\n"
          ]
        },
        {
          "data": {
            "text/html": [
              "\n",
              "        <p style=\"font-size:16px; color:#000000; border: 2px solid #000; text-align: justify; background-color:#ffffff; border-radius: 25px; padding: 20px;\">\n",
              "        <span style=\"background-color: #ffffff\"; title=\"0.00\">очень</span> <span style=\"background-color: #ffffff\"; title=\"0.00\">толстый</span> <span style=\"background-color: #ffffff\"; title=\"0.00\">человек</span> <span style=\"background-color: #ffffff\"; title=\"0.00\">сбегать</span> <span style=\"background-color: #dcdcff\"; title=\"0.02\">земля</span> <span style=\"background-color: #ffffff\"; title=\"0.00\">чтобы</span> <span style=\"background-color: #ffffff\"; title=\"0.00\">конечный</span> <span style=\"background-color: #ffffff\"; title=\"0.00\">итог</span> <span style=\"background-color: #ffffff\"; title=\"0.00\">они</span> <span style=\"background-color: #ffffff\"; title=\"0.00\">спасти</span> <span style=\"background-color: #ffffff\"; title=\"0.00\">ботинок</span> <span style=\"background-color: #ffffff\"; title=\"0.00\">который</span> <span style=\"background-color: #ffffff\"; title=\"0.00\">найти</span> <span style=\"background-color: #ffffff\"; title=\"0.00\">робот</span> <span style=\"background-color: #ffffff\"; title=\"0.00\">пылесос</span> </p>"
            ],
            "text/plain": [
              "<IPython.core.display.HTML object>"
            ]
          },
          "metadata": {},
          "output_type": "display_data"
        },
        {
          "name": "stdout",
          "output_type": "stream",
          "text": [
            "\n",
            "\n",
            "\n",
            "\n",
            "predicted = Белый лотос\n",
            "true = Один дома\n"
          ]
        },
        {
          "data": {
            "text/html": [
              "\n",
              "        <p style=\"font-size:16px; color:#000000; border: 2px solid #000; text-align: justify; background-color:#ffffff; border-radius: 25px; padding: 20px;\">\n",
              "        <span style=\"background-color: #ffffff\"; title=\"0.00\">безответственный</span> <span style=\"background-color: #ffffff\"; title=\"0.00\">семья</span> <span style=\"background-color: #ffffff\"; title=\"0.00\">безответственный</span> <span style=\"background-color: #ffffff\"; title=\"0.00\">ребёнок</span> <span style=\"background-color: #ffffff\"; title=\"0.00\">безответственный</span> <span style=\"background-color: #ffffff\"; title=\"0.00\">грабитель</span> <span style=\"background-color: #ffffff\"; title=\"0.00\">ещё</span> <span style=\"background-color: #ffffff\"; title=\"0.00\">канун</span> <span style=\"background-color: #ffffff\"; title=\"0.00\">праздник</span> </p>"
            ],
            "text/plain": [
              "<IPython.core.display.HTML object>"
            ]
          },
          "metadata": {},
          "output_type": "display_data"
        },
        {
          "name": "stdout",
          "output_type": "stream",
          "text": [
            "\n",
            "\n",
            "\n",
            "\n",
            "predicted = Век Адалин\n",
            "true = Шрэк\n"
          ]
        },
        {
          "data": {
            "text/html": [
              "\n",
              "        <p style=\"font-size:16px; color:#000000; border: 2px solid #000; text-align: justify; background-color:#ffffff; border-radius: 25px; padding: 20px;\">\n",
              "        <span style=\"background-color: #ffffff\"; title=\"0.00\">мизантроп</span> <span style=\"background-color: #d8d8ff\"; title=\"0.02\">жить</span> <span style=\"background-color: #ffffff\"; title=\"0.00\">поодаль</span> <span style=\"background-color: #ffffff\"; title=\"0.00\">от</span> <span style=\"background-color: #ffffff\"; title=\"0.00\">городской</span> <span style=\"background-color: #ffffff\"; title=\"0.00\">суета</span> <span style=\"background-color: #ffffff\"; title=\"0.00\">ввязываться</span> <span style=\"background-color: #ffffff\"; title=\"0.00\">сомнительный</span> <span style=\"background-color: #ffffff\"; title=\"0.00\">путешествие</span> <span style=\"background-color: #ffffff\"; title=\"0.00\">дабы</span> <span style=\"background-color: #ffffff\"; title=\"0.00\">решить</span> <span style=\"background-color: #ffffff\"; title=\"0.00\">проблема</span> <span style=\"background-color: #ffffff\"; title=\"0.00\">недвижимость</span> <span style=\"background-color: #ffffff\"; title=\"0.00\">конец</span> <span style=\"background-color: #ffffff\"; title=\"0.00\">фильм</span> <span style=\"background-color: #ffffff\"; title=\"0.00\">он</span> <span style=\"background-color: #ffffff\"; title=\"0.00\">понимать</span> <span style=\"background-color: #ffffff\"; title=\"0.00\">что</span> <span style=\"background-color: #ffffff\"; title=\"0.00\">любовь</span> <span style=\"background-color: #ffffff\"; title=\"0.00\">сильный</span> <span style=\"background-color: #ffffff\"; title=\"0.00\">мизантропия</span> <span style=\"background-color: #ffffff\"; title=\"0.00\">жениться</span> <span style=\"background-color: #ffffff\"; title=\"0.00\">но</span> <span style=\"background-color: #d8d8ff\"; title=\"0.02\">жить</span> <span style=\"background-color: #ffffff\"; title=\"0.00\">оставаться</span> <span style=\"background-color: #ffffff\"; title=\"0.00\">всё</span> <span style=\"background-color: #ffffff\"; title=\"0.00\">также</span> <span style=\"background-color: #ffffff\"; title=\"0.00\">далеко</span> <span style=\"background-color: #ffffff\"; title=\"0.00\">от</span> <span style=\"background-color: #ffffff\"; title=\"0.00\">город</span> </p>"
            ],
            "text/plain": [
              "<IPython.core.display.HTML object>"
            ]
          },
          "metadata": {},
          "output_type": "display_data"
        }
      ],
      "source": [
        "validate(y_pred, y_true, val_texts)"
      ]
    },
    {
      "cell_type": "markdown",
      "metadata": {
        "id": "PuGQkoS9ZYaY"
      },
      "source": [
        "### Описания будут сравниваться с отзывами (все отзвы по одному фильму группируются в один большой)"
      ]
    },
    {
      "cell_type": "code",
      "execution_count": null,
      "metadata": {
        "colab": {
          "base_uri": "https://localhost:8080/",
          "height": 423
        },
        "id": "gjj9Dfhla5Cp",
        "outputId": "8f45fd52-e054-4f0c-f585-f00924ba4076"
      },
      "outputs": [
        {
          "data": {
            "text/html": [
              "\n",
              "  <div id=\"df-325680ca-31b6-45e8-ae27-46419b5e8279\" class=\"colab-df-container\">\n",
              "    <div>\n",
              "<style scoped>\n",
              "    .dataframe tbody tr th:only-of-type {\n",
              "        vertical-align: middle;\n",
              "    }\n",
              "\n",
              "    .dataframe tbody tr th {\n",
              "        vertical-align: top;\n",
              "    }\n",
              "\n",
              "    .dataframe thead th {\n",
              "        text-align: right;\n",
              "    }\n",
              "</style>\n",
              "<table border=\"1\" class=\"dataframe\">\n",
              "  <thead>\n",
              "    <tr style=\"text-align: right;\">\n",
              "      <th></th>\n",
              "      <th>review</th>\n",
              "      <th>movieId</th>\n",
              "    </tr>\n",
              "  </thead>\n",
              "  <tbody>\n",
              "    <tr>\n",
              "      <th>0</th>\n",
              "      <td>О чём фильм? Мутант совершает покушение на Пре...</td>\n",
              "      <td>298</td>\n",
              "    </tr>\n",
              "    <tr>\n",
              "      <th>1</th>\n",
              "      <td>Для миллионов режиссеров секрет достойного сик...</td>\n",
              "      <td>299</td>\n",
              "    </tr>\n",
              "    <tr>\n",
              "      <th>2</th>\n",
              "      <td>Матрица - это кино, которое в свое время измен...</td>\n",
              "      <td>301</td>\n",
              "    </tr>\n",
              "    <tr>\n",
              "      <th>3</th>\n",
              "      <td>Вы никогда не задумывались почему люди лгут? К...</td>\n",
              "      <td>305</td>\n",
              "    </tr>\n",
              "    <tr>\n",
              "      <th>4</th>\n",
              "      <td>Тема фильма очень знакома. Система мира больше...</td>\n",
              "      <td>309</td>\n",
              "    </tr>\n",
              "    <tr>\n",
              "      <th>...</th>\n",
              "      <td>...</td>\n",
              "      <td>...</td>\n",
              "    </tr>\n",
              "    <tr>\n",
              "      <th>1304</th>\n",
              "      <td>Завязка была довольно многообещающая, я ожидал...</td>\n",
              "      <td>5189350</td>\n",
              "    </tr>\n",
              "    <tr>\n",
              "      <th>1305</th>\n",
              "      <td>22:14 Если коротко, то сюжет вторичен, графика...</td>\n",
              "      <td>5194326</td>\n",
              "    </tr>\n",
              "    <tr>\n",
              "      <th>1306</th>\n",
              "      <td>Вторая часть получается даже смешнее и мелодра...</td>\n",
              "      <td>5236765</td>\n",
              "    </tr>\n",
              "    <tr>\n",
              "      <th>1307</th>\n",
              "      <td>Канал СТС в последнее время выдает очень уж ус...</td>\n",
              "      <td>5249042</td>\n",
              "    </tr>\n",
              "    <tr>\n",
              "      <th>1308</th>\n",
              "      <td>Среди молодежи в свое время был популярен сери...</td>\n",
              "      <td>5292981</td>\n",
              "    </tr>\n",
              "  </tbody>\n",
              "</table>\n",
              "<p>1309 rows × 2 columns</p>\n",
              "</div>\n",
              "    <div class=\"colab-df-buttons\">\n",
              "\n",
              "  <div class=\"colab-df-container\">\n",
              "    <button class=\"colab-df-convert\" onclick=\"convertToInteractive('df-325680ca-31b6-45e8-ae27-46419b5e8279')\"\n",
              "            title=\"Convert this dataframe to an interactive table.\"\n",
              "            style=\"display:none;\">\n",
              "\n",
              "  <svg xmlns=\"http://www.w3.org/2000/svg\" height=\"24px\" viewBox=\"0 -960 960 960\">\n",
              "    <path d=\"M120-120v-720h720v720H120Zm60-500h600v-160H180v160Zm220 220h160v-160H400v160Zm0 220h160v-160H400v160ZM180-400h160v-160H180v160Zm440 0h160v-160H620v160ZM180-180h160v-160H180v160Zm440 0h160v-160H620v160Z\"/>\n",
              "  </svg>\n",
              "    </button>\n",
              "\n",
              "  <style>\n",
              "    .colab-df-container {\n",
              "      display:flex;\n",
              "      gap: 12px;\n",
              "    }\n",
              "\n",
              "    .colab-df-convert {\n",
              "      background-color: #E8F0FE;\n",
              "      border: none;\n",
              "      border-radius: 50%;\n",
              "      cursor: pointer;\n",
              "      display: none;\n",
              "      fill: #1967D2;\n",
              "      height: 32px;\n",
              "      padding: 0 0 0 0;\n",
              "      width: 32px;\n",
              "    }\n",
              "\n",
              "    .colab-df-convert:hover {\n",
              "      background-color: #E2EBFA;\n",
              "      box-shadow: 0px 1px 2px rgba(60, 64, 67, 0.3), 0px 1px 3px 1px rgba(60, 64, 67, 0.15);\n",
              "      fill: #174EA6;\n",
              "    }\n",
              "\n",
              "    .colab-df-buttons div {\n",
              "      margin-bottom: 4px;\n",
              "    }\n",
              "\n",
              "    [theme=dark] .colab-df-convert {\n",
              "      background-color: #3B4455;\n",
              "      fill: #D2E3FC;\n",
              "    }\n",
              "\n",
              "    [theme=dark] .colab-df-convert:hover {\n",
              "      background-color: #434B5C;\n",
              "      box-shadow: 0px 1px 3px 1px rgba(0, 0, 0, 0.15);\n",
              "      filter: drop-shadow(0px 1px 2px rgba(0, 0, 0, 0.3));\n",
              "      fill: #FFFFFF;\n",
              "    }\n",
              "  </style>\n",
              "\n",
              "    <script>\n",
              "      const buttonEl =\n",
              "        document.querySelector('#df-325680ca-31b6-45e8-ae27-46419b5e8279 button.colab-df-convert');\n",
              "      buttonEl.style.display =\n",
              "        google.colab.kernel.accessAllowed ? 'block' : 'none';\n",
              "\n",
              "      async function convertToInteractive(key) {\n",
              "        const element = document.querySelector('#df-325680ca-31b6-45e8-ae27-46419b5e8279');\n",
              "        const dataTable =\n",
              "          await google.colab.kernel.invokeFunction('convertToInteractive',\n",
              "                                                    [key], {});\n",
              "        if (!dataTable) return;\n",
              "\n",
              "        const docLinkHtml = 'Like what you see? Visit the ' +\n",
              "          '<a target=\"_blank\" href=https://colab.research.google.com/notebooks/data_table.ipynb>data table notebook</a>'\n",
              "          + ' to learn more about interactive tables.';\n",
              "        element.innerHTML = '';\n",
              "        dataTable['output_type'] = 'display_data';\n",
              "        await google.colab.output.renderOutput(dataTable, element);\n",
              "        const docLink = document.createElement('div');\n",
              "        docLink.innerHTML = docLinkHtml;\n",
              "        element.appendChild(docLink);\n",
              "      }\n",
              "    </script>\n",
              "  </div>\n",
              "\n",
              "\n",
              "<div id=\"df-bd6e2a23-5226-4557-b99e-a739f026f799\">\n",
              "  <button class=\"colab-df-quickchart\" onclick=\"quickchart('df-bd6e2a23-5226-4557-b99e-a739f026f799')\"\n",
              "            title=\"Suggest charts\"\n",
              "            style=\"display:none;\">\n",
              "\n",
              "<svg xmlns=\"http://www.w3.org/2000/svg\" height=\"24px\"viewBox=\"0 0 24 24\"\n",
              "     width=\"24px\">\n",
              "    <g>\n",
              "        <path d=\"M19 3H5c-1.1 0-2 .9-2 2v14c0 1.1.9 2 2 2h14c1.1 0 2-.9 2-2V5c0-1.1-.9-2-2-2zM9 17H7v-7h2v7zm4 0h-2V7h2v10zm4 0h-2v-4h2v4z\"/>\n",
              "    </g>\n",
              "</svg>\n",
              "  </button>\n",
              "\n",
              "<style>\n",
              "  .colab-df-quickchart {\n",
              "      --bg-color: #E8F0FE;\n",
              "      --fill-color: #1967D2;\n",
              "      --hover-bg-color: #E2EBFA;\n",
              "      --hover-fill-color: #174EA6;\n",
              "      --disabled-fill-color: #AAA;\n",
              "      --disabled-bg-color: #DDD;\n",
              "  }\n",
              "\n",
              "  [theme=dark] .colab-df-quickchart {\n",
              "      --bg-color: #3B4455;\n",
              "      --fill-color: #D2E3FC;\n",
              "      --hover-bg-color: #434B5C;\n",
              "      --hover-fill-color: #FFFFFF;\n",
              "      --disabled-bg-color: #3B4455;\n",
              "      --disabled-fill-color: #666;\n",
              "  }\n",
              "\n",
              "  .colab-df-quickchart {\n",
              "    background-color: var(--bg-color);\n",
              "    border: none;\n",
              "    border-radius: 50%;\n",
              "    cursor: pointer;\n",
              "    display: none;\n",
              "    fill: var(--fill-color);\n",
              "    height: 32px;\n",
              "    padding: 0;\n",
              "    width: 32px;\n",
              "  }\n",
              "\n",
              "  .colab-df-quickchart:hover {\n",
              "    background-color: var(--hover-bg-color);\n",
              "    box-shadow: 0 1px 2px rgba(60, 64, 67, 0.3), 0 1px 3px 1px rgba(60, 64, 67, 0.15);\n",
              "    fill: var(--button-hover-fill-color);\n",
              "  }\n",
              "\n",
              "  .colab-df-quickchart-complete:disabled,\n",
              "  .colab-df-quickchart-complete:disabled:hover {\n",
              "    background-color: var(--disabled-bg-color);\n",
              "    fill: var(--disabled-fill-color);\n",
              "    box-shadow: none;\n",
              "  }\n",
              "\n",
              "  .colab-df-spinner {\n",
              "    border: 2px solid var(--fill-color);\n",
              "    border-color: transparent;\n",
              "    border-bottom-color: var(--fill-color);\n",
              "    animation:\n",
              "      spin 1s steps(1) infinite;\n",
              "  }\n",
              "\n",
              "  @keyframes spin {\n",
              "    0% {\n",
              "      border-color: transparent;\n",
              "      border-bottom-color: var(--fill-color);\n",
              "      border-left-color: var(--fill-color);\n",
              "    }\n",
              "    20% {\n",
              "      border-color: transparent;\n",
              "      border-left-color: var(--fill-color);\n",
              "      border-top-color: var(--fill-color);\n",
              "    }\n",
              "    30% {\n",
              "      border-color: transparent;\n",
              "      border-left-color: var(--fill-color);\n",
              "      border-top-color: var(--fill-color);\n",
              "      border-right-color: var(--fill-color);\n",
              "    }\n",
              "    40% {\n",
              "      border-color: transparent;\n",
              "      border-right-color: var(--fill-color);\n",
              "      border-top-color: var(--fill-color);\n",
              "    }\n",
              "    60% {\n",
              "      border-color: transparent;\n",
              "      border-right-color: var(--fill-color);\n",
              "    }\n",
              "    80% {\n",
              "      border-color: transparent;\n",
              "      border-right-color: var(--fill-color);\n",
              "      border-bottom-color: var(--fill-color);\n",
              "    }\n",
              "    90% {\n",
              "      border-color: transparent;\n",
              "      border-bottom-color: var(--fill-color);\n",
              "    }\n",
              "  }\n",
              "</style>\n",
              "\n",
              "  <script>\n",
              "    async function quickchart(key) {\n",
              "      const quickchartButtonEl =\n",
              "        document.querySelector('#' + key + ' button');\n",
              "      quickchartButtonEl.disabled = true;  // To prevent multiple clicks.\n",
              "      quickchartButtonEl.classList.add('colab-df-spinner');\n",
              "      try {\n",
              "        const charts = await google.colab.kernel.invokeFunction(\n",
              "            'suggestCharts', [key], {});\n",
              "      } catch (error) {\n",
              "        console.error('Error during call to suggestCharts:', error);\n",
              "      }\n",
              "      quickchartButtonEl.classList.remove('colab-df-spinner');\n",
              "      quickchartButtonEl.classList.add('colab-df-quickchart-complete');\n",
              "    }\n",
              "    (() => {\n",
              "      let quickchartButtonEl =\n",
              "        document.querySelector('#df-bd6e2a23-5226-4557-b99e-a739f026f799 button');\n",
              "      quickchartButtonEl.style.display =\n",
              "        google.colab.kernel.accessAllowed ? 'block' : 'none';\n",
              "    })();\n",
              "  </script>\n",
              "</div>\n",
              "    </div>\n",
              "  </div>\n"
            ],
            "text/plain": [
              "                                                 review  movieId\n",
              "0     О чём фильм? Мутант совершает покушение на Пре...      298\n",
              "1     Для миллионов режиссеров секрет достойного сик...      299\n",
              "2     Матрица - это кино, которое в свое время измен...      301\n",
              "3     Вы никогда не задумывались почему люди лгут? К...      305\n",
              "4     Тема фильма очень знакома. Система мира больше...      309\n",
              "...                                                 ...      ...\n",
              "1304  Завязка была довольно многообещающая, я ожидал...  5189350\n",
              "1305  22:14 Если коротко, то сюжет вторичен, графика...  5194326\n",
              "1306  Вторая часть получается даже смешнее и мелодра...  5236765\n",
              "1307  Канал СТС в последнее время выдает очень уж ус...  5249042\n",
              "1308  Среди молодежи в свое время был популярен сери...  5292981\n",
              "\n",
              "[1309 rows x 2 columns]"
            ]
          },
          "execution_count": 83,
          "metadata": {},
          "output_type": "execute_result"
        }
      ],
      "source": [
        "grouped_reviews_df = review_df.groupby('movieId')['review'].apply(lambda x: '. '.join(x))\n",
        "grouped_reviews_df = pd.DataFrame({'review': grouped_reviews_df, 'movieId': grouped_reviews_df.index}).reset_index(drop=True)\n",
        "grouped_reviews_df"
      ]
    },
    {
      "cell_type": "code",
      "execution_count": null,
      "metadata": {
        "colab": {
          "base_uri": "https://localhost:8080/"
        },
        "id": "J9Utn3_DZYaY",
        "outputId": "86a8300e-8767-4945-bb4a-83be6d30b7bf"
      },
      "outputs": [
        {
          "name": "stderr",
          "output_type": "stream",
          "text": [
            "100%|██████████| 1309/1309 [00:01<00:00, 757.64it/s]\n"
          ]
        }
      ],
      "source": [
        "model = TfidfModel(stop_words = stop_words, ngram_range=(1, 2), max_df = 0.9)\n",
        "train_texts = grouped_reviews_df.review.values\n",
        "model.fit(train_texts)"
      ]
    },
    {
      "cell_type": "markdown",
      "metadata": {
        "id": "qi39rEoaZYaY"
      },
      "source": [
        "Проверка на коротких описаниях с кинопоиска"
      ]
    },
    {
      "cell_type": "code",
      "execution_count": null,
      "metadata": {
        "colab": {
          "base_uri": "https://localhost:8080/"
        },
        "id": "XlOQMx_fZYaZ",
        "outputId": "2f1758cb-caa6-4a6f-a175-bbd97c732e79"
      },
      "outputs": [
        {
          "name": "stderr",
          "output_type": "stream",
          "text": [
            "100%|██████████| 1500/1500 [00:00<00:00, 79657.84it/s]\n"
          ]
        },
        {
          "data": {
            "text/plain": [
              "0.37066666666666664"
            ]
          },
          "execution_count": 85,
          "metadata": {},
          "output_type": "execute_result"
        }
      ],
      "source": [
        "test_texts = movie_df.shortDescription.values\n",
        "y_true = movie_df.id.values\n",
        "y_pred= grouped_reviews_df.movieId[model.predict(test_texts)].values\n",
        "accuracy_score(y_true, y_pred)"
      ]
    },
    {
      "cell_type": "markdown",
      "metadata": {
        "id": "VJ54dFOdZYaZ"
      },
      "source": [
        "Проверка на собственном датасете"
      ]
    },
    {
      "cell_type": "code",
      "execution_count": null,
      "metadata": {
        "colab": {
          "base_uri": "https://localhost:8080/"
        },
        "id": "E5gX9KBMZYaZ",
        "outputId": "5bed8a5d-f590-4012-91f2-a407f5c3ebf0"
      },
      "outputs": [
        {
          "name": "stderr",
          "output_type": "stream",
          "text": [
            "100%|██████████| 19/19 [00:00<00:00, 41592.78it/s]\n"
          ]
        },
        {
          "data": {
            "text/plain": [
              "0.21052631578947367"
            ]
          },
          "execution_count": 86,
          "metadata": {},
          "output_type": "execute_result"
        }
      ],
      "source": [
        "val_texts = val_df.review.values\n",
        "y_pred = grouped_reviews_df.movieId[model.predict(val_texts)].values\n",
        "y_true = val_df.movieId.values\n",
        "accuracy_score(y_true, y_pred)"
      ]
    },
    {
      "cell_type": "code",
      "execution_count": null,
      "metadata": {
        "colab": {
          "base_uri": "https://localhost:8080/",
          "height": 1000
        },
        "id": "qtuSJuUDZYaZ",
        "outputId": "7913effe-83d5-4446-a223-86f565c9b538"
      },
      "outputs": [
        {
          "name": "stderr",
          "output_type": "stream",
          "text": [
            "100%|██████████| 19/19 [00:00<00:00, 5648.69it/s]\n",
            "100%|██████████| 19/19 [00:00<00:00, 44947.42it/s]\n",
            "100%|██████████| 19/19 [00:00<00:00, 16167.94it/s]"
          ]
        },
        {
          "name": "stdout",
          "output_type": "stream",
          "text": [
            "\n",
            "\n",
            "\n",
            "\n",
            "predicted = Атака титанов\n",
            "true = Атака титанов\n"
          ]
        },
        {
          "name": "stderr",
          "output_type": "stream",
          "text": [
            "\n"
          ]
        },
        {
          "data": {
            "text/html": [
              "\n",
              "        <p style=\"font-size:16px; color:#000000; border: 2px solid #000; text-align: justify; background-color:#ffffff; border-radius: 25px; padding: 20px;\">\n",
              "        <span style=\"background-color: #ffffff\"; title=\"0.00\">это</span> <span style=\"background-color: #ffffff\"; title=\"0.00\">аниме</span> <span style=\"background-color: #ffffff\"; title=\"0.00\">повествовать</span> <span style=\"background-color: #ffffff\"; title=\"0.00\">о</span> <span style=\"background-color: #ffffff\"; title=\"0.00\">атака</span> <span style=\"background-color: #ffffff\"; title=\"0.00\">гигантский</span> <span style=\"background-color: #ffffff\"; title=\"0.00\">человекоподобный</span> <span style=\"background-color: #efefff\"; title=\"0.01\">существо</span> <span style=\"background-color: #ffffff\"; title=\"0.00\">на</span> <span style=\"background-color: #f7f7ff\"; title=\"0.00\">человек</span> <span style=\"background-color: #ffffff\"; title=\"0.00\">немой</span> <span style=\"background-color: #ffffff\"; title=\"0.00\">очень</span> <span style=\"background-color: #ffffff\"; title=\"0.00\">классный</span> <span style=\"background-color: #ffffff\"; title=\"0.00\">музыка</span> </p>"
            ],
            "text/plain": [
              "<IPython.core.display.HTML object>"
            ]
          },
          "metadata": {},
          "output_type": "display_data"
        },
        {
          "name": "stdout",
          "output_type": "stream",
          "text": [
            "\n",
            "\n",
            "\n",
            "\n",
            "predicted = Жизнь прекрасна\n",
            "true = Богемская рапсодия\n"
          ]
        },
        {
          "data": {
            "text/html": [
              "\n",
              "        <p style=\"font-size:16px; color:#000000; border: 2px solid #000; text-align: justify; background-color:#ffffff; border-radius: 25px; padding: 20px;\">\n",
              "        <span style=\"background-color: #ffffff\"; title=\"0.00\">это</span> <span style=\"background-color: #ffffff\"; title=\"0.00\">биографический</span> <span style=\"background-color: #ffffff\"; title=\"0.00\">фильм</span> <span style=\"background-color: #ffffff\"; title=\"0.00\">рассказываться</span> <span style=\"background-color: #ffffff\"; title=\"0.00\">жизнь</span> <span style=\"background-color: #ffffff\"; title=\"0.00\">вокалист</span> <span style=\"background-color: #ffffff\"; title=\"0.00\">известный</span> <span style=\"background-color: #ffffff\"; title=\"0.00\">группа</span> <span style=\"background-color: #ffffff\"; title=\"0.00\">конец</span> <span style=\"background-color: #ffffff\"; title=\"0.00\">он</span> <span style=\"background-color: #ffffff\"; title=\"0.00\">умереть</span> <span style=\"background-color: #ffffff\"; title=\"0.00\">от</span> <span style=\"background-color: #9999ff\"; title=\"0.05\">рак</span> </p>"
            ],
            "text/plain": [
              "<IPython.core.display.HTML object>"
            ]
          },
          "metadata": {},
          "output_type": "display_data"
        },
        {
          "name": "stdout",
          "output_type": "stream",
          "text": [
            "\n",
            "\n",
            "\n",
            "\n",
            "predicted = Мы купили зоопарк\n",
            "true = Бойцовский клуб\n"
          ]
        },
        {
          "data": {
            "text/html": [
              "\n",
              "        <p style=\"font-size:16px; color:#000000; border: 2px solid #000; text-align: justify; background-color:#ffffff; border-radius: 25px; padding: 20px;\">\n",
              "        <span style=\"background-color: #ffffff\"; title=\"0.00\">история</span> <span style=\"background-color: #ffffff\"; title=\"0.00\">про</span> <span style=\"background-color: #ffffff\"; title=\"0.00\">человек</span> <span style=\"background-color: #ffffff\"; title=\"0.00\">который</span> <span style=\"background-color: #ffffff\"; title=\"0.00\">решить</span> <span style=\"background-color: #ffffff\"; title=\"0.00\">кардинально</span> <span style=\"background-color: #ffffff\"; title=\"0.00\">поменять</span> <span style=\"background-color: #ffffff\"; title=\"0.00\">свой</span> <span style=\"background-color: #ffffff\"; title=\"0.00\">жизнь</span> <span style=\"background-color: #ffffff\"; title=\"0.00\">заняться</span> <span style=\"background-color: #ffffff\"; title=\"0.00\">саморазрушение</span> <span style=\"background-color: #ffffff\"; title=\"0.00\">итог</span> <span style=\"background-color: #ffffff\"; title=\"0.00\">оказаться</span> <span style=\"background-color: #ffffff\"; title=\"0.00\">что</span> <span style=\"background-color: #ffffff\"; title=\"0.00\">он</span> <span style=\"background-color: #ffffff\"; title=\"0.00\">сойти</span> <span style=\"background-color: #ffffff\"; title=\"0.00\">ум</span> <span style=\"background-color: #ffffff\"; title=\"0.00\">он</span> <span style=\"background-color: #ffffff\"; title=\"0.00\">друг</span> <span style=\"background-color: #ffffff\"; title=\"0.00\">оказаться</span> <span style=\"background-color: #ffffff\"; title=\"0.00\">он</span> <span style=\"background-color: #ffffff\"; title=\"0.00\">сам</span> </p>"
            ],
            "text/plain": [
              "<IPython.core.display.HTML object>"
            ]
          },
          "metadata": {},
          "output_type": "display_data"
        },
        {
          "name": "stdout",
          "output_type": "stream",
          "text": [
            "\n",
            "\n",
            "\n",
            "\n",
            "predicted = ВАЛЛ·И\n",
            "true = ВАЛЛ·И\n"
          ]
        },
        {
          "data": {
            "text/html": [
              "\n",
              "        <p style=\"font-size:16px; color:#000000; border: 2px solid #000; text-align: justify; background-color:#ffffff; border-radius: 25px; padding: 20px;\">\n",
              "        <span style=\"background-color: #ffffff\"; title=\"0.00\">добрый</span> <span style=\"background-color: #ffffff\"; title=\"0.00\">мультик</span> <span style=\"background-color: #ffffff\"; title=\"0.00\">про</span> <span style=\"background-color: #d6d6ff\"; title=\"0.02\">робот</span> <span style=\"background-color: #ffffff\"; title=\"0.00\">мусорщик</span> <span style=\"background-color: #ffffff\"; title=\"0.00\">несерьёзный</span> <span style=\"background-color: #ffffff\"; title=\"0.00\">отношение</span> <span style=\"background-color: #fafaff\"; title=\"0.00\">человек</span> <span style=\"background-color: #ffffff\"; title=\"0.00\">природа</span> </p>"
            ],
            "text/plain": [
              "<IPython.core.display.HTML object>"
            ]
          },
          "metadata": {},
          "output_type": "display_data"
        },
        {
          "name": "stdout",
          "output_type": "stream",
          "text": [
            "\n",
            "\n",
            "\n",
            "\n",
            "predicted = Не смотрите наверх\n",
            "true = Волк с Уолл-стрит\n"
          ]
        },
        {
          "data": {
            "text/html": [
              "\n",
              "        <p style=\"font-size:16px; color:#000000; border: 2px solid #000; text-align: justify; background-color:#ffffff; border-radius: 25px; padding: 20px;\">\n",
              "        <span style=\"background-color: #ffffff\"; title=\"0.00\">фильм</span> <span style=\"background-color: #ffffff\"; title=\"0.00\">биография</span> <span style=\"background-color: #ffffff\"; title=\"0.00\">про</span> <span style=\"background-color: #ffffff\"; title=\"0.00\">брокер</span> <span style=\"background-color: #ffffff\"; title=\"0.00\">фильм</span> <span style=\"background-color: #ffffff\"; title=\"0.00\">большой</span> <span style=\"background-color: #ffffff\"; title=\"0.00\">количество</span> <span style=\"background-color: #ffffff\"; title=\"0.00\">похабщина</span> <span style=\"background-color: #ffffff\"; title=\"0.00\">наркотик</span> <span style=\"background-color: #ffffff\"; title=\"0.00\">прочее</span> <span style=\"background-color: #ffffff\"; title=\"0.00\">ди</span> <span style=\"background-color: #ffffff\"; title=\"0.00\">каприо</span> <span style=\"background-color: #ffffff\"; title=\"0.00\">классно</span> <span style=\"background-color: #ffffff\"; title=\"0.00\">сыграть</span> </p>"
            ],
            "text/plain": [
              "<IPython.core.display.HTML object>"
            ]
          },
          "metadata": {},
          "output_type": "display_data"
        },
        {
          "name": "stdout",
          "output_type": "stream",
          "text": [
            "\n",
            "\n",
            "\n",
            "\n",
            "predicted = Библиотекарь\n",
            "true = Гарри Поттер и философский камень\n"
          ]
        },
        {
          "data": {
            "text/html": [
              "\n",
              "        <p style=\"font-size:16px; color:#000000; border: 2px solid #000; text-align: justify; background-color:#ffffff; border-radius: 25px; padding: 20px;\">\n",
              "        <span style=\"background-color: #ffffff\"; title=\"0.00\">фильм</span> <span style=\"background-color: #ffffff\"; title=\"0.00\">по</span> <span style=\"background-color: #ffffff\"; title=\"0.00\">известный</span> <span style=\"background-color: #ffffff\"; title=\"0.00\">серия</span> <span style=\"background-color: #b0b0ff\"; title=\"0.04\">книга</span> <span style=\"background-color: #ffffff\"; title=\"0.00\">про</span> <span style=\"background-color: #ffffff\"; title=\"0.00\">особенный</span> <span style=\"background-color: #ffffff\"; title=\"0.00\">ребёнок</span> <span style=\"background-color: #ffffff\"; title=\"0.00\">волшебник</span> <span style=\"background-color: #ffffff\"; title=\"0.00\">это</span> <span style=\"background-color: #ffffff\"; title=\"0.00\">первый</span> <span style=\"background-color: #f9f9ff\"; title=\"0.00\">часть</span> </p>"
            ],
            "text/plain": [
              "<IPython.core.display.HTML object>"
            ]
          },
          "metadata": {},
          "output_type": "display_data"
        },
        {
          "name": "stdout",
          "output_type": "stream",
          "text": [
            "\n",
            "\n",
            "\n",
            "\n",
            "predicted = Зеленая миля\n",
            "true = Зеленая миля\n"
          ]
        },
        {
          "data": {
            "text/html": [
              "\n",
              "        <p style=\"font-size:16px; color:#000000; border: 2px solid #000; text-align: justify; background-color:#ffffff; border-radius: 25px; padding: 20px;\">\n",
              "        <span style=\"background-color: #ffffff\"; title=\"0.00\">старый</span> <span style=\"background-color: #ffffff\"; title=\"0.00\">фильм</span> <span style=\"background-color: #ffffff\"; title=\"0.00\">по</span> <span style=\"background-color: #ffffff\"; title=\"0.00\">книга</span> <span style=\"background-color: #ffffff\"; title=\"0.00\">стивен</span> <span style=\"background-color: #ffffff\"; title=\"0.00\">кинг</span> <span style=\"background-color: #ffffff\"; title=\"0.00\">который</span> <span style=\"background-color: #ddddff\"; title=\"0.02\">заключить</span> <span style=\"background-color: #ffffff\"; title=\"0.00\">чернокожий</span> <span style=\"background-color: #ffffff\"; title=\"0.00\">приговаривать</span> <span style=\"background-color: #ffffff\"; title=\"0.00\">смертный</span> <span style=\"background-color: #c8c8ff\"; title=\"0.03\">казнь</span> <span style=\"background-color: #ffffff\"; title=\"0.00\">за</span> <span style=\"background-color: #ffffff\"; title=\"0.00\">то</span> <span style=\"background-color: #ffffff\"; title=\"0.00\">что</span> <span style=\"background-color: #ffffff\"; title=\"0.00\">он</span> <span style=\"background-color: #ffffff\"; title=\"0.00\">не</span> <span style=\"background-color: #ffffff\"; title=\"0.00\">совершать</span> </p>"
            ],
            "text/plain": [
              "<IPython.core.display.HTML object>"
            ]
          },
          "metadata": {},
          "output_type": "display_data"
        },
        {
          "name": "stdout",
          "output_type": "stream",
          "text": [
            "\n",
            "\n",
            "\n",
            "\n",
            "predicted = Планета обезьян: Война\n",
            "true = Интерстеллар\n"
          ]
        },
        {
          "data": {
            "text/html": [
              "\n",
              "        <p style=\"font-size:16px; color:#000000; border: 2px solid #000; text-align: justify; background-color:#ffffff; border-radius: 25px; padding: 20px;\">\n",
              "        <span style=\"background-color: #ffffff\"; title=\"0.00\">недалёкий</span> <span style=\"background-color: #ffffff\"; title=\"0.00\">будущее</span> <span style=\"background-color: #ffffff\"; title=\"0.00\">наш</span> <span style=\"background-color: #ffffff\"; title=\"0.00\">планета</span> <span style=\"background-color: #ffffff\"; title=\"0.00\">стать</span> <span style=\"background-color: #ffffff\"; title=\"0.00\">практически</span> <span style=\"background-color: #ffffff\"; title=\"0.00\">непригодный</span> <span style=\"background-color: #ffffff\"; title=\"0.00\">для</span> <span style=\"background-color: #ffffff\"; title=\"0.00\">жизнь</span> <span style=\"background-color: #ffffff\"; title=\"0.00\">человечество</span> <span style=\"background-color: #ffffff\"; title=\"0.00\">организовать</span> <span style=\"background-color: #ffffff\"; title=\"0.00\">масштабный</span> <span style=\"background-color: #ffffff\"; title=\"0.00\">миссия</span> <span style=\"background-color: #ffffff\"; title=\"0.00\">по</span> <span style=\"background-color: #ffffff\"; title=\"0.00\">нахождение</span> <span style=\"background-color: #fbfbff\"; title=\"0.00\">новый</span> <span style=\"background-color: #ffffff\"; title=\"0.00\">планета</span> <span style=\"background-color: #ffffff\"; title=\"0.00\">для</span> <span style=\"background-color: #ffffff\"; title=\"0.00\">жизнь</span> </p>"
            ],
            "text/plain": [
              "<IPython.core.display.HTML object>"
            ]
          },
          "metadata": {},
          "output_type": "display_data"
        },
        {
          "name": "stdout",
          "output_type": "stream",
          "text": [
            "\n",
            "\n",
            "\n",
            "\n",
            "predicted = Пляж\n",
            "true = Остров проклятых\n"
          ]
        },
        {
          "data": {
            "text/html": [
              "\n",
              "        <p style=\"font-size:16px; color:#000000; border: 2px solid #000; text-align: justify; background-color:#ffffff; border-radius: 25px; padding: 20px;\">\n",
              "        <span style=\"background-color: #ffffff\"; title=\"0.00\">фильм</span> <span style=\"background-color: #ffffff\"; title=\"0.00\">по</span> <span style=\"background-color: #ffffff\"; title=\"0.00\">книга</span> <span style=\"background-color: #ffffff\"; title=\"0.00\">рассказать</span> <span style=\"background-color: #ffffff\"; title=\"0.00\">история</span> <span style=\"background-color: #ffffff\"; title=\"0.00\">детектив</span> <span style=\"background-color: #ffffff\"; title=\"0.00\">который</span> <span style=\"background-color: #ffffff\"; title=\"0.00\">высадиться</span> <span style=\"background-color: #ffffff\"; title=\"0.00\">на</span> <span style=\"background-color: #a8a8ff\"; title=\"0.05\">остров</span> <span style=\"background-color: #ffffff\"; title=\"0.00\">с</span> <span style=\"background-color: #ffffff\"; title=\"0.00\">свой</span> <span style=\"background-color: #ffffff\"; title=\"0.00\">напарник</span> <span style=\"background-color: #ffffff\"; title=\"0.00\">стать</span> <span style=\"background-color: #ffffff\"; title=\"0.00\">расследовать</span> <span style=\"background-color: #ffffff\"; title=\"0.00\">пропажа</span> <span style=\"background-color: #ffffff\"; title=\"0.00\">один</span> <span style=\"background-color: #ffffff\"; title=\"0.00\">пациентка</span> </p>"
            ],
            "text/plain": [
              "<IPython.core.display.HTML object>"
            ]
          },
          "metadata": {},
          "output_type": "display_data"
        },
        {
          "name": "stdout",
          "output_type": "stream",
          "text": [
            "\n",
            "\n",
            "\n",
            "\n",
            "predicted = Человек-паук: Нет пути домой\n",
            "true = По соображениям совести\n"
          ]
        },
        {
          "data": {
            "text/html": [
              "\n",
              "        <p style=\"font-size:16px; color:#000000; border: 2px solid #000; text-align: justify; background-color:#ffffff; border-radius: 25px; padding: 20px;\">\n",
              "        <span style=\"background-color: #ffffff\"; title=\"0.00\">актёр</span> <span style=\"background-color: #ffffff\"; title=\"0.00\">из</span> <span style=\"background-color: #f5f5ff\"; title=\"0.00\">человек</span> <span style=\"background-color: #8f8fff\"; title=\"0.06\">паук</span> <span style=\"background-color: #ffffff\"; title=\"0.00\">фильм</span> <span style=\"background-color: #ffffff\"; title=\"0.00\">про</span> <span style=\"background-color: #ffffff\"; title=\"0.00\">война</span> </p>"
            ],
            "text/plain": [
              "<IPython.core.display.HTML object>"
            ]
          },
          "metadata": {},
          "output_type": "display_data"
        },
        {
          "name": "stdout",
          "output_type": "stream",
          "text": [
            "\n",
            "\n",
            "\n",
            "\n",
            "predicted = Человек-паук: Нет пути домой\n",
            "true = По соображениям совести\n"
          ]
        },
        {
          "data": {
            "text/html": [
              "\n",
              "        <p style=\"font-size:16px; color:#000000; border: 2px solid #000; text-align: justify; background-color:#ffffff; border-radius: 25px; padding: 20px;\">\n",
              "        <span style=\"background-color: #ffffff\"; title=\"0.00\">актёр</span> <span style=\"background-color: #ffffff\"; title=\"0.00\">из</span> <span style=\"background-color: #f9f9ff\"; title=\"0.00\">человек</span> <span style=\"background-color: #b8b8ff\"; title=\"0.04\">паук</span> <span style=\"background-color: #ffffff\"; title=\"0.00\">помогать</span> <span style=\"background-color: #ffffff\"; title=\"0.00\">бороться</span> <span style=\"background-color: #ffffff\"; title=\"0.00\">против</span> <span style=\"background-color: #ffffff\"; title=\"0.00\">японец</span> </p>"
            ],
            "text/plain": [
              "<IPython.core.display.HTML object>"
            ]
          },
          "metadata": {},
          "output_type": "display_data"
        },
        {
          "name": "stdout",
          "output_type": "stream",
          "text": [
            "\n",
            "\n",
            "\n",
            "\n",
            "predicted = Рататуй\n",
            "true = Рататуй\n"
          ]
        },
        {
          "data": {
            "text/html": [
              "\n",
              "        <p style=\"font-size:16px; color:#000000; border: 2px solid #000; text-align: justify; background-color:#ffffff; border-radius: 25px; padding: 20px;\">\n",
              "        <span style=\"background-color: #ffffff\"; title=\"0.00\">мультик</span> <span style=\"background-color: #ffffff\"; title=\"0.00\">про</span> <span style=\"background-color: #d0d0ff\"; title=\"0.02\">крыса</span> <span style=\"background-color: #ffffff\"; title=\"0.00\">который</span> <span style=\"background-color: #ffffff\"; title=\"0.00\">любить</span> <span style=\"background-color: #ffffff\"; title=\"0.00\">готовить</span> <span style=\"background-color: #ffffff\"; title=\"0.00\">помогать</span> <span style=\"background-color: #ffffff\"; title=\"0.00\">это</span> <span style=\"background-color: #ffffff\"; title=\"0.00\">неопытный</span> <span style=\"background-color: #ffffff\"; title=\"0.00\">челик</span> <span style=\"background-color: #ffffff\"; title=\"0.00\">но</span> <span style=\"background-color: #ffffff\"; title=\"0.00\">там</span> <span style=\"background-color: #ffffff\"; title=\"0.00\">подниматься</span> <span style=\"background-color: #ffffff\"; title=\"0.00\">всякий</span> <span style=\"background-color: #ffffff\"; title=\"0.00\">недетский</span> <span style=\"background-color: #ffffff\"; title=\"0.00\">тема</span> <span style=\"background-color: #ffffff\"; title=\"0.00\">предназначение</span> </p>"
            ],
            "text/plain": [
              "<IPython.core.display.HTML object>"
            ]
          },
          "metadata": {},
          "output_type": "display_data"
        },
        {
          "name": "stdout",
          "output_type": "stream",
          "text": [
            "\n",
            "\n",
            "\n",
            "\n",
            "predicted = Прометей\n",
            "true = Титаник\n"
          ]
        },
        {
          "data": {
            "text/html": [
              "\n",
              "        <p style=\"font-size:16px; color:#000000; border: 2px solid #000; text-align: justify; background-color:#ffffff; border-radius: 25px; padding: 20px;\">\n",
              "        <span style=\"background-color: #ffffff\"; title=\"0.00\">супер</span> <span style=\"background-color: #ffffff\"; title=\"0.00\">популярный</span> <span style=\"background-color: #ffffff\"; title=\"0.00\">фильм</span> <span style=\"background-color: #ffffff\"; title=\"0.00\">затонуть</span> <span style=\"background-color: #ffffff\"; title=\"0.00\">корабль</span> <span style=\"background-color: #ffffff\"; title=\"0.00\">любовь</span> </p>"
            ],
            "text/plain": [
              "<IPython.core.display.HTML object>"
            ]
          },
          "metadata": {},
          "output_type": "display_data"
        },
        {
          "name": "stdout",
          "output_type": "stream",
          "text": [
            "\n",
            "\n",
            "\n",
            "\n",
            "predicted = Шрэк навсегда\n",
            "true = Шрэк\n"
          ]
        },
        {
          "data": {
            "text/html": [
              "\n",
              "        <p style=\"font-size:16px; color:#000000; border: 2px solid #000; text-align: justify; background-color:#ffffff; border-radius: 25px; padding: 20px;\">\n",
              "        <span style=\"background-color: #ffffff\"; title=\"0.00\">мультик</span> <span style=\"background-color: #ffffff\"; title=\"0.00\">про</span> <span style=\"background-color: #00ff\"; title=\"0.13\">огра</span> <span style=\"background-color: #ffffff\"; title=\"0.00\">жить</span> <span style=\"background-color: #ffffff\"; title=\"0.00\">на</span> <span style=\"background-color: #ffffff\"; title=\"0.00\">болото</span> </p>"
            ],
            "text/plain": [
              "<IPython.core.display.HTML object>"
            ]
          },
          "metadata": {},
          "output_type": "display_data"
        },
        {
          "name": "stdout",
          "output_type": "stream",
          "text": [
            "\n",
            "\n",
            "\n",
            "\n",
            "predicted = Мгла\n",
            "true = Оно\n"
          ]
        },
        {
          "data": {
            "text/html": [
              "\n",
              "        <p style=\"font-size:16px; color:#000000; border: 2px solid #000; text-align: justify; background-color:#ffffff; border-radius: 25px; padding: 20px;\">\n",
              "        <span style=\"background-color: #ffffff\"; title=\"0.00\">ужастик</span> <span style=\"background-color: #ffffff\"; title=\"0.00\">от</span> <span style=\"background-color: #ffffff\"; title=\"0.00\">стивен</span> <span style=\"background-color: #ffffff\"; title=\"0.00\">кинг</span> <span style=\"background-color: #ffffff\"; title=\"0.00\">про</span> <span style=\"background-color: #ffffff\"; title=\"0.00\">существо</span> <span style=\"background-color: #ffffff\"; title=\"0.00\">который</span> <span style=\"background-color: #ffffff\"; title=\"0.00\">менять</span> <span style=\"background-color: #ffffff\"; title=\"0.00\">свой</span> <span style=\"background-color: #ffffff\"; title=\"0.00\">облик</span> <span style=\"background-color: #ffffff\"; title=\"0.00\">на</span> <span style=\"background-color: #ffffff\"; title=\"0.00\">человеческий</span> <span style=\"background-color: #ffffff\"; title=\"0.00\">страх</span> </p>"
            ],
            "text/plain": [
              "<IPython.core.display.HTML object>"
            ]
          },
          "metadata": {},
          "output_type": "display_data"
        },
        {
          "name": "stdout",
          "output_type": "stream",
          "text": [
            "\n",
            "\n",
            "\n",
            "\n",
            "predicted = Король и Шут\n",
            "true = Властелин колец: Братство Кольца\n"
          ]
        },
        {
          "data": {
            "text/html": [
              "\n",
              "        <p style=\"font-size:16px; color:#000000; border: 2px solid #000; text-align: justify; background-color:#ffffff; border-radius: 25px; padding: 20px;\">\n",
              "        <span style=\"background-color: #d1d1ff\"; title=\"0.02\">группа</span> <span style=\"background-color: #ffffff\"; title=\"0.00\">низкорослый</span> <span style=\"background-color: #ffffff\"; title=\"0.00\">человек</span> <span style=\"background-color: #dbdbff\"; title=\"0.02\">отправляться</span> <span style=\"background-color: #ffffff\"; title=\"0.00\">поход</span> <span style=\"background-color: #ffffff\"; title=\"0.00\">чтобы</span> <span style=\"background-color: #ffffff\"; title=\"0.00\">избавиться</span> <span style=\"background-color: #ffffff\"; title=\"0.00\">от</span> <span style=\"background-color: #ffffff\"; title=\"0.00\">драгоценность</span> </p>"
            ],
            "text/plain": [
              "<IPython.core.display.HTML object>"
            ]
          },
          "metadata": {},
          "output_type": "display_data"
        },
        {
          "name": "stdout",
          "output_type": "stream",
          "text": [
            "\n",
            "\n",
            "\n",
            "\n",
            "predicted = Двухсотлетний человек\n",
            "true = ВАЛЛ·И\n"
          ]
        },
        {
          "data": {
            "text/html": [
              "\n",
              "        <p style=\"font-size:16px; color:#000000; border: 2px solid #000; text-align: justify; background-color:#ffffff; border-radius: 25px; padding: 20px;\">\n",
              "        <span style=\"background-color: #ffffff\"; title=\"0.00\">очень</span> <span style=\"background-color: #ffffff\"; title=\"0.00\">толстый</span> <span style=\"background-color: #fafaff\"; title=\"0.00\">человек</span> <span style=\"background-color: #ffffff\"; title=\"0.00\">сбегать</span> <span style=\"background-color: #ffffff\"; title=\"0.00\">земля</span> <span style=\"background-color: #ffffff\"; title=\"0.00\">чтобы</span> <span style=\"background-color: #ffffff\"; title=\"0.00\">конечный</span> <span style=\"background-color: #ffffff\"; title=\"0.00\">итог</span> <span style=\"background-color: #ffffff\"; title=\"0.00\">они</span> <span style=\"background-color: #ffffff\"; title=\"0.00\">спасти</span> <span style=\"background-color: #ffffff\"; title=\"0.00\">ботинок</span> <span style=\"background-color: #ffffff\"; title=\"0.00\">который</span> <span style=\"background-color: #ffffff\"; title=\"0.00\">найти</span> <span style=\"background-color: #9f9fff\"; title=\"0.05\">робот</span> <span style=\"background-color: #ffffff\"; title=\"0.00\">пылесос</span> </p>"
            ],
            "text/plain": [
              "<IPython.core.display.HTML object>"
            ]
          },
          "metadata": {},
          "output_type": "display_data"
        },
        {
          "name": "stdout",
          "output_type": "stream",
          "text": [
            "\n",
            "\n",
            "\n",
            "\n",
            "predicted = Не пойман — не вор\n",
            "true = Один дома\n"
          ]
        },
        {
          "data": {
            "text/html": [
              "\n",
              "        <p style=\"font-size:16px; color:#000000; border: 2px solid #000; text-align: justify; background-color:#ffffff; border-radius: 25px; padding: 20px;\">\n",
              "        <span style=\"background-color: #ffffff\"; title=\"0.00\">безответственный</span> <span style=\"background-color: #ffffff\"; title=\"0.00\">семья</span> <span style=\"background-color: #ffffff\"; title=\"0.00\">безответственный</span> <span style=\"background-color: #ffffff\"; title=\"0.00\">ребёнок</span> <span style=\"background-color: #ffffff\"; title=\"0.00\">безответственный</span> <span style=\"background-color: #bbbbff\"; title=\"0.04\">грабитель</span> <span style=\"background-color: #fafaff\"; title=\"0.00\">ещё</span> <span style=\"background-color: #ffffff\"; title=\"0.00\">канун</span> <span style=\"background-color: #ffffff\"; title=\"0.00\">праздник</span> </p>"
            ],
            "text/plain": [
              "<IPython.core.display.HTML object>"
            ]
          },
          "metadata": {},
          "output_type": "display_data"
        },
        {
          "name": "stdout",
          "output_type": "stream",
          "text": [
            "\n",
            "\n",
            "\n",
            "\n",
            "predicted = Мизантроп\n",
            "true = Шрэк\n"
          ]
        },
        {
          "data": {
            "text/html": [
              "\n",
              "        <p style=\"font-size:16px; color:#000000; border: 2px solid #000; text-align: justify; background-color:#ffffff; border-radius: 25px; padding: 20px;\">\n",
              "        <span style=\"background-color: #ffffff\"; title=\"0.00\">мизантроп</span> <span style=\"background-color: #ffffff\"; title=\"0.00\">жить</span> <span style=\"background-color: #ffffff\"; title=\"0.00\">поодаль</span> <span style=\"background-color: #ffffff\"; title=\"0.00\">от</span> <span style=\"background-color: #ffffff\"; title=\"0.00\">городской</span> <span style=\"background-color: #ffffff\"; title=\"0.00\">суета</span> <span style=\"background-color: #ffffff\"; title=\"0.00\">ввязываться</span> <span style=\"background-color: #ffffff\"; title=\"0.00\">сомнительный</span> <span style=\"background-color: #ffffff\"; title=\"0.00\">путешествие</span> <span style=\"background-color: #ffffff\"; title=\"0.00\">дабы</span> <span style=\"background-color: #ffffff\"; title=\"0.00\">решить</span> <span style=\"background-color: #ffffff\"; title=\"0.00\">проблема</span> <span style=\"background-color: #ffffff\"; title=\"0.00\">недвижимость</span> <span style=\"background-color: #ffffff\"; title=\"0.00\">конец</span> <span style=\"background-color: #ffffff\"; title=\"0.00\">фильм</span> <span style=\"background-color: #ffffff\"; title=\"0.00\">он</span> <span style=\"background-color: #ffffff\"; title=\"0.00\">понимать</span> <span style=\"background-color: #ffffff\"; title=\"0.00\">что</span> <span style=\"background-color: #ffffff\"; title=\"0.00\">любовь</span> <span style=\"background-color: #ffffff\"; title=\"0.00\">сильный</span> <span style=\"background-color: #ffffff\"; title=\"0.00\">мизантропия</span> <span style=\"background-color: #ffffff\"; title=\"0.00\">жениться</span> <span style=\"background-color: #ffffff\"; title=\"0.00\">но</span> <span style=\"background-color: #ffffff\"; title=\"0.00\">жить</span> <span style=\"background-color: #ffffff\"; title=\"0.00\">оставаться</span> <span style=\"background-color: #ffffff\"; title=\"0.00\">всё</span> <span style=\"background-color: #ffffff\"; title=\"0.00\">также</span> <span style=\"background-color: #ffffff\"; title=\"0.00\">далеко</span> <span style=\"background-color: #ffffff\"; title=\"0.00\">от</span> <span style=\"background-color: #f5f5ff\"; title=\"0.00\">город</span> </p>"
            ],
            "text/plain": [
              "<IPython.core.display.HTML object>"
            ]
          },
          "metadata": {},
          "output_type": "display_data"
        }
      ],
      "source": [
        "validate(y_pred, y_true, val_texts)"
      ]
    },
    {
      "cell_type": "markdown",
      "metadata": {
        "id": "EuqFtAkBhjwH"
      },
      "source": [
        "### **Конспект по модели.**\n",
        "+: Просто, понятно, интерпретируемо\n",
        "\n",
        "-: Не масштабируемо, слишком наивно, плохой скор, не улавливает семантику"
      ]
    },
    {
      "cell_type": "markdown",
      "metadata": {
        "id": "VGw_14k548bJ"
      },
      "source": [
        "## Doc2Vec"
      ]
    },
    {
      "cell_type": "code",
      "execution_count": null,
      "metadata": {
        "id": "tyND9W4M6XMz"
      },
      "outputs": [],
      "source": [
        "class Doc2VecModel:\n",
        "    def __init__(\n",
        "        self,\n",
        "        with_lemmatizing: bool = True,\n",
        "        with_stemming: bool = False,\n",
        "        token_pattern: str = r\"(?u)\\b\\w\\w+\\b\",\n",
        "        ):\n",
        "\n",
        "        self.token_pattern = token_pattern\n",
        "        self.with_lemmatizing = with_lemmatizing\n",
        "        self.with_stemming = with_stemming\n",
        "        self.file_name = \"doc2vec_texts_corpus.txt\"\n",
        "\n",
        "    def process_texts(self, texts: list[str]) -> list[str]:\n",
        "        if self.with_lemmatizing:\n",
        "            texts = lemmatize(texts, self.token_pattern, with_stop_words=True)\n",
        "        elif self.with_stemming:\n",
        "            texts = stem(texts, self.token_pattern, with_stop_words=True)\n",
        "        return texts\n",
        "\n",
        "\n",
        "    def fit(self, texts: list[str], *args, **kwargs):\n",
        "        texts = self.process_texts(texts)\n",
        "        with open(self.file_name, \"w\", encoding=\"UTF-8\", buffering=1) as file:\n",
        "            for text in texts:\n",
        "                file.write(text + \"\\n\")\n",
        "        self.model = Doc2Vec(corpus_file = self.file_name, *args, **kwargs)\n",
        "\n",
        "    def vectorize(self, texts: list[str]) -> list[np.array]:\n",
        "        texts = self.process_texts(texts)\n",
        "        return [self.model.infer_vector(text.split()) for text in texts]\n",
        "\n",
        "    def predict(self, texts: list[str]) -> list[int]:\n",
        "        vectors = self.vectorize(texts)\n",
        "        indexes = [np.argmin(self.model.dv.distances(vector)) for vector in vectors]\n",
        "        return indexes\n",
        "\n",
        "    def most_similar(self, text: str, k: int = 10) -> list:\n",
        "        vector = self.vectorize([text])[0]\n",
        "        distances = self.model.dv.distances(vector)\n",
        "        top = torch.topk(torch.Tensor(distances), k)\n",
        "        return top\n"
      ]
    },
    {
      "cell_type": "markdown",
      "metadata": {
        "id": "6UAUf185L_4_"
      },
      "source": [
        "### Подбор гиперпараметров"
      ]
    },
    {
      "cell_type": "code",
      "execution_count": null,
      "metadata": {
        "id": "_gXTXIaQRl9f"
      },
      "outputs": [],
      "source": [
        "params = {\n",
        "    \"vector_size\" : [128], #[2 ** i for i in range(6,11)],\n",
        "    \"epochs\" :  [2400],#[1800,2100,2400],\n",
        "    \"window\" : [4], #list(range(2,8)),\n",
        "    \"shrink_windows\" : [1],\n",
        "    \"alpha\" :  [0.025],#np.linspace(0.02,0.03,1000), #[0.01, 0.075, 0.005, 0.0025, 0.001]\n",
        "}\n",
        "\n",
        "test_texts = movie_df.shortDescription.values\n",
        "y_true = movie_df.id.values\n",
        "\n",
        "max_score = 0\n",
        "\n",
        "for iter in range(200):\n",
        "    time_start = time.time()\n",
        "    print(f\"{iter=}\")\n",
        "    cur_params = {arg_name : np.random.choice(arg_vals) for arg_name,arg_vals in params.items()}\n",
        "    model.fit(movie_df.description.values, dm=0, **cur_params)\n",
        "    y_pred = movie_df.iloc[model.predict(test_texts)].id.values\n",
        "    cur_score = accuracy_score(y_true, y_pred)\n",
        "    if cur_score > max_score:\n",
        "        max_score = cur_score\n",
        "        print(f\"!!!      NEW MAX_SCORE {max_score} achived with {cur_params}\")\n",
        "    else:\n",
        "        print(f\"score {cur_score} achived with {cur_params}\")\n",
        "    print(\"time of exec:\", time.time() - time_start, \"sec\\n\\n\")"
      ]
    },
    {
      "cell_type": "markdown",
      "metadata": {
        "id": "oOgeWhVhfGe7"
      },
      "source": [
        "new max_score 0.16 achived with {'vector_size': 256, 'epochs': 1500, 'window': 6, 'dm': 0, 'shrink_windows': 0, 'alpha': 0.005}\n",
        "\n",
        "NEW MAX_SCORE 0.164 achived with {'vector_size': 128, 'epochs': 2000, 'window': 4, 'dm': 0, 'shrink_windows': 1, 'alpha': 0.0025}\n",
        "\n",
        "time of exec: 48.1322968006134 sec"
      ]
    },
    {
      "cell_type": "code",
      "execution_count": null,
      "metadata": {
        "colab": {
          "base_uri": "https://localhost:8080/"
        },
        "id": "DWjHByvzEBm-",
        "outputId": "5628a9e8-f857-4bec-eabc-a45aa50f44cf"
      },
      "outputs": [
        {
          "name": "stderr",
          "output_type": "stream",
          "text": [
            "100%|██████████| 250/250 [00:01<00:00, 200.48it/s]\n"
          ]
        }
      ],
      "source": [
        "params = {'vector_size': 128, 'epochs': 2000, 'window': 4, 'dm': 0, 'shrink_windows': 1, 'alpha': 0.0025}\n",
        "model = Doc2VecModel()\n",
        "model.fit(movie_df.description.values,**params)"
      ]
    },
    {
      "cell_type": "code",
      "execution_count": null,
      "metadata": {
        "colab": {
          "base_uri": "https://localhost:8080/"
        },
        "id": "9A-Z3lhpLfR7",
        "outputId": "fac783b6-5152-44de-dd8e-7fef2f6484b2"
      },
      "outputs": [
        {
          "name": "stderr",
          "output_type": "stream",
          "text": [
            "100%|██████████| 250/250 [00:00<00:00, 443.78it/s]\n"
          ]
        },
        {
          "data": {
            "text/plain": [
              "0.164"
            ]
          },
          "execution_count": 16,
          "metadata": {},
          "output_type": "execute_result"
        }
      ],
      "source": [
        "test_texts = movie_df.shortDescription.values\n",
        "y_true = movie_df.id.values\n",
        "y_pred = movie_df.iloc[model.predict(test_texts)].id.values\n",
        "accuracy_score(y_true, y_pred)"
      ]
    },
    {
      "cell_type": "code",
      "execution_count": null,
      "metadata": {
        "colab": {
          "base_uri": "https://localhost:8080/"
        },
        "id": "chCbcJ0LPR9Y",
        "outputId": "7705f396-51bc-400b-d744-fa6bcd7a649c"
      },
      "outputs": [
        {
          "name": "stderr",
          "output_type": "stream",
          "text": [
            "100%|██████████| 19/19 [00:00<00:00, 10176.45it/s]\n"
          ]
        },
        {
          "data": {
            "text/plain": [
              "0.0"
            ]
          },
          "execution_count": 52,
          "metadata": {},
          "output_type": "execute_result"
        }
      ],
      "source": [
        "val_texts = val_df.review.values\n",
        "y_pred = movie_df.iloc[model.predict(val_texts)].id.values\n",
        "y_true = val_df.movieId.values\n",
        "accuracy_score(y_true, y_pred)"
      ]
    },
    {
      "cell_type": "markdown",
      "metadata": {
        "id": "W1uYatXCMGQ9"
      },
      "source": [
        "### Группируем обзоры"
      ]
    },
    {
      "cell_type": "code",
      "execution_count": null,
      "metadata": {
        "colab": {
          "base_uri": "https://localhost:8080/",
          "height": 424
        },
        "id": "D_uGIWXCU9oJ",
        "outputId": "d55bd23c-9bc1-4a72-f4ff-f25c6fff4c9a"
      },
      "outputs": [
        {
          "data": {
            "text/html": [
              "\n",
              "  <div id=\"df-50830c70-3bfd-461a-a0c7-12aff3fb4d99\" class=\"colab-df-container\">\n",
              "    <div>\n",
              "<style scoped>\n",
              "    .dataframe tbody tr th:only-of-type {\n",
              "        vertical-align: middle;\n",
              "    }\n",
              "\n",
              "    .dataframe tbody tr th {\n",
              "        vertical-align: top;\n",
              "    }\n",
              "\n",
              "    .dataframe thead th {\n",
              "        text-align: right;\n",
              "    }\n",
              "</style>\n",
              "<table border=\"1\" class=\"dataframe\">\n",
              "  <thead>\n",
              "    <tr style=\"text-align: right;\">\n",
              "      <th></th>\n",
              "      <th>review</th>\n",
              "      <th>movieId</th>\n",
              "    </tr>\n",
              "  </thead>\n",
              "  <tbody>\n",
              "    <tr>\n",
              "      <th>0</th>\n",
              "      <td>О чём фильм? Мутант совершает покушение на Пре...</td>\n",
              "      <td>298</td>\n",
              "    </tr>\n",
              "    <tr>\n",
              "      <th>1</th>\n",
              "      <td>Для миллионов режиссеров секрет достойного сик...</td>\n",
              "      <td>299</td>\n",
              "    </tr>\n",
              "    <tr>\n",
              "      <th>2</th>\n",
              "      <td>Матрица - это кино, которое в свое время измен...</td>\n",
              "      <td>301</td>\n",
              "    </tr>\n",
              "    <tr>\n",
              "      <th>3</th>\n",
              "      <td>Дэйв Базник парень еврейской наружности из Бру...</td>\n",
              "      <td>303</td>\n",
              "    </tr>\n",
              "    <tr>\n",
              "      <th>4</th>\n",
              "      <td>Вы никогда не задумывались почему люди лгут? К...</td>\n",
              "      <td>305</td>\n",
              "    </tr>\n",
              "    <tr>\n",
              "      <th>...</th>\n",
              "      <td>...</td>\n",
              "      <td>...</td>\n",
              "    </tr>\n",
              "    <tr>\n",
              "      <th>2147</th>\n",
              "      <td>Я не смотрел оригинальный мультсериал, поэтому...</td>\n",
              "      <td>5249392</td>\n",
              "    </tr>\n",
              "    <tr>\n",
              "      <th>2148</th>\n",
              "      <td>Среди молодежи в свое время был популярен сери...</td>\n",
              "      <td>5292981</td>\n",
              "    </tr>\n",
              "    <tr>\n",
              "      <th>2149</th>\n",
              "      <td>Жоре Крыжовникову удалось создать самый настоя...</td>\n",
              "      <td>5304403</td>\n",
              "    </tr>\n",
              "    <tr>\n",
              "      <th>2150</th>\n",
              "      <td>Сериал «Крутая перемена» рассказывает нам о гл...</td>\n",
              "      <td>5313200</td>\n",
              "    </tr>\n",
              "    <tr>\n",
              "      <th>2151</th>\n",
              "      <td>В фильме применен прием реверсивной хронологии...</td>\n",
              "      <td>5365497</td>\n",
              "    </tr>\n",
              "  </tbody>\n",
              "</table>\n",
              "<p>2152 rows × 2 columns</p>\n",
              "</div>\n",
              "    <div class=\"colab-df-buttons\">\n",
              "\n",
              "  <div class=\"colab-df-container\">\n",
              "    <button class=\"colab-df-convert\" onclick=\"convertToInteractive('df-50830c70-3bfd-461a-a0c7-12aff3fb4d99')\"\n",
              "            title=\"Convert this dataframe to an interactive table.\"\n",
              "            style=\"display:none;\">\n",
              "\n",
              "  <svg xmlns=\"http://www.w3.org/2000/svg\" height=\"24px\" viewBox=\"0 -960 960 960\">\n",
              "    <path d=\"M120-120v-720h720v720H120Zm60-500h600v-160H180v160Zm220 220h160v-160H400v160Zm0 220h160v-160H400v160ZM180-400h160v-160H180v160Zm440 0h160v-160H620v160ZM180-180h160v-160H180v160Zm440 0h160v-160H620v160Z\"/>\n",
              "  </svg>\n",
              "    </button>\n",
              "\n",
              "  <style>\n",
              "    .colab-df-container {\n",
              "      display:flex;\n",
              "      gap: 12px;\n",
              "    }\n",
              "\n",
              "    .colab-df-convert {\n",
              "      background-color: #E8F0FE;\n",
              "      border: none;\n",
              "      border-radius: 50%;\n",
              "      cursor: pointer;\n",
              "      display: none;\n",
              "      fill: #1967D2;\n",
              "      height: 32px;\n",
              "      padding: 0 0 0 0;\n",
              "      width: 32px;\n",
              "    }\n",
              "\n",
              "    .colab-df-convert:hover {\n",
              "      background-color: #E2EBFA;\n",
              "      box-shadow: 0px 1px 2px rgba(60, 64, 67, 0.3), 0px 1px 3px 1px rgba(60, 64, 67, 0.15);\n",
              "      fill: #174EA6;\n",
              "    }\n",
              "\n",
              "    .colab-df-buttons div {\n",
              "      margin-bottom: 4px;\n",
              "    }\n",
              "\n",
              "    [theme=dark] .colab-df-convert {\n",
              "      background-color: #3B4455;\n",
              "      fill: #D2E3FC;\n",
              "    }\n",
              "\n",
              "    [theme=dark] .colab-df-convert:hover {\n",
              "      background-color: #434B5C;\n",
              "      box-shadow: 0px 1px 3px 1px rgba(0, 0, 0, 0.15);\n",
              "      filter: drop-shadow(0px 1px 2px rgba(0, 0, 0, 0.3));\n",
              "      fill: #FFFFFF;\n",
              "    }\n",
              "  </style>\n",
              "\n",
              "    <script>\n",
              "      const buttonEl =\n",
              "        document.querySelector('#df-50830c70-3bfd-461a-a0c7-12aff3fb4d99 button.colab-df-convert');\n",
              "      buttonEl.style.display =\n",
              "        google.colab.kernel.accessAllowed ? 'block' : 'none';\n",
              "\n",
              "      async function convertToInteractive(key) {\n",
              "        const element = document.querySelector('#df-50830c70-3bfd-461a-a0c7-12aff3fb4d99');\n",
              "        const dataTable =\n",
              "          await google.colab.kernel.invokeFunction('convertToInteractive',\n",
              "                                                    [key], {});\n",
              "        if (!dataTable) return;\n",
              "\n",
              "        const docLinkHtml = 'Like what you see? Visit the ' +\n",
              "          '<a target=\"_blank\" href=https://colab.research.google.com/notebooks/data_table.ipynb>data table notebook</a>'\n",
              "          + ' to learn more about interactive tables.';\n",
              "        element.innerHTML = '';\n",
              "        dataTable['output_type'] = 'display_data';\n",
              "        await google.colab.output.renderOutput(dataTable, element);\n",
              "        const docLink = document.createElement('div');\n",
              "        docLink.innerHTML = docLinkHtml;\n",
              "        element.appendChild(docLink);\n",
              "      }\n",
              "    </script>\n",
              "  </div>\n",
              "\n",
              "\n",
              "<div id=\"df-e1f411ab-c951-46bd-8837-096b3f105dc7\">\n",
              "  <button class=\"colab-df-quickchart\" onclick=\"quickchart('df-e1f411ab-c951-46bd-8837-096b3f105dc7')\"\n",
              "            title=\"Suggest charts\"\n",
              "            style=\"display:none;\">\n",
              "\n",
              "<svg xmlns=\"http://www.w3.org/2000/svg\" height=\"24px\"viewBox=\"0 0 24 24\"\n",
              "     width=\"24px\">\n",
              "    <g>\n",
              "        <path d=\"M19 3H5c-1.1 0-2 .9-2 2v14c0 1.1.9 2 2 2h14c1.1 0 2-.9 2-2V5c0-1.1-.9-2-2-2zM9 17H7v-7h2v7zm4 0h-2V7h2v10zm4 0h-2v-4h2v4z\"/>\n",
              "    </g>\n",
              "</svg>\n",
              "  </button>\n",
              "\n",
              "<style>\n",
              "  .colab-df-quickchart {\n",
              "      --bg-color: #E8F0FE;\n",
              "      --fill-color: #1967D2;\n",
              "      --hover-bg-color: #E2EBFA;\n",
              "      --hover-fill-color: #174EA6;\n",
              "      --disabled-fill-color: #AAA;\n",
              "      --disabled-bg-color: #DDD;\n",
              "  }\n",
              "\n",
              "  [theme=dark] .colab-df-quickchart {\n",
              "      --bg-color: #3B4455;\n",
              "      --fill-color: #D2E3FC;\n",
              "      --hover-bg-color: #434B5C;\n",
              "      --hover-fill-color: #FFFFFF;\n",
              "      --disabled-bg-color: #3B4455;\n",
              "      --disabled-fill-color: #666;\n",
              "  }\n",
              "\n",
              "  .colab-df-quickchart {\n",
              "    background-color: var(--bg-color);\n",
              "    border: none;\n",
              "    border-radius: 50%;\n",
              "    cursor: pointer;\n",
              "    display: none;\n",
              "    fill: var(--fill-color);\n",
              "    height: 32px;\n",
              "    padding: 0;\n",
              "    width: 32px;\n",
              "  }\n",
              "\n",
              "  .colab-df-quickchart:hover {\n",
              "    background-color: var(--hover-bg-color);\n",
              "    box-shadow: 0 1px 2px rgba(60, 64, 67, 0.3), 0 1px 3px 1px rgba(60, 64, 67, 0.15);\n",
              "    fill: var(--button-hover-fill-color);\n",
              "  }\n",
              "\n",
              "  .colab-df-quickchart-complete:disabled,\n",
              "  .colab-df-quickchart-complete:disabled:hover {\n",
              "    background-color: var(--disabled-bg-color);\n",
              "    fill: var(--disabled-fill-color);\n",
              "    box-shadow: none;\n",
              "  }\n",
              "\n",
              "  .colab-df-spinner {\n",
              "    border: 2px solid var(--fill-color);\n",
              "    border-color: transparent;\n",
              "    border-bottom-color: var(--fill-color);\n",
              "    animation:\n",
              "      spin 1s steps(1) infinite;\n",
              "  }\n",
              "\n",
              "  @keyframes spin {\n",
              "    0% {\n",
              "      border-color: transparent;\n",
              "      border-bottom-color: var(--fill-color);\n",
              "      border-left-color: var(--fill-color);\n",
              "    }\n",
              "    20% {\n",
              "      border-color: transparent;\n",
              "      border-left-color: var(--fill-color);\n",
              "      border-top-color: var(--fill-color);\n",
              "    }\n",
              "    30% {\n",
              "      border-color: transparent;\n",
              "      border-left-color: var(--fill-color);\n",
              "      border-top-color: var(--fill-color);\n",
              "      border-right-color: var(--fill-color);\n",
              "    }\n",
              "    40% {\n",
              "      border-color: transparent;\n",
              "      border-right-color: var(--fill-color);\n",
              "      border-top-color: var(--fill-color);\n",
              "    }\n",
              "    60% {\n",
              "      border-color: transparent;\n",
              "      border-right-color: var(--fill-color);\n",
              "    }\n",
              "    80% {\n",
              "      border-color: transparent;\n",
              "      border-right-color: var(--fill-color);\n",
              "      border-bottom-color: var(--fill-color);\n",
              "    }\n",
              "    90% {\n",
              "      border-color: transparent;\n",
              "      border-bottom-color: var(--fill-color);\n",
              "    }\n",
              "  }\n",
              "</style>\n",
              "\n",
              "  <script>\n",
              "    async function quickchart(key) {\n",
              "      const quickchartButtonEl =\n",
              "        document.querySelector('#' + key + ' button');\n",
              "      quickchartButtonEl.disabled = true;  // To prevent multiple clicks.\n",
              "      quickchartButtonEl.classList.add('colab-df-spinner');\n",
              "      try {\n",
              "        const charts = await google.colab.kernel.invokeFunction(\n",
              "            'suggestCharts', [key], {});\n",
              "      } catch (error) {\n",
              "        console.error('Error during call to suggestCharts:', error);\n",
              "      }\n",
              "      quickchartButtonEl.classList.remove('colab-df-spinner');\n",
              "      quickchartButtonEl.classList.add('colab-df-quickchart-complete');\n",
              "    }\n",
              "    (() => {\n",
              "      let quickchartButtonEl =\n",
              "        document.querySelector('#df-e1f411ab-c951-46bd-8837-096b3f105dc7 button');\n",
              "      quickchartButtonEl.style.display =\n",
              "        google.colab.kernel.accessAllowed ? 'block' : 'none';\n",
              "    })();\n",
              "  </script>\n",
              "</div>\n",
              "    </div>\n",
              "  </div>\n"
            ],
            "text/plain": [
              "                                                 review  movieId\n",
              "0     О чём фильм? Мутант совершает покушение на Пре...      298\n",
              "1     Для миллионов режиссеров секрет достойного сик...      299\n",
              "2     Матрица - это кино, которое в свое время измен...      301\n",
              "3     Дэйв Базник парень еврейской наружности из Бру...      303\n",
              "4     Вы никогда не задумывались почему люди лгут? К...      305\n",
              "...                                                 ...      ...\n",
              "2147  Я не смотрел оригинальный мультсериал, поэтому...  5249392\n",
              "2148  Среди молодежи в свое время был популярен сери...  5292981\n",
              "2149  Жоре Крыжовникову удалось создать самый настоя...  5304403\n",
              "2150  Сериал «Крутая перемена» рассказывает нам о гл...  5313200\n",
              "2151  В фильме применен прием реверсивной хронологии...  5365497\n",
              "\n",
              "[2152 rows x 2 columns]"
            ]
          },
          "execution_count": 169,
          "metadata": {},
          "output_type": "execute_result"
        }
      ],
      "source": [
        "grouped_reviews_df = review_df.groupby('movieId')['review'].apply(lambda x: '. '.join(x))\n",
        "grouped_reviews_df = pd.DataFrame({'review': grouped_reviews_df, 'movieId': grouped_reviews_df.index}).reset_index(drop=True)\n",
        "grouped_reviews_df"
      ]
    },
    {
      "cell_type": "code",
      "execution_count": null,
      "metadata": {
        "colab": {
          "base_uri": "https://localhost:8080/"
        },
        "id": "a7ki-6DtHOuo",
        "outputId": "804a93fb-673e-4e9e-c72f-443c15eeccc9"
      },
      "outputs": [
        {
          "name": "stderr",
          "output_type": "stream",
          "text": [
            "100%|██████████| 2152/2152 [00:56<00:00, 38.14it/s]\n"
          ]
        }
      ],
      "source": [
        "params = {'vector_size': 128, 'epochs': 120, 'window': 4, 'dm': 0, 'shrink_windows': 1, 'dm_mean':1, 'ns_exponent':0.0,'min_count': 2}\n",
        "model = Doc2VecModel()\n",
        "model.fit(grouped_reviews_df.review.values, **params)"
      ]
    },
    {
      "cell_type": "code",
      "execution_count": null,
      "metadata": {
        "colab": {
          "base_uri": "https://localhost:8080/"
        },
        "id": "4TvuQR10HmYK",
        "outputId": "150b687d-fd34-4f13-e76c-52db8e2af3e2"
      },
      "outputs": [
        {
          "name": "stderr",
          "output_type": "stream",
          "text": [
            "100%|██████████| 2500/2500 [00:00<00:00, 28740.08it/s]\n"
          ]
        },
        {
          "data": {
            "text/plain": [
              "0.338"
            ]
          },
          "execution_count": 172,
          "metadata": {},
          "output_type": "execute_result"
        }
      ],
      "source": [
        "test_texts = movie_df.shortDescription.values\n",
        "y_true = movie_df.id.values\n",
        "y_pred= grouped_reviews_df.movieId[model.predict(test_texts)].values\n",
        "accuracy_score(y_true, y_pred)"
      ]
    },
    {
      "cell_type": "code",
      "execution_count": null,
      "metadata": {
        "colab": {
          "base_uri": "https://localhost:8080/"
        },
        "id": "2Fhsi_guX_z7",
        "outputId": "bb15ff38-b87c-46eb-92c9-f6169d952a36"
      },
      "outputs": [
        {
          "name": "stderr",
          "output_type": "stream",
          "text": [
            "100%|██████████| 38/38 [00:00<00:00, 4713.68it/s]\n"
          ]
        },
        {
          "data": {
            "text/plain": [
              "0.05263157894736842"
            ]
          },
          "execution_count": 173,
          "metadata": {},
          "output_type": "execute_result"
        }
      ],
      "source": [
        "val_texts = val_df.review.values\n",
        "y_pred= grouped_reviews_df.movieId[model.predict(val_texts)].values\n",
        "y_true = val_df.movieId.values\n",
        "accuracy_score(y_true, y_pred)"
      ]
    },
    {
      "cell_type": "code",
      "execution_count": null,
      "metadata": {
        "colab": {
          "base_uri": "https://localhost:8080/"
        },
        "id": "B0CFVlQj0NuI",
        "outputId": "64b5e672-319a-4750-d882-19ffdd273a38"
      },
      "outputs": [
        {
          "name": "stderr",
          "output_type": "stream",
          "text": [
            "100%|██████████| 2500/2500 [00:01<00:00, 1971.53it/s]\n"
          ]
        }
      ],
      "source": [
        "movie_vectors = model.vectorize(movie_df.description.values)"
      ]
    },
    {
      "cell_type": "code",
      "execution_count": null,
      "metadata": {
        "colab": {
          "base_uri": "https://localhost:8080/"
        },
        "id": "hQQ5SA-r1xRX",
        "outputId": "ae08ef7e-f035-4d7b-b821-1c9de77e2b94"
      },
      "outputs": [
        {
          "name": "stderr",
          "output_type": "stream",
          "text": [
            "100%|██████████| 2500/2500 [00:00<00:00, 30519.39it/s]\n"
          ]
        }
      ],
      "source": [
        "short_descr_vectors =  model.vectorize(movie_df.shortDescription.values)"
      ]
    },
    {
      "cell_type": "code",
      "execution_count": null,
      "metadata": {
        "id": "mQ4-BRSp02qB"
      },
      "outputs": [],
      "source": [
        "from scipy.spatial import distance_matrix"
      ]
    },
    {
      "cell_type": "code",
      "execution_count": null,
      "metadata": {
        "id": "oKQdWW5Y0xkU"
      },
      "outputs": [],
      "source": [
        "dists = distance_matrix(np.stack(short_descr_vectors), np.stack(movie_vectors))"
      ]
    },
    {
      "cell_type": "code",
      "execution_count": null,
      "metadata": {
        "id": "I1nNEKVK2CZ_"
      },
      "outputs": [],
      "source": [
        "answers = np.argmin(dists,axis = 1)"
      ]
    },
    {
      "cell_type": "code",
      "execution_count": null,
      "metadata": {
        "colab": {
          "base_uri": "https://localhost:8080/"
        },
        "id": "mx-Biayz26qU",
        "outputId": "d04a5ef3-dcf6-4e35-9159-4605cd5f9816"
      },
      "outputs": [
        {
          "data": {
            "text/plain": [
              "76"
            ]
          },
          "execution_count": 179,
          "metadata": {},
          "output_type": "execute_result"
        }
      ],
      "source": [
        "len([0 for i, el in enumerate(answers) if el == i ])"
      ]
    },
    {
      "cell_type": "code",
      "execution_count": null,
      "metadata": {
        "colab": {
          "base_uri": "https://localhost:8080/"
        },
        "id": "obIg3yB_YpF9",
        "outputId": "ee02ba77-a752-4a7b-fe34-5e089fbaef2b"
      },
      "outputs": [
        {
          "name": "stderr",
          "output_type": "stream",
          "text": [
            "100%|██████████| 1/1 [00:00<00:00, 753.29it/s]\n"
          ]
        }
      ],
      "source": [
        "indices = model.most_similar(movie_df.shortDescription.values[215], k = 20).indices"
      ]
    },
    {
      "cell_type": "code",
      "execution_count": null,
      "metadata": {
        "colab": {
          "base_uri": "https://localhost:8080/"
        },
        "id": "juCEfKmkekne",
        "outputId": "f955bc5f-8db7-4707-cd31-0f699c34e91f"
      },
      "outputs": [
        {
          "data": {
            "text/plain": [
              "rating                                                            7.8\n",
              "votes                                                          561472\n",
              "id                                                               5502\n",
              "type                                                            movie\n",
              "name                                                Назад в будущее 2\n",
              "description         Продолжение фантастической истории о приключен...\n",
              "slogan                                              Все это о времени\n",
              "year                                                             1989\n",
              "facts               ['Во время съемок &#171;будущего&#187; Майкл Д...\n",
              "genres              ['фантастика', 'приключения', 'боевик', 'комед...\n",
              "persons             [{'id': 181, 'photo': 'https://st.kp.yandex.ne...\n",
              "alternativeName                            Back to the Future Part II\n",
              "enName                                      Back to the Future Part 2\n",
              "shortDescription    Док и Марти решили исправить будущее, но сперв...\n",
              "Name: 210, dtype: object"
            ]
          },
          "execution_count": 181,
          "metadata": {},
          "output_type": "execute_result"
        }
      ],
      "source": [
        "movie_df.iloc[210]"
      ]
    },
    {
      "cell_type": "code",
      "execution_count": null,
      "metadata": {
        "colab": {
          "base_uri": "https://localhost:8080/"
        },
        "id": "_Z3-0NbIdsHU",
        "outputId": "3922ac68-af03-49c4-b0b2-86e4c78cfcb7"
      },
      "outputs": [
        {
          "data": {
            "text/plain": [
              "0     Доктор Стрэндж: В мультивселенной безумия\n",
              "1                                   Темные воды\n",
              "2                                          Жуки\n",
              "3                                          Мира\n",
              "4                                       Призрак\n",
              "5                        Вампиры средней полосы\n",
              "6                               Марафон желаний\n",
              "7                        Любовь. Смерть. Роботы\n",
              "8                             Серебряные коньки\n",
              "9                           Свадьба в Малиновке\n",
              "10             Звёздные войны: Последние джедаи\n",
              "11                                 Купе номер 6\n",
              "12                                    Водоворот\n",
              "13                   Артек. Большое путешествие\n",
              "14               Чук и Гек. Большое приключение\n",
              "15                                 Спортлото-82\n",
              "16                                  Ширли-мырли\n",
              "17                                         Локи\n",
              "18             Звёздные войны: Пробуждение силы\n",
              "19                                     Нежность\n",
              "Name: name, dtype: object"
            ]
          },
          "execution_count": 183,
          "metadata": {},
          "output_type": "execute_result"
        }
      ],
      "source": [
        "pd.merge(grouped_reviews_df.movieId[indices.numpy()],movie_df,left_on='movieId', right_on='id', how='left').name"
      ]
    },
    {
      "cell_type": "markdown",
      "metadata": {
        "id": "_fM3GTm3Fo7z"
      },
      "source": [
        "## Визуализация с уменьшением размерности"
      ]
    },
    {
      "cell_type": "code",
      "execution_count": null,
      "metadata": {
        "id": "pJtY93DLFwMD"
      },
      "outputs": [],
      "source": [
        "import plotly"
      ]
    },
    {
      "cell_type": "code",
      "execution_count": null,
      "metadata": {
        "id": "b3LvRjNxFtm-"
      },
      "outputs": [],
      "source": [
        "def plot_tsne_embeddings(embeddings: np.ndarray, annotations: np.ndarray) -> None:\n",
        "    trace = plotly.graph_objs.Scattergl(\n",
        "        x=embeddings[:, 0],\n",
        "        y=embeddings[:, 1],\n",
        "        name=\"Embedding\",\n",
        "        mode=\"markers\",\n",
        "        marker={\"colorscale\": \"Viridis\", \"size\": 6, \"line\": {\"width\": 0.5}, \"opacity\": 0.75},\n",
        "        text=annotations,\n",
        "    )\n",
        "\n",
        "    layout = {\n",
        "        \"title\": \"Some Title =)\",\n",
        "        \"yaxis\": {\"zeroline\": False},\n",
        "        \"xaxis\": {\"zeroline\": False},\n",
        "        \"hovermode\": \"closest\",\n",
        "        \"width\": 800,\n",
        "        \"height\": 800,\n",
        "    }\n",
        "\n",
        "    display(plotly.graph_objs.Figure(data=[trace], layout=layout))"
      ]
    },
    {
      "cell_type": "code",
      "execution_count": null,
      "metadata": {
        "colab": {
          "base_uri": "https://localhost:8080/",
          "height": 834
        },
        "id": "jumHjqQBLJJM",
        "outputId": "86022de1-fa67-42b6-8e4d-bb1e5b0f8f0f"
      },
      "outputs": [
        {
          "name": "stderr",
          "output_type": "stream",
          "text": [
            "100%|██████████| 1250/1250 [00:00<00:00, 6963.01it/s]\n"
          ]
        },
        {
          "data": {
            "text/html": [
              "<html>\n",
              "<head><meta charset=\"utf-8\" /></head>\n",
              "<body>\n",
              "    <div>            <script src=\"https://cdnjs.cloudflare.com/ajax/libs/mathjax/2.7.5/MathJax.js?config=TeX-AMS-MML_SVG\"></script><script type=\"text/javascript\">if (window.MathJax && window.MathJax.Hub && window.MathJax.Hub.Config) {window.MathJax.Hub.Config({SVG: {font: \"STIX-Web\"}});}</script>                <script type=\"text/javascript\">window.PlotlyConfig = {MathJaxConfig: 'local'};</script>\n",
              "        <script charset=\"utf-8\" src=\"https://cdn.plot.ly/plotly-2.24.1.min.js\"></script>                <div id=\"be9017fd-c552-4bf1-8b17-ec1c6c9750d8\" class=\"plotly-graph-div\" style=\"height:800px; width:800px;\"></div>            <script type=\"text/javascript\">                                    window.PLOTLYENV=window.PLOTLYENV || {};                                    if (document.getElementById(\"be9017fd-c552-4bf1-8b17-ec1c6c9750d8\")) {                    Plotly.newPlot(                        \"be9017fd-c552-4bf1-8b17-ec1c6c9750d8\",                        [{\"marker\":{\"colorscale\":[[0.0,\"#440154\"],[0.1111111111111111,\"#482878\"],[0.2222222222222222,\"#3e4989\"],[0.3333333333333333,\"#31688e\"],[0.4444444444444444,\"#26828e\"],[0.5555555555555556,\"#1f9e89\"],[0.6666666666666666,\"#35b779\"],[0.7777777777777778,\"#6ece58\"],[0.8888888888888888,\"#b5de2b\"],[1.0,\"#fde725\"]],\"line\":{\"width\":0.5},\"opacity\":0.75,\"size\":6},\"mode\":\"markers\",\"name\":\"Embedding\",\"text\":[\"\\u041a\\u0438\\u0431\\u0435\\u0440\\u0434\\u0435\\u0440\\u0435\\u0432\\u043d\\u044f\",\"\\u041a\\u0438\\u0431\\u0435\\u0440\\u0434\\u0435\\u0440\\u0435\\u0432\\u043d\\u044f\",\"\\u041a\\u0438\\u0431\\u0435\\u0440\\u0434\\u0435\\u0440\\u0435\\u0432\\u043d\\u044f\",\"\\u041a\\u0438\\u0431\\u0435\\u0440\\u0434\\u0435\\u0440\\u0435\\u0432\\u043d\\u044f\",\"\\u041a\\u0438\\u0431\\u0435\\u0440\\u0434\\u0435\\u0440\\u0435\\u0432\\u043d\\u044f\",\"\\u041a\\u0438\\u0431\\u0435\\u0440\\u0434\\u0435\\u0440\\u0435\\u0432\\u043d\\u044f\",\"\\u041a\\u0438\\u0431\\u0435\\u0440\\u0434\\u0435\\u0440\\u0435\\u0432\\u043d\\u044f\",\"\\u041a\\u0438\\u0431\\u0435\\u0440\\u0434\\u0435\\u0440\\u0435\\u0432\\u043d\\u044f\",\"\\u041a\\u0438\\u0431\\u0435\\u0440\\u0434\\u0435\\u0440\\u0435\\u0432\\u043d\\u044f\",\"\\u041a\\u0438\\u0431\\u0435\\u0440\\u0434\\u0435\\u0440\\u0435\\u0432\\u043d\\u044f\",\"\\u041a\\u0438\\u0431\\u0435\\u0440\\u0434\\u0435\\u0440\\u0435\\u0432\\u043d\\u044f\",\"\\u041a\\u0438\\u0431\\u0435\\u0440\\u0434\\u0435\\u0440\\u0435\\u0432\\u043d\\u044f\",\"\\u041a\\u0438\\u0431\\u0435\\u0440\\u0434\\u0435\\u0440\\u0435\\u0432\\u043d\\u044f\",\"\\u041a\\u0438\\u0431\\u0435\\u0440\\u0434\\u0435\\u0440\\u0435\\u0432\\u043d\\u044f\",\"\\u0414\\u0436\\u043e\\u043d \\u0423\\u0438\\u043a 4\",\"\\u0414\\u0436\\u043e\\u043d \\u0423\\u0438\\u043a 4\",\"\\u0414\\u0432\\u0430 \\u0445\\u043e\\u043b\\u043c\\u0430\",\"\\u041a\\u0438\\u0431\\u0435\\u0440\\u0434\\u0435\\u0440\\u0435\\u0432\\u043d\\u044f\",\"\\u0414\\u0436\\u043e\\u043d \\u0423\\u0438\\u043a 4\",\"\\u041a\\u0438\\u0431\\u0435\\u0440\\u0434\\u0435\\u0440\\u0435\\u0432\\u043d\\u044f\",\"\\u0414\\u0436\\u043e\\u043d \\u0423\\u0438\\u043a 4\",\"\\u041a\\u043e\\u0440\\u043e\\u043b\\u044c \\u0438 \\u0428\\u0443\\u0442\",\"\\u0412\\u044b\\u0448\\u043a\\u0430\",\"\\u041a\\u0438\\u0431\\u0435\\u0440\\u0434\\u0435\\u0440\\u0435\\u0432\\u043d\\u044f\",\"\\u041a\\u0438\\u0431\\u0435\\u0440\\u0434\\u0435\\u0440\\u0435\\u0432\\u043d\\u044f\",\"\\u041a\\u0438\\u0431\\u0435\\u0440\\u0434\\u0435\\u0440\\u0435\\u0432\\u043d\\u044f\",\"\\u041a\\u0438\\u0431\\u0435\\u0440\\u0434\\u0435\\u0440\\u0435\\u0432\\u043d\\u044f\",\"\\u0417\\u0435\\u043b\\u0435\\u043d\\u0430\\u044f \\u043c\\u0438\\u043b\\u044f\",\"\\u041f\\u043e\\u0431\\u0435\\u0433 \\u0438\\u0437 \\u0428\\u043e\\u0443\\u0448\\u0435\\u043d\\u043a\\u0430\",\"\\u041a\\u043e\\u0440\\u043e\\u043b\\u044c \\u0438 \\u0428\\u0443\\u0442\",\"\\u0414\\u0432\\u0430 \\u0445\\u043e\\u043b\\u043c\\u0430\",\"\\u041a\\u0438\\u0431\\u0435\\u0440\\u0434\\u0435\\u0440\\u0435\\u0432\\u043d\\u044f\",\"\\u041a\\u0438\\u0431\\u0435\\u0440\\u0434\\u0435\\u0440\\u0435\\u0432\\u043d\\u044f\",\"\\u041f\\u043e\\u0431\\u0435\\u0433 \\u0438\\u0437 \\u0428\\u043e\\u0443\\u0448\\u0435\\u043d\\u043a\\u0430\",\"\\u041a\\u0438\\u0431\\u0435\\u0440\\u0434\\u0435\\u0440\\u0435\\u0432\\u043d\\u044f\",\"\\u041a\\u0438\\u0431\\u0435\\u0440\\u0434\\u0435\\u0440\\u0435\\u0432\\u043d\\u044f\",\"\\u041a\\u0438\\u0431\\u0435\\u0440\\u0434\\u0435\\u0440\\u0435\\u0432\\u043d\\u044f\",\"\\u041a\\u0438\\u0431\\u0435\\u0440\\u0434\\u0435\\u0440\\u0435\\u0432\\u043d\\u044f\",\"\\u0414\\u0436\\u043e\\u043d \\u0423\\u0438\\u043a 4\",\"\\u0414\\u0436\\u0435\\u043d\\u0442\\u043b\\u044c\\u043c\\u0435\\u043d\\u044b\",\"\\u0411\\u0435\\u0441\\u043f\\u0440\\u0438\\u043d\\u0446\\u0438\\u043f\\u043d\\u044b\\u0435 \\u0432 \\u0434\\u0435\\u0440\\u0435\\u0432\\u043d\\u0435\",\"\\u0414\\u0432\\u0430 \\u0445\\u043e\\u043b\\u043c\\u0430\",\"\\u0414\\u0436\\u043e\\u043a\\u0435\\u0440\",\"\\u0414\\u0436\\u043e\\u043d \\u0423\\u0438\\u043a 4\",\"\\u041a\\u043e\\u0440\\u043e\\u043b\\u044c \\u0438 \\u0428\\u0443\\u0442\",\"\\u0414\\u0436\\u0435\\u043d\\u0442\\u043b\\u044c\\u043c\\u0435\\u043d\\u044b\",\"\\u0414\\u0432\\u0430 \\u0445\\u043e\\u043b\\u043c\\u0430\",\"\\u041a\\u043e\\u0440\\u043e\\u043b\\u044c \\u0438 \\u0428\\u0443\\u0442\",\"\\u0414\\u0436\\u0435\\u043d\\u0442\\u043b\\u044c\\u043c\\u0435\\u043d\\u044b\",\"\\u041c\\u043e\\u043d\\u0430\\u0441\\u0442\\u044b\\u0440\\u044c\",\"1+1\",\"\\u0412\\u0441\\u0451 \\u0432\\u0435\\u0437\\u0434\\u0435 \\u0438 \\u0441\\u0440\\u0430\\u0437\\u0443\",\"\\u041f\\u0438\\u0449\\u0435\\u0431\\u043b\\u043e\\u043a\",\"\\u041c\\u043e\\u043b\\u0447\\u0430\\u043d\\u0438\\u0435 \\u044f\\u0433\\u043d\\u044f\\u0442\",\"\\u0417\\u0435\\u043b\\u0435\\u043d\\u0430\\u044f \\u043c\\u0438\\u043b\\u044f\",\"\\u041f\\u0438\\u0449\\u0435\\u0431\\u043b\\u043e\\u043a\",\"\\u0412\\u044b\\u0448\\u043a\\u0430\",\"\\u041a\\u0440\\u0443\\u044d\\u043b\\u043b\\u0430\",\"\\u041f\\u0438\\u0449\\u0435\\u0431\\u043b\\u043e\\u043a\",\"\\u0427\\u0435\\u043b\\u043e\\u0432\\u0435\\u043a-\\u043f\\u0430\\u0443\\u043a: \\u0427\\u0435\\u0440\\u0435\\u0437 \\u0432\\u0441\\u0435\\u043b\\u0435\\u043d\\u043d\\u044b\\u0435\",\"\\u041f\\u0438\\u0449\\u0435\\u0431\\u043b\\u043e\\u043a\",\"\\u041f\\u0438\\u0449\\u0435\\u0431\\u043b\\u043e\\u043a\",\"\\u041f\\u0435\\u0440\\u0435\\u0432\\u043e\\u0434\\u0447\\u0438\\u043a\",\"\\u0414\\u0436\\u043e\\u043d \\u0423\\u0438\\u043a 4\",\"\\u041e\\u043f\\u0435\\u0440\\u0430\\u0446\\u0438\\u044f \\u00ab\\u0424\\u043e\\u0440\\u0442\\u0443\\u043d\\u0430\\u00bb: \\u0418\\u0441\\u043a\\u0443\\u0441\\u0441\\u0442\\u0432\\u043e \\u043f\\u043e\\u0431\\u0435\\u0436\\u0434\\u0430\\u0442\\u044c\",\"\\u0414\\u0432\\u0430 \\u0445\\u043e\\u043b\\u043c\\u0430\",\"\\u0412\\u0441\\u0451 \\u0432\\u0435\\u0437\\u0434\\u0435 \\u0438 \\u0441\\u0440\\u0430\\u0437\\u0443\",\"\\u0414\\u0432\\u0430 \\u0445\\u043e\\u043b\\u043c\\u0430\",\"\\u0414\\u0432\\u0430 \\u0445\\u043e\\u043b\\u043c\\u0430\",\"\\u041f\\u043e\\u0441\\u0442\\u0443\\u0447\\u0438\\u0441\\u044c \\u0432 \\u043c\\u043e\\u044e \\u0434\\u0432\\u0435\\u0440\\u044c\",\"\\u041d\\u0430\\u0447\\u0430\\u043b\\u043e\",\"\\u0422\\u0435\\u043c\\u043d\\u044b\\u0439 \\u0440\\u044b\\u0446\\u0430\\u0440\\u044c\",\"\\u0413\\u043b\\u0430\\u0432\\u043d\\u044b\\u0439 \\u0433\\u0435\\u0440\\u043e\\u0439\",\"\\u041f\\u0435\\u0440\\u0435\\u0432\\u043e\\u0434\\u0447\\u0438\\u043a\",\"\\u041d\\u0438\\u043a\\u0442\\u043e\",\"\\u041e\\u0434\\u043d\\u0430\\u0436\\u0434\\u044b \\u0432\\u2026 \\u0413\\u043e\\u043b\\u043b\\u0438\\u0432\\u0443\\u0434\\u0435\",\"\\u041f\\u043e\\u0431\\u0435\\u0433 \\u0438\\u0437 \\u0428\\u043e\\u0443\\u0448\\u0435\\u043d\\u043a\\u0430\",\"\\u0414\\u044e\\u043d\\u0430\",\"\\u0410\\u0432\\u0430\\u0442\\u0430\\u0440\",\"\\u0414\\u043e\\u0432\\u043e\\u0434\",\"\\u0427\\u0435\\u043b\\u043e\\u0432\\u0435\\u043a-\\u043f\\u0430\\u0443\\u043a: \\u041d\\u0435\\u0442 \\u043f\\u0443\\u0442\\u0438 \\u0434\\u043e\\u043c\\u043e\\u0439\",\"\\u041f\\u0435\\u0440\\u0435\\u0432\\u043e\\u0434\\u0447\\u0438\\u043a\",\"\\u0410\\u0432\\u0430\\u0442\\u0430\\u0440\",\"\\u041a\\u043e\\u0440\\u043e\\u043b\\u044c \\u0438 \\u0428\\u0443\\u0442\",\"\\u0427\\u0435\\u043b\\u043e\\u0432\\u0435\\u043a-\\u043f\\u0430\\u0443\\u043a: \\u0427\\u0435\\u0440\\u0435\\u0437 \\u0432\\u0441\\u0435\\u043b\\u0435\\u043d\\u043d\\u044b\\u0435\",\"\\u0412\\u0435\\u0434\\u044c\\u043c\\u0430\\u043a\",\"\\u0425\\u043e\\u043b\\u043e\\u043f\",\"\\u041c\\u0441\\u0442\\u0438\\u0442\\u0435\\u043b\\u0438: \\u0424\\u0438\\u043d\\u0430\\u043b\",\"\\u0411\\u0430\\u0442\\u044f\",\"\\u041e\\u043f\\u0435\\u0440\\u0430\\u0446\\u0438\\u044f \\u00ab\\u0424\\u043e\\u0440\\u0442\\u0443\\u043d\\u0430\\u00bb: \\u0418\\u0441\\u043a\\u0443\\u0441\\u0441\\u0442\\u0432\\u043e \\u043f\\u043e\\u0431\\u0435\\u0436\\u0434\\u0430\\u0442\\u044c\",\"\\u0412\\u0435\\u0434\\u044c\\u043c\\u0430\\u043a\",\"\\u041f\\u0435\\u0440\\u0435\\u0432\\u043e\\u0434\\u0447\\u0438\\u043a\",\"\\u0410\\u043b\\u0438\\u0442\\u0430: \\u0411\\u043e\\u0435\\u0432\\u043e\\u0439 \\u0430\\u043d\\u0433\\u0435\\u043b\",\"\\u0414\\u043e\\u0432\\u043e\\u0434\",\"\\u0414\\u043e\\u0432\\u043e\\u0434\",\"\\u0414\\u0436\\u043e\\u043d \\u0423\\u0438\\u043a 4\",\"\\u041f\\u0435\\u0440\\u0435\\u0432\\u043e\\u0434\\u0447\\u0438\\u043a\",\"\\u0423\\u044d\\u043d\\u0441\\u0434\\u044d\\u0439\",\"\\u0412\\u0435\\u0434\\u044c\\u043c\\u0430\\u043a\",\"\\u0410\\u0432\\u0430\\u0442\\u0430\\u0440\",\"\\u0412\\u0435\\u0434\\u044c\\u043c\\u0430\\u043a\",\"\\u041f\\u0435\\u0440\\u0435\\u0432\\u043e\\u0434\\u0447\\u0438\\u043a\",\"\\u0412\\u0435\\u0434\\u044c\\u043c\\u0430\\u043a\",\"\\u0415\\u0449\\u0435 \\u043f\\u043e \\u043e\\u0434\\u043d\\u043e\\u0439\",\"\\u041a\\u043e\\u0440\\u043e\\u043b\\u044c \\u0438 \\u0428\\u0443\\u0442\",\"\\u0410\\u0432\\u0430\\u0442\\u0430\\u0440\",\"\\u041e\\u043f\\u0435\\u0440\\u0430\\u0446\\u0438\\u044f \\u00ab\\u0424\\u043e\\u0440\\u0442\\u0443\\u043d\\u0430\\u00bb: \\u0418\\u0441\\u043a\\u0443\\u0441\\u0441\\u0442\\u0432\\u043e \\u043f\\u043e\\u0431\\u0435\\u0436\\u0434\\u0430\\u0442\\u044c\",\"\\u0427\\u0435\\u043b\\u043e\\u0432\\u0435\\u043a-\\u043f\\u0430\\u0443\\u043a: \\u0427\\u0435\\u0440\\u0435\\u0437 \\u0432\\u0441\\u0435\\u043b\\u0435\\u043d\\u043d\\u044b\\u0435\",\"\\u041f\\u0435\\u0440\\u0435\\u0432\\u043e\\u0434\\u0447\\u0438\\u043a\",\"\\u041f\\u0438\\u0449\\u0435\\u0431\\u043b\\u043e\\u043a\",\"\\u041f\\u0435\\u0440\\u0435\\u0432\\u043e\\u0434\\u0447\\u0438\\u043a\",\"\\u0417\\u0430\\u0441\\u043b\\u0430\\u043d\\u0435\\u0446 \\u0438\\u0437 \\u043a\\u043e\\u0441\\u043c\\u043e\\u0441\\u0430\",\"\\u0412\\u0435\\u0434\\u044c\\u043c\\u0430\\u043a\",\"\\u0414\\u0432\\u0430 \\u0445\\u043e\\u043b\\u043c\\u0430\",\"\\u041f\\u0438\\u0449\\u0435\\u0431\\u043b\\u043e\\u043a\",\"\\u041f\\u0435\\u0440\\u0435\\u0432\\u043e\\u0434\\u0447\\u0438\\u043a\",\"\\u0425\\u043e\\u043b\\u043e\\u043f\",\"\\u0422\\u0435\\u043c\\u043d\\u044b\\u0439 \\u0440\\u044b\\u0446\\u0430\\u0440\\u044c\",\"\\u0414\\u0436\\u043e\\u043d \\u0423\\u0438\\u043a 4\",\"\\u041a\\u043e\\u0440\\u043e\\u043b\\u044c \\u0438 \\u0428\\u0443\\u0442\",\"\\u0417\\u0435\\u043b\\u0435\\u043d\\u0430\\u044f \\u043c\\u0438\\u043b\\u044f\",\"\\u0414\\u0436\\u043e\\u043d \\u0423\\u0438\\u043a 4\",\"\\u0412\\u044b\\u0448\\u043a\\u0430\",\"\\u041a\\u043e\\u0440\\u043e\\u043b\\u044c \\u0438 \\u0428\\u0443\\u0442\",\"\\u041c\\u0430\\u0439\\u043e\\u0440 \\u0413\\u0440\\u043e\\u043c: \\u0427\\u0443\\u043c\\u043d\\u043e\\u0439 \\u0414\\u043e\\u043a\\u0442\\u043e\\u0440\",\"\\u0414\\u0436\\u0435\\u043d\\u0442\\u043b\\u044c\\u043c\\u0435\\u043d\\u044b\",\"\\u041f\\u0435\\u0440\\u0435\\u0432\\u043e\\u0434\\u0447\\u0438\\u043a\",\"\\u041d\\u0430\\u0447\\u0430\\u043b\\u043e\",\"\\u041a\\u043e\\u0440\\u043e\\u043b\\u044c \\u0438 \\u0428\\u0443\\u0442\",\"\\u0414\\u043e\\u0441\\u0442\\u0430\\u0442\\u044c \\u043d\\u043e\\u0436\\u0438\",\"\\u041f\\u0438\\u0449\\u0435\\u0431\\u043b\\u043e\\u043a\",\"\\u041b\\u0438\\u0433\\u0430 \\u0441\\u043f\\u0440\\u0430\\u0432\\u0435\\u0434\\u043b\\u0438\\u0432\\u043e\\u0441\\u0442\\u0438 \\u0417\\u0430\\u043a\\u0430 \\u0421\\u043d\\u0430\\u0439\\u0434\\u0435\\u0440\\u0430\",\"\\u0412\\u0441\\u0451 \\u0432\\u0435\\u0437\\u0434\\u0435 \\u0438 \\u0441\\u0440\\u0430\\u0437\\u0443\",\"\\u0427\\u0435\\u0440\\u043d\\u044b\\u0439 \\u044f\\u0449\\u0438\\u043a\",\"\\u0414\\u0436\\u043e\\u043d \\u0423\\u0438\\u043a 4\",\"\\u0414\\u0436\\u043e\\u043a\\u0435\\u0440\",\"\\u0412\\u0430\\u043c\\u043f\\u0438\\u0440\\u044b \\u0441\\u0440\\u0435\\u0434\\u043d\\u0435\\u0439 \\u043f\\u043e\\u043b\\u043e\\u0441\\u044b\",\"\\u041a\\u043e\\u0440\\u043e\\u043b\\u044c \\u0438 \\u0428\\u0443\\u0442\",\"\\u0414\\u0436\\u043e\\u043a\\u0435\\u0440\",\"\\u041a\\u043e\\u0440\\u043e\\u043b\\u044c \\u0438 \\u0428\\u0443\\u0442\",\"\\u041f\\u043e\\u0441\\u0442\\u0443\\u0447\\u0438\\u0441\\u044c \\u0432 \\u043c\\u043e\\u044e \\u0434\\u0432\\u0435\\u0440\\u044c\",\"\\u0411\\u0435\\u0441\\u043f\\u0440\\u0438\\u043d\\u0446\\u0438\\u043f\\u043d\\u044b\\u0435 \\u0432 \\u0434\\u0435\\u0440\\u0435\\u0432\\u043d\\u0435\",\"\\u0412\\u044b\\u0448\\u043a\\u0430\",\"\\u041a\\u043e\\u0440\\u043e\\u043b\\u044c \\u0438 \\u0428\\u0443\\u0442\",\"\\u041a\\u043e\\u0440\\u043e\\u043b\\u044c \\u0438 \\u0428\\u0443\\u0442\",\"\\u0414\\u043e\\u0441\\u0442\\u0430\\u0442\\u044c \\u043d\\u043e\\u0436\\u0438\",\"\\u0412\\u0441\\u0451 \\u0432\\u0435\\u0437\\u0434\\u0435 \\u0438 \\u0441\\u0440\\u0430\\u0437\\u0443\",\"\\u0422-34\",\"\\u0414\\u0436\\u043e\\u043d \\u0423\\u0438\\u043a 4\",\"\\u0418\\u0433\\u0440\\u0430 \\u043f\\u0440\\u0435\\u0441\\u0442\\u043e\\u043b\\u043e\\u0432\",\"\\u0414\\u043e\\u0441\\u0442\\u0430\\u0442\\u044c \\u043d\\u043e\\u0436\\u0438\",\"\\u0412\\u0441\\u0451 \\u0432\\u0435\\u0437\\u0434\\u0435 \\u0438 \\u0441\\u0440\\u0430\\u0437\\u0443\",\"\\u041f\\u043e\\u0441\\u0442\\u0443\\u0447\\u0438\\u0441\\u044c \\u0432 \\u043c\\u043e\\u044e \\u0434\\u0432\\u0435\\u0440\\u044c\",\"\\u0427\\u0435\\u0431\\u0443\\u0440\\u0430\\u0448\\u043a\\u0430\",\"\\u041f\\u043e\\u0431\\u0435\\u0433 \\u0438\\u0437 \\u0428\\u043e\\u0443\\u0448\\u0435\\u043d\\u043a\\u0430\",\"\\u0414\\u0436\\u043e\\u043d \\u0423\\u0438\\u043a 4\",\"\\u041a\\u043e\\u0440\\u043e\\u043b\\u044c \\u0438 \\u0428\\u0443\\u0442\",\"\\u0414\\u043e\\u043c \\u0414\\u0440\\u0430\\u043a\\u043e\\u043d\\u0430\",\"\\u041a\\u043e\\u0440\\u043e\\u043b\\u044c \\u0438 \\u0428\\u0443\\u0442\",\"\\u0412\\u0441\\u0451 \\u0432\\u0435\\u0437\\u0434\\u0435 \\u0438 \\u0441\\u0440\\u0430\\u0437\\u0443\",\"\\u0427\\u0435\\u043b\\u043e\\u0432\\u0435\\u043a-\\u043f\\u0430\\u0443\\u043a: \\u0427\\u0435\\u0440\\u0435\\u0437 \\u0432\\u0441\\u0435\\u043b\\u0435\\u043d\\u043d\\u044b\\u0435\",\"\\u041e\\u0434\\u043d\\u0430\\u0436\\u0434\\u044b \\u0432\\u2026 \\u0413\\u043e\\u043b\\u043b\\u0438\\u0432\\u0443\\u0434\\u0435\",\"\\u0412\\u043b\\u0430\\u0441\\u0442\\u0435\\u043b\\u0438\\u043d \\u043a\\u043e\\u043b\\u0435\\u0446: \\u0412\\u043e\\u0437\\u0432\\u0440\\u0430\\u0449\\u0435\\u043d\\u0438\\u0435 \\u043a\\u043e\\u0440\\u043e\\u043b\\u044f\",\"\\u041f\\u0435\\u0440\\u0435\\u0432\\u043e\\u0434\\u0447\\u0438\\u043a\",\"\\u0427\\u0435\\u043b\\u043e\\u0432\\u0435\\u043a-\\u043f\\u0430\\u0443\\u043a: \\u0412\\u0434\\u0430\\u043b\\u0438 \\u043e\\u0442 \\u0434\\u043e\\u043c\\u0430\",\"\\u041a\\u043e\\u0440\\u043e\\u043b\\u044c \\u0438 \\u0428\\u0443\\u0442\",\"\\u041f\\u0435\\u0440\\u0435\\u0432\\u043e\\u0434\\u0447\\u0438\\u043a\",\"\\u041f\\u0435\\u0440\\u0435\\u0432\\u043e\\u0434\\u0447\\u0438\\u043a\",\"\\u0414\\u0436\\u043e\\u043d \\u0423\\u0438\\u043a 4\",\"\\u0414\\u0436\\u043e\\u043d \\u0423\\u0438\\u043a 4\",\"\\u0413\\u043d\\u0435\\u0432 \\u0447\\u0435\\u043b\\u043e\\u0432\\u0435\\u0447\\u0435\\u0441\\u043a\\u0438\\u0439\",\"\\u041a\\u0440\\u0438\\u043c\\u0438\\u043d\\u0430\\u043b\\u044c\\u043d\\u043e\\u0435 \\u0447\\u0442\\u0438\\u0432\\u043e\",\"\\u041c\\u043e\\u043d\\u0430\\u0441\\u0442\\u044b\\u0440\\u044c\",\"\\u041c\\u0430\\u0440\\u0441\\u0438\\u0430\\u043d\\u0438\\u043d\",\"\\u0411\\u043e\\u0439\\u0446\\u043e\\u0432\\u0441\\u043a\\u0438\\u0439 \\u043a\\u043b\\u0443\\u0431\",\"\\u0414\\u0436\\u043e\\u043d \\u0423\\u0438\\u043a 4\",\"\\u041f\\u044f\\u0442\\u044b\\u0439 \\u044d\\u043b\\u0435\\u043c\\u0435\\u043d\\u0442\",\"\\u041d\\u0430\\u0437\\u0430\\u0434 \\u0432 \\u0431\\u0443\\u0434\\u0443\\u0449\\u0435\\u0435 2\",\"\\u0427\\u0435\\u043b\\u043e\\u0432\\u0435\\u043a-\\u043f\\u0430\\u0443\\u043a: \\u0412\\u0434\\u0430\\u043b\\u0438 \\u043e\\u0442 \\u0434\\u043e\\u043c\\u0430\",\"\\u041a\\u043e\\u0440\\u043e\\u043b\\u044c \\u0438 \\u0428\\u0443\\u0442\",\"\\u0422\\u0440\\u0438\\u0433\\u0433\\u0435\\u0440\",\"\\u041e\\u0441\\u0442\\u0440\\u043e\\u0432 \\u043f\\u0440\\u043e\\u043a\\u043b\\u044f\\u0442\\u044b\\u0445\",\"\\u041a\\u043e\\u0440\\u043e\\u043b\\u044c \\u0438 \\u0428\\u0443\\u0442\",\"\\u041e\\u043f\\u0435\\u0440\\u0430\\u0446\\u0438\\u044f \\u00ab\\u0424\\u043e\\u0440\\u0442\\u0443\\u043d\\u0430\\u00bb: \\u0418\\u0441\\u043a\\u0443\\u0441\\u0441\\u0442\\u0432\\u043e \\u043f\\u043e\\u0431\\u0435\\u0436\\u0434\\u0430\\u0442\\u044c\",\"\\u0414\\u0436\\u043e\\u043d \\u0423\\u0438\\u043a 4\",\"\\u041f\\u0435\\u0440\\u0435\\u0432\\u043e\\u0434\\u0447\\u0438\\u043a\",\"\\u041a\\u043e\\u0440\\u043e\\u043b\\u044c \\u0438 \\u0428\\u0443\\u0442\",\"\\u0423\\u043a\\u0440\\u043e\\u0449\\u0435\\u043d\\u0438\\u0435 \\u0441\\u0442\\u0440\\u043e\\u043f\\u0442\\u0438\\u0432\\u043e\\u0433\\u043e\",\"\\u041f\\u0435\\u0440\\u0435\\u0432\\u043e\\u0434\\u0447\\u0438\\u043a\",\"\\u0414\\u0436\\u043e\\u043d \\u0423\\u0438\\u043a 4\",\"\\u041f\\u043e\\u0435\\u0437\\u0434 \\u0432 \\u041f\\u0443\\u0441\\u0430\\u043d\",\"1+1\",\"\\u0427\\u0435\\u043b\\u043e\\u0432\\u0435\\u043a-\\u043f\\u0430\\u0443\\u043a\",\"\\u0423\\u043d\\u0435\\u0441\\u0451\\u043d\\u043d\\u044b\\u0435 \\u043f\\u0440\\u0438\\u0437\\u0440\\u0430\\u043a\\u0430\\u043c\\u0438\",\"\\u0411\\u0435\\u0441\\u0441\\u0442\\u044b\\u0436\\u0438\\u0435\",\"\\u0410\\u043b\\u0438\\u0442\\u0430: \\u0411\\u043e\\u0435\\u0432\\u043e\\u0439 \\u0430\\u043d\\u0433\\u0435\\u043b\",\"\\u0414\\u0436\\u043e\\u043d \\u0423\\u0438\\u043a 4\",\"\\u0412\\u043b\\u0430\\u0441\\u0442\\u0435\\u043b\\u0438\\u043d \\u043a\\u043e\\u043b\\u0435\\u0446: \\u0414\\u0432\\u0435 \\u043a\\u0440\\u0435\\u043f\\u043e\\u0441\\u0442\\u0438\",\"\\u0414\\u0436\\u0435\\u043d\\u0442\\u043b\\u044c\\u043c\\u0435\\u043d\\u044b\",\"\\u0414\\u0436\\u043e\\u043d \\u0423\\u0438\\u043a 4\",\"\\u0414\\u0436\\u043e\\u043d \\u0423\\u0438\\u043a 4\",\"\\u041b\\u0443\\u043b\\u0443 \\u0438 \\u0411\\u0440\\u0438\\u0433\\u0433\\u0441\",\"\\u0427\\u0435\\u0431\\u0443\\u0440\\u0430\\u0448\\u043a\\u0430\",\"\\u0417\\u0435\\u043b\\u0435\\u043d\\u0430\\u044f \\u043a\\u043d\\u0438\\u0433\\u0430\",\"\\u041a\\u043e\\u0440\\u043e\\u043b\\u044c \\u0438 \\u0428\\u0443\\u0442\",\"\\u0423\\u044d\\u043d\\u0441\\u0434\\u044d\\u0439\",\"\\u0418\\u0433\\u0440\\u0430 \\u043f\\u0440\\u0435\\u0441\\u0442\\u043e\\u043b\\u043e\\u0432\",\"Ford \\u043f\\u0440\\u043e\\u0442\\u0438\\u0432 Ferrari\",\"\\u0427\\u0430\\u0440\\u043b\\u0438 \\u0438 \\u0448\\u043e\\u043a\\u043e\\u043b\\u0430\\u0434\\u043d\\u0430\\u044f \\u0444\\u0430\\u0431\\u0440\\u0438\\u043a\\u0430\",\"\\u0422\\u0435\\u043c\\u043d\\u044b\\u0439 \\u0440\\u044b\\u0446\\u0430\\u0440\\u044c\",\"\\u041f\\u0435\\u0440\\u0435\\u0432\\u043e\\u0434\\u0447\\u0438\\u043a\",\"\\u0422\\u0435\\u043c\\u043d\\u044b\\u0439 \\u0440\\u044b\\u0446\\u0430\\u0440\\u044c\",\"\\u0417\\u0435\\u043b\\u0435\\u043d\\u0430\\u044f \\u043a\\u043d\\u0438\\u0433\\u0430\",\"\\u0427\\u0435\\u043b\\u043e\\u0432\\u0435\\u043a-\\u043f\\u0430\\u0443\\u043a: \\u0427\\u0435\\u0440\\u0435\\u0437 \\u0432\\u0441\\u0435\\u043b\\u0435\\u043d\\u043d\\u044b\\u0435\",\"\\u0414\\u0432\\u0430 \\u0445\\u043e\\u043b\\u043c\\u0430\",\"\\u0414\\u0436\\u043e\\u043d \\u0423\\u0438\\u043a 4\",\"\\u0411\\u0435\\u0441\\u0441\\u0442\\u044b\\u0436\\u0438\\u0435\",\"\\u0412\\u043b\\u0430\\u0441\\u0442\\u0435\\u043b\\u0438\\u043d \\u043a\\u043e\\u043b\\u0435\\u0446: \\u0411\\u0440\\u0430\\u0442\\u0441\\u0442\\u0432\\u043e \\u041a\\u043e\\u043b\\u044c\\u0446\\u0430\",\"\\u0427\\u0435\\u0431\\u0443\\u0440\\u0430\\u0448\\u043a\\u0430\",\"\\u0414\\u0436\\u043e\\u043d \\u0423\\u0438\\u043a 4\",\"\\u0412\\u0435\\u0434\\u044c\\u043c\\u0430\\u043a\",\"\\u0412\\u0441\\u0451 \\u0432\\u0435\\u0437\\u0434\\u0435 \\u0438 \\u0441\\u0440\\u0430\\u0437\\u0443\",\"\\u0423\\u044d\\u043d\\u0441\\u0434\\u044d\\u0439\",\"\\u0412\\u044b\\u0448\\u043a\\u0430\",\"\\u041f\\u0438\\u0449\\u0435\\u0431\\u043b\\u043e\\u043a\",\"\\u0411\\u043e\\u043b\\u044c\\u0448\\u043e\\u0439 \\u043a\\u0443\\u0448\",\"\\u0424\\u043e\\u0440\\u0440\\u0435\\u0441\\u0442 \\u0413\\u0430\\u043c\\u043f\",\"\\u0423\\u044d\\u043d\\u0441\\u0434\\u044d\\u0439\",\"\\u0421\\u043f\\u0438\\u0441\\u043e\\u043a \\u0428\\u0438\\u043d\\u0434\\u043b\\u0435\\u0440\\u0430\",\"\\u041f\\u043e\\u0431\\u0435\\u0433 \\u0438\\u0437 \\u0428\\u043e\\u0443\\u0448\\u0435\\u043d\\u043a\\u0430\",\"\\u0413\\u043e\\u043b\\u043e\\u0432\\u043e\\u043b\\u043e\\u043c\\u043a\\u0430\",\"\\u0427\\u0435\\u0431\\u0443\\u0440\\u0430\\u0448\\u043a\\u0430\",\"\\u0417\\u0435\\u043b\\u0435\\u043d\\u0430\\u044f \\u043c\\u0438\\u043b\\u044f\",\"\\u0414\\u0435\\u0432\\u0447\\u0430\\u0442\\u0430\",\"\\u0423\\u044d\\u043d\\u0441\\u0434\\u044d\\u0439\",\"\\u0414\\u0436\\u043e\\u043d \\u0423\\u0438\\u043a 4\",\"\\u0427\\u0435\\u0431\\u0443\\u0440\\u0430\\u0448\\u043a\\u0430\",\"\\u0421\\u0432\\u0435\\u0440\\u0445\\u044a\\u0435\\u0441\\u0442\\u0435\\u0441\\u0442\\u0432\\u0435\\u043d\\u043d\\u043e\\u0435\",\"\\u0418\\u043b\\u043b\\u044e\\u0437\\u0438\\u044f \\u043e\\u0431\\u043c\\u0430\\u043d\\u0430\",\"\\u0412\\u0440\\u0435\\u043c\\u044f\",\"\\u0414\\u0436\\u043e\\u043d \\u0423\\u0438\\u043a 4\",\"\\u0414\\u043e\\u0441\\u0442\\u0430\\u0442\\u044c \\u043d\\u043e\\u0436\\u0438\",\"\\u0411\\u0435\\u0441\\u043f\\u0440\\u0438\\u043d\\u0446\\u0438\\u043f\\u043d\\u044b\\u0435\",\"\\u041a\\u0440\\u0443\\u044d\\u043b\\u043b\\u0430\",\"\\u041a\\u043e\\u0440\\u043e\\u043b\\u044c \\u0438 \\u0428\\u0443\\u0442\",\"\\u0413\\u043b\\u0430\\u0434\\u0438\\u0430\\u0442\\u043e\\u0440\",\"\\u041d\\u0430\\u0447\\u0430\\u043b\\u043e\",\"\\u0410\\u0434\\u0432\\u043e\\u043a\\u0430\\u0442 \\u0434\\u044c\\u044f\\u0432\\u043e\\u043b\\u0430\",\"\\u0414\\u0436\\u043e\\u043d \\u0423\\u0438\\u043a 4\",\"\\u041e\\u043f\\u0435\\u0440\\u0430\\u0446\\u0438\\u044f \\u00ab\\u0424\\u043e\\u0440\\u0442\\u0443\\u043d\\u0430\\u00bb: \\u0418\\u0441\\u043a\\u0443\\u0441\\u0441\\u0442\\u0432\\u043e \\u043f\\u043e\\u0431\\u0435\\u0436\\u0434\\u0430\\u0442\\u044c\",\"\\u041f\\u044f\\u0442\\u044b\\u0439 \\u044d\\u043b\\u0435\\u043c\\u0435\\u043d\\u0442\",\"\\u0412\\u044b\\u0448\\u043a\\u0430\",\"\\u0410\\u043b\\u0438\\u0442\\u0430: \\u0411\\u043e\\u0435\\u0432\\u043e\\u0439 \\u0430\\u043d\\u0433\\u0435\\u043b\",\"\\u0412\\u0441\\u0451 \\u0432\\u0435\\u0437\\u0434\\u0435 \\u0438 \\u0441\\u0440\\u0430\\u0437\\u0443\",\"\\u0427\\u0435\\u0431\\u0443\\u0440\\u0430\\u0448\\u043a\\u0430\",\"\\u041e\\u0431\\u043b\\u0430\\u0441\\u0442\\u0438 \\u0442\\u044c\\u043c\\u044b\",\"\\u0423\\u044d\\u043d\\u0441\\u0434\\u044d\\u0439\",\"\\u0420\\u0430\\u043f\\u0443\\u043d\\u0446\\u0435\\u043b\\u044c: \\u0417\\u0430\\u043f\\u0443\\u0442\\u0430\\u043d\\u043d\\u0430\\u044f \\u0438\\u0441\\u0442\\u043e\\u0440\\u0438\\u044f\",\"\\u0411\\u0435\\u0441\\u043f\\u0440\\u0438\\u043d\\u0446\\u0438\\u043f\\u043d\\u044b\\u0435 \\u0432 \\u0434\\u0435\\u0440\\u0435\\u0432\\u043d\\u0435\",\"\\u0414\\u0436\\u043e\\u043d \\u0423\\u0438\\u043a 4\",\"\\u0414\\u0436\\u043e\\u043d \\u0423\\u0438\\u043a 4\",\"\\u0412\\u043e \\u0432\\u0441\\u0435 \\u0442\\u044f\\u0436\\u043a\\u0438\\u0435\",\"\\u0414\\u0436\\u043e\\u043d \\u0423\\u0438\\u043a 4\",\"\\u0414\\u0435\\u0432\\u0447\\u0430\\u0442\\u0430\",\"\\u041a\\u043e\\u0440\\u043e\\u043b\\u044c \\u0438 \\u0428\\u0443\\u0442\",\"\\u041f\\u0438\\u0440\\u0430\\u0442\\u044b \\u041a\\u0430\\u0440\\u0438\\u0431\\u0441\\u043a\\u043e\\u0433\\u043e \\u043c\\u043e\\u0440\\u044f: \\u041f\\u0440\\u043e\\u043a\\u043b\\u044f\\u0442\\u0438\\u0435 \\u0427\\u0435\\u0440\\u043d\\u043e\\u0439 \\u0436\\u0435\\u043c\\u0447\\u0443\\u0436\\u0438\\u043d\\u044b\",\"\\u0414\\u0432\\u0430 \\u0445\\u043e\\u043b\\u043c\\u0430\",\"\\u0411\\u0440\\u0438\\u0433\\u0430\\u0434\\u0430\",\"\\u0410\\u0432\\u0430\\u0442\\u0430\\u0440\",\"\\u0417\\u0430\\u0441\\u043b\\u0430\\u043d\\u0435\\u0446 \\u0438\\u0437 \\u043a\\u043e\\u0441\\u043c\\u043e\\u0441\\u0430\",\"\\u041f\\u0430\\u0441\\u0441\\u0430\\u0436\\u0438\\u0440\\u044b\",\"\\u041a\\u043e\\u0440\\u043e\\u043b\\u044c \\u0438 \\u0428\\u0443\\u0442\",\"\\u041e\\u0434\\u0435\\u0440\\u0436\\u0438\\u043c\\u043e\\u0441\\u0442\\u044c\",\"\\u041a\\u043e\\u0440\\u043e\\u043b\\u044c \\u0438 \\u0428\\u0443\\u0442\",\"\\u041a\\u043e\\u0440\\u043e\\u043b\\u044c \\u0438 \\u0428\\u0443\\u0442\",\"\\u0411\\u0440\\u044e\\u0441 \\u0412\\u0441\\u0435\\u043c\\u043e\\u0433\\u0443\\u0449\\u0438\\u0439\",\"\\u0412\\u0430\\u043c\\u043f\\u0438\\u0440\\u044b \\u0441\\u0440\\u0435\\u0434\\u043d\\u0435\\u0439 \\u043f\\u043e\\u043b\\u043e\\u0441\\u044b\",\"\\u0422\\u0440\\u0438\\u0433\\u0433\\u0435\\u0440\",\"\\u041a\\u0440\\u0443\\u044d\\u043b\\u043b\\u0430\",\"\\u0417\\u0435\\u043b\\u0435\\u043d\\u0430\\u044f \\u043c\\u0438\\u043b\\u044f\",\"\\u0414\\u043e\\u043a\\u0442\\u043e\\u0440 \\u0421\\u0442\\u0440\\u044d\\u043d\\u0434\\u0436\",\"\\u0416\\u0435\\u043b\\u0435\\u0437\\u043d\\u044b\\u0439 \\u0447\\u0435\\u043b\\u043e\\u0432\\u0435\\u043a 3\",\"\\u041c\\u0441\\u0442\\u0438\\u0442\\u0435\\u043b\\u0438\",\"\\u0414\\u0436\\u0435\\u043d\\u0442\\u043b\\u044c\\u043c\\u0435\\u043d\\u044b \\u0443\\u0434\\u0430\\u0447\\u0438\",\"\\u0420\\u0430\\u0439\\u044f \\u0438 \\u043f\\u043e\\u0441\\u043b\\u0435\\u0434\\u043d\\u0438\\u0439 \\u0434\\u0440\\u0430\\u043a\\u043e\\u043d\",\"\\u041e\\u043f\\u0435\\u0440\\u0430\\u0446\\u0438\\u044f \\u00ab\\u0424\\u043e\\u0440\\u0442\\u0443\\u043d\\u0430\\u00bb: \\u0418\\u0441\\u043a\\u0443\\u0441\\u0441\\u0442\\u0432\\u043e \\u043f\\u043e\\u0431\\u0435\\u0436\\u0434\\u0430\\u0442\\u044c\",\"\\u0413\\u043b\\u0430\\u0434\\u0438\\u0430\\u0442\\u043e\\u0440\",\"\\u0422\\u0435\\u0440\\u043c\\u0438\\u043d\\u0430\\u043b\",\"\\u0421\\u0435\\u043c\\u044c\",\"\\u0418\\u0433\\u0440\\u0430 \\u043f\\u0440\\u0435\\u0441\\u0442\\u043e\\u043b\\u043e\\u0432\",\"\\u0424\\u043e\\u0440\\u0440\\u0435\\u0441\\u0442 \\u0413\\u0430\\u043c\\u043f\",\"\\u0410\\u0442\\u0430\\u043a\\u0430 \\u0442\\u0438\\u0442\\u0430\\u043d\\u043e\\u0432\",\"\\u0422\\u0438\\u0442\\u0430\\u043d\\u0438\\u043a\",\"\\u0412\\u043b\\u0430\\u0441\\u0442\\u0435\\u043b\\u0438\\u043d \\u043a\\u043e\\u043b\\u0435\\u0446: \\u0411\\u0440\\u0430\\u0442\\u0441\\u0442\\u0432\\u043e \\u041a\\u043e\\u043b\\u044c\\u0446\\u0430\",\"\\u0414\\u0435\\u043d\\u044c \\u0441\\u0443\\u0440\\u043a\\u0430\",\"\\u041e\\u0434\\u0435\\u0440\\u0436\\u0438\\u043c\\u043e\\u0441\\u0442\\u044c\",\"\\u0412\\u0441\\u0451 \\u0432\\u0435\\u0437\\u0434\\u0435 \\u0438 \\u0441\\u0440\\u0430\\u0437\\u0443\",\"\\u0412\\u0441\\u0451 \\u0432\\u0435\\u0437\\u0434\\u0435 \\u0438 \\u0441\\u0440\\u0430\\u0437\\u0443\",\"\\u041b\\u044e\\u0441\\u0438\",\"\\u041f\\u0430\\u0440\\u0430\\u0437\\u0438\\u0442\\u044b\",\"\\u0423\\u044d\\u043d\\u0441\\u0434\\u044d\\u0439\",\"\\u0414\\u0438\\u0432\\u0435\\u0440\\u0433\\u0435\\u043d\\u0442\",\"\\u041a\\u043e\\u0440\\u043e\\u043b\\u044c \\u0438 \\u0428\\u0443\\u0442\",\"\\u0412\\u0441\\u0451 \\u0432\\u0435\\u0437\\u0434\\u0435 \\u0438 \\u0441\\u0440\\u0430\\u0437\\u0443\",\"\\u041f\\u0435\\u0440\\u0435\\u0432\\u043e\\u0434\\u0447\\u0438\\u043a\",\"\\u0418\\u043b\\u043b\\u044e\\u0437\\u0438\\u044f \\u043e\\u0431\\u043c\\u0430\\u043d\\u0430\",\"\\u041f\\u0435\\u0440\\u0435\\u0432\\u043e\\u0434\\u0447\\u0438\\u043a\",\"\\u041a\\u043e\\u0440\\u043e\\u043b\\u044c \\u0438 \\u0428\\u0443\\u0442\",\"\\u0412\\u0441\\u0451 \\u0432\\u0435\\u0437\\u0434\\u0435 \\u0438 \\u0441\\u0440\\u0430\\u0437\\u0443\",\"\\u0414\\u0436\\u043e\\u043d \\u0423\\u0438\\u043a 4\",\"\\u041e\\u043f\\u0435\\u0440\\u0430\\u0446\\u0438\\u044f \\u00ab\\u0424\\u043e\\u0440\\u0442\\u0443\\u043d\\u0430\\u00bb: \\u0418\\u0441\\u043a\\u0443\\u0441\\u0441\\u0442\\u0432\\u043e \\u043f\\u043e\\u0431\\u0435\\u0436\\u0434\\u0430\\u0442\\u044c\",\"\\u0412\\u0430\\u043c\\u043f\\u0438\\u0440\\u044b \\u0441\\u0440\\u0435\\u0434\\u043d\\u0435\\u0439 \\u043f\\u043e\\u043b\\u043e\\u0441\\u044b\",\"\\u041a\\u043e\\u0440\\u043e\\u043b\\u044c \\u0438 \\u0428\\u0443\\u0442\",\"\\u0412\\u043e \\u0432\\u0441\\u0435 \\u0442\\u044f\\u0436\\u043a\\u0438\\u0435\",\"\\u041a\\u043e\\u0440\\u043e\\u043b\\u044c \\u0438 \\u0428\\u0443\\u0442\",\"\\u041b\\u0443\\u0447\\u0448\\u0435\\u0435 \\u043f\\u0440\\u0435\\u0434\\u043b\\u043e\\u0436\\u0435\\u043d\\u0438\\u0435\",\"\\u041f\\u043e\\u0441\\u0442\\u0443\\u0447\\u0438\\u0441\\u044c \\u0432 \\u043c\\u043e\\u044e \\u0434\\u0432\\u0435\\u0440\\u044c\",\"\\u0412\\u0441\\u0451 \\u0432\\u0435\\u0437\\u0434\\u0435 \\u0438 \\u0441\\u0440\\u0430\\u0437\\u0443\",\"\\u0412\\u0441\\u0451 \\u0432\\u0435\\u0437\\u0434\\u0435 \\u0438 \\u0441\\u0440\\u0430\\u0437\\u0443\",\"\\u041a\\u043e\\u0440\\u043e\\u043b\\u044c \\u0438 \\u0428\\u0443\\u0442\",\"\\u041c\\u0441\\u0442\\u0438\\u0442\\u0435\\u043b\\u0438: \\u0412\\u043e\\u0439\\u043d\\u0430 \\u0431\\u0435\\u0441\\u043a\\u043e\\u043d\\u0435\\u0447\\u043d\\u043e\\u0441\\u0442\\u0438\",\"\\u041d\\u0443\\u043b\\u0435\\u0432\\u043e\\u0439 \\u043f\\u0430\\u0446\\u0438\\u0435\\u043d\\u0442\",\"\\u0411\\u0435\\u0441\\u043f\\u0440\\u0438\\u043d\\u0446\\u0438\\u043f\\u043d\\u044b\\u0435 \\u0432 \\u0434\\u0435\\u0440\\u0435\\u0432\\u043d\\u0435\",\"\\u041a\\u043e\\u0440\\u043e\\u043b\\u044c \\u0438 \\u0428\\u0443\\u0442\",\"\\u0421\\u0442\\u0440\\u0430\\u0436\\u0438 \\u0413\\u0430\\u043b\\u0430\\u043a\\u0442\\u0438\\u043a\\u0438. \\u0427\\u0430\\u0441\\u0442\\u044c 2\",\"\\u0421\\u0442\\u0440\\u0430\\u0436\\u0438 \\u0413\\u0430\\u043b\\u0430\\u043a\\u0442\\u0438\\u043a\\u0438. \\u0427\\u0430\\u0441\\u0442\\u044c 2\",\"\\u041a\\u043e\\u0440\\u043e\\u043b\\u044c \\u0438 \\u0428\\u0443\\u0442\",\"\\u0414\\u0432\\u0430 \\u0445\\u043e\\u043b\\u043c\\u0430\",\"\\u0412\\u0435\\u043b\\u0438\\u043a\\u0438\\u0439 \\u0413\\u044d\\u0442\\u0441\\u0431\\u0438\",\"\\u0416\\u0435\\u043b\\u0435\\u0437\\u043d\\u044b\\u0439 \\u0447\\u0435\\u043b\\u043e\\u0432\\u0435\\u043a 3\",\"\\u041f\\u0435\\u0440\\u0435\\u0432\\u043e\\u0434\\u0447\\u0438\\u043a\",\"\\u0427\\u0435\\u0431\\u0443\\u0440\\u0430\\u0448\\u043a\\u0430\",\"\\u0421\\u0442\\u0440\\u0430\\u0436\\u0438 \\u0413\\u0430\\u043b\\u0430\\u043a\\u0442\\u0438\\u043a\\u0438\",\"\\u041a\\u043e\\u0440\\u043e\\u043b\\u044c \\u0438 \\u0428\\u0443\\u0442\",\"\\u041a\\u043e\\u0440\\u043e\\u043b\\u044c \\u0438 \\u0428\\u0443\\u0442\",\"\\u0414\\u043e\\u043c \\u0414\\u0440\\u0430\\u043a\\u043e\\u043d\\u0430\",\"\\u0416\\u0438\\u0432\\u0430\\u044f \\u0441\\u0442\\u0430\\u043b\\u044c\",\"\\u0414\\u0443\\u0440\\u0430\\u043a\",\"\\u0414\\u043e\\u043c \\u0414\\u0440\\u0430\\u043a\\u043e\\u043d\\u0430\",\"\\u0414\\u0436\\u043e\\u043d \\u0423\\u0438\\u043a 4\",\"\\u041f\\u0435\\u0440\\u0435\\u0432\\u043e\\u0434\\u0447\\u0438\\u043a\",\"\\u0412\\u0441\\u0451 \\u0432\\u0435\\u0437\\u0434\\u0435 \\u0438 \\u0441\\u0440\\u0430\\u0437\\u0443\",\"\\u0415\\u0449\\u0435 \\u043f\\u043e \\u043e\\u0434\\u043d\\u043e\\u0439\",\"\\u041b\\u0438\\u0433\\u0430 \\u0441\\u043f\\u0440\\u0430\\u0432\\u0435\\u0434\\u043b\\u0438\\u0432\\u043e\\u0441\\u0442\\u0438 \\u0417\\u0430\\u043a\\u0430 \\u0421\\u043d\\u0430\\u0439\\u0434\\u0435\\u0440\\u0430\",\"\\u041e\\u043f\\u0435\\u0440\\u0430\\u0446\\u0438\\u044f \\u00ab\\u0424\\u043e\\u0440\\u0442\\u0443\\u043d\\u0430\\u00bb: \\u0418\\u0441\\u043a\\u0443\\u0441\\u0441\\u0442\\u0432\\u043e \\u043f\\u043e\\u0431\\u0435\\u0436\\u0434\\u0430\\u0442\\u044c\",\"\\u041f\\u0435\\u0440\\u0435\\u0432\\u043e\\u0434\\u0447\\u0438\\u043a\",\"\\u041a\\u043e\\u0440\\u043e\\u043b\\u044c \\u0438 \\u0428\\u0443\\u0442\",\"\\u041a\\u0440\\u0430\\u0441\\u043e\\u0442\\u043a\\u0430\",\"\\u041b\\u0435\\u043e\\u043d\",\"\\u041a\\u043e\\u0440\\u043e\\u043b\\u044c \\u0438 \\u0428\\u0443\\u0442\",\"\\u0414\\u043e\\u043c \\u0414\\u0440\\u0430\\u043a\\u043e\\u043d\\u0430\",\"\\u0422\\u0440\\u0438\\u0433\\u0433\\u0435\\u0440\",\"\\u041f\\u043e\\u0431\\u0435\\u0433 \\u0438\\u0437 \\u0428\\u043e\\u0443\\u0448\\u0435\\u043d\\u043a\\u0430\",\"\\u041a\\u043e\\u0440\\u043e\\u043b\\u044c \\u0438 \\u0428\\u0443\\u0442\",\"\\u041a\\u043e\\u0440\\u043e\\u043b\\u044c \\u0438 \\u0428\\u0443\\u0442\",\"\\u0414\\u0436\\u043e\\u043d \\u0423\\u0438\\u043a 4\",\"\\u041a\\u043e\\u0440\\u043e\\u043b\\u044c \\u0438 \\u0428\\u0443\\u0442\",\"\\u0423\\u044d\\u043d\\u0441\\u0434\\u044d\\u0439\",\"\\u0412\\u0441\\u0451 \\u0432\\u0435\\u0437\\u0434\\u0435 \\u0438 \\u0441\\u0440\\u0430\\u0437\\u0443\",\"\\u041e\\u0441\\u0442\\u0440\\u044b\\u0435 \\u043a\\u043e\\u0437\\u044b\\u0440\\u044c\\u043a\\u0438\",\"\\u041a\\u043e\\u0440\\u043e\\u043b\\u044c \\u0438 \\u0428\\u0443\\u0442\",\"\\u041d\\u0443\\u043b\\u0435\\u0432\\u043e\\u0439 \\u043f\\u0430\\u0446\\u0438\\u0435\\u043d\\u0442\",\"\\u0418\\u043d\\u0442\\u0435\\u0440\\u0441\\u0442\\u0435\\u043b\\u043b\\u0430\\u0440\",\"\\u0422\\u0435\\u043e\\u0440\\u0438\\u044f \\u0431\\u043e\\u043b\\u044c\\u0448\\u043e\\u0433\\u043e \\u0432\\u0437\\u0440\\u044b\\u0432\\u0430\",\"\\u041a\\u043e\\u0440\\u043e\\u043b\\u044c \\u0438 \\u0428\\u0443\\u0442\",\"\\u0413\\u0440\\u0430\\u043d\\u044c \\u0431\\u0443\\u0434\\u0443\\u0449\\u0435\\u0433\\u043e\",\"\\u041e\\u043f\\u0435\\u0440\\u0430\\u0446\\u0438\\u044f \\u00ab\\u0424\\u043e\\u0440\\u0442\\u0443\\u043d\\u0430\\u00bb: \\u0418\\u0441\\u043a\\u0443\\u0441\\u0441\\u0442\\u0432\\u043e \\u043f\\u043e\\u0431\\u0435\\u0436\\u0434\\u0430\\u0442\\u044c\",\"\\u0427\\u0435\\u0431\\u0443\\u0440\\u0430\\u0448\\u043a\\u0430\",\"\\u041a\\u0440\\u0430\\u0441\\u043e\\u0442\\u043a\\u0430\",\"\\u0418\\u0433\\u0440\\u0430\",\"\\u041e\\u043d\\u043e\",\"\\u0414\\u0436\\u043e\\u043d \\u0423\\u0438\\u043a 4\",\"\\u041a\\u043e\\u0440\\u043e\\u043b\\u044c \\u0438 \\u0428\\u0443\\u0442\",\"\\u041a\\u043e\\u0440\\u043e\\u043b\\u044c \\u0438 \\u0428\\u0443\\u0442\",\"\\u0425\\u043e\\u043b\\u043e\\u0434\\u043d\\u043e\\u0435 \\u0441\\u0435\\u0440\\u0434\\u0446\\u0435\",\"\\u0412\\u0441\\u0451 \\u0432\\u0435\\u0437\\u0434\\u0435 \\u0438 \\u0441\\u0440\\u0430\\u0437\\u0443\",\"\\u041a\\u043e\\u0440\\u043e\\u043b\\u044c \\u0438 \\u0428\\u0443\\u0442\",\"\\u041a\\u043e\\u0440\\u043e\\u043b\\u044c \\u0438 \\u0428\\u0443\\u0442\",\"\\u041a\\u043e\\u0440\\u043e\\u043b\\u044c \\u0438 \\u0428\\u0443\\u0442\",\"\\u041a\\u043e\\u0440\\u043e\\u043b\\u044c \\u0438 \\u0428\\u0443\\u0442\",\"\\u041a\\u043e\\u0440\\u043e\\u043b\\u044c \\u0438 \\u0428\\u0443\\u0442\",\"\\u041a\\u043e\\u0440\\u043e\\u043b\\u044c \\u0438 \\u0428\\u0443\\u0442\",\"\\u0422\\u043e\\u043f\\u0438\",\"\\u041e\\u043f\\u0435\\u0440\\u0430\\u0446\\u0438\\u044f \\u00ab\\u0424\\u043e\\u0440\\u0442\\u0443\\u043d\\u0430\\u00bb: \\u0418\\u0441\\u043a\\u0443\\u0441\\u0441\\u0442\\u0432\\u043e \\u043f\\u043e\\u0431\\u0435\\u0436\\u0434\\u0430\\u0442\\u044c\",\"\\u0412\\u044b\\u0448\\u043a\\u0430\",\"\\u0418\\u0441\\u0447\\u0435\\u0437\\u043d\\u0443\\u0432\\u0448\\u0430\\u044f\",\"\\u0412\\u043e \\u0432\\u0441\\u0435 \\u0442\\u044f\\u0436\\u043a\\u0438\\u0435\",\"\\u041a\\u043e\\u0440\\u043e\\u043b\\u044c \\u0438 \\u0428\\u0443\\u0442\",\"\\u0412\\u043e\\u043b\\u043a \\u0441 \\u0423\\u043e\\u043b\\u043b-\\u0441\\u0442\\u0440\\u0438\\u0442\",\"\\u041b\\u0438\\u0433\\u0430 \\u0441\\u043f\\u0440\\u0430\\u0432\\u0435\\u0434\\u043b\\u0438\\u0432\\u043e\\u0441\\u0442\\u0438 \\u0417\\u0430\\u043a\\u0430 \\u0421\\u043d\\u0430\\u0439\\u0434\\u0435\\u0440\\u0430\",\"\\u041a\\u043e\\u0440\\u043e\\u043b\\u044c \\u0438 \\u0428\\u0443\\u0442\",\"\\u041a\\u043e\\u0440\\u043e\\u043b\\u044c \\u0438 \\u0428\\u0443\\u0442\",\"\\u041f\\u0435\\u0440\\u0432\\u043e\\u043c\\u0443 \\u0438\\u0433\\u0440\\u043e\\u043a\\u0443 \\u043f\\u0440\\u0438\\u0433\\u043e\\u0442\\u043e\\u0432\\u0438\\u0442\\u044c\\u0441\\u044f\",\"\\u041a\\u043e\\u0440\\u043e\\u043b\\u044c \\u0438 \\u0428\\u0443\\u0442\",\"\\u041a\\u043e\\u0440\\u043e\\u043b\\u044c \\u0438 \\u0428\\u0443\\u0442\",\"\\u041c\\u043e\\u043d\\u0430\\u0441\\u0442\\u044b\\u0440\\u044c\",\"\\u0414\\u0440\\u0430\\u0439\\u0432\",\"\\u0413\\u043d\\u0435\\u0432 \\u0447\\u0435\\u043b\\u043e\\u0432\\u0435\\u0447\\u0435\\u0441\\u043a\\u0438\\u0439\",\"\\u0414\\u0436\\u043e\\u043d \\u0423\\u0438\\u043a 4\",\"\\u041e\\u043f\\u0435\\u0440\\u0430\\u0446\\u0438\\u044f \\u00ab\\u0424\\u043e\\u0440\\u0442\\u0443\\u043d\\u0430\\u00bb: \\u0418\\u0441\\u043a\\u0443\\u0441\\u0441\\u0442\\u0432\\u043e \\u043f\\u043e\\u0431\\u0435\\u0436\\u0434\\u0430\\u0442\\u044c\",\"\\u0414\\u043e\\u0441\\u0442\\u0443\\u0447\\u0430\\u0442\\u044c\\u0441\\u044f \\u0434\\u043e \\u043d\\u0435\\u0431\\u0435\\u0441\",\"\\u0427\\u0435\\u0431\\u0443\\u0440\\u0430\\u0448\\u043a\\u0430\",\"\\u041e\\u0447\\u0435\\u043d\\u044c \\u0441\\u0442\\u0440\\u0430\\u043d\\u043d\\u044b\\u0435 \\u0434\\u0435\\u043b\\u0430\",\"1+1\",\"\\u0427\\u0435\\u0440\\u043d\\u044b\\u0439 \\u044f\\u0449\\u0438\\u043a\",\"\\u041e\\u043f\\u0435\\u0440\\u0430\\u0446\\u0438\\u044f \\u00ab\\u0424\\u043e\\u0440\\u0442\\u0443\\u043d\\u0430\\u00bb: \\u0418\\u0441\\u043a\\u0443\\u0441\\u0441\\u0442\\u0432\\u043e \\u043f\\u043e\\u0431\\u0435\\u0436\\u0434\\u0430\\u0442\\u044c\",\"\\u0412\\u0441\\u0451 \\u0432\\u0435\\u0437\\u0434\\u0435 \\u0438 \\u0441\\u0440\\u0430\\u0437\\u0443\",\"\\u0414\\u044c\\u044f\\u0432\\u043e\\u043b \\u043d\\u043e\\u0441\\u0438\\u0442 Prada\",\"\\u0412\\u0435\\u0447\\u043d\\u043e\\u0435 \\u0441\\u0438\\u044f\\u043d\\u0438\\u0435 \\u0447\\u0438\\u0441\\u0442\\u043e\\u0433\\u043e \\u0440\\u0430\\u0437\\u0443\\u043c\\u0430\",\"\\u041e\\u043f\\u0435\\u0440\\u0430\\u0446\\u0438\\u044f \\u00ab\\u0424\\u043e\\u0440\\u0442\\u0443\\u043d\\u0430\\u00bb: \\u0418\\u0441\\u043a\\u0443\\u0441\\u0441\\u0442\\u0432\\u043e \\u043f\\u043e\\u0431\\u0435\\u0436\\u0434\\u0430\\u0442\\u044c\",\"\\u0414\\u0436\\u043e\\u043d \\u0423\\u0438\\u043a 4\",\"\\u0414\\u0436\\u043e\\u043d \\u0423\\u0438\\u043a 4\",\"\\u0417\\u0430\\u043a\\u043e\\u043d\\u043e\\u043f\\u043e\\u0441\\u043b\\u0443\\u0448\\u043d\\u044b\\u0439 \\u0433\\u0440\\u0430\\u0436\\u0434\\u0430\\u043d\\u0438\\u043d\",\"\\u041a\\u043e\\u0440\\u043e\\u043b\\u044c \\u0438 \\u0428\\u0443\\u0442\",\"\\u041a\\u043e\\u0440\\u043e\\u043b\\u044c \\u0438 \\u0428\\u0443\\u0442\",\"\\u041a\\u043e\\u0440\\u043e\\u043b\\u044c \\u0438 \\u0428\\u0443\\u0442\",\"\\u0422\\u0430\\u0439\\u043d\\u0430 \\u041a\\u043e\\u043a\\u043e\",\"\\u041a\\u043e\\u0440\\u043e\\u043b\\u044c \\u0438 \\u0428\\u0443\\u0442\",\"\\u041a\\u043e\\u0440\\u043e\\u043b\\u044c \\u0438 \\u0428\\u0443\\u0442\",\"\\u0418\\u043d\\u0442\\u0435\\u0440\\u0441\\u0442\\u0435\\u043b\\u043b\\u0430\\u0440\",\"\\u0414\\u0436\\u043e\\u043d \\u0423\\u0438\\u043a 4\",\"\\u0414\\u0436\\u043e\\u043d \\u0423\\u0438\\u043a 4\",\"\\u0410\\u043a\\u0432\\u0430\\u043c\\u0435\\u043d\",\"\\u041b\\u0435\\u043e\\u043d\",\"\\u0427\\u0435\\u0431\\u0443\\u0440\\u0430\\u0448\\u043a\\u0430\",\"Ford \\u043f\\u0440\\u043e\\u0442\\u0438\\u0432 Ferrari\",\"\\u0412\\u0441\\u0451 \\u0432\\u0435\\u0437\\u0434\\u0435 \\u0438 \\u0441\\u0440\\u0430\\u0437\\u0443\",\"\\u0411\\u0435\\u0433\\u0443\\u0449\\u0438\\u0439 \\u043f\\u043e \\u043b\\u0435\\u0437\\u0432\\u0438\\u044e 2049\",\"\\u041d\\u0443\\u043b\\u0435\\u0432\\u043e\\u0439 \\u043f\\u0430\\u0446\\u0438\\u0435\\u043d\\u0442\",\"\\u041d\\u0443\\u043b\\u0435\\u0432\\u043e\\u0439 \\u043f\\u0430\\u0446\\u0438\\u0435\\u043d\\u0442\",\"\\u0414\\u0436\\u043e\\u043d \\u0423\\u0438\\u043a\",\"\\u0414\\u043e\\u043c \\u0414\\u0440\\u0430\\u043a\\u043e\\u043d\\u0430\",\"\\u041e\\u043f\\u0435\\u0440\\u0430\\u0446\\u0438\\u044f \\u00ab\\u0424\\u043e\\u0440\\u0442\\u0443\\u043d\\u0430\\u00bb: \\u0418\\u0441\\u043a\\u0443\\u0441\\u0441\\u0442\\u0432\\u043e \\u043f\\u043e\\u0431\\u0435\\u0436\\u0434\\u0430\\u0442\\u044c\",\"\\u0410\\u0432\\u0430\\u0442\\u0430\\u0440\",\"\\u041a\\u043e\\u0440\\u043e\\u043b\\u044c \\u0438 \\u0428\\u0443\\u0442\",\"\\u0414\\u0436\\u043e\\u043d \\u0423\\u0438\\u043a\",\"\\u041e\\u043f\\u0435\\u0440\\u0430\\u0446\\u0438\\u044f \\u00ab\\u0424\\u043e\\u0440\\u0442\\u0443\\u043d\\u0430\\u00bb: \\u0418\\u0441\\u043a\\u0443\\u0441\\u0441\\u0442\\u0432\\u043e \\u043f\\u043e\\u0431\\u0435\\u0436\\u0434\\u0430\\u0442\\u044c\",\"\\u041a\\u043e\\u0440\\u043e\\u043b\\u044c \\u0438 \\u0428\\u0443\\u0442\",\"\\u041a\\u043e\\u0440\\u043e\\u043b\\u044c \\u0438 \\u0428\\u0443\\u0442\",\"\\u041a\\u043e\\u0440\\u043e\\u043b\\u044c \\u0438 \\u0428\\u0443\\u0442\",\"\\u0414\\u0436\\u043e\\u043d \\u0423\\u0438\\u043a 4\",\"\\u041a\\u043e\\u0440\\u043e\\u043b\\u044c \\u0438 \\u0428\\u0443\\u0442\",\"\\u0412\\u0441\\u0451 \\u0432\\u0435\\u0437\\u0434\\u0435 \\u0438 \\u0441\\u0440\\u0430\\u0437\\u0443\",\"\\u041e\\u043f\\u0435\\u0440\\u0430\\u0446\\u0438\\u044f \\u00ab\\u0424\\u043e\\u0440\\u0442\\u0443\\u043d\\u0430\\u00bb: \\u0418\\u0441\\u043a\\u0443\\u0441\\u0441\\u0442\\u0432\\u043e \\u043f\\u043e\\u0431\\u0435\\u0436\\u0434\\u0430\\u0442\\u044c\",\"\\u0414\\u0436\\u043e\\u043d \\u0423\\u0438\\u043a 4\",\"\\u0427\\u0435\\u0440\\u043d\\u043e\\u0431\\u044b\\u043b\\u044c\",\"\\u0423\\u044d\\u043d\\u0441\\u0434\\u044d\\u0439\",\"\\u0414\\u0436\\u0430\\u043d\\u0433\\u043e \\u043e\\u0441\\u0432\\u043e\\u0431\\u043e\\u0436\\u0434\\u0435\\u043d\\u043d\\u044b\\u0439\",\"\\u041e\\u0441\\u0442\\u0440\\u043e\\u0432 \\u043f\\u0440\\u043e\\u043a\\u043b\\u044f\\u0442\\u044b\\u0445\",\"\\u0425\\u043e\\u0434\\u044f\\u0447\\u0438\\u0435 \\u043c\\u0435\\u0440\\u0442\\u0432\\u0435\\u0446\\u044b\",\"\\u0413\\u0440\\u0430\\u0432\\u0438\\u0442\\u0438 \\u0424\\u043e\\u043b\\u0437\",\"\\u0412\\u043e \\u0432\\u0441\\u0435 \\u0442\\u044f\\u0436\\u043a\\u0438\\u0435\",\"\\u0414\\u0436\\u0435\\u043d\\u0442\\u043b\\u044c\\u043c\\u0435\\u043d\\u044b\",\"\\u0427\\u0435\\u0431\\u0443\\u0440\\u0430\\u0448\\u043a\\u0430\",\"\\u0412\\u0441\\u0451 \\u0432\\u0435\\u0437\\u0434\\u0435 \\u0438 \\u0441\\u0440\\u0430\\u0437\\u0443\",\"\\u0414\\u0436\\u043e\\u043d \\u0423\\u0438\\u043a 4\",\"\\u0427\\u0435\\u0440\\u043d\\u043e\\u0431\\u044b\\u043b\\u044c\",\"\\u041a\\u043e\\u0440\\u043e\\u043b\\u044c \\u0438 \\u0428\\u0443\\u0442\",\"\\u0414\\u0436\\u043e\\u043d \\u0423\\u0438\\u043a 4\",\"\\u041a\\u043e\\u0440\\u043e\\u043b\\u044c \\u0438 \\u0428\\u0443\\u0442\",\"\\u0414\\u0436\\u043e\\u043d \\u0423\\u0438\\u043a 4\",\"\\u0421\\u0432\\u0430\\u0442\\u044b\",\"\\u0423\\u044d\\u043d\\u0441\\u0434\\u044d\\u0439\",\"1+1\",\"\\u041a\\u043e\\u0440\\u043e\\u043b\\u044c \\u0438 \\u0428\\u0443\\u0442\",\"\\u041a\\u043e\\u0440\\u043e\\u043b\\u044c \\u0438 \\u0428\\u0443\\u0442\",\"\\u041e\\u043f\\u0435\\u0440\\u0430\\u0446\\u0438\\u044f \\u00ab\\u0424\\u043e\\u0440\\u0442\\u0443\\u043d\\u0430\\u00bb: \\u0418\\u0441\\u043a\\u0443\\u0441\\u0441\\u0442\\u0432\\u043e \\u043f\\u043e\\u0431\\u0435\\u0436\\u0434\\u0430\\u0442\\u044c\",\"\\u0414\\u0436\\u043e\\u043d \\u0423\\u0438\\u043a 4\",\"\\u041a\\u043e\\u0440\\u043e\\u043b\\u044c \\u0438 \\u0428\\u0443\\u0442\",\"\\u0414\\u0436\\u043e\\u043d \\u0423\\u0438\\u043a 4\",\"\\u0412\\u0430\\u043c\\u043f\\u0438\\u0440\\u044b \\u0441\\u0440\\u0435\\u0434\\u043d\\u0435\\u0439 \\u043f\\u043e\\u043b\\u043e\\u0441\\u044b\",\"\\u041a\\u043e\\u0440\\u043e\\u043b\\u044c \\u0438 \\u0428\\u0443\\u0442\",\"\\u0421\\u0432\\u0435\\u0440\\u0445\\u044a\\u0435\\u0441\\u0442\\u0435\\u0441\\u0442\\u0432\\u0435\\u043d\\u043d\\u043e\\u0435\",\"\\u041e\\u0441\\u0442\\u0440\\u044b\\u0435 \\u043a\\u043e\\u0437\\u044b\\u0440\\u044c\\u043a\\u0438\",\"\\u0414\\u0436\\u043e\\u043d \\u0423\\u0438\\u043a\",\"\\u0412\\u0441\\u0451 \\u0432\\u0435\\u0437\\u0434\\u0435 \\u0438 \\u0441\\u0440\\u0430\\u0437\\u0443\",\"\\u0428\\u0440\\u044d\\u043a 2\",\"\\u0427\\u0435\\u043b\\u043e\\u0432\\u0435\\u043a-\\u043f\\u0430\\u0443\\u043a: \\u0412\\u0434\\u0430\\u043b\\u0438 \\u043e\\u0442 \\u0434\\u043e\\u043c\\u0430\",\"\\u041a\\u043e\\u0440\\u043e\\u043b\\u044c \\u0438 \\u0428\\u0443\\u0442\",\"\\u0414\\u0436\\u043e\\u043d \\u0423\\u0438\\u043a 4\",\"\\u041a\\u043e\\u0440\\u043e\\u043b\\u044c \\u0438 \\u0428\\u0443\\u0442\",\"\\u041e\\u043f\\u0435\\u0440\\u0430\\u0446\\u0438\\u044f \\u00ab\\u0424\\u043e\\u0440\\u0442\\u0443\\u043d\\u0430\\u00bb: \\u0418\\u0441\\u043a\\u0443\\u0441\\u0441\\u0442\\u0432\\u043e \\u043f\\u043e\\u0431\\u0435\\u0436\\u0434\\u0430\\u0442\\u044c\",\"\\u0414\\u0436\\u043e\\u043d \\u0423\\u0438\\u043a 4\",\"\\u0414\\u0436\\u043e\\u043d \\u0423\\u0438\\u043a 4\",\"\\u0427\\u0435\\u0431\\u0443\\u0440\\u0430\\u0448\\u043a\\u0430\",\"\\u041a\\u043e\\u0440\\u043e\\u043b\\u044c \\u0438 \\u0428\\u0443\\u0442\",\"\\u041a\\u043e\\u0440\\u043e\\u043b\\u044c \\u0438 \\u0428\\u0443\\u0442\",\"\\u041e\\u0434\\u043d\\u0430\\u0436\\u0434\\u044b \\u0432\\u2026 \\u0413\\u043e\\u043b\\u043b\\u0438\\u0432\\u0443\\u0434\\u0435\",\"\\u041b\\u0438\\u0433\\u0430 \\u0441\\u043f\\u0440\\u0430\\u0432\\u0435\\u0434\\u043b\\u0438\\u0432\\u043e\\u0441\\u0442\\u0438 \\u0417\\u0430\\u043a\\u0430 \\u0421\\u043d\\u0430\\u0439\\u0434\\u0435\\u0440\\u0430\",\"\\u0418\\u0440\\u043e\\u043d\\u0438\\u044f \\u0441\\u0443\\u0434\\u044c\\u0431\\u044b, \\u0438\\u043b\\u0438 \\u0421 \\u043b\\u0435\\u0433\\u043a\\u0438\\u043c \\u043f\\u0430\\u0440\\u043e\\u043c!\",\"\\u041e\\u0434\\u0438\\u043d \\u0434\\u043e\\u043c\\u0430\",\"\\u0414\\u0436\\u043e\\u043d \\u0423\\u0438\\u043a 4\",\"\\u0412\\u0441\\u0451 \\u0432\\u0435\\u0437\\u0434\\u0435 \\u0438 \\u0441\\u0440\\u0430\\u0437\\u0443\",\"\\u0412\\u0410\\u041b\\u041b\\u00b7\\u0418\",\"\\u0412\\u0441\\u0451 \\u0432\\u0435\\u0437\\u0434\\u0435 \\u0438 \\u0441\\u0440\\u0430\\u0437\\u0443\",\"\\u0414\\u043e\\u0441\\u0442\\u0430\\u0442\\u044c \\u043d\\u043e\\u0436\\u0438\",\"\\u0414\\u0440\\u0430\\u0439\\u0432\",\"\\u0412\\u0441\\u0451 \\u0432\\u0435\\u0437\\u0434\\u0435 \\u0438 \\u0441\\u0440\\u0430\\u0437\\u0443\",\"\\u0412\\u0435\\u0434\\u044c\\u043c\\u0430\\u043a\",\"\\u0412\\u0435\\u043d\\u043e\\u043c\",\"\\u0413\\u043b\\u0430\\u0434\\u0438\\u0430\\u0442\\u043e\\u0440\",\"\\u041e\\u043f\\u0435\\u0440\\u0430\\u0446\\u0438\\u044f \\u00ab\\u0424\\u043e\\u0440\\u0442\\u0443\\u043d\\u0430\\u00bb: \\u0418\\u0441\\u043a\\u0443\\u0441\\u0441\\u0442\\u0432\\u043e \\u043f\\u043e\\u0431\\u0435\\u0436\\u0434\\u0430\\u0442\\u044c\",\"\\u0414\\u0436\\u043e\\u043d \\u0423\\u0438\\u043a 4\",\"\\u0414\\u0436\\u043e\\u043d \\u0423\\u0438\\u043a 4\",\"\\u041c\\u043e\\u0441\\u043a\\u0432\\u0430 \\u0441\\u043b\\u0435\\u0437\\u0430\\u043c \\u043d\\u0435 \\u0432\\u0435\\u0440\\u0438\\u0442\",\"\\u0412\\u044b\\u0448\\u043a\\u0430\",\"\\u0414\\u0436\\u043e\\u043d \\u0423\\u0438\\u043a 4\",\"\\u041a\\u043e\\u0440\\u043e\\u043b\\u044c \\u0438 \\u0428\\u0443\\u0442\",\"\\u0423\\u044d\\u043d\\u0441\\u0434\\u044d\\u0439\",\"\\u041a\\u043e\\u0440\\u043e\\u043b\\u044c \\u0438 \\u0428\\u0443\\u0442\",\"\\u0414\\u0436\\u043e\\u043d \\u0423\\u0438\\u043a 4\",\"\\u0427\\u0435\\u0431\\u0443\\u0440\\u0430\\u0448\\u043a\\u0430\",\"\\u0412\\u0440\\u0435\\u043c\\u044f\",\"\\u0414\\u043e\\u0441\\u0442\\u0430\\u0442\\u044c \\u043d\\u043e\\u0436\\u0438\",\"\\u0412\\u0441\\u0451 \\u0432\\u0435\\u0437\\u0434\\u0435 \\u0438 \\u0441\\u0440\\u0430\\u0437\\u0443\",\"\\u0414\\u0436\\u043e\\u043d \\u0423\\u0438\\u043a 4\",\"\\u041a\\u043e\\u0440\\u043e\\u043b\\u044c \\u0438 \\u0428\\u0443\\u0442\",\"\\u041a\\u043e\\u0440\\u043e\\u043b\\u044c \\u0438 \\u0428\\u0443\\u0442\",\"\\u0412\\u0441\\u0451 \\u0432\\u0435\\u0437\\u0434\\u0435 \\u0438 \\u0441\\u0440\\u0430\\u0437\\u0443\",\"\\u0423\\u043d\\u0435\\u0441\\u0451\\u043d\\u043d\\u044b\\u0435 \\u043f\\u0440\\u0438\\u0437\\u0440\\u0430\\u043a\\u0430\\u043c\\u0438\",\"\\u0414\\u0436\\u043e\\u043d \\u0423\\u0438\\u043a 4\",\"\\u0414\\u0436\\u043e\\u043d \\u0423\\u0438\\u043a 4\",\"\\u0414\\u0436\\u043e\\u043d \\u0423\\u0438\\u043a 4\",\"\\u0427\\u0435\\u0431\\u0443\\u0440\\u0430\\u0448\\u043a\\u0430\",\"\\u0412\\u0430\\u043c\\u043f\\u0438\\u0440\\u044b \\u0441\\u0440\\u0435\\u0434\\u043d\\u0435\\u0439 \\u043f\\u043e\\u043b\\u043e\\u0441\\u044b\",\"\\u0414\\u0436\\u043e\\u043d \\u0423\\u0438\\u043a 4\",\"\\u041c\\u043e\\u043d\\u0430\\u0441\\u0442\\u044b\\u0440\\u044c\",\"\\u041a\\u043e\\u0440\\u043e\\u043b\\u044c \\u0438 \\u0428\\u0443\\u0442\",\"\\u0412\\u0441\\u0451 \\u0432\\u0435\\u0437\\u0434\\u0435 \\u0438 \\u0441\\u0440\\u0430\\u0437\\u0443\",\"\\u0410\\u0432\\u0430\\u0442\\u0430\\u0440\",\"\\u0425\\u043e\\u043b\\u043e\\u043f\",\"\\u0410\\u0432\\u0430\\u0442\\u0430\\u0440\",\"\\u0427\\u0435\\u0431\\u0443\\u0440\\u0430\\u0448\\u043a\\u0430\",\"\\u0418\\u0441\\u0447\\u0435\\u0437\\u043d\\u0443\\u0432\\u0448\\u0430\\u044f\",\"\\u0412\\u0441\\u0451 \\u0432\\u0435\\u0437\\u0434\\u0435 \\u0438 \\u0441\\u0440\\u0430\\u0437\\u0443\",\"\\u0411\\u0435\\u0441\\u043f\\u0440\\u0438\\u043d\\u0446\\u0438\\u043f\\u043d\\u044b\\u0435 \\u0432 \\u0434\\u0435\\u0440\\u0435\\u0432\\u043d\\u0435\",\"\\u041a\\u043e\\u0440\\u043e\\u043b\\u044c \\u0438 \\u0428\\u0443\\u0442\",\"\\u0412\\u0441\\u0451 \\u0432\\u0435\\u0437\\u0434\\u0435 \\u0438 \\u0441\\u0440\\u0430\\u0437\\u0443\",\"\\u041a\\u043e\\u0440\\u043e\\u043b\\u044c \\u0438 \\u0428\\u0443\\u0442\",\"\\u0422\\u0440\\u0438\\u0433\\u0433\\u0435\\u0440\",\"\\u041a\\u043e\\u0440\\u043e\\u043b\\u044c \\u0438 \\u0428\\u0443\\u0442\",\"\\u041f\\u044f\\u0442\\u044b\\u0439 \\u044d\\u043b\\u0435\\u043c\\u0435\\u043d\\u0442\",\"\\u041a\\u043e\\u0440\\u043e\\u043b\\u044c \\u0438 \\u0428\\u0443\\u0442\",\"\\u0412\\u0441\\u0451 \\u0432\\u0435\\u0437\\u0434\\u0435 \\u0438 \\u0441\\u0440\\u0430\\u0437\\u0443\",\"\\u0411\\u0435\\u0441\\u0441\\u0442\\u044b\\u0436\\u0438\\u0435\",\"\\u0412\\u0441\\u0451 \\u0432\\u0435\\u0437\\u0434\\u0435 \\u0438 \\u0441\\u0440\\u0430\\u0437\\u0443\",\"\\u041a\\u043e\\u0440\\u043e\\u043b\\u044c \\u0438 \\u0428\\u0443\\u0442\",\"\\u041f\\u043e \\u0441\\u043e\\u043e\\u0431\\u0440\\u0430\\u0436\\u0435\\u043d\\u0438\\u044f\\u043c \\u0441\\u043e\\u0432\\u0435\\u0441\\u0442\\u0438\",\"\\u041e\\u043f\\u0435\\u0440\\u0430\\u0446\\u0438\\u044f \\u00ab\\u0424\\u043e\\u0440\\u0442\\u0443\\u043d\\u0430\\u00bb: \\u0418\\u0441\\u043a\\u0443\\u0441\\u0441\\u0442\\u0432\\u043e \\u043f\\u043e\\u0431\\u0435\\u0436\\u0434\\u0430\\u0442\\u044c\",\"\\u041e\\u0441\\u0442\\u0440\\u044b\\u0435 \\u043a\\u043e\\u0437\\u044b\\u0440\\u044c\\u043a\\u0438\",\"\\u0427\\u0435\\u0431\\u0443\\u0440\\u0430\\u0448\\u043a\\u0430\",\"\\u0422\\u0440\\u0438\\u0433\\u0433\\u0435\\u0440\",\"\\u0427\\u0435\\u0431\\u0443\\u0440\\u0430\\u0448\\u043a\\u0430\",\"\\u041e\\u043f\\u0435\\u0440\\u0430\\u0446\\u0438\\u044f \\u00ab\\u0424\\u043e\\u0440\\u0442\\u0443\\u043d\\u0430\\u00bb: \\u0418\\u0441\\u043a\\u0443\\u0441\\u0441\\u0442\\u0432\\u043e \\u043f\\u043e\\u0431\\u0435\\u0436\\u0434\\u0430\\u0442\\u044c\",\"\\u0412\\u0441\\u0451 \\u0432\\u0435\\u0437\\u0434\\u0435 \\u0438 \\u0441\\u0440\\u0430\\u0437\\u0443\",\"\\u0422\\u043e\\u043f\\u0438\",\"\\u0414\\u0440\\u0430\\u0439\\u0432\",\"\\u041a\\u043e\\u0440\\u043e\\u043b\\u044c \\u0438 \\u0428\\u0443\\u0442\",\"\\u041a\\u043e\\u0440\\u043e\\u043b\\u044c \\u0438 \\u0428\\u0443\\u0442\",\"\\u0412\\u0441\\u0451 \\u0432\\u0435\\u0437\\u0434\\u0435 \\u0438 \\u0441\\u0440\\u0430\\u0437\\u0443\",\"\\u041a\\u0430\\u0440\\u0442\\u044b, \\u0434\\u0435\\u043d\\u044c\\u0433\\u0438, \\u0434\\u0432\\u0430 \\u0441\\u0442\\u0432\\u043e\\u043b\\u0430\",\"\\u0412\\u0430\\u043c\\u043f\\u0438\\u0440\\u044b \\u0441\\u0440\\u0435\\u0434\\u043d\\u0435\\u0439 \\u043f\\u043e\\u043b\\u043e\\u0441\\u044b\",\"\\u041a\\u043e\\u0440\\u043e\\u043b\\u044c \\u0438 \\u0428\\u0443\\u0442\",\"\\u0412\\u0441\\u0451 \\u0432\\u0435\\u0437\\u0434\\u0435 \\u0438 \\u0441\\u0440\\u0430\\u0437\\u0443\",\"\\u0417\\u0435\\u043b\\u0435\\u043d\\u0430\\u044f \\u043a\\u043d\\u0438\\u0433\\u0430\",\"\\u041e\\u043f\\u0435\\u0440\\u0430\\u0446\\u0438\\u044f \\u00ab\\u0424\\u043e\\u0440\\u0442\\u0443\\u043d\\u0430\\u00bb: \\u0418\\u0441\\u043a\\u0443\\u0441\\u0441\\u0442\\u0432\\u043e \\u043f\\u043e\\u0431\\u0435\\u0436\\u0434\\u0430\\u0442\\u044c\",\"\\u041a\\u043e\\u0440\\u043e\\u043b\\u044c \\u0438 \\u0428\\u0443\\u0442\",\"\\u0412\\u0441\\u0451 \\u0432\\u0435\\u0437\\u0434\\u0435 \\u0438 \\u0441\\u0440\\u0430\\u0437\\u0443\",\"\\u0410\\u0442\\u0430\\u043a\\u0430 \\u0442\\u0438\\u0442\\u0430\\u043d\\u043e\\u0432\",\"\\u0412\\u0441\\u0451 \\u0432\\u0435\\u0437\\u0434\\u0435 \\u0438 \\u0441\\u0440\\u0430\\u0437\\u0443\",\"\\u0414\\u044e\\u043d\\u0430\",\"\\u0412\\u0441\\u0451 \\u0432\\u0435\\u0437\\u0434\\u0435 \\u0438 \\u0441\\u0440\\u0430\\u0437\\u0443\",\"\\u0411\\u0440\\u0438\\u0433\\u0430\\u0434\\u0430\",\"\\u041a\\u043e\\u0440\\u043e\\u043b\\u044c \\u0438 \\u0428\\u0443\\u0442\",\"\\u041b\\u0443\\u0447\\u0448\\u0435\\u0435 \\u043f\\u0440\\u0435\\u0434\\u043b\\u043e\\u0436\\u0435\\u043d\\u0438\\u0435\",\"\\u0418\\u0441\\u0445\\u043e\\u0434\\u043d\\u044b\\u0439 \\u043a\\u043e\\u0434\",\"\\u0427\\u0435\\u0431\\u0443\\u0440\\u0430\\u0448\\u043a\\u0430\",\"\\u041b\\u0443\\u043b\\u0443 \\u0438 \\u0411\\u0440\\u0438\\u0433\\u0433\\u0441\",\"\\u0427\\u0430\\u0440\\u043b\\u0438 \\u0438 \\u0448\\u043e\\u043a\\u043e\\u043b\\u0430\\u0434\\u043d\\u0430\\u044f \\u0444\\u0430\\u0431\\u0440\\u0438\\u043a\\u0430\",\"\\u0427\\u0435\\u0431\\u0443\\u0440\\u0430\\u0448\\u043a\\u0430\",\"\\u0425\\u043e\\u0434\\u044f\\u0447\\u0438\\u0435 \\u043c\\u0435\\u0440\\u0442\\u0432\\u0435\\u0446\\u044b\",\"\\u041f\\u0430\\u0440\\u0430\\u0437\\u0438\\u0442\\u044b\",\"\\u041f\\u043e\\u0441\\u0442\\u0443\\u0447\\u0438\\u0441\\u044c \\u0432 \\u043c\\u043e\\u044e \\u0434\\u0432\\u0435\\u0440\\u044c\",\"\\u041e\\u043f\\u0435\\u0440\\u0430\\u0446\\u0438\\u044f \\u00ab\\u0424\\u043e\\u0440\\u0442\\u0443\\u043d\\u0430\\u00bb: \\u0418\\u0441\\u043a\\u0443\\u0441\\u0441\\u0442\\u0432\\u043e \\u043f\\u043e\\u0431\\u0435\\u0436\\u0434\\u0430\\u0442\\u044c\",\"\\u0412\\u0441\\u0451 \\u0432\\u0435\\u0437\\u0434\\u0435 \\u0438 \\u0441\\u0440\\u0430\\u0437\\u0443\",\"\\u0412\\u0430\\u043c\\u043f\\u0438\\u0440\\u044b \\u0441\\u0440\\u0435\\u0434\\u043d\\u0435\\u0439 \\u043f\\u043e\\u043b\\u043e\\u0441\\u044b\",\"\\u041a\\u043e\\u0440\\u043e\\u043b\\u044c \\u0438 \\u0428\\u0443\\u0442\",\"\\u041a\\u043e\\u0440\\u043e\\u043b\\u044c \\u0438 \\u0428\\u0443\\u0442\",\"\\u0418\\u043d\\u0442\\u0435\\u0440\\u0441\\u0442\\u0435\\u043b\\u043b\\u0430\\u0440\",\"\\u041a\\u043e\\u0440\\u043e\\u043b\\u044c \\u0438 \\u0428\\u0443\\u0442\",\"\\u041a\\u043e\\u0440\\u043e\\u043b\\u044c \\u0438 \\u0428\\u0443\\u0442\",\"\\u041a\\u043e\\u0440\\u043e\\u043b\\u044c \\u0438 \\u0428\\u0443\\u0442\",\"\\u041f\\u043e\\u0441\\u0442\\u0443\\u0447\\u0438\\u0441\\u044c \\u0432 \\u043c\\u043e\\u044e \\u0434\\u0432\\u0435\\u0440\\u044c\",\"\\u041a\\u043e\\u0440\\u043f\\u043e\\u0440\\u0430\\u0446\\u0438\\u044f \\u043c\\u043e\\u043d\\u0441\\u0442\\u0440\\u043e\\u0432\",\"\\u0422\\u0430\\u0439\\u043d\\u0430 \\u041a\\u043e\\u043a\\u043e\",\"\\u041a\\u043e\\u0440\\u043e\\u043b\\u044c \\u0438 \\u0428\\u0443\\u0442\",\"\\u0412\\u0430\\u043c\\u043f\\u0438\\u0440\\u044b \\u0441\\u0440\\u0435\\u0434\\u043d\\u0435\\u0439 \\u043f\\u043e\\u043b\\u043e\\u0441\\u044b\",\"\\u0427\\u0435\\u0431\\u0443\\u0440\\u0430\\u0448\\u043a\\u0430\",\"\\u0415\\u0449\\u0435 \\u043f\\u043e \\u043e\\u0434\\u043d\\u043e\\u0439\",\"\\u0410\\u0442\\u0430\\u043a\\u0430 \\u0442\\u0438\\u0442\\u0430\\u043d\\u043e\\u0432\",\"\\u0423\\u044d\\u043d\\u0441\\u0434\\u044d\\u0439\",\"\\u0414\\u0440\\u0430\\u0439\\u0432\",\"\\u0410\\u043b\\u0438\\u0442\\u0430: \\u0411\\u043e\\u0435\\u0432\\u043e\\u0439 \\u0430\\u043d\\u0433\\u0435\\u043b\",\"\\u041b\\u0443\\u0447\\u0448\\u0435\\u0435 \\u043f\\u0440\\u0435\\u0434\\u043b\\u043e\\u0436\\u0435\\u043d\\u0438\\u0435\",\"\\u041e\\u0447\\u0435\\u043d\\u044c \\u0441\\u0442\\u0440\\u0430\\u043d\\u043d\\u044b\\u0435 \\u0434\\u0435\\u043b\\u0430\",\"\\u0425\\u043e\\u0434\\u044f\\u0447\\u0438\\u0435 \\u043c\\u0435\\u0440\\u0442\\u0432\\u0435\\u0446\\u044b\",\"\\u0411\\u0435\\u0441\\u043f\\u0440\\u0438\\u043d\\u0446\\u0438\\u043f\\u043d\\u044b\\u0435 \\u0432 \\u0434\\u0435\\u0440\\u0435\\u0432\\u043d\\u0435\",\"\\u041a\\u043e\\u0440\\u043e\\u043b\\u044c \\u0438 \\u0428\\u0443\\u0442\",\"\\u0427\\u0435\\u0431\\u0443\\u0440\\u0430\\u0448\\u043a\\u0430\",\"\\u041a\\u043e\\u0440\\u043e\\u043b\\u044c \\u0438 \\u0428\\u0443\\u0442\",\"\\u0410\\u0442\\u0430\\u043a\\u0430 \\u0442\\u0438\\u0442\\u0430\\u043d\\u043e\\u0432\",\"\\u0428\\u043e\\u0443 \\u0422\\u0440\\u0443\\u043c\\u0430\\u043d\\u0430\",\"\\u041a\\u043e\\u0440\\u043e\\u043b\\u044c \\u0438 \\u0428\\u0443\\u0442\",\"\\u041a\\u043e\\u0440\\u043e\\u043b\\u044c \\u0438 \\u0428\\u0443\\u0442\",\"\\u041a\\u043e\\u0440\\u043e\\u043b\\u044c \\u0438 \\u0428\\u0443\\u0442\",\"\\u041a\\u043e\\u0440\\u043e\\u043b\\u044c \\u0438 \\u0428\\u0443\\u0442\",\"\\u041a\\u043e\\u0440\\u043e\\u043b\\u044c \\u0438 \\u0428\\u0443\\u0442\",\"\\u041a\\u043e\\u0440\\u043e\\u043b\\u044c \\u0438 \\u0428\\u0443\\u0442\",\"\\u041a\\u043e\\u0440\\u043e\\u043b\\u044c \\u0438 \\u0428\\u0443\\u0442\",\"\\u041a\\u043e\\u0440\\u043e\\u043b\\u044c \\u0438 \\u0428\\u0443\\u0442\",\"\\u0414\\u043e\\u043c \\u0414\\u0440\\u0430\\u043a\\u043e\\u043d\\u0430\",\"\\u0414\\u043e\\u043c \\u0414\\u0440\\u0430\\u043a\\u043e\\u043d\\u0430\",\"\\u0412\\u0441\\u0451 \\u0432\\u0435\\u0437\\u0434\\u0435 \\u0438 \\u0441\\u0440\\u0430\\u0437\\u0443\",\"\\u041a\\u043e\\u0440\\u043e\\u043b\\u044c \\u0438 \\u0428\\u0443\\u0442\",\"\\u041f\\u043e \\u0441\\u043e\\u043e\\u0431\\u0440\\u0430\\u0436\\u0435\\u043d\\u0438\\u044f\\u043c \\u0441\\u043e\\u0432\\u0435\\u0441\\u0442\\u0438\",\"\\u0414\\u043e\\u0441\\u0442\\u0430\\u0442\\u044c \\u043d\\u043e\\u0436\\u0438\",\"\\u041a\\u043e\\u0440\\u043e\\u043b\\u044c \\u0438 \\u0428\\u0443\\u0442\",\"\\u041a\\u043e\\u0440\\u043e\\u043b\\u044c \\u0438 \\u0428\\u0443\\u0442\",\"\\u041a\\u043e\\u0440\\u043e\\u043b\\u044c \\u0438 \\u0428\\u0443\\u0442\",\"\\u041a\\u043e\\u0440\\u043e\\u043b\\u044c \\u0438 \\u0428\\u0443\\u0442\",\"\\u0414\\u0443\\u0440\\u0430\\u043a\",\"\\u0411\\u0435\\u0441\\u043f\\u0440\\u0438\\u043d\\u0446\\u0438\\u043f\\u043d\\u044b\\u0435\",\"\\u0411\\u0440\\u0438\\u0433\\u0430\\u0434\\u0430\",\"\\u041b\\u0438\\u0433\\u0430 \\u0441\\u043f\\u0440\\u0430\\u0432\\u0435\\u0434\\u043b\\u0438\\u0432\\u043e\\u0441\\u0442\\u0438 \\u0417\\u0430\\u043a\\u0430 \\u0421\\u043d\\u0430\\u0439\\u0434\\u0435\\u0440\\u0430\",\"\\u0425\\u043e\\u043b\\u043e\\u0434\\u043d\\u043e\\u0435 \\u0441\\u0435\\u0440\\u0434\\u0446\\u0435\",\"\\u0412\\u0441\\u0451 \\u0432\\u0435\\u0437\\u0434\\u0435 \\u0438 \\u0441\\u0440\\u0430\\u0437\\u0443\",\"\\u0428\\u043e\\u0443 \\u0422\\u0440\\u0443\\u043c\\u0430\\u043d\\u0430\",\"\\u0412\\u0432\\u0435\\u0440\\u0445\",\"\\u0420\\u0430\\u0439\\u044f \\u0438 \\u043f\\u043e\\u0441\\u043b\\u0435\\u0434\\u043d\\u0438\\u0439 \\u0434\\u0440\\u0430\\u043a\\u043e\\u043d\",\"\\u0412\\u0430\\u043c\\u043f\\u0438\\u0440\\u044b \\u0441\\u0440\\u0435\\u0434\\u043d\\u0435\\u0439 \\u043f\\u043e\\u043b\\u043e\\u0441\\u044b\",\"\\u0422\\u0440\\u0438\\u0433\\u0433\\u0435\\u0440\",\"\\u0421\\u0432\\u0435\\u0440\\u0445\\u044a\\u0435\\u0441\\u0442\\u0435\\u0441\\u0442\\u0432\\u0435\\u043d\\u043d\\u043e\\u0435\",\"\\u0412\\u0430\\u043c\\u043f\\u0438\\u0440\\u044b \\u0441\\u0440\\u0435\\u0434\\u043d\\u0435\\u0439 \\u043f\\u043e\\u043b\\u043e\\u0441\\u044b\",\"\\u0415\\u0449\\u0435 \\u043f\\u043e \\u043e\\u0434\\u043d\\u043e\\u0439\",\"\\u041f\\u043e \\u0441\\u043e\\u043e\\u0431\\u0440\\u0430\\u0436\\u0435\\u043d\\u0438\\u044f\\u043c \\u0441\\u043e\\u0432\\u0435\\u0441\\u0442\\u0438\",\"\\u0414\\u043e\\u043c \\u0414\\u0440\\u0430\\u043a\\u043e\\u043d\\u0430\",\"\\u041c\\u0441\\u0442\\u0438\\u0442\\u0435\\u043b\\u0438\",\"\\u0422\\u0435\\u043e\\u0440\\u0438\\u044f \\u0431\\u043e\\u043b\\u044c\\u0448\\u043e\\u0433\\u043e \\u0432\\u0437\\u0440\\u044b\\u0432\\u0430\",\"\\u041e\\u0441\\u0442\\u0440\\u043e\\u0432 \\u043f\\u0440\\u043e\\u043a\\u043b\\u044f\\u0442\\u044b\\u0445\",\"\\u041b\\u0435\\u043e\\u043d\",\"\\u041e\\u0434\\u0438\\u043d \\u0434\\u043e\\u043c\\u0430\",\"\\u0413\\u043e\\u043b\\u044f\\u043a\",\"\\u0411\\u0440\\u0430\\u0442\",\"\\u0428\\u0440\\u044d\\u043a\",\"\\u0413\\u0440\\u0430\\u0432\\u0438\\u0442\\u0438 \\u0424\\u043e\\u043b\\u0437\",\"\\u041c\\u0430\\u0436\\u043e\\u0440\",\"\\u0421\\u043f\\u0438\\u0441\\u043e\\u043a \\u0428\\u0438\\u043d\\u0434\\u043b\\u0435\\u0440\\u0430\",\"\\u041b\\u0443\\u043b\\u0443 \\u0438 \\u0411\\u0440\\u0438\\u0433\\u0433\\u0441\",\"\\u0422\\u0435\\u0440\\u043c\\u0438\\u043d\\u0430\\u0442\\u043e\\u0440 2: \\u0421\\u0443\\u0434\\u043d\\u044b\\u0439 \\u0434\\u0435\\u043d\\u044c\",\"\\u0423\\u044d\\u043d\\u0441\\u0434\\u044d\\u0439\",\"\\u0427\\u0435\\u0431\\u0443\\u0440\\u0430\\u0448\\u043a\\u0430\",\"\\u0410\\u0442\\u0430\\u043a\\u0430 \\u0442\\u0438\\u0442\\u0430\\u043d\\u043e\\u0432\",\"\\u041c\\u043e\\u043d\\u0430\\u0441\\u0442\\u044b\\u0440\\u044c\",\"\\u0411\\u0435\\u0441\\u0441\\u043b\\u0430\\u0432\\u043d\\u044b\\u0435 \\u0443\\u0431\\u043b\\u044e\\u0434\\u043a\\u0438\",\"\\u0427\\u0435\\u0431\\u0443\\u0440\\u0430\\u0448\\u043a\\u0430\",\"\\u0410\\u0432\\u0430\\u0442\\u0430\\u0440\",\"\\u0427\\u0435\\u0431\\u0443\\u0440\\u0430\\u0448\\u043a\\u0430\",\"\\u0413\\u043b\\u0430\\u0432\\u043d\\u044b\\u0439 \\u0433\\u0435\\u0440\\u043e\\u0439\",\"\\u041e\\u043f\\u0435\\u0440\\u0430\\u0446\\u0438\\u044f \\u00ab\\u0424\\u043e\\u0440\\u0442\\u0443\\u043d\\u0430\\u00bb: \\u0418\\u0441\\u043a\\u0443\\u0441\\u0441\\u0442\\u0432\\u043e \\u043f\\u043e\\u0431\\u0435\\u0436\\u0434\\u0430\\u0442\\u044c\",\"\\u041e\\u0441\\u0442\\u0440\\u043e\\u0432 \\u043f\\u0440\\u043e\\u043a\\u043b\\u044f\\u0442\\u044b\\u0445\",\"\\u0427\\u0435\\u043b\\u043e\\u0432\\u0435\\u043a-\\u043f\\u0430\\u0443\\u043a: \\u041d\\u0435\\u0442 \\u043f\\u0443\\u0442\\u0438 \\u0434\\u043e\\u043c\\u043e\\u0439\",\"\\u0427\\u0435\\u0431\\u0443\\u0440\\u0430\\u0448\\u043a\\u0430\",\"\\u0413\\u0440\\u0430\\u0432\\u0438\\u0442\\u0438 \\u0424\\u043e\\u043b\\u0437\",\"\\u0414\\u0435\\u043d\\u044c \\u0441\\u0443\\u0440\\u043a\\u0430\",\"\\u0427\\u0435\\u0431\\u0443\\u0440\\u0430\\u0448\\u043a\\u0430\",\"\\u0414\\u0440\\u0430\\u0439\\u0432\",\"\\u041a\\u0440\\u0430\\u0441\\u043e\\u0442\\u043a\\u0430\",\"\\u041a\\u043e\\u0440\\u043e\\u043b\\u044c \\u041b\\u0435\\u0432\",\"\\u041f\\u043e\\u0441\\u0442\\u0443\\u0447\\u0438\\u0441\\u044c \\u0432 \\u043c\\u043e\\u044e \\u0434\\u0432\\u0435\\u0440\\u044c\",\"\\u0412\\u0441\\u0451 \\u0432\\u0435\\u0437\\u0434\\u0435 \\u0438 \\u0441\\u0440\\u0430\\u0437\\u0443\",\"\\u0411\\u0435\\u0441\\u043f\\u0440\\u0438\\u043d\\u0446\\u0438\\u043f\\u043d\\u044b\\u0435\",\"\\u0414\\u043e\\u0441\\u0442\\u0430\\u0442\\u044c \\u043d\\u043e\\u0436\\u0438\",\"\\u0410\\u0434\\u0432\\u043e\\u043a\\u0430\\u0442 \\u0434\\u044c\\u044f\\u0432\\u043e\\u043b\\u0430\",\"\\u0412\\u0441\\u0451 \\u0432\\u0435\\u0437\\u0434\\u0435 \\u0438 \\u0441\\u0440\\u0430\\u0437\\u0443\",\"\\u0423\\u044d\\u043d\\u0441\\u0434\\u044d\\u0439\",\"\\u041c\\u043e\\u043d\\u0430\\u0441\\u0442\\u044b\\u0440\\u044c\",\"\\u0411\\u0440\\u0438\\u0433\\u0430\\u0434\\u0430\",\"\\u0427\\u0435\\u0431\\u0443\\u0440\\u0430\\u0448\\u043a\\u0430\",\"\\u0427\\u0435\\u0431\\u0443\\u0440\\u0430\\u0448\\u043a\\u0430\",\"\\u0418\\u0433\\u0440\\u0430 \\u043f\\u0440\\u0435\\u0441\\u0442\\u043e\\u043b\\u043e\\u0432\",\"\\u0411\\u0435\\u0433\\u0443\\u0449\\u0438\\u0439 \\u043f\\u043e \\u043b\\u0435\\u0437\\u0432\\u0438\\u044e 2049\",\"\\u0427\\u0435\\u0431\\u0443\\u0440\\u0430\\u0448\\u043a\\u0430\",\"\\u0427\\u0435\\u0431\\u0443\\u0440\\u0430\\u0448\\u043a\\u0430\",\"\\u0412\\u0430\\u043c\\u043f\\u0438\\u0440\\u044b \\u0441\\u0440\\u0435\\u0434\\u043d\\u0435\\u0439 \\u043f\\u043e\\u043b\\u043e\\u0441\\u044b\",\"\\u0417\\u0430\\u0441\\u043b\\u0430\\u043d\\u0435\\u0446 \\u0438\\u0437 \\u043a\\u043e\\u0441\\u043c\\u043e\\u0441\\u0430\",\"\\u0422\\u0435\\u043c\\u043d\\u044b\\u0439 \\u0440\\u044b\\u0446\\u0430\\u0440\\u044c: \\u0412\\u043e\\u0437\\u0440\\u043e\\u0436\\u0434\\u0435\\u043d\\u0438\\u0435 \\u043b\\u0435\\u0433\\u0435\\u043d\\u0434\\u044b\",\"\\u041e\\u043f\\u0435\\u0440\\u0430\\u0446\\u0438\\u044f \\u00ab\\u0424\\u043e\\u0440\\u0442\\u0443\\u043d\\u0430\\u00bb: \\u0418\\u0441\\u043a\\u0443\\u0441\\u0441\\u0442\\u0432\\u043e \\u043f\\u043e\\u0431\\u0435\\u0436\\u0434\\u0430\\u0442\\u044c\",\"\\u041e\\u043f\\u0435\\u0440\\u0430\\u0446\\u0438\\u044f \\u00ab\\u0424\\u043e\\u0440\\u0442\\u0443\\u043d\\u0430\\u00bb: \\u0418\\u0441\\u043a\\u0443\\u0441\\u0441\\u0442\\u0432\\u043e \\u043f\\u043e\\u0431\\u0435\\u0436\\u0434\\u0430\\u0442\\u044c\",\"\\u0412\\u0430\\u043c\\u043f\\u0438\\u0440\\u044b \\u0441\\u0440\\u0435\\u0434\\u043d\\u0435\\u0439 \\u043f\\u043e\\u043b\\u043e\\u0441\\u044b\",\"\\u041e\\u0434\\u0435\\u0440\\u0436\\u0438\\u043c\\u043e\\u0441\\u0442\\u044c\",\"\\u0410\\u0442\\u0430\\u043a\\u0430 \\u0442\\u0438\\u0442\\u0430\\u043d\\u043e\\u0432\",\"\\u0414\\u0432\\u0430 \\u0445\\u043e\\u043b\\u043c\\u0430\",\"\\u0421\\u0447\\u0430\\u0441\\u0442\\u043b\\u0438\\u0432\\u043e\\u0435 \\u0447\\u0438\\u0441\\u043b\\u043e \\u0421\\u043b\\u0435\\u0432\\u0438\\u043d\\u0430\",\"\\u0423\\u044d\\u043d\\u0441\\u0434\\u044d\\u0439\",\"\\u0427\\u0435\\u0431\\u0443\\u0440\\u0430\\u0448\\u043a\\u0430\",\"\\u0422\\u0435\\u043c\\u043d\\u044b\\u0439 \\u0440\\u044b\\u0446\\u0430\\u0440\\u044c\",\"\\u0412\\u0410\\u041b\\u041b\\u00b7\\u0418\",\"\\u041e\\u043f\\u0435\\u0440\\u0430\\u0446\\u0438\\u044f \\u00ab\\u0424\\u043e\\u0440\\u0442\\u0443\\u043d\\u0430\\u00bb: \\u0418\\u0441\\u043a\\u0443\\u0441\\u0441\\u0442\\u0432\\u043e \\u043f\\u043e\\u0431\\u0435\\u0436\\u0434\\u0430\\u0442\\u044c\",\"\\u0427\\u0435\\u0431\\u0443\\u0440\\u0430\\u0448\\u043a\\u0430\",\"\\u0427\\u0435\\u0431\\u0443\\u0440\\u0430\\u0448\\u043a\\u0430\",\"\\u0412\\u044b\\u0436\\u0438\\u0432\\u0448\\u0438\\u0439\",\"\\u0427\\u0435\\u0431\\u0443\\u0440\\u0430\\u0448\\u043a\\u0430\",\"\\u0427\\u0435\\u0431\\u0443\\u0440\\u0430\\u0448\\u043a\\u0430\",\"\\u0412\\u0430\\u043c\\u043f\\u0438\\u0440\\u044b \\u0441\\u0440\\u0435\\u0434\\u043d\\u0435\\u0439 \\u043f\\u043e\\u043b\\u043e\\u0441\\u044b\",\"\\u0414\\u0443\\u0440\\u0430\\u043a\",\"\\u0412\\u043e \\u0432\\u0441\\u0435 \\u0442\\u044f\\u0436\\u043a\\u0438\\u0435\",\"\\u0412\\u043b\\u0430\\u0441\\u0442\\u0435\\u043b\\u0438\\u043d \\u043a\\u043e\\u043b\\u0435\\u0446: \\u0411\\u0440\\u0430\\u0442\\u0441\\u0442\\u0432\\u043e \\u041a\\u043e\\u043b\\u044c\\u0446\\u0430\",\"\\u0414\\u0432\\u0430 \\u0445\\u043e\\u043b\\u043c\\u0430\",\"\\u0427\\u0435\\u0431\\u0443\\u0440\\u0430\\u0448\\u043a\\u0430\",\"\\u0427\\u0435\\u0431\\u0443\\u0440\\u0430\\u0448\\u043a\\u0430\",\"\\u0414\\u0436\\u043e\\u043a\\u0435\\u0440\",\"\\u0420\\u0430\\u0442\\u0430\\u0442\\u0443\\u0439\",\"\\u0417\\u0430\\u0441\\u043b\\u0430\\u043d\\u0435\\u0446 \\u0438\\u0437 \\u043a\\u043e\\u0441\\u043c\\u043e\\u0441\\u0430\",\"\\u0418\\u043d\\u0442\\u0435\\u0440\\u0441\\u0442\\u0435\\u043b\\u043b\\u0430\\u0440\",\"\\u041e\\u0434\\u0435\\u0440\\u0436\\u0438\\u043c\\u043e\\u0441\\u0442\\u044c\",\"\\u0417\\u0430\\u043a\\u043e\\u043d\\u043e\\u043f\\u043e\\u0441\\u043b\\u0443\\u0448\\u043d\\u044b\\u0439 \\u0433\\u0440\\u0430\\u0436\\u0434\\u0430\\u043d\\u0438\\u043d\",\"\\u0412\\u0441\\u0451 \\u0432\\u0435\\u0437\\u0434\\u0435 \\u0438 \\u0441\\u0440\\u0430\\u0437\\u0443\",\"\\u0423\\u044d\\u043d\\u0441\\u0434\\u044d\\u0439\",\"\\u041e\\u0447\\u0435\\u043d\\u044c \\u0441\\u0442\\u0440\\u0430\\u043d\\u043d\\u044b\\u0435 \\u0434\\u0435\\u043b\\u0430\",\"\\u041f\\u0438\\u0449\\u0435\\u0431\\u043b\\u043e\\u043a\",\"\\u0427\\u0435\\u0431\\u0443\\u0440\\u0430\\u0448\\u043a\\u0430\",\"\\u0411\\u0440\\u0430\\u0442\",\"\\u0427\\u0435\\u0431\\u0443\\u0440\\u0430\\u0448\\u043a\\u0430\",\"\\u0427\\u0435\\u0431\\u0443\\u0440\\u0430\\u0448\\u043a\\u0430\",\"\\u0417\\u0435\\u043b\\u0435\\u043d\\u0430\\u044f \\u043a\\u043d\\u0438\\u0433\\u0430\",\"\\u0422\\u0435\\u043c\\u043d\\u044b\\u0439 \\u0440\\u044b\\u0446\\u0430\\u0440\\u044c: \\u0412\\u043e\\u0437\\u0440\\u043e\\u0436\\u0434\\u0435\\u043d\\u0438\\u0435 \\u043b\\u0435\\u0433\\u0435\\u043d\\u0434\\u044b\",\"\\u0422\\u043e\\u043f\\u0438\",\"\\u0412\\u0430\\u043c\\u043f\\u0438\\u0440\\u044b \\u0441\\u0440\\u0435\\u0434\\u043d\\u0435\\u0439 \\u043f\\u043e\\u043b\\u043e\\u0441\\u044b\",\"\\u0427\\u0435\\u0440\\u043d\\u044b\\u0439 \\u044f\\u0449\\u0438\\u043a\",\"\\u0413\\u0430\\u0440\\u0440\\u0438 \\u041f\\u043e\\u0442\\u0442\\u0435\\u0440 \\u0438 \\u0414\\u0430\\u0440\\u044b \\u0421\\u043c\\u0435\\u0440\\u0442\\u0438: \\u0427\\u0430\\u0441\\u0442\\u044c II\",\"\\u0412\\u0441\\u0451 \\u0432\\u0435\\u0437\\u0434\\u0435 \\u0438 \\u0441\\u0440\\u0430\\u0437\\u0443\",\"\\u041e\\u043f\\u0435\\u0440\\u0430\\u0446\\u0438\\u044f \\u00ab\\u0424\\u043e\\u0440\\u0442\\u0443\\u043d\\u0430\\u00bb: \\u0418\\u0441\\u043a\\u0443\\u0441\\u0441\\u0442\\u0432\\u043e \\u043f\\u043e\\u0431\\u0435\\u0436\\u0434\\u0430\\u0442\\u044c\",\"\\u0427\\u0435\\u043b\\u043e\\u0432\\u0435\\u043a-\\u043f\\u0430\\u0443\\u043a\",\"\\u041c\\u0430\\u0436\\u043e\\u0440\",\"\\u0415\\u0449\\u0435 \\u043f\\u043e \\u043e\\u0434\\u043d\\u043e\\u0439\",\"\\u0418\\u043d\\u0442\\u0435\\u0440\\u0441\\u0442\\u0435\\u043b\\u043b\\u0430\\u0440\",\"\\u0414\\u044c\\u044f\\u0432\\u043e\\u043b \\u043d\\u043e\\u0441\\u0438\\u0442 Prada\",\"\\u0423\\u044d\\u043d\\u0441\\u0434\\u044d\\u0439\",\"\\u041e\\u043f\\u0435\\u0440\\u0430\\u0446\\u0438\\u044f \\u00ab\\u0424\\u043e\\u0440\\u0442\\u0443\\u043d\\u0430\\u00bb: \\u0418\\u0441\\u043a\\u0443\\u0441\\u0441\\u0442\\u0432\\u043e \\u043f\\u043e\\u0431\\u0435\\u0436\\u0434\\u0430\\u0442\\u044c\",\"\\u0425\\u043e\\u0434\\u044f\\u0447\\u0438\\u0439 \\u0437\\u0430\\u043c\\u043e\\u043a\",\"\\u0411\\u0440\\u044e\\u0441 \\u0412\\u0441\\u0435\\u043c\\u043e\\u0433\\u0443\\u0449\\u0438\\u0439\",\"\\u0422\\u0435\\u043c\\u043d\\u044b\\u0439 \\u0440\\u044b\\u0446\\u0430\\u0440\\u044c\",\"\\u0423\\u044d\\u043d\\u0441\\u0434\\u044d\\u0439\",\"\\u0425\\u043e\\u0434\\u044f\\u0447\\u0438\\u0435 \\u043c\\u0435\\u0440\\u0442\\u0432\\u0435\\u0446\\u044b\",\"\\u041e\\u0434\\u0438\\u043d \\u0434\\u043e\\u043c\\u0430\",\"\\u041c\\u043e\\u043d\\u0430\\u0441\\u0442\\u044b\\u0440\\u044c\",\"\\u0414\\u0432\\u0430 \\u0445\\u043e\\u043b\\u043c\\u0430\",\"\\u0422\\u0438\\u0442\\u0430\\u043d\\u0438\\u043a\",\"\\u0427\\u0435\\u0431\\u0443\\u0440\\u0430\\u0448\\u043a\\u0430\",\"\\u041f\\u0430\\u0440\\u0430\\u0437\\u0438\\u0442\\u044b\",\"\\u0412\\u0441\\u0451 \\u0432\\u0435\\u0437\\u0434\\u0435 \\u0438 \\u0441\\u0440\\u0430\\u0437\\u0443\",\"\\u0427\\u0435\\u0431\\u0443\\u0440\\u0430\\u0448\\u043a\\u0430\",\"\\u0424\\u043e\\u0440\\u0440\\u0435\\u0441\\u0442 \\u0413\\u0430\\u043c\\u043f\",\"\\u0417\\u0435\\u043b\\u0435\\u043d\\u0430\\u044f \\u043c\\u0438\\u043b\\u044f\",\"\\u0411\\u0435\\u0441\\u043f\\u0440\\u0438\\u043d\\u0446\\u0438\\u043f\\u043d\\u044b\\u0435\",\"\\u041e\\u043f\\u0435\\u0440\\u0430\\u0446\\u0438\\u044f \\u00ab\\u0424\\u043e\\u0440\\u0442\\u0443\\u043d\\u0430\\u00bb: \\u0418\\u0441\\u043a\\u0443\\u0441\\u0441\\u0442\\u0432\\u043e \\u043f\\u043e\\u0431\\u0435\\u0436\\u0434\\u0430\\u0442\\u044c\",\"\\u0420\\u0430\\u043f\\u0443\\u043d\\u0446\\u0435\\u043b\\u044c: \\u0417\\u0430\\u043f\\u0443\\u0442\\u0430\\u043d\\u043d\\u0430\\u044f \\u0438\\u0441\\u0442\\u043e\\u0440\\u0438\\u044f\",\"\\u0427\\u0435\\u0431\\u0443\\u0440\\u0430\\u0448\\u043a\\u0430\",\"\\u041e\\u043f\\u0435\\u0440\\u0430\\u0446\\u0438\\u044f \\u00ab\\u0424\\u043e\\u0440\\u0442\\u0443\\u043d\\u0430\\u00bb: \\u0418\\u0441\\u043a\\u0443\\u0441\\u0441\\u0442\\u0432\\u043e \\u043f\\u043e\\u0431\\u0435\\u0436\\u0434\\u0430\\u0442\\u044c\",\"\\u041c\\u0430\\u0436\\u043e\\u0440 \\u0432 \\u0421\\u043e\\u0447\\u0438\",\"\\u041d\\u0443\\u043b\\u0435\\u0432\\u043e\\u0439 \\u043f\\u0430\\u0446\\u0438\\u0435\\u043d\\u0442\",\"\\u0422\\u0430\\u0447\\u043a\\u0438\",\"\\u0413\\u043b\\u0430\\u0432\\u043d\\u044b\\u0439 \\u0433\\u0435\\u0440\\u043e\\u0439\",\"\\u0427\\u0435\\u0431\\u0443\\u0440\\u0430\\u0448\\u043a\\u0430\",\"\\u0423\\u044d\\u043d\\u0441\\u0434\\u044d\\u0439\",\"\\u041e\\u043f\\u0435\\u0440\\u0430\\u0446\\u0438\\u044f \\u00ab\\u0424\\u043e\\u0440\\u0442\\u0443\\u043d\\u0430\\u00bb: \\u0418\\u0441\\u043a\\u0443\\u0441\\u0441\\u0442\\u0432\\u043e \\u043f\\u043e\\u0431\\u0435\\u0436\\u0434\\u0430\\u0442\\u044c\",\"\\u0414\\u044e\\u043d\\u0430\",\"\\u0414\\u043e\\u043c \\u0414\\u0440\\u0430\\u043a\\u043e\\u043d\\u0430\",\"\\u0412\\u043e \\u0432\\u0441\\u0435 \\u0442\\u044f\\u0436\\u043a\\u0438\\u0435\",\"\\u0415\\u0449\\u0435 \\u043f\\u043e \\u043e\\u0434\\u043d\\u043e\\u0439\",\"\\u0423\\u044d\\u043d\\u0441\\u0434\\u044d\\u0439\",\"\\u0427\\u0435\\u0431\\u0443\\u0440\\u0430\\u0448\\u043a\\u0430\",\"\\u0427\\u0435\\u0431\\u0443\\u0440\\u0430\\u0448\\u043a\\u0430\",\"\\u041e\\u043f\\u0435\\u0440\\u0430\\u0446\\u0438\\u044f \\u00ab\\u0424\\u043e\\u0440\\u0442\\u0443\\u043d\\u0430\\u00bb: \\u0418\\u0441\\u043a\\u0443\\u0441\\u0441\\u0442\\u0432\\u043e \\u043f\\u043e\\u0431\\u0435\\u0436\\u0434\\u0430\\u0442\\u044c\",\"\\u041c\\u0430\\u0439\\u043e\\u0440 \\u0413\\u0440\\u043e\\u043c: \\u0427\\u0443\\u043c\\u043d\\u043e\\u0439 \\u0414\\u043e\\u043a\\u0442\\u043e\\u0440\",\"\\u041c\\u0430\\u0439\\u043e\\u0440 \\u0413\\u0440\\u043e\\u043c: \\u0427\\u0443\\u043c\\u043d\\u043e\\u0439 \\u0414\\u043e\\u043a\\u0442\\u043e\\u0440\",\"\\u0422\\u0435\\u0440\\u043c\\u0438\\u043d\\u0430\\u043b\",\"\\u0412\\u044b\\u0448\\u043a\\u0430\",\"\\u041e\\u043f\\u0435\\u0440\\u0430\\u0446\\u0438\\u044f \\u00ab\\u0424\\u043e\\u0440\\u0442\\u0443\\u043d\\u0430\\u00bb: \\u0418\\u0441\\u043a\\u0443\\u0441\\u0441\\u0442\\u0432\\u043e \\u043f\\u043e\\u0431\\u0435\\u0436\\u0434\\u0430\\u0442\\u044c\",\"\\u0412\\u044b\\u0448\\u043a\\u0430\",\"\\u041d\\u0443\\u043b\\u0435\\u0432\\u043e\\u0439 \\u043f\\u0430\\u0446\\u0438\\u0435\\u043d\\u0442\",\"\\u041f\\u043e \\u0441\\u043e\\u043e\\u0431\\u0440\\u0430\\u0436\\u0435\\u043d\\u0438\\u044f\\u043c \\u0441\\u043e\\u0432\\u0435\\u0441\\u0442\\u0438\",\"\\u041e\\u043f\\u0435\\u0440\\u0430\\u0446\\u0438\\u044f \\u00ab\\u0424\\u043e\\u0440\\u0442\\u0443\\u043d\\u0430\\u00bb: \\u0418\\u0441\\u043a\\u0443\\u0441\\u0441\\u0442\\u0432\\u043e \\u043f\\u043e\\u0431\\u0435\\u0436\\u0434\\u0430\\u0442\\u044c\",\"\\u0423\\u044d\\u043d\\u0441\\u0434\\u044d\\u0439\",\"\\u041c\\u0441\\u0442\\u0438\\u0442\\u0435\\u043b\\u0438\",\"\\u041c\\u043e\\u0430\\u043d\\u0430\",\"\\u041e\\u043f\\u0435\\u0440\\u0430\\u0446\\u0438\\u044f \\u00ab\\u0424\\u043e\\u0440\\u0442\\u0443\\u043d\\u0430\\u00bb: \\u0418\\u0441\\u043a\\u0443\\u0441\\u0441\\u0442\\u0432\\u043e \\u043f\\u043e\\u0431\\u0435\\u0436\\u0434\\u0430\\u0442\\u044c\",\"\\u041c\\u043e\\u043d\\u0430\\u0441\\u0442\\u044b\\u0440\\u044c\",\"\\u0423\\u044d\\u043d\\u0441\\u0434\\u044d\\u0439\",\"\\u041b\\u0443\\u0447\\u0448\\u0435\\u0435 \\u043f\\u0440\\u0435\\u0434\\u043b\\u043e\\u0436\\u0435\\u043d\\u0438\\u0435\",\"\\u0427\\u0435\\u0431\\u0443\\u0440\\u0430\\u0448\\u043a\\u0430\",\"\\u0412\\u0441\\u0451 \\u0432\\u0435\\u0437\\u0434\\u0435 \\u0438 \\u0441\\u0440\\u0430\\u0437\\u0443\",\"\\u042d\\u0444\\u0444\\u0435\\u043a\\u0442 \\u0431\\u0430\\u0431\\u043e\\u0447\\u043a\\u0438\",\"\\u041e\\u043f\\u0435\\u0440\\u0430\\u0446\\u0438\\u044f \\u00ab\\u0424\\u043e\\u0440\\u0442\\u0443\\u043d\\u0430\\u00bb: \\u0418\\u0441\\u043a\\u0443\\u0441\\u0441\\u0442\\u0432\\u043e \\u043f\\u043e\\u0431\\u0435\\u0436\\u0434\\u0430\\u0442\\u044c\",\"\\u0422\\u0440\\u0438\\u0433\\u0433\\u0435\\u0440\",\"\\u0427\\u0430\\u0440\\u043b\\u0438 \\u0438 \\u0448\\u043e\\u043a\\u043e\\u043b\\u0430\\u0434\\u043d\\u0430\\u044f \\u0444\\u0430\\u0431\\u0440\\u0438\\u043a\\u0430\",\"\\u041c\\u0430\\u0436\\u043e\\u0440\",\"\\u0422\\u0430\\u043a\\u0441\\u0438\",\"\\u041e\\u043f\\u0435\\u0440\\u0430\\u0446\\u0438\\u044f \\u00ab\\u0424\\u043e\\u0440\\u0442\\u0443\\u043d\\u0430\\u00bb: \\u0418\\u0441\\u043a\\u0443\\u0441\\u0441\\u0442\\u0432\\u043e \\u043f\\u043e\\u0431\\u0435\\u0436\\u0434\\u0430\\u0442\\u044c\",\"\\u041e\\u043f\\u0435\\u0440\\u0430\\u0446\\u0438\\u044f \\u00ab\\u0424\\u043e\\u0440\\u0442\\u0443\\u043d\\u0430\\u00bb: \\u0418\\u0441\\u043a\\u0443\\u0441\\u0441\\u0442\\u0432\\u043e \\u043f\\u043e\\u0431\\u0435\\u0436\\u0434\\u0430\\u0442\\u044c\",\"\\u0417\\u0435\\u043b\\u0435\\u043d\\u0430\\u044f \\u043a\\u043d\\u0438\\u0433\\u0430\",\"\\u0427\\u0435\\u043b\\u043e\\u0432\\u0435\\u043a-\\u043f\\u0430\\u0443\\u043a: \\u041d\\u0435\\u0442 \\u043f\\u0443\\u0442\\u0438 \\u0434\\u043e\\u043c\\u043e\\u0439\",\"\\u0411\\u0435\\u0441\\u043f\\u0440\\u0438\\u043d\\u0446\\u0438\\u043f\\u043d\\u044b\\u0435\",\"\\u0412\\u0430\\u0440\\u043a\\u0440\\u0430\\u0444\\u0442\",\"\\u0423\\u044d\\u043d\\u0441\\u0434\\u044d\\u0439\",\"\\u041e\\u043f\\u0435\\u0440\\u0430\\u0446\\u0438\\u044f \\u00ab\\u0424\\u043e\\u0440\\u0442\\u0443\\u043d\\u0430\\u00bb: \\u0418\\u0441\\u043a\\u0443\\u0441\\u0441\\u0442\\u0432\\u043e \\u043f\\u043e\\u0431\\u0435\\u0436\\u0434\\u0430\\u0442\\u044c\",\"\\u041c\\u043e\\u043d\\u0430\\u0441\\u0442\\u044b\\u0440\\u044c\",\"\\u0427\\u0435\\u0431\\u0443\\u0440\\u0430\\u0448\\u043a\\u0430\",\"\\u041c\\u0430\\u0436\\u043e\\u0440 \\u0432 \\u0421\\u043e\\u0447\\u0438\",\"\\u041e\\u043f\\u0435\\u0440\\u0430\\u0446\\u0438\\u044f \\u00ab\\u0424\\u043e\\u0440\\u0442\\u0443\\u043d\\u0430\\u00bb: \\u0418\\u0441\\u043a\\u0443\\u0441\\u0441\\u0442\\u0432\\u043e \\u043f\\u043e\\u0431\\u0435\\u0436\\u0434\\u0430\\u0442\\u044c\",\"\\u0423\\u044d\\u043d\\u0441\\u0434\\u044d\\u0439\",\"\\u0412\\u0432\\u0435\\u0440\\u0445\",\"\\u0412\\u0435\\u043b\\u0438\\u043a\\u0438\\u0439 \\u0413\\u044d\\u0442\\u0441\\u0431\\u0438\",\"\\u0414\\u043e\\u0432\\u043e\\u0434\",\"\\u0414\\u043e\\u0441\\u0442\\u0430\\u0442\\u044c \\u043d\\u043e\\u0436\\u0438\",\"\\u0410\\u0432\\u0430\\u0442\\u0430\\u0440\",\"\\u0427\\u0435\\u0431\\u0443\\u0440\\u0430\\u0448\\u043a\\u0430\",\"\\u041e\\u043f\\u0435\\u0440\\u0430\\u0446\\u0438\\u044f \\u00ab\\u0424\\u043e\\u0440\\u0442\\u0443\\u043d\\u0430\\u00bb: \\u0418\\u0441\\u043a\\u0443\\u0441\\u0441\\u0442\\u0432\\u043e \\u043f\\u043e\\u0431\\u0435\\u0436\\u0434\\u0430\\u0442\\u044c\",\"\\u041c\\u043e\\u043d\\u0430\\u0441\\u0442\\u044b\\u0440\\u044c\",\"\\u0411\\u0430\\u0442\\u044f\",\"\\u0414\\u043e\\u043c \\u0414\\u0440\\u0430\\u043a\\u043e\\u043d\\u0430\",\"\\u041f\\u0438\\u0449\\u0435\\u0431\\u043b\\u043e\\u043a\",\"\\u0427\\u0435\\u0431\\u0443\\u0440\\u0430\\u0448\\u043a\\u0430\",\"\\u041e\\u043f\\u0435\\u0440\\u0430\\u0446\\u0438\\u044f \\u00ab\\u0424\\u043e\\u0440\\u0442\\u0443\\u043d\\u0430\\u00bb: \\u0418\\u0441\\u043a\\u0443\\u0441\\u0441\\u0442\\u0432\\u043e \\u043f\\u043e\\u0431\\u0435\\u0436\\u0434\\u0430\\u0442\\u044c\",\"\\u041e\\u043f\\u0435\\u0440\\u0430\\u0446\\u0438\\u044f \\u00ab\\u0424\\u043e\\u0440\\u0442\\u0443\\u043d\\u0430\\u00bb: \\u0418\\u0441\\u043a\\u0443\\u0441\\u0441\\u0442\\u0432\\u043e \\u043f\\u043e\\u0431\\u0435\\u0436\\u0434\\u0430\\u0442\\u044c\",\"\\u0412\\u0441\\u0451 \\u0432\\u0435\\u0437\\u0434\\u0435 \\u0438 \\u0441\\u0440\\u0430\\u0437\\u0443\",\"\\u0427\\u0430\\u0440\\u043b\\u0438 \\u0438 \\u0448\\u043e\\u043a\\u043e\\u043b\\u0430\\u0434\\u043d\\u0430\\u044f \\u0444\\u0430\\u0431\\u0440\\u0438\\u043a\\u0430\",\"\\u0415\\u0449\\u0435 \\u043f\\u043e \\u043e\\u0434\\u043d\\u043e\\u0439\",\"\\u041e\\u0442\\u0435\\u043b\\u044c \\u00ab\\u0413\\u0440\\u0430\\u043d\\u0434 \\u0411\\u0443\\u0434\\u0430\\u043f\\u0435\\u0448\\u0442\\u00bb\",\"\\u0418\\u0441\\u0447\\u0435\\u0437\\u043d\\u0443\\u0432\\u0448\\u0430\\u044f\",\"\\u0412\\u043e \\u0432\\u0441\\u0435 \\u0442\\u044f\\u0436\\u043a\\u0438\\u0435\",\"\\u0412\\u0441\\u0451 \\u0432\\u0435\\u0437\\u0434\\u0435 \\u0438 \\u0441\\u0440\\u0430\\u0437\\u0443\",\"\\u0423\\u043d\\u0435\\u0441\\u0451\\u043d\\u043d\\u044b\\u0435 \\u043f\\u0440\\u0438\\u0437\\u0440\\u0430\\u043a\\u0430\\u043c\\u0438\",\"\\u0418\\u0440\\u043e\\u043d\\u0438\\u044f \\u0441\\u0443\\u0434\\u044c\\u0431\\u044b, \\u0438\\u043b\\u0438 \\u0421 \\u043b\\u0435\\u0433\\u043a\\u0438\\u043c \\u043f\\u0430\\u0440\\u043e\\u043c!\",\"\\u0412\\u0441\\u0451 \\u0432\\u0435\\u0437\\u0434\\u0435 \\u0438 \\u0441\\u0440\\u0430\\u0437\\u0443\",\"\\u0412\\u0435\\u0434\\u044c\\u043c\\u0430\\u043a\",\"\\u041c\\u0430\\u0436\\u043e\\u0440 \\u0432 \\u0421\\u043e\\u0447\\u0438\",\"\\u0412\\u0441\\u0451 \\u0432\\u0435\\u0437\\u0434\\u0435 \\u0438 \\u0441\\u0440\\u0430\\u0437\\u0443\",\"\\u0414\\u0436\\u043e\\u043a\\u0435\\u0440\",\"\\u0421\\u0435\\u043c\\u044c \\u0436\\u0438\\u0437\\u043d\\u0435\\u0439\",\"\\u041c\\u043e\\u043d\\u0430\\u0441\\u0442\\u044b\\u0440\\u044c\",\"\\u0414\\u043e\\u0441\\u0442\\u0430\\u0442\\u044c \\u043d\\u043e\\u0436\\u0438\",\"\\u0423\\u044d\\u043d\\u0441\\u0434\\u044d\\u0439\",\"\\u0427\\u0435\\u0431\\u0443\\u0440\\u0430\\u0448\\u043a\\u0430\",\"\\u0413\\u043d\\u0435\\u0432 \\u0447\\u0435\\u043b\\u043e\\u0432\\u0435\\u0447\\u0435\\u0441\\u043a\\u0438\\u0439\",\"\\u0411\\u0435\\u0433\\u0443\\u0449\\u0438\\u0439 \\u043f\\u043e \\u043b\\u0435\\u0437\\u0432\\u0438\\u044e 2049\",\"\\u041c\\u0430\\u0439\\u043e\\u0440 \\u0413\\u0440\\u043e\\u043c: \\u0427\\u0443\\u043c\\u043d\\u043e\\u0439 \\u0414\\u043e\\u043a\\u0442\\u043e\\u0440\",\"\\u0427\\u0435\\u0431\\u0443\\u0440\\u0430\\u0448\\u043a\\u0430\",\"\\u041c\\u043e\\u043d\\u0430\\u0441\\u0442\\u044b\\u0440\\u044c\",\"\\u041c\\u0441\\u0442\\u0438\\u0442\\u0435\\u043b\\u0438: \\u0424\\u0438\\u043d\\u0430\\u043b\",\"\\u041c\\u0430\\u0436\\u043e\\u0440 \\u0432 \\u0421\\u043e\\u0447\\u0438\",\"\\u041b\\u0438\\u0433\\u0430 \\u0441\\u043f\\u0440\\u0430\\u0432\\u0435\\u0434\\u043b\\u0438\\u0432\\u043e\\u0441\\u0442\\u0438 \\u0417\\u0430\\u043a\\u0430 \\u0421\\u043d\\u0430\\u0439\\u0434\\u0435\\u0440\\u0430\",\"\\u0423\\u044d\\u043d\\u0441\\u0434\\u044d\\u0439\",\"\\u0414\\u044e\\u043d\\u0430\",\"\\u0423\\u044d\\u043d\\u0441\\u0434\\u044d\\u0439\",\"\\u0418\\u0433\\u0440\\u0430 \\u043f\\u0440\\u0435\\u0441\\u0442\\u043e\\u043b\\u043e\\u0432\",\"\\u0411\\u043e\\u043b\\u044c\\u0448\\u043e\\u0439 \\u043a\\u0443\\u0448\",\"\\u041d\\u0438\\u043a\\u0442\\u043e\",\"\\u0418\\u0440\\u043e\\u043d\\u0438\\u044f \\u0441\\u0443\\u0434\\u044c\\u0431\\u044b, \\u0438\\u043b\\u0438 \\u0421 \\u043b\\u0435\\u0433\\u043a\\u0438\\u043c \\u043f\\u0430\\u0440\\u043e\\u043c!\",\"\\u041c\\u0430\\u0439\\u043e\\u0440 \\u0413\\u0440\\u043e\\u043c: \\u0427\\u0443\\u043c\\u043d\\u043e\\u0439 \\u0414\\u043e\\u043a\\u0442\\u043e\\u0440\",\"\\u041c\\u0430\\u0439\\u043e\\u0440 \\u0413\\u0440\\u043e\\u043c: \\u0427\\u0443\\u043c\\u043d\\u043e\\u0439 \\u0414\\u043e\\u043a\\u0442\\u043e\\u0440\",\"\\u0423\\u044d\\u043d\\u0441\\u0434\\u044d\\u0439\",\"\\u0425\\u043e\\u0431\\u0431\\u0438\\u0442: \\u041d\\u0435\\u0436\\u0434\\u0430\\u043d\\u043d\\u043e\\u0435 \\u043f\\u0443\\u0442\\u0435\\u0448\\u0435\\u0441\\u0442\\u0432\\u0438\\u0435\",\"\\u0412\\u043e \\u0432\\u0441\\u0435 \\u0442\\u044f\\u0436\\u043a\\u0438\\u0435\",\"\\u0423\\u044d\\u043d\\u0441\\u0434\\u044d\\u0439\",\"\\u041f\\u043e\\u0435\\u0437\\u0434 \\u0432 \\u041f\\u0443\\u0441\\u0430\\u043d\",\"\\u0413\\u0430\\u0440\\u0440\\u0438 \\u041f\\u043e\\u0442\\u0442\\u0435\\u0440 \\u0438 \\u041a\\u0443\\u0431\\u043e\\u043a \\u043e\\u0433\\u043d\\u044f\",\"\\u0427\\u0435\\u0431\\u0443\\u0440\\u0430\\u0448\\u043a\\u0430\",\"\\u041b\\u044e\\u0441\\u0438\",\"\\u041d\\u0443\\u043b\\u0435\\u0432\\u043e\\u0439 \\u043f\\u0430\\u0446\\u0438\\u0435\\u043d\\u0442\",\"\\u0427\\u0435\\u0431\\u0443\\u0440\\u0430\\u0448\\u043a\\u0430\",\"\\u0421\\u0432\\u0435\\u0440\\u0445\\u044a\\u0435\\u0441\\u0442\\u0435\\u0441\\u0442\\u0432\\u0435\\u043d\\u043d\\u043e\\u0435\",\"\\u0418\\u0440\\u043e\\u043d\\u0438\\u044f \\u0441\\u0443\\u0434\\u044c\\u0431\\u044b, \\u0438\\u043b\\u0438 \\u0421 \\u043b\\u0435\\u0433\\u043a\\u0438\\u043c \\u043f\\u0430\\u0440\\u043e\\u043c!\",\"\\u041b\\u0435\\u043e\\u043d\",\"\\u0427\\u0430\\u0440\\u043b\\u0438 \\u0438 \\u0448\\u043e\\u043a\\u043e\\u043b\\u0430\\u0434\\u043d\\u0430\\u044f \\u0444\\u0430\\u0431\\u0440\\u0438\\u043a\\u0430\",\"\\u0414\\u0436\\u0435\\u043d\\u0442\\u043b\\u044c\\u043c\\u0435\\u043d\\u044b \\u0443\\u0434\\u0430\\u0447\\u0438\",\"\\u041b\\u044e\\u0431\\u043e\\u0432\\u044c \\u0438 \\u0433\\u043e\\u043b\\u0443\\u0431\\u0438\",\"\\u041e\\u0434\\u0438\\u043d \\u0434\\u043e\\u043c\\u0430 2: \\u0417\\u0430\\u0442\\u0435\\u0440\\u044f\\u043d\\u043d\\u044b\\u0439 \\u0432 \\u041d\\u044c\\u044e-\\u0419\\u043e\\u0440\\u043a\\u0435\",\"\\u041b\\u0443\\u043b\\u0443 \\u0438 \\u0411\\u0440\\u0438\\u0433\\u0433\\u0441\",\"\\u041e\\u0434\\u0438\\u043d \\u0434\\u043e\\u043c\\u0430\",\"\\u0427\\u0435\\u0431\\u0443\\u0440\\u0430\\u0448\\u043a\\u0430\",\"\\u0414\\u0443\\u0448\\u0430\",\"\\u0413\\u0430\\u0440\\u0440\\u0438 \\u041f\\u043e\\u0442\\u0442\\u0435\\u0440 \\u0438 \\u0444\\u0438\\u043b\\u043e\\u0441\\u043e\\u0444\\u0441\\u043a\\u0438\\u0439 \\u043a\\u0430\\u043c\\u0435\\u043d\\u044c\",\"\\u0423\\u044d\\u043d\\u0441\\u0434\\u044d\\u0439\",\"\\u0413\\u0430\\u0440\\u0440\\u0438 \\u041f\\u043e\\u0442\\u0442\\u0435\\u0440 \\u0438 \\u0444\\u0438\\u043b\\u043e\\u0441\\u043e\\u0444\\u0441\\u043a\\u0438\\u0439 \\u043a\\u0430\\u043c\\u0435\\u043d\\u044c\",\"\\u0422\\u0430\\u043a\\u0441\\u0438\",\"\\u0423\\u044d\\u043d\\u0441\\u0434\\u044d\\u0439\",\"\\u0414\\u0435\\u0432\\u0447\\u0430\\u0442\\u0430\",\"\\u0414\\u043e\\u043c \\u0414\\u0440\\u0430\\u043a\\u043e\\u043d\\u0430\",\"\\u041c\\u0430\\u0436\\u043e\\u0440 \\u0432 \\u0421\\u043e\\u0447\\u0438\",\"\\u0425\\u043e\\u0434\\u044f\\u0447\\u0438\\u0435 \\u043c\\u0435\\u0440\\u0442\\u0432\\u0435\\u0446\\u044b\",\"\\u0422\\u0440\\u0438 \\u0431\\u0438\\u043b\\u0431\\u043e\\u0440\\u0434\\u0430 \\u043d\\u0430 \\u0433\\u0440\\u0430\\u043d\\u0438\\u0446\\u0435 \\u042d\\u0431\\u0431\\u0438\\u043d\\u0433\\u0430, \\u041c\\u0438\\u0441\\u0441\\u0443\\u0440\\u0438\",\"\\u0412 \\u0431\\u043e\\u0439 \\u0438\\u0434\\u0443\\u0442 \\u043e\\u0434\\u043d\\u0438 \\u00ab\\u0441\\u0442\\u0430\\u0440\\u0438\\u043a\\u0438\\u00bb\",\"\\u0423\\u044d\\u043d\\u0441\\u0434\\u044d\\u0439\",\"\\u041b\\u0435\\u0434\\u043d\\u0438\\u043a\\u043e\\u0432\\u044b\\u0439 \\u043f\\u0435\\u0440\\u0438\\u043e\\u0434\",\"\\u0423\\u044d\\u043d\\u0441\\u0434\\u044d\\u0439\",\"\\u041c\\u0430\\u0436\\u043e\\u0440 \\u0432 \\u0421\\u043e\\u0447\\u0438\",\"\\u041f\\u0438\\u0449\\u0435\\u0431\\u043b\\u043e\\u043a\",\"\\u0418\\u0440\\u043e\\u043d\\u0438\\u044f \\u0441\\u0443\\u0434\\u044c\\u0431\\u044b, \\u0438\\u043b\\u0438 \\u0421 \\u043b\\u0435\\u0433\\u043a\\u0438\\u043c \\u043f\\u0430\\u0440\\u043e\\u043c!\",\"\\u041c\\u043e\\u043d\\u0430\\u0441\\u0442\\u044b\\u0440\\u044c\",\"\\u0423\\u044d\\u043d\\u0441\\u0434\\u044d\\u0439\",\"\\u0411\\u043e\\u0433\\u0435\\u043c\\u0441\\u043a\\u0430\\u044f \\u0440\\u0430\\u043f\\u0441\\u043e\\u0434\\u0438\\u044f\",\"\\u041f\\u043e\\u0439\\u043c\\u0430\\u0439 \\u043c\\u0435\\u043d\\u044f, \\u0435\\u0441\\u043b\\u0438 \\u0441\\u043c\\u043e\\u0436\\u0435\\u0448\\u044c\",\"\\u041c\\u0430\\u0436\\u043e\\u0440 \\u0432 \\u0421\\u043e\\u0447\\u0438\",\"\\u0412\\u043e \\u0432\\u0441\\u0435 \\u0442\\u044f\\u0436\\u043a\\u0438\\u0435\",\"\\u041c\\u0430\\u0436\\u043e\\u0440 \\u0432 \\u0421\\u043e\\u0447\\u0438\",\"\\u0412\\u0441\\u0451 \\u0432\\u0435\\u0437\\u0434\\u0435 \\u0438 \\u0441\\u0440\\u0430\\u0437\\u0443\",\"\\u0423\\u044d\\u043d\\u0441\\u0434\\u044d\\u0439\",\"\\u0422\\u0435\\u0440\\u043c\\u0438\\u043d\\u0430\\u043b\",\"\\u041c\\u043e\\u043d\\u0430\\u0441\\u0442\\u044b\\u0440\\u044c\",\"\\u041c\\u0430\\u0436\\u043e\\u0440 \\u0432 \\u0421\\u043e\\u0447\\u0438\",\"\\u041e\\u0434\\u0435\\u0440\\u0436\\u0438\\u043c\\u043e\\u0441\\u0442\\u044c\",\"\\u0412\\u0441\\u0451 \\u0432\\u0435\\u0437\\u0434\\u0435 \\u0438 \\u0441\\u0440\\u0430\\u0437\\u0443\",\"\\u0421\\u0435\\u043c\\u044c \\u0436\\u0438\\u0437\\u043d\\u0435\\u0439\",\"\\u041c\\u043e\\u043d\\u0430\\u0441\\u0442\\u044b\\u0440\\u044c\",\"\\u0423\\u044d\\u043d\\u0441\\u0434\\u044d\\u0439\",\"\\u0412\\u044b\\u0448\\u043a\\u0430\",\"\\u0410\\u0432\\u0430\\u0442\\u0430\\u0440\",\"\\u0412\\u043e\\u043b\\u043a \\u0441 \\u0423\\u043e\\u043b\\u043b-\\u0441\\u0442\\u0440\\u0438\\u0442\",\"\\u041c\\u0430\\u0436\\u043e\\u0440 \\u0432 \\u0421\\u043e\\u0447\\u0438\",\"\\u0423\\u044d\\u043d\\u0441\\u0434\\u044d\\u0439\",\"\\u041c\\u0430\\u0436\\u043e\\u0440 \\u0432 \\u0421\\u043e\\u0447\\u0438\",\"\\u0423\\u044d\\u043d\\u0441\\u0434\\u044d\\u0439\",\"\\u0412\\u0441\\u0451 \\u0432\\u0435\\u0437\\u0434\\u0435 \\u0438 \\u0441\\u0440\\u0430\\u0437\\u0443\",\"\\u0411\\u0435\\u0433\\u0443\\u0449\\u0438\\u0439 \\u043f\\u043e \\u043b\\u0435\\u0437\\u0432\\u0438\\u044e 2049\",\"\\u0414\\u0436\\u0435\\u043d\\u0442\\u043b\\u044c\\u043c\\u0435\\u043d\\u044b\",\"\\u041c\\u043e\\u043d\\u0430\\u0441\\u0442\\u044b\\u0440\\u044c\",\"\\u041c\\u043e\\u043d\\u0430\\u0441\\u0442\\u044b\\u0440\\u044c\",\"\\u041c\\u043e\\u043d\\u0430\\u0441\\u0442\\u044b\\u0440\\u044c\",\"1+1\",\"\\u041c\\u043e\\u043d\\u0430\\u0441\\u0442\\u044b\\u0440\\u044c\",\"\\u0414\\u043e\\u043c \\u0414\\u0440\\u0430\\u043a\\u043e\\u043d\\u0430\",\"\\u041c\\u043e\\u043d\\u0430\\u0441\\u0442\\u044b\\u0440\\u044c\",\"\\u0423\\u044d\\u043d\\u0441\\u0434\\u044d\\u0439\",\"\\u0423\\u044d\\u043d\\u0441\\u0434\\u044d\\u0439\",\"\\u0423\\u044d\\u043d\\u0441\\u0434\\u044d\\u0439\",\"\\u0423\\u044d\\u043d\\u0441\\u0434\\u044d\\u0439\",\"\\u041c\\u043e\\u043d\\u0430\\u0441\\u0442\\u044b\\u0440\\u044c\",\"\\u041e\\u0442\\u043f\\u0443\\u0441\\u043a \\u043f\\u043e \\u043e\\u0431\\u043c\\u0435\\u043d\\u0443\",\"\\u041c\\u043e\\u043d\\u0430\\u0441\\u0442\\u044b\\u0440\\u044c\",\"\\u0414\\u043e\\u043c \\u0414\\u0440\\u0430\\u043a\\u043e\\u043d\\u0430\",\"\\u041e\\u0442\\u0440\\u044f\\u0434 \\u0441\\u0430\\u043c\\u043e\\u0443\\u0431\\u0438\\u0439\\u0446\",\"\\u0413\\u043d\\u0435\\u0432 \\u0447\\u0435\\u043b\\u043e\\u0432\\u0435\\u0447\\u0435\\u0441\\u043a\\u0438\\u0439\",\"\\u041c\\u043e\\u043d\\u0430\\u0441\\u0442\\u044b\\u0440\\u044c\",\"\\u041c\\u043e\\u043d\\u0430\\u0441\\u0442\\u044b\\u0440\\u044c\",\"\\u0411\\u0440\\u0430\\u0442 2\",\"\\u0422-34\",\"\\u041f\\u043e \\u0441\\u043e\\u043e\\u0431\\u0440\\u0430\\u0436\\u0435\\u043d\\u0438\\u044f\\u043c \\u0441\\u043e\\u0432\\u0435\\u0441\\u0442\\u0438\",\"\\u041e\\u0442\\u0435\\u043b\\u044c \\u00ab\\u0413\\u0440\\u0430\\u043d\\u0434 \\u0411\\u0443\\u0434\\u0430\\u043f\\u0435\\u0448\\u0442\\u00bb\",\"\\u0414\\u044e\\u043d\\u0430\",\"\\u0422\\u0435\\u043c\\u043d\\u044b\\u0439 \\u0440\\u044b\\u0446\\u0430\\u0440\\u044c\",\"\\u0423\\u044d\\u043d\\u0441\\u0434\\u044d\\u0439\",\"\\u0423\\u044d\\u043d\\u0441\\u0434\\u044d\\u0439\",\"\\u041f\\u0438\\u0449\\u0435\\u0431\\u043b\\u043e\\u043a\",\"\\u0423\\u044d\\u043d\\u0441\\u0434\\u044d\\u0439\",\"\\u041f\\u044f\\u0442\\u044b\\u0439 \\u044d\\u043b\\u0435\\u043c\\u0435\\u043d\\u0442\",\"\\u0423\\u044d\\u043d\\u0441\\u0434\\u044d\\u0439\",\"\\u041c\\u043e\\u0430\\u043d\\u0430\",\"\\u041e\\u0447\\u0435\\u043d\\u044c \\u0441\\u0442\\u0440\\u0430\\u043d\\u043d\\u044b\\u0435 \\u0434\\u0435\\u043b\\u0430\",\"\\u0411\\u0435\\u0441\\u043f\\u0440\\u0438\\u043d\\u0446\\u0438\\u043f\\u043d\\u044b\\u0435\",\"\\u0412\\u0430\\u043c\\u043f\\u0438\\u0440\\u044b \\u0441\\u0440\\u0435\\u0434\\u043d\\u0435\\u0439 \\u043f\\u043e\\u043b\\u043e\\u0441\\u044b\",\"\\u041a\\u0430\\u043a \\u043f\\u0440\\u0438\\u0440\\u0443\\u0447\\u0438\\u0442\\u044c \\u0434\\u0440\\u0430\\u043a\\u043e\\u043d\\u0430\",\"\\u041a\\u0440\\u0430\\u0441\\u043e\\u0442\\u043a\\u0430\",\"\\u0423\\u044d\\u043d\\u0441\\u0434\\u044d\\u0439\",\"\\u0410\\u0432\\u0430\\u0442\\u0430\\u0440\",\"\\u0423\\u044d\\u043d\\u0441\\u0434\\u044d\\u0439\",\"\\u0422-34\",\"\\u0423\\u044d\\u043d\\u0441\\u0434\\u044d\\u0439\",\"\\u0420\\u0438\\u043a \\u0438 \\u041c\\u043e\\u0440\\u0442\\u0438\",\"\\u0423\\u044d\\u043d\\u0441\\u0434\\u044d\\u0439\",\"\\u0423\\u044d\\u043d\\u0441\\u0434\\u044d\\u0439\",\"\\u0412\\u044b\\u0448\\u043a\\u0430\",\"\\u041b\\u0438\\u043d\\u043a\\u043e\\u043b\\u044c\\u043d \\u0434\\u043b\\u044f \\u0430\\u0434\\u0432\\u043e\\u043a\\u0430\\u0442\\u0430\",\"\\u0423\\u044d\\u043d\\u0441\\u0434\\u044d\\u0439\",\"\\u0413\\u043b\\u0430\\u0434\\u0438\\u0430\\u0442\\u043e\\u0440\",\"\\u041c\\u043e\\u043d\\u0430\\u0441\\u0442\\u044b\\u0440\\u044c\",\"\\u041f\\u0438\\u0449\\u0435\\u0431\\u043b\\u043e\\u043a\",\"\\u0412\\u044b\\u0448\\u043a\\u0430\",\"\\u0423\\u044d\\u043d\\u0441\\u0434\\u044d\\u0439\",\"\\u0423\\u044d\\u043d\\u0441\\u0434\\u044d\\u0439\",\"\\u0412\\u0441\\u0451 \\u0432\\u0435\\u0437\\u0434\\u0435 \\u0438 \\u0441\\u0440\\u0430\\u0437\\u0443\",\"\\u0423\\u044d\\u043d\\u0441\\u0434\\u044d\\u0439\",\"\\u0423\\u044d\\u043d\\u0441\\u0434\\u044d\\u0439\",\"\\u0423\\u044d\\u043d\\u0441\\u0434\\u044d\\u0439\",\"\\u0423\\u044d\\u043d\\u0441\\u0434\\u044d\\u0439\",\"\\u0421\\u0432\\u0430\\u0442\\u044b\",\"\\u0423\\u044d\\u043d\\u0441\\u0434\\u044d\\u0439\",\"\\u0428\\u0435\\u0440\\u043b\\u043e\\u043a\",\"\\u0423\\u044d\\u043d\\u0441\\u0434\\u044d\\u0439\",\"\\u0423\\u044d\\u043d\\u0441\\u0434\\u044d\\u0439\",\"\\u0423\\u044d\\u043d\\u0441\\u0434\\u044d\\u0439\",\"\\u0423\\u044d\\u043d\\u0441\\u0434\\u044d\\u0439\",\"\\u0414\\u043e\\u043c \\u0414\\u0440\\u0430\\u043a\\u043e\\u043d\\u0430\",\"\\u0423\\u044d\\u043d\\u0441\\u0434\\u044d\\u0439\",\"\\u0422\\u0430\\u043a\\u0441\\u0438\",\"\\u041b\\u0443\\u0447\\u0448\\u0435\\u0435 \\u043f\\u0440\\u0435\\u0434\\u043b\\u043e\\u0436\\u0435\\u043d\\u0438\\u0435\",\"\\u0423\\u044d\\u043d\\u0441\\u0434\\u044d\\u0439\",\"\\u0423\\u044d\\u043d\\u0441\\u0434\\u044d\\u0439\",\"\\u041a\\u0440\\u0438\\u043c\\u0438\\u043d\\u0430\\u043b\\u044c\\u043d\\u043e\\u0435 \\u0447\\u0442\\u0438\\u0432\\u043e\",\"\\u0414\\u0443\\u0440\\u0430\\u043a\",\"\\u0423\\u044d\\u043d\\u0441\\u0434\\u044d\\u0439\",\"\\u0425\\u043e\\u0434\\u044f\\u0447\\u0438\\u0435 \\u043c\\u0435\\u0440\\u0442\\u0432\\u0435\\u0446\\u044b\",\"\\u0423\\u044d\\u043d\\u0441\\u0434\\u044d\\u0439\",\"\\u0423\\u044d\\u043d\\u0441\\u0434\\u044d\\u0439\",\"\\u0423\\u044d\\u043d\\u0441\\u0434\\u044d\\u0439\",\"\\u0423\\u044d\\u043d\\u0441\\u0434\\u044d\\u0439\",\"\\u041c\\u0441\\u0442\\u0438\\u0442\\u0435\\u043b\\u0438: \\u042d\\u0440\\u0430 \\u0410\\u043b\\u044c\\u0442\\u0440\\u043e\\u043d\\u0430\",\"\\u0423\\u044d\\u043d\\u0441\\u0434\\u044d\\u0439\",\"\\u0411\\u0435\\u0433\\u0443\\u0449\\u0438\\u0439 \\u043f\\u043e \\u043b\\u0435\\u0437\\u0432\\u0438\\u044e 2049\",\"\\u0423\\u044d\\u043d\\u0441\\u0434\\u044d\\u0439\",\"\\u0411\\u043e\\u0433\\u0435\\u043c\\u0441\\u043a\\u0430\\u044f \\u0440\\u0430\\u043f\\u0441\\u043e\\u0434\\u0438\\u044f\",\"\\u0414\\u0443\\u0440\\u0430\\u043a\",\"\\u0412\\u0441\\u0451 \\u0432\\u0435\\u0437\\u0434\\u0435 \\u0438 \\u0441\\u0440\\u0430\\u0437\\u0443\",\"\\u0423\\u044d\\u043d\\u0441\\u0434\\u044d\\u0439\",\"\\u0412\\u0441\\u0451 \\u0432\\u0435\\u0437\\u0434\\u0435 \\u0438 \\u0441\\u0440\\u0430\\u0437\\u0443\",\"\\u0423\\u044d\\u043d\\u0441\\u0434\\u044d\\u0439\",\"\\u0423\\u044d\\u043d\\u0441\\u0434\\u044d\\u0439\",\"\\u0410\\u0432\\u0430\\u0442\\u0430\\u0440\",\"\\u041f\\u0430\\u0440\\u0430\\u0437\\u0438\\u0442\\u044b\",\"\\u0423\\u044d\\u043d\\u0441\\u0434\\u044d\\u0439\",\"\\u041c\\u0441\\u0442\\u0438\\u0442\\u0435\\u043b\\u0438\",\"\\u0423\\u044d\\u043d\\u0441\\u0434\\u044d\\u0439\",\"\\u041b\\u0438\\u0433\\u0430 \\u0441\\u043f\\u0440\\u0430\\u0432\\u0435\\u0434\\u043b\\u0438\\u0432\\u043e\\u0441\\u0442\\u0438 \\u0417\\u0430\\u043a\\u0430 \\u0421\\u043d\\u0430\\u0439\\u0434\\u0435\\u0440\\u0430\",\"\\u0411\\u0440\\u0430\\u0442\",\"\\u0412\\u043e\\u0439\\u043d\\u0430 \\u043c\\u0438\\u0440\\u043e\\u0432 Z\",\"\\u0411\\u0435\\u0441\\u0441\\u0442\\u044b\\u0436\\u0438\\u0435\",\"\\u0413\\u043d\\u0435\\u0432 \\u0447\\u0435\\u043b\\u043e\\u0432\\u0435\\u0447\\u0435\\u0441\\u043a\\u0438\\u0439\",\"\\u041c\\u043e\\u043d\\u0430\\u0441\\u0442\\u044b\\u0440\\u044c\",\"\\u0411\\u0440\\u0430\\u0442\",\"\\u0423\\u044d\\u043d\\u0441\\u0434\\u044d\\u0439\",\"\\u0423\\u044d\\u043d\\u0441\\u0434\\u044d\\u0439\",\"\\u0423\\u044d\\u043d\\u0441\\u0434\\u044d\\u0439\",\"\\u041f\\u0430\\u0441\\u0441\\u0430\\u0436\\u0438\\u0440\\u044b\",\"\\u0423\\u044d\\u043d\\u0441\\u0434\\u044d\\u0439\",\"\\u0424\\u043e\\u0440\\u0440\\u0435\\u0441\\u0442 \\u0413\\u0430\\u043c\\u043f\",\"\\u0423\\u044d\\u043d\\u0441\\u0434\\u044d\\u0439\",\"\\u0411\\u043e\\u043b\\u044c\\u0448\\u043e\\u0439 \\u043a\\u0443\\u0448\",\"\\u0422\\u0440\\u0438\\u0433\\u0433\\u0435\\u0440\",\"\\u0423\\u044d\\u043d\\u0441\\u0434\\u044d\\u0439\",\"\\u041f\\u043e\\u0441\\u0442\\u0443\\u0447\\u0438\\u0441\\u044c \\u0432 \\u043c\\u043e\\u044e \\u0434\\u0432\\u0435\\u0440\\u044c\",\"\\u041e\\u0447\\u0435\\u043d\\u044c \\u0441\\u0442\\u0440\\u0430\\u043d\\u043d\\u044b\\u0435 \\u0434\\u0435\\u043b\\u0430\",\"\\u0422\\u043e\\u043f\\u0438\",\"\\u0423\\u044d\\u043d\\u0441\\u0434\\u044d\\u0439\",\"\\u0411\\u0435\\u0441\\u0441\\u043b\\u0430\\u0432\\u043d\\u044b\\u0435 \\u0443\\u0431\\u043b\\u044e\\u0434\\u043a\\u0438\",\"\\u0423\\u044d\\u043d\\u0441\\u0434\\u044d\\u0439\",\"\\u0418\\u043d\\u0442\\u0435\\u0440\\u0441\\u0442\\u0435\\u043b\\u043b\\u0430\\u0440\",\"\\u0420\\u0430\\u0439\\u044f \\u0438 \\u043f\\u043e\\u0441\\u043b\\u0435\\u0434\\u043d\\u0438\\u0439 \\u0434\\u0440\\u0430\\u043a\\u043e\\u043d\",\"\\u0410\\u0442\\u0430\\u043a\\u0430 \\u0442\\u0438\\u0442\\u0430\\u043d\\u043e\\u0432\",\"\\u0413\\u043b\\u0430\\u0432\\u043d\\u044b\\u0439 \\u0433\\u0435\\u0440\\u043e\\u0439\",\"\\u041c\\u043e\\u043d\\u0430\\u0441\\u0442\\u044b\\u0440\\u044c\",\"\\u0412\\u043e \\u0432\\u0441\\u0435 \\u0442\\u044f\\u0436\\u043a\\u0438\\u0435\",\"\\u0411\\u0435\\u0441\\u0441\\u0442\\u044b\\u0436\\u0438\\u0435\",\"\\u0425\\u043e\\u0434\\u044f\\u0447\\u0438\\u0435 \\u043c\\u0435\\u0440\\u0442\\u0432\\u0435\\u0446\\u044b\",\"\\u0417\\u0432\\u0435\\u0440\\u043e\\u043f\\u043e\\u043b\\u0438\\u0441\",\"\\u0423\\u044d\\u043d\\u0441\\u0434\\u044d\\u0439\",\"\\u0423\\u044d\\u043d\\u0441\\u0434\\u044d\\u0439\",\"\\u0423\\u044d\\u043d\\u0441\\u0434\\u044d\\u0439\",\"\\u041c\\u0441\\u0442\\u0438\\u0442\\u0435\\u043b\\u0438: \\u042d\\u0440\\u0430 \\u0410\\u043b\\u044c\\u0442\\u0440\\u043e\\u043d\\u0430\",\"\\u0423\\u044d\\u043d\\u0441\\u0434\\u044d\\u0439\",\"\\u0414\\u0436\\u043e\\u043d \\u0423\\u0438\\u043a\",\"\\u041c\\u0430\\u0439\\u043e\\u0440 \\u0413\\u0440\\u043e\\u043c: \\u0427\\u0443\\u043c\\u043d\\u043e\\u0439 \\u0414\\u043e\\u043a\\u0442\\u043e\\u0440\",\"\\u0423\\u044d\\u043d\\u0441\\u0434\\u044d\\u0439\",\"\\u0414\\u043e\\u043c \\u0414\\u0440\\u0430\\u043a\\u043e\\u043d\\u0430\",\"\\u041a\\u043e\\u0440\\u043e\\u043b\\u044c \\u041b\\u0435\\u0432\",\"\\u0425\\u043e\\u0434\\u044f\\u0447\\u0438\\u0435 \\u043c\\u0435\\u0440\\u0442\\u0432\\u0435\\u0446\\u044b\",\"\\u0414\\u043e\\u043c \\u0414\\u0440\\u0430\\u043a\\u043e\\u043d\\u0430\",\"\\u0428\\u0440\\u044d\\u043a 2\",\"\\u0413\\u043e\\u043b\\u044f\\u043a\",\"\\u041d\\u0443\\u043b\\u0435\\u0432\\u043e\\u0439 \\u043f\\u0430\\u0446\\u0438\\u0435\\u043d\\u0442\",\"\\u0422\\u0440\\u0438 \\u0431\\u0438\\u043b\\u0431\\u043e\\u0440\\u0434\\u0430 \\u043d\\u0430 \\u0433\\u0440\\u0430\\u043d\\u0438\\u0446\\u0435 \\u042d\\u0431\\u0431\\u0438\\u043d\\u0433\\u0430, \\u041c\\u0438\\u0441\\u0441\\u0443\\u0440\\u0438\",\"\\u0421\\u0435\\u043c\\u044c\",\"\\u0425\\u043e\\u0431\\u0431\\u0438\\u0442: \\u0411\\u0438\\u0442\\u0432\\u0430 \\u043f\\u044f\\u0442\\u0438 \\u0432\\u043e\\u0438\\u043d\\u0441\\u0442\\u0432\",\"\\u0413\\u043d\\u0435\\u0432 \\u0447\\u0435\\u043b\\u043e\\u0432\\u0435\\u0447\\u0435\\u0441\\u043a\\u0438\\u0439\",\"\\u0423\\u044d\\u043d\\u0441\\u0434\\u044d\\u0439\",\"\\u041e\\u0434\\u0438\\u043d \\u0434\\u043e\\u043c\\u0430\",\"\\u041c\\u043e\\u043d\\u0430\\u0441\\u0442\\u044b\\u0440\\u044c\",\"\\u0412\\u0441\\u0451 \\u0432\\u0435\\u0437\\u0434\\u0435 \\u0438 \\u0441\\u0440\\u0430\\u0437\\u0443\",\"\\u0421\\u043f\\u0438\\u0441\\u043e\\u043a \\u0428\\u0438\\u043d\\u0434\\u043b\\u0435\\u0440\\u0430\",\"\\u0417\\u0435\\u043b\\u0435\\u043d\\u0430\\u044f \\u043c\\u0438\\u043b\\u044f\",\"\\u0413\\u043b\\u0430\\u0432\\u043d\\u044b\\u0439 \\u0433\\u0435\\u0440\\u043e\\u0439\",\"\\u0428\\u0435\\u0440\\u043b\\u043e\\u043a\",\"\\u0414\\u043e\\u043c \\u0414\\u0440\\u0430\\u043a\\u043e\\u043d\\u0430\",\"\\u0423\\u044d\\u043d\\u0441\\u0434\\u044d\\u0439\",\"\\u041c\\u043e\\u043d\\u0430\\u0441\\u0442\\u044b\\u0440\\u044c\",\"\\u0423\\u044d\\u043d\\u0441\\u0434\\u044d\\u0439\",\"\\u0423\\u044d\\u043d\\u0441\\u0434\\u044d\\u0439\",\"\\u041f\\u043e\\u0431\\u0435\\u0433 \\u0438\\u0437 \\u0428\\u043e\\u0443\\u0448\\u0435\\u043d\\u043a\\u0430\",\"\\u0422\\u043e\\u0440: \\u0420\\u0430\\u0433\\u043d\\u0430\\u0440\\u0451\\u043a\",\"\\u041d\\u0443\\u043b\\u0435\\u0432\\u043e\\u0439 \\u043f\\u0430\\u0446\\u0438\\u0435\\u043d\\u0442\",\"\\u0413\\u0430\\u0440\\u0440\\u0438 \\u041f\\u043e\\u0442\\u0442\\u0435\\u0440 \\u0438 \\u041f\\u0440\\u0438\\u043d\\u0446-\\u043f\\u043e\\u043b\\u0443\\u043a\\u0440\\u043e\\u0432\\u043a\\u0430\",\"\\u0414\\u043e\\u0432\\u043e\\u0434\",\"\\u0411\\u0435\\u0441\\u043f\\u0440\\u0438\\u043d\\u0446\\u0438\\u043f\\u043d\\u044b\\u0435\",\"\\u041c\\u043e\\u043d\\u0430\\u0441\\u0442\\u044b\\u0440\\u044c\",\"\\u0414\\u043e\\u043c \\u0414\\u0440\\u0430\\u043a\\u043e\\u043d\\u0430\",\"\\u0423\\u044d\\u043d\\u0441\\u0434\\u044d\\u0439\",\"\\u0414\\u043e\\u043c \\u0414\\u0440\\u0430\\u043a\\u043e\\u043d\\u0430\",\"\\u0423\\u044d\\u043d\\u0441\\u0434\\u044d\\u0439\",\"\\u0411\\u0440\\u0438\\u0433\\u0430\\u0434\\u0430\",\"\\u041c\\u043e\\u043d\\u0430\\u0441\\u0442\\u044b\\u0440\\u044c\",\"\\u0423\\u044d\\u043d\\u0441\\u0434\\u044d\\u0439\",\"\\u041c\\u0430\\u0439\\u043e\\u0440 \\u0413\\u0440\\u043e\\u043c: \\u0427\\u0443\\u043c\\u043d\\u043e\\u0439 \\u0414\\u043e\\u043a\\u0442\\u043e\\u0440\",\"\\u041b\\u044e\\u0434\\u0438 \\u0432 \\u0447\\u0451\\u0440\\u043d\\u043e\\u043c\",\"\\u0414\\u0435\\u043d\\u044c \\u0441\\u0443\\u0440\\u043a\\u0430\",\"\\u0412\\u044b\\u0448\\u043a\\u0430\",\"\\u0412\\u043e\\u043b\\u043a \\u0441 \\u0423\\u043e\\u043b\\u043b-\\u0441\\u0442\\u0440\\u0438\\u0442\",\"\\u0423\\u044d\\u043d\\u0441\\u0434\\u044d\\u0439\",\"\\u0423\\u044d\\u043d\\u0441\\u0434\\u044d\\u0439\",\"\\u0415\\u0449\\u0435 \\u043f\\u043e \\u043e\\u0434\\u043d\\u043e\\u0439\",\"\\u0423\\u044d\\u043d\\u0441\\u0434\\u044d\\u0439\",\"\\u041f\\u0438\\u0440\\u0430\\u0442\\u044b \\u041a\\u0430\\u0440\\u0438\\u0431\\u0441\\u043a\\u043e\\u0433\\u043e \\u043c\\u043e\\u0440\\u044f: \\u041f\\u0440\\u043e\\u043a\\u043b\\u044f\\u0442\\u0438\\u0435 \\u0427\\u0435\\u0440\\u043d\\u043e\\u0439 \\u0436\\u0435\\u043c\\u0447\\u0443\\u0436\\u0438\\u043d\\u044b\",\"\\u0412\\u0430\\u043c\\u043f\\u0438\\u0440\\u044b \\u0441\\u0440\\u0435\\u0434\\u043d\\u0435\\u0439 \\u043f\\u043e\\u043b\\u043e\\u0441\\u044b\",\"\\u041c\\u043e\\u043d\\u0430\\u0441\\u0442\\u044b\\u0440\\u044c\",\"\\u0417\\u0430\\u0433\\u0430\\u0434\\u043e\\u0447\\u043d\\u0430\\u044f \\u0438\\u0441\\u0442\\u043e\\u0440\\u0438\\u044f \\u0411\\u0435\\u043d\\u0434\\u0436\\u0430\\u043c\\u0438\\u043d\\u0430 \\u0411\\u0430\\u0442\\u0442\\u043e\\u043d\\u0430\",\"\\u0425\\u043e\\u0431\\u0431\\u0438\\u0442: \\u041d\\u0435\\u0436\\u0434\\u0430\\u043d\\u043d\\u043e\\u0435 \\u043f\\u0443\\u0442\\u0435\\u0448\\u0435\\u0441\\u0442\\u0432\\u0438\\u0435\",\"\\u0412\\u043e\\u043b\\u043a \\u0441 \\u0423\\u043e\\u043b\\u043b-\\u0441\\u0442\\u0440\\u0438\\u0442\",\"\\u041e\\u0441\\u0442\\u0440\\u043e\\u0432 \\u043f\\u0440\\u043e\\u043a\\u043b\\u044f\\u0442\\u044b\\u0445\",\"\\u0418\\u043d\\u0442\\u0435\\u0440\\u0441\\u0442\\u0435\\u043b\\u043b\\u0430\\u0440\",\"\\u0411\\u0435\\u0441\\u0441\\u043b\\u0430\\u0432\\u043d\\u044b\\u0435 \\u0443\\u0431\\u043b\\u044e\\u0434\\u043a\\u0438\",\"\\u0414\\u043e\\u043c \\u0414\\u0440\\u0430\\u043a\\u043e\\u043d\\u0430\",\"\\u0413\\u043b\\u0430\\u0432\\u043d\\u044b\\u0439 \\u0433\\u0435\\u0440\\u043e\\u0439\",\"\\u041f\\u043e\\u0441\\u0442\\u0443\\u0447\\u0438\\u0441\\u044c \\u0432 \\u043c\\u043e\\u044e \\u0434\\u0432\\u0435\\u0440\\u044c\",\"\\u041f\\u043e\\u0441\\u0442\\u0443\\u0447\\u0438\\u0441\\u044c \\u0432 \\u043c\\u043e\\u044e \\u0434\\u0432\\u0435\\u0440\\u044c\",\"\\u041f\\u043e\\u0441\\u0442\\u0443\\u0447\\u0438\\u0441\\u044c \\u0432 \\u043c\\u043e\\u044e \\u0434\\u0432\\u0435\\u0440\\u044c\",\"\\u041e\\u043d\\u043e\",\"\\u0427\\u0435\\u0440\\u043d\\u044b\\u0439 \\u044f\\u0449\\u0438\\u043a\",\"\\u0414\\u043e\\u043c \\u0414\\u0440\\u0430\\u043a\\u043e\\u043d\\u0430\",\"\\u041a\\u0440\\u0438\\u043c\\u0438\\u043d\\u0430\\u043b\\u044c\\u043d\\u043e\\u0435 \\u0447\\u0442\\u0438\\u0432\\u043e\",\"\\u041f\\u0435\\u0440\\u0432\\u043e\\u043c\\u0443 \\u0438\\u0433\\u0440\\u043e\\u043a\\u0443 \\u043f\\u0440\\u0438\\u0433\\u043e\\u0442\\u043e\\u0432\\u0438\\u0442\\u044c\\u0441\\u044f\",\"\\u0414\\u043e\\u043c \\u0414\\u0440\\u0430\\u043a\\u043e\\u043d\\u0430\",\"\\u0414\\u0436\\u0430\\u043d\\u0433\\u043e \\u043e\\u0441\\u0432\\u043e\\u0431\\u043e\\u0436\\u0434\\u0435\\u043d\\u043d\\u044b\\u0439\",\"\\u041c\\u043e\\u043d\\u0430\\u0441\\u0442\\u044b\\u0440\\u044c\",\"\\u0427\\u0435\\u0440\\u043d\\u044b\\u0439 \\u044f\\u0449\\u0438\\u043a\",\"\\u0422\\u0440\\u0438\\u0433\\u0433\\u0435\\u0440\",\"\\u0413\\u043d\\u0435\\u0432 \\u0447\\u0435\\u043b\\u043e\\u0432\\u0435\\u0447\\u0435\\u0441\\u043a\\u0438\\u0439\",\"\\u041c\\u0430\\u0440\\u0441\\u0438\\u0430\\u043d\\u0438\\u043d\",\"\\u0424\\u043e\\u0440\\u0440\\u0435\\u0441\\u0442 \\u0413\\u0430\\u043c\\u043f\",\"\\u041c\\u0430\\u0439\\u043e\\u0440 \\u0413\\u0440\\u043e\\u043c: \\u0427\\u0443\\u043c\\u043d\\u043e\\u0439 \\u0414\\u043e\\u043a\\u0442\\u043e\\u0440\",\"\\u0411\\u0430\\u0442\\u044f\",\"\\u041d\\u0430\\u0447\\u0430\\u043b\\u043e\",\"\\u041f\\u043e\\u0431\\u0435\\u0433 \\u0438\\u0437 \\u0428\\u043e\\u0443\\u0448\\u0435\\u043d\\u043a\\u0430\",\"\\u0412\\u043e \\u0432\\u0441\\u0435 \\u0442\\u044f\\u0436\\u043a\\u0438\\u0435\",\"\\u0412\\u0410\\u041b\\u041b\\u00b7\\u0418\",\"\\u0413\\u043e\\u043b\\u043e\\u0434\\u043d\\u044b\\u0435 \\u0438\\u0433\\u0440\\u044b\",\"\\u0412\\u044b\\u0448\\u043a\\u0430\",\"\\u0412\\u044b\\u0448\\u043a\\u0430\",\"\\u041c\\u0430\\u0440\\u0441\\u0438\\u0430\\u043d\\u0438\\u043d\",\"\\u0418\\u043d\\u0442\\u0435\\u0440\\u0441\\u0442\\u0435\\u043b\\u043b\\u0430\\u0440\",\"\\u0414\\u043e\\u043c \\u0414\\u0440\\u0430\\u043a\\u043e\\u043d\\u0430\",\"\\u0414\\u043e\\u043c \\u0414\\u0440\\u0430\\u043a\\u043e\\u043d\\u0430\",\"\\u0414\\u0440\\u0443\\u0437\\u044c\\u044f\",\"\\u0416\\u0438\\u0432\\u0430\\u044f \\u0441\\u0442\\u0430\\u043b\\u044c\",\"\\u041f\\u043e\\u0441\\u043b\\u0435\\u0434\\u043d\\u0438\\u0439 \\u0431\\u043e\\u0433\\u0430\\u0442\\u044b\\u0440\\u044c\",\"\\u0424\\u043e\\u0440\\u0440\\u0435\\u0441\\u0442 \\u0413\\u0430\\u043c\\u043f\",\"\\u0414\\u043e\\u043c \\u0414\\u0440\\u0430\\u043a\\u043e\\u043d\\u0430\",\"\\u0418\\u043b\\u043b\\u044e\\u0437\\u0438\\u044f \\u043e\\u0431\\u043c\\u0430\\u043d\\u0430\",\"\\u0422\\u0440\\u0438\\u0433\\u0433\\u0435\\u0440\",\"\\u0412\\u044b\\u0448\\u043a\\u0430\",\"\\u0411\\u0440\\u0430\\u0442 2\",\"\\u0413\\u043d\\u0435\\u0432 \\u0447\\u0435\\u043b\\u043e\\u0432\\u0435\\u0447\\u0435\\u0441\\u043a\\u0438\\u0439\",\"\\u0411\\u0440\\u0438\\u0433\\u0430\\u0434\\u0430\",\"\\u0420\\u0438\\u043a \\u0438 \\u041c\\u043e\\u0440\\u0442\\u0438\",\"\\u0412\\u044b\\u0448\\u043a\\u0430\",\"\\u0427\\u0435\\u043b\\u043e\\u0432\\u0435\\u043a-\\u043f\\u0430\\u0443\\u043a\",\"\\u0413\\u0430\\u0440\\u0440\\u0438 \\u041f\\u043e\\u0442\\u0442\\u0435\\u0440 \\u0438 \\u0443\\u0437\\u043d\\u0438\\u043a \\u0410\\u0437\\u043a\\u0430\\u0431\\u0430\\u043d\\u0430\",\"\\u041c\\u0430\\u043b\\u0435\\u0444\\u0438\\u0441\\u0435\\u043d\\u0442\\u0430\",\"\\u0412\\u044b\\u0448\\u043a\\u0430\",\"\\u0417\\u0435\\u043b\\u0435\\u043d\\u0430\\u044f \\u043a\\u043d\\u0438\\u0433\\u0430\",\"\\u0414\\u043e\\u043c \\u0414\\u0440\\u0430\\u043a\\u043e\\u043d\\u0430\",\"\\u041d\\u0443\\u043b\\u0435\\u0432\\u043e\\u0439 \\u043f\\u0430\\u0446\\u0438\\u0435\\u043d\\u0442\",\"\\u0422\\u0438\\u0442\\u0430\\u043d\\u0438\\u043a\",\"\\u0414\\u043e\\u0432\\u043e\\u0434\",\"\\u041e\\u0442\\u0435\\u043b\\u044c \\u00ab\\u0413\\u0440\\u0430\\u043d\\u0434 \\u0411\\u0443\\u0434\\u0430\\u043f\\u0435\\u0448\\u0442\\u00bb\",\"\\u0414\\u043e\\u043c \\u0414\\u0440\\u0430\\u043a\\u043e\\u043d\\u0430\",\"\\u0414\\u044e\\u043d\\u0430\",\"\\u0414\\u043e\\u043c \\u0414\\u0440\\u0430\\u043a\\u043e\\u043d\\u0430\",\"\\u0427\\u0435\\u043b\\u043e\\u0432\\u0435\\u043a-\\u043f\\u0430\\u0443\\u043a: \\u041d\\u0435\\u0442 \\u043f\\u0443\\u0442\\u0438 \\u0434\\u043e\\u043c\\u043e\\u0439\",\"\\u0414\\u043e\\u043c \\u0414\\u0440\\u0430\\u043a\\u043e\\u043d\\u0430\",\"\\u0414\\u0443\\u0440\\u0430\\u043a\",\"\\u0422\\u0430\\u0439\\u043d\\u0430 \\u041a\\u043e\\u043a\\u043e\",\"\\u0414\\u043e\\u043c \\u0414\\u0440\\u0430\\u043a\\u043e\\u043d\\u0430\",\"\\u041f\\u043e\\u0441\\u043b\\u0435\\u0437\\u0430\\u0432\\u0442\\u0440\\u0430\",\"\\u0414\\u043e\\u043c \\u0414\\u0440\\u0430\\u043a\\u043e\\u043d\\u0430\",\"\\u0420\\u0438\\u043a \\u0438 \\u041c\\u043e\\u0440\\u0442\\u0438\",\"\\u0412\\u044b\\u0448\\u043a\\u0430\",\"\\u0414\\u044d\\u0434\\u043f\\u0443\\u043b 2\",\"\\u0414\\u043e\\u043c \\u0414\\u0440\\u0430\\u043a\\u043e\\u043d\\u0430\",\"\\u0412\\u044b\\u0448\\u043a\\u0430\",\"\\u0422\\u0430\\u0447\\u043a\\u0438\",\"\\u041a\\u043e\\u0440\\u043e\\u043b\\u044c \\u041b\\u0435\\u0432\",\"\\u0412\\u043b\\u0430\\u0441\\u0442\\u0435\\u043b\\u0438\\u043d \\u043a\\u043e\\u043b\\u0435\\u0446: \\u0411\\u0440\\u0430\\u0442\\u0441\\u0442\\u0432\\u043e \\u041a\\u043e\\u043b\\u044c\\u0446\\u0430\",\"\\u0412\\u0441\\u0451 \\u0432\\u0435\\u0437\\u0434\\u0435 \\u0438 \\u0441\\u0440\\u0430\\u0437\\u0443\",\"\\u0414\\u043e\\u043c \\u0414\\u0440\\u0430\\u043a\\u043e\\u043d\\u0430\",\"\\u0421\\u0447\\u0430\\u0441\\u0442\\u043b\\u0438\\u0432\\u043e\\u0435 \\u0447\\u0438\\u0441\\u043b\\u043e \\u0421\\u043b\\u0435\\u0432\\u0438\\u043d\\u0430\",\"\\u041e\\u0447\\u0435\\u043d\\u044c \\u0441\\u0442\\u0440\\u0430\\u043d\\u043d\\u044b\\u0435 \\u0434\\u0435\\u043b\\u0430\",\"\\u0412\\u043e \\u0432\\u0441\\u0435 \\u0442\\u044f\\u0436\\u043a\\u0438\\u0435\",\"\\u0411\\u0430\\u0442\\u044f\",\"\\u0412\\u044b\\u0448\\u043a\\u0430\",\"\\u041c\\u0441\\u0442\\u0438\\u0442\\u0435\\u043b\\u0438: \\u042d\\u0440\\u0430 \\u0410\\u043b\\u044c\\u0442\\u0440\\u043e\\u043d\\u0430\",\"\\u0412\\u043b\\u0430\\u0441\\u0442\\u0435\\u043b\\u0438\\u043d \\u043a\\u043e\\u043b\\u0435\\u0446: \\u0412\\u043e\\u0437\\u0432\\u0440\\u0430\\u0449\\u0435\\u043d\\u0438\\u0435 \\u043a\\u043e\\u0440\\u043e\\u043b\\u044f\",\"\\u0414\\u044e\\u043d\\u0430\",\"\\u041b\\u0435\\u0433\\u0435\\u043d\\u0434\\u0430\",\"\\u0412\\u043b\\u0430\\u0441\\u0442\\u0435\\u043b\\u0438\\u043d \\u043a\\u043e\\u043b\\u0435\\u0446: \\u0414\\u0432\\u0435 \\u043a\\u0440\\u0435\\u043f\\u043e\\u0441\\u0442\\u0438\",\"\\u0414\\u043e\\u043c \\u0414\\u0440\\u0430\\u043a\\u043e\\u043d\\u0430\",\"\\u0421\\u043f\\u0438\\u0441\\u043e\\u043a \\u0428\\u0438\\u043d\\u0434\\u043b\\u0435\\u0440\\u0430\",\"\\u0412\\u043b\\u0430\\u0441\\u0442\\u0435\\u043b\\u0438\\u043d \\u043a\\u043e\\u043b\\u0435\\u0446: \\u0411\\u0440\\u0430\\u0442\\u0441\\u0442\\u0432\\u043e \\u041a\\u043e\\u043b\\u044c\\u0446\\u0430\",\"\\u0414\\u043e\\u043c \\u0414\\u0440\\u0430\\u043a\\u043e\\u043d\\u0430\",\"\\u0412\\u044b\\u0448\\u043a\\u0430\",\"\\u0414\\u0436\\u043e\\u043d \\u0423\\u0438\\u043a\",\"\\u0412\\u0435\\u043d\\u043e\\u043c 2\",\"\\u0411\\u0440\\u0430\\u0442 2\",\"\\u0411\\u0440\\u0430\\u0442\",\"\\u041a\\u0440\\u0438\\u043c\\u0438\\u043d\\u0430\\u043b\\u044c\\u043d\\u043e\\u0435 \\u0447\\u0442\\u0438\\u0432\\u043e\",\"\\u0428\\u0440\\u044d\\u043a\",\"\\u0413\\u043e\\u043b\\u044f\\u043a\",\"\\u041c\\u0430\\u0442\\u0440\\u0438\\u0446\\u0430\",\"\\u0412\\u044b\\u0448\\u043a\\u0430\",\"\\u0414\\u043e\\u043c \\u0414\\u0440\\u0430\\u043a\\u043e\\u043d\\u0430\",\"\\u0412\\u0435\\u043d\\u043e\\u043c\",\"\\u0422\\u0438\\u0442\\u0430\\u043d\\u0438\\u043a\",\"\\u0414\\u043e\\u043c \\u0414\\u0440\\u0430\\u043a\\u043e\\u043d\\u0430\",\"\\u0428\\u043e\\u0443 \\u0422\\u0440\\u0443\\u043c\\u0430\\u043d\\u0430\",\"\\u041b\\u0438\\u0433\\u0430 \\u0441\\u043f\\u0440\\u0430\\u0432\\u0435\\u0434\\u043b\\u0438\\u0432\\u043e\\u0441\\u0442\\u0438 \\u0417\\u0430\\u043a\\u0430 \\u0421\\u043d\\u0430\\u0439\\u0434\\u0435\\u0440\\u0430\",\"\\u0414\\u043e\\u043c \\u0414\\u0440\\u0430\\u043a\\u043e\\u043d\\u0430\",\"\\u0413\\u043e\\u043b\\u044f\\u043a\",\"\\u0414\\u043e\\u043c \\u0414\\u0440\\u0430\\u043a\\u043e\\u043d\\u0430\",\"\\u0414\\u043e\\u043c \\u0414\\u0440\\u0430\\u043a\\u043e\\u043d\\u0430\",\"\\u0414\\u043e\\u043c \\u0414\\u0440\\u0430\\u043a\\u043e\\u043d\\u0430\",\"\\u041e\\u0447\\u0435\\u043d\\u044c \\u0441\\u0442\\u0440\\u0430\\u043d\\u043d\\u044b\\u0435 \\u0434\\u0435\\u043b\\u0430\",\"\\u0414\\u043e\\u043c \\u0414\\u0440\\u0430\\u043a\\u043e\\u043d\\u0430\",\"\\u0414\\u043e\\u043c \\u0414\\u0440\\u0430\\u043a\\u043e\\u043d\\u0430\",\"\\u0417\\u0432\\u0435\\u0440\\u043e\\u043f\\u043e\\u043b\\u0438\\u0441\",\"\\u0410\\u0442\\u0430\\u043a\\u0430 \\u0442\\u0438\\u0442\\u0430\\u043d\\u043e\\u0432\",\"\\u041a\\u0440\\u0443\\u044d\\u043b\\u043b\\u0430\",\"\\u0414\\u043e\\u043c \\u0414\\u0440\\u0430\\u043a\\u043e\\u043d\\u0430\",\"\\u0421\\u0432\\u0435\\u0440\\u0445\\u044a\\u0435\\u0441\\u0442\\u0435\\u0441\\u0442\\u0432\\u0435\\u043d\\u043d\\u043e\\u0435\",\"\\u0410\\u0434\\u0432\\u043e\\u043a\\u0430\\u0442 \\u0434\\u044c\\u044f\\u0432\\u043e\\u043b\\u0430\",\"\\u0412\\u0430\\u043c\\u043f\\u0438\\u0440\\u044b \\u0441\\u0440\\u0435\\u0434\\u043d\\u0435\\u0439 \\u043f\\u043e\\u043b\\u043e\\u0441\\u044b\",\"\\u041d\\u0438\\u043a\\u0442\\u043e\",\"\\u0414\\u043e\\u0441\\u0442\\u0430\\u0442\\u044c \\u043d\\u043e\\u0436\\u0438\",\"\\u041a\\u043e\\u0440\\u043f\\u043e\\u0440\\u0430\\u0446\\u0438\\u044f \\u043c\\u043e\\u043d\\u0441\\u0442\\u0440\\u043e\\u0432\"],\"x\":[0.13262534141540527,0.031964611262083054,0.12308123707771301,-0.08298621326684952,-0.6208480000495911,-0.05215347558259964,0.40160050988197327,-0.23085498809814453,0.08460015803575516,0.06414932757616043,-0.09119172394275665,-0.28040385246276855,0.04173123091459274,-0.4871842563152313,-0.07401842623949051,0.290770947933197,0.2944025695323944,-0.20917513966560364,1.2892717123031616,-0.08830176293849945,-0.09932734817266464,0.3206549286842346,1.6105339527130127,-0.24258218705654144,-0.5209308862686157,0.355752557516098,0.2101835012435913,-0.11432002484798431,0.19265171885490417,0.7784816026687622,0.6269519925117493,-0.27551499009132385,-0.7917929291725159,-0.2520182728767395,0.766091525554657,0.480360746383667,-0.10547865927219391,0.8415030837059021,0.3312462866306305,-0.3970487415790558,-0.021317055448889732,1.0775518417358398,0.5055257081985474,0.41684550046920776,1.3620222806930542,0.6688934564590454,0.10988529026508331,1.0952718257904053,-0.6372852921485901,1.6138068437576294,0.5497405529022217,0.02694380283355713,-0.18621593713760376,-0.08063601702451706,-0.547867476940155,-0.8969553709030151,0.5238670110702515,0.11302778869867325,0.2821456491947174,0.8559574484825134,-0.8291721343994141,-0.10143128782510757,-0.5115837454795837,0.9569239020347595,0.10772588849067688,0.33079710602760315,0.6204342246055603,0.7369301915168762,-0.09743073582649231,0.20258131623268127,-0.08479389548301697,0.10248855501413345,-0.0027966799680143595,-0.05217798799276352,0.08152493834495544,-1.147928237915039,0.47066864371299744,0.6182158589363098,1.1608067750930786,-0.07519888132810593,0.17363853752613068,-0.09344667196273804,1.1607500314712524,1.2962199449539185,0.5329282283782959,-0.5469963550567627,-0.45579737424850464,0.45878055691719055,-0.3080911338329315,0.6717550754547119,-1.0024741888046265,0.22591499984264374,0.7852303981781006,0.5454329252243042,0.8218442797660828,0.7593755722045898,0.3980107009410858,-0.16623491048812866,0.11002832651138306,0.6351544260978699,-0.6143458485603333,0.07681851089000702,0.3627913296222687,0.7437991499900818,0.8781198263168335,1.1260144710540771,1.189685583114624,0.2807384133338928,0.38573727011680603,-0.16004420816898346,0.20191136002540588,0.2468726933002472,-0.22020332515239716,0.03180144727230072,-0.7544730305671692,-0.12648217380046844,0.7388013601303101,0.6261883974075317,1.024118185043335,1.2976502180099487,0.2843807339668274,0.2419397383928299,0.8677935004234314,0.6639301180839539,-0.8411888480186462,0.45047783851623535,0.2416379451751709,0.3329225778579712,0.8597425818443298,0.644436776638031,-1.307647705078125,0.3555484414100647,0.4178793728351593,-0.16866850852966309,-0.03644617274403572,-0.6131557822227478,-0.8995450735092163,0.32640111446380615,-0.7433990240097046,1.1251492500305176,0.29921823740005493,0.0025875461287796497,0.7703222632408142,0.7365387678146362,0.4241545796394348,0.4057627022266388,0.5568079352378845,-0.5123417377471924,0.6361191272735596,1.2721160650253296,0.20092563331127167,1.0120716094970703,0.5317081809043884,-0.8111934065818787,0.042321667075157166,1.5776348114013672,0.4751627743244171,0.9130375981330872,1.130553960800171,1.0980103015899658,1.018408179283142,-0.27462631464004517,1.6480854749679565,-0.092455193400383,0.8404768109321594,0.1895681619644165,0.2796235680580139,-0.2502540051937103,0.3849276006221771,1.2662221193313599,-0.20625510811805725,0.5643486976623535,0.7516382932662964,0.15930382907390594,0.6671674847602844,0.636633038520813,0.6204324960708618,0.5627948641777039,0.549037754535675,0.6232670545578003,1.0937801599502563,0.8324976563453674,0.6423181891441345,1.0077635049819946,0.07638631016016006,-0.15183129906654358,0.8149827122688293,1.0638196468353271,0.3185459077358246,0.8173254728317261,-0.4825274348258972,0.7452403903007507,-0.22952976822853088,1.287522554397583,-1.243066668510437,0.0018958246801048517,0.3236742913722992,0.905958354473114,0.4766625761985779,0.15109065175056458,0.22114382684230804,1.3975292444229126,-0.9312981963157654,0.21250677108764648,0.4208303987979889,-0.3089420795440674,1.2033714056015015,1.0322089195251465,0.3346945345401764,-0.12357378005981445,-0.21496586501598358,0.47066646814346313,1.054286003112793,0.5553125739097595,1.165279507637024,0.8221915364265442,-1.1971508264541626,0.604032039642334,-0.7834855914115906,-0.022232413291931152,-0.75722736120224,0.1389906108379364,-0.4112289547920227,1.0198793411254883,-0.6681120991706848,-0.18031443655490875,0.017730286344885826,-0.07026104629039764,0.3295106887817383,0.11649904400110245,0.6627326607704163,-0.27195414900779724,-0.32421770691871643,0.7155489921569824,-0.5721979141235352,0.3990989327430725,0.8303822875022888,-0.09238475561141968,0.5610767602920532,0.6111224293708801,0.6319056153297424,-0.10522039234638214,-0.4061657190322876,-0.1828143298625946,0.13375477492809296,0.1786206066608429,0.22429978847503662,-0.11663614958524704,-0.12107976526021957,0.6903233528137207,0.6978749632835388,0.9222273230552673,0.9688592553138733,1.1051143407821655,-0.546013593673706,0.5662818551063538,-0.5807211995124817,0.3858391344547272,-0.7012467384338379,0.4873195290565491,0.22552886605262756,-0.7343239784240723,-0.19927924871444702,0.32995080947875977,0.6717948317527771,-0.7067040205001831,0.3303067684173584,-0.31645259261131287,0.756269633769989,-0.039932314306497574,-1.4889860153198242,0.8267354369163513,1.0045918226242065,0.6063426733016968,1.5267188549041748,0.8292135000228882,-0.4392777383327484,0.9122172594070435,0.17144006490707397,0.2884015738964081,0.8387166261672974,1.33174729347229,1.4567973613739014,1.2795600891113281,1.5226104259490967,0.8756378293037415,0.43671369552612305,1.8197884559631348,2.030698299407959,1.0032317638397217,0.9614064693450928,0.17484597861766815,0.2555983066558838,0.17682486772537231,0.45358118414878845,1.5045679807662964,0.5727028846740723,0.5270803570747375,1.1297177076339722,-0.008616949431598186,-0.3920862674713135,0.8199421167373657,0.2964123487472534,1.0475761890411377,-0.35245785117149353,1.203794240951538,-0.17187440395355225,0.4600842297077179,0.8836941719055176,0.5940512418746948,0.6609368920326233,-0.590167224407196,1.3595900535583496,0.03044872172176838,1.2654032707214355,2.5313384532928467,-0.16431604325771332,0.39773380756378174,1.3185845613479614,0.5093954801559448,0.5066087245941162,1.012190818786621,-0.9223838448524475,0.6572580337524414,-0.8413304686546326,-0.36895477771759033,0.2826499044895172,1.6764172315597534,-0.19174405932426453,0.47760534286499023,0.2760283946990967,-0.10286607593297958,0.5606424808502197,0.043957460671663284,0.25398287177085876,-0.19324547052383423,-0.6601573824882507,0.8988267183303833,0.01732442155480385,0.5416082739830017,-0.19472433626651764,0.9804444313049316,1.0453547239303589,0.24315494298934937,0.9730595946311951,-0.20745736360549927,0.6270498037338257,0.739272952079773,1.9702913761138916,0.4963684380054474,0.3891656994819641,0.794610857963562,-0.31679362058639526,0.5572924017906189,0.38462868332862854,0.8706619739532471,0.3583856225013733,0.17957468330860138,0.5306737422943115,0.13598458468914032,0.5341089367866516,0.9238309264183044,0.4875239431858063,1.4322901964187622,0.19373376667499542,-0.9125831127166748,0.8252473473548889,0.24559710919857025,1.3079792261123657,-0.21716360747814178,-1.2700270414352417,0.3861234486103058,0.8799043893814087,-0.2923998236656189,1.4806028604507446,1.158097267150879,1.0080255270004272,0.13026630878448486,0.005111014936119318,0.5074082612991333,0.6605895161628723,0.32076510787010193,1.1456096172332764,0.2965231239795685,1.0517195463180542,0.25253722071647644,-0.15439768135547638,0.6688711047172546,-0.012695039622485638,0.5813900232315063,0.39409542083740234,-0.21770772337913513,0.19781602919101715,0.7528833150863647,0.3800550401210785,1.4013532400131226,1.655482292175293,-0.8867541551589966,0.5285248160362244,0.8401128649711609,0.2649807035923004,0.16102759540081024,-1.4268168210983276,0.19040627777576447,-0.4298224151134491,0.7180245518684387,0.553823709487915,0.3122137784957886,0.8673314452171326,1.0188353061676025,-0.19768540561199188,-0.3935668468475342,0.7957611083984375,0.3562123477458954,0.830467700958252,0.3038257360458374,1.0039631128311157,-0.20217619836330414,-0.2499598115682602,0.3204554617404938,-0.2395273596048355,0.309048593044281,0.538139820098877,2.2651429176330566,-0.14362777769565582,0.7461226582527161,0.4435904622077942,0.8845776915550232,1.0143872499465942,0.6122264862060547,0.4687562584877014,0.8002023696899414,0.7323704957962036,1.0738784074783325,0.37016546726226807,1.3890862464904785,0.47768285870552063,0.6079840660095215,0.7899717092514038,0.16627150774002075,-0.31161656975746155,0.2977200448513031,0.5249381065368652,0.6057570576667786,0.4519290328025818,0.18126599490642548,-0.6174230575561523,1.9905914068222046,1.481187343597412,0.3214385509490967,1.237768292427063,-0.35071930289268494,0.45171254873275757,-0.7723324298858643,1.092706322669983,-0.23322243988513947,0.6174973249435425,1.3040671348571777,0.12354882061481476,0.07018619030714035,0.13764354586601257,-0.20619840919971466,-0.10840446501970291,0.8753824830055237,0.34251633286476135,0.0152163440361619,0.9581130146980286,-0.694104015827179,0.6046245694160461,0.19550177454948425,-1.113688349723816,-0.26988911628723145,-0.06583359092473984,0.0027284480165690184,0.6637475490570068,0.6638049483299255,2.1549408435821533,0.8509002327919006,0.5134576559066772,0.28616443276405334,0.545377790927887,1.358458161354065,0.5307191610336304,0.42022067308425903,-0.4715747833251953,0.8248518109321594,-0.17081359028816223,-0.6095405220985413,-0.23735429346561432,1.3112692832946777,1.7680473327636719,0.47168341279029846,0.7093074917793274,-0.8845832347869873,0.56352698802948,-0.024372069165110588,1.536511778831482,0.5411499738693237,-0.3564191162586212,0.08399173617362976,-0.008460490964353085,0.522654116153717,-0.03913494944572449,-0.10328942537307739,1.4943716526031494,0.6549381017684937,0.29041925072669983,0.28471246361732483,-0.9019837379455566,0.6473804116249084,0.03876180201768875,-0.7380799055099487,0.7358935475349426,0.5187236070632935,0.7480476498603821,0.1625002771615982,0.4766768217086792,1.334159255027771,0.31423547863960266,1.3954291343688965,0.159600168466568,0.26016291975975037,-0.08870019018650055,-0.4397001266479492,-0.06267409771680832,0.5567086338996887,0.36209309101104736,0.0847858190536499,1.0972431898117065,0.9860514998435974,-0.42463183403015137,0.6405196785926819,0.0008943389402702451,0.2344881296157837,0.5883054137229919,-0.11799363046884537,1.004909634590149,0.5825004577636719,0.31376853585243225,1.1225628852844238,0.6509801149368286,0.6438883543014526,-0.11040344834327698,0.6368183493614197,-0.8499962687492371,0.2831710875034332,-0.10825765132904053,1.1139081716537476,1.5177973508834839,-0.3009216785430908,0.4661262333393097,0.8078279495239258,0.7960697412490845,0.345930278301239,-0.02735941670835018,0.9263123273849487,1.1855385303497314,-0.31841742992401123,0.29921603202819824,0.6062442660331726,0.6484319567680359,-0.43087238073349,-0.1314363181591034,0.3009541928768158,1.0908229351043701,1.4650877714157104,0.5444805026054382,0.07893825322389603,0.27138638496398926,0.6480618119239807,1.306437373161316,-0.43607351183891296,0.02153930440545082,-0.3970935046672821,2.147556781768799,-0.700108528137207,-0.031830064952373505,2.4697909355163574,1.0456430912017822,-0.5937414765357971,0.9545589089393616,0.030937833711504936,0.4147454798221588,1.0193061828613281,0.17671158909797668,-1.1607627868652344,-0.2404320240020752,-0.4640318751335144,0.479999840259552,-0.17308691143989563,-0.08391135931015015,0.7009615898132324,0.9073432683944702,0.6096360087394714,1.5378473997116089,0.1979113519191742,-0.5815439224243164,0.17599910497665405,0.7701228260993958,0.07100438326597214,0.22080081701278687,1.4278696775436401,0.13932868838310242,1.3594926595687866,-0.7873785495758057,0.49960699677467346,0.032913994044065475,-0.11677631735801697,0.2952933609485626,-0.3488609492778778,0.11357419192790985,0.16903743147850037,0.4703713655471802,0.01678617112338543,0.45080655813217163,-0.3453255593776703,-0.00906549021601677,0.279930979013443,0.011185349896550179,0.3394528925418854,0.5240809917449951,0.6076824069023132,0.25458115339279175,0.2476060390472412,-0.012883885763585567,0.20970402657985687,0.45135796070098877,0.4004696011543274,-0.12473207712173462,0.4262421429157257,-0.21583639085292816,0.1183881014585495,-0.2760700583457947,0.27739906311035156,1.3882408142089844,-0.37178584933280945,-0.5677570104598999,0.4394618272781372,0.6222919821739197,-0.6475802659988403,0.3078223466873169,-0.2978656589984894,0.01631990075111389,1.2237663269042969,0.49100401997566223,0.882175862789154,1.5718337297439575,1.5605876445770264,1.130109429359436,1.7224228382110596,1.5239219665527344,-0.6193509697914124,0.8326660394668579,1.6362210512161255,-0.03370174393057823,0.24984604120254517,1.3710159063339233,2.37677001953125,-0.44098976254463196,-0.11183148622512817,0.16340422630310059,0.29791051149368286,1.2278106212615967,1.2059357166290283,0.1528444141149521,0.6051293015480042,0.49464595317840576,0.2646925747394562,1.006988525390625,0.999520480632782,0.15643399953842163,0.10077409446239471,1.2225772142410278,-0.7929419875144958,0.2608548104763031,1.4297815561294556,1.0563218593597412,-0.020065242424607277,0.6460171341896057,-0.07153848558664322,-0.28719520568847656,0.09670896828174591,0.37612056732177734,0.15332935750484467,0.1265689581632614,2.253451108932495,0.014454007148742676,0.09391915798187256,0.4268055558204651,1.5027828216552734,0.7343530058860779,-0.0015266225673258305,-0.05743015930056572,-0.2215776890516281,0.9284699559211731,1.2248187065124512,0.9719939231872559,1.0025278329849243,-0.4293256402015686,0.9100032448768616,-0.03934365138411522,0.856403648853302,0.5546802282333374,0.011331906542181969,0.029834216460585594,-0.031820330768823624,-0.44860580563545227,1.4977799654006958,0.48057064414024353,-0.0954086109995842,-0.4588788151741028,-0.04705357179045677,0.6835983395576477,-0.3797188401222229,0.29061245918273926,-0.5062984228134155,0.3506753146648407,1.0200175046920776,-0.5712461471557617,0.34108999371528625,0.0365639291703701,0.8742421269416809,0.7942388653755188,0.7250597476959229,1.4955624341964722,0.32939594984054565,0.3356610834598541,-0.760283887386322,-0.25811678171157837,0.28125613927841187,0.6931601166725159,0.30732399225234985,-0.6417461633682251,0.36815711855888367,0.3085598945617676,1.178596019744873,0.5166913866996765,-0.535209059715271,0.16652058064937592,0.07403026521205902,-0.3115417957305908,0.7378520965576172,-0.04677542299032211,-0.01778756082057953,0.7534237504005432,0.7458862662315369,0.8465922474861145,-0.5927694439888,0.7584659457206726,2.510890007019043,0.6773934364318848,0.5645669102668762,-0.2822727859020233,0.06745661795139313,0.9459797143936157,1.3522114753723145,0.3901168406009674,1.286281943321228,0.10232420265674591,0.43253669142723083,0.21485905349254608,0.42227867245674133,0.012058977037668228,-0.12612515687942505,-0.6414424180984497,0.8206726908683777,1.5437142848968506,0.31433823704719543,0.601806104183197,-0.6221566200256348,0.7754703164100647,0.09899982064962387,0.7883966565132141,0.5347963571548462,-0.543104350566864,1.1286872625350952,0.059698399156332016,0.8830867409706116,-0.915695309638977,1.379993200302124,-0.3278093934059143,-0.22400233149528503,0.3678834140300751,0.6154888868331909,-0.3473283648490906,-0.8525980710983276,1.8680057525634766,0.8203654885292053,1.056771993637085,1.0143828392028809,0.19502612948417664,0.00456200260668993,0.6987467408180237,-0.4861825704574585,1.4256510734558105,1.0685124397277832,0.7184174060821533,1.1171163320541382,-0.710072934627533,1.1637568473815918,-0.22417590022087097,0.08006121963262558,1.1611201763153076,0.435055136680603,0.7150099873542786,0.8221223950386047,0.09774486720561981,-0.1546248495578766,0.3049127161502838,0.5629315376281738,0.21734347939491272,0.6602615714073181,-0.29946961998939514,1.428180456161499,0.24898917973041534,-0.45326924324035645,1.363940954208374,-0.32167938351631165,-0.19869975745677948,0.7084935903549194,0.10734176635742188,0.6081857085227966,-0.7289186120033264,1.5162131786346436,-0.40901219844818115,0.7249137759208679,0.5453990697860718,-0.6627023816108704,0.9358288049697876,-0.6257286071777344,0.45799189805984497,-0.44302546977996826,-0.13834941387176514,-0.13019374012947083,-0.590758204460144,0.34501031041145325,0.7110313177108765,0.9262014627456665,1.6402100324630737,0.370756059885025,-0.5443810224533081,0.7823646068572998,0.5405629277229309,1.8326531648635864,0.775364339351654,0.1449681967496872,0.16442884504795074,0.3590412437915802,-0.17149187624454498,2.372101306915283,1.0643261671066284,-0.3893382251262665,-0.35433992743492126,0.6142389178276062,-0.11134085804224014,0.8268463611602783,-0.5602431893348694,-0.6531069874763489,0.929840624332428,0.2516545355319977,-0.4407697021961212,0.04939104616641998,-0.21649424731731415,0.9246318340301514,0.20554327964782715,1.524031639099121,-0.5001210570335388,0.08270617574453354,1.310528039932251,-0.6614167094230652,0.1800929605960846,-0.445900559425354,2.6476030349731445,-0.8194106817245483,0.06371952593326569,-0.8274526596069336,0.5174077153205872,0.14578275382518768,1.4161707162857056,0.7168583273887634,-1.1825597286224365,0.270689457654953,1.0079137086868286,1.9504177570343018,0.7996724843978882,1.4149787425994873,-0.051680538803339005,-0.89601731300354,2.516174554824829,1.6656055450439453,0.2597358822822571,1.8115206956863403,-0.2850530743598938,-0.27938175201416016,0.30517441034317017,-1.334608554840088,-0.2611105740070343,0.6692335605621338,0.8653234243392944,0.2546960413455963,0.13536599278450012,0.926385760307312,0.024557024240493774,-0.6691555976867676,-1.7544230222702026,0.33971264958381653,0.037886008620262146,-0.8251965045928955,1.2815065383911133,1.5449692010879517,-0.08211823552846909,0.41031965613365173,0.8734323978424072,-0.37295836210250854,-0.5675710439682007,-0.028950748965144157,0.34025710821151733,-0.8601861000061035,1.8686702251434326,0.31834080815315247,-0.4901013970375061,0.416847825050354,0.13711445033550262,2.112711191177368,0.8727866411209106,-0.22492793202400208,-0.16697102785110474,0.9202380180358887,0.1421276181936264,-0.4151473939418793,-0.287941038608551,-0.16598640382289886,-0.40247783064842224,0.027187859639525414,1.0859448909759521,-0.09346013516187668,1.4995003938674927,0.5433706045150757,1.106549620628357,0.8148425817489624,0.7852900624275208,0.6201362013816833,-0.14070671796798706,0.17432674765586853,0.25595447421073914,-0.03435352444648743,-0.18516403436660767,0.9733389616012573,-0.6631583571434021,2.066962957382202,0.7102017402648926,0.2977712154388428,-0.3631225526332855,1.114047646522522,1.162032127380371,-0.14054343104362488,-0.786392331123352,-0.26490849256515503,1.395687222480774,-0.010252156294882298,0.1354433000087738,-0.137417733669281,0.6617094278335571,0.03189656138420105,0.5008681416511536,0.7374662160873413,0.1398429125547409,1.5678128004074097,-0.5110628008842468,-0.3161117434501648,-0.6589378118515015,1.5891563892364502,0.9597359895706177,-0.3727095425128937,1.0395270586013794,0.25105804204940796,-0.9368704557418823,-0.15764804184436798,0.9724193215370178,-0.5253268480300903,0.07200292497873306,1.0055314302444458,0.5811935067176819,0.0810462012887001,-0.2701669931411743,0.4106191098690033,-0.14790277183055878,0.8664987087249756,-0.6357409358024597,-0.06167363375425339,-0.028373150154948235,0.3879041373729706,-0.21462221443653107,0.24278812110424042,0.1496993601322174,-0.3341924250125885,0.5076173543930054,-0.1903807818889618,0.359878271818161,0.14020955562591553,0.5440309643745422,-0.19146065413951874,0.4955686926841736,-0.007643780205398798,-0.7764043807983398,1.438275694847107,0.4439562261104584,-0.21375209093093872,0.6604694724082947,0.4714570641517639,0.3848876953125,0.6782010793685913,0.09469114243984222,-0.03724563866853714,-0.6844685077667236,-0.12180157750844955,0.7324764132499695,0.3217197358608246,-0.010221772827208042,0.08550447225570679,-0.38048163056373596,0.3243575394153595,0.27190887928009033,0.38578248023986816,0.1001228466629982,-0.2526110112667084,-0.3790467083454132,0.22844871878623962,-0.7067990303039551,-0.07030952721834183,1.635364055633545,0.030887465924024582,0.19176161289215088,0.7045978307723999,0.8465667366981506,-1.4473371505737305,-0.3306421935558319,0.8805429935455322,0.8800746202468872,-0.28965821862220764,0.3044814169406891,0.43948763608932495,-2.182403087615967,-0.05279761925339699,0.06158444657921791,-0.8775388598442078,-0.1565372347831726,1.0754517316818237,-0.03005531057715416,0.8849005103111267,-0.23169231414794922,0.29649123549461365,0.25226518511772156,0.9948577880859375,-0.6306191086769104,0.6041653752326965,1.0465567111968994,0.20624341070652008,-0.0017736292211338878,0.7885468006134033,-1.8853191137313843,-0.9054499268531799,0.22849342226982117,1.2190502882003784,0.4352928698062897,0.053636182099580765,-0.2509766221046448,0.665779173374176,-0.13846196234226227,1.2239419221878052,-0.11326324939727783,-0.1983930468559265,-0.09178970754146576,0.9697182178497314,0.7058202028274536,0.22110436856746674,1.520950436592102,-0.7056530117988586,0.6664000749588013,0.5869789719581604,1.482853889465332,-0.3002975285053253,-0.3401262164115906,-0.028744850307703018,1.551714539527893,1.2274188995361328,-0.13541394472122192,0.5451996922492981,-0.47462430596351624,-0.019826052710413933,-0.06439722329378128,0.6697404980659485,-1.1140888929367065,1.0999263525009155,-0.1468905657529831,-0.5583629608154297,-0.03823379427194595,0.1846379190683365,0.30070745944976807,1.8500447273254395,0.6583685874938965,-0.45284268260002136,1.224519968032837,0.521815836429596,-0.3681804835796356,-0.008078310638666153,0.10302969813346863,-0.26621901988983154,1.6890745162963867,-0.3869728446006775,-0.8294857144355774,-0.26908791065216064,-0.3446550667285919,1.0905133485794067,0.891082227230072,0.350766658782959,-0.13488391041755676,0.9519836902618408,-0.07736089825630188,-0.7730798721313477,-1.0091464519500732,0.7316877245903015,1.126157283782959,1.8119378089904785,0.6789175271987915,1.4477022886276245,0.167817622423172,1.1119855642318726,0.49606090784072876,-0.5183606147766113,0.9040010571479797,0.6134395003318787,0.6841578483581543,-0.43346264958381653,-0.35912269353866577,0.04755106195807457,0.03570152819156647,-0.9997403621673584,0.2775287926197052,1.3608665466308594,0.9108346104621887,-0.29239746928215027,1.0419954061508179,-0.9501830339431763,-0.4667423665523529,0.05500347167253494,-1.0015214681625366,-0.3829788863658905,0.512220025062561,0.971286416053772,-0.7860747575759888,-0.18068455159664154,-0.1170344203710556,0.9549650549888611,1.0735814571380615,-0.05468972772359848,0.43023842573165894,1.1033780574798584,-0.01872396282851696,0.09684877097606659,-0.7748842835426331,0.5843688249588013,-0.2795960605144501,0.8075358271598816,0.7319042682647705,1.8316317796707153,1.1412436962127686,0.21364456415176392,-0.46432822942733765,0.07851491123437881,0.4796866178512573,1.2991982698440552,0.1727336198091507,1.6635934114456177,1.526069164276123,0.8385095000267029,1.272810935974121,0.2666396200656891,0.6988412737846375,0.5172851085662842,1.0972297191619873,1.5723145008087158,1.2227370738983154,0.6531469821929932,-0.02440188080072403,0.07182186096906662,0.1452438235282898,-0.2922569811344147,1.9093788862228394,0.42974135279655457,0.5123011469841003,0.32879459857940674,0.44014689326286316,1.3399856090545654,0.36240434646606445,0.4333513677120209,0.8781325817108154,0.21703802049160004,0.4360097348690033,0.008105387911200523,0.1590118706226349,-0.32845479249954224,0.6650216579437256,-0.055666737258434296,-0.12695801258087158,0.1431107074022293,0.33799564838409424,0.8336796760559082,1.7846848964691162,0.8927632570266724,0.8042578101158142,0.31944411993026733,-0.3465934991836548,1.077226996421814,1.1685097217559814,0.2643650770187378,0.1452997922897339,1.206605315208435,1.955255389213562,-0.3878639042377472,0.6296594142913818,0.8896142244338989,2.385270357131958,-0.9675720930099487,0.5285899043083191,0.7153506875038147,0.11996369063854218,-0.2308056801557541,0.848944365978241,-0.16649070382118225,-0.6641442775726318,0.19750890135765076,0.1044166311621666,-0.473673552274704,0.3767099380493164,0.08111752569675446,0.3757494390010834,-0.933348536491394,0.2797482907772064,0.11454418301582336,0.7084172368049622,0.28060537576675415,0.1134243831038475,-0.5062902569770813,-0.14439861476421356,0.4006677567958832,-0.3264622986316681,-0.10606799274682999,-0.07555214315652847,0.4112788140773773],\"y\":[0.38952478766441345,-0.7194118499755859,-0.9313748478889465,-0.0799461305141449,0.16080768406391144,0.1662186235189438,0.17666195333003998,0.4912443161010742,-0.3278699815273285,-0.1192082092165947,-0.3377283811569214,1.1153852939605713,0.29043784737586975,-0.03762190788984299,-0.577634871006012,0.04909312352538109,-1.0961030721664429,0.1279066950082779,-0.1459978222846985,-0.039330776780843735,-0.8919520974159241,-0.16430599987506866,-0.6622768044471741,0.7423911094665527,-0.3034500777721405,0.3798915445804596,-0.12703710794448853,-1.2450979948043823,-1.267143726348877,0.6980881690979004,-1.3002487421035767,-0.35540708899497986,0.10470810532569885,-0.8108660578727722,-0.557324230670929,0.2749633193016052,-0.27010539174079895,-0.05565423518419266,-0.5251110196113586,-0.4417828917503357,-0.5799136161804199,-0.763405442237854,-1.37273108959198,-0.2952204644680023,0.11852049082517624,-0.7292602062225342,-0.847865879535675,-0.10031119734048843,-0.7927395105361938,-0.9444509148597717,-0.9349135756492615,-1.6549896001815796,-0.4190141260623932,-2.158360242843628,-0.8817805647850037,-0.6204957365989685,-0.9644324779510498,0.9975112080574036,0.09455826878547668,0.19884337484836578,0.04749012738466263,-0.47260773181915283,-1.335537075996399,-0.7138776779174805,0.6358120441436768,-2.019263505935669,-1.1386620998382568,-1.2757365703582764,-1.252702236175537,-0.39510613679885864,0.23714657127857208,0.061764948070049286,0.22177451848983765,-0.9992570281028748,0.9422579407691956,0.8517220616340637,-0.06260097026824951,-1.767371416091919,-0.3696828782558441,0.633958637714386,-0.4871261417865753,-0.4064665138721466,-0.15195496380329132,0.055978357791900635,-0.6087631583213806,0.8107832670211792,-0.34772321581840515,0.12343248724937439,-1.4964649677276611,-0.06850358098745346,0.5325981974601746,-0.6681451797485352,-1.9243086576461792,0.5542199611663818,-0.3660106956958771,-0.3379933834075928,0.7974183559417725,0.5023702383041382,1.0874052047729492,-0.6521379351615906,0.49239495396614075,-0.008275109343230724,0.31154781579971313,-0.9117499589920044,-0.034223876893520355,0.1734568327665329,-0.11394298076629639,-0.6602955460548401,-0.518513023853302,-0.19507203996181488,-0.7645399570465088,0.4687561094760895,0.8727490901947021,-0.5808862447738647,-0.9225999116897583,-0.7609942555427551,-1.0288302898406982,0.1796121597290039,0.10098976641893387,0.2837558388710022,-0.5910984873771667,0.5217381715774536,-0.7280470728874207,0.2600802183151245,-0.326107919216156,-0.095301553606987,-0.4150993227958679,-0.6775810718536377,0.01195443794131279,-0.6117268800735474,-0.7089441418647766,0.7698367238044739,-0.5608067512512207,-0.9976816773414612,0.892275333404541,-0.7358206510543823,-0.12262964248657227,-0.7513590455055237,-0.880412220954895,-0.12636741995811462,0.3038795292377472,-0.22472169995307922,0.09826259315013885,-0.45516324043273926,-0.1393468976020813,-0.9501916766166687,-0.6328683495521545,-1.0376709699630737,-0.09611262381076813,0.07603271305561066,-0.04008917883038521,-0.5887916088104248,0.20614421367645264,0.23170329630374908,-0.6920316815376282,0.5285611748695374,-0.15008196234703064,-1.3458540439605713,0.7089849710464478,-0.3035539388656616,-0.2547101080417633,1.107682466506958,0.06492671370506287,-0.913203239440918,0.10279514640569687,0.1619095355272293,-1.1244735717773438,-0.8908659219741821,-0.009175227023661137,-0.3340575695037842,-1.1876239776611328,0.5934782028198242,-0.8559691905975342,-0.9398050308227539,-1.412793517112732,-0.16160327196121216,-1.5580815076828003,0.12343928217887878,0.5751526951789856,-0.10891488194465637,-1.3631185293197632,-0.7726565003395081,-0.20054811239242554,-1.3852876424789429,-0.5647872686386108,-0.8481992483139038,0.037395741790533066,-0.36947882175445557,-0.01739068329334259,0.7529223561286926,0.33427539467811584,-0.3026963770389557,0.02076995186507702,-0.5857453346252441,-0.6681146621704102,-2.2235283851623535,-0.7997666597366333,-1.3563365936279297,-0.1435149610042572,0.23243610560894012,-0.1962251216173172,-0.36532315611839294,-0.7047428488731384,-0.45432335138320923,0.4502149224281311,0.3886224031448364,-0.6060705184936523,-1.0244812965393066,0.5000377893447876,-0.7375901937484741,-0.6883283853530884,0.06553294509649277,-0.37418118119239807,-0.579680860042572,-1.2220628261566162,0.21417051553726196,-0.7948750257492065,-1.2015992403030396,-0.2522866725921631,0.1934904009103775,1.2840789556503296,-0.9212017059326172,0.08762894570827484,-0.1914561539888382,0.012442417442798615,-0.6005039215087891,-0.24213774502277374,0.40297967195510864,0.3293907344341278,-0.23464074730873108,0.5777333378791809,-0.6445248126983643,-0.5305817723274231,-0.07706369459629059,0.5034278631210327,-0.3521669805049896,-0.40452784299850464,0.4000774919986725,0.35190048813819885,0.06424587219953537,-0.3791232109069824,-0.6365246176719666,-0.827279269695282,0.16162313520908356,0.1694124937057495,-1.1406610012054443,-0.6839512586593628,0.09538684785366058,-0.5065092444419861,0.551298975944519,-0.602629542350769,-0.42493611574172974,-1.4711742401123047,-0.6528627276420593,-0.20657171308994293,-1.630408525466919,-0.5100054740905762,-1.3776850700378418,-0.44137758016586304,-1.135059118270874,-0.7324246764183044,-0.20606674253940582,-1.2882099151611328,0.5560834407806396,-0.42732080817222595,0.5311398506164551,-1.6594266891479492,0.007475921418517828,-0.8774130940437317,-0.10363156348466873,-1.972535252571106,0.38588836789131165,0.2994837462902069,0.3234945833683014,0.3837255835533142,-0.973292350769043,-0.36194276809692383,-0.7997471690177917,1.4628384113311768,-0.9706418514251709,-0.7009703516960144,0.09612315148115158,0.7824772596359253,-0.4110132157802582,0.8959611058235168,0.5636538863182068,-1.4526203870773315,-1.639405608177185,0.015368225984275341,0.029011037200689316,-1.0555270910263062,0.2027187943458557,-1.580898642539978,-0.9127601385116577,-0.4473273754119873,-1.0408527851104736,-1.4656672477722168,-0.689650297164917,-0.1346140205860138,-1.57548189163208,0.17949433624744415,-1.367262840270996,0.043223731219768524,-0.7916666865348816,-0.6923744678497314,0.013163883239030838,-1.8094319105148315,-0.1655644327402115,-0.8982324600219727,-0.847234845161438,0.17014649510383606,0.30507758259773254,0.02198811247944832,-0.842353105545044,0.2074446976184845,0.0897018313407898,1.2425228357315063,-0.5890942811965942,-0.7336732149124146,-0.29552125930786133,0.40118762850761414,0.5027348399162292,0.1986907571554184,-0.17628785967826843,-0.38333508372306824,0.9025405645370483,0.27229997515678406,-1.0559885501861572,0.7457629442214966,0.9064142107963562,-0.35918352007865906,-1.4474157094955444,0.49577295780181885,-0.014786140993237495,-0.13948574662208557,-1.1051597595214844,-0.7415281534194946,-0.11418001353740692,-0.3205013573169708,-0.5223843455314636,-0.8118646740913391,-0.024990174919366837,-0.13103464245796204,0.2674006521701813,-0.5996800065040588,-0.4378635883331299,-0.929547131061554,-1.972619891166687,0.47295865416526794,-0.06488005816936493,-1.343813419342041,-0.44697049260139465,-0.5873701572418213,0.1957831233739853,0.30270203948020935,-1.0877211093902588,-0.207331582903862,0.12817442417144775,-1.055650234222412,-0.6678297519683838,0.34563732147216797,0.1309775859117508,-0.49761897325515747,1.2749876976013184,0.1552925854921341,0.2291523814201355,-0.906034529209137,-0.2049204409122467,-2.0063045024871826,-0.11555677652359009,-0.24583056569099426,-0.9258782267570496,0.005160664673894644,0.485098272562027,-0.41059568524360657,-0.8551316857337952,0.26057639718055725,0.9256265759468079,-0.17949233949184418,0.4663437604904175,0.1567542850971222,-0.5215157270431519,-0.9553066492080688,-0.19473105669021606,0.1417316198348999,0.5719032883644104,-0.7510767579078674,-0.6016445755958557,-0.9942513108253479,0.544875979423523,0.060980550944805145,0.10644068568944931,-1.200622797012329,0.4864809215068817,-0.20016755163669586,0.10028692334890366,-0.22438333928585052,-1.0736234188079834,-0.30739402770996094,-1.1004360914230347,-0.890030562877655,-0.1730281263589859,-0.19711728394031525,-0.5751503109931946,-1.1763112545013428,0.4363064467906952,-1.0227422714233398,0.5377423763275146,-1.0605233907699585,-0.2828173339366913,-0.02950217016041279,0.7378115057945251,-0.9164672493934631,0.8715868592262268,0.34585264325141907,0.0014661368913948536,-1.0650782585144043,0.6924993395805359,-0.8794921636581421,0.42697814106941223,-0.530420184135437,-0.10521603375673294,0.9680474996566772,0.7539012432098389,0.19929254055023193,-0.7625593543052673,-1.0476197004318237,-1.030441164970398,0.4653761088848114,0.016778144985437393,-0.7240626215934753,-0.2870432734489441,-0.30703824758529663,-0.44018688797950745,-0.2654612362384796,-0.17387203872203827,-0.13216039538383484,-0.4324389100074768,-0.07834171503782272,0.7075921893119812,0.1916586458683014,0.6481307744979858,-0.9553111791610718,0.18734170496463776,-0.03521042317152023,-0.3629876673221588,0.1511453241109848,-0.5123019814491272,-0.5084757804870605,0.015462338924407959,1.9767398834228516,-0.8318544030189514,-0.2556319534778595,-0.5881884098052979,-1.309497356414795,0.41281992197036743,-0.5697349905967712,-0.35383182764053345,-0.3333975374698639,0.2506415545940399,-0.6400619149208069,-1.8407095670700073,0.01750355400145054,-0.4266432821750641,-0.4875533878803253,0.11105968803167343,-1.2499349117279053,-0.048967160284519196,-0.5313176512718201,0.7118396759033203,0.5442616939544678,0.19615338742733002,0.5178205370903015,-0.3603905737400055,0.0016231480985879898,-1.0783672332763672,-1.326390027999878,-0.02490491233766079,0.38191598653793335,-0.43019673228263855,-0.3535462021827698,-0.18565352261066437,-0.40762859582901,-0.28261786699295044,0.05570165812969208,-0.680106520652771,-0.1550426185131073,1.1544374227523804,0.6713101267814636,-0.47066789865493774,-0.4567777216434479,-8.57663617352955e-05,-0.9911283254623413,-0.10804606229066849,-0.4924534857273102,-0.6146960854530334,0.17907559871673584,-1.4090827703475952,0.6216609477996826,-0.9895238280296326,-1.5049635171890259,-0.6639984846115112,-0.5908467173576355,0.7209354639053345,-1.198089361190796,-0.24871519207954407,0.09049585461616516,0.8055228590965271,0.27844709157943726,-0.25593364238739014,-0.42038092017173767,0.14977802336215973,-0.6756193041801453,-0.39310622215270996,-1.4341024160385132,-0.014877636916935444,-0.3173849880695343,0.08683767169713974,-0.3216494619846344,-0.3427174389362335,-0.24396297335624695,-0.055427126586437225,-0.08355174213647842,0.25047802925109863,-0.11696670949459076,0.1196289137005806,0.05229787528514862,0.02003815770149231,-0.9541622400283813,-0.5351466536521912,-0.38804784417152405,-0.5715303421020508,-0.28999149799346924,0.5880021452903748,-0.830993115901947,-0.45991435647010803,-0.01484344620257616,-0.9429165124893188,-0.32115063071250916,-0.30395233631134033,-0.5093610882759094,-1.44608473777771,0.02311626262962818,-0.2694285213947296,-0.6653154492378235,-0.3566274344921112,-0.7684814929962158,-0.7564094066619873,-1.5288877487182617,0.07383839040994644,0.1485564261674881,-1.1645365953445435,0.4912734031677246,-0.9675275683403015,-0.40491122007369995,-1.576479196548462,-0.6745169758796692,-0.8895418047904968,0.12442663311958313,-0.2267661839723587,0.9820029735565186,0.16082768142223358,0.49295270442962646,-1.3259979486465454,0.18715117871761322,-0.651361346244812,-0.7035661339759827,-1.14677095413208,-0.4173368513584137,0.11216046661138535,-0.35978636145591736,0.0020405775867402554,0.6378230452537537,-0.6718665361404419,-0.3526696562767029,1.0202841758728027,0.4602070450782776,0.48281314969062805,1.1653841733932495,-0.15463468432426453,-0.08608313649892807,-1.8462539911270142,-0.27602776885032654,-0.6429067850112915,-0.10063429176807404,-0.3568991422653198,-0.0048757391050457954,0.26516303420066833,0.17534683644771576,0.015519941225647926,-0.5642163157463074,-0.7771338820457458,-0.08847350627183914,-0.34581416845321655,-1.8156286478042603,-0.43460527062416077,-0.32627105712890625,0.14467361569404602,-1.0271519422531128,-0.33979731798171997,0.5762156248092651,-0.18985776603221893,-0.8843485713005066,0.14256343245506287,0.7157806754112244,-0.39854007959365845,-0.9653966426849365,-0.181866854429245,0.7384746074676514,-0.27525025606155396,-0.48515644669532776,-1.9145841598510742,0.47661277651786804,-0.12929172813892365,1.0710225105285645,-0.19489392638206482,-0.20141586661338806,0.29680752754211426,-0.5030862092971802,0.39552247524261475,-0.8293240666389465,-1.7208975553512573,-0.664295494556427,0.6264178156852722,-0.24784882366657257,-1.0391064882278442,-0.1289159059524536,0.27596887946128845,0.5406638979911804,-0.30116885900497437,-0.04016800969839096,-1.6780227422714233,0.30603623390197754,0.869117021560669,-0.5889434814453125,0.18456068634986877,-1.5887287855148315,-0.03310732543468475,0.3287166357040405,-0.3763332962989807,-0.8359493613243103,0.32612454891204834,0.24917930364608765,-0.7852491736412048,-0.5880152583122253,-1.7513210773468018,1.2669323682785034,1.2740579843521118,-1.3961143493652344,0.8480249047279358,-0.234817773103714,-0.7226099371910095,1.0107394456863403,0.1811109483242035,1.49489164352417,0.09753879904747009,-0.11694137006998062,0.23067383468151093,-1.6399874687194824,-0.21961770951747894,0.23544247448444366,-0.8588036894798279,-0.1840764582157135,1.0259571075439453,0.0907159373164177,-0.34659621119499207,0.5525680780410767,-0.46180859208106995,-1.0203090906143188,-1.221724510192871,0.5484537482261658,-0.7040519118309021,2.1112422943115234,-0.01810142956674099,0.09151986241340637,0.053456347435712814,-2.0908689498901367,-0.9537206292152405,0.3331645727157593,-0.05235069617629051,-2.212515354156494,-0.10755691677331924,-0.2762175500392914,-0.12362314015626907,0.45370587706565857,-0.04572898894548416,0.5636669993400574,0.11974900215864182,1.158307671546936,-0.4921880066394806,-0.6332949995994568,1.0501554012298584,0.6294434666633606,0.27423614263534546,0.16651631891727448,-0.5563942193984985,-0.5244960188865662,-0.902980625629425,0.39922037720680237,-0.0645010694861412,-0.4685156047344208,-1.4208202362060547,-0.27508464455604553,-0.2954785227775574,0.957687497138977,0.32020023465156555,0.15051566064357758,-0.9491042494773865,-0.0129734817892313,0.19225214421749115,-1.2178162336349487,-0.4417555332183838,0.9955888390541077,-0.31902796030044556,-0.2950459122657776,-0.5527713298797607,-0.4451950192451477,-0.8955116868019104,-0.1274302452802658,-0.8213909268379211,-1.0167992115020752,-0.8569772243499756,0.5531554222106934,0.6589813232421875,-0.4151240289211273,-1.4012213945388794,-1.208037257194519,-0.05424463003873825,0.2763634920120239,0.2865728735923767,-0.6166868805885315,-0.8499972820281982,-1.1753909587860107,0.02221401035785675,-0.1650032103061676,-1.0712977647781372,-1.0778692960739136,0.3017740249633789,-1.0164955854415894,0.05926600843667984,-0.6322790384292603,-0.08733125030994415,-0.09419380873441696,0.19804200530052185,-1.067062258720398,0.31133198738098145,0.4353097379207611,-0.21210864186286926,-0.8225107789039612,0.10539635270833969,-1.415063738822937,0.015847889706492424,-0.04642902687191963,-0.33044081926345825,0.17036579549312592,-0.182410329580307,-0.43770670890808105,-0.879796028137207,-0.548566460609436,-1.4856624603271484,-0.2930219769477844,-0.12609390914440155,-0.10061071068048477,-0.7154897451400757,-1.4940683841705322,-0.3533465266227722,-1.236153483390808,-0.7814947962760925,-0.30096152424812317,0.7876189351081848,0.16639523208141327,1.2239725589752197,-0.02326369658112526,-0.2265404313802719,-0.3995774984359741,0.19008708000183105,-1.1119664907455444,-1.1735392808914185,-0.622288167476654,-0.2886013686656952,-0.34259557723999023,0.03198149800300598,-0.59998619556427,0.14695024490356445,-0.15317711234092712,0.5705711841583252,-1.3201402425765991,-0.3880903124809265,0.1413465142250061,-0.4642132520675659,0.5032551288604736,-0.4865354597568512,0.17454829812049866,-0.3612501323223114,-0.2587563991546631,0.0268191359937191,-0.017422957345843315,0.3177658021450043,0.1613381803035736,-0.11490622162818909,0.4142570495605469,0.09432287514209747,-1.5484663248062134,0.4350684583187103,-0.43852344155311584,0.08973413705825806,0.11962573230266571,-0.48389115929603577,-0.1556510627269745,-0.0898566022515297,-0.3812943994998932,-0.34875985980033875,-1.7323331832885742,0.4982156753540039,0.4134330749511719,-0.5138576030731201,-0.6178664565086365,-0.5307474136352539,0.558271586894989,-0.3255387246608734,0.27167901396751404,-0.41960689425468445,0.3901742696762085,0.142445370554924,0.06800923496484756,-0.9528750777244568,0.22574932873249054,-0.9338940978050232,-0.9609962701797485,-1.4458839893341064,-1.1365400552749634,0.581166684627533,-0.6472111344337463,-0.004650947637856007,-0.11045519262552261,-0.1926129013299942,0.8634463548660278,-0.24872781336307526,-0.8966029286384583,0.6431447863578796,-0.7965793013572693,0.05857998877763748,-0.46061572432518005,-0.30673593282699585,-0.3608919680118561,1.114408016204834,0.7823024988174438,-0.2635836601257324,-0.6849322319030762,-2.0340654850006104,-1.0897444486618042,-0.5057287812232971,0.5645596385002136,-0.33020851016044617,-0.8507637977600098,-0.4938424825668335,0.24432019889354706,0.5949515104293823,-0.6294419765472412,-0.204803928732872,0.9345700740814209,0.4178483784198761,0.17415623366832733,-1.3084734678268433,-0.026899367570877075,-0.39285650849342346,-0.06874281167984009,1.2072292566299438,-0.6278440952301025,0.5740554928779602,0.019871177151799202,-0.10043932497501373,-0.5553017854690552,-1.0119434595108032,0.6071544289588928,0.27106940746307373,-0.011103685013949871,0.11383175104856491,0.5417399406433105,0.12097932398319244,-0.7491379380226135,0.4039771258831024,-1.3109869956970215,1.2650598287582397,0.9766537547111511,-1.2241426706314087,-1.037677526473999,0.4091370105743408,0.3251953721046448,-0.5098949074745178,0.13163281977176666,0.04824201017618179,-0.11587414890527725,0.2012910395860672,0.027742357924580574,-0.738544762134552,-0.2784811854362488,0.1869206577539444,-1.110094428062439,0.5912777781486511,-0.53420490026474,-0.3408333957195282,0.30411264300346375,0.26373690366744995,0.09225057810544968,0.19803449511528015,0.6364347338676453,-0.35195446014404297,-0.8107540607452393,-0.5414162874221802,0.34348583221435547,-0.4824225902557373,-0.8330478072166443,-0.04764217138290405,-1.087847352027893,0.05163690820336342,-0.18218067288398743,-0.12362976372241974,-1.6197845935821533,-0.08334887772798538,0.5708503127098083,0.31017565727233887,-0.21675358712673187,-1.6334251165390015,-0.36740440130233765,-0.029109584167599678,-0.471823126077652,0.03969188779592514,-1.163818120956421,0.6242263913154602,0.6469405889511108,-0.2968286871910095,-0.36017778515815735,-0.39209887385368347,-0.6799456477165222,-1.1899901628494263,-0.33546683192253113,-0.3706303536891937,-0.6341357231140137,-0.3294544219970703,0.0896957516670227,-0.6121566891670227,-1.2191756963729858,0.24471041560173035,-0.34112417697906494,-0.14682552218437195,-0.04909583553671837,-0.3558153212070465,-0.09261345863342285,0.01815626583993435,-0.47719934582710266,0.893129825592041,-2.0311102867126465,-0.49361005425453186,-0.4090770483016968,0.22782456874847412,-0.5582508444786072,-0.5437415242195129,-0.3325309157371521,-0.9771095514297485,0.3863530158996582,-0.025389768183231354,-0.3115103244781494,0.8308150768280029,0.407340407371521,-0.7835658192634583,0.01334540918469429,-0.6190618276596069,0.546899139881134,-1.4313222169876099,0.1603422313928604,1.5950736999511719,-1.205033540725708,0.19506438076496124,-0.7156798243522644,0.4407912790775299,-1.3911858797073364,-0.01676495373249054,1.475040078163147,0.5764201879501343,-0.2976548671722412,-0.3456621766090393,-0.715848445892334,-0.04999466612935066,-1.203565001487732,-0.5331685543060303,0.4892022907733917,0.09715518355369568,-0.08743103593587875,0.2865745723247528,0.2269599288702011,0.36279231309890747,0.37787511944770813,0.6559949517250061,0.6830276846885681,-0.9272480010986328,-0.6546922922134399,-0.17413334548473358,-0.13072644174098969,0.8089830875396729,0.06664716452360153,0.042024336755275726,-0.6479204893112183,-0.006872580386698246,-0.719565212726593,-0.1413903683423996,-0.4190605580806732,0.5653083920478821,1.0858243703842163,-0.6963573098182678,0.21809792518615723,-0.47401905059814453,0.27660250663757324,0.2914513349533081,0.5332418084144592,-0.3071448504924774,0.8114838004112244,-0.4129602015018463,-0.5579997301101685,-0.19611434638500214,-0.9296502470970154,-0.3592316210269928,-0.5496425032615662,1.055698037147522,-0.5845916271209717,-0.19159388542175293,0.47496697306632996,-0.5174931287765503,-1.9202395677566528,-0.06821746379137039,0.390956848859787,0.3037165701389313,0.6381429433822632,-0.16410623490810394,-0.09207572042942047,-1.0469591617584229,-1.244217038154602,-1.375428318977356,-0.2674058675765991,0.26097238063812256,-0.7508754134178162,0.8148710131645203,-2.2332077026367188,-0.021174374967813492,-0.3005170226097107,0.1568508893251419,0.2658907473087311,-0.9343737363815308,0.08681738376617432,0.38027533888816833,0.6098827123641968,-1.4021873474121094,-0.18256275355815887,1.2759367227554321,0.15555301308631897,-0.3910670280456543,0.39001139998435974,0.28502699732780457,-0.2183390110731125,0.17480984330177307,-0.7563249468803406,-1.1209726333618164,-0.39384427666664124,-0.0461549274623394,0.7521149516105652,0.2468891143798828,0.33061885833740234,0.8429737091064453,0.07291089743375778,0.14477841556072235,0.3892955183982849,-0.20927168428897858,-0.6985414624214172,-0.3215788006782532,-0.7515962719917297,0.4691771864891052,-0.7106238007545471,-1.0407450199127197,-0.16012662649154663,-0.5944064855575562,0.17151716351509094,-2.0921902656555176,-1.5556143522262573,-0.17549708485603333,-1.132352352142334,-1.2030048370361328,-1.3406245708465576,0.058520376682281494,0.05768991634249687,-0.17186155915260315,0.15230998396873474,-0.8742182850837708,-0.5688514709472656,-0.5540906190872192,0.38387539982795715,-0.013980666175484657,-0.2562504708766937,-0.8597736954689026,0.04773657023906708,0.09789827466011047,0.6706264615058899,-1.7563430070877075,-1.3371700048446655,-0.835050642490387,0.09466315805912018,-0.994454562664032,0.4463226795196533,0.8069897294044495,-0.864055335521698,0.24456970393657684,-0.27882853150367737,0.14993834495544434,0.20712614059448242,-0.42096641659736633,-1.2835350036621094,0.008380250073969364,-0.17870308458805084,-0.6919963955879211,0.15771222114562988,0.06666631996631622,-0.3968158960342407,-0.42473238706588745,-1.0426474809646606,-1.1783323287963867,-1.3245400190353394,-1.593623399734497,0.6736121773719788,1.2114161252975464,-1.0037568807601929,0.4180298447608948,-0.025302238762378693,-0.36995434761047363,-0.14716926217079163,-0.5383635759353638,-1.5270285606384277,-1.0824967622756958,0.900749683380127,-0.4859091341495514,-0.7250099778175354,-0.04280773177742958,-0.5333249568939209,-1.2877581119537354,-0.7044152021408081,-1.6338980197906494,0.17873983085155487,-0.690552294254303,0.2725178003311157,-0.9070797562599182,0.4574618339538574,-0.5022199153900146,-0.6227602362632751,0.370709627866745,-1.1209297180175781,-0.2352500557899475,-0.3642060160636902,-0.5995959639549255,-0.701974093914032,-0.3516484498977661,-0.48794010281562805,0.2465011328458786,-1.5402247905731201,0.6120930910110474,-0.35607776045799255,-1.080278754234314,-0.12572938203811646,-0.008755512535572052,0.24865390360355377,0.15989957749843597,-1.6173239946365356,-0.08743858337402344,1.740944266319275,-0.1895671933889389,-0.22081808745861053,-0.06298454105854034,-1.791687250137329,-0.8328214883804321,0.08055492490530014,-1.3185936212539673,-0.28646180033683777,-1.2431156635284424,-0.3423154652118683,-0.9911125302314758,-1.7618544101715088,-1.2083845138549805,-2.059596061706543,-0.0033316509798169136,-0.2136784791946411,-0.8770506978034973,-1.5298856496810913,-0.2161944955587387,-0.8016291260719299,-0.36699968576431274,1.226324200630188,0.15188254415988922,-1.663040041923523,-0.3785087466239929,-0.622570812702179,1.0413628816604614,-1.1577166318893433,-1.6217412948608398,0.5674552321434021,0.21678780019283295,-0.06664889305830002,0.5999342799186707,-0.9001407623291016,-1.1726354360580444,-0.02350177802145481,1.1828457117080688,0.24077774584293365,-0.9188879728317261,0.5147980451583862,-1.5571165084838867,-0.44642090797424316,-0.26273053884506226,-1.0237693786621094,-0.12266618013381958,-0.8315325379371643,-0.46564799547195435,0.837957501411438,-0.1313047558069229,-0.04489903897047043,0.8623106479644775,0.37980160117149353,-0.6560604572296143,0.09836804121732712,-0.579664945602417,0.22314606606960297,-1.4238637685775757,-0.20095203816890717,-0.4570735991001129,-1.4228110313415527,0.11906713247299194,0.34567978978157043,-1.3341740369796753,0.3225839138031006,-0.3707537353038788,-0.41271504759788513,0.7300676703453064,-0.20367006957530975,0.029669297859072685,-0.2000255584716797,-0.16369612514972687,0.6563092470169067,-0.1323758065700531,0.6031221151351929,-0.21184897422790527,-0.0463542640209198,0.2392342984676361,-0.3574906289577484,-0.784866213798523],\"type\":\"scattergl\"}],                        {\"height\":800,\"hovermode\":\"closest\",\"title\":{\"text\":\"Some Title =)\"},\"width\":800,\"xaxis\":{\"zeroline\":false},\"yaxis\":{\"zeroline\":false},\"template\":{\"data\":{\"histogram2dcontour\":[{\"type\":\"histogram2dcontour\",\"colorbar\":{\"outlinewidth\":0,\"ticks\":\"\"},\"colorscale\":[[0.0,\"#0d0887\"],[0.1111111111111111,\"#46039f\"],[0.2222222222222222,\"#7201a8\"],[0.3333333333333333,\"#9c179e\"],[0.4444444444444444,\"#bd3786\"],[0.5555555555555556,\"#d8576b\"],[0.6666666666666666,\"#ed7953\"],[0.7777777777777778,\"#fb9f3a\"],[0.8888888888888888,\"#fdca26\"],[1.0,\"#f0f921\"]]}],\"choropleth\":[{\"type\":\"choropleth\",\"colorbar\":{\"outlinewidth\":0,\"ticks\":\"\"}}],\"histogram2d\":[{\"type\":\"histogram2d\",\"colorbar\":{\"outlinewidth\":0,\"ticks\":\"\"},\"colorscale\":[[0.0,\"#0d0887\"],[0.1111111111111111,\"#46039f\"],[0.2222222222222222,\"#7201a8\"],[0.3333333333333333,\"#9c179e\"],[0.4444444444444444,\"#bd3786\"],[0.5555555555555556,\"#d8576b\"],[0.6666666666666666,\"#ed7953\"],[0.7777777777777778,\"#fb9f3a\"],[0.8888888888888888,\"#fdca26\"],[1.0,\"#f0f921\"]]}],\"heatmap\":[{\"type\":\"heatmap\",\"colorbar\":{\"outlinewidth\":0,\"ticks\":\"\"},\"colorscale\":[[0.0,\"#0d0887\"],[0.1111111111111111,\"#46039f\"],[0.2222222222222222,\"#7201a8\"],[0.3333333333333333,\"#9c179e\"],[0.4444444444444444,\"#bd3786\"],[0.5555555555555556,\"#d8576b\"],[0.6666666666666666,\"#ed7953\"],[0.7777777777777778,\"#fb9f3a\"],[0.8888888888888888,\"#fdca26\"],[1.0,\"#f0f921\"]]}],\"heatmapgl\":[{\"type\":\"heatmapgl\",\"colorbar\":{\"outlinewidth\":0,\"ticks\":\"\"},\"colorscale\":[[0.0,\"#0d0887\"],[0.1111111111111111,\"#46039f\"],[0.2222222222222222,\"#7201a8\"],[0.3333333333333333,\"#9c179e\"],[0.4444444444444444,\"#bd3786\"],[0.5555555555555556,\"#d8576b\"],[0.6666666666666666,\"#ed7953\"],[0.7777777777777778,\"#fb9f3a\"],[0.8888888888888888,\"#fdca26\"],[1.0,\"#f0f921\"]]}],\"contourcarpet\":[{\"type\":\"contourcarpet\",\"colorbar\":{\"outlinewidth\":0,\"ticks\":\"\"}}],\"contour\":[{\"type\":\"contour\",\"colorbar\":{\"outlinewidth\":0,\"ticks\":\"\"},\"colorscale\":[[0.0,\"#0d0887\"],[0.1111111111111111,\"#46039f\"],[0.2222222222222222,\"#7201a8\"],[0.3333333333333333,\"#9c179e\"],[0.4444444444444444,\"#bd3786\"],[0.5555555555555556,\"#d8576b\"],[0.6666666666666666,\"#ed7953\"],[0.7777777777777778,\"#fb9f3a\"],[0.8888888888888888,\"#fdca26\"],[1.0,\"#f0f921\"]]}],\"surface\":[{\"type\":\"surface\",\"colorbar\":{\"outlinewidth\":0,\"ticks\":\"\"},\"colorscale\":[[0.0,\"#0d0887\"],[0.1111111111111111,\"#46039f\"],[0.2222222222222222,\"#7201a8\"],[0.3333333333333333,\"#9c179e\"],[0.4444444444444444,\"#bd3786\"],[0.5555555555555556,\"#d8576b\"],[0.6666666666666666,\"#ed7953\"],[0.7777777777777778,\"#fb9f3a\"],[0.8888888888888888,\"#fdca26\"],[1.0,\"#f0f921\"]]}],\"mesh3d\":[{\"type\":\"mesh3d\",\"colorbar\":{\"outlinewidth\":0,\"ticks\":\"\"}}],\"scatter\":[{\"fillpattern\":{\"fillmode\":\"overlay\",\"size\":10,\"solidity\":0.2},\"type\":\"scatter\"}],\"parcoords\":[{\"type\":\"parcoords\",\"line\":{\"colorbar\":{\"outlinewidth\":0,\"ticks\":\"\"}}}],\"scatterpolargl\":[{\"type\":\"scatterpolargl\",\"marker\":{\"colorbar\":{\"outlinewidth\":0,\"ticks\":\"\"}}}],\"bar\":[{\"error_x\":{\"color\":\"#2a3f5f\"},\"error_y\":{\"color\":\"#2a3f5f\"},\"marker\":{\"line\":{\"color\":\"#E5ECF6\",\"width\":0.5},\"pattern\":{\"fillmode\":\"overlay\",\"size\":10,\"solidity\":0.2}},\"type\":\"bar\"}],\"scattergeo\":[{\"type\":\"scattergeo\",\"marker\":{\"colorbar\":{\"outlinewidth\":0,\"ticks\":\"\"}}}],\"scatterpolar\":[{\"type\":\"scatterpolar\",\"marker\":{\"colorbar\":{\"outlinewidth\":0,\"ticks\":\"\"}}}],\"histogram\":[{\"marker\":{\"pattern\":{\"fillmode\":\"overlay\",\"size\":10,\"solidity\":0.2}},\"type\":\"histogram\"}],\"scattergl\":[{\"type\":\"scattergl\",\"marker\":{\"colorbar\":{\"outlinewidth\":0,\"ticks\":\"\"}}}],\"scatter3d\":[{\"type\":\"scatter3d\",\"line\":{\"colorbar\":{\"outlinewidth\":0,\"ticks\":\"\"}},\"marker\":{\"colorbar\":{\"outlinewidth\":0,\"ticks\":\"\"}}}],\"scattermapbox\":[{\"type\":\"scattermapbox\",\"marker\":{\"colorbar\":{\"outlinewidth\":0,\"ticks\":\"\"}}}],\"scatterternary\":[{\"type\":\"scatterternary\",\"marker\":{\"colorbar\":{\"outlinewidth\":0,\"ticks\":\"\"}}}],\"scattercarpet\":[{\"type\":\"scattercarpet\",\"marker\":{\"colorbar\":{\"outlinewidth\":0,\"ticks\":\"\"}}}],\"carpet\":[{\"aaxis\":{\"endlinecolor\":\"#2a3f5f\",\"gridcolor\":\"white\",\"linecolor\":\"white\",\"minorgridcolor\":\"white\",\"startlinecolor\":\"#2a3f5f\"},\"baxis\":{\"endlinecolor\":\"#2a3f5f\",\"gridcolor\":\"white\",\"linecolor\":\"white\",\"minorgridcolor\":\"white\",\"startlinecolor\":\"#2a3f5f\"},\"type\":\"carpet\"}],\"table\":[{\"cells\":{\"fill\":{\"color\":\"#EBF0F8\"},\"line\":{\"color\":\"white\"}},\"header\":{\"fill\":{\"color\":\"#C8D4E3\"},\"line\":{\"color\":\"white\"}},\"type\":\"table\"}],\"barpolar\":[{\"marker\":{\"line\":{\"color\":\"#E5ECF6\",\"width\":0.5},\"pattern\":{\"fillmode\":\"overlay\",\"size\":10,\"solidity\":0.2}},\"type\":\"barpolar\"}],\"pie\":[{\"automargin\":true,\"type\":\"pie\"}]},\"layout\":{\"autotypenumbers\":\"strict\",\"colorway\":[\"#636efa\",\"#EF553B\",\"#00cc96\",\"#ab63fa\",\"#FFA15A\",\"#19d3f3\",\"#FF6692\",\"#B6E880\",\"#FF97FF\",\"#FECB52\"],\"font\":{\"color\":\"#2a3f5f\"},\"hovermode\":\"closest\",\"hoverlabel\":{\"align\":\"left\"},\"paper_bgcolor\":\"white\",\"plot_bgcolor\":\"#E5ECF6\",\"polar\":{\"bgcolor\":\"#E5ECF6\",\"angularaxis\":{\"gridcolor\":\"white\",\"linecolor\":\"white\",\"ticks\":\"\"},\"radialaxis\":{\"gridcolor\":\"white\",\"linecolor\":\"white\",\"ticks\":\"\"}},\"ternary\":{\"bgcolor\":\"#E5ECF6\",\"aaxis\":{\"gridcolor\":\"white\",\"linecolor\":\"white\",\"ticks\":\"\"},\"baxis\":{\"gridcolor\":\"white\",\"linecolor\":\"white\",\"ticks\":\"\"},\"caxis\":{\"gridcolor\":\"white\",\"linecolor\":\"white\",\"ticks\":\"\"}},\"coloraxis\":{\"colorbar\":{\"outlinewidth\":0,\"ticks\":\"\"}},\"colorscale\":{\"sequential\":[[0.0,\"#0d0887\"],[0.1111111111111111,\"#46039f\"],[0.2222222222222222,\"#7201a8\"],[0.3333333333333333,\"#9c179e\"],[0.4444444444444444,\"#bd3786\"],[0.5555555555555556,\"#d8576b\"],[0.6666666666666666,\"#ed7953\"],[0.7777777777777778,\"#fb9f3a\"],[0.8888888888888888,\"#fdca26\"],[1.0,\"#f0f921\"]],\"sequentialminus\":[[0.0,\"#0d0887\"],[0.1111111111111111,\"#46039f\"],[0.2222222222222222,\"#7201a8\"],[0.3333333333333333,\"#9c179e\"],[0.4444444444444444,\"#bd3786\"],[0.5555555555555556,\"#d8576b\"],[0.6666666666666666,\"#ed7953\"],[0.7777777777777778,\"#fb9f3a\"],[0.8888888888888888,\"#fdca26\"],[1.0,\"#f0f921\"]],\"diverging\":[[0,\"#8e0152\"],[0.1,\"#c51b7d\"],[0.2,\"#de77ae\"],[0.3,\"#f1b6da\"],[0.4,\"#fde0ef\"],[0.5,\"#f7f7f7\"],[0.6,\"#e6f5d0\"],[0.7,\"#b8e186\"],[0.8,\"#7fbc41\"],[0.9,\"#4d9221\"],[1,\"#276419\"]]},\"xaxis\":{\"gridcolor\":\"white\",\"linecolor\":\"white\",\"ticks\":\"\",\"title\":{\"standoff\":15},\"zerolinecolor\":\"white\",\"automargin\":true,\"zerolinewidth\":2},\"yaxis\":{\"gridcolor\":\"white\",\"linecolor\":\"white\",\"ticks\":\"\",\"title\":{\"standoff\":15},\"zerolinecolor\":\"white\",\"automargin\":true,\"zerolinewidth\":2},\"scene\":{\"xaxis\":{\"backgroundcolor\":\"#E5ECF6\",\"gridcolor\":\"white\",\"linecolor\":\"white\",\"showbackground\":true,\"ticks\":\"\",\"zerolinecolor\":\"white\",\"gridwidth\":2},\"yaxis\":{\"backgroundcolor\":\"#E5ECF6\",\"gridcolor\":\"white\",\"linecolor\":\"white\",\"showbackground\":true,\"ticks\":\"\",\"zerolinecolor\":\"white\",\"gridwidth\":2},\"zaxis\":{\"backgroundcolor\":\"#E5ECF6\",\"gridcolor\":\"white\",\"linecolor\":\"white\",\"showbackground\":true,\"ticks\":\"\",\"zerolinecolor\":\"white\",\"gridwidth\":2}},\"shapedefaults\":{\"line\":{\"color\":\"#2a3f5f\"}},\"annotationdefaults\":{\"arrowcolor\":\"#2a3f5f\",\"arrowhead\":0,\"arrowwidth\":1},\"geo\":{\"bgcolor\":\"white\",\"landcolor\":\"#E5ECF6\",\"subunitcolor\":\"white\",\"showland\":true,\"showlakes\":true,\"lakecolor\":\"white\"},\"title\":{\"x\":0.05},\"mapbox\":{\"style\":\"light\"}}}},                        {\"responsive\": true}                    ).then(function(){\n",
              "                            \n",
              "var gd = document.getElementById('be9017fd-c552-4bf1-8b17-ec1c6c9750d8');\n",
              "var x = new MutationObserver(function (mutations, observer) {{\n",
              "        var display = window.getComputedStyle(gd).display;\n",
              "        if (!display || display === 'none') {{\n",
              "            console.log([gd, 'removed!']);\n",
              "            Plotly.purge(gd);\n",
              "            observer.disconnect();\n",
              "        }}\n",
              "}});\n",
              "\n",
              "// Listen for the removal of the full notebook cells\n",
              "var notebookContainer = gd.closest('#notebook-container');\n",
              "if (notebookContainer) {{\n",
              "    x.observe(notebookContainer, {childList: true});\n",
              "}}\n",
              "\n",
              "// Listen for the clearing of the current output cell\n",
              "var outputEl = gd.closest('.output');\n",
              "if (outputEl) {{\n",
              "    x.observe(outputEl, {childList: true});\n",
              "}}\n",
              "\n",
              "                        })                };                            </script>        </div>\n",
              "</body>\n",
              "</html>"
            ]
          },
          "metadata": {},
          "output_type": "display_data"
        }
      ],
      "source": [
        "embeddings = np.stack(model.vectorize(review_df.review.values))\n",
        "annotations = pd.merge(review_df.movieId, movie_df, left_on='movieId', right_on='id', how='left')['name'].values\n",
        "plot_tsne_embeddings(embeddings, annotations)"
      ]
    },
    {
      "cell_type": "code",
      "execution_count": null,
      "metadata": {
        "id": "OdfhuNzpgWq5"
      },
      "outputs": [],
      "source": [
        "import umap\n",
        "manifold = umap.UMAP().fit(embeddings, review_df.movieId.values)\n",
        "X_reduced = manifold.transform(embeddings)"
      ]
    },
    {
      "cell_type": "code",
      "execution_count": null,
      "metadata": {
        "colab": {
          "base_uri": "https://localhost:8080/",
          "height": 434
        },
        "id": "OutsHKp4XxMo",
        "outputId": "d1d38e84-4c5e-478d-fff7-45fa61cafe2b"
      },
      "outputs": [
        {
          "data": {
            "image/png": "[encoded data removed]",
            "text/plain": [
              "<Figure size 640x480 with 1 Axes>"
            ]
          },
          "metadata": {},
          "output_type": "display_data"
        }
      ],
      "source": [
        "plt.scatter(X_reduced[:, 0], X_reduced[:, 1], c=review_df.movieId.values, s=0.5);"
      ]
    },
    {
      "cell_type": "code",
      "execution_count": null,
      "metadata": {
        "colab": {
          "base_uri": "https://localhost:8080/",
          "height": 817
        },
        "id": "pYkPsQ6EiB_V",
        "outputId": "13924e8f-5040-4763-bdf0-61a0efcf16a4"
      },
      "outputs": [
        {
          "data": {
            "text/html": [
              "<html>\n",
              "<head><meta charset=\"utf-8\" /></head>\n",
              "<body>\n",
              "    <div>            <script src=\"https://cdnjs.cloudflare.com/ajax/libs/mathjax/2.7.5/MathJax.js?config=TeX-AMS-MML_SVG\"></script><script type=\"text/javascript\">if (window.MathJax && window.MathJax.Hub && window.MathJax.Hub.Config) {window.MathJax.Hub.Config({SVG: {font: \"STIX-Web\"}});}</script>                <script type=\"text/javascript\">window.PlotlyConfig = {MathJaxConfig: 'local'};</script>\n",
              "        <script charset=\"utf-8\" src=\"https://cdn.plot.ly/plotly-2.24.1.min.js\"></script>                <div id=\"1df1db6f-4125-469f-9e16-77c46ec6fbdd\" class=\"plotly-graph-div\" style=\"height:800px; width:800px;\"></div>            <script type=\"text/javascript\">                                    window.PLOTLYENV=window.PLOTLYENV || {};                                    if (document.getElementById(\"1df1db6f-4125-469f-9e16-77c46ec6fbdd\")) {                    Plotly.newPlot(                        \"1df1db6f-4125-469f-9e16-77c46ec6fbdd\",                        [{\"marker\":{\"colorscale\":[[0.0,\"#440154\"],[0.1111111111111111,\"#482878\"],[0.2222222222222222,\"#3e4989\"],[0.3333333333333333,\"#31688e\"],[0.4444444444444444,\"#26828e\"],[0.5555555555555556,\"#1f9e89\"],[0.6666666666666666,\"#35b779\"],[0.7777777777777778,\"#6ece58\"],[0.8888888888888888,\"#b5de2b\"],[1.0,\"#fde725\"]],\"line\":{\"width\":0.5},\"opacity\":0.75,\"size\":6},\"mode\":\"markers\",\"name\":\"Embedding\",\"text\":[\"\\u041a\\u0438\\u0431\\u0435\\u0440\\u0434\\u0435\\u0440\\u0435\\u0432\\u043d\\u044f\",\"\\u041a\\u0438\\u0431\\u0435\\u0440\\u0434\\u0435\\u0440\\u0435\\u0432\\u043d\\u044f\",\"\\u041a\\u0438\\u0431\\u0435\\u0440\\u0434\\u0435\\u0440\\u0435\\u0432\\u043d\\u044f\",\"\\u041a\\u0438\\u0431\\u0435\\u0440\\u0434\\u0435\\u0440\\u0435\\u0432\\u043d\\u044f\",\"\\u041a\\u0438\\u0431\\u0435\\u0440\\u0434\\u0435\\u0440\\u0435\\u0432\\u043d\\u044f\",\"\\u041a\\u0438\\u0431\\u0435\\u0440\\u0434\\u0435\\u0440\\u0435\\u0432\\u043d\\u044f\",\"\\u041a\\u0438\\u0431\\u0435\\u0440\\u0434\\u0435\\u0440\\u0435\\u0432\\u043d\\u044f\",\"\\u041a\\u0438\\u0431\\u0435\\u0440\\u0434\\u0435\\u0440\\u0435\\u0432\\u043d\\u044f\",\"\\u041a\\u0438\\u0431\\u0435\\u0440\\u0434\\u0435\\u0440\\u0435\\u0432\\u043d\\u044f\",\"\\u041a\\u0438\\u0431\\u0435\\u0440\\u0434\\u0435\\u0440\\u0435\\u0432\\u043d\\u044f\",\"\\u041a\\u0438\\u0431\\u0435\\u0440\\u0434\\u0435\\u0440\\u0435\\u0432\\u043d\\u044f\",\"\\u041a\\u0438\\u0431\\u0435\\u0440\\u0434\\u0435\\u0440\\u0435\\u0432\\u043d\\u044f\",\"\\u041a\\u0438\\u0431\\u0435\\u0440\\u0434\\u0435\\u0440\\u0435\\u0432\\u043d\\u044f\",\"\\u041a\\u0438\\u0431\\u0435\\u0440\\u0434\\u0435\\u0440\\u0435\\u0432\\u043d\\u044f\",\"\\u0414\\u0436\\u043e\\u043d \\u0423\\u0438\\u043a 4\",\"\\u0414\\u0436\\u043e\\u043d \\u0423\\u0438\\u043a 4\",\"\\u0414\\u0432\\u0430 \\u0445\\u043e\\u043b\\u043c\\u0430\",\"\\u041a\\u0438\\u0431\\u0435\\u0440\\u0434\\u0435\\u0440\\u0435\\u0432\\u043d\\u044f\",\"\\u0414\\u0436\\u043e\\u043d \\u0423\\u0438\\u043a 4\",\"\\u041a\\u0438\\u0431\\u0435\\u0440\\u0434\\u0435\\u0440\\u0435\\u0432\\u043d\\u044f\",\"\\u0414\\u0436\\u043e\\u043d \\u0423\\u0438\\u043a 4\",\"\\u041a\\u043e\\u0440\\u043e\\u043b\\u044c \\u0438 \\u0428\\u0443\\u0442\",\"\\u0412\\u044b\\u0448\\u043a\\u0430\",\"\\u041a\\u0438\\u0431\\u0435\\u0440\\u0434\\u0435\\u0440\\u0435\\u0432\\u043d\\u044f\",\"\\u041a\\u0438\\u0431\\u0435\\u0440\\u0434\\u0435\\u0440\\u0435\\u0432\\u043d\\u044f\",\"\\u041a\\u0438\\u0431\\u0435\\u0440\\u0434\\u0435\\u0440\\u0435\\u0432\\u043d\\u044f\",\"\\u041a\\u0438\\u0431\\u0435\\u0440\\u0434\\u0435\\u0440\\u0435\\u0432\\u043d\\u044f\",\"\\u0417\\u0435\\u043b\\u0435\\u043d\\u0430\\u044f \\u043c\\u0438\\u043b\\u044f\",\"\\u041f\\u043e\\u0431\\u0435\\u0433 \\u0438\\u0437 \\u0428\\u043e\\u0443\\u0448\\u0435\\u043d\\u043a\\u0430\",\"\\u041a\\u043e\\u0440\\u043e\\u043b\\u044c \\u0438 \\u0428\\u0443\\u0442\",\"\\u0414\\u0432\\u0430 \\u0445\\u043e\\u043b\\u043c\\u0430\",\"\\u041a\\u0438\\u0431\\u0435\\u0440\\u0434\\u0435\\u0440\\u0435\\u0432\\u043d\\u044f\",\"\\u041a\\u0438\\u0431\\u0435\\u0440\\u0434\\u0435\\u0440\\u0435\\u0432\\u043d\\u044f\",\"\\u041f\\u043e\\u0431\\u0435\\u0433 \\u0438\\u0437 \\u0428\\u043e\\u0443\\u0448\\u0435\\u043d\\u043a\\u0430\",\"\\u041a\\u0438\\u0431\\u0435\\u0440\\u0434\\u0435\\u0440\\u0435\\u0432\\u043d\\u044f\",\"\\u041a\\u0438\\u0431\\u0435\\u0440\\u0434\\u0435\\u0440\\u0435\\u0432\\u043d\\u044f\",\"\\u041a\\u0438\\u0431\\u0435\\u0440\\u0434\\u0435\\u0440\\u0435\\u0432\\u043d\\u044f\",\"\\u041a\\u0438\\u0431\\u0435\\u0440\\u0434\\u0435\\u0440\\u0435\\u0432\\u043d\\u044f\",\"\\u0414\\u0436\\u043e\\u043d \\u0423\\u0438\\u043a 4\",\"\\u0414\\u0436\\u0435\\u043d\\u0442\\u043b\\u044c\\u043c\\u0435\\u043d\\u044b\",\"\\u0411\\u0435\\u0441\\u043f\\u0440\\u0438\\u043d\\u0446\\u0438\\u043f\\u043d\\u044b\\u0435 \\u0432 \\u0434\\u0435\\u0440\\u0435\\u0432\\u043d\\u0435\",\"\\u0414\\u0432\\u0430 \\u0445\\u043e\\u043b\\u043c\\u0430\",\"\\u0414\\u0436\\u043e\\u043a\\u0435\\u0440\",\"\\u0414\\u0436\\u043e\\u043d \\u0423\\u0438\\u043a 4\",\"\\u041a\\u043e\\u0440\\u043e\\u043b\\u044c \\u0438 \\u0428\\u0443\\u0442\",\"\\u0414\\u0436\\u0435\\u043d\\u0442\\u043b\\u044c\\u043c\\u0435\\u043d\\u044b\",\"\\u0414\\u0432\\u0430 \\u0445\\u043e\\u043b\\u043c\\u0430\",\"\\u041a\\u043e\\u0440\\u043e\\u043b\\u044c \\u0438 \\u0428\\u0443\\u0442\",\"\\u0414\\u0436\\u0435\\u043d\\u0442\\u043b\\u044c\\u043c\\u0435\\u043d\\u044b\",\"\\u041c\\u043e\\u043d\\u0430\\u0441\\u0442\\u044b\\u0440\\u044c\",\"1+1\",\"\\u0412\\u0441\\u0451 \\u0432\\u0435\\u0437\\u0434\\u0435 \\u0438 \\u0441\\u0440\\u0430\\u0437\\u0443\",\"\\u041f\\u0438\\u0449\\u0435\\u0431\\u043b\\u043e\\u043a\",\"\\u041c\\u043e\\u043b\\u0447\\u0430\\u043d\\u0438\\u0435 \\u044f\\u0433\\u043d\\u044f\\u0442\",\"\\u0417\\u0435\\u043b\\u0435\\u043d\\u0430\\u044f \\u043c\\u0438\\u043b\\u044f\",\"\\u041f\\u0438\\u0449\\u0435\\u0431\\u043b\\u043e\\u043a\",\"\\u0412\\u044b\\u0448\\u043a\\u0430\",\"\\u041a\\u0440\\u0443\\u044d\\u043b\\u043b\\u0430\",\"\\u041f\\u0438\\u0449\\u0435\\u0431\\u043b\\u043e\\u043a\",\"\\u0427\\u0435\\u043b\\u043e\\u0432\\u0435\\u043a-\\u043f\\u0430\\u0443\\u043a: \\u0427\\u0435\\u0440\\u0435\\u0437 \\u0432\\u0441\\u0435\\u043b\\u0435\\u043d\\u043d\\u044b\\u0435\",\"\\u041f\\u0438\\u0449\\u0435\\u0431\\u043b\\u043e\\u043a\",\"\\u041f\\u0438\\u0449\\u0435\\u0431\\u043b\\u043e\\u043a\",\"\\u041f\\u0435\\u0440\\u0435\\u0432\\u043e\\u0434\\u0447\\u0438\\u043a\",\"\\u0414\\u0436\\u043e\\u043d \\u0423\\u0438\\u043a 4\",\"\\u041e\\u043f\\u0435\\u0440\\u0430\\u0446\\u0438\\u044f \\u00ab\\u0424\\u043e\\u0440\\u0442\\u0443\\u043d\\u0430\\u00bb: \\u0418\\u0441\\u043a\\u0443\\u0441\\u0441\\u0442\\u0432\\u043e \\u043f\\u043e\\u0431\\u0435\\u0436\\u0434\\u0430\\u0442\\u044c\",\"\\u0414\\u0432\\u0430 \\u0445\\u043e\\u043b\\u043c\\u0430\",\"\\u0412\\u0441\\u0451 \\u0432\\u0435\\u0437\\u0434\\u0435 \\u0438 \\u0441\\u0440\\u0430\\u0437\\u0443\",\"\\u0414\\u0432\\u0430 \\u0445\\u043e\\u043b\\u043c\\u0430\",\"\\u0414\\u0432\\u0430 \\u0445\\u043e\\u043b\\u043c\\u0430\",\"\\u041f\\u043e\\u0441\\u0442\\u0443\\u0447\\u0438\\u0441\\u044c \\u0432 \\u043c\\u043e\\u044e \\u0434\\u0432\\u0435\\u0440\\u044c\",\"\\u041d\\u0430\\u0447\\u0430\\u043b\\u043e\",\"\\u0422\\u0435\\u043c\\u043d\\u044b\\u0439 \\u0440\\u044b\\u0446\\u0430\\u0440\\u044c\",\"\\u0413\\u043b\\u0430\\u0432\\u043d\\u044b\\u0439 \\u0433\\u0435\\u0440\\u043e\\u0439\",\"\\u041f\\u0435\\u0440\\u0435\\u0432\\u043e\\u0434\\u0447\\u0438\\u043a\",\"\\u041d\\u0438\\u043a\\u0442\\u043e\",\"\\u041e\\u0434\\u043d\\u0430\\u0436\\u0434\\u044b \\u0432\\u2026 \\u0413\\u043e\\u043b\\u043b\\u0438\\u0432\\u0443\\u0434\\u0435\",\"\\u041f\\u043e\\u0431\\u0435\\u0433 \\u0438\\u0437 \\u0428\\u043e\\u0443\\u0448\\u0435\\u043d\\u043a\\u0430\",\"\\u0414\\u044e\\u043d\\u0430\",\"\\u0410\\u0432\\u0430\\u0442\\u0430\\u0440\",\"\\u0414\\u043e\\u0432\\u043e\\u0434\",\"\\u0427\\u0435\\u043b\\u043e\\u0432\\u0435\\u043a-\\u043f\\u0430\\u0443\\u043a: \\u041d\\u0435\\u0442 \\u043f\\u0443\\u0442\\u0438 \\u0434\\u043e\\u043c\\u043e\\u0439\",\"\\u041f\\u0435\\u0440\\u0435\\u0432\\u043e\\u0434\\u0447\\u0438\\u043a\",\"\\u0410\\u0432\\u0430\\u0442\\u0430\\u0440\",\"\\u041a\\u043e\\u0440\\u043e\\u043b\\u044c \\u0438 \\u0428\\u0443\\u0442\",\"\\u0427\\u0435\\u043b\\u043e\\u0432\\u0435\\u043a-\\u043f\\u0430\\u0443\\u043a: \\u0427\\u0435\\u0440\\u0435\\u0437 \\u0432\\u0441\\u0435\\u043b\\u0435\\u043d\\u043d\\u044b\\u0435\",\"\\u0412\\u0435\\u0434\\u044c\\u043c\\u0430\\u043a\",\"\\u0425\\u043e\\u043b\\u043e\\u043f\",\"\\u041c\\u0441\\u0442\\u0438\\u0442\\u0435\\u043b\\u0438: \\u0424\\u0438\\u043d\\u0430\\u043b\",\"\\u0411\\u0430\\u0442\\u044f\",\"\\u041e\\u043f\\u0435\\u0440\\u0430\\u0446\\u0438\\u044f \\u00ab\\u0424\\u043e\\u0440\\u0442\\u0443\\u043d\\u0430\\u00bb: \\u0418\\u0441\\u043a\\u0443\\u0441\\u0441\\u0442\\u0432\\u043e \\u043f\\u043e\\u0431\\u0435\\u0436\\u0434\\u0430\\u0442\\u044c\",\"\\u0412\\u0435\\u0434\\u044c\\u043c\\u0430\\u043a\",\"\\u041f\\u0435\\u0440\\u0435\\u0432\\u043e\\u0434\\u0447\\u0438\\u043a\",\"\\u0410\\u043b\\u0438\\u0442\\u0430: \\u0411\\u043e\\u0435\\u0432\\u043e\\u0439 \\u0430\\u043d\\u0433\\u0435\\u043b\",\"\\u0414\\u043e\\u0432\\u043e\\u0434\",\"\\u0414\\u043e\\u0432\\u043e\\u0434\",\"\\u0414\\u0436\\u043e\\u043d \\u0423\\u0438\\u043a 4\",\"\\u041f\\u0435\\u0440\\u0435\\u0432\\u043e\\u0434\\u0447\\u0438\\u043a\",\"\\u0423\\u044d\\u043d\\u0441\\u0434\\u044d\\u0439\",\"\\u0412\\u0435\\u0434\\u044c\\u043c\\u0430\\u043a\",\"\\u0410\\u0432\\u0430\\u0442\\u0430\\u0440\",\"\\u0412\\u0435\\u0434\\u044c\\u043c\\u0430\\u043a\",\"\\u041f\\u0435\\u0440\\u0435\\u0432\\u043e\\u0434\\u0447\\u0438\\u043a\",\"\\u0412\\u0435\\u0434\\u044c\\u043c\\u0430\\u043a\",\"\\u0415\\u0449\\u0435 \\u043f\\u043e \\u043e\\u0434\\u043d\\u043e\\u0439\",\"\\u041a\\u043e\\u0440\\u043e\\u043b\\u044c \\u0438 \\u0428\\u0443\\u0442\",\"\\u0410\\u0432\\u0430\\u0442\\u0430\\u0440\",\"\\u041e\\u043f\\u0435\\u0440\\u0430\\u0446\\u0438\\u044f \\u00ab\\u0424\\u043e\\u0440\\u0442\\u0443\\u043d\\u0430\\u00bb: \\u0418\\u0441\\u043a\\u0443\\u0441\\u0441\\u0442\\u0432\\u043e \\u043f\\u043e\\u0431\\u0435\\u0436\\u0434\\u0430\\u0442\\u044c\",\"\\u0427\\u0435\\u043b\\u043e\\u0432\\u0435\\u043a-\\u043f\\u0430\\u0443\\u043a: \\u0427\\u0435\\u0440\\u0435\\u0437 \\u0432\\u0441\\u0435\\u043b\\u0435\\u043d\\u043d\\u044b\\u0435\",\"\\u041f\\u0435\\u0440\\u0435\\u0432\\u043e\\u0434\\u0447\\u0438\\u043a\",\"\\u041f\\u0438\\u0449\\u0435\\u0431\\u043b\\u043e\\u043a\",\"\\u041f\\u0435\\u0440\\u0435\\u0432\\u043e\\u0434\\u0447\\u0438\\u043a\",\"\\u0417\\u0430\\u0441\\u043b\\u0430\\u043d\\u0435\\u0446 \\u0438\\u0437 \\u043a\\u043e\\u0441\\u043c\\u043e\\u0441\\u0430\",\"\\u0412\\u0435\\u0434\\u044c\\u043c\\u0430\\u043a\",\"\\u0414\\u0432\\u0430 \\u0445\\u043e\\u043b\\u043c\\u0430\",\"\\u041f\\u0438\\u0449\\u0435\\u0431\\u043b\\u043e\\u043a\",\"\\u041f\\u0435\\u0440\\u0435\\u0432\\u043e\\u0434\\u0447\\u0438\\u043a\",\"\\u0425\\u043e\\u043b\\u043e\\u043f\",\"\\u0422\\u0435\\u043c\\u043d\\u044b\\u0439 \\u0440\\u044b\\u0446\\u0430\\u0440\\u044c\",\"\\u0414\\u0436\\u043e\\u043d \\u0423\\u0438\\u043a 4\",\"\\u041a\\u043e\\u0440\\u043e\\u043b\\u044c \\u0438 \\u0428\\u0443\\u0442\",\"\\u0417\\u0435\\u043b\\u0435\\u043d\\u0430\\u044f \\u043c\\u0438\\u043b\\u044f\",\"\\u0414\\u0436\\u043e\\u043d \\u0423\\u0438\\u043a 4\",\"\\u0412\\u044b\\u0448\\u043a\\u0430\",\"\\u041a\\u043e\\u0440\\u043e\\u043b\\u044c \\u0438 \\u0428\\u0443\\u0442\",\"\\u041c\\u0430\\u0439\\u043e\\u0440 \\u0413\\u0440\\u043e\\u043c: \\u0427\\u0443\\u043c\\u043d\\u043e\\u0439 \\u0414\\u043e\\u043a\\u0442\\u043e\\u0440\",\"\\u0414\\u0436\\u0435\\u043d\\u0442\\u043b\\u044c\\u043c\\u0435\\u043d\\u044b\",\"\\u041f\\u0435\\u0440\\u0435\\u0432\\u043e\\u0434\\u0447\\u0438\\u043a\",\"\\u041d\\u0430\\u0447\\u0430\\u043b\\u043e\",\"\\u041a\\u043e\\u0440\\u043e\\u043b\\u044c \\u0438 \\u0428\\u0443\\u0442\",\"\\u0414\\u043e\\u0441\\u0442\\u0430\\u0442\\u044c \\u043d\\u043e\\u0436\\u0438\",\"\\u041f\\u0438\\u0449\\u0435\\u0431\\u043b\\u043e\\u043a\",\"\\u041b\\u0438\\u0433\\u0430 \\u0441\\u043f\\u0440\\u0430\\u0432\\u0435\\u0434\\u043b\\u0438\\u0432\\u043e\\u0441\\u0442\\u0438 \\u0417\\u0430\\u043a\\u0430 \\u0421\\u043d\\u0430\\u0439\\u0434\\u0435\\u0440\\u0430\",\"\\u0412\\u0441\\u0451 \\u0432\\u0435\\u0437\\u0434\\u0435 \\u0438 \\u0441\\u0440\\u0430\\u0437\\u0443\",\"\\u0427\\u0435\\u0440\\u043d\\u044b\\u0439 \\u044f\\u0449\\u0438\\u043a\",\"\\u0414\\u0436\\u043e\\u043d \\u0423\\u0438\\u043a 4\",\"\\u0414\\u0436\\u043e\\u043a\\u0435\\u0440\",\"\\u0412\\u0430\\u043c\\u043f\\u0438\\u0440\\u044b \\u0441\\u0440\\u0435\\u0434\\u043d\\u0435\\u0439 \\u043f\\u043e\\u043b\\u043e\\u0441\\u044b\",\"\\u041a\\u043e\\u0440\\u043e\\u043b\\u044c \\u0438 \\u0428\\u0443\\u0442\",\"\\u0414\\u0436\\u043e\\u043a\\u0435\\u0440\",\"\\u041a\\u043e\\u0440\\u043e\\u043b\\u044c \\u0438 \\u0428\\u0443\\u0442\",\"\\u041f\\u043e\\u0441\\u0442\\u0443\\u0447\\u0438\\u0441\\u044c \\u0432 \\u043c\\u043e\\u044e \\u0434\\u0432\\u0435\\u0440\\u044c\",\"\\u0411\\u0435\\u0441\\u043f\\u0440\\u0438\\u043d\\u0446\\u0438\\u043f\\u043d\\u044b\\u0435 \\u0432 \\u0434\\u0435\\u0440\\u0435\\u0432\\u043d\\u0435\",\"\\u0412\\u044b\\u0448\\u043a\\u0430\",\"\\u041a\\u043e\\u0440\\u043e\\u043b\\u044c \\u0438 \\u0428\\u0443\\u0442\",\"\\u041a\\u043e\\u0440\\u043e\\u043b\\u044c \\u0438 \\u0428\\u0443\\u0442\",\"\\u0414\\u043e\\u0441\\u0442\\u0430\\u0442\\u044c \\u043d\\u043e\\u0436\\u0438\",\"\\u0412\\u0441\\u0451 \\u0432\\u0435\\u0437\\u0434\\u0435 \\u0438 \\u0441\\u0440\\u0430\\u0437\\u0443\",\"\\u0422-34\",\"\\u0414\\u0436\\u043e\\u043d \\u0423\\u0438\\u043a 4\",\"\\u0418\\u0433\\u0440\\u0430 \\u043f\\u0440\\u0435\\u0441\\u0442\\u043e\\u043b\\u043e\\u0432\",\"\\u0414\\u043e\\u0441\\u0442\\u0430\\u0442\\u044c \\u043d\\u043e\\u0436\\u0438\",\"\\u0412\\u0441\\u0451 \\u0432\\u0435\\u0437\\u0434\\u0435 \\u0438 \\u0441\\u0440\\u0430\\u0437\\u0443\",\"\\u041f\\u043e\\u0441\\u0442\\u0443\\u0447\\u0438\\u0441\\u044c \\u0432 \\u043c\\u043e\\u044e \\u0434\\u0432\\u0435\\u0440\\u044c\",\"\\u0427\\u0435\\u0431\\u0443\\u0440\\u0430\\u0448\\u043a\\u0430\",\"\\u041f\\u043e\\u0431\\u0435\\u0433 \\u0438\\u0437 \\u0428\\u043e\\u0443\\u0448\\u0435\\u043d\\u043a\\u0430\",\"\\u0414\\u0436\\u043e\\u043d \\u0423\\u0438\\u043a 4\",\"\\u041a\\u043e\\u0440\\u043e\\u043b\\u044c \\u0438 \\u0428\\u0443\\u0442\",\"\\u0414\\u043e\\u043c \\u0414\\u0440\\u0430\\u043a\\u043e\\u043d\\u0430\",\"\\u041a\\u043e\\u0440\\u043e\\u043b\\u044c \\u0438 \\u0428\\u0443\\u0442\",\"\\u0412\\u0441\\u0451 \\u0432\\u0435\\u0437\\u0434\\u0435 \\u0438 \\u0441\\u0440\\u0430\\u0437\\u0443\",\"\\u0427\\u0435\\u043b\\u043e\\u0432\\u0435\\u043a-\\u043f\\u0430\\u0443\\u043a: \\u0427\\u0435\\u0440\\u0435\\u0437 \\u0432\\u0441\\u0435\\u043b\\u0435\\u043d\\u043d\\u044b\\u0435\",\"\\u041e\\u0434\\u043d\\u0430\\u0436\\u0434\\u044b \\u0432\\u2026 \\u0413\\u043e\\u043b\\u043b\\u0438\\u0432\\u0443\\u0434\\u0435\",\"\\u0412\\u043b\\u0430\\u0441\\u0442\\u0435\\u043b\\u0438\\u043d \\u043a\\u043e\\u043b\\u0435\\u0446: \\u0412\\u043e\\u0437\\u0432\\u0440\\u0430\\u0449\\u0435\\u043d\\u0438\\u0435 \\u043a\\u043e\\u0440\\u043e\\u043b\\u044f\",\"\\u041f\\u0435\\u0440\\u0435\\u0432\\u043e\\u0434\\u0447\\u0438\\u043a\",\"\\u0427\\u0435\\u043b\\u043e\\u0432\\u0435\\u043a-\\u043f\\u0430\\u0443\\u043a: \\u0412\\u0434\\u0430\\u043b\\u0438 \\u043e\\u0442 \\u0434\\u043e\\u043c\\u0430\",\"\\u041a\\u043e\\u0440\\u043e\\u043b\\u044c \\u0438 \\u0428\\u0443\\u0442\",\"\\u041f\\u0435\\u0440\\u0435\\u0432\\u043e\\u0434\\u0447\\u0438\\u043a\",\"\\u041f\\u0435\\u0440\\u0435\\u0432\\u043e\\u0434\\u0447\\u0438\\u043a\",\"\\u0414\\u0436\\u043e\\u043d \\u0423\\u0438\\u043a 4\",\"\\u0414\\u0436\\u043e\\u043d \\u0423\\u0438\\u043a 4\",\"\\u0413\\u043d\\u0435\\u0432 \\u0447\\u0435\\u043b\\u043e\\u0432\\u0435\\u0447\\u0435\\u0441\\u043a\\u0438\\u0439\",\"\\u041a\\u0440\\u0438\\u043c\\u0438\\u043d\\u0430\\u043b\\u044c\\u043d\\u043e\\u0435 \\u0447\\u0442\\u0438\\u0432\\u043e\",\"\\u041c\\u043e\\u043d\\u0430\\u0441\\u0442\\u044b\\u0440\\u044c\",\"\\u041c\\u0430\\u0440\\u0441\\u0438\\u0430\\u043d\\u0438\\u043d\",\"\\u0411\\u043e\\u0439\\u0446\\u043e\\u0432\\u0441\\u043a\\u0438\\u0439 \\u043a\\u043b\\u0443\\u0431\",\"\\u0414\\u0436\\u043e\\u043d \\u0423\\u0438\\u043a 4\",\"\\u041f\\u044f\\u0442\\u044b\\u0439 \\u044d\\u043b\\u0435\\u043c\\u0435\\u043d\\u0442\",\"\\u041d\\u0430\\u0437\\u0430\\u0434 \\u0432 \\u0431\\u0443\\u0434\\u0443\\u0449\\u0435\\u0435 2\",\"\\u0427\\u0435\\u043b\\u043e\\u0432\\u0435\\u043a-\\u043f\\u0430\\u0443\\u043a: \\u0412\\u0434\\u0430\\u043b\\u0438 \\u043e\\u0442 \\u0434\\u043e\\u043c\\u0430\",\"\\u041a\\u043e\\u0440\\u043e\\u043b\\u044c \\u0438 \\u0428\\u0443\\u0442\",\"\\u0422\\u0440\\u0438\\u0433\\u0433\\u0435\\u0440\",\"\\u041e\\u0441\\u0442\\u0440\\u043e\\u0432 \\u043f\\u0440\\u043e\\u043a\\u043b\\u044f\\u0442\\u044b\\u0445\",\"\\u041a\\u043e\\u0440\\u043e\\u043b\\u044c \\u0438 \\u0428\\u0443\\u0442\",\"\\u041e\\u043f\\u0435\\u0440\\u0430\\u0446\\u0438\\u044f \\u00ab\\u0424\\u043e\\u0440\\u0442\\u0443\\u043d\\u0430\\u00bb: \\u0418\\u0441\\u043a\\u0443\\u0441\\u0441\\u0442\\u0432\\u043e \\u043f\\u043e\\u0431\\u0435\\u0436\\u0434\\u0430\\u0442\\u044c\",\"\\u0414\\u0436\\u043e\\u043d \\u0423\\u0438\\u043a 4\",\"\\u041f\\u0435\\u0440\\u0435\\u0432\\u043e\\u0434\\u0447\\u0438\\u043a\",\"\\u041a\\u043e\\u0440\\u043e\\u043b\\u044c \\u0438 \\u0428\\u0443\\u0442\",\"\\u0423\\u043a\\u0440\\u043e\\u0449\\u0435\\u043d\\u0438\\u0435 \\u0441\\u0442\\u0440\\u043e\\u043f\\u0442\\u0438\\u0432\\u043e\\u0433\\u043e\",\"\\u041f\\u0435\\u0440\\u0435\\u0432\\u043e\\u0434\\u0447\\u0438\\u043a\",\"\\u0414\\u0436\\u043e\\u043d \\u0423\\u0438\\u043a 4\",\"\\u041f\\u043e\\u0435\\u0437\\u0434 \\u0432 \\u041f\\u0443\\u0441\\u0430\\u043d\",\"1+1\",\"\\u0427\\u0435\\u043b\\u043e\\u0432\\u0435\\u043a-\\u043f\\u0430\\u0443\\u043a\",\"\\u0423\\u043d\\u0435\\u0441\\u0451\\u043d\\u043d\\u044b\\u0435 \\u043f\\u0440\\u0438\\u0437\\u0440\\u0430\\u043a\\u0430\\u043c\\u0438\",\"\\u0411\\u0435\\u0441\\u0441\\u0442\\u044b\\u0436\\u0438\\u0435\",\"\\u0410\\u043b\\u0438\\u0442\\u0430: \\u0411\\u043e\\u0435\\u0432\\u043e\\u0439 \\u0430\\u043d\\u0433\\u0435\\u043b\",\"\\u0414\\u0436\\u043e\\u043d \\u0423\\u0438\\u043a 4\",\"\\u0412\\u043b\\u0430\\u0441\\u0442\\u0435\\u043b\\u0438\\u043d \\u043a\\u043e\\u043b\\u0435\\u0446: \\u0414\\u0432\\u0435 \\u043a\\u0440\\u0435\\u043f\\u043e\\u0441\\u0442\\u0438\",\"\\u0414\\u0436\\u0435\\u043d\\u0442\\u043b\\u044c\\u043c\\u0435\\u043d\\u044b\",\"\\u0414\\u0436\\u043e\\u043d \\u0423\\u0438\\u043a 4\",\"\\u0414\\u0436\\u043e\\u043d \\u0423\\u0438\\u043a 4\",\"\\u041b\\u0443\\u043b\\u0443 \\u0438 \\u0411\\u0440\\u0438\\u0433\\u0433\\u0441\",\"\\u0427\\u0435\\u0431\\u0443\\u0440\\u0430\\u0448\\u043a\\u0430\",\"\\u0417\\u0435\\u043b\\u0435\\u043d\\u0430\\u044f \\u043a\\u043d\\u0438\\u0433\\u0430\",\"\\u041a\\u043e\\u0440\\u043e\\u043b\\u044c \\u0438 \\u0428\\u0443\\u0442\",\"\\u0423\\u044d\\u043d\\u0441\\u0434\\u044d\\u0439\",\"\\u0418\\u0433\\u0440\\u0430 \\u043f\\u0440\\u0435\\u0441\\u0442\\u043e\\u043b\\u043e\\u0432\",\"Ford \\u043f\\u0440\\u043e\\u0442\\u0438\\u0432 Ferrari\",\"\\u0427\\u0430\\u0440\\u043b\\u0438 \\u0438 \\u0448\\u043e\\u043a\\u043e\\u043b\\u0430\\u0434\\u043d\\u0430\\u044f \\u0444\\u0430\\u0431\\u0440\\u0438\\u043a\\u0430\",\"\\u0422\\u0435\\u043c\\u043d\\u044b\\u0439 \\u0440\\u044b\\u0446\\u0430\\u0440\\u044c\",\"\\u041f\\u0435\\u0440\\u0435\\u0432\\u043e\\u0434\\u0447\\u0438\\u043a\",\"\\u0422\\u0435\\u043c\\u043d\\u044b\\u0439 \\u0440\\u044b\\u0446\\u0430\\u0440\\u044c\",\"\\u0417\\u0435\\u043b\\u0435\\u043d\\u0430\\u044f \\u043a\\u043d\\u0438\\u0433\\u0430\",\"\\u0427\\u0435\\u043b\\u043e\\u0432\\u0435\\u043a-\\u043f\\u0430\\u0443\\u043a: \\u0427\\u0435\\u0440\\u0435\\u0437 \\u0432\\u0441\\u0435\\u043b\\u0435\\u043d\\u043d\\u044b\\u0435\",\"\\u0414\\u0432\\u0430 \\u0445\\u043e\\u043b\\u043c\\u0430\",\"\\u0414\\u0436\\u043e\\u043d \\u0423\\u0438\\u043a 4\",\"\\u0411\\u0435\\u0441\\u0441\\u0442\\u044b\\u0436\\u0438\\u0435\",\"\\u0412\\u043b\\u0430\\u0441\\u0442\\u0435\\u043b\\u0438\\u043d \\u043a\\u043e\\u043b\\u0435\\u0446: \\u0411\\u0440\\u0430\\u0442\\u0441\\u0442\\u0432\\u043e \\u041a\\u043e\\u043b\\u044c\\u0446\\u0430\",\"\\u0427\\u0435\\u0431\\u0443\\u0440\\u0430\\u0448\\u043a\\u0430\",\"\\u0414\\u0436\\u043e\\u043d \\u0423\\u0438\\u043a 4\",\"\\u0412\\u0435\\u0434\\u044c\\u043c\\u0430\\u043a\",\"\\u0412\\u0441\\u0451 \\u0432\\u0435\\u0437\\u0434\\u0435 \\u0438 \\u0441\\u0440\\u0430\\u0437\\u0443\",\"\\u0423\\u044d\\u043d\\u0441\\u0434\\u044d\\u0439\",\"\\u0412\\u044b\\u0448\\u043a\\u0430\",\"\\u041f\\u0438\\u0449\\u0435\\u0431\\u043b\\u043e\\u043a\",\"\\u0411\\u043e\\u043b\\u044c\\u0448\\u043e\\u0439 \\u043a\\u0443\\u0448\",\"\\u0424\\u043e\\u0440\\u0440\\u0435\\u0441\\u0442 \\u0413\\u0430\\u043c\\u043f\",\"\\u0423\\u044d\\u043d\\u0441\\u0434\\u044d\\u0439\",\"\\u0421\\u043f\\u0438\\u0441\\u043e\\u043a \\u0428\\u0438\\u043d\\u0434\\u043b\\u0435\\u0440\\u0430\",\"\\u041f\\u043e\\u0431\\u0435\\u0433 \\u0438\\u0437 \\u0428\\u043e\\u0443\\u0448\\u0435\\u043d\\u043a\\u0430\",\"\\u0413\\u043e\\u043b\\u043e\\u0432\\u043e\\u043b\\u043e\\u043c\\u043a\\u0430\",\"\\u0427\\u0435\\u0431\\u0443\\u0440\\u0430\\u0448\\u043a\\u0430\",\"\\u0417\\u0435\\u043b\\u0435\\u043d\\u0430\\u044f \\u043c\\u0438\\u043b\\u044f\",\"\\u0414\\u0435\\u0432\\u0447\\u0430\\u0442\\u0430\",\"\\u0423\\u044d\\u043d\\u0441\\u0434\\u044d\\u0439\",\"\\u0414\\u0436\\u043e\\u043d \\u0423\\u0438\\u043a 4\",\"\\u0427\\u0435\\u0431\\u0443\\u0440\\u0430\\u0448\\u043a\\u0430\",\"\\u0421\\u0432\\u0435\\u0440\\u0445\\u044a\\u0435\\u0441\\u0442\\u0435\\u0441\\u0442\\u0432\\u0435\\u043d\\u043d\\u043e\\u0435\",\"\\u0418\\u043b\\u043b\\u044e\\u0437\\u0438\\u044f \\u043e\\u0431\\u043c\\u0430\\u043d\\u0430\",\"\\u0412\\u0440\\u0435\\u043c\\u044f\",\"\\u0414\\u0436\\u043e\\u043d \\u0423\\u0438\\u043a 4\",\"\\u0414\\u043e\\u0441\\u0442\\u0430\\u0442\\u044c \\u043d\\u043e\\u0436\\u0438\",\"\\u0411\\u0435\\u0441\\u043f\\u0440\\u0438\\u043d\\u0446\\u0438\\u043f\\u043d\\u044b\\u0435\",\"\\u041a\\u0440\\u0443\\u044d\\u043b\\u043b\\u0430\",\"\\u041a\\u043e\\u0440\\u043e\\u043b\\u044c \\u0438 \\u0428\\u0443\\u0442\",\"\\u0413\\u043b\\u0430\\u0434\\u0438\\u0430\\u0442\\u043e\\u0440\",\"\\u041d\\u0430\\u0447\\u0430\\u043b\\u043e\",\"\\u0410\\u0434\\u0432\\u043e\\u043a\\u0430\\u0442 \\u0434\\u044c\\u044f\\u0432\\u043e\\u043b\\u0430\",\"\\u0414\\u0436\\u043e\\u043d \\u0423\\u0438\\u043a 4\",\"\\u041e\\u043f\\u0435\\u0440\\u0430\\u0446\\u0438\\u044f \\u00ab\\u0424\\u043e\\u0440\\u0442\\u0443\\u043d\\u0430\\u00bb: \\u0418\\u0441\\u043a\\u0443\\u0441\\u0441\\u0442\\u0432\\u043e \\u043f\\u043e\\u0431\\u0435\\u0436\\u0434\\u0430\\u0442\\u044c\",\"\\u041f\\u044f\\u0442\\u044b\\u0439 \\u044d\\u043b\\u0435\\u043c\\u0435\\u043d\\u0442\",\"\\u0412\\u044b\\u0448\\u043a\\u0430\",\"\\u0410\\u043b\\u0438\\u0442\\u0430: \\u0411\\u043e\\u0435\\u0432\\u043e\\u0439 \\u0430\\u043d\\u0433\\u0435\\u043b\",\"\\u0412\\u0441\\u0451 \\u0432\\u0435\\u0437\\u0434\\u0435 \\u0438 \\u0441\\u0440\\u0430\\u0437\\u0443\",\"\\u0427\\u0435\\u0431\\u0443\\u0440\\u0430\\u0448\\u043a\\u0430\",\"\\u041e\\u0431\\u043b\\u0430\\u0441\\u0442\\u0438 \\u0442\\u044c\\u043c\\u044b\",\"\\u0423\\u044d\\u043d\\u0441\\u0434\\u044d\\u0439\",\"\\u0420\\u0430\\u043f\\u0443\\u043d\\u0446\\u0435\\u043b\\u044c: \\u0417\\u0430\\u043f\\u0443\\u0442\\u0430\\u043d\\u043d\\u0430\\u044f \\u0438\\u0441\\u0442\\u043e\\u0440\\u0438\\u044f\",\"\\u0411\\u0435\\u0441\\u043f\\u0440\\u0438\\u043d\\u0446\\u0438\\u043f\\u043d\\u044b\\u0435 \\u0432 \\u0434\\u0435\\u0440\\u0435\\u0432\\u043d\\u0435\",\"\\u0414\\u0436\\u043e\\u043d \\u0423\\u0438\\u043a 4\",\"\\u0414\\u0436\\u043e\\u043d \\u0423\\u0438\\u043a 4\",\"\\u0412\\u043e \\u0432\\u0441\\u0435 \\u0442\\u044f\\u0436\\u043a\\u0438\\u0435\",\"\\u0414\\u0436\\u043e\\u043d \\u0423\\u0438\\u043a 4\",\"\\u0414\\u0435\\u0432\\u0447\\u0430\\u0442\\u0430\",\"\\u041a\\u043e\\u0440\\u043e\\u043b\\u044c \\u0438 \\u0428\\u0443\\u0442\",\"\\u041f\\u0438\\u0440\\u0430\\u0442\\u044b \\u041a\\u0430\\u0440\\u0438\\u0431\\u0441\\u043a\\u043e\\u0433\\u043e \\u043c\\u043e\\u0440\\u044f: \\u041f\\u0440\\u043e\\u043a\\u043b\\u044f\\u0442\\u0438\\u0435 \\u0427\\u0435\\u0440\\u043d\\u043e\\u0439 \\u0436\\u0435\\u043c\\u0447\\u0443\\u0436\\u0438\\u043d\\u044b\",\"\\u0414\\u0432\\u0430 \\u0445\\u043e\\u043b\\u043c\\u0430\",\"\\u0411\\u0440\\u0438\\u0433\\u0430\\u0434\\u0430\",\"\\u0410\\u0432\\u0430\\u0442\\u0430\\u0440\",\"\\u0417\\u0430\\u0441\\u043b\\u0430\\u043d\\u0435\\u0446 \\u0438\\u0437 \\u043a\\u043e\\u0441\\u043c\\u043e\\u0441\\u0430\",\"\\u041f\\u0430\\u0441\\u0441\\u0430\\u0436\\u0438\\u0440\\u044b\",\"\\u041a\\u043e\\u0440\\u043e\\u043b\\u044c \\u0438 \\u0428\\u0443\\u0442\",\"\\u041e\\u0434\\u0435\\u0440\\u0436\\u0438\\u043c\\u043e\\u0441\\u0442\\u044c\",\"\\u041a\\u043e\\u0440\\u043e\\u043b\\u044c \\u0438 \\u0428\\u0443\\u0442\",\"\\u041a\\u043e\\u0440\\u043e\\u043b\\u044c \\u0438 \\u0428\\u0443\\u0442\",\"\\u0411\\u0440\\u044e\\u0441 \\u0412\\u0441\\u0435\\u043c\\u043e\\u0433\\u0443\\u0449\\u0438\\u0439\",\"\\u0412\\u0430\\u043c\\u043f\\u0438\\u0440\\u044b \\u0441\\u0440\\u0435\\u0434\\u043d\\u0435\\u0439 \\u043f\\u043e\\u043b\\u043e\\u0441\\u044b\",\"\\u0422\\u0440\\u0438\\u0433\\u0433\\u0435\\u0440\",\"\\u041a\\u0440\\u0443\\u044d\\u043b\\u043b\\u0430\",\"\\u0417\\u0435\\u043b\\u0435\\u043d\\u0430\\u044f \\u043c\\u0438\\u043b\\u044f\",\"\\u0414\\u043e\\u043a\\u0442\\u043e\\u0440 \\u0421\\u0442\\u0440\\u044d\\u043d\\u0434\\u0436\",\"\\u0416\\u0435\\u043b\\u0435\\u0437\\u043d\\u044b\\u0439 \\u0447\\u0435\\u043b\\u043e\\u0432\\u0435\\u043a 3\",\"\\u041c\\u0441\\u0442\\u0438\\u0442\\u0435\\u043b\\u0438\",\"\\u0414\\u0436\\u0435\\u043d\\u0442\\u043b\\u044c\\u043c\\u0435\\u043d\\u044b \\u0443\\u0434\\u0430\\u0447\\u0438\",\"\\u0420\\u0430\\u0439\\u044f \\u0438 \\u043f\\u043e\\u0441\\u043b\\u0435\\u0434\\u043d\\u0438\\u0439 \\u0434\\u0440\\u0430\\u043a\\u043e\\u043d\",\"\\u041e\\u043f\\u0435\\u0440\\u0430\\u0446\\u0438\\u044f \\u00ab\\u0424\\u043e\\u0440\\u0442\\u0443\\u043d\\u0430\\u00bb: \\u0418\\u0441\\u043a\\u0443\\u0441\\u0441\\u0442\\u0432\\u043e \\u043f\\u043e\\u0431\\u0435\\u0436\\u0434\\u0430\\u0442\\u044c\",\"\\u0413\\u043b\\u0430\\u0434\\u0438\\u0430\\u0442\\u043e\\u0440\",\"\\u0422\\u0435\\u0440\\u043c\\u0438\\u043d\\u0430\\u043b\",\"\\u0421\\u0435\\u043c\\u044c\",\"\\u0418\\u0433\\u0440\\u0430 \\u043f\\u0440\\u0435\\u0441\\u0442\\u043e\\u043b\\u043e\\u0432\",\"\\u0424\\u043e\\u0440\\u0440\\u0435\\u0441\\u0442 \\u0413\\u0430\\u043c\\u043f\",\"\\u0410\\u0442\\u0430\\u043a\\u0430 \\u0442\\u0438\\u0442\\u0430\\u043d\\u043e\\u0432\",\"\\u0422\\u0438\\u0442\\u0430\\u043d\\u0438\\u043a\",\"\\u0412\\u043b\\u0430\\u0441\\u0442\\u0435\\u043b\\u0438\\u043d \\u043a\\u043e\\u043b\\u0435\\u0446: \\u0411\\u0440\\u0430\\u0442\\u0441\\u0442\\u0432\\u043e \\u041a\\u043e\\u043b\\u044c\\u0446\\u0430\",\"\\u0414\\u0435\\u043d\\u044c \\u0441\\u0443\\u0440\\u043a\\u0430\",\"\\u041e\\u0434\\u0435\\u0440\\u0436\\u0438\\u043c\\u043e\\u0441\\u0442\\u044c\",\"\\u0412\\u0441\\u0451 \\u0432\\u0435\\u0437\\u0434\\u0435 \\u0438 \\u0441\\u0440\\u0430\\u0437\\u0443\",\"\\u0412\\u0441\\u0451 \\u0432\\u0435\\u0437\\u0434\\u0435 \\u0438 \\u0441\\u0440\\u0430\\u0437\\u0443\",\"\\u041b\\u044e\\u0441\\u0438\",\"\\u041f\\u0430\\u0440\\u0430\\u0437\\u0438\\u0442\\u044b\",\"\\u0423\\u044d\\u043d\\u0441\\u0434\\u044d\\u0439\",\"\\u0414\\u0438\\u0432\\u0435\\u0440\\u0433\\u0435\\u043d\\u0442\",\"\\u041a\\u043e\\u0440\\u043e\\u043b\\u044c \\u0438 \\u0428\\u0443\\u0442\",\"\\u0412\\u0441\\u0451 \\u0432\\u0435\\u0437\\u0434\\u0435 \\u0438 \\u0441\\u0440\\u0430\\u0437\\u0443\",\"\\u041f\\u0435\\u0440\\u0435\\u0432\\u043e\\u0434\\u0447\\u0438\\u043a\",\"\\u0418\\u043b\\u043b\\u044e\\u0437\\u0438\\u044f \\u043e\\u0431\\u043c\\u0430\\u043d\\u0430\",\"\\u041f\\u0435\\u0440\\u0435\\u0432\\u043e\\u0434\\u0447\\u0438\\u043a\",\"\\u041a\\u043e\\u0440\\u043e\\u043b\\u044c \\u0438 \\u0428\\u0443\\u0442\",\"\\u0412\\u0441\\u0451 \\u0432\\u0435\\u0437\\u0434\\u0435 \\u0438 \\u0441\\u0440\\u0430\\u0437\\u0443\",\"\\u0414\\u0436\\u043e\\u043d \\u0423\\u0438\\u043a 4\",\"\\u041e\\u043f\\u0435\\u0440\\u0430\\u0446\\u0438\\u044f \\u00ab\\u0424\\u043e\\u0440\\u0442\\u0443\\u043d\\u0430\\u00bb: \\u0418\\u0441\\u043a\\u0443\\u0441\\u0441\\u0442\\u0432\\u043e \\u043f\\u043e\\u0431\\u0435\\u0436\\u0434\\u0430\\u0442\\u044c\",\"\\u0412\\u0430\\u043c\\u043f\\u0438\\u0440\\u044b \\u0441\\u0440\\u0435\\u0434\\u043d\\u0435\\u0439 \\u043f\\u043e\\u043b\\u043e\\u0441\\u044b\",\"\\u041a\\u043e\\u0440\\u043e\\u043b\\u044c \\u0438 \\u0428\\u0443\\u0442\",\"\\u0412\\u043e \\u0432\\u0441\\u0435 \\u0442\\u044f\\u0436\\u043a\\u0438\\u0435\",\"\\u041a\\u043e\\u0440\\u043e\\u043b\\u044c \\u0438 \\u0428\\u0443\\u0442\",\"\\u041b\\u0443\\u0447\\u0448\\u0435\\u0435 \\u043f\\u0440\\u0435\\u0434\\u043b\\u043e\\u0436\\u0435\\u043d\\u0438\\u0435\",\"\\u041f\\u043e\\u0441\\u0442\\u0443\\u0447\\u0438\\u0441\\u044c \\u0432 \\u043c\\u043e\\u044e \\u0434\\u0432\\u0435\\u0440\\u044c\",\"\\u0412\\u0441\\u0451 \\u0432\\u0435\\u0437\\u0434\\u0435 \\u0438 \\u0441\\u0440\\u0430\\u0437\\u0443\",\"\\u0412\\u0441\\u0451 \\u0432\\u0435\\u0437\\u0434\\u0435 \\u0438 \\u0441\\u0440\\u0430\\u0437\\u0443\",\"\\u041a\\u043e\\u0440\\u043e\\u043b\\u044c \\u0438 \\u0428\\u0443\\u0442\",\"\\u041c\\u0441\\u0442\\u0438\\u0442\\u0435\\u043b\\u0438: \\u0412\\u043e\\u0439\\u043d\\u0430 \\u0431\\u0435\\u0441\\u043a\\u043e\\u043d\\u0435\\u0447\\u043d\\u043e\\u0441\\u0442\\u0438\",\"\\u041d\\u0443\\u043b\\u0435\\u0432\\u043e\\u0439 \\u043f\\u0430\\u0446\\u0438\\u0435\\u043d\\u0442\",\"\\u0411\\u0435\\u0441\\u043f\\u0440\\u0438\\u043d\\u0446\\u0438\\u043f\\u043d\\u044b\\u0435 \\u0432 \\u0434\\u0435\\u0440\\u0435\\u0432\\u043d\\u0435\",\"\\u041a\\u043e\\u0440\\u043e\\u043b\\u044c \\u0438 \\u0428\\u0443\\u0442\",\"\\u0421\\u0442\\u0440\\u0430\\u0436\\u0438 \\u0413\\u0430\\u043b\\u0430\\u043a\\u0442\\u0438\\u043a\\u0438. \\u0427\\u0430\\u0441\\u0442\\u044c 2\",\"\\u0421\\u0442\\u0440\\u0430\\u0436\\u0438 \\u0413\\u0430\\u043b\\u0430\\u043a\\u0442\\u0438\\u043a\\u0438. \\u0427\\u0430\\u0441\\u0442\\u044c 2\",\"\\u041a\\u043e\\u0440\\u043e\\u043b\\u044c \\u0438 \\u0428\\u0443\\u0442\",\"\\u0414\\u0432\\u0430 \\u0445\\u043e\\u043b\\u043c\\u0430\",\"\\u0412\\u0435\\u043b\\u0438\\u043a\\u0438\\u0439 \\u0413\\u044d\\u0442\\u0441\\u0431\\u0438\",\"\\u0416\\u0435\\u043b\\u0435\\u0437\\u043d\\u044b\\u0439 \\u0447\\u0435\\u043b\\u043e\\u0432\\u0435\\u043a 3\",\"\\u041f\\u0435\\u0440\\u0435\\u0432\\u043e\\u0434\\u0447\\u0438\\u043a\",\"\\u0427\\u0435\\u0431\\u0443\\u0440\\u0430\\u0448\\u043a\\u0430\",\"\\u0421\\u0442\\u0440\\u0430\\u0436\\u0438 \\u0413\\u0430\\u043b\\u0430\\u043a\\u0442\\u0438\\u043a\\u0438\",\"\\u041a\\u043e\\u0440\\u043e\\u043b\\u044c \\u0438 \\u0428\\u0443\\u0442\",\"\\u041a\\u043e\\u0440\\u043e\\u043b\\u044c \\u0438 \\u0428\\u0443\\u0442\",\"\\u0414\\u043e\\u043c \\u0414\\u0440\\u0430\\u043a\\u043e\\u043d\\u0430\",\"\\u0416\\u0438\\u0432\\u0430\\u044f \\u0441\\u0442\\u0430\\u043b\\u044c\",\"\\u0414\\u0443\\u0440\\u0430\\u043a\",\"\\u0414\\u043e\\u043c \\u0414\\u0440\\u0430\\u043a\\u043e\\u043d\\u0430\",\"\\u0414\\u0436\\u043e\\u043d \\u0423\\u0438\\u043a 4\",\"\\u041f\\u0435\\u0440\\u0435\\u0432\\u043e\\u0434\\u0447\\u0438\\u043a\",\"\\u0412\\u0441\\u0451 \\u0432\\u0435\\u0437\\u0434\\u0435 \\u0438 \\u0441\\u0440\\u0430\\u0437\\u0443\",\"\\u0415\\u0449\\u0435 \\u043f\\u043e \\u043e\\u0434\\u043d\\u043e\\u0439\",\"\\u041b\\u0438\\u0433\\u0430 \\u0441\\u043f\\u0440\\u0430\\u0432\\u0435\\u0434\\u043b\\u0438\\u0432\\u043e\\u0441\\u0442\\u0438 \\u0417\\u0430\\u043a\\u0430 \\u0421\\u043d\\u0430\\u0439\\u0434\\u0435\\u0440\\u0430\",\"\\u041e\\u043f\\u0435\\u0440\\u0430\\u0446\\u0438\\u044f \\u00ab\\u0424\\u043e\\u0440\\u0442\\u0443\\u043d\\u0430\\u00bb: \\u0418\\u0441\\u043a\\u0443\\u0441\\u0441\\u0442\\u0432\\u043e \\u043f\\u043e\\u0431\\u0435\\u0436\\u0434\\u0430\\u0442\\u044c\",\"\\u041f\\u0435\\u0440\\u0435\\u0432\\u043e\\u0434\\u0447\\u0438\\u043a\",\"\\u041a\\u043e\\u0440\\u043e\\u043b\\u044c \\u0438 \\u0428\\u0443\\u0442\",\"\\u041a\\u0440\\u0430\\u0441\\u043e\\u0442\\u043a\\u0430\",\"\\u041b\\u0435\\u043e\\u043d\",\"\\u041a\\u043e\\u0440\\u043e\\u043b\\u044c \\u0438 \\u0428\\u0443\\u0442\",\"\\u0414\\u043e\\u043c \\u0414\\u0440\\u0430\\u043a\\u043e\\u043d\\u0430\",\"\\u0422\\u0440\\u0438\\u0433\\u0433\\u0435\\u0440\",\"\\u041f\\u043e\\u0431\\u0435\\u0433 \\u0438\\u0437 \\u0428\\u043e\\u0443\\u0448\\u0435\\u043d\\u043a\\u0430\",\"\\u041a\\u043e\\u0440\\u043e\\u043b\\u044c \\u0438 \\u0428\\u0443\\u0442\",\"\\u041a\\u043e\\u0440\\u043e\\u043b\\u044c \\u0438 \\u0428\\u0443\\u0442\",\"\\u0414\\u0436\\u043e\\u043d \\u0423\\u0438\\u043a 4\",\"\\u041a\\u043e\\u0440\\u043e\\u043b\\u044c \\u0438 \\u0428\\u0443\\u0442\",\"\\u0423\\u044d\\u043d\\u0441\\u0434\\u044d\\u0439\",\"\\u0412\\u0441\\u0451 \\u0432\\u0435\\u0437\\u0434\\u0435 \\u0438 \\u0441\\u0440\\u0430\\u0437\\u0443\",\"\\u041e\\u0441\\u0442\\u0440\\u044b\\u0435 \\u043a\\u043e\\u0437\\u044b\\u0440\\u044c\\u043a\\u0438\",\"\\u041a\\u043e\\u0440\\u043e\\u043b\\u044c \\u0438 \\u0428\\u0443\\u0442\",\"\\u041d\\u0443\\u043b\\u0435\\u0432\\u043e\\u0439 \\u043f\\u0430\\u0446\\u0438\\u0435\\u043d\\u0442\",\"\\u0418\\u043d\\u0442\\u0435\\u0440\\u0441\\u0442\\u0435\\u043b\\u043b\\u0430\\u0440\",\"\\u0422\\u0435\\u043e\\u0440\\u0438\\u044f \\u0431\\u043e\\u043b\\u044c\\u0448\\u043e\\u0433\\u043e \\u0432\\u0437\\u0440\\u044b\\u0432\\u0430\",\"\\u041a\\u043e\\u0440\\u043e\\u043b\\u044c \\u0438 \\u0428\\u0443\\u0442\",\"\\u0413\\u0440\\u0430\\u043d\\u044c \\u0431\\u0443\\u0434\\u0443\\u0449\\u0435\\u0433\\u043e\",\"\\u041e\\u043f\\u0435\\u0440\\u0430\\u0446\\u0438\\u044f \\u00ab\\u0424\\u043e\\u0440\\u0442\\u0443\\u043d\\u0430\\u00bb: \\u0418\\u0441\\u043a\\u0443\\u0441\\u0441\\u0442\\u0432\\u043e \\u043f\\u043e\\u0431\\u0435\\u0436\\u0434\\u0430\\u0442\\u044c\",\"\\u0427\\u0435\\u0431\\u0443\\u0440\\u0430\\u0448\\u043a\\u0430\",\"\\u041a\\u0440\\u0430\\u0441\\u043e\\u0442\\u043a\\u0430\",\"\\u0418\\u0433\\u0440\\u0430\",\"\\u041e\\u043d\\u043e\",\"\\u0414\\u0436\\u043e\\u043d \\u0423\\u0438\\u043a 4\",\"\\u041a\\u043e\\u0440\\u043e\\u043b\\u044c \\u0438 \\u0428\\u0443\\u0442\",\"\\u041a\\u043e\\u0440\\u043e\\u043b\\u044c \\u0438 \\u0428\\u0443\\u0442\",\"\\u0425\\u043e\\u043b\\u043e\\u0434\\u043d\\u043e\\u0435 \\u0441\\u0435\\u0440\\u0434\\u0446\\u0435\",\"\\u0412\\u0441\\u0451 \\u0432\\u0435\\u0437\\u0434\\u0435 \\u0438 \\u0441\\u0440\\u0430\\u0437\\u0443\",\"\\u041a\\u043e\\u0440\\u043e\\u043b\\u044c \\u0438 \\u0428\\u0443\\u0442\",\"\\u041a\\u043e\\u0440\\u043e\\u043b\\u044c \\u0438 \\u0428\\u0443\\u0442\",\"\\u041a\\u043e\\u0440\\u043e\\u043b\\u044c \\u0438 \\u0428\\u0443\\u0442\",\"\\u041a\\u043e\\u0440\\u043e\\u043b\\u044c \\u0438 \\u0428\\u0443\\u0442\",\"\\u041a\\u043e\\u0440\\u043e\\u043b\\u044c \\u0438 \\u0428\\u0443\\u0442\",\"\\u041a\\u043e\\u0440\\u043e\\u043b\\u044c \\u0438 \\u0428\\u0443\\u0442\",\"\\u0422\\u043e\\u043f\\u0438\",\"\\u041e\\u043f\\u0435\\u0440\\u0430\\u0446\\u0438\\u044f \\u00ab\\u0424\\u043e\\u0440\\u0442\\u0443\\u043d\\u0430\\u00bb: \\u0418\\u0441\\u043a\\u0443\\u0441\\u0441\\u0442\\u0432\\u043e \\u043f\\u043e\\u0431\\u0435\\u0436\\u0434\\u0430\\u0442\\u044c\",\"\\u0412\\u044b\\u0448\\u043a\\u0430\",\"\\u0418\\u0441\\u0447\\u0435\\u0437\\u043d\\u0443\\u0432\\u0448\\u0430\\u044f\",\"\\u0412\\u043e \\u0432\\u0441\\u0435 \\u0442\\u044f\\u0436\\u043a\\u0438\\u0435\",\"\\u041a\\u043e\\u0440\\u043e\\u043b\\u044c \\u0438 \\u0428\\u0443\\u0442\",\"\\u0412\\u043e\\u043b\\u043a \\u0441 \\u0423\\u043e\\u043b\\u043b-\\u0441\\u0442\\u0440\\u0438\\u0442\",\"\\u041b\\u0438\\u0433\\u0430 \\u0441\\u043f\\u0440\\u0430\\u0432\\u0435\\u0434\\u043b\\u0438\\u0432\\u043e\\u0441\\u0442\\u0438 \\u0417\\u0430\\u043a\\u0430 \\u0421\\u043d\\u0430\\u0439\\u0434\\u0435\\u0440\\u0430\",\"\\u041a\\u043e\\u0440\\u043e\\u043b\\u044c \\u0438 \\u0428\\u0443\\u0442\",\"\\u041a\\u043e\\u0440\\u043e\\u043b\\u044c \\u0438 \\u0428\\u0443\\u0442\",\"\\u041f\\u0435\\u0440\\u0432\\u043e\\u043c\\u0443 \\u0438\\u0433\\u0440\\u043e\\u043a\\u0443 \\u043f\\u0440\\u0438\\u0433\\u043e\\u0442\\u043e\\u0432\\u0438\\u0442\\u044c\\u0441\\u044f\",\"\\u041a\\u043e\\u0440\\u043e\\u043b\\u044c \\u0438 \\u0428\\u0443\\u0442\",\"\\u041a\\u043e\\u0440\\u043e\\u043b\\u044c \\u0438 \\u0428\\u0443\\u0442\",\"\\u041c\\u043e\\u043d\\u0430\\u0441\\u0442\\u044b\\u0440\\u044c\",\"\\u0414\\u0440\\u0430\\u0439\\u0432\",\"\\u0413\\u043d\\u0435\\u0432 \\u0447\\u0435\\u043b\\u043e\\u0432\\u0435\\u0447\\u0435\\u0441\\u043a\\u0438\\u0439\",\"\\u0414\\u0436\\u043e\\u043d \\u0423\\u0438\\u043a 4\",\"\\u041e\\u043f\\u0435\\u0440\\u0430\\u0446\\u0438\\u044f \\u00ab\\u0424\\u043e\\u0440\\u0442\\u0443\\u043d\\u0430\\u00bb: \\u0418\\u0441\\u043a\\u0443\\u0441\\u0441\\u0442\\u0432\\u043e \\u043f\\u043e\\u0431\\u0435\\u0436\\u0434\\u0430\\u0442\\u044c\",\"\\u0414\\u043e\\u0441\\u0442\\u0443\\u0447\\u0430\\u0442\\u044c\\u0441\\u044f \\u0434\\u043e \\u043d\\u0435\\u0431\\u0435\\u0441\",\"\\u0427\\u0435\\u0431\\u0443\\u0440\\u0430\\u0448\\u043a\\u0430\",\"\\u041e\\u0447\\u0435\\u043d\\u044c \\u0441\\u0442\\u0440\\u0430\\u043d\\u043d\\u044b\\u0435 \\u0434\\u0435\\u043b\\u0430\",\"1+1\",\"\\u0427\\u0435\\u0440\\u043d\\u044b\\u0439 \\u044f\\u0449\\u0438\\u043a\",\"\\u041e\\u043f\\u0435\\u0440\\u0430\\u0446\\u0438\\u044f \\u00ab\\u0424\\u043e\\u0440\\u0442\\u0443\\u043d\\u0430\\u00bb: \\u0418\\u0441\\u043a\\u0443\\u0441\\u0441\\u0442\\u0432\\u043e \\u043f\\u043e\\u0431\\u0435\\u0436\\u0434\\u0430\\u0442\\u044c\",\"\\u0412\\u0441\\u0451 \\u0432\\u0435\\u0437\\u0434\\u0435 \\u0438 \\u0441\\u0440\\u0430\\u0437\\u0443\",\"\\u0414\\u044c\\u044f\\u0432\\u043e\\u043b \\u043d\\u043e\\u0441\\u0438\\u0442 Prada\",\"\\u0412\\u0435\\u0447\\u043d\\u043e\\u0435 \\u0441\\u0438\\u044f\\u043d\\u0438\\u0435 \\u0447\\u0438\\u0441\\u0442\\u043e\\u0433\\u043e \\u0440\\u0430\\u0437\\u0443\\u043c\\u0430\",\"\\u041e\\u043f\\u0435\\u0440\\u0430\\u0446\\u0438\\u044f \\u00ab\\u0424\\u043e\\u0440\\u0442\\u0443\\u043d\\u0430\\u00bb: \\u0418\\u0441\\u043a\\u0443\\u0441\\u0441\\u0442\\u0432\\u043e \\u043f\\u043e\\u0431\\u0435\\u0436\\u0434\\u0430\\u0442\\u044c\",\"\\u0414\\u0436\\u043e\\u043d \\u0423\\u0438\\u043a 4\",\"\\u0414\\u0436\\u043e\\u043d \\u0423\\u0438\\u043a 4\",\"\\u0417\\u0430\\u043a\\u043e\\u043d\\u043e\\u043f\\u043e\\u0441\\u043b\\u0443\\u0448\\u043d\\u044b\\u0439 \\u0433\\u0440\\u0430\\u0436\\u0434\\u0430\\u043d\\u0438\\u043d\",\"\\u041a\\u043e\\u0440\\u043e\\u043b\\u044c \\u0438 \\u0428\\u0443\\u0442\",\"\\u041a\\u043e\\u0440\\u043e\\u043b\\u044c \\u0438 \\u0428\\u0443\\u0442\",\"\\u041a\\u043e\\u0440\\u043e\\u043b\\u044c \\u0438 \\u0428\\u0443\\u0442\",\"\\u0422\\u0430\\u0439\\u043d\\u0430 \\u041a\\u043e\\u043a\\u043e\",\"\\u041a\\u043e\\u0440\\u043e\\u043b\\u044c \\u0438 \\u0428\\u0443\\u0442\",\"\\u041a\\u043e\\u0440\\u043e\\u043b\\u044c \\u0438 \\u0428\\u0443\\u0442\",\"\\u0418\\u043d\\u0442\\u0435\\u0440\\u0441\\u0442\\u0435\\u043b\\u043b\\u0430\\u0440\",\"\\u0414\\u0436\\u043e\\u043d \\u0423\\u0438\\u043a 4\",\"\\u0414\\u0436\\u043e\\u043d \\u0423\\u0438\\u043a 4\",\"\\u0410\\u043a\\u0432\\u0430\\u043c\\u0435\\u043d\",\"\\u041b\\u0435\\u043e\\u043d\",\"\\u0427\\u0435\\u0431\\u0443\\u0440\\u0430\\u0448\\u043a\\u0430\",\"Ford \\u043f\\u0440\\u043e\\u0442\\u0438\\u0432 Ferrari\",\"\\u0412\\u0441\\u0451 \\u0432\\u0435\\u0437\\u0434\\u0435 \\u0438 \\u0441\\u0440\\u0430\\u0437\\u0443\",\"\\u0411\\u0435\\u0433\\u0443\\u0449\\u0438\\u0439 \\u043f\\u043e \\u043b\\u0435\\u0437\\u0432\\u0438\\u044e 2049\",\"\\u041d\\u0443\\u043b\\u0435\\u0432\\u043e\\u0439 \\u043f\\u0430\\u0446\\u0438\\u0435\\u043d\\u0442\",\"\\u041d\\u0443\\u043b\\u0435\\u0432\\u043e\\u0439 \\u043f\\u0430\\u0446\\u0438\\u0435\\u043d\\u0442\",\"\\u0414\\u0436\\u043e\\u043d \\u0423\\u0438\\u043a\",\"\\u0414\\u043e\\u043c \\u0414\\u0440\\u0430\\u043a\\u043e\\u043d\\u0430\",\"\\u041e\\u043f\\u0435\\u0440\\u0430\\u0446\\u0438\\u044f \\u00ab\\u0424\\u043e\\u0440\\u0442\\u0443\\u043d\\u0430\\u00bb: \\u0418\\u0441\\u043a\\u0443\\u0441\\u0441\\u0442\\u0432\\u043e \\u043f\\u043e\\u0431\\u0435\\u0436\\u0434\\u0430\\u0442\\u044c\",\"\\u0410\\u0432\\u0430\\u0442\\u0430\\u0440\",\"\\u041a\\u043e\\u0440\\u043e\\u043b\\u044c \\u0438 \\u0428\\u0443\\u0442\",\"\\u0414\\u0436\\u043e\\u043d \\u0423\\u0438\\u043a\",\"\\u041e\\u043f\\u0435\\u0440\\u0430\\u0446\\u0438\\u044f \\u00ab\\u0424\\u043e\\u0440\\u0442\\u0443\\u043d\\u0430\\u00bb: \\u0418\\u0441\\u043a\\u0443\\u0441\\u0441\\u0442\\u0432\\u043e \\u043f\\u043e\\u0431\\u0435\\u0436\\u0434\\u0430\\u0442\\u044c\",\"\\u041a\\u043e\\u0440\\u043e\\u043b\\u044c \\u0438 \\u0428\\u0443\\u0442\",\"\\u041a\\u043e\\u0440\\u043e\\u043b\\u044c \\u0438 \\u0428\\u0443\\u0442\",\"\\u041a\\u043e\\u0440\\u043e\\u043b\\u044c \\u0438 \\u0428\\u0443\\u0442\",\"\\u0414\\u0436\\u043e\\u043d \\u0423\\u0438\\u043a 4\",\"\\u041a\\u043e\\u0440\\u043e\\u043b\\u044c \\u0438 \\u0428\\u0443\\u0442\",\"\\u0412\\u0441\\u0451 \\u0432\\u0435\\u0437\\u0434\\u0435 \\u0438 \\u0441\\u0440\\u0430\\u0437\\u0443\",\"\\u041e\\u043f\\u0435\\u0440\\u0430\\u0446\\u0438\\u044f \\u00ab\\u0424\\u043e\\u0440\\u0442\\u0443\\u043d\\u0430\\u00bb: \\u0418\\u0441\\u043a\\u0443\\u0441\\u0441\\u0442\\u0432\\u043e \\u043f\\u043e\\u0431\\u0435\\u0436\\u0434\\u0430\\u0442\\u044c\",\"\\u0414\\u0436\\u043e\\u043d \\u0423\\u0438\\u043a 4\",\"\\u0427\\u0435\\u0440\\u043d\\u043e\\u0431\\u044b\\u043b\\u044c\",\"\\u0423\\u044d\\u043d\\u0441\\u0434\\u044d\\u0439\",\"\\u0414\\u0436\\u0430\\u043d\\u0433\\u043e \\u043e\\u0441\\u0432\\u043e\\u0431\\u043e\\u0436\\u0434\\u0435\\u043d\\u043d\\u044b\\u0439\",\"\\u041e\\u0441\\u0442\\u0440\\u043e\\u0432 \\u043f\\u0440\\u043e\\u043a\\u043b\\u044f\\u0442\\u044b\\u0445\",\"\\u0425\\u043e\\u0434\\u044f\\u0447\\u0438\\u0435 \\u043c\\u0435\\u0440\\u0442\\u0432\\u0435\\u0446\\u044b\",\"\\u0413\\u0440\\u0430\\u0432\\u0438\\u0442\\u0438 \\u0424\\u043e\\u043b\\u0437\",\"\\u0412\\u043e \\u0432\\u0441\\u0435 \\u0442\\u044f\\u0436\\u043a\\u0438\\u0435\",\"\\u0414\\u0436\\u0435\\u043d\\u0442\\u043b\\u044c\\u043c\\u0435\\u043d\\u044b\",\"\\u0427\\u0435\\u0431\\u0443\\u0440\\u0430\\u0448\\u043a\\u0430\",\"\\u0412\\u0441\\u0451 \\u0432\\u0435\\u0437\\u0434\\u0435 \\u0438 \\u0441\\u0440\\u0430\\u0437\\u0443\",\"\\u0414\\u0436\\u043e\\u043d \\u0423\\u0438\\u043a 4\",\"\\u0427\\u0435\\u0440\\u043d\\u043e\\u0431\\u044b\\u043b\\u044c\",\"\\u041a\\u043e\\u0440\\u043e\\u043b\\u044c \\u0438 \\u0428\\u0443\\u0442\",\"\\u0414\\u0436\\u043e\\u043d \\u0423\\u0438\\u043a 4\",\"\\u041a\\u043e\\u0440\\u043e\\u043b\\u044c \\u0438 \\u0428\\u0443\\u0442\",\"\\u0414\\u0436\\u043e\\u043d \\u0423\\u0438\\u043a 4\",\"\\u0421\\u0432\\u0430\\u0442\\u044b\",\"\\u0423\\u044d\\u043d\\u0441\\u0434\\u044d\\u0439\",\"1+1\",\"\\u041a\\u043e\\u0440\\u043e\\u043b\\u044c \\u0438 \\u0428\\u0443\\u0442\",\"\\u041a\\u043e\\u0440\\u043e\\u043b\\u044c \\u0438 \\u0428\\u0443\\u0442\",\"\\u041e\\u043f\\u0435\\u0440\\u0430\\u0446\\u0438\\u044f \\u00ab\\u0424\\u043e\\u0440\\u0442\\u0443\\u043d\\u0430\\u00bb: \\u0418\\u0441\\u043a\\u0443\\u0441\\u0441\\u0442\\u0432\\u043e \\u043f\\u043e\\u0431\\u0435\\u0436\\u0434\\u0430\\u0442\\u044c\",\"\\u0414\\u0436\\u043e\\u043d \\u0423\\u0438\\u043a 4\",\"\\u041a\\u043e\\u0440\\u043e\\u043b\\u044c \\u0438 \\u0428\\u0443\\u0442\",\"\\u0414\\u0436\\u043e\\u043d \\u0423\\u0438\\u043a 4\",\"\\u0412\\u0430\\u043c\\u043f\\u0438\\u0440\\u044b \\u0441\\u0440\\u0435\\u0434\\u043d\\u0435\\u0439 \\u043f\\u043e\\u043b\\u043e\\u0441\\u044b\",\"\\u041a\\u043e\\u0440\\u043e\\u043b\\u044c \\u0438 \\u0428\\u0443\\u0442\",\"\\u0421\\u0432\\u0435\\u0440\\u0445\\u044a\\u0435\\u0441\\u0442\\u0435\\u0441\\u0442\\u0432\\u0435\\u043d\\u043d\\u043e\\u0435\",\"\\u041e\\u0441\\u0442\\u0440\\u044b\\u0435 \\u043a\\u043e\\u0437\\u044b\\u0440\\u044c\\u043a\\u0438\",\"\\u0414\\u0436\\u043e\\u043d \\u0423\\u0438\\u043a\",\"\\u0412\\u0441\\u0451 \\u0432\\u0435\\u0437\\u0434\\u0435 \\u0438 \\u0441\\u0440\\u0430\\u0437\\u0443\",\"\\u0428\\u0440\\u044d\\u043a 2\",\"\\u0427\\u0435\\u043b\\u043e\\u0432\\u0435\\u043a-\\u043f\\u0430\\u0443\\u043a: \\u0412\\u0434\\u0430\\u043b\\u0438 \\u043e\\u0442 \\u0434\\u043e\\u043c\\u0430\",\"\\u041a\\u043e\\u0440\\u043e\\u043b\\u044c \\u0438 \\u0428\\u0443\\u0442\",\"\\u0414\\u0436\\u043e\\u043d \\u0423\\u0438\\u043a 4\",\"\\u041a\\u043e\\u0440\\u043e\\u043b\\u044c \\u0438 \\u0428\\u0443\\u0442\",\"\\u041e\\u043f\\u0435\\u0440\\u0430\\u0446\\u0438\\u044f \\u00ab\\u0424\\u043e\\u0440\\u0442\\u0443\\u043d\\u0430\\u00bb: \\u0418\\u0441\\u043a\\u0443\\u0441\\u0441\\u0442\\u0432\\u043e \\u043f\\u043e\\u0431\\u0435\\u0436\\u0434\\u0430\\u0442\\u044c\",\"\\u0414\\u0436\\u043e\\u043d \\u0423\\u0438\\u043a 4\",\"\\u0414\\u0436\\u043e\\u043d \\u0423\\u0438\\u043a 4\",\"\\u0427\\u0435\\u0431\\u0443\\u0440\\u0430\\u0448\\u043a\\u0430\",\"\\u041a\\u043e\\u0440\\u043e\\u043b\\u044c \\u0438 \\u0428\\u0443\\u0442\",\"\\u041a\\u043e\\u0440\\u043e\\u043b\\u044c \\u0438 \\u0428\\u0443\\u0442\",\"\\u041e\\u0434\\u043d\\u0430\\u0436\\u0434\\u044b \\u0432\\u2026 \\u0413\\u043e\\u043b\\u043b\\u0438\\u0432\\u0443\\u0434\\u0435\",\"\\u041b\\u0438\\u0433\\u0430 \\u0441\\u043f\\u0440\\u0430\\u0432\\u0435\\u0434\\u043b\\u0438\\u0432\\u043e\\u0441\\u0442\\u0438 \\u0417\\u0430\\u043a\\u0430 \\u0421\\u043d\\u0430\\u0439\\u0434\\u0435\\u0440\\u0430\",\"\\u0418\\u0440\\u043e\\u043d\\u0438\\u044f \\u0441\\u0443\\u0434\\u044c\\u0431\\u044b, \\u0438\\u043b\\u0438 \\u0421 \\u043b\\u0435\\u0433\\u043a\\u0438\\u043c \\u043f\\u0430\\u0440\\u043e\\u043c!\",\"\\u041e\\u0434\\u0438\\u043d \\u0434\\u043e\\u043c\\u0430\",\"\\u0414\\u0436\\u043e\\u043d \\u0423\\u0438\\u043a 4\",\"\\u0412\\u0441\\u0451 \\u0432\\u0435\\u0437\\u0434\\u0435 \\u0438 \\u0441\\u0440\\u0430\\u0437\\u0443\",\"\\u0412\\u0410\\u041b\\u041b\\u00b7\\u0418\",\"\\u0412\\u0441\\u0451 \\u0432\\u0435\\u0437\\u0434\\u0435 \\u0438 \\u0441\\u0440\\u0430\\u0437\\u0443\",\"\\u0414\\u043e\\u0441\\u0442\\u0430\\u0442\\u044c \\u043d\\u043e\\u0436\\u0438\",\"\\u0414\\u0440\\u0430\\u0439\\u0432\",\"\\u0412\\u0441\\u0451 \\u0432\\u0435\\u0437\\u0434\\u0435 \\u0438 \\u0441\\u0440\\u0430\\u0437\\u0443\",\"\\u0412\\u0435\\u0434\\u044c\\u043c\\u0430\\u043a\",\"\\u0412\\u0435\\u043d\\u043e\\u043c\",\"\\u0413\\u043b\\u0430\\u0434\\u0438\\u0430\\u0442\\u043e\\u0440\",\"\\u041e\\u043f\\u0435\\u0440\\u0430\\u0446\\u0438\\u044f \\u00ab\\u0424\\u043e\\u0440\\u0442\\u0443\\u043d\\u0430\\u00bb: \\u0418\\u0441\\u043a\\u0443\\u0441\\u0441\\u0442\\u0432\\u043e \\u043f\\u043e\\u0431\\u0435\\u0436\\u0434\\u0430\\u0442\\u044c\",\"\\u0414\\u0436\\u043e\\u043d \\u0423\\u0438\\u043a 4\",\"\\u0414\\u0436\\u043e\\u043d \\u0423\\u0438\\u043a 4\",\"\\u041c\\u043e\\u0441\\u043a\\u0432\\u0430 \\u0441\\u043b\\u0435\\u0437\\u0430\\u043c \\u043d\\u0435 \\u0432\\u0435\\u0440\\u0438\\u0442\",\"\\u0412\\u044b\\u0448\\u043a\\u0430\",\"\\u0414\\u0436\\u043e\\u043d \\u0423\\u0438\\u043a 4\",\"\\u041a\\u043e\\u0440\\u043e\\u043b\\u044c \\u0438 \\u0428\\u0443\\u0442\",\"\\u0423\\u044d\\u043d\\u0441\\u0434\\u044d\\u0439\",\"\\u041a\\u043e\\u0440\\u043e\\u043b\\u044c \\u0438 \\u0428\\u0443\\u0442\",\"\\u0414\\u0436\\u043e\\u043d \\u0423\\u0438\\u043a 4\",\"\\u0427\\u0435\\u0431\\u0443\\u0440\\u0430\\u0448\\u043a\\u0430\",\"\\u0412\\u0440\\u0435\\u043c\\u044f\",\"\\u0414\\u043e\\u0441\\u0442\\u0430\\u0442\\u044c \\u043d\\u043e\\u0436\\u0438\",\"\\u0412\\u0441\\u0451 \\u0432\\u0435\\u0437\\u0434\\u0435 \\u0438 \\u0441\\u0440\\u0430\\u0437\\u0443\",\"\\u0414\\u0436\\u043e\\u043d \\u0423\\u0438\\u043a 4\",\"\\u041a\\u043e\\u0440\\u043e\\u043b\\u044c \\u0438 \\u0428\\u0443\\u0442\",\"\\u041a\\u043e\\u0440\\u043e\\u043b\\u044c \\u0438 \\u0428\\u0443\\u0442\",\"\\u0412\\u0441\\u0451 \\u0432\\u0435\\u0437\\u0434\\u0435 \\u0438 \\u0441\\u0440\\u0430\\u0437\\u0443\",\"\\u0423\\u043d\\u0435\\u0441\\u0451\\u043d\\u043d\\u044b\\u0435 \\u043f\\u0440\\u0438\\u0437\\u0440\\u0430\\u043a\\u0430\\u043c\\u0438\",\"\\u0414\\u0436\\u043e\\u043d \\u0423\\u0438\\u043a 4\",\"\\u0414\\u0436\\u043e\\u043d \\u0423\\u0438\\u043a 4\",\"\\u0414\\u0436\\u043e\\u043d \\u0423\\u0438\\u043a 4\",\"\\u0427\\u0435\\u0431\\u0443\\u0440\\u0430\\u0448\\u043a\\u0430\",\"\\u0412\\u0430\\u043c\\u043f\\u0438\\u0440\\u044b \\u0441\\u0440\\u0435\\u0434\\u043d\\u0435\\u0439 \\u043f\\u043e\\u043b\\u043e\\u0441\\u044b\",\"\\u0414\\u0436\\u043e\\u043d \\u0423\\u0438\\u043a 4\",\"\\u041c\\u043e\\u043d\\u0430\\u0441\\u0442\\u044b\\u0440\\u044c\",\"\\u041a\\u043e\\u0440\\u043e\\u043b\\u044c \\u0438 \\u0428\\u0443\\u0442\",\"\\u0412\\u0441\\u0451 \\u0432\\u0435\\u0437\\u0434\\u0435 \\u0438 \\u0441\\u0440\\u0430\\u0437\\u0443\",\"\\u0410\\u0432\\u0430\\u0442\\u0430\\u0440\",\"\\u0425\\u043e\\u043b\\u043e\\u043f\",\"\\u0410\\u0432\\u0430\\u0442\\u0430\\u0440\",\"\\u0427\\u0435\\u0431\\u0443\\u0440\\u0430\\u0448\\u043a\\u0430\",\"\\u0418\\u0441\\u0447\\u0435\\u0437\\u043d\\u0443\\u0432\\u0448\\u0430\\u044f\",\"\\u0412\\u0441\\u0451 \\u0432\\u0435\\u0437\\u0434\\u0435 \\u0438 \\u0441\\u0440\\u0430\\u0437\\u0443\",\"\\u0411\\u0435\\u0441\\u043f\\u0440\\u0438\\u043d\\u0446\\u0438\\u043f\\u043d\\u044b\\u0435 \\u0432 \\u0434\\u0435\\u0440\\u0435\\u0432\\u043d\\u0435\",\"\\u041a\\u043e\\u0440\\u043e\\u043b\\u044c \\u0438 \\u0428\\u0443\\u0442\",\"\\u0412\\u0441\\u0451 \\u0432\\u0435\\u0437\\u0434\\u0435 \\u0438 \\u0441\\u0440\\u0430\\u0437\\u0443\",\"\\u041a\\u043e\\u0440\\u043e\\u043b\\u044c \\u0438 \\u0428\\u0443\\u0442\",\"\\u0422\\u0440\\u0438\\u0433\\u0433\\u0435\\u0440\",\"\\u041a\\u043e\\u0440\\u043e\\u043b\\u044c \\u0438 \\u0428\\u0443\\u0442\",\"\\u041f\\u044f\\u0442\\u044b\\u0439 \\u044d\\u043b\\u0435\\u043c\\u0435\\u043d\\u0442\",\"\\u041a\\u043e\\u0440\\u043e\\u043b\\u044c \\u0438 \\u0428\\u0443\\u0442\",\"\\u0412\\u0441\\u0451 \\u0432\\u0435\\u0437\\u0434\\u0435 \\u0438 \\u0441\\u0440\\u0430\\u0437\\u0443\",\"\\u0411\\u0435\\u0441\\u0441\\u0442\\u044b\\u0436\\u0438\\u0435\",\"\\u0412\\u0441\\u0451 \\u0432\\u0435\\u0437\\u0434\\u0435 \\u0438 \\u0441\\u0440\\u0430\\u0437\\u0443\",\"\\u041a\\u043e\\u0440\\u043e\\u043b\\u044c \\u0438 \\u0428\\u0443\\u0442\",\"\\u041f\\u043e \\u0441\\u043e\\u043e\\u0431\\u0440\\u0430\\u0436\\u0435\\u043d\\u0438\\u044f\\u043c \\u0441\\u043e\\u0432\\u0435\\u0441\\u0442\\u0438\",\"\\u041e\\u043f\\u0435\\u0440\\u0430\\u0446\\u0438\\u044f \\u00ab\\u0424\\u043e\\u0440\\u0442\\u0443\\u043d\\u0430\\u00bb: \\u0418\\u0441\\u043a\\u0443\\u0441\\u0441\\u0442\\u0432\\u043e \\u043f\\u043e\\u0431\\u0435\\u0436\\u0434\\u0430\\u0442\\u044c\",\"\\u041e\\u0441\\u0442\\u0440\\u044b\\u0435 \\u043a\\u043e\\u0437\\u044b\\u0440\\u044c\\u043a\\u0438\",\"\\u0427\\u0435\\u0431\\u0443\\u0440\\u0430\\u0448\\u043a\\u0430\",\"\\u0422\\u0440\\u0438\\u0433\\u0433\\u0435\\u0440\",\"\\u0427\\u0435\\u0431\\u0443\\u0440\\u0430\\u0448\\u043a\\u0430\",\"\\u041e\\u043f\\u0435\\u0440\\u0430\\u0446\\u0438\\u044f \\u00ab\\u0424\\u043e\\u0440\\u0442\\u0443\\u043d\\u0430\\u00bb: \\u0418\\u0441\\u043a\\u0443\\u0441\\u0441\\u0442\\u0432\\u043e \\u043f\\u043e\\u0431\\u0435\\u0436\\u0434\\u0430\\u0442\\u044c\",\"\\u0412\\u0441\\u0451 \\u0432\\u0435\\u0437\\u0434\\u0435 \\u0438 \\u0441\\u0440\\u0430\\u0437\\u0443\",\"\\u0422\\u043e\\u043f\\u0438\",\"\\u0414\\u0440\\u0430\\u0439\\u0432\",\"\\u041a\\u043e\\u0440\\u043e\\u043b\\u044c \\u0438 \\u0428\\u0443\\u0442\",\"\\u041a\\u043e\\u0440\\u043e\\u043b\\u044c \\u0438 \\u0428\\u0443\\u0442\",\"\\u0412\\u0441\\u0451 \\u0432\\u0435\\u0437\\u0434\\u0435 \\u0438 \\u0441\\u0440\\u0430\\u0437\\u0443\",\"\\u041a\\u0430\\u0440\\u0442\\u044b, \\u0434\\u0435\\u043d\\u044c\\u0433\\u0438, \\u0434\\u0432\\u0430 \\u0441\\u0442\\u0432\\u043e\\u043b\\u0430\",\"\\u0412\\u0430\\u043c\\u043f\\u0438\\u0440\\u044b \\u0441\\u0440\\u0435\\u0434\\u043d\\u0435\\u0439 \\u043f\\u043e\\u043b\\u043e\\u0441\\u044b\",\"\\u041a\\u043e\\u0440\\u043e\\u043b\\u044c \\u0438 \\u0428\\u0443\\u0442\",\"\\u0412\\u0441\\u0451 \\u0432\\u0435\\u0437\\u0434\\u0435 \\u0438 \\u0441\\u0440\\u0430\\u0437\\u0443\",\"\\u0417\\u0435\\u043b\\u0435\\u043d\\u0430\\u044f \\u043a\\u043d\\u0438\\u0433\\u0430\",\"\\u041e\\u043f\\u0435\\u0440\\u0430\\u0446\\u0438\\u044f \\u00ab\\u0424\\u043e\\u0440\\u0442\\u0443\\u043d\\u0430\\u00bb: \\u0418\\u0441\\u043a\\u0443\\u0441\\u0441\\u0442\\u0432\\u043e \\u043f\\u043e\\u0431\\u0435\\u0436\\u0434\\u0430\\u0442\\u044c\",\"\\u041a\\u043e\\u0440\\u043e\\u043b\\u044c \\u0438 \\u0428\\u0443\\u0442\",\"\\u0412\\u0441\\u0451 \\u0432\\u0435\\u0437\\u0434\\u0435 \\u0438 \\u0441\\u0440\\u0430\\u0437\\u0443\",\"\\u0410\\u0442\\u0430\\u043a\\u0430 \\u0442\\u0438\\u0442\\u0430\\u043d\\u043e\\u0432\",\"\\u0412\\u0441\\u0451 \\u0432\\u0435\\u0437\\u0434\\u0435 \\u0438 \\u0441\\u0440\\u0430\\u0437\\u0443\",\"\\u0414\\u044e\\u043d\\u0430\",\"\\u0412\\u0441\\u0451 \\u0432\\u0435\\u0437\\u0434\\u0435 \\u0438 \\u0441\\u0440\\u0430\\u0437\\u0443\",\"\\u0411\\u0440\\u0438\\u0433\\u0430\\u0434\\u0430\",\"\\u041a\\u043e\\u0440\\u043e\\u043b\\u044c \\u0438 \\u0428\\u0443\\u0442\",\"\\u041b\\u0443\\u0447\\u0448\\u0435\\u0435 \\u043f\\u0440\\u0435\\u0434\\u043b\\u043e\\u0436\\u0435\\u043d\\u0438\\u0435\",\"\\u0418\\u0441\\u0445\\u043e\\u0434\\u043d\\u044b\\u0439 \\u043a\\u043e\\u0434\",\"\\u0427\\u0435\\u0431\\u0443\\u0440\\u0430\\u0448\\u043a\\u0430\",\"\\u041b\\u0443\\u043b\\u0443 \\u0438 \\u0411\\u0440\\u0438\\u0433\\u0433\\u0441\",\"\\u0427\\u0430\\u0440\\u043b\\u0438 \\u0438 \\u0448\\u043e\\u043a\\u043e\\u043b\\u0430\\u0434\\u043d\\u0430\\u044f \\u0444\\u0430\\u0431\\u0440\\u0438\\u043a\\u0430\",\"\\u0427\\u0435\\u0431\\u0443\\u0440\\u0430\\u0448\\u043a\\u0430\",\"\\u0425\\u043e\\u0434\\u044f\\u0447\\u0438\\u0435 \\u043c\\u0435\\u0440\\u0442\\u0432\\u0435\\u0446\\u044b\",\"\\u041f\\u0430\\u0440\\u0430\\u0437\\u0438\\u0442\\u044b\",\"\\u041f\\u043e\\u0441\\u0442\\u0443\\u0447\\u0438\\u0441\\u044c \\u0432 \\u043c\\u043e\\u044e \\u0434\\u0432\\u0435\\u0440\\u044c\",\"\\u041e\\u043f\\u0435\\u0440\\u0430\\u0446\\u0438\\u044f \\u00ab\\u0424\\u043e\\u0440\\u0442\\u0443\\u043d\\u0430\\u00bb: \\u0418\\u0441\\u043a\\u0443\\u0441\\u0441\\u0442\\u0432\\u043e \\u043f\\u043e\\u0431\\u0435\\u0436\\u0434\\u0430\\u0442\\u044c\",\"\\u0412\\u0441\\u0451 \\u0432\\u0435\\u0437\\u0434\\u0435 \\u0438 \\u0441\\u0440\\u0430\\u0437\\u0443\",\"\\u0412\\u0430\\u043c\\u043f\\u0438\\u0440\\u044b \\u0441\\u0440\\u0435\\u0434\\u043d\\u0435\\u0439 \\u043f\\u043e\\u043b\\u043e\\u0441\\u044b\",\"\\u041a\\u043e\\u0440\\u043e\\u043b\\u044c \\u0438 \\u0428\\u0443\\u0442\",\"\\u041a\\u043e\\u0440\\u043e\\u043b\\u044c \\u0438 \\u0428\\u0443\\u0442\",\"\\u0418\\u043d\\u0442\\u0435\\u0440\\u0441\\u0442\\u0435\\u043b\\u043b\\u0430\\u0440\",\"\\u041a\\u043e\\u0440\\u043e\\u043b\\u044c \\u0438 \\u0428\\u0443\\u0442\",\"\\u041a\\u043e\\u0440\\u043e\\u043b\\u044c \\u0438 \\u0428\\u0443\\u0442\",\"\\u041a\\u043e\\u0440\\u043e\\u043b\\u044c \\u0438 \\u0428\\u0443\\u0442\",\"\\u041f\\u043e\\u0441\\u0442\\u0443\\u0447\\u0438\\u0441\\u044c \\u0432 \\u043c\\u043e\\u044e \\u0434\\u0432\\u0435\\u0440\\u044c\",\"\\u041a\\u043e\\u0440\\u043f\\u043e\\u0440\\u0430\\u0446\\u0438\\u044f \\u043c\\u043e\\u043d\\u0441\\u0442\\u0440\\u043e\\u0432\",\"\\u0422\\u0430\\u0439\\u043d\\u0430 \\u041a\\u043e\\u043a\\u043e\",\"\\u041a\\u043e\\u0440\\u043e\\u043b\\u044c \\u0438 \\u0428\\u0443\\u0442\",\"\\u0412\\u0430\\u043c\\u043f\\u0438\\u0440\\u044b \\u0441\\u0440\\u0435\\u0434\\u043d\\u0435\\u0439 \\u043f\\u043e\\u043b\\u043e\\u0441\\u044b\",\"\\u0427\\u0435\\u0431\\u0443\\u0440\\u0430\\u0448\\u043a\\u0430\",\"\\u0415\\u0449\\u0435 \\u043f\\u043e \\u043e\\u0434\\u043d\\u043e\\u0439\",\"\\u0410\\u0442\\u0430\\u043a\\u0430 \\u0442\\u0438\\u0442\\u0430\\u043d\\u043e\\u0432\",\"\\u0423\\u044d\\u043d\\u0441\\u0434\\u044d\\u0439\",\"\\u0414\\u0440\\u0430\\u0439\\u0432\",\"\\u0410\\u043b\\u0438\\u0442\\u0430: \\u0411\\u043e\\u0435\\u0432\\u043e\\u0439 \\u0430\\u043d\\u0433\\u0435\\u043b\",\"\\u041b\\u0443\\u0447\\u0448\\u0435\\u0435 \\u043f\\u0440\\u0435\\u0434\\u043b\\u043e\\u0436\\u0435\\u043d\\u0438\\u0435\",\"\\u041e\\u0447\\u0435\\u043d\\u044c \\u0441\\u0442\\u0440\\u0430\\u043d\\u043d\\u044b\\u0435 \\u0434\\u0435\\u043b\\u0430\",\"\\u0425\\u043e\\u0434\\u044f\\u0447\\u0438\\u0435 \\u043c\\u0435\\u0440\\u0442\\u0432\\u0435\\u0446\\u044b\",\"\\u0411\\u0435\\u0441\\u043f\\u0440\\u0438\\u043d\\u0446\\u0438\\u043f\\u043d\\u044b\\u0435 \\u0432 \\u0434\\u0435\\u0440\\u0435\\u0432\\u043d\\u0435\",\"\\u041a\\u043e\\u0440\\u043e\\u043b\\u044c \\u0438 \\u0428\\u0443\\u0442\",\"\\u0427\\u0435\\u0431\\u0443\\u0440\\u0430\\u0448\\u043a\\u0430\",\"\\u041a\\u043e\\u0440\\u043e\\u043b\\u044c \\u0438 \\u0428\\u0443\\u0442\",\"\\u0410\\u0442\\u0430\\u043a\\u0430 \\u0442\\u0438\\u0442\\u0430\\u043d\\u043e\\u0432\",\"\\u0428\\u043e\\u0443 \\u0422\\u0440\\u0443\\u043c\\u0430\\u043d\\u0430\",\"\\u041a\\u043e\\u0440\\u043e\\u043b\\u044c \\u0438 \\u0428\\u0443\\u0442\",\"\\u041a\\u043e\\u0440\\u043e\\u043b\\u044c \\u0438 \\u0428\\u0443\\u0442\",\"\\u041a\\u043e\\u0440\\u043e\\u043b\\u044c \\u0438 \\u0428\\u0443\\u0442\",\"\\u041a\\u043e\\u0440\\u043e\\u043b\\u044c \\u0438 \\u0428\\u0443\\u0442\",\"\\u041a\\u043e\\u0440\\u043e\\u043b\\u044c \\u0438 \\u0428\\u0443\\u0442\",\"\\u041a\\u043e\\u0440\\u043e\\u043b\\u044c \\u0438 \\u0428\\u0443\\u0442\",\"\\u041a\\u043e\\u0440\\u043e\\u043b\\u044c \\u0438 \\u0428\\u0443\\u0442\",\"\\u041a\\u043e\\u0440\\u043e\\u043b\\u044c \\u0438 \\u0428\\u0443\\u0442\",\"\\u0414\\u043e\\u043c \\u0414\\u0440\\u0430\\u043a\\u043e\\u043d\\u0430\",\"\\u0414\\u043e\\u043c \\u0414\\u0440\\u0430\\u043a\\u043e\\u043d\\u0430\",\"\\u0412\\u0441\\u0451 \\u0432\\u0435\\u0437\\u0434\\u0435 \\u0438 \\u0441\\u0440\\u0430\\u0437\\u0443\",\"\\u041a\\u043e\\u0440\\u043e\\u043b\\u044c \\u0438 \\u0428\\u0443\\u0442\",\"\\u041f\\u043e \\u0441\\u043e\\u043e\\u0431\\u0440\\u0430\\u0436\\u0435\\u043d\\u0438\\u044f\\u043c \\u0441\\u043e\\u0432\\u0435\\u0441\\u0442\\u0438\",\"\\u0414\\u043e\\u0441\\u0442\\u0430\\u0442\\u044c \\u043d\\u043e\\u0436\\u0438\",\"\\u041a\\u043e\\u0440\\u043e\\u043b\\u044c \\u0438 \\u0428\\u0443\\u0442\",\"\\u041a\\u043e\\u0440\\u043e\\u043b\\u044c \\u0438 \\u0428\\u0443\\u0442\",\"\\u041a\\u043e\\u0440\\u043e\\u043b\\u044c \\u0438 \\u0428\\u0443\\u0442\",\"\\u041a\\u043e\\u0440\\u043e\\u043b\\u044c \\u0438 \\u0428\\u0443\\u0442\",\"\\u0414\\u0443\\u0440\\u0430\\u043a\",\"\\u0411\\u0435\\u0441\\u043f\\u0440\\u0438\\u043d\\u0446\\u0438\\u043f\\u043d\\u044b\\u0435\",\"\\u0411\\u0440\\u0438\\u0433\\u0430\\u0434\\u0430\",\"\\u041b\\u0438\\u0433\\u0430 \\u0441\\u043f\\u0440\\u0430\\u0432\\u0435\\u0434\\u043b\\u0438\\u0432\\u043e\\u0441\\u0442\\u0438 \\u0417\\u0430\\u043a\\u0430 \\u0421\\u043d\\u0430\\u0439\\u0434\\u0435\\u0440\\u0430\",\"\\u0425\\u043e\\u043b\\u043e\\u0434\\u043d\\u043e\\u0435 \\u0441\\u0435\\u0440\\u0434\\u0446\\u0435\",\"\\u0412\\u0441\\u0451 \\u0432\\u0435\\u0437\\u0434\\u0435 \\u0438 \\u0441\\u0440\\u0430\\u0437\\u0443\",\"\\u0428\\u043e\\u0443 \\u0422\\u0440\\u0443\\u043c\\u0430\\u043d\\u0430\",\"\\u0412\\u0432\\u0435\\u0440\\u0445\",\"\\u0420\\u0430\\u0439\\u044f \\u0438 \\u043f\\u043e\\u0441\\u043b\\u0435\\u0434\\u043d\\u0438\\u0439 \\u0434\\u0440\\u0430\\u043a\\u043e\\u043d\",\"\\u0412\\u0430\\u043c\\u043f\\u0438\\u0440\\u044b \\u0441\\u0440\\u0435\\u0434\\u043d\\u0435\\u0439 \\u043f\\u043e\\u043b\\u043e\\u0441\\u044b\",\"\\u0422\\u0440\\u0438\\u0433\\u0433\\u0435\\u0440\",\"\\u0421\\u0432\\u0435\\u0440\\u0445\\u044a\\u0435\\u0441\\u0442\\u0435\\u0441\\u0442\\u0432\\u0435\\u043d\\u043d\\u043e\\u0435\",\"\\u0412\\u0430\\u043c\\u043f\\u0438\\u0440\\u044b \\u0441\\u0440\\u0435\\u0434\\u043d\\u0435\\u0439 \\u043f\\u043e\\u043b\\u043e\\u0441\\u044b\",\"\\u0415\\u0449\\u0435 \\u043f\\u043e \\u043e\\u0434\\u043d\\u043e\\u0439\",\"\\u041f\\u043e \\u0441\\u043e\\u043e\\u0431\\u0440\\u0430\\u0436\\u0435\\u043d\\u0438\\u044f\\u043c \\u0441\\u043e\\u0432\\u0435\\u0441\\u0442\\u0438\",\"\\u0414\\u043e\\u043c \\u0414\\u0440\\u0430\\u043a\\u043e\\u043d\\u0430\",\"\\u041c\\u0441\\u0442\\u0438\\u0442\\u0435\\u043b\\u0438\",\"\\u0422\\u0435\\u043e\\u0440\\u0438\\u044f \\u0431\\u043e\\u043b\\u044c\\u0448\\u043e\\u0433\\u043e \\u0432\\u0437\\u0440\\u044b\\u0432\\u0430\",\"\\u041e\\u0441\\u0442\\u0440\\u043e\\u0432 \\u043f\\u0440\\u043e\\u043a\\u043b\\u044f\\u0442\\u044b\\u0445\",\"\\u041b\\u0435\\u043e\\u043d\",\"\\u041e\\u0434\\u0438\\u043d \\u0434\\u043e\\u043c\\u0430\",\"\\u0413\\u043e\\u043b\\u044f\\u043a\",\"\\u0411\\u0440\\u0430\\u0442\",\"\\u0428\\u0440\\u044d\\u043a\",\"\\u0413\\u0440\\u0430\\u0432\\u0438\\u0442\\u0438 \\u0424\\u043e\\u043b\\u0437\",\"\\u041c\\u0430\\u0436\\u043e\\u0440\",\"\\u0421\\u043f\\u0438\\u0441\\u043e\\u043a \\u0428\\u0438\\u043d\\u0434\\u043b\\u0435\\u0440\\u0430\",\"\\u041b\\u0443\\u043b\\u0443 \\u0438 \\u0411\\u0440\\u0438\\u0433\\u0433\\u0441\",\"\\u0422\\u0435\\u0440\\u043c\\u0438\\u043d\\u0430\\u0442\\u043e\\u0440 2: \\u0421\\u0443\\u0434\\u043d\\u044b\\u0439 \\u0434\\u0435\\u043d\\u044c\",\"\\u0423\\u044d\\u043d\\u0441\\u0434\\u044d\\u0439\",\"\\u0427\\u0435\\u0431\\u0443\\u0440\\u0430\\u0448\\u043a\\u0430\",\"\\u0410\\u0442\\u0430\\u043a\\u0430 \\u0442\\u0438\\u0442\\u0430\\u043d\\u043e\\u0432\",\"\\u041c\\u043e\\u043d\\u0430\\u0441\\u0442\\u044b\\u0440\\u044c\",\"\\u0411\\u0435\\u0441\\u0441\\u043b\\u0430\\u0432\\u043d\\u044b\\u0435 \\u0443\\u0431\\u043b\\u044e\\u0434\\u043a\\u0438\",\"\\u0427\\u0435\\u0431\\u0443\\u0440\\u0430\\u0448\\u043a\\u0430\",\"\\u0410\\u0432\\u0430\\u0442\\u0430\\u0440\",\"\\u0427\\u0435\\u0431\\u0443\\u0440\\u0430\\u0448\\u043a\\u0430\",\"\\u0413\\u043b\\u0430\\u0432\\u043d\\u044b\\u0439 \\u0433\\u0435\\u0440\\u043e\\u0439\",\"\\u041e\\u043f\\u0435\\u0440\\u0430\\u0446\\u0438\\u044f \\u00ab\\u0424\\u043e\\u0440\\u0442\\u0443\\u043d\\u0430\\u00bb: \\u0418\\u0441\\u043a\\u0443\\u0441\\u0441\\u0442\\u0432\\u043e \\u043f\\u043e\\u0431\\u0435\\u0436\\u0434\\u0430\\u0442\\u044c\",\"\\u041e\\u0441\\u0442\\u0440\\u043e\\u0432 \\u043f\\u0440\\u043e\\u043a\\u043b\\u044f\\u0442\\u044b\\u0445\",\"\\u0427\\u0435\\u043b\\u043e\\u0432\\u0435\\u043a-\\u043f\\u0430\\u0443\\u043a: \\u041d\\u0435\\u0442 \\u043f\\u0443\\u0442\\u0438 \\u0434\\u043e\\u043c\\u043e\\u0439\",\"\\u0427\\u0435\\u0431\\u0443\\u0440\\u0430\\u0448\\u043a\\u0430\",\"\\u0413\\u0440\\u0430\\u0432\\u0438\\u0442\\u0438 \\u0424\\u043e\\u043b\\u0437\",\"\\u0414\\u0435\\u043d\\u044c \\u0441\\u0443\\u0440\\u043a\\u0430\",\"\\u0427\\u0435\\u0431\\u0443\\u0440\\u0430\\u0448\\u043a\\u0430\",\"\\u0414\\u0440\\u0430\\u0439\\u0432\",\"\\u041a\\u0440\\u0430\\u0441\\u043e\\u0442\\u043a\\u0430\",\"\\u041a\\u043e\\u0440\\u043e\\u043b\\u044c \\u041b\\u0435\\u0432\",\"\\u041f\\u043e\\u0441\\u0442\\u0443\\u0447\\u0438\\u0441\\u044c \\u0432 \\u043c\\u043e\\u044e \\u0434\\u0432\\u0435\\u0440\\u044c\",\"\\u0412\\u0441\\u0451 \\u0432\\u0435\\u0437\\u0434\\u0435 \\u0438 \\u0441\\u0440\\u0430\\u0437\\u0443\",\"\\u0411\\u0435\\u0441\\u043f\\u0440\\u0438\\u043d\\u0446\\u0438\\u043f\\u043d\\u044b\\u0435\",\"\\u0414\\u043e\\u0441\\u0442\\u0430\\u0442\\u044c \\u043d\\u043e\\u0436\\u0438\",\"\\u0410\\u0434\\u0432\\u043e\\u043a\\u0430\\u0442 \\u0434\\u044c\\u044f\\u0432\\u043e\\u043b\\u0430\",\"\\u0412\\u0441\\u0451 \\u0432\\u0435\\u0437\\u0434\\u0435 \\u0438 \\u0441\\u0440\\u0430\\u0437\\u0443\",\"\\u0423\\u044d\\u043d\\u0441\\u0434\\u044d\\u0439\",\"\\u041c\\u043e\\u043d\\u0430\\u0441\\u0442\\u044b\\u0440\\u044c\",\"\\u0411\\u0440\\u0438\\u0433\\u0430\\u0434\\u0430\",\"\\u0427\\u0435\\u0431\\u0443\\u0440\\u0430\\u0448\\u043a\\u0430\",\"\\u0427\\u0435\\u0431\\u0443\\u0440\\u0430\\u0448\\u043a\\u0430\",\"\\u0418\\u0433\\u0440\\u0430 \\u043f\\u0440\\u0435\\u0441\\u0442\\u043e\\u043b\\u043e\\u0432\",\"\\u0411\\u0435\\u0433\\u0443\\u0449\\u0438\\u0439 \\u043f\\u043e \\u043b\\u0435\\u0437\\u0432\\u0438\\u044e 2049\",\"\\u0427\\u0435\\u0431\\u0443\\u0440\\u0430\\u0448\\u043a\\u0430\",\"\\u0427\\u0435\\u0431\\u0443\\u0440\\u0430\\u0448\\u043a\\u0430\",\"\\u0412\\u0430\\u043c\\u043f\\u0438\\u0440\\u044b \\u0441\\u0440\\u0435\\u0434\\u043d\\u0435\\u0439 \\u043f\\u043e\\u043b\\u043e\\u0441\\u044b\",\"\\u0417\\u0430\\u0441\\u043b\\u0430\\u043d\\u0435\\u0446 \\u0438\\u0437 \\u043a\\u043e\\u0441\\u043c\\u043e\\u0441\\u0430\",\"\\u0422\\u0435\\u043c\\u043d\\u044b\\u0439 \\u0440\\u044b\\u0446\\u0430\\u0440\\u044c: \\u0412\\u043e\\u0437\\u0440\\u043e\\u0436\\u0434\\u0435\\u043d\\u0438\\u0435 \\u043b\\u0435\\u0433\\u0435\\u043d\\u0434\\u044b\",\"\\u041e\\u043f\\u0435\\u0440\\u0430\\u0446\\u0438\\u044f \\u00ab\\u0424\\u043e\\u0440\\u0442\\u0443\\u043d\\u0430\\u00bb: \\u0418\\u0441\\u043a\\u0443\\u0441\\u0441\\u0442\\u0432\\u043e \\u043f\\u043e\\u0431\\u0435\\u0436\\u0434\\u0430\\u0442\\u044c\",\"\\u041e\\u043f\\u0435\\u0440\\u0430\\u0446\\u0438\\u044f \\u00ab\\u0424\\u043e\\u0440\\u0442\\u0443\\u043d\\u0430\\u00bb: \\u0418\\u0441\\u043a\\u0443\\u0441\\u0441\\u0442\\u0432\\u043e \\u043f\\u043e\\u0431\\u0435\\u0436\\u0434\\u0430\\u0442\\u044c\",\"\\u0412\\u0430\\u043c\\u043f\\u0438\\u0440\\u044b \\u0441\\u0440\\u0435\\u0434\\u043d\\u0435\\u0439 \\u043f\\u043e\\u043b\\u043e\\u0441\\u044b\",\"\\u041e\\u0434\\u0435\\u0440\\u0436\\u0438\\u043c\\u043e\\u0441\\u0442\\u044c\",\"\\u0410\\u0442\\u0430\\u043a\\u0430 \\u0442\\u0438\\u0442\\u0430\\u043d\\u043e\\u0432\",\"\\u0414\\u0432\\u0430 \\u0445\\u043e\\u043b\\u043c\\u0430\",\"\\u0421\\u0447\\u0430\\u0441\\u0442\\u043b\\u0438\\u0432\\u043e\\u0435 \\u0447\\u0438\\u0441\\u043b\\u043e \\u0421\\u043b\\u0435\\u0432\\u0438\\u043d\\u0430\",\"\\u0423\\u044d\\u043d\\u0441\\u0434\\u044d\\u0439\",\"\\u0427\\u0435\\u0431\\u0443\\u0440\\u0430\\u0448\\u043a\\u0430\",\"\\u0422\\u0435\\u043c\\u043d\\u044b\\u0439 \\u0440\\u044b\\u0446\\u0430\\u0440\\u044c\",\"\\u0412\\u0410\\u041b\\u041b\\u00b7\\u0418\",\"\\u041e\\u043f\\u0435\\u0440\\u0430\\u0446\\u0438\\u044f \\u00ab\\u0424\\u043e\\u0440\\u0442\\u0443\\u043d\\u0430\\u00bb: \\u0418\\u0441\\u043a\\u0443\\u0441\\u0441\\u0442\\u0432\\u043e \\u043f\\u043e\\u0431\\u0435\\u0436\\u0434\\u0430\\u0442\\u044c\",\"\\u0427\\u0435\\u0431\\u0443\\u0440\\u0430\\u0448\\u043a\\u0430\",\"\\u0427\\u0435\\u0431\\u0443\\u0440\\u0430\\u0448\\u043a\\u0430\",\"\\u0412\\u044b\\u0436\\u0438\\u0432\\u0448\\u0438\\u0439\",\"\\u0427\\u0435\\u0431\\u0443\\u0440\\u0430\\u0448\\u043a\\u0430\",\"\\u0427\\u0435\\u0431\\u0443\\u0440\\u0430\\u0448\\u043a\\u0430\",\"\\u0412\\u0430\\u043c\\u043f\\u0438\\u0440\\u044b \\u0441\\u0440\\u0435\\u0434\\u043d\\u0435\\u0439 \\u043f\\u043e\\u043b\\u043e\\u0441\\u044b\",\"\\u0414\\u0443\\u0440\\u0430\\u043a\",\"\\u0412\\u043e \\u0432\\u0441\\u0435 \\u0442\\u044f\\u0436\\u043a\\u0438\\u0435\",\"\\u0412\\u043b\\u0430\\u0441\\u0442\\u0435\\u043b\\u0438\\u043d \\u043a\\u043e\\u043b\\u0435\\u0446: \\u0411\\u0440\\u0430\\u0442\\u0441\\u0442\\u0432\\u043e \\u041a\\u043e\\u043b\\u044c\\u0446\\u0430\",\"\\u0414\\u0432\\u0430 \\u0445\\u043e\\u043b\\u043c\\u0430\",\"\\u0427\\u0435\\u0431\\u0443\\u0440\\u0430\\u0448\\u043a\\u0430\",\"\\u0427\\u0435\\u0431\\u0443\\u0440\\u0430\\u0448\\u043a\\u0430\",\"\\u0414\\u0436\\u043e\\u043a\\u0435\\u0440\",\"\\u0420\\u0430\\u0442\\u0430\\u0442\\u0443\\u0439\",\"\\u0417\\u0430\\u0441\\u043b\\u0430\\u043d\\u0435\\u0446 \\u0438\\u0437 \\u043a\\u043e\\u0441\\u043c\\u043e\\u0441\\u0430\",\"\\u0418\\u043d\\u0442\\u0435\\u0440\\u0441\\u0442\\u0435\\u043b\\u043b\\u0430\\u0440\",\"\\u041e\\u0434\\u0435\\u0440\\u0436\\u0438\\u043c\\u043e\\u0441\\u0442\\u044c\",\"\\u0417\\u0430\\u043a\\u043e\\u043d\\u043e\\u043f\\u043e\\u0441\\u043b\\u0443\\u0448\\u043d\\u044b\\u0439 \\u0433\\u0440\\u0430\\u0436\\u0434\\u0430\\u043d\\u0438\\u043d\",\"\\u0412\\u0441\\u0451 \\u0432\\u0435\\u0437\\u0434\\u0435 \\u0438 \\u0441\\u0440\\u0430\\u0437\\u0443\",\"\\u0423\\u044d\\u043d\\u0441\\u0434\\u044d\\u0439\",\"\\u041e\\u0447\\u0435\\u043d\\u044c \\u0441\\u0442\\u0440\\u0430\\u043d\\u043d\\u044b\\u0435 \\u0434\\u0435\\u043b\\u0430\",\"\\u041f\\u0438\\u0449\\u0435\\u0431\\u043b\\u043e\\u043a\",\"\\u0427\\u0435\\u0431\\u0443\\u0440\\u0430\\u0448\\u043a\\u0430\",\"\\u0411\\u0440\\u0430\\u0442\",\"\\u0427\\u0435\\u0431\\u0443\\u0440\\u0430\\u0448\\u043a\\u0430\",\"\\u0427\\u0435\\u0431\\u0443\\u0440\\u0430\\u0448\\u043a\\u0430\",\"\\u0417\\u0435\\u043b\\u0435\\u043d\\u0430\\u044f \\u043a\\u043d\\u0438\\u0433\\u0430\",\"\\u0422\\u0435\\u043c\\u043d\\u044b\\u0439 \\u0440\\u044b\\u0446\\u0430\\u0440\\u044c: \\u0412\\u043e\\u0437\\u0440\\u043e\\u0436\\u0434\\u0435\\u043d\\u0438\\u0435 \\u043b\\u0435\\u0433\\u0435\\u043d\\u0434\\u044b\",\"\\u0422\\u043e\\u043f\\u0438\",\"\\u0412\\u0430\\u043c\\u043f\\u0438\\u0440\\u044b \\u0441\\u0440\\u0435\\u0434\\u043d\\u0435\\u0439 \\u043f\\u043e\\u043b\\u043e\\u0441\\u044b\",\"\\u0427\\u0435\\u0440\\u043d\\u044b\\u0439 \\u044f\\u0449\\u0438\\u043a\",\"\\u0413\\u0430\\u0440\\u0440\\u0438 \\u041f\\u043e\\u0442\\u0442\\u0435\\u0440 \\u0438 \\u0414\\u0430\\u0440\\u044b \\u0421\\u043c\\u0435\\u0440\\u0442\\u0438: \\u0427\\u0430\\u0441\\u0442\\u044c II\",\"\\u0412\\u0441\\u0451 \\u0432\\u0435\\u0437\\u0434\\u0435 \\u0438 \\u0441\\u0440\\u0430\\u0437\\u0443\",\"\\u041e\\u043f\\u0435\\u0440\\u0430\\u0446\\u0438\\u044f \\u00ab\\u0424\\u043e\\u0440\\u0442\\u0443\\u043d\\u0430\\u00bb: \\u0418\\u0441\\u043a\\u0443\\u0441\\u0441\\u0442\\u0432\\u043e \\u043f\\u043e\\u0431\\u0435\\u0436\\u0434\\u0430\\u0442\\u044c\",\"\\u0427\\u0435\\u043b\\u043e\\u0432\\u0435\\u043a-\\u043f\\u0430\\u0443\\u043a\",\"\\u041c\\u0430\\u0436\\u043e\\u0440\",\"\\u0415\\u0449\\u0435 \\u043f\\u043e \\u043e\\u0434\\u043d\\u043e\\u0439\",\"\\u0418\\u043d\\u0442\\u0435\\u0440\\u0441\\u0442\\u0435\\u043b\\u043b\\u0430\\u0440\",\"\\u0414\\u044c\\u044f\\u0432\\u043e\\u043b \\u043d\\u043e\\u0441\\u0438\\u0442 Prada\",\"\\u0423\\u044d\\u043d\\u0441\\u0434\\u044d\\u0439\",\"\\u041e\\u043f\\u0435\\u0440\\u0430\\u0446\\u0438\\u044f \\u00ab\\u0424\\u043e\\u0440\\u0442\\u0443\\u043d\\u0430\\u00bb: \\u0418\\u0441\\u043a\\u0443\\u0441\\u0441\\u0442\\u0432\\u043e \\u043f\\u043e\\u0431\\u0435\\u0436\\u0434\\u0430\\u0442\\u044c\",\"\\u0425\\u043e\\u0434\\u044f\\u0447\\u0438\\u0439 \\u0437\\u0430\\u043c\\u043e\\u043a\",\"\\u0411\\u0440\\u044e\\u0441 \\u0412\\u0441\\u0435\\u043c\\u043e\\u0433\\u0443\\u0449\\u0438\\u0439\",\"\\u0422\\u0435\\u043c\\u043d\\u044b\\u0439 \\u0440\\u044b\\u0446\\u0430\\u0440\\u044c\",\"\\u0423\\u044d\\u043d\\u0441\\u0434\\u044d\\u0439\",\"\\u0425\\u043e\\u0434\\u044f\\u0447\\u0438\\u0435 \\u043c\\u0435\\u0440\\u0442\\u0432\\u0435\\u0446\\u044b\",\"\\u041e\\u0434\\u0438\\u043d \\u0434\\u043e\\u043c\\u0430\",\"\\u041c\\u043e\\u043d\\u0430\\u0441\\u0442\\u044b\\u0440\\u044c\",\"\\u0414\\u0432\\u0430 \\u0445\\u043e\\u043b\\u043c\\u0430\",\"\\u0422\\u0438\\u0442\\u0430\\u043d\\u0438\\u043a\",\"\\u0427\\u0435\\u0431\\u0443\\u0440\\u0430\\u0448\\u043a\\u0430\",\"\\u041f\\u0430\\u0440\\u0430\\u0437\\u0438\\u0442\\u044b\",\"\\u0412\\u0441\\u0451 \\u0432\\u0435\\u0437\\u0434\\u0435 \\u0438 \\u0441\\u0440\\u0430\\u0437\\u0443\",\"\\u0427\\u0435\\u0431\\u0443\\u0440\\u0430\\u0448\\u043a\\u0430\",\"\\u0424\\u043e\\u0440\\u0440\\u0435\\u0441\\u0442 \\u0413\\u0430\\u043c\\u043f\",\"\\u0417\\u0435\\u043b\\u0435\\u043d\\u0430\\u044f \\u043c\\u0438\\u043b\\u044f\",\"\\u0411\\u0435\\u0441\\u043f\\u0440\\u0438\\u043d\\u0446\\u0438\\u043f\\u043d\\u044b\\u0435\",\"\\u041e\\u043f\\u0435\\u0440\\u0430\\u0446\\u0438\\u044f \\u00ab\\u0424\\u043e\\u0440\\u0442\\u0443\\u043d\\u0430\\u00bb: \\u0418\\u0441\\u043a\\u0443\\u0441\\u0441\\u0442\\u0432\\u043e \\u043f\\u043e\\u0431\\u0435\\u0436\\u0434\\u0430\\u0442\\u044c\",\"\\u0420\\u0430\\u043f\\u0443\\u043d\\u0446\\u0435\\u043b\\u044c: \\u0417\\u0430\\u043f\\u0443\\u0442\\u0430\\u043d\\u043d\\u0430\\u044f \\u0438\\u0441\\u0442\\u043e\\u0440\\u0438\\u044f\",\"\\u0427\\u0435\\u0431\\u0443\\u0440\\u0430\\u0448\\u043a\\u0430\",\"\\u041e\\u043f\\u0435\\u0440\\u0430\\u0446\\u0438\\u044f \\u00ab\\u0424\\u043e\\u0440\\u0442\\u0443\\u043d\\u0430\\u00bb: \\u0418\\u0441\\u043a\\u0443\\u0441\\u0441\\u0442\\u0432\\u043e \\u043f\\u043e\\u0431\\u0435\\u0436\\u0434\\u0430\\u0442\\u044c\",\"\\u041c\\u0430\\u0436\\u043e\\u0440 \\u0432 \\u0421\\u043e\\u0447\\u0438\",\"\\u041d\\u0443\\u043b\\u0435\\u0432\\u043e\\u0439 \\u043f\\u0430\\u0446\\u0438\\u0435\\u043d\\u0442\",\"\\u0422\\u0430\\u0447\\u043a\\u0438\",\"\\u0413\\u043b\\u0430\\u0432\\u043d\\u044b\\u0439 \\u0433\\u0435\\u0440\\u043e\\u0439\",\"\\u0427\\u0435\\u0431\\u0443\\u0440\\u0430\\u0448\\u043a\\u0430\",\"\\u0423\\u044d\\u043d\\u0441\\u0434\\u044d\\u0439\",\"\\u041e\\u043f\\u0435\\u0440\\u0430\\u0446\\u0438\\u044f \\u00ab\\u0424\\u043e\\u0440\\u0442\\u0443\\u043d\\u0430\\u00bb: \\u0418\\u0441\\u043a\\u0443\\u0441\\u0441\\u0442\\u0432\\u043e \\u043f\\u043e\\u0431\\u0435\\u0436\\u0434\\u0430\\u0442\\u044c\",\"\\u0414\\u044e\\u043d\\u0430\",\"\\u0414\\u043e\\u043c \\u0414\\u0440\\u0430\\u043a\\u043e\\u043d\\u0430\",\"\\u0412\\u043e \\u0432\\u0441\\u0435 \\u0442\\u044f\\u0436\\u043a\\u0438\\u0435\",\"\\u0415\\u0449\\u0435 \\u043f\\u043e \\u043e\\u0434\\u043d\\u043e\\u0439\",\"\\u0423\\u044d\\u043d\\u0441\\u0434\\u044d\\u0439\",\"\\u0427\\u0435\\u0431\\u0443\\u0440\\u0430\\u0448\\u043a\\u0430\",\"\\u0427\\u0435\\u0431\\u0443\\u0440\\u0430\\u0448\\u043a\\u0430\",\"\\u041e\\u043f\\u0435\\u0440\\u0430\\u0446\\u0438\\u044f \\u00ab\\u0424\\u043e\\u0440\\u0442\\u0443\\u043d\\u0430\\u00bb: \\u0418\\u0441\\u043a\\u0443\\u0441\\u0441\\u0442\\u0432\\u043e \\u043f\\u043e\\u0431\\u0435\\u0436\\u0434\\u0430\\u0442\\u044c\",\"\\u041c\\u0430\\u0439\\u043e\\u0440 \\u0413\\u0440\\u043e\\u043c: \\u0427\\u0443\\u043c\\u043d\\u043e\\u0439 \\u0414\\u043e\\u043a\\u0442\\u043e\\u0440\",\"\\u041c\\u0430\\u0439\\u043e\\u0440 \\u0413\\u0440\\u043e\\u043c: \\u0427\\u0443\\u043c\\u043d\\u043e\\u0439 \\u0414\\u043e\\u043a\\u0442\\u043e\\u0440\",\"\\u0422\\u0435\\u0440\\u043c\\u0438\\u043d\\u0430\\u043b\",\"\\u0412\\u044b\\u0448\\u043a\\u0430\",\"\\u041e\\u043f\\u0435\\u0440\\u0430\\u0446\\u0438\\u044f \\u00ab\\u0424\\u043e\\u0440\\u0442\\u0443\\u043d\\u0430\\u00bb: \\u0418\\u0441\\u043a\\u0443\\u0441\\u0441\\u0442\\u0432\\u043e \\u043f\\u043e\\u0431\\u0435\\u0436\\u0434\\u0430\\u0442\\u044c\",\"\\u0412\\u044b\\u0448\\u043a\\u0430\",\"\\u041d\\u0443\\u043b\\u0435\\u0432\\u043e\\u0439 \\u043f\\u0430\\u0446\\u0438\\u0435\\u043d\\u0442\",\"\\u041f\\u043e \\u0441\\u043e\\u043e\\u0431\\u0440\\u0430\\u0436\\u0435\\u043d\\u0438\\u044f\\u043c \\u0441\\u043e\\u0432\\u0435\\u0441\\u0442\\u0438\",\"\\u041e\\u043f\\u0435\\u0440\\u0430\\u0446\\u0438\\u044f \\u00ab\\u0424\\u043e\\u0440\\u0442\\u0443\\u043d\\u0430\\u00bb: \\u0418\\u0441\\u043a\\u0443\\u0441\\u0441\\u0442\\u0432\\u043e \\u043f\\u043e\\u0431\\u0435\\u0436\\u0434\\u0430\\u0442\\u044c\",\"\\u0423\\u044d\\u043d\\u0441\\u0434\\u044d\\u0439\",\"\\u041c\\u0441\\u0442\\u0438\\u0442\\u0435\\u043b\\u0438\",\"\\u041c\\u043e\\u0430\\u043d\\u0430\",\"\\u041e\\u043f\\u0435\\u0440\\u0430\\u0446\\u0438\\u044f \\u00ab\\u0424\\u043e\\u0440\\u0442\\u0443\\u043d\\u0430\\u00bb: \\u0418\\u0441\\u043a\\u0443\\u0441\\u0441\\u0442\\u0432\\u043e \\u043f\\u043e\\u0431\\u0435\\u0436\\u0434\\u0430\\u0442\\u044c\",\"\\u041c\\u043e\\u043d\\u0430\\u0441\\u0442\\u044b\\u0440\\u044c\",\"\\u0423\\u044d\\u043d\\u0441\\u0434\\u044d\\u0439\",\"\\u041b\\u0443\\u0447\\u0448\\u0435\\u0435 \\u043f\\u0440\\u0435\\u0434\\u043b\\u043e\\u0436\\u0435\\u043d\\u0438\\u0435\",\"\\u0427\\u0435\\u0431\\u0443\\u0440\\u0430\\u0448\\u043a\\u0430\",\"\\u0412\\u0441\\u0451 \\u0432\\u0435\\u0437\\u0434\\u0435 \\u0438 \\u0441\\u0440\\u0430\\u0437\\u0443\",\"\\u042d\\u0444\\u0444\\u0435\\u043a\\u0442 \\u0431\\u0430\\u0431\\u043e\\u0447\\u043a\\u0438\",\"\\u041e\\u043f\\u0435\\u0440\\u0430\\u0446\\u0438\\u044f \\u00ab\\u0424\\u043e\\u0440\\u0442\\u0443\\u043d\\u0430\\u00bb: \\u0418\\u0441\\u043a\\u0443\\u0441\\u0441\\u0442\\u0432\\u043e \\u043f\\u043e\\u0431\\u0435\\u0436\\u0434\\u0430\\u0442\\u044c\",\"\\u0422\\u0440\\u0438\\u0433\\u0433\\u0435\\u0440\",\"\\u0427\\u0430\\u0440\\u043b\\u0438 \\u0438 \\u0448\\u043e\\u043a\\u043e\\u043b\\u0430\\u0434\\u043d\\u0430\\u044f \\u0444\\u0430\\u0431\\u0440\\u0438\\u043a\\u0430\",\"\\u041c\\u0430\\u0436\\u043e\\u0440\",\"\\u0422\\u0430\\u043a\\u0441\\u0438\",\"\\u041e\\u043f\\u0435\\u0440\\u0430\\u0446\\u0438\\u044f \\u00ab\\u0424\\u043e\\u0440\\u0442\\u0443\\u043d\\u0430\\u00bb: \\u0418\\u0441\\u043a\\u0443\\u0441\\u0441\\u0442\\u0432\\u043e \\u043f\\u043e\\u0431\\u0435\\u0436\\u0434\\u0430\\u0442\\u044c\",\"\\u041e\\u043f\\u0435\\u0440\\u0430\\u0446\\u0438\\u044f \\u00ab\\u0424\\u043e\\u0440\\u0442\\u0443\\u043d\\u0430\\u00bb: \\u0418\\u0441\\u043a\\u0443\\u0441\\u0441\\u0442\\u0432\\u043e \\u043f\\u043e\\u0431\\u0435\\u0436\\u0434\\u0430\\u0442\\u044c\",\"\\u0417\\u0435\\u043b\\u0435\\u043d\\u0430\\u044f \\u043a\\u043d\\u0438\\u0433\\u0430\",\"\\u0427\\u0435\\u043b\\u043e\\u0432\\u0435\\u043a-\\u043f\\u0430\\u0443\\u043a: \\u041d\\u0435\\u0442 \\u043f\\u0443\\u0442\\u0438 \\u0434\\u043e\\u043c\\u043e\\u0439\",\"\\u0411\\u0435\\u0441\\u043f\\u0440\\u0438\\u043d\\u0446\\u0438\\u043f\\u043d\\u044b\\u0435\",\"\\u0412\\u0430\\u0440\\u043a\\u0440\\u0430\\u0444\\u0442\",\"\\u0423\\u044d\\u043d\\u0441\\u0434\\u044d\\u0439\",\"\\u041e\\u043f\\u0435\\u0440\\u0430\\u0446\\u0438\\u044f \\u00ab\\u0424\\u043e\\u0440\\u0442\\u0443\\u043d\\u0430\\u00bb: \\u0418\\u0441\\u043a\\u0443\\u0441\\u0441\\u0442\\u0432\\u043e \\u043f\\u043e\\u0431\\u0435\\u0436\\u0434\\u0430\\u0442\\u044c\",\"\\u041c\\u043e\\u043d\\u0430\\u0441\\u0442\\u044b\\u0440\\u044c\",\"\\u0427\\u0435\\u0431\\u0443\\u0440\\u0430\\u0448\\u043a\\u0430\",\"\\u041c\\u0430\\u0436\\u043e\\u0440 \\u0432 \\u0421\\u043e\\u0447\\u0438\",\"\\u041e\\u043f\\u0435\\u0440\\u0430\\u0446\\u0438\\u044f \\u00ab\\u0424\\u043e\\u0440\\u0442\\u0443\\u043d\\u0430\\u00bb: \\u0418\\u0441\\u043a\\u0443\\u0441\\u0441\\u0442\\u0432\\u043e \\u043f\\u043e\\u0431\\u0435\\u0436\\u0434\\u0430\\u0442\\u044c\",\"\\u0423\\u044d\\u043d\\u0441\\u0434\\u044d\\u0439\",\"\\u0412\\u0432\\u0435\\u0440\\u0445\",\"\\u0412\\u0435\\u043b\\u0438\\u043a\\u0438\\u0439 \\u0413\\u044d\\u0442\\u0441\\u0431\\u0438\",\"\\u0414\\u043e\\u0432\\u043e\\u0434\",\"\\u0414\\u043e\\u0441\\u0442\\u0430\\u0442\\u044c \\u043d\\u043e\\u0436\\u0438\",\"\\u0410\\u0432\\u0430\\u0442\\u0430\\u0440\",\"\\u0427\\u0435\\u0431\\u0443\\u0440\\u0430\\u0448\\u043a\\u0430\",\"\\u041e\\u043f\\u0435\\u0440\\u0430\\u0446\\u0438\\u044f \\u00ab\\u0424\\u043e\\u0440\\u0442\\u0443\\u043d\\u0430\\u00bb: \\u0418\\u0441\\u043a\\u0443\\u0441\\u0441\\u0442\\u0432\\u043e \\u043f\\u043e\\u0431\\u0435\\u0436\\u0434\\u0430\\u0442\\u044c\",\"\\u041c\\u043e\\u043d\\u0430\\u0441\\u0442\\u044b\\u0440\\u044c\",\"\\u0411\\u0430\\u0442\\u044f\",\"\\u0414\\u043e\\u043c \\u0414\\u0440\\u0430\\u043a\\u043e\\u043d\\u0430\",\"\\u041f\\u0438\\u0449\\u0435\\u0431\\u043b\\u043e\\u043a\",\"\\u0427\\u0435\\u0431\\u0443\\u0440\\u0430\\u0448\\u043a\\u0430\",\"\\u041e\\u043f\\u0435\\u0440\\u0430\\u0446\\u0438\\u044f \\u00ab\\u0424\\u043e\\u0440\\u0442\\u0443\\u043d\\u0430\\u00bb: \\u0418\\u0441\\u043a\\u0443\\u0441\\u0441\\u0442\\u0432\\u043e \\u043f\\u043e\\u0431\\u0435\\u0436\\u0434\\u0430\\u0442\\u044c\",\"\\u041e\\u043f\\u0435\\u0440\\u0430\\u0446\\u0438\\u044f \\u00ab\\u0424\\u043e\\u0440\\u0442\\u0443\\u043d\\u0430\\u00bb: \\u0418\\u0441\\u043a\\u0443\\u0441\\u0441\\u0442\\u0432\\u043e \\u043f\\u043e\\u0431\\u0435\\u0436\\u0434\\u0430\\u0442\\u044c\",\"\\u0412\\u0441\\u0451 \\u0432\\u0435\\u0437\\u0434\\u0435 \\u0438 \\u0441\\u0440\\u0430\\u0437\\u0443\",\"\\u0427\\u0430\\u0440\\u043b\\u0438 \\u0438 \\u0448\\u043e\\u043a\\u043e\\u043b\\u0430\\u0434\\u043d\\u0430\\u044f \\u0444\\u0430\\u0431\\u0440\\u0438\\u043a\\u0430\",\"\\u0415\\u0449\\u0435 \\u043f\\u043e \\u043e\\u0434\\u043d\\u043e\\u0439\",\"\\u041e\\u0442\\u0435\\u043b\\u044c \\u00ab\\u0413\\u0440\\u0430\\u043d\\u0434 \\u0411\\u0443\\u0434\\u0430\\u043f\\u0435\\u0448\\u0442\\u00bb\",\"\\u0418\\u0441\\u0447\\u0435\\u0437\\u043d\\u0443\\u0432\\u0448\\u0430\\u044f\",\"\\u0412\\u043e \\u0432\\u0441\\u0435 \\u0442\\u044f\\u0436\\u043a\\u0438\\u0435\",\"\\u0412\\u0441\\u0451 \\u0432\\u0435\\u0437\\u0434\\u0435 \\u0438 \\u0441\\u0440\\u0430\\u0437\\u0443\",\"\\u0423\\u043d\\u0435\\u0441\\u0451\\u043d\\u043d\\u044b\\u0435 \\u043f\\u0440\\u0438\\u0437\\u0440\\u0430\\u043a\\u0430\\u043c\\u0438\",\"\\u0418\\u0440\\u043e\\u043d\\u0438\\u044f \\u0441\\u0443\\u0434\\u044c\\u0431\\u044b, \\u0438\\u043b\\u0438 \\u0421 \\u043b\\u0435\\u0433\\u043a\\u0438\\u043c \\u043f\\u0430\\u0440\\u043e\\u043c!\",\"\\u0412\\u0441\\u0451 \\u0432\\u0435\\u0437\\u0434\\u0435 \\u0438 \\u0441\\u0440\\u0430\\u0437\\u0443\",\"\\u0412\\u0435\\u0434\\u044c\\u043c\\u0430\\u043a\",\"\\u041c\\u0430\\u0436\\u043e\\u0440 \\u0432 \\u0421\\u043e\\u0447\\u0438\",\"\\u0412\\u0441\\u0451 \\u0432\\u0435\\u0437\\u0434\\u0435 \\u0438 \\u0441\\u0440\\u0430\\u0437\\u0443\",\"\\u0414\\u0436\\u043e\\u043a\\u0435\\u0440\",\"\\u0421\\u0435\\u043c\\u044c \\u0436\\u0438\\u0437\\u043d\\u0435\\u0439\",\"\\u041c\\u043e\\u043d\\u0430\\u0441\\u0442\\u044b\\u0440\\u044c\",\"\\u0414\\u043e\\u0441\\u0442\\u0430\\u0442\\u044c \\u043d\\u043e\\u0436\\u0438\",\"\\u0423\\u044d\\u043d\\u0441\\u0434\\u044d\\u0439\",\"\\u0427\\u0435\\u0431\\u0443\\u0440\\u0430\\u0448\\u043a\\u0430\",\"\\u0413\\u043d\\u0435\\u0432 \\u0447\\u0435\\u043b\\u043e\\u0432\\u0435\\u0447\\u0435\\u0441\\u043a\\u0438\\u0439\",\"\\u0411\\u0435\\u0433\\u0443\\u0449\\u0438\\u0439 \\u043f\\u043e \\u043b\\u0435\\u0437\\u0432\\u0438\\u044e 2049\",\"\\u041c\\u0430\\u0439\\u043e\\u0440 \\u0413\\u0440\\u043e\\u043c: \\u0427\\u0443\\u043c\\u043d\\u043e\\u0439 \\u0414\\u043e\\u043a\\u0442\\u043e\\u0440\",\"\\u0427\\u0435\\u0431\\u0443\\u0440\\u0430\\u0448\\u043a\\u0430\",\"\\u041c\\u043e\\u043d\\u0430\\u0441\\u0442\\u044b\\u0440\\u044c\",\"\\u041c\\u0441\\u0442\\u0438\\u0442\\u0435\\u043b\\u0438: \\u0424\\u0438\\u043d\\u0430\\u043b\",\"\\u041c\\u0430\\u0436\\u043e\\u0440 \\u0432 \\u0421\\u043e\\u0447\\u0438\",\"\\u041b\\u0438\\u0433\\u0430 \\u0441\\u043f\\u0440\\u0430\\u0432\\u0435\\u0434\\u043b\\u0438\\u0432\\u043e\\u0441\\u0442\\u0438 \\u0417\\u0430\\u043a\\u0430 \\u0421\\u043d\\u0430\\u0439\\u0434\\u0435\\u0440\\u0430\",\"\\u0423\\u044d\\u043d\\u0441\\u0434\\u044d\\u0439\",\"\\u0414\\u044e\\u043d\\u0430\",\"\\u0423\\u044d\\u043d\\u0441\\u0434\\u044d\\u0439\",\"\\u0418\\u0433\\u0440\\u0430 \\u043f\\u0440\\u0435\\u0441\\u0442\\u043e\\u043b\\u043e\\u0432\",\"\\u0411\\u043e\\u043b\\u044c\\u0448\\u043e\\u0439 \\u043a\\u0443\\u0448\",\"\\u041d\\u0438\\u043a\\u0442\\u043e\",\"\\u0418\\u0440\\u043e\\u043d\\u0438\\u044f \\u0441\\u0443\\u0434\\u044c\\u0431\\u044b, \\u0438\\u043b\\u0438 \\u0421 \\u043b\\u0435\\u0433\\u043a\\u0438\\u043c \\u043f\\u0430\\u0440\\u043e\\u043c!\",\"\\u041c\\u0430\\u0439\\u043e\\u0440 \\u0413\\u0440\\u043e\\u043c: \\u0427\\u0443\\u043c\\u043d\\u043e\\u0439 \\u0414\\u043e\\u043a\\u0442\\u043e\\u0440\",\"\\u041c\\u0430\\u0439\\u043e\\u0440 \\u0413\\u0440\\u043e\\u043c: \\u0427\\u0443\\u043c\\u043d\\u043e\\u0439 \\u0414\\u043e\\u043a\\u0442\\u043e\\u0440\",\"\\u0423\\u044d\\u043d\\u0441\\u0434\\u044d\\u0439\",\"\\u0425\\u043e\\u0431\\u0431\\u0438\\u0442: \\u041d\\u0435\\u0436\\u0434\\u0430\\u043d\\u043d\\u043e\\u0435 \\u043f\\u0443\\u0442\\u0435\\u0448\\u0435\\u0441\\u0442\\u0432\\u0438\\u0435\",\"\\u0412\\u043e \\u0432\\u0441\\u0435 \\u0442\\u044f\\u0436\\u043a\\u0438\\u0435\",\"\\u0423\\u044d\\u043d\\u0441\\u0434\\u044d\\u0439\",\"\\u041f\\u043e\\u0435\\u0437\\u0434 \\u0432 \\u041f\\u0443\\u0441\\u0430\\u043d\",\"\\u0413\\u0430\\u0440\\u0440\\u0438 \\u041f\\u043e\\u0442\\u0442\\u0435\\u0440 \\u0438 \\u041a\\u0443\\u0431\\u043e\\u043a \\u043e\\u0433\\u043d\\u044f\",\"\\u0427\\u0435\\u0431\\u0443\\u0440\\u0430\\u0448\\u043a\\u0430\",\"\\u041b\\u044e\\u0441\\u0438\",\"\\u041d\\u0443\\u043b\\u0435\\u0432\\u043e\\u0439 \\u043f\\u0430\\u0446\\u0438\\u0435\\u043d\\u0442\",\"\\u0427\\u0435\\u0431\\u0443\\u0440\\u0430\\u0448\\u043a\\u0430\",\"\\u0421\\u0432\\u0435\\u0440\\u0445\\u044a\\u0435\\u0441\\u0442\\u0435\\u0441\\u0442\\u0432\\u0435\\u043d\\u043d\\u043e\\u0435\",\"\\u0418\\u0440\\u043e\\u043d\\u0438\\u044f \\u0441\\u0443\\u0434\\u044c\\u0431\\u044b, \\u0438\\u043b\\u0438 \\u0421 \\u043b\\u0435\\u0433\\u043a\\u0438\\u043c \\u043f\\u0430\\u0440\\u043e\\u043c!\",\"\\u041b\\u0435\\u043e\\u043d\",\"\\u0427\\u0430\\u0440\\u043b\\u0438 \\u0438 \\u0448\\u043e\\u043a\\u043e\\u043b\\u0430\\u0434\\u043d\\u0430\\u044f \\u0444\\u0430\\u0431\\u0440\\u0438\\u043a\\u0430\",\"\\u0414\\u0436\\u0435\\u043d\\u0442\\u043b\\u044c\\u043c\\u0435\\u043d\\u044b \\u0443\\u0434\\u0430\\u0447\\u0438\",\"\\u041b\\u044e\\u0431\\u043e\\u0432\\u044c \\u0438 \\u0433\\u043e\\u043b\\u0443\\u0431\\u0438\",\"\\u041e\\u0434\\u0438\\u043d \\u0434\\u043e\\u043c\\u0430 2: \\u0417\\u0430\\u0442\\u0435\\u0440\\u044f\\u043d\\u043d\\u044b\\u0439 \\u0432 \\u041d\\u044c\\u044e-\\u0419\\u043e\\u0440\\u043a\\u0435\",\"\\u041b\\u0443\\u043b\\u0443 \\u0438 \\u0411\\u0440\\u0438\\u0433\\u0433\\u0441\",\"\\u041e\\u0434\\u0438\\u043d \\u0434\\u043e\\u043c\\u0430\",\"\\u0427\\u0435\\u0431\\u0443\\u0440\\u0430\\u0448\\u043a\\u0430\",\"\\u0414\\u0443\\u0448\\u0430\",\"\\u0413\\u0430\\u0440\\u0440\\u0438 \\u041f\\u043e\\u0442\\u0442\\u0435\\u0440 \\u0438 \\u0444\\u0438\\u043b\\u043e\\u0441\\u043e\\u0444\\u0441\\u043a\\u0438\\u0439 \\u043a\\u0430\\u043c\\u0435\\u043d\\u044c\",\"\\u0423\\u044d\\u043d\\u0441\\u0434\\u044d\\u0439\",\"\\u0413\\u0430\\u0440\\u0440\\u0438 \\u041f\\u043e\\u0442\\u0442\\u0435\\u0440 \\u0438 \\u0444\\u0438\\u043b\\u043e\\u0441\\u043e\\u0444\\u0441\\u043a\\u0438\\u0439 \\u043a\\u0430\\u043c\\u0435\\u043d\\u044c\",\"\\u0422\\u0430\\u043a\\u0441\\u0438\",\"\\u0423\\u044d\\u043d\\u0441\\u0434\\u044d\\u0439\",\"\\u0414\\u0435\\u0432\\u0447\\u0430\\u0442\\u0430\",\"\\u0414\\u043e\\u043c \\u0414\\u0440\\u0430\\u043a\\u043e\\u043d\\u0430\",\"\\u041c\\u0430\\u0436\\u043e\\u0440 \\u0432 \\u0421\\u043e\\u0447\\u0438\",\"\\u0425\\u043e\\u0434\\u044f\\u0447\\u0438\\u0435 \\u043c\\u0435\\u0440\\u0442\\u0432\\u0435\\u0446\\u044b\",\"\\u0422\\u0440\\u0438 \\u0431\\u0438\\u043b\\u0431\\u043e\\u0440\\u0434\\u0430 \\u043d\\u0430 \\u0433\\u0440\\u0430\\u043d\\u0438\\u0446\\u0435 \\u042d\\u0431\\u0431\\u0438\\u043d\\u0433\\u0430, \\u041c\\u0438\\u0441\\u0441\\u0443\\u0440\\u0438\",\"\\u0412 \\u0431\\u043e\\u0439 \\u0438\\u0434\\u0443\\u0442 \\u043e\\u0434\\u043d\\u0438 \\u00ab\\u0441\\u0442\\u0430\\u0440\\u0438\\u043a\\u0438\\u00bb\",\"\\u0423\\u044d\\u043d\\u0441\\u0434\\u044d\\u0439\",\"\\u041b\\u0435\\u0434\\u043d\\u0438\\u043a\\u043e\\u0432\\u044b\\u0439 \\u043f\\u0435\\u0440\\u0438\\u043e\\u0434\",\"\\u0423\\u044d\\u043d\\u0441\\u0434\\u044d\\u0439\",\"\\u041c\\u0430\\u0436\\u043e\\u0440 \\u0432 \\u0421\\u043e\\u0447\\u0438\",\"\\u041f\\u0438\\u0449\\u0435\\u0431\\u043b\\u043e\\u043a\",\"\\u0418\\u0440\\u043e\\u043d\\u0438\\u044f \\u0441\\u0443\\u0434\\u044c\\u0431\\u044b, \\u0438\\u043b\\u0438 \\u0421 \\u043b\\u0435\\u0433\\u043a\\u0438\\u043c \\u043f\\u0430\\u0440\\u043e\\u043c!\",\"\\u041c\\u043e\\u043d\\u0430\\u0441\\u0442\\u044b\\u0440\\u044c\",\"\\u0423\\u044d\\u043d\\u0441\\u0434\\u044d\\u0439\",\"\\u0411\\u043e\\u0433\\u0435\\u043c\\u0441\\u043a\\u0430\\u044f \\u0440\\u0430\\u043f\\u0441\\u043e\\u0434\\u0438\\u044f\",\"\\u041f\\u043e\\u0439\\u043c\\u0430\\u0439 \\u043c\\u0435\\u043d\\u044f, \\u0435\\u0441\\u043b\\u0438 \\u0441\\u043c\\u043e\\u0436\\u0435\\u0448\\u044c\",\"\\u041c\\u0430\\u0436\\u043e\\u0440 \\u0432 \\u0421\\u043e\\u0447\\u0438\",\"\\u0412\\u043e \\u0432\\u0441\\u0435 \\u0442\\u044f\\u0436\\u043a\\u0438\\u0435\",\"\\u041c\\u0430\\u0436\\u043e\\u0440 \\u0432 \\u0421\\u043e\\u0447\\u0438\",\"\\u0412\\u0441\\u0451 \\u0432\\u0435\\u0437\\u0434\\u0435 \\u0438 \\u0441\\u0440\\u0430\\u0437\\u0443\",\"\\u0423\\u044d\\u043d\\u0441\\u0434\\u044d\\u0439\",\"\\u0422\\u0435\\u0440\\u043c\\u0438\\u043d\\u0430\\u043b\",\"\\u041c\\u043e\\u043d\\u0430\\u0441\\u0442\\u044b\\u0440\\u044c\",\"\\u041c\\u0430\\u0436\\u043e\\u0440 \\u0432 \\u0421\\u043e\\u0447\\u0438\",\"\\u041e\\u0434\\u0435\\u0440\\u0436\\u0438\\u043c\\u043e\\u0441\\u0442\\u044c\",\"\\u0412\\u0441\\u0451 \\u0432\\u0435\\u0437\\u0434\\u0435 \\u0438 \\u0441\\u0440\\u0430\\u0437\\u0443\",\"\\u0421\\u0435\\u043c\\u044c \\u0436\\u0438\\u0437\\u043d\\u0435\\u0439\",\"\\u041c\\u043e\\u043d\\u0430\\u0441\\u0442\\u044b\\u0440\\u044c\",\"\\u0423\\u044d\\u043d\\u0441\\u0434\\u044d\\u0439\",\"\\u0412\\u044b\\u0448\\u043a\\u0430\",\"\\u0410\\u0432\\u0430\\u0442\\u0430\\u0440\",\"\\u0412\\u043e\\u043b\\u043a \\u0441 \\u0423\\u043e\\u043b\\u043b-\\u0441\\u0442\\u0440\\u0438\\u0442\",\"\\u041c\\u0430\\u0436\\u043e\\u0440 \\u0432 \\u0421\\u043e\\u0447\\u0438\",\"\\u0423\\u044d\\u043d\\u0441\\u0434\\u044d\\u0439\",\"\\u041c\\u0430\\u0436\\u043e\\u0440 \\u0432 \\u0421\\u043e\\u0447\\u0438\",\"\\u0423\\u044d\\u043d\\u0441\\u0434\\u044d\\u0439\",\"\\u0412\\u0441\\u0451 \\u0432\\u0435\\u0437\\u0434\\u0435 \\u0438 \\u0441\\u0440\\u0430\\u0437\\u0443\",\"\\u0411\\u0435\\u0433\\u0443\\u0449\\u0438\\u0439 \\u043f\\u043e \\u043b\\u0435\\u0437\\u0432\\u0438\\u044e 2049\",\"\\u0414\\u0436\\u0435\\u043d\\u0442\\u043b\\u044c\\u043c\\u0435\\u043d\\u044b\",\"\\u041c\\u043e\\u043d\\u0430\\u0441\\u0442\\u044b\\u0440\\u044c\",\"\\u041c\\u043e\\u043d\\u0430\\u0441\\u0442\\u044b\\u0440\\u044c\",\"\\u041c\\u043e\\u043d\\u0430\\u0441\\u0442\\u044b\\u0440\\u044c\",\"1+1\",\"\\u041c\\u043e\\u043d\\u0430\\u0441\\u0442\\u044b\\u0440\\u044c\",\"\\u0414\\u043e\\u043c \\u0414\\u0440\\u0430\\u043a\\u043e\\u043d\\u0430\",\"\\u041c\\u043e\\u043d\\u0430\\u0441\\u0442\\u044b\\u0440\\u044c\",\"\\u0423\\u044d\\u043d\\u0441\\u0434\\u044d\\u0439\",\"\\u0423\\u044d\\u043d\\u0441\\u0434\\u044d\\u0439\",\"\\u0423\\u044d\\u043d\\u0441\\u0434\\u044d\\u0439\",\"\\u0423\\u044d\\u043d\\u0441\\u0434\\u044d\\u0439\",\"\\u041c\\u043e\\u043d\\u0430\\u0441\\u0442\\u044b\\u0440\\u044c\",\"\\u041e\\u0442\\u043f\\u0443\\u0441\\u043a \\u043f\\u043e \\u043e\\u0431\\u043c\\u0435\\u043d\\u0443\",\"\\u041c\\u043e\\u043d\\u0430\\u0441\\u0442\\u044b\\u0440\\u044c\",\"\\u0414\\u043e\\u043c \\u0414\\u0440\\u0430\\u043a\\u043e\\u043d\\u0430\",\"\\u041e\\u0442\\u0440\\u044f\\u0434 \\u0441\\u0430\\u043c\\u043e\\u0443\\u0431\\u0438\\u0439\\u0446\",\"\\u0413\\u043d\\u0435\\u0432 \\u0447\\u0435\\u043b\\u043e\\u0432\\u0435\\u0447\\u0435\\u0441\\u043a\\u0438\\u0439\",\"\\u041c\\u043e\\u043d\\u0430\\u0441\\u0442\\u044b\\u0440\\u044c\",\"\\u041c\\u043e\\u043d\\u0430\\u0441\\u0442\\u044b\\u0440\\u044c\",\"\\u0411\\u0440\\u0430\\u0442 2\",\"\\u0422-34\",\"\\u041f\\u043e \\u0441\\u043e\\u043e\\u0431\\u0440\\u0430\\u0436\\u0435\\u043d\\u0438\\u044f\\u043c \\u0441\\u043e\\u0432\\u0435\\u0441\\u0442\\u0438\",\"\\u041e\\u0442\\u0435\\u043b\\u044c \\u00ab\\u0413\\u0440\\u0430\\u043d\\u0434 \\u0411\\u0443\\u0434\\u0430\\u043f\\u0435\\u0448\\u0442\\u00bb\",\"\\u0414\\u044e\\u043d\\u0430\",\"\\u0422\\u0435\\u043c\\u043d\\u044b\\u0439 \\u0440\\u044b\\u0446\\u0430\\u0440\\u044c\",\"\\u0423\\u044d\\u043d\\u0441\\u0434\\u044d\\u0439\",\"\\u0423\\u044d\\u043d\\u0441\\u0434\\u044d\\u0439\",\"\\u041f\\u0438\\u0449\\u0435\\u0431\\u043b\\u043e\\u043a\",\"\\u0423\\u044d\\u043d\\u0441\\u0434\\u044d\\u0439\",\"\\u041f\\u044f\\u0442\\u044b\\u0439 \\u044d\\u043b\\u0435\\u043c\\u0435\\u043d\\u0442\",\"\\u0423\\u044d\\u043d\\u0441\\u0434\\u044d\\u0439\",\"\\u041c\\u043e\\u0430\\u043d\\u0430\",\"\\u041e\\u0447\\u0435\\u043d\\u044c \\u0441\\u0442\\u0440\\u0430\\u043d\\u043d\\u044b\\u0435 \\u0434\\u0435\\u043b\\u0430\",\"\\u0411\\u0435\\u0441\\u043f\\u0440\\u0438\\u043d\\u0446\\u0438\\u043f\\u043d\\u044b\\u0435\",\"\\u0412\\u0430\\u043c\\u043f\\u0438\\u0440\\u044b \\u0441\\u0440\\u0435\\u0434\\u043d\\u0435\\u0439 \\u043f\\u043e\\u043b\\u043e\\u0441\\u044b\",\"\\u041a\\u0430\\u043a \\u043f\\u0440\\u0438\\u0440\\u0443\\u0447\\u0438\\u0442\\u044c \\u0434\\u0440\\u0430\\u043a\\u043e\\u043d\\u0430\",\"\\u041a\\u0440\\u0430\\u0441\\u043e\\u0442\\u043a\\u0430\",\"\\u0423\\u044d\\u043d\\u0441\\u0434\\u044d\\u0439\",\"\\u0410\\u0432\\u0430\\u0442\\u0430\\u0440\",\"\\u0423\\u044d\\u043d\\u0441\\u0434\\u044d\\u0439\",\"\\u0422-34\",\"\\u0423\\u044d\\u043d\\u0441\\u0434\\u044d\\u0439\",\"\\u0420\\u0438\\u043a \\u0438 \\u041c\\u043e\\u0440\\u0442\\u0438\",\"\\u0423\\u044d\\u043d\\u0441\\u0434\\u044d\\u0439\",\"\\u0423\\u044d\\u043d\\u0441\\u0434\\u044d\\u0439\",\"\\u0412\\u044b\\u0448\\u043a\\u0430\",\"\\u041b\\u0438\\u043d\\u043a\\u043e\\u043b\\u044c\\u043d \\u0434\\u043b\\u044f \\u0430\\u0434\\u0432\\u043e\\u043a\\u0430\\u0442\\u0430\",\"\\u0423\\u044d\\u043d\\u0441\\u0434\\u044d\\u0439\",\"\\u0413\\u043b\\u0430\\u0434\\u0438\\u0430\\u0442\\u043e\\u0440\",\"\\u041c\\u043e\\u043d\\u0430\\u0441\\u0442\\u044b\\u0440\\u044c\",\"\\u041f\\u0438\\u0449\\u0435\\u0431\\u043b\\u043e\\u043a\",\"\\u0412\\u044b\\u0448\\u043a\\u0430\",\"\\u0423\\u044d\\u043d\\u0441\\u0434\\u044d\\u0439\",\"\\u0423\\u044d\\u043d\\u0441\\u0434\\u044d\\u0439\",\"\\u0412\\u0441\\u0451 \\u0432\\u0435\\u0437\\u0434\\u0435 \\u0438 \\u0441\\u0440\\u0430\\u0437\\u0443\",\"\\u0423\\u044d\\u043d\\u0441\\u0434\\u044d\\u0439\",\"\\u0423\\u044d\\u043d\\u0441\\u0434\\u044d\\u0439\",\"\\u0423\\u044d\\u043d\\u0441\\u0434\\u044d\\u0439\",\"\\u0423\\u044d\\u043d\\u0441\\u0434\\u044d\\u0439\",\"\\u0421\\u0432\\u0430\\u0442\\u044b\",\"\\u0423\\u044d\\u043d\\u0441\\u0434\\u044d\\u0439\",\"\\u0428\\u0435\\u0440\\u043b\\u043e\\u043a\",\"\\u0423\\u044d\\u043d\\u0441\\u0434\\u044d\\u0439\",\"\\u0423\\u044d\\u043d\\u0441\\u0434\\u044d\\u0439\",\"\\u0423\\u044d\\u043d\\u0441\\u0434\\u044d\\u0439\",\"\\u0423\\u044d\\u043d\\u0441\\u0434\\u044d\\u0439\",\"\\u0414\\u043e\\u043c \\u0414\\u0440\\u0430\\u043a\\u043e\\u043d\\u0430\",\"\\u0423\\u044d\\u043d\\u0441\\u0434\\u044d\\u0439\",\"\\u0422\\u0430\\u043a\\u0441\\u0438\",\"\\u041b\\u0443\\u0447\\u0448\\u0435\\u0435 \\u043f\\u0440\\u0435\\u0434\\u043b\\u043e\\u0436\\u0435\\u043d\\u0438\\u0435\",\"\\u0423\\u044d\\u043d\\u0441\\u0434\\u044d\\u0439\",\"\\u0423\\u044d\\u043d\\u0441\\u0434\\u044d\\u0439\",\"\\u041a\\u0440\\u0438\\u043c\\u0438\\u043d\\u0430\\u043b\\u044c\\u043d\\u043e\\u0435 \\u0447\\u0442\\u0438\\u0432\\u043e\",\"\\u0414\\u0443\\u0440\\u0430\\u043a\",\"\\u0423\\u044d\\u043d\\u0441\\u0434\\u044d\\u0439\",\"\\u0425\\u043e\\u0434\\u044f\\u0447\\u0438\\u0435 \\u043c\\u0435\\u0440\\u0442\\u0432\\u0435\\u0446\\u044b\",\"\\u0423\\u044d\\u043d\\u0441\\u0434\\u044d\\u0439\",\"\\u0423\\u044d\\u043d\\u0441\\u0434\\u044d\\u0439\",\"\\u0423\\u044d\\u043d\\u0441\\u0434\\u044d\\u0439\",\"\\u0423\\u044d\\u043d\\u0441\\u0434\\u044d\\u0439\",\"\\u041c\\u0441\\u0442\\u0438\\u0442\\u0435\\u043b\\u0438: \\u042d\\u0440\\u0430 \\u0410\\u043b\\u044c\\u0442\\u0440\\u043e\\u043d\\u0430\",\"\\u0423\\u044d\\u043d\\u0441\\u0434\\u044d\\u0439\",\"\\u0411\\u0435\\u0433\\u0443\\u0449\\u0438\\u0439 \\u043f\\u043e \\u043b\\u0435\\u0437\\u0432\\u0438\\u044e 2049\",\"\\u0423\\u044d\\u043d\\u0441\\u0434\\u044d\\u0439\",\"\\u0411\\u043e\\u0433\\u0435\\u043c\\u0441\\u043a\\u0430\\u044f \\u0440\\u0430\\u043f\\u0441\\u043e\\u0434\\u0438\\u044f\",\"\\u0414\\u0443\\u0440\\u0430\\u043a\",\"\\u0412\\u0441\\u0451 \\u0432\\u0435\\u0437\\u0434\\u0435 \\u0438 \\u0441\\u0440\\u0430\\u0437\\u0443\",\"\\u0423\\u044d\\u043d\\u0441\\u0434\\u044d\\u0439\",\"\\u0412\\u0441\\u0451 \\u0432\\u0435\\u0437\\u0434\\u0435 \\u0438 \\u0441\\u0440\\u0430\\u0437\\u0443\",\"\\u0423\\u044d\\u043d\\u0441\\u0434\\u044d\\u0439\",\"\\u0423\\u044d\\u043d\\u0441\\u0434\\u044d\\u0439\",\"\\u0410\\u0432\\u0430\\u0442\\u0430\\u0440\",\"\\u041f\\u0430\\u0440\\u0430\\u0437\\u0438\\u0442\\u044b\",\"\\u0423\\u044d\\u043d\\u0441\\u0434\\u044d\\u0439\",\"\\u041c\\u0441\\u0442\\u0438\\u0442\\u0435\\u043b\\u0438\",\"\\u0423\\u044d\\u043d\\u0441\\u0434\\u044d\\u0439\",\"\\u041b\\u0438\\u0433\\u0430 \\u0441\\u043f\\u0440\\u0430\\u0432\\u0435\\u0434\\u043b\\u0438\\u0432\\u043e\\u0441\\u0442\\u0438 \\u0417\\u0430\\u043a\\u0430 \\u0421\\u043d\\u0430\\u0439\\u0434\\u0435\\u0440\\u0430\",\"\\u0411\\u0440\\u0430\\u0442\",\"\\u0412\\u043e\\u0439\\u043d\\u0430 \\u043c\\u0438\\u0440\\u043e\\u0432 Z\",\"\\u0411\\u0435\\u0441\\u0441\\u0442\\u044b\\u0436\\u0438\\u0435\",\"\\u0413\\u043d\\u0435\\u0432 \\u0447\\u0435\\u043b\\u043e\\u0432\\u0435\\u0447\\u0435\\u0441\\u043a\\u0438\\u0439\",\"\\u041c\\u043e\\u043d\\u0430\\u0441\\u0442\\u044b\\u0440\\u044c\",\"\\u0411\\u0440\\u0430\\u0442\",\"\\u0423\\u044d\\u043d\\u0441\\u0434\\u044d\\u0439\",\"\\u0423\\u044d\\u043d\\u0441\\u0434\\u044d\\u0439\",\"\\u0423\\u044d\\u043d\\u0441\\u0434\\u044d\\u0439\",\"\\u041f\\u0430\\u0441\\u0441\\u0430\\u0436\\u0438\\u0440\\u044b\",\"\\u0423\\u044d\\u043d\\u0441\\u0434\\u044d\\u0439\",\"\\u0424\\u043e\\u0440\\u0440\\u0435\\u0441\\u0442 \\u0413\\u0430\\u043c\\u043f\",\"\\u0423\\u044d\\u043d\\u0441\\u0434\\u044d\\u0439\",\"\\u0411\\u043e\\u043b\\u044c\\u0448\\u043e\\u0439 \\u043a\\u0443\\u0448\",\"\\u0422\\u0440\\u0438\\u0433\\u0433\\u0435\\u0440\",\"\\u0423\\u044d\\u043d\\u0441\\u0434\\u044d\\u0439\",\"\\u041f\\u043e\\u0441\\u0442\\u0443\\u0447\\u0438\\u0441\\u044c \\u0432 \\u043c\\u043e\\u044e \\u0434\\u0432\\u0435\\u0440\\u044c\",\"\\u041e\\u0447\\u0435\\u043d\\u044c \\u0441\\u0442\\u0440\\u0430\\u043d\\u043d\\u044b\\u0435 \\u0434\\u0435\\u043b\\u0430\",\"\\u0422\\u043e\\u043f\\u0438\",\"\\u0423\\u044d\\u043d\\u0441\\u0434\\u044d\\u0439\",\"\\u0411\\u0435\\u0441\\u0441\\u043b\\u0430\\u0432\\u043d\\u044b\\u0435 \\u0443\\u0431\\u043b\\u044e\\u0434\\u043a\\u0438\",\"\\u0423\\u044d\\u043d\\u0441\\u0434\\u044d\\u0439\",\"\\u0418\\u043d\\u0442\\u0435\\u0440\\u0441\\u0442\\u0435\\u043b\\u043b\\u0430\\u0440\",\"\\u0420\\u0430\\u0439\\u044f \\u0438 \\u043f\\u043e\\u0441\\u043b\\u0435\\u0434\\u043d\\u0438\\u0439 \\u0434\\u0440\\u0430\\u043a\\u043e\\u043d\",\"\\u0410\\u0442\\u0430\\u043a\\u0430 \\u0442\\u0438\\u0442\\u0430\\u043d\\u043e\\u0432\",\"\\u0413\\u043b\\u0430\\u0432\\u043d\\u044b\\u0439 \\u0433\\u0435\\u0440\\u043e\\u0439\",\"\\u041c\\u043e\\u043d\\u0430\\u0441\\u0442\\u044b\\u0440\\u044c\",\"\\u0412\\u043e \\u0432\\u0441\\u0435 \\u0442\\u044f\\u0436\\u043a\\u0438\\u0435\",\"\\u0411\\u0435\\u0441\\u0441\\u0442\\u044b\\u0436\\u0438\\u0435\",\"\\u0425\\u043e\\u0434\\u044f\\u0447\\u0438\\u0435 \\u043c\\u0435\\u0440\\u0442\\u0432\\u0435\\u0446\\u044b\",\"\\u0417\\u0432\\u0435\\u0440\\u043e\\u043f\\u043e\\u043b\\u0438\\u0441\",\"\\u0423\\u044d\\u043d\\u0441\\u0434\\u044d\\u0439\",\"\\u0423\\u044d\\u043d\\u0441\\u0434\\u044d\\u0439\",\"\\u0423\\u044d\\u043d\\u0441\\u0434\\u044d\\u0439\",\"\\u041c\\u0441\\u0442\\u0438\\u0442\\u0435\\u043b\\u0438: \\u042d\\u0440\\u0430 \\u0410\\u043b\\u044c\\u0442\\u0440\\u043e\\u043d\\u0430\",\"\\u0423\\u044d\\u043d\\u0441\\u0434\\u044d\\u0439\",\"\\u0414\\u0436\\u043e\\u043d \\u0423\\u0438\\u043a\",\"\\u041c\\u0430\\u0439\\u043e\\u0440 \\u0413\\u0440\\u043e\\u043c: \\u0427\\u0443\\u043c\\u043d\\u043e\\u0439 \\u0414\\u043e\\u043a\\u0442\\u043e\\u0440\",\"\\u0423\\u044d\\u043d\\u0441\\u0434\\u044d\\u0439\",\"\\u0414\\u043e\\u043c \\u0414\\u0440\\u0430\\u043a\\u043e\\u043d\\u0430\",\"\\u041a\\u043e\\u0440\\u043e\\u043b\\u044c \\u041b\\u0435\\u0432\",\"\\u0425\\u043e\\u0434\\u044f\\u0447\\u0438\\u0435 \\u043c\\u0435\\u0440\\u0442\\u0432\\u0435\\u0446\\u044b\",\"\\u0414\\u043e\\u043c \\u0414\\u0440\\u0430\\u043a\\u043e\\u043d\\u0430\",\"\\u0428\\u0440\\u044d\\u043a 2\",\"\\u0413\\u043e\\u043b\\u044f\\u043a\",\"\\u041d\\u0443\\u043b\\u0435\\u0432\\u043e\\u0439 \\u043f\\u0430\\u0446\\u0438\\u0435\\u043d\\u0442\",\"\\u0422\\u0440\\u0438 \\u0431\\u0438\\u043b\\u0431\\u043e\\u0440\\u0434\\u0430 \\u043d\\u0430 \\u0433\\u0440\\u0430\\u043d\\u0438\\u0446\\u0435 \\u042d\\u0431\\u0431\\u0438\\u043d\\u0433\\u0430, \\u041c\\u0438\\u0441\\u0441\\u0443\\u0440\\u0438\",\"\\u0421\\u0435\\u043c\\u044c\",\"\\u0425\\u043e\\u0431\\u0431\\u0438\\u0442: \\u0411\\u0438\\u0442\\u0432\\u0430 \\u043f\\u044f\\u0442\\u0438 \\u0432\\u043e\\u0438\\u043d\\u0441\\u0442\\u0432\",\"\\u0413\\u043d\\u0435\\u0432 \\u0447\\u0435\\u043b\\u043e\\u0432\\u0435\\u0447\\u0435\\u0441\\u043a\\u0438\\u0439\",\"\\u0423\\u044d\\u043d\\u0441\\u0434\\u044d\\u0439\",\"\\u041e\\u0434\\u0438\\u043d \\u0434\\u043e\\u043c\\u0430\",\"\\u041c\\u043e\\u043d\\u0430\\u0441\\u0442\\u044b\\u0440\\u044c\",\"\\u0412\\u0441\\u0451 \\u0432\\u0435\\u0437\\u0434\\u0435 \\u0438 \\u0441\\u0440\\u0430\\u0437\\u0443\",\"\\u0421\\u043f\\u0438\\u0441\\u043e\\u043a \\u0428\\u0438\\u043d\\u0434\\u043b\\u0435\\u0440\\u0430\",\"\\u0417\\u0435\\u043b\\u0435\\u043d\\u0430\\u044f \\u043c\\u0438\\u043b\\u044f\",\"\\u0413\\u043b\\u0430\\u0432\\u043d\\u044b\\u0439 \\u0433\\u0435\\u0440\\u043e\\u0439\",\"\\u0428\\u0435\\u0440\\u043b\\u043e\\u043a\",\"\\u0414\\u043e\\u043c \\u0414\\u0440\\u0430\\u043a\\u043e\\u043d\\u0430\",\"\\u0423\\u044d\\u043d\\u0441\\u0434\\u044d\\u0439\",\"\\u041c\\u043e\\u043d\\u0430\\u0441\\u0442\\u044b\\u0440\\u044c\",\"\\u0423\\u044d\\u043d\\u0441\\u0434\\u044d\\u0439\",\"\\u0423\\u044d\\u043d\\u0441\\u0434\\u044d\\u0439\",\"\\u041f\\u043e\\u0431\\u0435\\u0433 \\u0438\\u0437 \\u0428\\u043e\\u0443\\u0448\\u0435\\u043d\\u043a\\u0430\",\"\\u0422\\u043e\\u0440: \\u0420\\u0430\\u0433\\u043d\\u0430\\u0440\\u0451\\u043a\",\"\\u041d\\u0443\\u043b\\u0435\\u0432\\u043e\\u0439 \\u043f\\u0430\\u0446\\u0438\\u0435\\u043d\\u0442\",\"\\u0413\\u0430\\u0440\\u0440\\u0438 \\u041f\\u043e\\u0442\\u0442\\u0435\\u0440 \\u0438 \\u041f\\u0440\\u0438\\u043d\\u0446-\\u043f\\u043e\\u043b\\u0443\\u043a\\u0440\\u043e\\u0432\\u043a\\u0430\",\"\\u0414\\u043e\\u0432\\u043e\\u0434\",\"\\u0411\\u0435\\u0441\\u043f\\u0440\\u0438\\u043d\\u0446\\u0438\\u043f\\u043d\\u044b\\u0435\",\"\\u041c\\u043e\\u043d\\u0430\\u0441\\u0442\\u044b\\u0440\\u044c\",\"\\u0414\\u043e\\u043c \\u0414\\u0440\\u0430\\u043a\\u043e\\u043d\\u0430\",\"\\u0423\\u044d\\u043d\\u0441\\u0434\\u044d\\u0439\",\"\\u0414\\u043e\\u043c \\u0414\\u0440\\u0430\\u043a\\u043e\\u043d\\u0430\",\"\\u0423\\u044d\\u043d\\u0441\\u0434\\u044d\\u0439\",\"\\u0411\\u0440\\u0438\\u0433\\u0430\\u0434\\u0430\",\"\\u041c\\u043e\\u043d\\u0430\\u0441\\u0442\\u044b\\u0440\\u044c\",\"\\u0423\\u044d\\u043d\\u0441\\u0434\\u044d\\u0439\",\"\\u041c\\u0430\\u0439\\u043e\\u0440 \\u0413\\u0440\\u043e\\u043c: \\u0427\\u0443\\u043c\\u043d\\u043e\\u0439 \\u0414\\u043e\\u043a\\u0442\\u043e\\u0440\",\"\\u041b\\u044e\\u0434\\u0438 \\u0432 \\u0447\\u0451\\u0440\\u043d\\u043e\\u043c\",\"\\u0414\\u0435\\u043d\\u044c \\u0441\\u0443\\u0440\\u043a\\u0430\",\"\\u0412\\u044b\\u0448\\u043a\\u0430\",\"\\u0412\\u043e\\u043b\\u043a \\u0441 \\u0423\\u043e\\u043b\\u043b-\\u0441\\u0442\\u0440\\u0438\\u0442\",\"\\u0423\\u044d\\u043d\\u0441\\u0434\\u044d\\u0439\",\"\\u0423\\u044d\\u043d\\u0441\\u0434\\u044d\\u0439\",\"\\u0415\\u0449\\u0435 \\u043f\\u043e \\u043e\\u0434\\u043d\\u043e\\u0439\",\"\\u0423\\u044d\\u043d\\u0441\\u0434\\u044d\\u0439\",\"\\u041f\\u0438\\u0440\\u0430\\u0442\\u044b \\u041a\\u0430\\u0440\\u0438\\u0431\\u0441\\u043a\\u043e\\u0433\\u043e \\u043c\\u043e\\u0440\\u044f: \\u041f\\u0440\\u043e\\u043a\\u043b\\u044f\\u0442\\u0438\\u0435 \\u0427\\u0435\\u0440\\u043d\\u043e\\u0439 \\u0436\\u0435\\u043c\\u0447\\u0443\\u0436\\u0438\\u043d\\u044b\",\"\\u0412\\u0430\\u043c\\u043f\\u0438\\u0440\\u044b \\u0441\\u0440\\u0435\\u0434\\u043d\\u0435\\u0439 \\u043f\\u043e\\u043b\\u043e\\u0441\\u044b\",\"\\u041c\\u043e\\u043d\\u0430\\u0441\\u0442\\u044b\\u0440\\u044c\",\"\\u0417\\u0430\\u0433\\u0430\\u0434\\u043e\\u0447\\u043d\\u0430\\u044f \\u0438\\u0441\\u0442\\u043e\\u0440\\u0438\\u044f \\u0411\\u0435\\u043d\\u0434\\u0436\\u0430\\u043c\\u0438\\u043d\\u0430 \\u0411\\u0430\\u0442\\u0442\\u043e\\u043d\\u0430\",\"\\u0425\\u043e\\u0431\\u0431\\u0438\\u0442: \\u041d\\u0435\\u0436\\u0434\\u0430\\u043d\\u043d\\u043e\\u0435 \\u043f\\u0443\\u0442\\u0435\\u0448\\u0435\\u0441\\u0442\\u0432\\u0438\\u0435\",\"\\u0412\\u043e\\u043b\\u043a \\u0441 \\u0423\\u043e\\u043b\\u043b-\\u0441\\u0442\\u0440\\u0438\\u0442\",\"\\u041e\\u0441\\u0442\\u0440\\u043e\\u0432 \\u043f\\u0440\\u043e\\u043a\\u043b\\u044f\\u0442\\u044b\\u0445\",\"\\u0418\\u043d\\u0442\\u0435\\u0440\\u0441\\u0442\\u0435\\u043b\\u043b\\u0430\\u0440\",\"\\u0411\\u0435\\u0441\\u0441\\u043b\\u0430\\u0432\\u043d\\u044b\\u0435 \\u0443\\u0431\\u043b\\u044e\\u0434\\u043a\\u0438\",\"\\u0414\\u043e\\u043c \\u0414\\u0440\\u0430\\u043a\\u043e\\u043d\\u0430\",\"\\u0413\\u043b\\u0430\\u0432\\u043d\\u044b\\u0439 \\u0433\\u0435\\u0440\\u043e\\u0439\",\"\\u041f\\u043e\\u0441\\u0442\\u0443\\u0447\\u0438\\u0441\\u044c \\u0432 \\u043c\\u043e\\u044e \\u0434\\u0432\\u0435\\u0440\\u044c\",\"\\u041f\\u043e\\u0441\\u0442\\u0443\\u0447\\u0438\\u0441\\u044c \\u0432 \\u043c\\u043e\\u044e \\u0434\\u0432\\u0435\\u0440\\u044c\",\"\\u041f\\u043e\\u0441\\u0442\\u0443\\u0447\\u0438\\u0441\\u044c \\u0432 \\u043c\\u043e\\u044e \\u0434\\u0432\\u0435\\u0440\\u044c\",\"\\u041e\\u043d\\u043e\",\"\\u0427\\u0435\\u0440\\u043d\\u044b\\u0439 \\u044f\\u0449\\u0438\\u043a\",\"\\u0414\\u043e\\u043c \\u0414\\u0440\\u0430\\u043a\\u043e\\u043d\\u0430\",\"\\u041a\\u0440\\u0438\\u043c\\u0438\\u043d\\u0430\\u043b\\u044c\\u043d\\u043e\\u0435 \\u0447\\u0442\\u0438\\u0432\\u043e\",\"\\u041f\\u0435\\u0440\\u0432\\u043e\\u043c\\u0443 \\u0438\\u0433\\u0440\\u043e\\u043a\\u0443 \\u043f\\u0440\\u0438\\u0433\\u043e\\u0442\\u043e\\u0432\\u0438\\u0442\\u044c\\u0441\\u044f\",\"\\u0414\\u043e\\u043c \\u0414\\u0440\\u0430\\u043a\\u043e\\u043d\\u0430\",\"\\u0414\\u0436\\u0430\\u043d\\u0433\\u043e \\u043e\\u0441\\u0432\\u043e\\u0431\\u043e\\u0436\\u0434\\u0435\\u043d\\u043d\\u044b\\u0439\",\"\\u041c\\u043e\\u043d\\u0430\\u0441\\u0442\\u044b\\u0440\\u044c\",\"\\u0427\\u0435\\u0440\\u043d\\u044b\\u0439 \\u044f\\u0449\\u0438\\u043a\",\"\\u0422\\u0440\\u0438\\u0433\\u0433\\u0435\\u0440\",\"\\u0413\\u043d\\u0435\\u0432 \\u0447\\u0435\\u043b\\u043e\\u0432\\u0435\\u0447\\u0435\\u0441\\u043a\\u0438\\u0439\",\"\\u041c\\u0430\\u0440\\u0441\\u0438\\u0430\\u043d\\u0438\\u043d\",\"\\u0424\\u043e\\u0440\\u0440\\u0435\\u0441\\u0442 \\u0413\\u0430\\u043c\\u043f\",\"\\u041c\\u0430\\u0439\\u043e\\u0440 \\u0413\\u0440\\u043e\\u043c: \\u0427\\u0443\\u043c\\u043d\\u043e\\u0439 \\u0414\\u043e\\u043a\\u0442\\u043e\\u0440\",\"\\u0411\\u0430\\u0442\\u044f\",\"\\u041d\\u0430\\u0447\\u0430\\u043b\\u043e\",\"\\u041f\\u043e\\u0431\\u0435\\u0433 \\u0438\\u0437 \\u0428\\u043e\\u0443\\u0448\\u0435\\u043d\\u043a\\u0430\",\"\\u0412\\u043e \\u0432\\u0441\\u0435 \\u0442\\u044f\\u0436\\u043a\\u0438\\u0435\",\"\\u0412\\u0410\\u041b\\u041b\\u00b7\\u0418\",\"\\u0413\\u043e\\u043b\\u043e\\u0434\\u043d\\u044b\\u0435 \\u0438\\u0433\\u0440\\u044b\",\"\\u0412\\u044b\\u0448\\u043a\\u0430\",\"\\u0412\\u044b\\u0448\\u043a\\u0430\",\"\\u041c\\u0430\\u0440\\u0441\\u0438\\u0430\\u043d\\u0438\\u043d\",\"\\u0418\\u043d\\u0442\\u0435\\u0440\\u0441\\u0442\\u0435\\u043b\\u043b\\u0430\\u0440\",\"\\u0414\\u043e\\u043c \\u0414\\u0440\\u0430\\u043a\\u043e\\u043d\\u0430\",\"\\u0414\\u043e\\u043c \\u0414\\u0440\\u0430\\u043a\\u043e\\u043d\\u0430\",\"\\u0414\\u0440\\u0443\\u0437\\u044c\\u044f\",\"\\u0416\\u0438\\u0432\\u0430\\u044f \\u0441\\u0442\\u0430\\u043b\\u044c\",\"\\u041f\\u043e\\u0441\\u043b\\u0435\\u0434\\u043d\\u0438\\u0439 \\u0431\\u043e\\u0433\\u0430\\u0442\\u044b\\u0440\\u044c\",\"\\u0424\\u043e\\u0440\\u0440\\u0435\\u0441\\u0442 \\u0413\\u0430\\u043c\\u043f\",\"\\u0414\\u043e\\u043c \\u0414\\u0440\\u0430\\u043a\\u043e\\u043d\\u0430\",\"\\u0418\\u043b\\u043b\\u044e\\u0437\\u0438\\u044f \\u043e\\u0431\\u043c\\u0430\\u043d\\u0430\",\"\\u0422\\u0440\\u0438\\u0433\\u0433\\u0435\\u0440\",\"\\u0412\\u044b\\u0448\\u043a\\u0430\",\"\\u0411\\u0440\\u0430\\u0442 2\",\"\\u0413\\u043d\\u0435\\u0432 \\u0447\\u0435\\u043b\\u043e\\u0432\\u0435\\u0447\\u0435\\u0441\\u043a\\u0438\\u0439\",\"\\u0411\\u0440\\u0438\\u0433\\u0430\\u0434\\u0430\",\"\\u0420\\u0438\\u043a \\u0438 \\u041c\\u043e\\u0440\\u0442\\u0438\",\"\\u0412\\u044b\\u0448\\u043a\\u0430\",\"\\u0427\\u0435\\u043b\\u043e\\u0432\\u0435\\u043a-\\u043f\\u0430\\u0443\\u043a\",\"\\u0413\\u0430\\u0440\\u0440\\u0438 \\u041f\\u043e\\u0442\\u0442\\u0435\\u0440 \\u0438 \\u0443\\u0437\\u043d\\u0438\\u043a \\u0410\\u0437\\u043a\\u0430\\u0431\\u0430\\u043d\\u0430\",\"\\u041c\\u0430\\u043b\\u0435\\u0444\\u0438\\u0441\\u0435\\u043d\\u0442\\u0430\",\"\\u0412\\u044b\\u0448\\u043a\\u0430\",\"\\u0417\\u0435\\u043b\\u0435\\u043d\\u0430\\u044f \\u043a\\u043d\\u0438\\u0433\\u0430\",\"\\u0414\\u043e\\u043c \\u0414\\u0440\\u0430\\u043a\\u043e\\u043d\\u0430\",\"\\u041d\\u0443\\u043b\\u0435\\u0432\\u043e\\u0439 \\u043f\\u0430\\u0446\\u0438\\u0435\\u043d\\u0442\",\"\\u0422\\u0438\\u0442\\u0430\\u043d\\u0438\\u043a\",\"\\u0414\\u043e\\u0432\\u043e\\u0434\",\"\\u041e\\u0442\\u0435\\u043b\\u044c \\u00ab\\u0413\\u0440\\u0430\\u043d\\u0434 \\u0411\\u0443\\u0434\\u0430\\u043f\\u0435\\u0448\\u0442\\u00bb\",\"\\u0414\\u043e\\u043c \\u0414\\u0440\\u0430\\u043a\\u043e\\u043d\\u0430\",\"\\u0414\\u044e\\u043d\\u0430\",\"\\u0414\\u043e\\u043c \\u0414\\u0440\\u0430\\u043a\\u043e\\u043d\\u0430\",\"\\u0427\\u0435\\u043b\\u043e\\u0432\\u0435\\u043a-\\u043f\\u0430\\u0443\\u043a: \\u041d\\u0435\\u0442 \\u043f\\u0443\\u0442\\u0438 \\u0434\\u043e\\u043c\\u043e\\u0439\",\"\\u0414\\u043e\\u043c \\u0414\\u0440\\u0430\\u043a\\u043e\\u043d\\u0430\",\"\\u0414\\u0443\\u0440\\u0430\\u043a\",\"\\u0422\\u0430\\u0439\\u043d\\u0430 \\u041a\\u043e\\u043a\\u043e\",\"\\u0414\\u043e\\u043c \\u0414\\u0440\\u0430\\u043a\\u043e\\u043d\\u0430\",\"\\u041f\\u043e\\u0441\\u043b\\u0435\\u0437\\u0430\\u0432\\u0442\\u0440\\u0430\",\"\\u0414\\u043e\\u043c \\u0414\\u0440\\u0430\\u043a\\u043e\\u043d\\u0430\",\"\\u0420\\u0438\\u043a \\u0438 \\u041c\\u043e\\u0440\\u0442\\u0438\",\"\\u0412\\u044b\\u0448\\u043a\\u0430\",\"\\u0414\\u044d\\u0434\\u043f\\u0443\\u043b 2\",\"\\u0414\\u043e\\u043c \\u0414\\u0440\\u0430\\u043a\\u043e\\u043d\\u0430\",\"\\u0412\\u044b\\u0448\\u043a\\u0430\",\"\\u0422\\u0430\\u0447\\u043a\\u0438\",\"\\u041a\\u043e\\u0440\\u043e\\u043b\\u044c \\u041b\\u0435\\u0432\",\"\\u0412\\u043b\\u0430\\u0441\\u0442\\u0435\\u043b\\u0438\\u043d \\u043a\\u043e\\u043b\\u0435\\u0446: \\u0411\\u0440\\u0430\\u0442\\u0441\\u0442\\u0432\\u043e \\u041a\\u043e\\u043b\\u044c\\u0446\\u0430\",\"\\u0412\\u0441\\u0451 \\u0432\\u0435\\u0437\\u0434\\u0435 \\u0438 \\u0441\\u0440\\u0430\\u0437\\u0443\",\"\\u0414\\u043e\\u043c \\u0414\\u0440\\u0430\\u043a\\u043e\\u043d\\u0430\",\"\\u0421\\u0447\\u0430\\u0441\\u0442\\u043b\\u0438\\u0432\\u043e\\u0435 \\u0447\\u0438\\u0441\\u043b\\u043e \\u0421\\u043b\\u0435\\u0432\\u0438\\u043d\\u0430\",\"\\u041e\\u0447\\u0435\\u043d\\u044c \\u0441\\u0442\\u0440\\u0430\\u043d\\u043d\\u044b\\u0435 \\u0434\\u0435\\u043b\\u0430\",\"\\u0412\\u043e \\u0432\\u0441\\u0435 \\u0442\\u044f\\u0436\\u043a\\u0438\\u0435\",\"\\u0411\\u0430\\u0442\\u044f\",\"\\u0412\\u044b\\u0448\\u043a\\u0430\",\"\\u041c\\u0441\\u0442\\u0438\\u0442\\u0435\\u043b\\u0438: \\u042d\\u0440\\u0430 \\u0410\\u043b\\u044c\\u0442\\u0440\\u043e\\u043d\\u0430\",\"\\u0412\\u043b\\u0430\\u0441\\u0442\\u0435\\u043b\\u0438\\u043d \\u043a\\u043e\\u043b\\u0435\\u0446: \\u0412\\u043e\\u0437\\u0432\\u0440\\u0430\\u0449\\u0435\\u043d\\u0438\\u0435 \\u043a\\u043e\\u0440\\u043e\\u043b\\u044f\",\"\\u0414\\u044e\\u043d\\u0430\",\"\\u041b\\u0435\\u0433\\u0435\\u043d\\u0434\\u0430\",\"\\u0412\\u043b\\u0430\\u0441\\u0442\\u0435\\u043b\\u0438\\u043d \\u043a\\u043e\\u043b\\u0435\\u0446: \\u0414\\u0432\\u0435 \\u043a\\u0440\\u0435\\u043f\\u043e\\u0441\\u0442\\u0438\",\"\\u0414\\u043e\\u043c \\u0414\\u0440\\u0430\\u043a\\u043e\\u043d\\u0430\",\"\\u0421\\u043f\\u0438\\u0441\\u043e\\u043a \\u0428\\u0438\\u043d\\u0434\\u043b\\u0435\\u0440\\u0430\",\"\\u0412\\u043b\\u0430\\u0441\\u0442\\u0435\\u043b\\u0438\\u043d \\u043a\\u043e\\u043b\\u0435\\u0446: \\u0411\\u0440\\u0430\\u0442\\u0441\\u0442\\u0432\\u043e \\u041a\\u043e\\u043b\\u044c\\u0446\\u0430\",\"\\u0414\\u043e\\u043c \\u0414\\u0440\\u0430\\u043a\\u043e\\u043d\\u0430\",\"\\u0412\\u044b\\u0448\\u043a\\u0430\",\"\\u0414\\u0436\\u043e\\u043d \\u0423\\u0438\\u043a\",\"\\u0412\\u0435\\u043d\\u043e\\u043c 2\",\"\\u0411\\u0440\\u0430\\u0442 2\",\"\\u0411\\u0440\\u0430\\u0442\",\"\\u041a\\u0440\\u0438\\u043c\\u0438\\u043d\\u0430\\u043b\\u044c\\u043d\\u043e\\u0435 \\u0447\\u0442\\u0438\\u0432\\u043e\",\"\\u0428\\u0440\\u044d\\u043a\",\"\\u0413\\u043e\\u043b\\u044f\\u043a\",\"\\u041c\\u0430\\u0442\\u0440\\u0438\\u0446\\u0430\",\"\\u0412\\u044b\\u0448\\u043a\\u0430\",\"\\u0414\\u043e\\u043c \\u0414\\u0440\\u0430\\u043a\\u043e\\u043d\\u0430\",\"\\u0412\\u0435\\u043d\\u043e\\u043c\",\"\\u0422\\u0438\\u0442\\u0430\\u043d\\u0438\\u043a\",\"\\u0414\\u043e\\u043c \\u0414\\u0440\\u0430\\u043a\\u043e\\u043d\\u0430\",\"\\u0428\\u043e\\u0443 \\u0422\\u0440\\u0443\\u043c\\u0430\\u043d\\u0430\",\"\\u041b\\u0438\\u0433\\u0430 \\u0441\\u043f\\u0440\\u0430\\u0432\\u0435\\u0434\\u043b\\u0438\\u0432\\u043e\\u0441\\u0442\\u0438 \\u0417\\u0430\\u043a\\u0430 \\u0421\\u043d\\u0430\\u0439\\u0434\\u0435\\u0440\\u0430\",\"\\u0414\\u043e\\u043c \\u0414\\u0440\\u0430\\u043a\\u043e\\u043d\\u0430\",\"\\u0413\\u043e\\u043b\\u044f\\u043a\",\"\\u0414\\u043e\\u043c \\u0414\\u0440\\u0430\\u043a\\u043e\\u043d\\u0430\",\"\\u0414\\u043e\\u043c \\u0414\\u0440\\u0430\\u043a\\u043e\\u043d\\u0430\",\"\\u0414\\u043e\\u043c \\u0414\\u0440\\u0430\\u043a\\u043e\\u043d\\u0430\",\"\\u041e\\u0447\\u0435\\u043d\\u044c \\u0441\\u0442\\u0440\\u0430\\u043d\\u043d\\u044b\\u0435 \\u0434\\u0435\\u043b\\u0430\",\"\\u0414\\u043e\\u043c \\u0414\\u0440\\u0430\\u043a\\u043e\\u043d\\u0430\",\"\\u0414\\u043e\\u043c \\u0414\\u0440\\u0430\\u043a\\u043e\\u043d\\u0430\",\"\\u0417\\u0432\\u0435\\u0440\\u043e\\u043f\\u043e\\u043b\\u0438\\u0441\",\"\\u0410\\u0442\\u0430\\u043a\\u0430 \\u0442\\u0438\\u0442\\u0430\\u043d\\u043e\\u0432\",\"\\u041a\\u0440\\u0443\\u044d\\u043b\\u043b\\u0430\",\"\\u0414\\u043e\\u043c \\u0414\\u0440\\u0430\\u043a\\u043e\\u043d\\u0430\",\"\\u0421\\u0432\\u0435\\u0440\\u0445\\u044a\\u0435\\u0441\\u0442\\u0435\\u0441\\u0442\\u0432\\u0435\\u043d\\u043d\\u043e\\u0435\",\"\\u0410\\u0434\\u0432\\u043e\\u043a\\u0430\\u0442 \\u0434\\u044c\\u044f\\u0432\\u043e\\u043b\\u0430\",\"\\u0412\\u0430\\u043c\\u043f\\u0438\\u0440\\u044b \\u0441\\u0440\\u0435\\u0434\\u043d\\u0435\\u0439 \\u043f\\u043e\\u043b\\u043e\\u0441\\u044b\",\"\\u041d\\u0438\\u043a\\u0442\\u043e\",\"\\u0414\\u043e\\u0441\\u0442\\u0430\\u0442\\u044c \\u043d\\u043e\\u0436\\u0438\",\"\\u041a\\u043e\\u0440\\u043f\\u043e\\u0440\\u0430\\u0446\\u0438\\u044f \\u043c\\u043e\\u043d\\u0441\\u0442\\u0440\\u043e\\u0432\"],\"x\":[-8.632922172546387,-8.588257789611816,-8.566801071166992,-8.640093803405762,-8.612797737121582,-8.696911811828613,-8.603924751281738,-8.574174880981445,-8.653738021850586,-8.658163070678711,-8.661757469177246,-8.605315208435059,-8.648590087890625,-8.55113697052002,0.1692018359899521,0.1858789175748825,-12.127720832824707,-8.651213645935059,0.17758093774318695,-8.627659797668457,0.1281701773405075,-4.5759968757629395,16.710289001464844,-8.587223052978516,-8.537854194641113,-8.58186149597168,-8.603069305419922,11.082010269165039,-2.3386762142181396,-4.5703444480896,-12.122570991516113,-8.565156936645508,-8.566215515136719,-2.338712215423584,-8.635625839233398,-8.643706321716309,-8.68982982635498,-8.635329246520996,0.1997976005077362,8.86595344543457,-0.9252861142158508,-12.134432792663574,18.812332153320312,0.16952675580978394,-4.57176399230957,8.84951400756836,-12.134979248046875,-4.397495746612549,8.854399681091309,-22.170242309570312,7.725527286529541,-8.689803123474121,1.3050426244735718,1.525018572807312,11.082024574279785,1.2791264057159424,16.75419044494629,12.407083511352539,1.268407940864563,2.6617002487182617,1.2739686965942383,1.3157273530960083,8.323402404785156,0.20026826858520508,4.378186225891113,-12.143901824951172,-8.733114242553711,-12.1462984085083,-12.1166410446167,-7.4610700607299805,9.280645370483398,6.150961875915527,6.623082160949707,8.447263717651367,0.4474073350429535,-10.129264831542969,-2.3282318115234375,5.542762279510498,2.5921950340270996,14.983787536621094,13.219832420349121,8.376341819763184,2.6015233993530273,-4.573541641235352,2.6616523265838623,-16.126279830932617,-9.593523979187012,-5.398595809936523,5.072854995727539,4.3983988761901855,-16.11878204345703,8.421948432922363,-8.880356788635254,14.99852466583252,14.975890159606934,0.1509856879711151,8.420429229736328,-2.159283399581909,-16.081722259521484,2.5689022541046143,-16.124513626098633,8.386167526245117,-16.159122467041016,5.446664810180664,-4.545647144317627,2.5921614170074463,4.456524848937988,2.6616854667663574,8.393417358398438,1.3291047811508179,8.38721752166748,16.469736099243164,-16.085407257080078,-12.102405548095703,1.2869983911514282,8.38779354095459,-9.595988273620605,6.150935173034668,0.10683327168226242,-4.577215671539307,11.082030296325684,0.11092961579561234,16.706289291381836,-4.480386734008789,14.985766410827637,8.854050636291504,8.369513511657715,9.281414031982422,-4.4829277992248535,0.9029325842857361,1.2892917394638062,18.35715103149414,-8.768733978271484,-0.26578396558761597,0.23706887662410736,18.812458038330078,16.168657302856445,-4.45465612411499,18.812480926513672,-4.610326290130615,-7.4739766120910645,-0.9155008792877197,16.739986419677734,-4.5192461013793945,-4.511501789093018,0.8736245632171631,-8.757795333862305,-5.949521541595459,0.13798823952674866,14.218548774719238,0.8874779343605042,-8.649565696716309,-7.496731758117676,-3.7225069999694824,-2.3502614498138428,0.2295135110616684,-4.587805271148682,-16.024343490600586,-4.511355876922607,-8.767454147338867,2.661658525466919,-10.127405166625977,2.701294183731079,8.406115531921387,-11.287920951843262,-4.494926929473877,8.36099910736084,8.387528419494629,0.21100889146327972,0.1683550328016281,0.3866484463214874,-13.696337699890137,-22.26788902282715,9.450981140136719,-0.41855502128601074,0.1075286939740181,0.8961915969848633,0.1591424196958542,-11.287782669067383,-4.530107498168945,18.541460037231445,-1.292046070098877,-4.630951881408691,4.490151405334473,0.20615074038505554,8.321513175964355,-4.60621452331543,0.622740626335144,8.43011474609375,0.11320159584283829,-6.315672874450684,7.725739479064941,10.609267234802246,9.167763710021973,-5.7006707191467285,-8.880248069763184,0.1244097426533699,-0.6475720405578613,8.851729393005371,0.07958913594484329,0.19764691591262817,-1.0912623405456543,-3.6336629390716553,-11.537863731384277,-4.586112022399902,-2.156883716583252,14.218443870544434,2.0772173404693604,-13.547013282775879,6.151071071624756,8.420550346374512,6.151003360748291,-11.537762641906738,2.661726713180542,-12.126137733459473,0.16155363619327545,-5.70072603225708,-1.4706897735595703,-3.630427360534668,0.04637555405497551,-16.120222091674805,-8.741540908813477,-2.021057367324829,16.719655990600586,1.2727022171020508,11.078975677490234,7.176738262176514,-2.130794048309326,9.70797348022461,-2.3384392261505127,1.4872015714645386,-3.605069875717163,11.081814765930176,1.4153070449829102,-2.137014627456665,0.16153159737586975,-3.6377978324890137,-16.42232322692871,0.9788504838943481,3.350958824157715,0.26148122549057007,0.8608301281929016,-2.809661865234375,12.406744003295898,-4.556616306304932,14.765130996704102,9.275463104248047,4.711493492126465,0.2394677847623825,4.422933578491211,0.8954490423202515,16.719482421875,-8.880085945129395,-8.781974792480469,-3.7349324226379395,0.29163601994514465,-2.1801340579986572,5.561480522155762,-0.9434117078781128,0.25136974453926086,0.18043595552444458,-7.3449811935424805,0.13784421980381012,1.4081642627716064,-4.551288604736328,2.6813230514526367,-12.188084602355957,-4.513298511505127,2.580688238143921,16.46881103515625,2.388645648956299,-4.635504722595215,-8.617284774780273,-4.565855503082275,-4.672205448150635,-0.5819042921066284,16.174575805664062,18.534446716308594,12.407533645629883,11.082022666931152,0.5413511991500854,1.3159857988357544,11.047361373901367,0.06922315061092377,-6.92796516418457,4.484405517578125,14.764968872070312,3.580688714981079,1.765413522720337,14.218965530395508,7.1767802238464355,13.667007446289062,7.83160924911499,-1.4712128639221191,0.7562652230262756,-8.617321014404297,-8.76307201385498,-8.842057228088379,-4.185655117034912,-2.7013416290283203,-2.0058908462524414,0.7010694146156311,-4.549069881439209,-8.790702819824219,8.369083404541016,0.9794338941574097,8.409361839294434,-4.474303722381592,-8.744898796081543,0.21270479261875153,4.424178123474121,16.138076782226562,-4.41525411605835,-7.3459014892578125,-4.646290302276611,8.49866771697998,-7.485953330993652,-8.730090141296387,-8.821861267089844,-4.607524871826172,-0.05117388814687729,4.482661724090576,-1.0452851057052612,-4.615099906921387,-7.741281986236572,-7.74151086807251,-3.7662880420684814,-12.11828327178955,-8.962027549743652,1.315320611000061,8.402573585510254,-3.8284175395965576,0.22011135518550873,-3.6035430431365967,-3.500821113586426,-16.10796356201172,1.4735480546951294,-12.297496795654297,-16.06792640686035,0.2182711660861969,8.398726463317871,-8.812003135681152,5.446690082550049,18.367094039916992,4.460153102874756,8.352428436279297,-3.46445894241333,4.417555809020996,2.19987154006958,-3.692218542098999,-16.095191955566406,18.539932250976562,-2.3384883403778076,-3.7247629165649414,-3.5343165397644043,0.2683524191379547,-3.644064426422119,-2.201707124710083,-8.766294479370117,1.0436733961105347,-3.571150541305542,4.507376670837402,17.923940658569336,8.64548110961914,-3.6291098594665527,0.41246548295021057,4.515141487121582,-3.82124924659729,4.417762279510498,-1.6473162174224854,2.589961051940918,0.1685430407524109,-3.618527889251709,-3.5100343227386475,3.348531723022461,-8.727048873901367,-3.6521944999694824,-4.131486415863037,-3.4384920597076416,-3.392206907272339,-3.5291080474853516,-3.4809811115264893,10.189889907836914,4.546734809875488,16.64078712463379,0.9977697134017944,-7.338489532470703,-3.578228712081909,10.549409866333008,18.343231201171875,-3.6617352962493896,-3.631795644760132,3.5452497005462646,-3.5250227451324463,-3.3139891624450684,-22.09156608581543,1.420224666595459,0.38695210218429565,0.24019229412078857,4.578373908996582,1.2836432456970215,-3.7204036712646484,12.808329582214355,7.725655555725098,-0.26424893736839294,4.426412105560303,-8.762821197509766,-3.2486510276794434,0.18753322958946228,4.554449081420898,0.25860559940338135,-0.2459038645029068,-3.2066588401794434,-3.5074734687805176,-3.698871612548828,-3.3394367694854736,-2.9045281410217285,-3.501274824142456,-3.2489423751831055,17.923622131347656,-0.2372405230998993,-0.1918797641992569,-0.225728377699852,2.213427782058716,-3.728285551071167,2.076636552810669,-8.785307884216309,3.6859889030456543,4.510094165802002,4.506720542907715,12.569863319396973,-16.131357192993164,4.458399772644043,2.598940372467041,-3.5254993438720703,12.569982528686523,4.616389274597168,-3.5647568702697754,-3.5528125762939453,-3.6324284076690674,-0.2541021704673767,-3.578418731689453,-8.77973747253418,4.424190044403076,-0.23325853049755096,-5.378016948699951,-2.223391056060791,-7.2578935623168945,-1.2952349185943604,11.63182258605957,-1.6956747770309448,-7.318830490112305,8.853821754455566,-3.693598747253418,-8.812356948852539,-0.25447705388069153,-5.377899646759033,-3.461061716079712,-0.19237735867500305,-3.4061858654022217,-0.14287340641021729,1.2389330863952637,-2.1964759826660156,7.725649356842041,-3.562976360321045,-3.4450485706329346,4.510753631591797,-0.2649327516555786,-3.436128616333008,-0.20946075022220612,16.113086700439453,-3.777151584625244,-16.422351837158203,1.043491005897522,12.569284439086914,-8.665327072143555,-8.204977989196777,-11.288596153259277,-3.4038326740264893,-0.24761098623275757,-3.815448522567749,4.321986198425293,-0.11904716491699219,-0.19421033561229706,-3.635868549346924,-3.530977725982666,-3.7810230255126953,-10.129002571105957,18.37242317199707,-5.869182586669922,-13.813647270202637,-0.2633480429649353,-8.856879234313965,7.570616722106934,-8.885748863220215,0.9099811911582947,1.4208511114120483,-8.806626319885254,-16.10641098022461,-4.855988025665283,14.76500415802002,4.32767915725708,-0.3170701265335083,-0.2191334068775177,0.02089826948940754,16.676172256469727,-0.2486903816461563,-3.692140579223633,-2.1970784664154053,-3.8992598056793213,-0.2668400704860687,-3.6631417274475098,3.351229190826416,0.8689907789230347,-8.635717391967773,-0.24133984744548798,-3.453702211380005,-3.4229753017425537,-8.819696426391602,9.167801856994629,-0.20785129070281982,-0.20067957043647766,-0.4063747823238373,-3.768744707107544,16.140363693237305,-0.18580152094364166,-22.218307495117188,-3.355583667755127,-8.746374130249023,2.622326374053955,-9.59426212310791,2.5680911540985107,-3.668408155441284,0.9998993873596191,-8.777059555053711,-1.0455079078674316,-3.5069806575775146,-8.715736389160156,-3.296520709991455,18.539440155029297,-3.443113088607788,0.8956329226493835,-3.6930747032165527,-8.850356101989746,-5.700997829437256,-8.856682777404785,-3.546967029571533,6.810626029968262,4.251938343048096,1.0435278415679932,-3.6586482524871826,18.53101348876953,-3.7694575786590576,4.243444442749023,0.1986711174249649,10.180855751037598,1.4166394472122192,-3.27066969871521,-3.1503591537475586,0.36336976289749146,0.7774202227592468,16.154510498046875,-3.5808846950531006,0.21561585366725922,-11.537869453430176,4.259823799133301,-3.4705283641815186,0.08606509119272232,13.645193099975586,0.26631593704223633,5.547328472137451,0.1959432065486908,-4.514095306396484,-3.7181923389434814,8.489831924438477,-0.05359172448515892,-3.7214903831481934,-1.0919567346572876,-13.546871185302734,-3.6754751205444336,11.63183879852295,-2.7012248039245605,-7.470161437988281,4.20573616027832,0.06243118271231651,16.148967742919922,-3.1494882106781006,-3.4218006134033203,17.934280395507812,-3.447321891784668,-3.5611345767974854,-3.33547306060791,-7.514214992523193,-4.8614935874938965,-2.905144214630127,-3.3566787242889404,16.192289352416992,-3.827319622039795,5.446712970733643,13.68030071258545,-2.1959421634674072,1.4205893278121948,-8.880226135253906,8.49842643737793,12.80844497680664,11.631720542907715,1.135973572731018,-3.7881417274475098,-3.7218222618103027,-3.183295726776123,13.654082298278809,0.4867737889289856,-3.4714105129241943,-3.6116998195648193,-3.424013137817383,-3.1852049827575684,-3.4317405223846436,-3.4969418048858643,-3.5884573459625244,-3.096717357635498,-15.99307918548584,-16.130077362060547,0.15637989342212677,-3.2745141983032227,6.795283317565918,0.9072751998901367,-3.402451515197754,-3.447561264038086,-3.604853391647339,-3.5885074138641357,-12.297552108764648,-2.809537410736084,-4.510958194732666,18.366661071777344,3.3486053943634033,0.23619821667671204,0.48610612750053406,-7.914971351623535,-6.927830219268799,16.16478157043457,18.53165054321289,-16.422317504882812,16.153657913208008,5.446671485900879,6.827109336853027,-16.20618438720703,11.047551155090332,8.646173477172852,-1.2894142866134644,2.2010488510131836,-13.814160346984863,-6.572030067443848,-0.9670220613479614,4.439033031463623,-1.6956294775009155,-7.2367963790893555,9.708338737487793,-1.091551423072815,-0.004065109882503748,-2.258329153060913,-3.7098147869110107,13.669620513916016,-22.19944190979004,7.1411824226379395,-3.8168678283691406,2.5913476943969727,-3.7775628566741943,6.6205267906188965,4.220773220062256,-1.2274752855300903,13.22034740447998,-3.6852211952209473,-1.6959954500198364,0.7525513768196106,-3.6886682510375977,1.4207099676132202,4.418101787567139,-11.291031837463379,-7.471088886260986,0.19012154638767242,-2.811995267868042,0.8936253786087036,4.709574222564697,0.26044297218322754,-2.194969654083252,-22.20606231689453,-4.513236999511719,-3.7701704502105713,-3.681016683578491,14.218395233154297,3.6643927097320557,-3.671081781387329,-3.697119951248169,16.141632080078125,16.468793869018555,5.847048759460449,4.2525763511657715,4.2135114669799805,16.17391586303711,-8.61804485321045,13.66916561126709,-12.13856029510498,4.963386058807373,-2.209408760070801,-3.5892341136932373,6.132824897766113,7.570012092590332,4.18643045425415,-3.679333448410034,-3.6948065757751465,0.06523571163415909,-3.6465229988098145,-3.740255355834961,16.147701263427734,-12.298163414001465,-7.309469699859619,-1.4714789390563965,-12.15111255645752,-3.6042940616607666,0.33709385991096497,18.812374114990234,1.6847885847091675,16.468875885009766,17.949861526489258,-8.617361068725586,-3.207090139389038,0.15788577497005463,-2.199026107788086,12.812064170837402,1.295001745223999,0.29678553342819214,-0.9672558307647705,0.3543720841407776,0.3721669316291809,-11.53778076171875,5.8467183113098145,10.189722061157227,16.15290069580078,-0.2837740182876587,-0.06265562027692795,0.11339153349399567,4.176252841949463,10.610153198242188,-7.237035274505615,5.44724702835083,17.937192916870117,-3.248685836791992,-2.1586968898773193,4.1087517738342285,-1.5414291620254517,-0.5823458433151245,6.1489577293396,-2.1297335624694824,11.631755828857422,-13.818142890930176,-22.230670928955078,-12.145732879638672,7.830898284912109,0.3876412808895111,-2.7011542320251465,0.16731278598308563,0.3537095785140991,7.176490783691406,11.082022666931152,-2.8096461296081543,4.225422382354736,5.569226264953613,0.38927316665649414,4.204316139221191,-17.918428421020508,4.533219814300537,5.034631252288818,6.621341705322266,0.33798062801361084,-2.219893455505371,4.109975337982178,5.541867256164551,-16.117965698242188,-7.3568902015686035,5.446857929229736,-2.1728599071502686,0.28395289182662964,0.33835849165916443,4.256272315979004,14.981014251708984,14.981170654296875,3.5809128284454346,16.685142517089844,4.223307132720947,16.73383331298828,4.478714942932129,6.809915065765381,4.324880599975586,-2.064746618270874,11.051558494567871,-2.6205170154571533,4.3533616065979,-22.252138137817383,-2.2072720527648926,8.498025894165039,0.3383796811103821,0.2715664207935333,-1.699800729751587,4.254298686981201,18.54328155517578,-13.547144889831543,-7.235353946685791,4.6362152099609375,4.119597434997559,4.137132167816162,-11.538620948791504,13.219743728637695,-2.809593677520752,-2.7023842334747314,-2.262779712677002,4.12825345993042,-22.151519775390625,0.3575137257575989,-17.91155242919922,4.226212501525879,-2.2057342529296875,-7.914289951324463,-8.96196460723877,15.011280059814453,0.8755728602409363,2.5932297706604004,0.3168592154979706,4.145023822784424,-22.26250457763672,5.07416296005249,-16.12013053894043,1.291913390159607,0.33717602491378784,4.147610664367676,4.176752090454102,0.17238864302635193,-13.547370910644531,5.446681499481201,10.0971040725708,0.9976995587348938,-7.315792083740234,0.2541161775588989,9.167784690856934,-5.865020275115967,0.14865286648273468,-16.118207931518555,-17.918367385864258,0.1448666751384735,18.81241798400879,2.0663211345672607,-22.2497501373291,0.9039238691329956,-2.13468861579895,0.370025634765625,0.3866425156593323,3.6852307319641113,14.992777824401855,0.37278881669044495,-22.290042877197266,-5.398702621459961,-17.885894775390625,18.36741828918457,-2.089545726776123,5.544252395629883,-2.0789248943328857,14.218684196472168,11.079386711120605,0.4475371241569519,-5.855383396148682,14.977058410644531,14.98087215423584,-2.1049890518188477,-0.20293787121772766,-7.323889255523682,-2.1442275047302246,-6.313688278198242,-3.1140763759613037,0.3606185019016266,-4.1856560707092285,4.515449047088623,0.31407079100608826,-16.422361373901367,-5.885008811950684,2.201300621032715,-13.54702377319336,0.0694122388958931,-3.139115333557129,1.723391056060791,-1.0941338539123535,-13.814541816711426,0.38377758860588074,0.29068562388420105,-2.467012882232666,-2.0441155433654785,-2.466489791870117,4.635910511016846,1.9964174032211304,1.415579915046692,-16.1672420501709,-17.923625946044922,11.631725311279297,-1.005295991897583,-1.5835548639297485,2.0854954719543457,-1.4710214138031006,1.9236302375793457,-17.918489456176758,1.3157037496566772,-5.869603633880615,-22.271821975708008,1.9759575128555298,8.522639274597168,0.34820637106895447,-17.936859130859375,-7.3082499504089355,-17.923311233520508,0.11931681632995605,1.8945335149765015,3.581082582473755,-22.236928939819336,-17.92060661315918,-8.61734676361084,0.16948479413986206,2.0664706230163574,-22.25237274169922,2.194746494293213,16.70768165588379,2.603522300720215,10.54932975769043,-17.925628662109375,2.1630077362060547,-17.923694610595703,1.8339157104492188,0.1228380873799324,3.6851658821105957,8.853845596313477,-22.207355499267578,-22.16401481628418,-22.338224411010742,7.725045204162598,-22.156150817871094,-16.120267868041992,-22.17862892150879,1.9061638116836548,1.7783708572387695,1.7658178806304932,2.0196924209594727,-22.183414459228516,1.8264403343200684,-22.240629196166992,-16.095449447631836,-0.029105184599757195,0.41365674138069153,-22.290660858154297,-22.189300537109375,7.569552898406982,-5.94938325881958,6.809591293334961,10.097105026245117,5.535933494567871,6.175102233886719,2.03220272064209,1.756334900856018,1.2758479118347168,1.9809200763702393,0.8956588506698608,2.0937137603759766,-2.620176076889038,12.808313369750977,-2.8114702701568604,16.130094528198242,1.331444263458252,4.418989658355713,1.978517770767212,2.5916805267333984,1.7731965780258179,-5.949394226074219,2.0852882862091064,3.595628023147583,2.2464427947998047,1.939897894859314,16.741960525512695,1.6397855281829834,1.7674978971481323,14.764243125915527,-22.17376136779785,1.3135379552841187,16.74351692199707,2.1149990558624268,1.9308927059173584,0.33681556582450867,1.904708981513977,2.0590176582336426,1.8668277263641357,2.0535452365875244,1.2284774780273438,1.7470110654830933,-4.544964790344238,1.747779130935669,1.9730491638183594,1.8386667966842651,1.9403815269470215,-16.143375396728516,1.8570200204849243,4.635933876037598,8.49836540222168,2.0234487056732178,1.970837950706482,-13.696270942687988,-12.297575950622559,1.974674940109253,11.632603645324707,1.6465280055999756,2.0315306186676025,1.898715853691101,1.8440499305725098,10.770235061645508,2.0488343238830566,3.685157537460327,2.1443936824798584,8.522514343261719,-12.297609329223633,0.2510271370410919,1.96269953250885,0.1247553899884224,2.0154786109924316,2.165489673614502,2.598527431488037,-2.700759172439575,1.9100209474563599,11.046317100524902,1.7188769578933716,18.383403778076172,-0.9672303199768066,-0.2871549427509308,-5.700370788574219,0.3983997702598572,-22.264556884765625,-0.9672332406044006,2.211517810821533,2.1055407524108887,2.0272040367126465,2.3883399963378906,1.7129868268966675,7.176591396331787,1.8373247385025024,11.079122543334961,18.542705535888672,2.001677989959717,-7.46055269241333,12.80837631225586,10.189379692077637,1.9488838911056519,7.141952991485596,2.1472392082214355,17.928085327148438,-6.927948474884033,13.63149356842041,6.620603561401367,-22.229684829711914,-7.306653022766113,-5.712260723114014,11.631814002990723,-3.5622518062591553,1.7808090448379517,1.9881925582885742,2.211458921432495,10.770173072814941,1.8331859111785889,12.569955825805664,14.984895706176758,2.2139892578125,-16.025293350219727,-11.291172981262207,11.631804466247559,-16.08089256286621,-8.205727577209473,-6.580842971801758,4.5056867599487305,-1.0068409442901611,1.7644060850143433,-1.8362914323806763,0.3584877550601959,1.697376012802124,-13.817900657653809,-22.226539611816406,0.273584246635437,9.70543098449707,11.082012176513672,6.619997978210449,-4.5449090003967285,-16.037324905395508,1.9258384704589844,-22.360437393188477,2.0685203075408936,2.0779473781585693,-2.3386917114257812,-0.3860325813293457,4.5125250816345215,2.155273675918579,15.013702392578125,-2.8098230361938477,-22.352041244506836,-16.069252014160156,1.8664814233779907,-16.17100715637207,2.1353933811187744,-4.513387203216553,-22.294063568115234,1.9346380233764648,14.99152946472168,0.7295150756835938,0.7526290416717529,16.718217849731445,10.549555778503418,1.9198572635650635,2.0093655586242676,5.446783065795898,2.080960750579834,2.681445837020874,16.17373275756836,-22.124406814575195,0.978163480758667,-0.20226193964481354,10.549436569213867,-1.3046894073486328,17.936511993408203,7.141432762145996,-16.087697982788086,6.620443344116211,-7.472802639007568,-7.430793285369873,-7.4649248123168945,2.5903310775756836,-0.2658097743988037,-16.058910369873047,-13.696308135986328,3.5454092025756836,-16.089941024780273,-7.257901668548584,-22.187389373779297,-0.26462945342063904,18.55331802368164,0.38913941383361816,9.451258659362793,7.1763386726379395,14.990229606628418,5.07318639755249,9.281234741210938,-2.338660955429077,-7.323314666748047,7.570112705230713,1.51482355594635,16.68375015258789,16.688005447387695,9.451186180114746,17.933828353881836,-16.11168670654297,-16.05825424194336,-1.3772168159484863,1.4738173484802246,0.248152956366539,7.1881022453308105,-16.066974639892578,0.9792560338973999,18.56324577331543,16.656505584716797,7.568231582641602,0.3801465928554535,-4.514434814453125,3.595647096633911,16.692758560180664,10.610057830810547,-2.675319194793701,-3.42909574508667,16.720441818237305,-11.53786849975586,-16.09495735168457,4.503998756408691,7.831607818603516,14.9823637008667,10.097282409667969,-16.151473999023438,5.542577266693115,-16.047176361083984,13.219733238220215,-16.08952522277832,-12.297613143920898,-2.9051015377044678,-1.4810882806777954,-0.8630728125572205,-1.5467063188552856,3.5956978797912598,16.696699142456055,1.2139897346496582,-16.16442108154297,16.706634521484375,5.034448623657227,-11.291145324707031,-1.4711867570877075,0.17757993936538696,-1.578719139099121,4.963420867919922,12.808382987976074,-7.324329376220703,5.073176383972168,16.765153884887695,10.769510269165039,2.699660301208496,5.565608978271484,1.2232686281204224,-0.6489137411117554,-1.4958165884017944,9.70822525024414,-1.4712200164794922,-1.5664416551589966,16.663291931152344,12.569906234741211,0.4982079267501831,7.568077564239502,-0.9672053456306458,-13.69637680053711,4.4387688636779785,-6.578919410705566,-0.047725994139909744,16.73056411743164,-1.4770935773849487,-4.856224536895752,7.83162784576416,-1.6364688873291016,0.48661965131759644,18.371105194091797,-1.572875738143921,-6.572961330413818,-1.6141583919525146,-1.5696280002593994,-1.5510042905807495,12.813051223754883,-1.507062315940857,-1.5381951332092285,-3.562211036682129,13.666733741760254,12.407648086547852,-1.5871814489364624,-16.422348022460938,4.711520195007324,16.129966735839844,0.44606855511665344,0.8932574391365051,-4.860802173614502],\"y\":[22.33169937133789,22.37657928466797,22.39765739440918,22.324434280395508,22.35189437866211,22.252105712890625,22.36058807373047,22.390533447265625,22.310426712036133,22.304685592651367,22.302400588989258,22.359275817871094,22.315128326416016,22.413394927978516,3.0217041969299316,2.965315580368042,14.509902954101562,22.312881469726562,3.026256561279297,22.3370304107666,3.0661795139312744,11.433704376220703,4.96378231048584,22.377334594726562,22.426782608032227,22.382583618164062,22.361743927001953,20.221303939819336,-17.9522762298584,11.428339958190918,14.510108947753906,22.399459838867188,22.39850425720215,-17.952350616455078,22.32834815979004,22.321170806884766,22.27457618713379,22.329898834228516,3.031073570251465,14.105485916137695,7.201198577880859,14.516416549682617,-6.35521125793457,3.0151660442352295,11.464683532714844,14.122188568115234,14.51731014251709,11.265006065368652,14.117369651794434,1.6909499168395996,-4.412572860717773,0.8991106152534485,26.429107666015625,6.868932247161865,20.221298217773438,26.45505714416504,5.007542133331299,2.030707359313965,26.465837478637695,21.524206161499023,26.460277557373047,26.418716430664062,-17.48493766784668,3.032583236694336,-4.601977825164795,14.526408195495605,0.8566385507583618,14.52839183807373,14.499752044677734,-12.689294815063477,-1.6023691892623901,-8.909269332885742,5.723890781402588,-17.358583450317383,-2.202183961868286,3.604595184326172,-17.948284149169922,-15.075966835021973,-15.28710651397705,-6.323825359344482,3.063913345336914,-17.43062973022461,-15.296483039855957,11.45638370513916,21.524246215820312,3.3422329425811768,7.639194965362549,4.253045558929443,-0.6444324254989624,-4.576452255249023,3.3496792316436768,-17.38477897644043,-4.452255725860596,-6.308856010437012,-6.331574440002441,3.0295557975769043,-17.385963439941406,-5.10695743560791,3.3867547512054443,-15.263155937194824,3.344102621078491,-17.420204162597656,3.309663772583008,-11.990154266357422,11.407478332519531,-15.286725044250488,-4.6522698402404785,21.524255752563477,-17.413496017456055,26.405214309692383,-17.41993522644043,1.2591931819915771,3.3839118480682373,14.483704566955566,26.447126388549805,-17.4188289642334,7.63932466506958,-8.9092378616333,3.081713914871216,11.437410354614258,20.22133445739746,2.955768346786499,4.959224224090576,11.489130973815918,0.38441795110702515,14.117676734924316,-17.437408447265625,-1.6024277210235596,11.380644798278809,17.836233139038086,26.444921493530273,8.509758949279785,0.8206847906112671,-5.8301286697387695,3.0807673931121826,-6.355344772338867,14.840425491333008,11.525888442993164,-6.355244159698486,11.374895095825195,-12.702235221862793,7.244955062866211,4.993236064910889,11.41491985321045,11.437759399414062,17.80732536315918,0.8306593298912048,5.511580467224121,3.028167963027954,4.53220272064209,17.820873260498047,0.939179003238678,-12.724934577941895,19.78499984741211,-17.965267181396484,3.127481460571289,11.444537162780762,-7.315199375152588,11.478535652160645,0.822798490524292,21.524259567260742,3.6039977073669434,1.9494577646255493,-17.400480270385742,4.035260200500488,11.442700386047363,-17.447025299072266,-17.40781593322754,3.1086220741271973,3.0346806049346924,-15.993903160095215,7.611458778381348,1.7885411977767944,3.06276798248291,5.3650617599487305,3.0328269004821777,-1.2524086236953735,6.5114030838012695,4.03540563583374,11.391115188598633,-12.851775169372559,5.07426118850708,11.494697570800781,-4.61543607711792,3.021599769592285,-17.484619140625,11.429718017578125,6.923590660095215,-17.376216888427734,3.0381600856781006,1.819305419921875,-4.412565231323242,8.899813652038574,0.4134681224822998,-8.218059539794922,-4.452355861663818,3.044617176055908,1.4582953453063965,14.120333671569824,2.9160103797912598,2.976760149002075,0.6068059206008911,19.7997989654541,-7.930763244628906,11.379965782165527,-5.130575180053711,4.532148361206055,10.860298156738281,-6.208559513092041,-8.909551620483398,-17.386018753051758,-8.909355163574219,-7.9308061599731445,21.524330139160156,14.508394241333008,2.9938015937805176,-8.218113899230957,-14.470502853393555,19.9107666015625,2.869081735610962,3.348875045776367,0.8481036424636841,-5.001183986663818,4.972714900970459,26.46168327331543,4.383642673492432,2.7357003688812256,-5.101191520690918,10.732559204101562,-17.952495574951172,6.977441310882568,19.738868713378906,20.22167205810547,1.3342642784118652,-5.094666957855225,2.9449031352996826,19.716821670532227,-1.0036518573760986,-8.627163887023926,9.514123916625977,3.0663774013519287,17.794620513916016,-12.577274322509766,2.0304763317108154,11.455893516540527,8.118501663208008,-1.5838849544525146,10.616398811340332,2.977593183517456,-4.651229381561279,-1.2490782737731934,4.972445964813232,-4.4523138999938965,0.8084069490432739,19.79396629333496,6.636350154876709,-5.08727502822876,9.323521614074707,7.233617782592773,3.040816068649292,2.9922549724578857,-18.740198135375977,2.937873125076294,1.326989769935608,11.504478454589844,3.138796329498291,14.569660186767578,-2.6981067657470703,-15.275965690612793,1.2588204145431519,9.716278076171875,11.488433837890625,18.57876205444336,11.380620002746582,11.324219703674316,-1.1333096027374268,14.84637451171875,-12.844757080078125,2.031881093978882,20.221364974975586,7.1398396492004395,11.880231857299805,7.836892604827881,11.004158020019531,2.657491445541382,-4.649276256561279,8.118426322937012,-6.489115238189697,2.3830904960632324,4.5323896408081055,2.735471725463867,-12.851165771484375,16.928115844726562,-14.469653129577637,5.543583393096924,18.578683853149414,0.8267363905906677,0.7486200332641602,1.3484073877334595,-10.13365364074707,-5.2399492263793945,6.655608177185059,11.437409400939941,0.7994651198387146,-17.438261032104492,-8.627463340759277,-17.397533416748047,11.36965560913086,0.8454530835151672,3.0736610889434814,-4.624017715454102,14.809682846069336,11.292128562927246,-18.739299774169922,11.394536972045898,5.908242702484131,-12.71413803100586,0.8602408766746521,0.7679091095924377,11.51410961151123,5.950664520263672,25.81217384338379,6.9796833992004395,11.44726276397705,6.445705890655518,6.446225643157959,10.476899147033691,14.49938678741455,3.821460247039795,11.880257606506348,-17.405075073242188,19.907529830932617,6.499760627746582,10.123403549194336,10.303694725036621,-7.3989081382751465,4.322472095489502,17.695899963378906,-7.358416557312012,3.0645751953125,-17.40891456604004,0.7780916690826416,-11.990038871765137,8.519892692565918,-4.615757465362549,-17.455669403076172,10.191920280456543,0.8035628199577332,-9.957265853881836,10.187324523925781,-7.385606288909912,-12.850154876708984,-17.952526092529297,9.990901947021484,10.373212814331055,2.968721866607666,10.073907852172852,-5.144979953765869,0.823000967502594,-6.027277946472168,10.065540313720703,25.8364315032959,-4.562021255493164,-0.46931254863739014,10.22791576385498,6.520903587341309,-4.661837577819824,19.935766220092773,0.8026271462440491,8.288347244262695,0.8516141772270203,2.985081434249878,10.142990112304688,10.3900785446167,11.09455394744873,0.863429844379425,10.253823280334473,10.887365341186523,10.044952392578125,10.098941802978516,10.129911422729492,10.164505004882812,5.372711658477783,-4.672490119934082,4.8942365646362305,0.15957321226596832,-18.74662208557129,10.282503128051758,12.444840431213379,8.496076583862305,10.335131645202637,10.318697929382324,3.763026237487793,10.327028274536133,10.33465576171875,1.6123102903366089,-4.588221073150635,-15.993968963623047,3.0772814750671387,-4.688190460205078,6.824557304382324,19.777650833129883,-0.36928871273994446,-4.412728309631348,-5.830590724945068,-4.655436038970947,0.8266276121139526,6.363728046417236,6.878228664398193,-4.673283576965332,3.1462764739990234,5.467583179473877,3.4628183841705322,10.444584846496582,10.335368156433105,10.266141891479492,-2.5705809593200684,10.32552433013916,10.172131538391113,-4.5590434074401855,5.46376371383667,5.485617160797119,5.660066604614258,-9.958619117736816,19.84392547607422,10.860773086547852,0.804418683052063,15.73063850402832,25.838891983032227,25.836071014404297,-4.754289150238037,-7.422098636627197,-4.72410249710083,-15.294788360595703,10.004631996154785,-4.754266738891602,-4.75247049331665,10.51654052734375,10.223726272583008,10.423834800720215,5.4083251953125,10.285849571228027,0.8095789551734924,-4.720756530761719,5.3910627365112305,6.229033470153809,-5.144132137298584,9.69267749786377,5.073373794555664,-8.442405700683594,-0.72467440366745,-18.766403198242188,14.1178560256958,19.856201171875,0.776706337928772,5.418092250823975,6.229028224945068,10.260414123535156,5.486382484436035,10.152618408203125,5.5296854972839355,7.767700672149658,-5.115893363952637,-4.412684440612793,10.245097160339355,10.428616523742676,-4.73262882232666,5.402474403381348,10.082125663757324,5.356728553771973,14.784774780273438,10.381852149963379,-1.0036195516586304,-6.027234077453613,-4.754802703857422,0.9254730343818665,2.3801424503326416,4.035516738891602,10.255846977233887,5.379270553588867,10.19375991821289,-4.823415279388428,5.507606506347656,5.451880931854248,19.77884292602539,10.257817268371582,10.441057205200195,3.6051225662231445,8.5249605178833,-5.519906044006348,3.2236523628234863,5.4326701164245605,0.7321527600288391,4.416379451751709,0.7036179900169373,17.843297958374023,-4.588531494140625,0.7768952250480652,3.362342119216919,0.17774374783039093,8.11859130859375,-4.8526611328125,5.4272236824035645,5.387179374694824,7.618321418762207,4.929302215576172,5.440149784088135,10.415733337402344,-5.132277488708496,10.150240898132324,5.396819591522217,19.819744110107422,9.514768600463867,17.802745819091797,0.9541012048721313,5.403866291046143,10.380184173583984,10.285614967346191,0.770285964012146,0.4134838581085205,5.430319309234619,5.3682637214660645,5.516644477844238,19.91446304321289,14.812054634094238,5.467365264892578,1.7393131256103516,10.517354965209961,0.8439918756484985,-15.317687034606934,7.639421463012695,-15.26310920715332,19.844085693359375,0.16773778200149536,0.8105146288871765,6.972018241882324,10.209061622619629,0.8698636293411255,10.021517753601074,-12.849663734436035,10.284250259399414,-1.2486492395401,10.25125503540039,0.7395927309989929,-8.218348503112793,0.7331084609031677,10.30477523803711,0.5826341509819031,-4.870522975921631,-6.027271270751953,19.82956314086914,-12.841297149658203,19.85003089904785,-4.889403343200684,6.567107200622559,5.371677875518799,-4.589144229888916,10.180492401123047,10.0947847366333,6.856582164764404,7.048207759857178,14.826183319091797,10.331183433532715,6.738124370574951,-7.930784702301025,-4.860015869140625,10.473367691040039,6.781193733215332,-12.82869815826416,6.747206687927246,-15.071100234985352,6.68534517288208,-2.6972808837890625,10.137020111083984,5.902178764343262,6.5279998779296875,19.853771209716797,0.6043868064880371,-6.208476543426514,19.816343307495117,-8.44244384765625,-10.133638381958008,-12.698379516601562,-4.887299537658691,6.720961093902588,14.820677757263184,10.135688781738281,10.3932523727417,-4.568391799926758,10.454681396484375,10.296931266784668,10.129551887512207,-12.742443084716797,2.5322327613830566,-2.570209264755249,10.296926498413086,14.863983154296875,19.8339786529541,-11.990303039550781,-12.865935325622559,-5.1592936515808105,-4.5892014503479,-4.4523396492004395,5.907724857330322,-0.3696037828922272,-8.442273139953613,7.339824199676514,10.422098159790039,19.87078285217285,10.193157196044922,-12.83813762664795,-3.3152928352355957,10.36984920501709,9.977715492248535,9.902191162109375,10.125617027282715,10.208795547485352,10.343606948852539,10.380693435668945,10.14410400390625,-7.283819675445557,-7.4208197593688965,6.733306884765625,10.363566398620605,0.6009352803230286,17.840652465820312,10.188055992126465,10.065428733825684,10.059141159057617,10.034589767456055,17.69379234313965,-12.577398300170898,-2.6983625888824463,8.51932430267334,11.094671249389648,6.559112548828125,-3.314722776412964,8.497260093688965,2.657820224761963,14.836496353149414,-12.841950416564941,-1.0036451816558838,14.82541561126709,-11.989937782287598,0.568678617477417,-7.496685981750488,7.836688041687012,-0.4698634445667267,5.074211120605469,-9.957429885864258,3.22343111038208,-1.8746111392974854,-10.415196418762207,1.9394004344940186,-0.7245544791221619,4.592573642730713,10.733009338378906,0.6048091053962708,6.190731525421143,-5.19696569442749,19.792760848999023,-12.853513717651367,1.7203686237335205,-0.4329388439655304,19.908761978149414,-15.28620433807373,19.872848510742188,5.722450256347656,-4.8788652420043945,5.103724002838135,3.0647435188293457,19.765714645385742,-0.7255494594573975,5.547341823577881,19.818843841552734,-4.588606357574463,0.8041562438011169,1.853957176208496,-12.699268341064453,6.67205286026001,-12.572357177734375,17.82705307006836,10.615250587463379,6.66445779800415,-5.111884593963623,1.726952075958252,-2.6980972290039062,19.76217269897461,19.814773559570312,4.532135963439941,15.705052375793457,19.781829833984375,19.812458038330078,14.813373565673828,1.2588168382644653,1.0556625127792358,-4.8109893798828125,-4.818629264831543,14.845351219177246,18.57874298095703,-12.853282928466797,14.53276538848877,5.761135578155518,-5.044575214385986,19.69923973083496,-8.889915466308594,4.4166107177734375,-4.868626594543457,19.88569450378418,19.846166610717773,6.301597595214844,19.74955177307129,19.727092742919922,14.819435119628906,17.690216064453125,-18.77564239501953,-14.469538688659668,14.533411026000977,19.723752975463867,7.966960906982422,-6.355318069458008,6.875013828277588,1.2588235139846802,-4.588945388793945,18.57865333557129,3.4628641605377197,6.509977340698242,-5.129310607910156,-0.37365826964378357,26.439157485961914,7.93898868560791,-10.415027618408203,8.00902271270752,8.030726432800293,-7.930685997009277,1.05488121509552,5.372618198394775,14.824605941772461,-5.825662612915039,5.556392192840576,6.767245292663574,-4.7468647956848145,8.89751148223877,4.592955589294434,-11.991922378540039,-4.576116561889648,6.364018440246582,-5.097339630126953,-4.725576400756836,8.259361267089844,-1.1339912414550781,-8.908063888549805,-5.060520648956299,-8.442352294921875,3.2206106185913086,1.7514501810073853,14.527337074279785,16.927675247192383,8.020159721374512,-10.133099555969238,6.523985862731934,7.728240013122559,2.736307382583618,20.221298217773438,-12.577200889587402,-4.757350921630859,9.318358421325684,7.965505123138428,-4.766541004180908,7.889484882354736,25.86265754699707,9.6426362991333,5.7223615646362305,7.981023788452148,-5.152844429016113,-4.745225429534912,-15.076775550842285,-7.408915042877197,-18.728187561035156,-11.991814613342285,-5.128548622131348,8.066936492919922,7.9221367835998535,-4.7258501052856445,0.38024845719337463,0.380427747964859,-6.488929748535156,4.938511371612549,-4.688699245452881,4.985904216766357,25.808120727539062,0.5832189917564392,-4.681076526641846,-5.146913051605225,7.83906888961792,1.5733401775360107,-4.674039363861084,1.7731465101242065,-5.16757345199585,5.908141136169434,7.867902755737305,6.792950630187988,8.429069519042969,-4.481014728546143,-12.853616714477539,-6.208584308624268,4.593871116638184,-7.549376487731934,-4.174140453338623,-4.212024211883545,-7.931036472320557,3.0638604164123535,-12.577245712280273,9.513452529907227,-5.000606536865234,-4.106652736663818,1.6722583770751953,7.9799418449401855,7.881804466247559,-4.633902072906494,-5.126020908355713,8.49759578704834,3.8216631412506104,-6.295864105224609,17.808942794799805,-15.28770923614502,7.9455976486206055,-4.110421180725098,1.783311367034912,-0.6468157768249512,-7.410989761352539,26.442289352416992,7.978853702545166,-4.210494041442871,-4.331933975219727,6.696926116943359,-6.206982135772705,-11.99035930633545,-3.0851757526397705,0.1595127135515213,-18.76921844482422,6.803965091705322,0.4140041470527649,-5.519084930419922,6.7122578620910645,3.3506901264190674,7.8887176513671875,6.471974849700928,-6.355245113372803,-0.3624436557292938,1.7705923318862915,17.837289810180664,-5.091118335723877,7.739794731140137,-15.993841171264648,15.7296724319458,0.39205092191696167,8.064261436462402,1.8108001947402954,4.252976894378662,7.856207847595215,8.52005386352539,-5.0627360343933105,-15.072431564331055,-5.028076171875,4.5322699546813965,4.383490085601807,-2.2038137912750244,-5.506345272064209,0.3764785826206207,0.3801758587360382,-5.056347370147705,10.024678230285645,-18.7612247467041,-5.147608280181885,1.8170280456542969,9.855474472045898,7.998539447784424,1.3485980033874512,25.84480094909668,7.972257137298584,-1.003688931465149,-5.527730464935303,-9.957402229309082,-6.208477973937988,11.004137992858887,9.96334457397461,6.676295280456543,0.6033909916877747,3.223285675048828,7.907352447509766,7.236501693725586,7.1128082275390625,-5.011877536773682,7.1096367835998535,-7.549148082733154,6.93779182434082,1.3336355686187744,-7.457826614379883,7.893747806549072,-8.44250202178955,-2.756960153579712,8.172151565551758,6.937533855438232,8.492810249328613,7.121189594268799,7.888783931732178,26.418567657470703,-5.520115852355957,1.792587399482727,6.869200706481934,-3.3275487422943115,7.101496696472168,7.90717077255249,-18.776899337768555,7.893576145172119,6.464241027832031,6.960755348205566,-6.488930702209473,1.7576534748077393,7.891136169433594,18.578704833984375,6.666501045227051,-0.3622616231441498,1.7730273008346558,6.9380292892456055,4.96500301361084,-15.298735618591309,12.444747924804688,7.895848751068115,6.879263401031494,7.893633842468262,6.837901592254639,6.605456352233887,15.729681968688965,14.117932319641113,1.7280293703079224,1.6847771406173706,1.8590359687805176,-4.413455486297607,1.6769131422042847,-7.4109673500061035,1.699416995048523,6.7558488845825195,7.053462982177734,6.652576923370361,6.965631484985352,1.704149603843689,6.609231472015381,1.7614281177520752,-7.386194229125977,6.325454235076904,-16.02152442932129,1.8113116025924683,1.709973931312561,8.123022079467773,5.510898113250732,0.5846134424209595,-3.085078001022339,-15.082626342773438,-8.934393882751465,6.8225884437561035,6.84352970123291,26.458267211914062,7.0758376121521,-1.2484221458435059,6.9064717292785645,1.5730576515197754,-0.3695063591003418,-12.577369689941406,14.801825523376465,7.331845283508301,0.8031958341598511,6.780550003051758,-15.28685474395752,6.684170246124268,5.510876655578613,7.2189130783081055,11.76722240447998,6.911450386047363,7.071692943572998,4.995173931121826,6.544008731842041,7.159546375274658,8.11836051940918,1.6944973468780518,26.420787811279297,4.996480464935303,7.0671772956848145,6.89078426361084,6.565301418304443,7.038710594177246,7.2288498878479,7.046175479888916,6.767396926879883,7.774744033813477,7.036373615264893,4.1549506187438965,7.182824611663818,6.8019585609436035,7.201401233673096,6.9696946144104,-7.433956623077393,7.1240949630737305,-7.549057960510254,5.9083452224731445,6.820093154907227,6.7566752433776855,7.61054801940918,17.69369888305664,6.953332901000977,-8.443434715270996,6.879752159118652,7.034058570861816,6.897721767425537,7.176287651062012,-0.5689599514007568,7.166342735290527,15.72949504852295,6.846172332763672,-3.327620029449463,17.693593978881836,6.683920383453369,7.051584243774414,6.615146636962891,7.025843143463135,6.878002166748047,-15.293505668640137,-10.133408546447754,6.825169086456299,7.836859226226807,6.83280611038208,8.536016464233398,-10.415106773376465,5.3766984939575195,-8.217687606811523,-16.006484985351562,1.7853658199310303,-10.415132522583008,7.080560207366943,7.117509365081787,7.017066955566406,9.715750694274902,7.152011394500732,2.737736940383911,6.73043966293335,4.383410930633545,-12.85301399230957,6.9029412269592285,-12.688711166381836,-0.36954429745674133,5.372635841369629,7.017111778259277,-0.43302178382873535,6.923161029815674,-4.563320159912109,2.657559394836426,-12.81629753112793,5.722404479980469,1.7504255771636963,-18.778520584106445,-8.229945182800293,-8.442505836486816,4.802712440490723,7.063639163970947,6.9118452072143555,7.024322509765625,-0.5693002343177795,7.144956588745117,-4.754268169403076,0.38418424129486084,6.7862548828125,-7.315959453582764,1.8540306091308594,-8.442349433898926,-7.371528625488281,2.3794057369232178,-1.8835828304290771,25.834938049316406,-2.7576711177825928,2.3835301399230957,8.870469093322754,-15.965466499328613,7.258632183074951,3.2233877182006836,1.7472951412200928,6.552689552307129,10.731969833374023,20.221324920654297,5.722403049468994,4.154946804046631,-7.3280863761901855,7.146755695343018,1.8811521530151367,6.79116678237915,6.916031360626221,-17.952579498291016,5.936643600463867,25.841873168945312,7.374307632446289,-6.293612480163574,-12.577127456665039,1.8728046417236328,-7.359881401062012,6.891775608062744,-7.461447715759277,6.862970352172852,-2.6978766918182373,1.8147975206375122,6.8521647453308105,0.3886739909648895,6.833048343658447,5.5463786125183105,4.971398830413818,12.444601058959961,7.187212944030762,6.969183921813965,-11.990076065063477,6.775905132293701,3.1390016078948975,14.845443725585938,1.6450512409210205,6.714676380157471,10.025073051452637,12.444804191589355,5.082401275634766,-4.575675964355469,-0.4329696297645569,-7.37840461730957,5.722141265869141,-12.700143814086914,-12.658884048461914,-12.693201065063477,0.8514410853385925,-5.829800128936768,-7.350098609924316,7.6108574867248535,3.7626307010650635,-7.382627964019775,9.692806243896484,1.7080748081207275,-5.830482006072998,-12.863713264465332,-15.994773864746094,3.0626654624938965,2.7358946800231934,0.38819584250450134,-0.6443260908126831,-1.6029181480407715,-17.95257568359375,-18.76181983947754,4.416790962219238,6.5737457275390625,4.936704158782959,4.941139221191406,3.062710762023926,-4.565974712371826,-7.402410507202148,-7.34924840927124,8.56832218170166,4.322794437408447,8.007699966430664,2.7173547744750977,-7.357635498046875,-8.627612113952637,-12.873740196228027,4.909768104553223,8.1229829788208,-15.987865447998047,-2.6983449459075928,11.767187118530273,4.945679664611816,8.897947311401367,9.783318519592285,9.695934295654297,4.973598957061768,-7.930787086486816,-7.385584354400635,25.832988739013672,16.92812156677246,-6.324918746948242,-3.0851218700408936,-7.4419074058532715,-15.075843811035156,-7.338025093078613,3.063911199569702,-7.380041122436523,17.69356346130371,-2.570465564727783,8.19640827178955,7.3712263107299805,8.171558380126953,11.767202377319336,4.949350357055664,7.221777439117432,-7.454995632171631,4.9597601890563965,9.642616271972656,1.8540178537368774,-14.469667434692383,6.671448230743408,8.169812202453613,5.761188507080078,-0.36959221959114075,-18.760854721069336,-0.6443727612495422,5.017213821411133,-0.5693011283874512,1.9496746063232422,-15.052545547485352,6.552102565765381,1.4557416439056396,8.052577018737793,10.73299789428711,-14.469778060913086,8.154332160949707,4.916337966918945,-4.75427770614624,7.366133213043213,8.122626304626465,-10.41513442993164,7.610674858093262,1.9393054246902466,-1.8805906772613525,5.25443696975708,4.98369836807251,8.084722518920898,0.17827361822128296,16.92809295654297,8.218998908996582,-3.314906120300293,8.523621559143066,8.246073722839355,-1.8760325908660889,8.228056907653809,8.114033699035645,8.301426887512207,-0.37553972005844116,8.161391258239746,8.142163276672363,4.80263614654541,-12.85144329071045,2.0315678119659424,8.112955093383789,-1.003685712814331,10.61855411529541,14.801658630371094,-2.202383518218994,17.82692527770996,2.5334160327911377],\"type\":\"scattergl\"}],                        {\"height\":800,\"hovermode\":\"closest\",\"title\":{\"text\":\"Some Title =)\"},\"width\":800,\"xaxis\":{\"zeroline\":false},\"yaxis\":{\"zeroline\":false},\"template\":{\"data\":{\"histogram2dcontour\":[{\"type\":\"histogram2dcontour\",\"colorbar\":{\"outlinewidth\":0,\"ticks\":\"\"},\"colorscale\":[[0.0,\"#0d0887\"],[0.1111111111111111,\"#46039f\"],[0.2222222222222222,\"#7201a8\"],[0.3333333333333333,\"#9c179e\"],[0.4444444444444444,\"#bd3786\"],[0.5555555555555556,\"#d8576b\"],[0.6666666666666666,\"#ed7953\"],[0.7777777777777778,\"#fb9f3a\"],[0.8888888888888888,\"#fdca26\"],[1.0,\"#f0f921\"]]}],\"choropleth\":[{\"type\":\"choropleth\",\"colorbar\":{\"outlinewidth\":0,\"ticks\":\"\"}}],\"histogram2d\":[{\"type\":\"histogram2d\",\"colorbar\":{\"outlinewidth\":0,\"ticks\":\"\"},\"colorscale\":[[0.0,\"#0d0887\"],[0.1111111111111111,\"#46039f\"],[0.2222222222222222,\"#7201a8\"],[0.3333333333333333,\"#9c179e\"],[0.4444444444444444,\"#bd3786\"],[0.5555555555555556,\"#d8576b\"],[0.6666666666666666,\"#ed7953\"],[0.7777777777777778,\"#fb9f3a\"],[0.8888888888888888,\"#fdca26\"],[1.0,\"#f0f921\"]]}],\"heatmap\":[{\"type\":\"heatmap\",\"colorbar\":{\"outlinewidth\":0,\"ticks\":\"\"},\"colorscale\":[[0.0,\"#0d0887\"],[0.1111111111111111,\"#46039f\"],[0.2222222222222222,\"#7201a8\"],[0.3333333333333333,\"#9c179e\"],[0.4444444444444444,\"#bd3786\"],[0.5555555555555556,\"#d8576b\"],[0.6666666666666666,\"#ed7953\"],[0.7777777777777778,\"#fb9f3a\"],[0.8888888888888888,\"#fdca26\"],[1.0,\"#f0f921\"]]}],\"heatmapgl\":[{\"type\":\"heatmapgl\",\"colorbar\":{\"outlinewidth\":0,\"ticks\":\"\"},\"colorscale\":[[0.0,\"#0d0887\"],[0.1111111111111111,\"#46039f\"],[0.2222222222222222,\"#7201a8\"],[0.3333333333333333,\"#9c179e\"],[0.4444444444444444,\"#bd3786\"],[0.5555555555555556,\"#d8576b\"],[0.6666666666666666,\"#ed7953\"],[0.7777777777777778,\"#fb9f3a\"],[0.8888888888888888,\"#fdca26\"],[1.0,\"#f0f921\"]]}],\"contourcarpet\":[{\"type\":\"contourcarpet\",\"colorbar\":{\"outlinewidth\":0,\"ticks\":\"\"}}],\"contour\":[{\"type\":\"contour\",\"colorbar\":{\"outlinewidth\":0,\"ticks\":\"\"},\"colorscale\":[[0.0,\"#0d0887\"],[0.1111111111111111,\"#46039f\"],[0.2222222222222222,\"#7201a8\"],[0.3333333333333333,\"#9c179e\"],[0.4444444444444444,\"#bd3786\"],[0.5555555555555556,\"#d8576b\"],[0.6666666666666666,\"#ed7953\"],[0.7777777777777778,\"#fb9f3a\"],[0.8888888888888888,\"#fdca26\"],[1.0,\"#f0f921\"]]}],\"surface\":[{\"type\":\"surface\",\"colorbar\":{\"outlinewidth\":0,\"ticks\":\"\"},\"colorscale\":[[0.0,\"#0d0887\"],[0.1111111111111111,\"#46039f\"],[0.2222222222222222,\"#7201a8\"],[0.3333333333333333,\"#9c179e\"],[0.4444444444444444,\"#bd3786\"],[0.5555555555555556,\"#d8576b\"],[0.6666666666666666,\"#ed7953\"],[0.7777777777777778,\"#fb9f3a\"],[0.8888888888888888,\"#fdca26\"],[1.0,\"#f0f921\"]]}],\"mesh3d\":[{\"type\":\"mesh3d\",\"colorbar\":{\"outlinewidth\":0,\"ticks\":\"\"}}],\"scatter\":[{\"fillpattern\":{\"fillmode\":\"overlay\",\"size\":10,\"solidity\":0.2},\"type\":\"scatter\"}],\"parcoords\":[{\"type\":\"parcoords\",\"line\":{\"colorbar\":{\"outlinewidth\":0,\"ticks\":\"\"}}}],\"scatterpolargl\":[{\"type\":\"scatterpolargl\",\"marker\":{\"colorbar\":{\"outlinewidth\":0,\"ticks\":\"\"}}}],\"bar\":[{\"error_x\":{\"color\":\"#2a3f5f\"},\"error_y\":{\"color\":\"#2a3f5f\"},\"marker\":{\"line\":{\"color\":\"#E5ECF6\",\"width\":0.5},\"pattern\":{\"fillmode\":\"overlay\",\"size\":10,\"solidity\":0.2}},\"type\":\"bar\"}],\"scattergeo\":[{\"type\":\"scattergeo\",\"marker\":{\"colorbar\":{\"outlinewidth\":0,\"ticks\":\"\"}}}],\"scatterpolar\":[{\"type\":\"scatterpolar\",\"marker\":{\"colorbar\":{\"outlinewidth\":0,\"ticks\":\"\"}}}],\"histogram\":[{\"marker\":{\"pattern\":{\"fillmode\":\"overlay\",\"size\":10,\"solidity\":0.2}},\"type\":\"histogram\"}],\"scattergl\":[{\"type\":\"scattergl\",\"marker\":{\"colorbar\":{\"outlinewidth\":0,\"ticks\":\"\"}}}],\"scatter3d\":[{\"type\":\"scatter3d\",\"line\":{\"colorbar\":{\"outlinewidth\":0,\"ticks\":\"\"}},\"marker\":{\"colorbar\":{\"outlinewidth\":0,\"ticks\":\"\"}}}],\"scattermapbox\":[{\"type\":\"scattermapbox\",\"marker\":{\"colorbar\":{\"outlinewidth\":0,\"ticks\":\"\"}}}],\"scatterternary\":[{\"type\":\"scatterternary\",\"marker\":{\"colorbar\":{\"outlinewidth\":0,\"ticks\":\"\"}}}],\"scattercarpet\":[{\"type\":\"scattercarpet\",\"marker\":{\"colorbar\":{\"outlinewidth\":0,\"ticks\":\"\"}}}],\"carpet\":[{\"aaxis\":{\"endlinecolor\":\"#2a3f5f\",\"gridcolor\":\"white\",\"linecolor\":\"white\",\"minorgridcolor\":\"white\",\"startlinecolor\":\"#2a3f5f\"},\"baxis\":{\"endlinecolor\":\"#2a3f5f\",\"gridcolor\":\"white\",\"linecolor\":\"white\",\"minorgridcolor\":\"white\",\"startlinecolor\":\"#2a3f5f\"},\"type\":\"carpet\"}],\"table\":[{\"cells\":{\"fill\":{\"color\":\"#EBF0F8\"},\"line\":{\"color\":\"white\"}},\"header\":{\"fill\":{\"color\":\"#C8D4E3\"},\"line\":{\"color\":\"white\"}},\"type\":\"table\"}],\"barpolar\":[{\"marker\":{\"line\":{\"color\":\"#E5ECF6\",\"width\":0.5},\"pattern\":{\"fillmode\":\"overlay\",\"size\":10,\"solidity\":0.2}},\"type\":\"barpolar\"}],\"pie\":[{\"automargin\":true,\"type\":\"pie\"}]},\"layout\":{\"autotypenumbers\":\"strict\",\"colorway\":[\"#636efa\",\"#EF553B\",\"#00cc96\",\"#ab63fa\",\"#FFA15A\",\"#19d3f3\",\"#FF6692\",\"#B6E880\",\"#FF97FF\",\"#FECB52\"],\"font\":{\"color\":\"#2a3f5f\"},\"hovermode\":\"closest\",\"hoverlabel\":{\"align\":\"left\"},\"paper_bgcolor\":\"white\",\"plot_bgcolor\":\"#E5ECF6\",\"polar\":{\"bgcolor\":\"#E5ECF6\",\"angularaxis\":{\"gridcolor\":\"white\",\"linecolor\":\"white\",\"ticks\":\"\"},\"radialaxis\":{\"gridcolor\":\"white\",\"linecolor\":\"white\",\"ticks\":\"\"}},\"ternary\":{\"bgcolor\":\"#E5ECF6\",\"aaxis\":{\"gridcolor\":\"white\",\"linecolor\":\"white\",\"ticks\":\"\"},\"baxis\":{\"gridcolor\":\"white\",\"linecolor\":\"white\",\"ticks\":\"\"},\"caxis\":{\"gridcolor\":\"white\",\"linecolor\":\"white\",\"ticks\":\"\"}},\"coloraxis\":{\"colorbar\":{\"outlinewidth\":0,\"ticks\":\"\"}},\"colorscale\":{\"sequential\":[[0.0,\"#0d0887\"],[0.1111111111111111,\"#46039f\"],[0.2222222222222222,\"#7201a8\"],[0.3333333333333333,\"#9c179e\"],[0.4444444444444444,\"#bd3786\"],[0.5555555555555556,\"#d8576b\"],[0.6666666666666666,\"#ed7953\"],[0.7777777777777778,\"#fb9f3a\"],[0.8888888888888888,\"#fdca26\"],[1.0,\"#f0f921\"]],\"sequentialminus\":[[0.0,\"#0d0887\"],[0.1111111111111111,\"#46039f\"],[0.2222222222222222,\"#7201a8\"],[0.3333333333333333,\"#9c179e\"],[0.4444444444444444,\"#bd3786\"],[0.5555555555555556,\"#d8576b\"],[0.6666666666666666,\"#ed7953\"],[0.7777777777777778,\"#fb9f3a\"],[0.8888888888888888,\"#fdca26\"],[1.0,\"#f0f921\"]],\"diverging\":[[0,\"#8e0152\"],[0.1,\"#c51b7d\"],[0.2,\"#de77ae\"],[0.3,\"#f1b6da\"],[0.4,\"#fde0ef\"],[0.5,\"#f7f7f7\"],[0.6,\"#e6f5d0\"],[0.7,\"#b8e186\"],[0.8,\"#7fbc41\"],[0.9,\"#4d9221\"],[1,\"#276419\"]]},\"xaxis\":{\"gridcolor\":\"white\",\"linecolor\":\"white\",\"ticks\":\"\",\"title\":{\"standoff\":15},\"zerolinecolor\":\"white\",\"automargin\":true,\"zerolinewidth\":2},\"yaxis\":{\"gridcolor\":\"white\",\"linecolor\":\"white\",\"ticks\":\"\",\"title\":{\"standoff\":15},\"zerolinecolor\":\"white\",\"automargin\":true,\"zerolinewidth\":2},\"scene\":{\"xaxis\":{\"backgroundcolor\":\"#E5ECF6\",\"gridcolor\":\"white\",\"linecolor\":\"white\",\"showbackground\":true,\"ticks\":\"\",\"zerolinecolor\":\"white\",\"gridwidth\":2},\"yaxis\":{\"backgroundcolor\":\"#E5ECF6\",\"gridcolor\":\"white\",\"linecolor\":\"white\",\"showbackground\":true,\"ticks\":\"\",\"zerolinecolor\":\"white\",\"gridwidth\":2},\"zaxis\":{\"backgroundcolor\":\"#E5ECF6\",\"gridcolor\":\"white\",\"linecolor\":\"white\",\"showbackground\":true,\"ticks\":\"\",\"zerolinecolor\":\"white\",\"gridwidth\":2}},\"shapedefaults\":{\"line\":{\"color\":\"#2a3f5f\"}},\"annotationdefaults\":{\"arrowcolor\":\"#2a3f5f\",\"arrowhead\":0,\"arrowwidth\":1},\"geo\":{\"bgcolor\":\"white\",\"landcolor\":\"#E5ECF6\",\"subunitcolor\":\"white\",\"showland\":true,\"showlakes\":true,\"lakecolor\":\"white\"},\"title\":{\"x\":0.05},\"mapbox\":{\"style\":\"light\"}}}},                        {\"responsive\": true}                    ).then(function(){\n",
              "                            \n",
              "var gd = document.getElementById('1df1db6f-4125-469f-9e16-77c46ec6fbdd');\n",
              "var x = new MutationObserver(function (mutations, observer) {{\n",
              "        var display = window.getComputedStyle(gd).display;\n",
              "        if (!display || display === 'none') {{\n",
              "            console.log([gd, 'removed!']);\n",
              "            Plotly.purge(gd);\n",
              "            observer.disconnect();\n",
              "        }}\n",
              "}});\n",
              "\n",
              "// Listen for the removal of the full notebook cells\n",
              "var notebookContainer = gd.closest('#notebook-container');\n",
              "if (notebookContainer) {{\n",
              "    x.observe(notebookContainer, {childList: true});\n",
              "}}\n",
              "\n",
              "// Listen for the clearing of the current output cell\n",
              "var outputEl = gd.closest('.output');\n",
              "if (outputEl) {{\n",
              "    x.observe(outputEl, {childList: true});\n",
              "}}\n",
              "\n",
              "                        })                };                            </script>        </div>\n",
              "</body>\n",
              "</html>"
            ]
          },
          "metadata": {},
          "output_type": "display_data"
        }
      ],
      "source": [
        "plot_tsne_embeddings(X_reduced, annotations)"
      ]
    },
    {
      "cell_type": "markdown",
      "metadata": {
        "id": "-Me-HGWAHuSZ"
      },
      "source": [
        "## Word2Vec"
      ]
    },
    {
      "cell_type": "code",
      "execution_count": null,
      "metadata": {
        "colab": {
          "base_uri": "https://localhost:8080/"
        },
        "id": "y3lgzaIYHxKO",
        "outputId": "727055b9-fe78-4294-d8c3-a1b4e1d57e08"
      },
      "outputs": [
        {
          "name": "stderr",
          "output_type": "stream",
          "text": [
            "100%|██████████| 12500/12500 [01:41<00:00, 123.66it/s]\n"
          ]
        }
      ],
      "source": [
        "import gensim\n",
        "from gensim.models import Word2Vec,KeyedVectors\n",
        "\n",
        "\n",
        "processed_texts = lemmatize(review_df.review.values, with_stop_words=True,with_concat=False)"
      ]
    },
    {
      "cell_type": "code",
      "execution_count": null,
      "metadata": {
        "id": "xf5Czz6VRwfQ"
      },
      "outputs": [],
      "source": [
        "vector_size = 512\n",
        "word2vec = gensim.models.Word2Vec(\n",
        "    processed_texts,\n",
        "    vector_size=vector_size, epochs = 1\n",
        ")"
      ]
    },
    {
      "cell_type": "code",
      "execution_count": null,
      "metadata": {
        "colab": {
          "base_uri": "https://localhost:8080/"
        },
        "id": "pKPua9ktIpco",
        "outputId": "db9cb345-b03b-42fc-f0e4-c5b098bc6d8e"
      },
      "outputs": [
        {
          "data": {
            "text/plain": [
              "[('девочка', 0.5959749221801758),\n",
              " ('девушка', 0.5782814621925354),\n",
              " ('независимая', 0.5432456731796265),\n",
              " ('девчонка', 0.5354838371276855),\n",
              " ('бесстрашная', 0.5080028772354126),\n",
              " ('умная', 0.4997139573097229),\n",
              " ('взбалмошная', 0.4942726790904999),\n",
              " ('особа', 0.4908306300640106),\n",
              " ('барышня', 0.4907078742980957),\n",
              " ('воспитанная', 0.4879399836063385)]"
            ]
          },
          "execution_count": 230,
          "metadata": {},
          "output_type": "execute_result"
        }
      ],
      "source": [
        "word2vec.wv.most_similar('женщина')"
      ]
    },
    {
      "cell_type": "code",
      "execution_count": null,
      "metadata": {
        "id": "5U9dYiVwSBoW"
      },
      "outputs": [],
      "source": [
        "# import gensim.downloader\n",
        "# pretraind_w2v = gensim.downloader.load('word2vec-ruscorpora-300')\n",
        "# pretraind_w2v.most_similar('женщина_NOUN')"
      ]
    },
    {
      "cell_type": "markdown",
      "metadata": {
        "id": "f2yE2tyoiayH"
      },
      "source": [
        "## RNN"
      ]
    },
    {
      "cell_type": "code",
      "execution_count": null,
      "metadata": {
        "id": "SAqj5Ipv80xM"
      },
      "outputs": [],
      "source": [
        "from torch import nn"
      ]
    },
    {
      "cell_type": "code",
      "execution_count": null,
      "metadata": {
        "id": "qZr2tIRrbd_r"
      },
      "outputs": [],
      "source": [
        "device = torch.device('cuda' if torch.cuda.is_available() else 'cpu')"
      ]
    },
    {
      "cell_type": "code",
      "execution_count": null,
      "metadata": {
        "id": "_hamTS0bd3st"
      },
      "outputs": [],
      "source": [
        "class RNN(nn.Module):\n",
        "    def __init__(self, input_size, hidden_size, num_layers, out_size):\n",
        "        super(RNN, self).__init__()\n",
        "        self.num_layers = num_layers\n",
        "        self.hidden_size = hidden_size\n",
        "        self.rnn = nn.RNN(input_size, hidden_size, num_layers, batch_first=True)\n",
        "        # -> x needs to be: (batch_size, seq, input_size)\n",
        "\n",
        "        # or:\n",
        "        #self.gru = nn.GRU(input_size, hidden_size, num_layers, batch_first=True)\n",
        "        #self.lstm = nn.LSTM(input_size, hidden_size, num_layers, batch_first=True)\n",
        "\n",
        "        self.out_size = out_size\n",
        "        self.fc = nn.Linear(hidden_size, out_size)\n",
        "\n",
        "    def forward(self, x):\n",
        "        # Set initial hidden states (and cell states for LSTM)\n",
        "        h0 = torch.zeros(self.num_layers, x.size(0), self.hidden_size).to(device)\n",
        "        #c0 = torch.zeros(self.num_layers, x.size(0), self.hidden_size).to(device)\n",
        "\n",
        "        # x: (n, 28, 28), h0: (2, n, 128)\n",
        "\n",
        "        # Forward propagate RNN\n",
        "        out, _ = self.rnn(x, h0)\n",
        "        # or:\n",
        "        #out, _ = self.lstm(x, (h0,c0))\n",
        "\n",
        "        # out: tensor of shape (batch_size, seq_length, hidden_size)\n",
        "        # out: (n, 28, 128)\n",
        "\n",
        "        # Decode the hidden state of the last time step\n",
        "        out = out[:, -1, :]\n",
        "        # out: (n, 128)\n",
        "\n",
        "        out = self.fc(out)\n",
        "        # out: (n, 10)\n",
        "        return out"
      ]
    },
    {
      "cell_type": "markdown",
      "metadata": {
        "id": "oQizcuEr4zhe"
      },
      "source": [
        "### Учим предложение"
      ]
    },
    {
      "cell_type": "code",
      "execution_count": null,
      "metadata": {
        "id": "8EZhbYTCl4wO"
      },
      "outputs": [],
      "source": [
        "model = RNN(input_size = 128, hidden_size = 128, num_layers = 1, out_size = 128).to(device)"
      ]
    },
    {
      "cell_type": "code",
      "execution_count": null,
      "metadata": {
        "colab": {
          "base_uri": "https://localhost:8080/",
          "height": 53
        },
        "id": "8Nid7O0s44pe",
        "outputId": "11acf0ae-9d94-4ba6-b5e9-009bd03348af"
      },
      "outputs": [
        {
          "name": "stderr",
          "output_type": "stream",
          "text": [
            "100%|██████████| 1/1 [00:00<00:00, 5841.65it/s]\n"
          ]
        },
        {
          "data": {
            "application/vnd.google.colaboratory.intrinsic+json": {
              "type": "string"
            },
            "text/plain": [
              "'постельные'"
            ]
          },
          "execution_count": 49,
          "metadata": {},
          "output_type": "execute_result"
        }
      ],
      "source": [
        "sentence = 'женщина гуляла по мосту'\n",
        "tokens = lemmatize([sentence], token_pattern = TOKEN_PATTERN, with_stop_words=True, with_concat=False)[0]\n",
        "vectors = [torch.tensor(word2vec.wv.get_vector(word)) for word in tokens if word2vec.wv.has_index_for(word) ]\n",
        "vectors = torch.stack(vectors).to(device)\n",
        "\n",
        "model = RNN(input_size = 128, hidden_size = 128, num_layers = 1, out_size = 128).to(device)\n",
        "criterion = nn.MSELoss()\n",
        "optimizer = torch.optim.Adam(model.parameters())\n",
        "vectors.unsqueeze_(0)\n",
        "answer = model(vectors)[0].detach()\n",
        "word2vec.wv.index_to_key[np.argmin(word2vec.wv.distances(answer))]"
      ]
    },
    {
      "cell_type": "code",
      "execution_count": null,
      "metadata": {
        "id": "EpTSdU3-nABw"
      },
      "outputs": [],
      "source": [
        "criterion = nn.MSELoss()\n",
        "optimizer = torch.optim.Adam(model.parameters())"
      ]
    },
    {
      "cell_type": "code",
      "execution_count": null,
      "metadata": {
        "id": "1PbkA34aBRs1"
      },
      "outputs": [],
      "source": [
        "from torch import nn\n",
        "\n",
        "class TripletLoss(nn.Module):\n",
        "    def __init__(self, margin=1.0):\n",
        "        super(TripletLoss, self).__init__()\n",
        "        self.margin = margin\n",
        "\n",
        "    def forward(self, anchor, positive, negative):\n",
        "        # вычисляем расстояния между anchor и positive\n",
        "        pos_dist = torch.sum((anchor - positive) ** 2, dim=1)\n",
        "        # вычисляем расстояния между anchor и negative\n",
        "        neg_dist = torch.sum((anchor - negative) ** 2, dim=1)\n",
        "        # вычисляем разницу между расстояниями и добавляем margin\n",
        "        loss = torch.clamp(pos_dist - neg_dist + self.margin, min=0.0)\n",
        "        # усредняем по батчу\n",
        "        loss = torch.mean(loss)\n",
        "        return loss"
      ]
    },
    {
      "cell_type": "code",
      "execution_count": null,
      "metadata": {
        "id": "5gzYDqahBbjA"
      },
      "outputs": [],
      "source": [
        "criterion = TripletLoss()\n",
        "optimizer = torch.optim.Adam(model.parameters(), lr=0.0001)"
      ]
    },
    {
      "cell_type": "code",
      "execution_count": null,
      "metadata": {
        "id": "MYC0Hz1rD9Wk"
      },
      "outputs": [],
      "source": [
        "import os\n",
        "import pandas as pd\n",
        "from torchvision.io import read_image\n",
        "\n",
        "class MovieDataset(torch.utils.data.Dataset):\n",
        "    def __init__(self, dataframe):\n",
        "        self.df = dataframe\n",
        "\n",
        "    def __len__(self):\n",
        "        return self.df.size\n",
        "\n",
        "    def __getitem__(self, idx):\n",
        "        item = review_sent_df.iloc[0]\n",
        "\n",
        "        return item.sentences, item.movieId\n",
        "\n",
        "dataset = MovieDataset(review_sent_df)"
      ]
    },
    {
      "cell_type": "code",
      "execution_count": null,
      "metadata": {
        "id": "1bm3QiECG-F9"
      },
      "outputs": [],
      "source": [
        "import random\n",
        "\n",
        "def collate_fn(batch):\n",
        "    batch_size = len(batch)\n",
        "    new_imgs = torch.zeros(3*batch_size, *batch[0]['image'].shape)\n",
        "    new_labels = torch.zeros(3*batch_size, *batch[0]['label'].shape)\n",
        "    for i in range(batch_size):\n",
        "        #anchor\n",
        "        label = batch[i]['label'].item()\n",
        "        new_imgs[3*i,...] = batch[i]['image']\n",
        "        new_labels[3*i,...] = batch[i]['label']\n",
        "\n",
        "        #positive\n",
        "        positive_indicies = class_indicies[label]\n",
        "        choice = random.choice(positive_indicies)\n",
        "        new_imgs[1+3*i,...] = train_dataset[choice]['image']\n",
        "        new_labels[1+3*i,...] = torch.tensor([choice])\n",
        "\n",
        "        #negative\n",
        "        negative_indicies = class_indicies[:label] + class_indicies[label+1:]\n",
        "        choice = random.choice(random.choice(negative_indicies))\n",
        "        new_imgs[2+3*i,...] = train_dataset[choice]['image']\n",
        "        new_labels[2+3*i,...] = torch.tensor([choice])\n",
        "\n",
        "    return { \"image\" : new_imgs.to(device), \"label\" : new_labels.to(device)}"
      ]
    },
    {
      "cell_type": "code",
      "execution_count": null,
      "metadata": {
        "id": "UxqPz-6oFMV3"
      },
      "outputs": [],
      "source": [
        "from torch.utils.data import DataLoader\n",
        "\n",
        "train_dataloader = DataLoader(dataset, batch_size=64, collate_fn=collate_fn, shuffle=True)"
      ]
    },
    {
      "cell_type": "code",
      "execution_count": null,
      "metadata": {
        "id": "B81_Cl3FB8jt"
      },
      "outputs": [],
      "source": [
        "num_epochs = 1\n",
        "model.train()\n",
        "for epoch in range(num_epochs):\n",
        "    for sentences, movieIds in train_dataloader:\n",
        "        tokens = lemmatize(sentences, token_pattern = TOKEN_PATTERN, with_stop_words=True, with_concat=False)\n",
        "        vectors = torch.stack([torch.stack([torch.tensor(word2vec.wv.get_vector(word)) for word in sentence if word2vec.wv.has_index_for(word)]) for sentence in sentences]).to(device)\n",
        "\n",
        "        # разделение на anchor, positive и negative\n",
        "        anchor = embeddings[::3]\n",
        "        positive = embeddings[1::3]\n",
        "        negative = embeddings[2::3]\n",
        "        # вычисление loss и обновление параметров\n",
        "        loss = criterion(anchor, positive, negative)\n",
        "        optimizer.zero_grad()\n",
        "        loss.backward()\n",
        "        optimizer.step()\n",
        "        print(loss.item())\n",
        "\n",
        "    print('Epoch: {}, Loss: {}'.format(epoch+1, loss.item()))"
      ]
    },
    {
      "cell_type": "code",
      "execution_count": null,
      "metadata": {
        "colab": {
          "base_uri": "https://localhost:8080/"
        },
        "id": "7ZMer9kQuaF8",
        "outputId": "8b937a37-a6ec-488c-cd98-086b6b9b1f98"
      },
      "outputs": [
        {
          "name": "stdout",
          "output_type": "stream",
          "text": [
            "Collecting code-tokenize\n",
            "  Downloading code_tokenize-0.2.0.tar.gz (12 kB)\n",
            "  Preparing metadata (setup.py) ... \u001b[?25l\u001b[?25hdone\n",
            "Collecting tree_sitter (from code-tokenize)\n",
            "  Downloading tree_sitter-0.20.4-cp310-cp310-manylinux_2_17_x86_64.manylinux2014_x86_64.whl (488 kB)\n",
            "\u001b[2K     \u001b[90m━━━━━━━━━━━━━━━━━━━━━━━━━━━━━━━━━━━━━━━━\u001b[0m \u001b[32m488.2/488.2 kB\u001b[0m \u001b[31m4.3 MB/s\u001b[0m eta \u001b[36m0:00:00\u001b[0m\n",
            "\u001b[?25hCollecting GitPython (from code-tokenize)\n",
            "  Downloading GitPython-3.1.40-py3-none-any.whl (190 kB)\n",
            "\u001b[2K     \u001b[90m━━━━━━━━━━━━━━━━━━━━━━━━━━━━━━━━━━━━━━━━\u001b[0m \u001b[32m190.6/190.6 kB\u001b[0m \u001b[31m4.9 MB/s\u001b[0m eta \u001b[36m0:00:00\u001b[0m\n",
            "\u001b[?25hRequirement already satisfied: requests in /usr/local/lib/python3.10/dist-packages (from code-tokenize) (2.31.0)\n",
            "Collecting code-ast (from code-tokenize)\n",
            "  Downloading code_ast-0.1.0.tar.gz (12 kB)\n",
            "  Preparing metadata (setup.py) ... \u001b[?25l\u001b[?25hdone\n",
            "Collecting gitdb<5,>=4.0.1 (from GitPython->code-tokenize)\n",
            "  Downloading gitdb-4.0.11-py3-none-any.whl (62 kB)\n",
            "\u001b[2K     \u001b[90m━━━━━━━━━━━━━━━━━━━━━━━━━━━━━━━━━━━━━━━━\u001b[0m \u001b[32m62.7/62.7 kB\u001b[0m \u001b[31m5.7 MB/s\u001b[0m eta \u001b[36m0:00:00\u001b[0m\n",
            "\u001b[?25hRequirement already satisfied: charset-normalizer<4,>=2 in /usr/local/lib/python3.10/dist-packages (from requests->code-tokenize) (3.3.2)\n",
            "Requirement already satisfied: idna<4,>=2.5 in /usr/local/lib/python3.10/dist-packages (from requests->code-tokenize) (3.4)\n",
            "Requirement already satisfied: urllib3<3,>=1.21.1 in /usr/local/lib/python3.10/dist-packages (from requests->code-tokenize) (2.0.7)\n",
            "Requirement already satisfied: certifi>=2017.4.17 in /usr/local/lib/python3.10/dist-packages (from requests->code-tokenize) (2023.7.22)\n",
            "Collecting smmap<6,>=3.0.1 (from gitdb<5,>=4.0.1->GitPython->code-tokenize)\n",
            "  Downloading smmap-5.0.1-py3-none-any.whl (24 kB)\n",
            "Building wheels for collected packages: code-tokenize, code-ast\n",
            "  Building wheel for code-tokenize (setup.py) ... \u001b[?25l\u001b[?25hdone\n",
            "  Created wheel for code-tokenize: filename=code_tokenize-0.2.0-py3-none-any.whl size=13863 sha256=31d61cd181a0d75fa45deea714e3f1f191d7d8b29af3873f5b85ed09cc6a8b84\n",
            "  Stored in directory: /root/.cache/pip/wheels/8b/20/d2/c85b7294f3aa192ade2924a7e2c94c6b0f45c806c181644b64\n",
            "  Building wheel for code-ast (setup.py) ... \u001b[?25l\u001b[?25hdone\n",
            "  Created wheel for code-ast: filename=code_ast-0.1.0-py3-none-any.whl size=11827 sha256=fe8f4e7557ecf0f2dca5caf47763145672f5221c4c988cd88c1d1a1385226534\n",
            "  Stored in directory: /root/.cache/pip/wheels/39/6c/09/e08b77926bdbe612cc11e7d460f2d35aa646d5fbdf94f85933\n",
            "Successfully built code-tokenize code-ast\n",
            "Installing collected packages: tree_sitter, smmap, gitdb, GitPython, code-ast, code-tokenize\n",
            "Successfully installed GitPython-3.1.40 code-ast-0.1.0 code-tokenize-0.2.0 gitdb-4.0.11 smmap-5.0.1 tree_sitter-0.20.4\n"
          ]
        }
      ],
      "source": [
        "!pip install code-tokenize"
      ]
    },
    {
      "cell_type": "code",
      "execution_count": null,
      "metadata": {
        "id": "w1_s0Gp1p9-C"
      },
      "outputs": [],
      "source": [
        "text = \"\"\"\n",
        "#include \"Application.hpp\"\n",
        "#include \"ICalculator.hpp\"\n",
        "\n",
        "#include <iostream>\n",
        "\n",
        "namespace Nummy {\n",
        "\n",
        "    auto Application::run(int argc, char** argv, std::ostream& out = std::cout) -> void {\n",
        "        auto calculator = m_calculatorInitializer.makeCalculator(argc, argv, out);\n",
        "        if (calculator) {\n",
        "            calculator->run();\n",
        "        }\n",
        "    }\n",
        "\n",
        "}  // namespace Nummy\n",
        "\"\"\"\n",
        "\n",
        "import code_tokenize as ctok\n",
        "\n",
        "# Python\n",
        "tokens = ctok.tokenize(\n",
        "    text,\n",
        "lang = \"cpp\")"
      ]
    },
    {
      "cell_type": "code",
      "execution_count": null,
      "metadata": {
        "colab": {
          "base_uri": "https://localhost:8080/"
        },
        "id": "Or4He5cHut82",
        "outputId": "ff78eed8-11b9-4228-e56d-559dc22514f5"
      },
      "outputs": [
        {
          "name": "stdout",
          "output_type": "stream",
          "text": [
            "#include\"Application.hpp\"#include\"ICalculator.hpp\"#include<iostream>namespaceNummy{autoApplication::run(intargc,char**argv,std::ostream&out=std::cout)->void{autocalculator=m_calculatorInitializer.makeCalculator(argc,argv,out);if(calculator){calculator->run();}}}// namespace Nummy\n"
          ]
        }
      ],
      "source": [
        "print(\"\".join([str(token) for token in tokens]))"
      ]
    },
    {
      "cell_type": "code",
      "execution_count": null,
      "metadata": {
        "colab": {
          "base_uri": "https://localhost:8080/"
        },
        "id": "4XmHGuyAncF6",
        "outputId": "778f4991-c771-4715-f366-c042ca976791"
      },
      "outputs": [
        {
          "name": "stdout",
          "output_type": "stream",
          "text": [
            "\n",
            "includeapplication.hpp\n",
            "includeicalculator.hpp\n",
            "\n",
            "include<iostream>namespacenummy{autoapplication::run(intargc,char**argv,std::ostreamoutstd::cout)->void{autocalculatorm_calculatorinitializer.makecalculator(argc,argv,out);if(calculator){calculator->run();\n",
            "}\n",
            "}\n",
            "\n",
            "}//namespacenummy\n"
          ]
        }
      ],
      "source": [
        "tokens = tokenize(text, pattern = r\"\\s*([A-Za-z_]\\w*)\\s*|(::)|([<>{}\\[\\];(),./*%+-])|\\n\")\n",
        "tokens = [max(token) for token in tokens]\n",
        "tokens = [token if token!=\"\" else \"\\n\" for token in tokens]\n",
        "s = \"\".join(tokens)\n",
        "print(s)"
      ]
    },
    {
      "cell_type": "code",
      "execution_count": null,
      "metadata": {
        "colab": {
          "base_uri": "https://localhost:8080/"
        },
        "id": "rbo1YIQ8oIzw",
        "outputId": "37494a81-dd43-4f2c-95c6-a490d0285cb9"
      },
      "outputs": [
        {
          "data": {
            "text/plain": [
              "['hello', 'world']"
            ]
          },
          "execution_count": 290,
          "metadata": {},
          "output_type": "execute_result"
        }
      ],
      "source": [
        "tokenize(\"hello world\", pattern = TOKEN_PATTERN)"
      ]
    },
    {
      "cell_type": "code",
      "execution_count": null,
      "metadata": {
        "colab": {
          "base_uri": "https://localhost:8080/"
        },
        "id": "5mcHwTmcpkp_",
        "outputId": "b44f77dd-0620-4f2d-c7a4-f7b3fa537f86"
      },
      "outputs": [
        {
          "name": "stdout",
          "output_type": "stream",
          "text": [
            "\n",
            "\n",
            "\n",
            "\n",
            "\n",
            "\n",
            "\n",
            "\n",
            "\n",
            "\n",
            "\n",
            "\n",
            "\n",
            "\n",
            "\n",
            "\n",
            "\n",
            "\n",
            "\n",
            "\n",
            "\n",
            "\n",
            "\n",
            "\n",
            "\n",
            "\n",
            "\n",
            "\n",
            "\n",
            "\n",
            "\n",
            "\n",
            "\n",
            "\n",
            "\n",
            "\n",
            "\n",
            "\n",
            "\n",
            "\n",
            "\n",
            "\n",
            "\n",
            "\n",
            "\n",
            "\n",
            "\n",
            "\n",
            "\n",
            "\n",
            "\n",
            "\n",
            "\n",
            "\n",
            "\n",
            "\n",
            "\n",
            "\n",
            "\n",
            "\n",
            "\n",
            "\n",
            "\n",
            "\n",
            "\n",
            "\n",
            "\n",
            "\n",
            "\n",
            "\n",
            "\n",
            "\n",
            "\n",
            "\n",
            "\n",
            "\n",
            "\n",
            "\n",
            "\n",
            "\n",
            "\n"
          ]
        }
      ],
      "source": []
    },
    {
      "cell_type": "code",
      "execution_count": null,
      "metadata": {
        "id": "997MTjR5trv_"
      },
      "outputs": [],
      "source": []
    }
  ],
  "metadata": {
    "colab": {
      "collapsed_sections": [
        "2oQHKWCQ91t1",
        "BN7qRIVb4fnm",
        "H6lPHpphekJd",
        "LjPYqXz5BCLm",
        "xz9Y93qk-Yma",
        "xfPfLQDu_F1Y",
        "GlikMGvH_qbH",
        "PuGQkoS9ZYaY",
        "VGw_14k548bJ",
        "6UAUf185L_4_",
        "_fM3GTm3Fo7z",
        "oQizcuEr4zhe"
      ],
      "provenance": []
    },
    "kernelspec": {
      "display_name": "Python 3",
      "name": "python3"
    },
    "language_info": {
      "name": "python"
    }
  },
  "nbformat": 4,
  "nbformat_minor": 0
}
