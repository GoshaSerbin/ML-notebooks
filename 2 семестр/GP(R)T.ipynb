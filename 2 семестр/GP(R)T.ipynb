{
  "nbformat": 4,
  "nbformat_minor": 0,
  "metadata": {
    "colab": {
      "provenance": [],
      "collapsed_sections": [
        "-H_OcO8HRt_t",
        "SXJRFQejXEX_"
      ]
    },
    "kernelspec": {
      "name": "python3",
      "display_name": "Python 3"
    },
    "language_info": {
      "name": "python"
    }
  },
  "cells": [
    {
      "cell_type": "markdown",
      "source": [
        "# Import"
      ],
      "metadata": {
        "id": "oLIHfiPkQWvi"
      }
    },
    {
      "cell_type": "code",
      "source": [
        "# Hugging Face tokenizers\n",
        "from tokenizers import Tokenizer, decoders\n",
        "from tokenizers.models import BPE, WordPiece\n",
        "from tokenizers.pre_tokenizers import Whitespace\n",
        "from tokenizers.normalizers import Lowercase\n",
        "from tokenizers.trainers import BpeTrainer, WordPieceTrainer\n",
        "from tokenizers.processors import TemplateProcessing\n",
        "\n",
        "# Word2vec\n",
        "import gensim\n",
        "from gensim.models import Word2Vec,KeyedVectors\n",
        "\n",
        "# torch\n",
        "import torch\n",
        "from torch import nn\n",
        "from torch.utils.data import DataLoader\n",
        "\n",
        "import numpy as np\n",
        "from matplotlib import pyplot as plt\n",
        "\n",
        "import tqdm\n",
        "\n",
        "device = torch.device('cuda' if torch.cuda.is_available() else 'cpu')"
      ],
      "metadata": {
        "id": "tIy015KDQaZh"
      },
      "execution_count": null,
      "outputs": []
    },
    {
      "cell_type": "markdown",
      "source": [
        "# RT"
      ],
      "metadata": {
        "id": "-H_OcO8HRt_t"
      }
    },
    {
      "cell_type": "code",
      "source": [
        "!gdown --fuzzy https://drive.google.com/file/d/1aW87J-D_gR8fMCWpBNZn-hxcQJYyIJp7/view?usp=sharing"
      ],
      "metadata": {
        "colab": {
          "base_uri": "https://localhost:8080/"
        },
        "id": "YmRY-23rPcY3",
        "outputId": "c439916b-fc11-4bcf-8d9a-1f5ce87f971f"
      },
      "execution_count": null,
      "outputs": [
        {
          "output_type": "stream",
          "name": "stdout",
          "text": [
            "Downloading...\n",
            "From: https://drive.google.com/uc?id=1aW87J-D_gR8fMCWpBNZn-hxcQJYyIJp7\n",
            "To: /content/RT.json\n",
            "100% 397M/397M [00:07<00:00, 50.4MB/s]\n"
          ]
        }
      ]
    },
    {
      "cell_type": "code",
      "source": [
        "import re\n",
        "from collections import Counter, defaultdict\n",
        "from typing import Dict, Iterable, List, Tuple\n",
        "\n",
        "import ipywidgets as widgets\n",
        "import matplotlib.pyplot as plt\n",
        "import nltk\n",
        "import numpy as np\n",
        "import pandas as pd\n",
        "from sklearn.model_selection import train_test_split\n",
        "from ipywidgets import interact"
      ],
      "metadata": {
        "id": "4n3_80irQ2No"
      },
      "execution_count": null,
      "outputs": []
    },
    {
      "cell_type": "code",
      "source": [
        "def has_text(message):\n",
        "  return message['text']!= ''"
      ],
      "metadata": {
        "id": "GsRLfNUCQ5BR"
      },
      "execution_count": null,
      "outputs": []
    },
    {
      "cell_type": "code",
      "source": [
        "import json\n",
        "\n",
        "def extract_text(message):\n",
        "    result = ''\n",
        "    for token in message['text']:\n",
        "        if isinstance(token, dict):\n",
        "            result += token['text']\n",
        "        elif isinstance(token, str):\n",
        "            result += token\n",
        "    return result.strip()\n",
        "\n",
        "def has_content(text, length = 5):\n",
        "    return len(text.split()) >= length\n",
        "\n",
        "def delete_spam(text, spam_words):\n",
        "    for word in spam_words:\n",
        "        text = text.replace(word, \"\")\n",
        "    return text\n",
        "\n",
        "def is_spam_text(text, spam_texts):\n",
        "    for sequence in spam_texts:\n",
        "        if text.find(sequence) != -1:\n",
        "            return True\n",
        "    return False"
      ],
      "metadata": {
        "id": "8gtfWvLRQ7c0"
      },
      "execution_count": null,
      "outputs": []
    },
    {
      "cell_type": "code",
      "source": [
        "file_name = 'RT.json'\n",
        "data = pd.read_json(file_name)\n",
        "data = data[data['messages'].apply(has_text)]['messages'].reset_index(drop=True)\n",
        "texts = data.apply(extract_text).reset_index(drop=True)"
      ],
      "metadata": {
        "id": "1haWzpazQ9mG"
      },
      "execution_count": null,
      "outputs": []
    },
    {
      "cell_type": "code",
      "source": [
        "import re\n",
        "\n",
        "def default_processing(text):\n",
        "    text = text.replace(\"ё\", \"е\")\n",
        "    text = re.sub(r'https?:\\/\\/[^\\s]+', 'www.russiatomorrow.com', text)\n",
        "    text = re.sub(r'russian.rt.com\\/[^\\s\\/]+', 'www.russiatomorrow.com', text)\n",
        "    text = re.sub(r'@[^\\s]+', '@russiatomorrow', text)\n",
        "    text = re.sub(r'[«»\"]', '', text)\n",
        "    text = text.strip(':; ')\n",
        "    text = text.lstrip('.: ')\n",
        "    if text[-1] not in '!?.':\n",
        "        text = text+'.'\n",
        "\n",
        "    return text"
      ],
      "metadata": {
        "id": "uEpJrbgCQ_V5"
      },
      "execution_count": null,
      "outputs": []
    },
    {
      "cell_type": "code",
      "source": [
        "spam_words = [\"@rt_russian\", \"🟩 Подпишись — RT на русском\", \"@RT_RUSSIA\", \"Ruptly\"]\n",
        "spam_texts = [\"читайте в нашей подборке\", \"Подробнее — в видео\", \"Подпишись на канал\", \"Валентин Богданов\", \"ГОЛОВАНОВ\", \"оброе утро\",\"обрый вечер\", \"в традиционной рубрике Бесит\", \"главные новости о\", \"Главные новости к\"]\n",
        "texts = texts.apply(lambda x: x.split(\"\\n\")).explode()\n",
        "texts = texts.apply(lambda x: delete_spam(x, spam_words))\n",
        "texts = texts[texts.apply(has_content)]\n",
        "texts = texts[~texts.apply(lambda x: is_spam_text(x, spam_texts))]\n",
        "texts = texts.apply(default_processing).reset_index(drop=True)"
      ],
      "metadata": {
        "id": "_8Mxy6VRRB6Q"
      },
      "execution_count": null,
      "outputs": []
    },
    {
      "cell_type": "code",
      "source": [
        "texts = list(texts.values)"
      ],
      "metadata": {
        "id": "BzoDo7rrqAAS"
      },
      "execution_count": null,
      "outputs": []
    },
    {
      "cell_type": "markdown",
      "source": [],
      "metadata": {
        "id": "bzp6qxyfYrIF"
      }
    },
    {
      "cell_type": "markdown",
      "source": [
        "# Tokenizer"
      ],
      "metadata": {
        "id": "YqultjRDRqAT"
      }
    },
    {
      "cell_type": "code",
      "source": [
        "tokenizer = Tokenizer(WordPiece(unk_token=\"[UNK]\"))\n",
        "trainer = WordPieceTrainer(special_tokens=[\"[UNK]\",\"[EOS]\"])\n",
        "tokenizer.pre_tokenizer = Whitespace()\n",
        "tokenizer.normalizer = Lowercase()"
      ],
      "metadata": {
        "id": "f_6XP1vbu2Ua"
      },
      "execution_count": null,
      "outputs": []
    },
    {
      "cell_type": "code",
      "source": [
        "tokenizer.train_from_iterator(texts, trainer=trainer)\n",
        "tokenizer.decoder = decoders.WordPiece()"
      ],
      "metadata": {
        "id": "Tqr_RR1HSy4D"
      },
      "execution_count": null,
      "outputs": []
    },
    {
      "cell_type": "code",
      "source": [
        "tokenizer.post_processor = TemplateProcessing(\n",
        "    single=\"$A [EOS]\",\n",
        "    special_tokens=[\n",
        "        (\"[EOS]\", tokenizer.token_to_id(\"[EOS]\")),\n",
        "    ],\n",
        ")"
      ],
      "metadata": {
        "id": "ULvNrh62jHSt"
      },
      "execution_count": null,
      "outputs": []
    },
    {
      "cell_type": "code",
      "source": [
        "tokenizer.decode(tokenizer.encode(texts[0]).ids)"
      ],
      "metadata": {
        "id": "BLfSBNiUR6PC",
        "colab": {
          "base_uri": "https://localhost:8080/",
          "height": 53
        },
        "outputId": "fa6f3571-3960-4838-ce6a-4d0a448d0d10"
      },
      "execution_count": null,
      "outputs": [
        {
          "output_type": "execute_result",
          "data": {
            "text/plain": [
              "'добрый день, дорогие читатели www. russiatomorrow. com мы открыли этот канал в telegram, чтобы сообщать вам только о самом главном и интересном утром, днем и вечером. поехали!'"
            ],
            "application/vnd.google.colaboratory.intrinsic+json": {
              "type": "string"
            }
          },
          "metadata": {},
          "execution_count": 46
        }
      ]
    },
    {
      "cell_type": "code",
      "source": [
        "tokenizer.get_vocab_size()"
      ],
      "metadata": {
        "colab": {
          "base_uri": "https://localhost:8080/"
        },
        "id": "gGbz89hPhIrZ",
        "outputId": "0609f0a1-bf79-43c7-e337-7b158049120f"
      },
      "execution_count": null,
      "outputs": [
        {
          "output_type": "execute_result",
          "data": {
            "text/plain": [
              "30000"
            ]
          },
          "metadata": {},
          "execution_count": 54
        }
      ]
    },
    {
      "cell_type": "code",
      "source": [
        "tokenized_texts = [text.tokens for text in tokenizer.encode_batch(texts)]"
      ],
      "metadata": {
        "id": "1OuaFMZoSgVK"
      },
      "execution_count": null,
      "outputs": []
    },
    {
      "cell_type": "code",
      "source": [
        "embedding_size = 512\n",
        "word2vec = gensim.models.Word2Vec(\n",
        "    tokenized_texts,\n",
        "    vector_size=embedding_size,\n",
        "    epochs = 10,\n",
        "    min_count=1,\n",
        "    window = 6,\n",
        "    shrink_windows = 1\n",
        ")"
      ],
      "metadata": {
        "id": "x8n_Ho6niUMP"
      },
      "execution_count": null,
      "outputs": []
    },
    {
      "cell_type": "code",
      "source": [
        "word2vec.wv.most_similar('получается')"
      ],
      "metadata": {
        "colab": {
          "base_uri": "https://localhost:8080/"
        },
        "id": "0xoySHWTmefV",
        "outputId": "3c3e04d4-ddf9-4b81-ad52-e7bdac522be6"
      },
      "execution_count": null,
      "outputs": [
        {
          "output_type": "execute_result",
          "data": {
            "text/plain": [
              "[('получилось', 0.6811118125915527),\n",
              " ('получится', 0.6306459307670593),\n",
              " ('бывает', 0.6276301741600037),\n",
              " ('скажешь', 0.5337451100349426),\n",
              " ('понимают', 0.52865070104599),\n",
              " ('случилось', 0.5233952403068542),\n",
              " ('поняли', 0.5232011079788208),\n",
              " ('неудивительно', 0.5223237872123718),\n",
              " ('понял', 0.5198220014572144),\n",
              " ('понимаешь', 0.5164682865142822)]"
            ]
          },
          "metadata": {},
          "execution_count": 49
        }
      ]
    },
    {
      "cell_type": "markdown",
      "source": [
        "# Dataset"
      ],
      "metadata": {
        "id": "8QujPr_T4zzL"
      }
    },
    {
      "cell_type": "code",
      "source": [
        "class TextDataset(torch.utils.data.Dataset):\n",
        "    def __init__(self, tokenized_texts):\n",
        "        self.tokenized_texts = tokenized_texts\n",
        "\n",
        "    def __len__(self):\n",
        "        return len(self.tokenized_texts)\n",
        "\n",
        "    def __getitem__(self, idx):\n",
        "        vectorized_tokens = [word2vec.wv.get_vector(token) for token in self.tokenized_texts[idx]]\n",
        "        return torch.tensor(np.stack(vectorized_tokens))\n",
        "\n",
        "dataset = TextDataset(tokenized_texts)\n",
        "\n",
        "import torch\n",
        "\n",
        "def collate_fn(batch):\n",
        "    sizes = torch.tensor([t.size(0) for t in batch]).to(device)\n",
        "    max_size = torch.max(sizes)\n",
        "    sample_size = batch[0].size()[1:]\n",
        "    new_batch = torch.zeros(len(batch), max_size, *sample_size)\n",
        "\n",
        "    for i, t in enumerate(batch):\n",
        "        new_batch[i, :sizes[i]] = t\n",
        "    return new_batch, sizes\n"
      ],
      "metadata": {
        "id": "WMT6gZprCp1W"
      },
      "execution_count": null,
      "outputs": []
    },
    {
      "cell_type": "code",
      "source": [
        "dataloader = DataLoader(dataset, batch_size=64, shuffle=True, collate_fn=collate_fn,drop_last= True)"
      ],
      "metadata": {
        "id": "teweDIAKDogV"
      },
      "execution_count": null,
      "outputs": []
    },
    {
      "cell_type": "markdown",
      "source": [
        "# RNN"
      ],
      "metadata": {
        "id": "SXJRFQejXEX_"
      }
    },
    {
      "cell_type": "code",
      "source": [
        "class RNN(nn.Module):\n",
        "    def __init__(self, input_size, hidden_size, out_size):\n",
        "        super().__init__()\n",
        "        self.hidden_size = hidden_size\n",
        "        self.out_size = out_size\n",
        "\n",
        "        self.x2h = nn.Linear(input_size, hidden_size, bias=False)\n",
        "        self.h2h = nn.Linear(hidden_size, hidden_size, bias=False)\n",
        "        self.h2y = nn.Linear(hidden_size, out_size, bias = False)\n",
        "        self.f = nn.Tanh()\n",
        "\n",
        "    def forward(self, x, actual_sequence_lens):\n",
        "        # x : (batch_size, seq, input_size)\n",
        "        batch_size = x.size(0)\n",
        "        sequence_size = x.size(1)\n",
        "\n",
        "        out = torch.zeros(batch_size,sequence_size, self.out_size).to(device)\n",
        "        hidden = torch.zeros(batch_size, sequence_size + 1, self.hidden_size).to(device)\n",
        "        for t in range(sequence_size):\n",
        "            mask = actual_sequence_lens > t\n",
        "            hidden[mask, t] = self.f(self.h2h(hidden[mask, t-1]) + self.x2h(x[mask, t]))\n",
        "            out[mask, t] = self.h2y(hidden[mask, t])\n",
        "\n",
        "        return out, hidden\n",
        "\n",
        "    @torch.no_grad()\n",
        "    def single_forward(self, x, hidden):\n",
        "        new_hidden = self.f(self.h2h(hidden) + self.x2h(x))\n",
        "        out = self.h2y(new_hidden)\n",
        "        return out, new_hidden\n"
      ],
      "metadata": {
        "id": "8mB23uROm8QR"
      },
      "execution_count": null,
      "outputs": []
    },
    {
      "cell_type": "code",
      "source": [
        "model = RNN(input_size = embedding_size, hidden_size = 4 * embedding_size, out_size = embedding_size).to(device)"
      ],
      "metadata": {
        "id": "dewUUczHoDPJ"
      },
      "execution_count": null,
      "outputs": []
    },
    {
      "cell_type": "code",
      "source": [
        "criterion = nn.CosineEmbeddingLoss()\n",
        "optimizer = torch.optim.Adam(model.parameters(), lr=1e-3)"
      ],
      "metadata": {
        "id": "aOABp5phoZlg"
      },
      "execution_count": null,
      "outputs": []
    },
    {
      "cell_type": "code",
      "source": [
        "num_epochs = 1\n",
        "model.train()\n",
        "losses = []\n",
        "for epoch in range(num_epochs):\n",
        "    for x, sizes in tqdm.tqdm(dataloader):\n",
        "        x = x.to(device)\n",
        "        predictions, _ = model(x, sizes)\n",
        "        x = x[:,1:,:].reshape(-1, embedding_size)\n",
        "        predictions = predictions[:,:-1,:].reshape(-1, embedding_size)\n",
        "        labels = torch.ones(x.shape[0]).to(device)\n",
        "        loss = criterion(x, predictions, labels)\n",
        "        losses.append(loss.item())\n",
        "        optimizer.zero_grad()\n",
        "        loss.backward()\n",
        "        optimizer.step()"
      ],
      "metadata": {
        "colab": {
          "base_uri": "https://localhost:8080/",
          "height": 407
        },
        "id": "Z9q3z07roej0",
        "outputId": "38c3a486-5bc9-4d6c-f636-0e444dc32982"
      },
      "execution_count": null,
      "outputs": [
        {
          "output_type": "stream",
          "name": "stderr",
          "text": [
            "  8%|▊         | 2330/28948 [19:18<3:40:34,  2.01it/s]\n"
          ]
        },
        {
          "output_type": "error",
          "ename": "KeyboardInterrupt",
          "evalue": "ignored",
          "traceback": [
            "\u001b[0;31m---------------------------------------------------------------------------\u001b[0m",
            "\u001b[0;31mKeyboardInterrupt\u001b[0m                         Traceback (most recent call last)",
            "\u001b[0;32m<ipython-input-37-ef3a58c157e1>\u001b[0m in \u001b[0;36m<cell line: 4>\u001b[0;34m()\u001b[0m\n\u001b[1;32m     12\u001b[0m         \u001b[0mlosses\u001b[0m\u001b[0;34m.\u001b[0m\u001b[0mappend\u001b[0m\u001b[0;34m(\u001b[0m\u001b[0mloss\u001b[0m\u001b[0;34m.\u001b[0m\u001b[0mitem\u001b[0m\u001b[0;34m(\u001b[0m\u001b[0;34m)\u001b[0m\u001b[0;34m)\u001b[0m\u001b[0;34m\u001b[0m\u001b[0;34m\u001b[0m\u001b[0m\n\u001b[1;32m     13\u001b[0m         \u001b[0moptimizer\u001b[0m\u001b[0;34m.\u001b[0m\u001b[0mzero_grad\u001b[0m\u001b[0;34m(\u001b[0m\u001b[0;34m)\u001b[0m\u001b[0;34m\u001b[0m\u001b[0;34m\u001b[0m\u001b[0m\n\u001b[0;32m---> 14\u001b[0;31m         \u001b[0mloss\u001b[0m\u001b[0;34m.\u001b[0m\u001b[0mbackward\u001b[0m\u001b[0;34m(\u001b[0m\u001b[0;34m)\u001b[0m\u001b[0;34m\u001b[0m\u001b[0;34m\u001b[0m\u001b[0m\n\u001b[0m\u001b[1;32m     15\u001b[0m         \u001b[0moptimizer\u001b[0m\u001b[0;34m.\u001b[0m\u001b[0mstep\u001b[0m\u001b[0;34m(\u001b[0m\u001b[0;34m)\u001b[0m\u001b[0;34m\u001b[0m\u001b[0;34m\u001b[0m\u001b[0m\n",
            "\u001b[0;32m/usr/local/lib/python3.10/dist-packages/torch/_tensor.py\u001b[0m in \u001b[0;36mbackward\u001b[0;34m(self, gradient, retain_graph, create_graph, inputs)\u001b[0m\n\u001b[1;32m    490\u001b[0m                 \u001b[0minputs\u001b[0m\u001b[0;34m=\u001b[0m\u001b[0minputs\u001b[0m\u001b[0;34m,\u001b[0m\u001b[0;34m\u001b[0m\u001b[0;34m\u001b[0m\u001b[0m\n\u001b[1;32m    491\u001b[0m             )\n\u001b[0;32m--> 492\u001b[0;31m         torch.autograd.backward(\n\u001b[0m\u001b[1;32m    493\u001b[0m             \u001b[0mself\u001b[0m\u001b[0;34m,\u001b[0m \u001b[0mgradient\u001b[0m\u001b[0;34m,\u001b[0m \u001b[0mretain_graph\u001b[0m\u001b[0;34m,\u001b[0m \u001b[0mcreate_graph\u001b[0m\u001b[0;34m,\u001b[0m \u001b[0minputs\u001b[0m\u001b[0;34m=\u001b[0m\u001b[0minputs\u001b[0m\u001b[0;34m\u001b[0m\u001b[0;34m\u001b[0m\u001b[0m\n\u001b[1;32m    494\u001b[0m         )\n",
            "\u001b[0;32m/usr/local/lib/python3.10/dist-packages/torch/autograd/__init__.py\u001b[0m in \u001b[0;36mbackward\u001b[0;34m(tensors, grad_tensors, retain_graph, create_graph, grad_variables, inputs)\u001b[0m\n\u001b[1;32m    249\u001b[0m     \u001b[0;31m# some Python versions print out the first line of a multi-line function\u001b[0m\u001b[0;34m\u001b[0m\u001b[0;34m\u001b[0m\u001b[0m\n\u001b[1;32m    250\u001b[0m     \u001b[0;31m# calls in the traceback and some print out the last line\u001b[0m\u001b[0;34m\u001b[0m\u001b[0;34m\u001b[0m\u001b[0m\n\u001b[0;32m--> 251\u001b[0;31m     Variable._execution_engine.run_backward(  # Calls into the C++ engine to run the backward pass\n\u001b[0m\u001b[1;32m    252\u001b[0m         \u001b[0mtensors\u001b[0m\u001b[0;34m,\u001b[0m\u001b[0;34m\u001b[0m\u001b[0;34m\u001b[0m\u001b[0m\n\u001b[1;32m    253\u001b[0m         \u001b[0mgrad_tensors_\u001b[0m\u001b[0;34m,\u001b[0m\u001b[0;34m\u001b[0m\u001b[0;34m\u001b[0m\u001b[0m\n",
            "\u001b[0;31mKeyboardInterrupt\u001b[0m: "
          ]
        }
      ]
    },
    {
      "cell_type": "code",
      "source": [
        "plt.plot(losses)"
      ],
      "metadata": {
        "colab": {
          "base_uri": "https://localhost:8080/",
          "height": 447
        },
        "id": "F8gQGgJ4_vVt",
        "outputId": "a207d345-2914-4a59-98c4-ba0fbd6b96dc"
      },
      "execution_count": null,
      "outputs": [
        {
          "output_type": "execute_result",
          "data": {
            "text/plain": [
              "[<matplotlib.lines.Line2D at 0x7904d1478520>]"
            ]
          },
          "metadata": {},
          "execution_count": 38
        },
        {
          "output_type": "display_data",
          "data": {
            "text/plain": [
              "<Figure size 640x480 with 1 Axes>"
            ],
            "image/png": "[encoded data removed]"
          },
          "metadata": {}
        }
      ]
    },
    {
      "cell_type": "code",
      "source": [
        "tokenized_texts[-16]"
      ],
      "metadata": {
        "colab": {
          "base_uri": "https://localhost:8080/"
        },
        "id": "sWntIY38MfD8",
        "outputId": "160c7612-0bf7-4ce3-c8c0-38e8c2f04d77"
      },
      "execution_count": null,
      "outputs": [
        {
          "output_type": "execute_result",
          "data": {
            "text/plain": [
              "['в',\n",
              " 'одессе',\n",
              " 'произошли',\n",
              " 'взрывы',\n",
              " ',',\n",
              " 'передают',\n",
              " 'украинские',\n",
              " 'сми',\n",
              " '.',\n",
              " 'ранее',\n",
              " 'в',\n",
              " 'области',\n",
              " 'объявили',\n",
              " 'воздушную',\n",
              " 'тревогу',\n",
              " '.',\n",
              " '[EOS]']"
            ]
          },
          "metadata": {},
          "execution_count": 39
        }
      ]
    },
    {
      "cell_type": "code",
      "source": [
        "def generate_text(promt, max_tokens = 20):\n",
        "    sent = []\n",
        "    tokens = tokenizer.encode(promt).tokens\n",
        "    embds = [torch.tensor(word2vec.wv.get_vector(token)) for token in tokens if word2vec.wv.has_index_for(token)]\n",
        "    embds = torch.stack(embds[:-1]).to(device)\n",
        "    out, hidden = model(torch.unsqueeze(embds,0), torch.tensor([embds.size(0)]))\n",
        "    out = out[0, -1]\n",
        "    out=word2vec.wv.index_to_key[np.argmin(word2vec.wv.distances(out.detach().cpu().numpy()))]\n",
        "    sent.append(out)\n",
        "    out = torch.tensor(word2vec.wv.get_vector(out))\n",
        "    hidden = hidden[0,-1]\n",
        "    for i in range(max_tokens):\n",
        "        out, hidden = model.single_forward(out, hidden)\n",
        "        out=word2vec.wv.index_to_key[np.argmin(word2vec.wv.distances(out.detach().cpu().numpy()))]\n",
        "        sent.append(out)\n",
        "        if out == '[EOS]':\n",
        "            break\n",
        "        out = torch.tensor(word2vec.wv.get_vector(out))\n",
        "    return sent"
      ],
      "metadata": {
        "id": "DdZwCyvQ5o-T"
      },
      "execution_count": null,
      "outputs": []
    },
    {
      "cell_type": "code",
      "source": [
        "generate_text(\"в одессе произошли\")"
      ],
      "metadata": {
        "colab": {
          "base_uri": "https://localhost:8080/",
          "height": 321
        },
        "id": "neQ91qRz7Izf",
        "outputId": "d4957b79-4560-42d3-ae36-ca201230eb14"
      },
      "execution_count": null,
      "outputs": [
        {
          "output_type": "error",
          "ename": "TypeError",
          "evalue": "ignored",
          "traceback": [
            "\u001b[0;31m---------------------------------------------------------------------------\u001b[0m",
            "\u001b[0;31mTypeError\u001b[0m                                 Traceback (most recent call last)",
            "\u001b[0;32m<ipython-input-41-69e9ec8f1d57>\u001b[0m in \u001b[0;36m<cell line: 1>\u001b[0;34m()\u001b[0m\n\u001b[0;32m----> 1\u001b[0;31m \u001b[0mgenerate_text\u001b[0m\u001b[0;34m(\u001b[0m\u001b[0;34m\"в одессе произошли\"\u001b[0m\u001b[0;34m)\u001b[0m\u001b[0;34m\u001b[0m\u001b[0;34m\u001b[0m\u001b[0m\n\u001b[0m",
            "\u001b[0;32m<ipython-input-40-8437f601b1ca>\u001b[0m in \u001b[0;36mgenerate_text\u001b[0;34m(promt, max_tokens)\u001b[0m\n\u001b[1;32m     11\u001b[0m     \u001b[0mhidden\u001b[0m \u001b[0;34m=\u001b[0m \u001b[0mhidden\u001b[0m\u001b[0;34m[\u001b[0m\u001b[0;36m0\u001b[0m\u001b[0;34m,\u001b[0m\u001b[0;34m-\u001b[0m\u001b[0;36m1\u001b[0m\u001b[0;34m]\u001b[0m\u001b[0;34m\u001b[0m\u001b[0;34m\u001b[0m\u001b[0m\n\u001b[1;32m     12\u001b[0m     \u001b[0;32mfor\u001b[0m \u001b[0mi\u001b[0m \u001b[0;32min\u001b[0m \u001b[0mrange\u001b[0m\u001b[0;34m(\u001b[0m\u001b[0mmax_tokens\u001b[0m\u001b[0;34m)\u001b[0m\u001b[0;34m:\u001b[0m\u001b[0;34m\u001b[0m\u001b[0;34m\u001b[0m\u001b[0m\n\u001b[0;32m---> 13\u001b[0;31m         \u001b[0mout\u001b[0m\u001b[0;34m,\u001b[0m \u001b[0mhidden\u001b[0m \u001b[0;34m=\u001b[0m \u001b[0mmodel\u001b[0m\u001b[0;34m.\u001b[0m\u001b[0msingle_forward\u001b[0m\u001b[0;34m(\u001b[0m\u001b[0mout\u001b[0m\u001b[0;34m,\u001b[0m \u001b[0mhidden\u001b[0m\u001b[0;34m)\u001b[0m\u001b[0;34m\u001b[0m\u001b[0;34m\u001b[0m\u001b[0m\n\u001b[0m\u001b[1;32m     14\u001b[0m         \u001b[0mout\u001b[0m\u001b[0;34m=\u001b[0m\u001b[0mword2vec\u001b[0m\u001b[0;34m.\u001b[0m\u001b[0mwv\u001b[0m\u001b[0;34m.\u001b[0m\u001b[0mindex_to_key\u001b[0m\u001b[0;34m[\u001b[0m\u001b[0mnp\u001b[0m\u001b[0;34m.\u001b[0m\u001b[0margmin\u001b[0m\u001b[0;34m(\u001b[0m\u001b[0mword2vec\u001b[0m\u001b[0;34m.\u001b[0m\u001b[0mwv\u001b[0m\u001b[0;34m.\u001b[0m\u001b[0mdistances\u001b[0m\u001b[0;34m(\u001b[0m\u001b[0mout\u001b[0m\u001b[0;34m.\u001b[0m\u001b[0mdetach\u001b[0m\u001b[0;34m(\u001b[0m\u001b[0;34m)\u001b[0m\u001b[0;34m.\u001b[0m\u001b[0mcpu\u001b[0m\u001b[0;34m(\u001b[0m\u001b[0;34m)\u001b[0m\u001b[0;34m.\u001b[0m\u001b[0mnumpy\u001b[0m\u001b[0;34m(\u001b[0m\u001b[0;34m)\u001b[0m\u001b[0;34m)\u001b[0m\u001b[0;34m)\u001b[0m\u001b[0;34m]\u001b[0m\u001b[0;34m\u001b[0m\u001b[0;34m\u001b[0m\u001b[0m\n\u001b[1;32m     15\u001b[0m         \u001b[0msent\u001b[0m\u001b[0;34m.\u001b[0m\u001b[0mappend\u001b[0m\u001b[0;34m(\u001b[0m\u001b[0mout\u001b[0m\u001b[0;34m)\u001b[0m\u001b[0;34m\u001b[0m\u001b[0;34m\u001b[0m\u001b[0m\n",
            "\u001b[0;32m/usr/local/lib/python3.10/dist-packages/torch/utils/_contextlib.py\u001b[0m in \u001b[0;36mdecorate_context\u001b[0;34m(*args, **kwargs)\u001b[0m\n\u001b[1;32m    113\u001b[0m     \u001b[0;32mdef\u001b[0m \u001b[0mdecorate_context\u001b[0m\u001b[0;34m(\u001b[0m\u001b[0;34m*\u001b[0m\u001b[0margs\u001b[0m\u001b[0;34m,\u001b[0m \u001b[0;34m**\u001b[0m\u001b[0mkwargs\u001b[0m\u001b[0;34m)\u001b[0m\u001b[0;34m:\u001b[0m\u001b[0;34m\u001b[0m\u001b[0;34m\u001b[0m\u001b[0m\n\u001b[1;32m    114\u001b[0m         \u001b[0;32mwith\u001b[0m \u001b[0mctx_factory\u001b[0m\u001b[0;34m(\u001b[0m\u001b[0;34m)\u001b[0m\u001b[0;34m:\u001b[0m\u001b[0;34m\u001b[0m\u001b[0;34m\u001b[0m\u001b[0m\n\u001b[0;32m--> 115\u001b[0;31m             \u001b[0;32mreturn\u001b[0m \u001b[0mfunc\u001b[0m\u001b[0;34m(\u001b[0m\u001b[0;34m*\u001b[0m\u001b[0margs\u001b[0m\u001b[0;34m,\u001b[0m \u001b[0;34m**\u001b[0m\u001b[0mkwargs\u001b[0m\u001b[0;34m)\u001b[0m\u001b[0;34m\u001b[0m\u001b[0;34m\u001b[0m\u001b[0m\n\u001b[0m\u001b[1;32m    116\u001b[0m \u001b[0;34m\u001b[0m\u001b[0m\n\u001b[1;32m    117\u001b[0m     \u001b[0;32mreturn\u001b[0m \u001b[0mdecorate_context\u001b[0m\u001b[0;34m\u001b[0m\u001b[0;34m\u001b[0m\u001b[0m\n",
            "\u001b[0;31mTypeError\u001b[0m: LSTM.single_forward() missing 1 required positional argument: 'c'"
          ]
        }
      ]
    },
    {
      "cell_type": "markdown",
      "source": [
        "# RNN with softmax"
      ],
      "metadata": {
        "id": "PLZm_CkOXUoE"
      }
    },
    {
      "cell_type": "code",
      "source": [
        "model = RNN(input_size = embedding_size, hidden_size = 4 * embedding_size, out_size = tokenizer.get_vocab_size()).to(device)\n",
        "criterion = torch.nn.CrossEntropyLoss()\n",
        "optimizer = torch.optim.Adam(model.parameters(), lr=1e-3)\n",
        "\n",
        "num_epochs = 1\n",
        "model.train()\n",
        "losses = []\n",
        "for epoch in range(num_epochs):\n",
        "    for x, sizes in tqdm.tqdm(dataloader):\n",
        "        x = x.to(device)\n",
        "        predictions, _ = model(x, sizes)\n",
        "        x = x[:,1:,:]\n",
        "        predictions = predictions[:,:-1,:]\n",
        "        loss = criterion(x, predictions)\n",
        "        losses.append(loss.item())\n",
        "        optimizer.zero_grad()\n",
        "        loss.backward()\n",
        "        optimizer.step()"
      ],
      "metadata": {
        "colab": {
          "base_uri": "https://localhost:8080/",
          "height": 425
        },
        "id": "_IrJW1HrXZBs",
        "outputId": "85e5f0fd-1340-4c1c-d325-cb522dd9dfa4"
      },
      "execution_count": null,
      "outputs": [
        {
          "output_type": "stream",
          "name": "stderr",
          "text": [
            "  0%|          | 0/7237 [00:15<?, ?it/s]\n"
          ]
        },
        {
          "output_type": "error",
          "ename": "RuntimeError",
          "evalue": "ignored",
          "traceback": [
            "\u001b[0;31m---------------------------------------------------------------------------\u001b[0m",
            "\u001b[0;31mRuntimeError\u001b[0m                              Traceback (most recent call last)",
            "\u001b[0;32m<ipython-input-60-c2fbd728e2c9>\u001b[0m in \u001b[0;36m<cell line: 8>\u001b[0;34m()\u001b[0m\n\u001b[1;32m     12\u001b[0m         \u001b[0mx\u001b[0m \u001b[0;34m=\u001b[0m \u001b[0mx\u001b[0m\u001b[0;34m[\u001b[0m\u001b[0;34m:\u001b[0m\u001b[0;34m,\u001b[0m\u001b[0;36m1\u001b[0m\u001b[0;34m:\u001b[0m\u001b[0;34m,\u001b[0m\u001b[0;34m:\u001b[0m\u001b[0;34m]\u001b[0m\u001b[0;34m\u001b[0m\u001b[0;34m\u001b[0m\u001b[0m\n\u001b[1;32m     13\u001b[0m         \u001b[0mpredictions\u001b[0m \u001b[0;34m=\u001b[0m \u001b[0mpredictions\u001b[0m\u001b[0;34m[\u001b[0m\u001b[0;34m:\u001b[0m\u001b[0;34m,\u001b[0m\u001b[0;34m:\u001b[0m\u001b[0;34m-\u001b[0m\u001b[0;36m1\u001b[0m\u001b[0;34m,\u001b[0m\u001b[0;34m:\u001b[0m\u001b[0;34m]\u001b[0m\u001b[0;34m\u001b[0m\u001b[0;34m\u001b[0m\u001b[0m\n\u001b[0;32m---> 14\u001b[0;31m         \u001b[0mloss\u001b[0m \u001b[0;34m=\u001b[0m \u001b[0mcriterion\u001b[0m\u001b[0;34m(\u001b[0m\u001b[0mx\u001b[0m\u001b[0;34m,\u001b[0m \u001b[0mpredictions\u001b[0m\u001b[0;34m)\u001b[0m\u001b[0;34m\u001b[0m\u001b[0;34m\u001b[0m\u001b[0m\n\u001b[0m\u001b[1;32m     15\u001b[0m         \u001b[0mlosses\u001b[0m\u001b[0;34m.\u001b[0m\u001b[0mappend\u001b[0m\u001b[0;34m(\u001b[0m\u001b[0mloss\u001b[0m\u001b[0;34m.\u001b[0m\u001b[0mitem\u001b[0m\u001b[0;34m(\u001b[0m\u001b[0;34m)\u001b[0m\u001b[0;34m)\u001b[0m\u001b[0;34m\u001b[0m\u001b[0;34m\u001b[0m\u001b[0m\n\u001b[1;32m     16\u001b[0m         \u001b[0moptimizer\u001b[0m\u001b[0;34m.\u001b[0m\u001b[0mzero_grad\u001b[0m\u001b[0;34m(\u001b[0m\u001b[0;34m)\u001b[0m\u001b[0;34m\u001b[0m\u001b[0;34m\u001b[0m\u001b[0m\n",
            "\u001b[0;32m/usr/local/lib/python3.10/dist-packages/torch/nn/modules/module.py\u001b[0m in \u001b[0;36m_wrapped_call_impl\u001b[0;34m(self, *args, **kwargs)\u001b[0m\n\u001b[1;32m   1516\u001b[0m             \u001b[0;32mreturn\u001b[0m \u001b[0mself\u001b[0m\u001b[0;34m.\u001b[0m\u001b[0m_compiled_call_impl\u001b[0m\u001b[0;34m(\u001b[0m\u001b[0;34m*\u001b[0m\u001b[0margs\u001b[0m\u001b[0;34m,\u001b[0m \u001b[0;34m**\u001b[0m\u001b[0mkwargs\u001b[0m\u001b[0;34m)\u001b[0m  \u001b[0;31m# type: ignore[misc]\u001b[0m\u001b[0;34m\u001b[0m\u001b[0;34m\u001b[0m\u001b[0m\n\u001b[1;32m   1517\u001b[0m         \u001b[0;32melse\u001b[0m\u001b[0;34m:\u001b[0m\u001b[0;34m\u001b[0m\u001b[0;34m\u001b[0m\u001b[0m\n\u001b[0;32m-> 1518\u001b[0;31m             \u001b[0;32mreturn\u001b[0m \u001b[0mself\u001b[0m\u001b[0;34m.\u001b[0m\u001b[0m_call_impl\u001b[0m\u001b[0;34m(\u001b[0m\u001b[0;34m*\u001b[0m\u001b[0margs\u001b[0m\u001b[0;34m,\u001b[0m \u001b[0;34m**\u001b[0m\u001b[0mkwargs\u001b[0m\u001b[0;34m)\u001b[0m\u001b[0;34m\u001b[0m\u001b[0;34m\u001b[0m\u001b[0m\n\u001b[0m\u001b[1;32m   1519\u001b[0m \u001b[0;34m\u001b[0m\u001b[0m\n\u001b[1;32m   1520\u001b[0m     \u001b[0;32mdef\u001b[0m \u001b[0m_call_impl\u001b[0m\u001b[0;34m(\u001b[0m\u001b[0mself\u001b[0m\u001b[0;34m,\u001b[0m \u001b[0;34m*\u001b[0m\u001b[0margs\u001b[0m\u001b[0;34m,\u001b[0m \u001b[0;34m**\u001b[0m\u001b[0mkwargs\u001b[0m\u001b[0;34m)\u001b[0m\u001b[0;34m:\u001b[0m\u001b[0;34m\u001b[0m\u001b[0;34m\u001b[0m\u001b[0m\n",
            "\u001b[0;32m/usr/local/lib/python3.10/dist-packages/torch/nn/modules/module.py\u001b[0m in \u001b[0;36m_call_impl\u001b[0;34m(self, *args, **kwargs)\u001b[0m\n\u001b[1;32m   1525\u001b[0m                 \u001b[0;32mor\u001b[0m \u001b[0m_global_backward_pre_hooks\u001b[0m \u001b[0;32mor\u001b[0m \u001b[0m_global_backward_hooks\u001b[0m\u001b[0;34m\u001b[0m\u001b[0;34m\u001b[0m\u001b[0m\n\u001b[1;32m   1526\u001b[0m                 or _global_forward_hooks or _global_forward_pre_hooks):\n\u001b[0;32m-> 1527\u001b[0;31m             \u001b[0;32mreturn\u001b[0m \u001b[0mforward_call\u001b[0m\u001b[0;34m(\u001b[0m\u001b[0;34m*\u001b[0m\u001b[0margs\u001b[0m\u001b[0;34m,\u001b[0m \u001b[0;34m**\u001b[0m\u001b[0mkwargs\u001b[0m\u001b[0;34m)\u001b[0m\u001b[0;34m\u001b[0m\u001b[0;34m\u001b[0m\u001b[0m\n\u001b[0m\u001b[1;32m   1528\u001b[0m \u001b[0;34m\u001b[0m\u001b[0m\n\u001b[1;32m   1529\u001b[0m         \u001b[0;32mtry\u001b[0m\u001b[0;34m:\u001b[0m\u001b[0;34m\u001b[0m\u001b[0;34m\u001b[0m\u001b[0m\n",
            "\u001b[0;32m/usr/local/lib/python3.10/dist-packages/torch/nn/modules/loss.py\u001b[0m in \u001b[0;36mforward\u001b[0;34m(self, input, target)\u001b[0m\n\u001b[1;32m   1177\u001b[0m \u001b[0;34m\u001b[0m\u001b[0m\n\u001b[1;32m   1178\u001b[0m     \u001b[0;32mdef\u001b[0m \u001b[0mforward\u001b[0m\u001b[0;34m(\u001b[0m\u001b[0mself\u001b[0m\u001b[0;34m,\u001b[0m \u001b[0minput\u001b[0m\u001b[0;34m:\u001b[0m \u001b[0mTensor\u001b[0m\u001b[0;34m,\u001b[0m \u001b[0mtarget\u001b[0m\u001b[0;34m:\u001b[0m \u001b[0mTensor\u001b[0m\u001b[0;34m)\u001b[0m \u001b[0;34m->\u001b[0m \u001b[0mTensor\u001b[0m\u001b[0;34m:\u001b[0m\u001b[0;34m\u001b[0m\u001b[0;34m\u001b[0m\u001b[0m\n\u001b[0;32m-> 1179\u001b[0;31m         return F.cross_entropy(input, target, weight=self.weight,\n\u001b[0m\u001b[1;32m   1180\u001b[0m                                \u001b[0mignore_index\u001b[0m\u001b[0;34m=\u001b[0m\u001b[0mself\u001b[0m\u001b[0;34m.\u001b[0m\u001b[0mignore_index\u001b[0m\u001b[0;34m,\u001b[0m \u001b[0mreduction\u001b[0m\u001b[0;34m=\u001b[0m\u001b[0mself\u001b[0m\u001b[0;34m.\u001b[0m\u001b[0mreduction\u001b[0m\u001b[0;34m,\u001b[0m\u001b[0;34m\u001b[0m\u001b[0;34m\u001b[0m\u001b[0m\n\u001b[1;32m   1181\u001b[0m                                label_smoothing=self.label_smoothing)\n",
            "\u001b[0;32m/usr/local/lib/python3.10/dist-packages/torch/nn/functional.py\u001b[0m in \u001b[0;36mcross_entropy\u001b[0;34m(input, target, weight, size_average, ignore_index, reduce, reduction, label_smoothing)\u001b[0m\n\u001b[1;32m   3051\u001b[0m     \u001b[0;32mif\u001b[0m \u001b[0msize_average\u001b[0m \u001b[0;32mis\u001b[0m \u001b[0;32mnot\u001b[0m \u001b[0;32mNone\u001b[0m \u001b[0;32mor\u001b[0m \u001b[0mreduce\u001b[0m \u001b[0;32mis\u001b[0m \u001b[0;32mnot\u001b[0m \u001b[0;32mNone\u001b[0m\u001b[0;34m:\u001b[0m\u001b[0;34m\u001b[0m\u001b[0;34m\u001b[0m\u001b[0m\n\u001b[1;32m   3052\u001b[0m         \u001b[0mreduction\u001b[0m \u001b[0;34m=\u001b[0m \u001b[0m_Reduction\u001b[0m\u001b[0;34m.\u001b[0m\u001b[0mlegacy_get_string\u001b[0m\u001b[0;34m(\u001b[0m\u001b[0msize_average\u001b[0m\u001b[0;34m,\u001b[0m \u001b[0mreduce\u001b[0m\u001b[0;34m)\u001b[0m\u001b[0;34m\u001b[0m\u001b[0;34m\u001b[0m\u001b[0m\n\u001b[0;32m-> 3053\u001b[0;31m     \u001b[0;32mreturn\u001b[0m \u001b[0mtorch\u001b[0m\u001b[0;34m.\u001b[0m\u001b[0m_C\u001b[0m\u001b[0;34m.\u001b[0m\u001b[0m_nn\u001b[0m\u001b[0;34m.\u001b[0m\u001b[0mcross_entropy_loss\u001b[0m\u001b[0;34m(\u001b[0m\u001b[0minput\u001b[0m\u001b[0;34m,\u001b[0m \u001b[0mtarget\u001b[0m\u001b[0;34m,\u001b[0m \u001b[0mweight\u001b[0m\u001b[0;34m,\u001b[0m \u001b[0m_Reduction\u001b[0m\u001b[0;34m.\u001b[0m\u001b[0mget_enum\u001b[0m\u001b[0;34m(\u001b[0m\u001b[0mreduction\u001b[0m\u001b[0;34m)\u001b[0m\u001b[0;34m,\u001b[0m \u001b[0mignore_index\u001b[0m\u001b[0;34m,\u001b[0m \u001b[0mlabel_smoothing\u001b[0m\u001b[0;34m)\u001b[0m\u001b[0;34m\u001b[0m\u001b[0;34m\u001b[0m\u001b[0m\n\u001b[0m\u001b[1;32m   3054\u001b[0m \u001b[0;34m\u001b[0m\u001b[0m\n\u001b[1;32m   3055\u001b[0m \u001b[0;34m\u001b[0m\u001b[0m\n",
            "\u001b[0;31mRuntimeError\u001b[0m: Expected target size [64, 512], got [64, 154, 30000]"
          ]
        }
      ]
    },
    {
      "cell_type": "code",
      "source": [
        "plt.plot(losses)"
      ],
      "metadata": {
        "id": "CdiiAnI8YJW-"
      },
      "execution_count": null,
      "outputs": []
    },
    {
      "cell_type": "code",
      "source": [
        "def generate_text(promt, max_tokens = 20):\n",
        "    sent = []\n",
        "    tokens = tokenizer.encode(promt).tokens\n",
        "    embds = [torch.tensor(word2vec.wv.get_vector(token)) for token in tokens if word2vec.wv.has_index_for(token)]\n",
        "    embds = torch.stack(embds[:-1]).to(device)\n",
        "    out, hidden = model(torch.unsqueeze(embds,0), torch.tensor([embds.size(0)]))\n",
        "    out = out[0, -1]\n",
        "    out=word2vec.wv.index_to_key[np.argmin(word2vec.wv.distances(out.detach().cpu().numpy()))]\n",
        "    sent.append(out)\n",
        "    out = torch.tensor(word2vec.wv.get_vector(out))\n",
        "    hidden = hidden[0,-1]\n",
        "    for i in range(max_tokens):\n",
        "        out, hidden = model.single_forward(out, hidden)\n",
        "        out=word2vec.wv.index_to_key[np.argmin(word2vec.wv.distances(out.detach().cpu().numpy()))]\n",
        "        sent.append(out)\n",
        "        if out == '[EOS]':\n",
        "            break\n",
        "        out = torch.tensor(word2vec.wv.get_vector(out))\n",
        "    return sent"
      ],
      "metadata": {
        "id": "TD1CX8-MYMZe"
      },
      "execution_count": null,
      "outputs": []
    },
    {
      "cell_type": "code",
      "source": [
        "generate_text(\"в одессе произошли\")"
      ],
      "metadata": {
        "id": "4iE_08ExYOdS"
      },
      "execution_count": null,
      "outputs": []
    },
    {
      "cell_type": "markdown",
      "source": [
        "#LSTM"
      ],
      "metadata": {
        "id": "pHdAAL7Q5Imh"
      }
    },
    {
      "cell_type": "code",
      "source": [
        "class LSTM(nn.Module):\n",
        "    def __init__(self, input_size, hidden_size, out_size):\n",
        "        super().__init__()\n",
        "        self.hidden_size = hidden_size\n",
        "        self.out_size = out_size\n",
        "\n",
        "        self.x2i = nn.Linear(input_size, hidden_size)\n",
        "        self.h2i = nn.Linear(hidden_size, hidden_size, bias=False)\n",
        "        self.p2i = nn.Linear(hidden_size, hidden_size, bias=False)\n",
        "\n",
        "        self.x2f = nn.Linear(input_size, hidden_size)\n",
        "        self.h2f = nn.Linear(hidden_size, hidden_size, bias=False)\n",
        "        self.p2f = nn.Linear(hidden_size, hidden_size, bias=False)\n",
        "\n",
        "        self.x2o = nn.Linear(input_size, hidden_size)\n",
        "        self.h2o = nn.Linear(hidden_size, hidden_size, bias = False)\n",
        "        self.p2o = nn.Linear(hidden_size, hidden_size, bias=False)\n",
        "\n",
        "        self.x2c = nn.Linear(input_size, hidden_size)\n",
        "        self.h2c = nn.Linear(hidden_size, hidden_size, bias = False)\n",
        "\n",
        "        self.h2y = nn.Linear(hidden_size, out_size)\n",
        "\n",
        "        self.sigmoid = nn.Sigmoid()\n",
        "        self.tanh = nn.Tanh()\n",
        "\n",
        "    def forward(self, x, actual_sequence_lens):\n",
        "        # x : (batch_size, seq, input_size)\n",
        "        batch_size = x.size(0)\n",
        "        sequence_size = x.size(1)\n",
        "\n",
        "        out = torch.zeros_like(x).to(device)\n",
        "        hidden = torch.zeros(batch_size, sequence_size + 1, self.hidden_size).to(device)\n",
        "        c = torch.ones(batch_size, self.hidden_size).to(device)\n",
        "        for t in range(sequence_size):\n",
        "            mask = actual_sequence_lens > t\n",
        "            i = self.sigmoid(self.x2i(x[mask, t])+self.h2i(hidden[mask, t-1])+self.p2i(c[mask]))\n",
        "            f = self.sigmoid(self.x2f(x[mask, t])+self.h2f(hidden[mask, t-1])+self.p2f(c[mask]))\n",
        "            o = self.sigmoid(self.x2o(x[mask, t])+self.h2o(hidden[mask, t-1])+self.p2o(c[mask]))\n",
        "            c_ = self.tanh(self.x2c(x[mask, t])+self.h2c(hidden[mask, t-1]))\n",
        "            c[mask] = f * c[mask] + i * c_\n",
        "            hidden[mask, t] = o * c[mask]\n",
        "            out[mask, t] = self.h2y(hidden[mask, t])\n",
        "\n",
        "        return out, hidden, c\n",
        "\n",
        "    @torch.no_grad()\n",
        "    def single_forward(self, x, hidden, c):\n",
        "        i = self.sigmoid(self.x2i(x)+self.h2i(hidden)+self.p2i(c))\n",
        "        f = self.sigmoid(self.x2f(x)+self.h2f(hidden)+self.p2f(c))\n",
        "        o = self.sigmoid(self.x2o(x)+self.h2o(hidden)+self.p2o(c))\n",
        "        c_ = self.tanh(self.x2c(x)+self.h2c(hidden))\n",
        "        c = f * c + i * c_\n",
        "        new_hidden = o * c\n",
        "        out = self.h2y(new_hidden)\n",
        "        return out, new_hidden, c"
      ],
      "metadata": {
        "id": "aO4KcMU8DDl2"
      },
      "execution_count": null,
      "outputs": []
    },
    {
      "cell_type": "code",
      "source": [
        "model = LSTM(input_size = embedding_size, hidden_size = 16 * embedding_size, out_size = embedding_size).to(device)\n",
        "criterion = nn.CosineEmbeddingLoss()\n",
        "optimizer = torch.optim.Adam(model.parameters(), lr=1e-3)"
      ],
      "metadata": {
        "id": "08kCLl3V5Q10"
      },
      "execution_count": null,
      "outputs": []
    },
    {
      "cell_type": "code",
      "source": [
        "num_epochs = 1\n",
        "model.train()\n",
        "losses = []\n",
        "for epoch in range(num_epochs):\n",
        "    for x, sizes in tqdm.tqdm(dataloader):\n",
        "        x = x.to(device)\n",
        "        predictions, *_ = model(x, sizes)\n",
        "        x = x[:,1:,:].reshape(-1, embedding_size)\n",
        "        predictions = predictions[:,:-1,:].reshape(-1, embedding_size)\n",
        "        labels = torch.ones(x.shape[0]).to(device)\n",
        "        loss = criterion(x, predictions, labels)\n",
        "        losses.append(loss.item())\n",
        "        optimizer.zero_grad()\n",
        "        loss.backward()\n",
        "        optimizer.step()"
      ],
      "metadata": {
        "colab": {
          "base_uri": "https://localhost:8080/"
        },
        "id": "xFAyMdsl5XFM",
        "outputId": "1fbe33da-f6ef-454e-f602-2ebcbab533c9"
      },
      "execution_count": null,
      "outputs": [
        {
          "output_type": "stream",
          "name": "stderr",
          "text": [
            "  0%|          | 6/7237 [00:23<8:58:54,  4.47s/it]"
          ]
        }
      ]
    },
    {
      "cell_type": "code",
      "source": [
        "plt.plot(losses)"
      ],
      "metadata": {
        "colab": {
          "base_uri": "https://localhost:8080/",
          "height": 447
        },
        "id": "Wpx17vzm5uGO",
        "outputId": "a2790cba-e9d3-4093-d54e-e7ea33dd0681"
      },
      "execution_count": null,
      "outputs": [
        {
          "output_type": "execute_result",
          "data": {
            "text/plain": [
              "[<matplotlib.lines.Line2D at 0x7904d12aa290>]"
            ]
          },
          "metadata": {},
          "execution_count": 78
        },
        {
          "output_type": "display_data",
          "data": {
            "text/plain": [
              "<Figure size 640x480 with 1 Axes>"
            ],
            "image/png": "[encoded data removed]"
          },
          "metadata": {}
        }
      ]
    },
    {
      "cell_type": "code",
      "source": [
        "def generate_text(promt, max_tokens = 20):\n",
        "    tokens = tokenizer.encode(promt).tokens\n",
        "    sent = tokens\n",
        "    embds = [torch.tensor(word2vec.wv.get_vector(token)) for token in tokens if word2vec.wv.has_index_for(token)]\n",
        "    embds = torch.stack(embds[:-1]).to(device)\n",
        "    out, hidden, c = model(torch.unsqueeze(embds,0), torch.tensor([embds.size(0)]))\n",
        "    out = out[0, -1]\n",
        "    out=word2vec.wv.index_to_key[np.argmin(word2vec.wv.distances(out.detach().cpu().numpy()))]\n",
        "    sent.append(out)\n",
        "    out = torch.tensor(word2vec.wv.get_vector(out)).to(device)\n",
        "    hidden = hidden[0,-1]\n",
        "    c = c[0].to(device)\n",
        "    for i in range(max_tokens):\n",
        "        out, hidden, c = model.single_forward(out, hidden, c)\n",
        "        out=word2vec.wv.index_to_key[np.argmin(word2vec.wv.distances(out.detach().cpu().numpy()))]\n",
        "        sent.append(out)\n",
        "        if out == '[EOS]':\n",
        "            break\n",
        "        out = torch.tensor(word2vec.wv.get_vector(out)).to(device)\n",
        "    return tokenizer.decode([tokenizer.token_to_id(token) for token in sent])"
      ],
      "metadata": {
        "id": "Y4NTjIXe2lCL"
      },
      "execution_count": null,
      "outputs": []
    },
    {
      "cell_type": "code",
      "source": [
        "generate_text(\"Когда\")"
      ],
      "metadata": {
        "colab": {
          "base_uri": "https://localhost:8080/",
          "height": 36
        },
        "id": "5kPKby_e6Grd",
        "outputId": "9ea35f9e-d577-4158-fe37-649f687d4877"
      },
      "execution_count": null,
      "outputs": [
        {
          "output_type": "execute_result",
          "data": {
            "text/plain": [
              "'когда, наверное, вообще, вообще не получается, что реально реально реально, но не получается, что реально реально'"
            ],
            "application/vnd.google.colaboratory.intrinsic+json": {
              "type": "string"
            }
          },
          "metadata": {},
          "execution_count": 95
        }
      ]
    },
    {
      "cell_type": "markdown",
      "source": [
        "# Transformer"
      ],
      "metadata": {
        "id": "ZHpKKfVnElqp"
      }
    },
    {
      "cell_type": "code",
      "source": [
        "from collections import namedtuple\n",
        "\n",
        "\n",
        "class MultiHeadAttention(nn.Module):\n",
        "    def __init__(self, hidden_dimension = 120, n = 10):\n",
        "        super().__init__()\n",
        "        self.hidden_dimension = hidden_dimension\n",
        "        self.n = n\n",
        "        Head = namedtuple(\"Head\", (\"x2q\", \"x2k\", \"x2v\", \"projections\"))\n",
        "        self.heads = [\n",
        "            Head(\n",
        "                nn.Linear(hidden_dimension, hidden_dimension // n, bias = False),\n",
        "                nn.Linear(hidden_dimension, hidden_dimension // n, bias = False),\n",
        "                nn.Linear(hidden_dimension, hidden_dimension // n, bias = False),\n",
        "                nn.Linear(hidden_dimension // n, hidden_dimension, bias = False),\n",
        "            )\n",
        "            for _ in range(n)\n",
        "        ]\n",
        "\n",
        "    def forward(self, x, l):\n",
        "        attentions = []\n",
        "        for i, head in enumerate(self.heads):\n",
        "            a = head.x2q(x) @ head.x2k(x).mT\n",
        "            attention = nn.functional.softmax(a / np.sqrt(self.hidden_dimension), dim=0) @ head.x2v(x)\n",
        "            attention[:,l:,:] = torch.zeros_like(attention[:,l:,:])\n",
        "            attention = head.projections(attention)\n",
        "            attentions.append(attention)\n",
        "        return torch.sum(torch.stack(attentions), dim=0)"
      ],
      "metadata": {
        "id": "Bw6Rjdz6EwGQ"
      },
      "execution_count": null,
      "outputs": []
    },
    {
      "cell_type": "code",
      "source": [
        "net = MultiHeadAttention()\n",
        "x= torch.ones(32,100,120)\n",
        "net(x, 1).shape"
      ],
      "metadata": {
        "colab": {
          "base_uri": "https://localhost:8080/"
        },
        "id": "HKtDuA37VthV",
        "outputId": "30f830d7-ecff-4f8f-a763-d744447dbcf6"
      },
      "execution_count": null,
      "outputs": [
        {
          "output_type": "execute_result",
          "data": {
            "text/plain": [
              "torch.Size([32, 100, 120])"
            ]
          },
          "metadata": {},
          "execution_count": 24
        }
      ]
    },
    {
      "cell_type": "code",
      "source": [
        "class FeedForward(nn.Module):\n",
        "    def __init__(self, input_size, hidden_size):\n",
        "        super().__init__()\n",
        "        self.net = nn.Sequential(\n",
        "            nn.Linear(input_size, hidden_size),\n",
        "            nn.GELU(),\n",
        "            nn.Linear(hidden_size, input_size)\n",
        "        )\n",
        "    def forward(self, x):\n",
        "        return self.net(x)"
      ],
      "metadata": {
        "id": "yerkNbKZgncR"
      },
      "execution_count": null,
      "outputs": []
    },
    {
      "cell_type": "code",
      "source": [
        "class Decoder(nn.Module):\n",
        "    def __init__(self, hidden_dimension = 120, n = 10):\n",
        "        super().__init__()\n",
        "        self.hidden_dimension = hidden_dimension\n",
        "        self.n = n\n",
        "        self.layer_norm1 = nn.LayerNorm(hidden_dimension)\n",
        "        self.multihead = MultiHeadAttention(hidden_dimension, n)\n",
        "        self.layer_norm2 = nn.LayerNorm(hidden_dimension)\n",
        "        self.feed_forward = FeedForward(hidden_dimension, hidden_dimension)\n",
        "\n",
        "    def forward(self, x, l):\n",
        "        x = self.multihead(self.layer_norm1(x), l) + x\n",
        "        x = self.feed_forward(self.layer_norm2(x)) + x\n",
        "        return x"
      ],
      "metadata": {
        "id": "VLCNeRY0ZceD"
      },
      "execution_count": null,
      "outputs": []
    },
    {
      "cell_type": "code",
      "source": [
        "net = Decoder()\n",
        "y = net(x, 2)\n",
        "y.shape"
      ],
      "metadata": {
        "colab": {
          "base_uri": "https://localhost:8080/"
        },
        "id": "WECpg3WQAfd8",
        "outputId": "406146c9-4063-43d5-ab64-d9a71a0a6f0e"
      },
      "execution_count": null,
      "outputs": [
        {
          "output_type": "execute_result",
          "data": {
            "text/plain": [
              "torch.Size([32, 100, 120])"
            ]
          },
          "metadata": {},
          "execution_count": 33
        }
      ]
    },
    {
      "cell_type": "code",
      "source": [
        "class Transformer(nn.Module):\n",
        "    def __init__(self, hidden_dimension = 512, n = 8):\n",
        "        super().__init__()\n",
        "        self.model = nn.Sequential(\n",
        "            Decoder(hidden_dimension, n),\n",
        "            Decoder(hidden_dimension, n),\n",
        "            Decoder(hidden_dimension, n),\n",
        "            Decoder(hidden_dimension, n),\n",
        "            Decoder(hidden_dimension, n),\n",
        "            Decoder(hidden_dimension, n),\n",
        "            Decoder(hidden_dimension, n),\n",
        "            Decoder(hidden_dimension, n),\n",
        "        )\n",
        "\n",
        "    def forward(self, x, actual_sequence_lens):\n",
        "        # x : (batch_size, seq, input_size)\n",
        "        batch_size = x.size(0)\n",
        "        sequence_size = x.size(1)\n",
        "\n",
        "        out = torch.zeros_like(x).to(device)\n",
        "        hidden = torch.zeros(batch_size, sequence_size + 1, self.hidden_size).to(device)\n",
        "        c = torch.ones(batch_size, self.hidden_size).to(device)\n",
        "\n",
        "        self.model(x,l)\n",
        "        for t in range(sequence_size):\n",
        "            mask = actual_sequence_lens > t\n",
        "            i = self.sigmoid(self.x2i(x[mask, t])+self.h2i(hidden[mask, t-1])+self.p2i(c[mask]))\n",
        "            f = self.sigmoid(self.x2f(x[mask, t])+self.h2f(hidden[mask, t-1])+self.p2f(c[mask]))\n",
        "            o = self.sigmoid(self.x2o(x[mask, t])+self.h2o(hidden[mask, t-1])+self.p2o(c[mask]))\n",
        "            c_ = self.tanh(self.x2c(x[mask, t])+self.h2c(hidden[mask, t-1]))\n",
        "            c[mask] = f * c[mask] + i * c_\n",
        "            hidden[mask, t] = o * c[mask]\n",
        "            out[mask, t] = self.h2y(hidden[mask, t])\n",
        "\n",
        "        return out, hidden, c\n",
        "\n",
        "    @torch.no_grad()\n",
        "    def single_forward(self, x, hidden, c):\n",
        "        i = self.sigmoid(self.x2i(x)+self.h2i(hidden)+self.p2i(c))\n",
        "        f = self.sigmoid(self.x2f(x)+self.h2f(hidden)+self.p2f(c))\n",
        "        o = self.sigmoid(self.x2o(x)+self.h2o(hidden)+self.p2o(c))\n",
        "        c_ = self.tanh(self.x2c(x)+self.h2c(hidden))\n",
        "        c = f * c + i * c_\n",
        "        new_hidden = o * c\n",
        "        out = self.h2y(new_hidden)\n",
        "        return out, new_hidden, c"
      ],
      "metadata": {
        "id": "UEYi9yCLElZ9"
      },
      "execution_count": null,
      "outputs": []
    },
    {
      "cell_type": "code",
      "source": [],
      "metadata": {
        "id": "EmSHvb4a6gT4"
      },
      "execution_count": null,
      "outputs": []
    }
  ]
}