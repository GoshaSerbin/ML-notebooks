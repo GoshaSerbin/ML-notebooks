{
  "cells": [
    {
      "cell_type": "markdown",
      "metadata": {
        "id": "b917KanN1lgQ"
      },
      "source": [
        "# Пакеты"
      ]
    },
    {
      "cell_type": "code",
      "execution_count": null,
      "metadata": {
        "id": "f8wb69la1vfZ"
      },
      "outputs": [],
      "source": [
        "# Hugging Face tokenizers\n",
        "from tokenizers import Tokenizer, decoders\n",
        "from tokenizers.models import BPE, WordPiece\n",
        "from tokenizers.pre_tokenizers import Whitespace\n",
        "from tokenizers.normalizers import Lowercase\n",
        "from tokenizers.trainers import BpeTrainer, WordPieceTrainer\n",
        "from tokenizers.processors import TemplateProcessing\n",
        "\n",
        "# Word2vec\n",
        "import gensim\n",
        "from gensim.models import Word2Vec,KeyedVectors\n",
        "\n",
        "# torch\n",
        "import torch\n",
        "from torch import nn\n",
        "from torch.utils.data import DataLoader\n",
        "\n",
        "\n",
        "import pandas as pd\n",
        "from matplotlib import pyplot as plt\n",
        "import numpy as np\n",
        "import tqdm\n",
        "\n",
        "device = torch.device('cuda' if torch.cuda.is_available() else 'cpu')"
      ]
    },
    {
      "cell_type": "markdown",
      "metadata": {
        "id": "BN7qRIVb4fnm"
      },
      "source": [
        "# Получить датасет из kaggle"
      ]
    },
    {
      "cell_type": "code",
      "execution_count": null,
      "metadata": {
        "id": "tcsZW35P4fK1"
      },
      "outputs": [],
      "source": [
        "!mkdir -p ~/.kaggle\n",
        "!echo '{\"username\":\"goshaserbin\",\"key\":\"\"}' > ~/.kaggle/kaggle.json\n",
        "!chmod 600 /root/.kaggle/kaggle.json"
      ]
    },
    {
      "cell_type": "code",
      "execution_count": null,
      "metadata": {
        "colab": {
          "base_uri": "https://localhost:8080/"
        },
        "id": "tQjg0yi4NGqK",
        "outputId": "e44a4a77-070d-4fb4-e7aa-483c7ac5f7a8"
      },
      "outputs": [
        {
          "name": "stdout",
          "output_type": "stream",
          "text": [
            "Downloading movies.zip to /content\n",
            "100% 43.8M/43.8M [00:01<00:00, 40.7MB/s]\n",
            "100% 43.8M/43.8M [00:01<00:00, 33.1MB/s]\n",
            "Archive:  movies.zip\n",
            "  inflating: movies large.csv        \n",
            "  inflating: movies mini.csv         \n",
            "  inflating: movies.csv              \n",
            "  inflating: reviews large.csv       \n",
            "  inflating: reviews mini.csv        \n",
            "  inflating: reviews.csv             \n",
            "  inflating: validation.csv          \n"
          ]
        }
      ],
      "source": [
        "!kaggle datasets download -d goshaserbin/movies\n",
        "!unzip movies"
      ]
    },
    {
      "cell_type": "code",
      "execution_count": null,
      "metadata": {
        "id": "hCQYzq0ZLeax"
      },
      "outputs": [],
      "source": [
        "movie_df = pd.read_csv(\"movies large.csv\")\n",
        "review_df = pd.read_csv(\"reviews large.csv\")"
      ]
    },
    {
      "cell_type": "code",
      "execution_count": null,
      "metadata": {
        "id": "m1O_5TGxkXTU"
      },
      "outputs": [],
      "source": [
        "val_df = pd.read_csv(\"validation.csv\")\n",
        "val_df['movieId'] = pd.merge(val_df, movie_df, left_on='movieName', right_on='name', how='left')['id']"
      ]
    },
    {
      "cell_type": "markdown",
      "metadata": {
        "id": "H6lPHpphekJd"
      },
      "source": [
        "# Анализ данных"
      ]
    },
    {
      "cell_type": "code",
      "execution_count": null,
      "metadata": {
        "colab": {
          "base_uri": "https://localhost:8080/"
        },
        "id": "PmghWr3BeNAQ",
        "outputId": "fa692582-7179-4f57-85b0-0d5cd05b8235"
      },
      "outputs": [
        {
          "data": {
            "text/plain": [
              "2152"
            ]
          },
          "execution_count": 9,
          "metadata": {},
          "output_type": "execute_result"
        }
      ],
      "source": [
        "len(review_df.movieId.unique())"
      ]
    },
    {
      "cell_type": "code",
      "execution_count": null,
      "metadata": {
        "id": "ciqyLEkDMI0i"
      },
      "outputs": [],
      "source": [
        "movie_df"
      ]
    },
    {
      "cell_type": "code",
      "execution_count": null,
      "metadata": {
        "colab": {
          "base_uri": "https://localhost:8080/"
        },
        "id": "XBf0mbpGeruL",
        "outputId": "02f19842-51cc-40cd-9c37-2d7a556ab64a"
      },
      "outputs": [
        {
          "data": {
            "text/html": [
              "\n",
              "  <div id=\"df-5bae2283-52e9-4c90-948c-58b93521933a\" class=\"colab-df-container\">\n",
              "    <div>\n",
              "<style scoped>\n",
              "    .dataframe tbody tr th:only-of-type {\n",
              "        vertical-align: middle;\n",
              "    }\n",
              "\n",
              "    .dataframe tbody tr th {\n",
              "        vertical-align: top;\n",
              "    }\n",
              "\n",
              "    .dataframe thead th {\n",
              "        text-align: right;\n",
              "    }\n",
              "</style>\n",
              "<table border=\"1\" class=\"dataframe\">\n",
              "  <thead>\n",
              "    <tr style=\"text-align: right;\">\n",
              "      <th></th>\n",
              "      <th>id</th>\n",
              "      <th>movieId</th>\n",
              "      <th>title</th>\n",
              "      <th>type</th>\n",
              "      <th>review</th>\n",
              "      <th>author</th>\n",
              "      <th>authorId</th>\n",
              "    </tr>\n",
              "  </thead>\n",
              "  <tbody>\n",
              "    <tr>\n",
              "      <th>0</th>\n",
              "      <td>3324223</td>\n",
              "      <td>326</td>\n",
              "      <td>Главным героем всё это время был не Энди Дюфрейн</td>\n",
              "      <td>Позитивный</td>\n",
              "      <td>Говоря про фильм «Побег из Шоушенка», то я все...</td>\n",
              "      <td>HochuHollywood</td>\n",
              "      <td>1453824.0</td>\n",
              "    </tr>\n",
              "    <tr>\n",
              "      <th>1</th>\n",
              "      <td>3323034</td>\n",
              "      <td>5019944</td>\n",
              "      <td>Даешь работу плутонянининанам! (хе-хе)</td>\n",
              "      <td>Позитивный</td>\n",
              "      <td>Очень понравилась концовка. Очень не понравило...</td>\n",
              "      <td>bluebellaza</td>\n",
              "      <td>1084607.0</td>\n",
              "    </tr>\n",
              "    <tr>\n",
              "      <th>2</th>\n",
              "      <td>3322706</td>\n",
              "      <td>5019944</td>\n",
              "      <td>Новый взгляд на фантастику — Кибердеревня!</td>\n",
              "      <td>Позитивный</td>\n",
              "      <td>Неожиданно классный сериал, сочетающий в себе ...</td>\n",
              "      <td>a.smirnova@creagames.ru</td>\n",
              "      <td>18658956.0</td>\n",
              "    </tr>\n",
              "    <tr>\n",
              "      <th>3</th>\n",
              "      <td>3322405</td>\n",
              "      <td>5019944</td>\n",
              "      <td>Растеряли все полимеры</td>\n",
              "      <td>Нейтральный</td>\n",
              "      <td>Начался сериал бодренько, и серии до пятой я н...</td>\n",
              "      <td>mega-linch</td>\n",
              "      <td>31270117.0</td>\n",
              "    </tr>\n",
              "    <tr>\n",
              "      <th>4</th>\n",
              "      <td>3322252</td>\n",
              "      <td>5019944</td>\n",
              "      <td>Марсианский кукумбер увидел большой экран</td>\n",
              "      <td>Позитивный</td>\n",
              "      <td>Думаю, многие видели короткие ролики, появивши...</td>\n",
              "      <td>barrels-n-bullets</td>\n",
              "      <td>21221018.0</td>\n",
              "    </tr>\n",
              "    <tr>\n",
              "      <th>...</th>\n",
              "      <td>...</td>\n",
              "      <td>...</td>\n",
              "      <td>...</td>\n",
              "      <td>...</td>\n",
              "      <td>...</td>\n",
              "      <td>...</td>\n",
              "      <td>...</td>\n",
              "    </tr>\n",
              "    <tr>\n",
              "      <th>12495</th>\n",
              "      <td>2958066</td>\n",
              "      <td>817509</td>\n",
              "      <td>реально крутой сериал</td>\n",
              "      <td>Позитивный</td>\n",
              "      <td>На самом деле, редко советую кому нормальный с...</td>\n",
              "      <td>Александр Болсуновский - 1520</td>\n",
              "      <td>61330771.0</td>\n",
              "    </tr>\n",
              "    <tr>\n",
              "      <th>12496</th>\n",
              "      <td>2958038</td>\n",
              "      <td>412248</td>\n",
              "      <td>Рецензия на фильм Все умрут, а я останусь</td>\n",
              "      <td>Позитивный</td>\n",
              "      <td>У всех разные ассоциации и воспоминания о школ...</td>\n",
              "      <td>danayassin</td>\n",
              "      <td>65077609.0</td>\n",
              "    </tr>\n",
              "    <tr>\n",
              "      <th>12497</th>\n",
              "      <td>2958010</td>\n",
              "      <td>1190387</td>\n",
              "      <td>Смерть во имя жизни.</td>\n",
              "      <td>Позитивный</td>\n",
              "      <td>Очень странно, что рейтинг настолько низкий. М...</td>\n",
              "      <td>Очарованный_странник</td>\n",
              "      <td>14153751.0</td>\n",
              "    </tr>\n",
              "    <tr>\n",
              "      <th>12498</th>\n",
              "      <td>2957997</td>\n",
              "      <td>412248</td>\n",
              "      <td>Осуждать нельзя, понять</td>\n",
              "      <td>Позитивный</td>\n",
              "      <td>Кажется, что конфликт между родителями и детьм...</td>\n",
              "      <td>Anel Kemeshova</td>\n",
              "      <td>63175641.0</td>\n",
              "    </tr>\n",
              "    <tr>\n",
              "      <th>12499</th>\n",
              "      <td>2957989</td>\n",
              "      <td>933208</td>\n",
              "      <td>Сюжет раскрывает мир</td>\n",
              "      <td>Позитивный</td>\n",
              "      <td>Мало чего приходится ждать от российских блокб...</td>\n",
              "      <td>Елена Вячеславовна Хмельницкая</td>\n",
              "      <td>59159586.0</td>\n",
              "    </tr>\n",
              "  </tbody>\n",
              "</table>\n",
              "<p>12500 rows × 7 columns</p>\n",
              "</div>\n",
              "    <div class=\"colab-df-buttons\">\n",
              "\n",
              "  <div class=\"colab-df-container\">\n",
              "    <button class=\"colab-df-convert\" onclick=\"convertToInteractive('df-5bae2283-52e9-4c90-948c-58b93521933a')\"\n",
              "            title=\"Convert this dataframe to an interactive table.\"\n",
              "            style=\"display:none;\">\n",
              "\n",
              "  <svg xmlns=\"http://www.w3.org/2000/svg\" height=\"24px\" viewBox=\"0 -960 960 960\">\n",
              "    <path d=\"M120-120v-720h720v720H120Zm60-500h600v-160H180v160Zm220 220h160v-160H400v160Zm0 220h160v-160H400v160ZM180-400h160v-160H180v160Zm440 0h160v-160H620v160ZM180-180h160v-160H180v160Zm440 0h160v-160H620v160Z\"/>\n",
              "  </svg>\n",
              "    </button>\n",
              "\n",
              "  <style>\n",
              "    .colab-df-container {\n",
              "      display:flex;\n",
              "      gap: 12px;\n",
              "    }\n",
              "\n",
              "    .colab-df-convert {\n",
              "      background-color: #E8F0FE;\n",
              "      border: none;\n",
              "      border-radius: 50%;\n",
              "      cursor: pointer;\n",
              "      display: none;\n",
              "      fill: #1967D2;\n",
              "      height: 32px;\n",
              "      padding: 0 0 0 0;\n",
              "      width: 32px;\n",
              "    }\n",
              "\n",
              "    .colab-df-convert:hover {\n",
              "      background-color: #E2EBFA;\n",
              "      box-shadow: 0px 1px 2px rgba(60, 64, 67, 0.3), 0px 1px 3px 1px rgba(60, 64, 67, 0.15);\n",
              "      fill: #174EA6;\n",
              "    }\n",
              "\n",
              "    .colab-df-buttons div {\n",
              "      margin-bottom: 4px;\n",
              "    }\n",
              "\n",
              "    [theme=dark] .colab-df-convert {\n",
              "      background-color: #3B4455;\n",
              "      fill: #D2E3FC;\n",
              "    }\n",
              "\n",
              "    [theme=dark] .colab-df-convert:hover {\n",
              "      background-color: #434B5C;\n",
              "      box-shadow: 0px 1px 3px 1px rgba(0, 0, 0, 0.15);\n",
              "      filter: drop-shadow(0px 1px 2px rgba(0, 0, 0, 0.3));\n",
              "      fill: #FFFFFF;\n",
              "    }\n",
              "  </style>\n",
              "\n",
              "    <script>\n",
              "      const buttonEl =\n",
              "        document.querySelector('#df-5bae2283-52e9-4c90-948c-58b93521933a button.colab-df-convert');\n",
              "      buttonEl.style.display =\n",
              "        google.colab.kernel.accessAllowed ? 'block' : 'none';\n",
              "\n",
              "      async function convertToInteractive(key) {\n",
              "        const element = document.querySelector('#df-5bae2283-52e9-4c90-948c-58b93521933a');\n",
              "        const dataTable =\n",
              "          await google.colab.kernel.invokeFunction('convertToInteractive',\n",
              "                                                    [key], {});\n",
              "        if (!dataTable) return;\n",
              "\n",
              "        const docLinkHtml = 'Like what you see? Visit the ' +\n",
              "          '<a target=\"_blank\" href=https://colab.research.google.com/notebooks/data_table.ipynb>data table notebook</a>'\n",
              "          + ' to learn more about interactive tables.';\n",
              "        element.innerHTML = '';\n",
              "        dataTable['output_type'] = 'display_data';\n",
              "        await google.colab.output.renderOutput(dataTable, element);\n",
              "        const docLink = document.createElement('div');\n",
              "        docLink.innerHTML = docLinkHtml;\n",
              "        element.appendChild(docLink);\n",
              "      }\n",
              "    </script>\n",
              "  </div>\n",
              "\n",
              "\n",
              "<div id=\"df-4e09458d-a31e-4042-b2a1-18ac2f3640b0\">\n",
              "  <button class=\"colab-df-quickchart\" onclick=\"quickchart('df-4e09458d-a31e-4042-b2a1-18ac2f3640b0')\"\n",
              "            title=\"Suggest charts\"\n",
              "            style=\"display:none;\">\n",
              "\n",
              "<svg xmlns=\"http://www.w3.org/2000/svg\" height=\"24px\"viewBox=\"0 0 24 24\"\n",
              "     width=\"24px\">\n",
              "    <g>\n",
              "        <path d=\"M19 3H5c-1.1 0-2 .9-2 2v14c0 1.1.9 2 2 2h14c1.1 0 2-.9 2-2V5c0-1.1-.9-2-2-2zM9 17H7v-7h2v7zm4 0h-2V7h2v10zm4 0h-2v-4h2v4z\"/>\n",
              "    </g>\n",
              "</svg>\n",
              "  </button>\n",
              "\n",
              "<style>\n",
              "  .colab-df-quickchart {\n",
              "      --bg-color: #E8F0FE;\n",
              "      --fill-color: #1967D2;\n",
              "      --hover-bg-color: #E2EBFA;\n",
              "      --hover-fill-color: #174EA6;\n",
              "      --disabled-fill-color: #AAA;\n",
              "      --disabled-bg-color: #DDD;\n",
              "  }\n",
              "\n",
              "  [theme=dark] .colab-df-quickchart {\n",
              "      --bg-color: #3B4455;\n",
              "      --fill-color: #D2E3FC;\n",
              "      --hover-bg-color: #434B5C;\n",
              "      --hover-fill-color: #FFFFFF;\n",
              "      --disabled-bg-color: #3B4455;\n",
              "      --disabled-fill-color: #666;\n",
              "  }\n",
              "\n",
              "  .colab-df-quickchart {\n",
              "    background-color: var(--bg-color);\n",
              "    border: none;\n",
              "    border-radius: 50%;\n",
              "    cursor: pointer;\n",
              "    display: none;\n",
              "    fill: var(--fill-color);\n",
              "    height: 32px;\n",
              "    padding: 0;\n",
              "    width: 32px;\n",
              "  }\n",
              "\n",
              "  .colab-df-quickchart:hover {\n",
              "    background-color: var(--hover-bg-color);\n",
              "    box-shadow: 0 1px 2px rgba(60, 64, 67, 0.3), 0 1px 3px 1px rgba(60, 64, 67, 0.15);\n",
              "    fill: var(--button-hover-fill-color);\n",
              "  }\n",
              "\n",
              "  .colab-df-quickchart-complete:disabled,\n",
              "  .colab-df-quickchart-complete:disabled:hover {\n",
              "    background-color: var(--disabled-bg-color);\n",
              "    fill: var(--disabled-fill-color);\n",
              "    box-shadow: none;\n",
              "  }\n",
              "\n",
              "  .colab-df-spinner {\n",
              "    border: 2px solid var(--fill-color);\n",
              "    border-color: transparent;\n",
              "    border-bottom-color: var(--fill-color);\n",
              "    animation:\n",
              "      spin 1s steps(1) infinite;\n",
              "  }\n",
              "\n",
              "  @keyframes spin {\n",
              "    0% {\n",
              "      border-color: transparent;\n",
              "      border-bottom-color: var(--fill-color);\n",
              "      border-left-color: var(--fill-color);\n",
              "    }\n",
              "    20% {\n",
              "      border-color: transparent;\n",
              "      border-left-color: var(--fill-color);\n",
              "      border-top-color: var(--fill-color);\n",
              "    }\n",
              "    30% {\n",
              "      border-color: transparent;\n",
              "      border-left-color: var(--fill-color);\n",
              "      border-top-color: var(--fill-color);\n",
              "      border-right-color: var(--fill-color);\n",
              "    }\n",
              "    40% {\n",
              "      border-color: transparent;\n",
              "      border-right-color: var(--fill-color);\n",
              "      border-top-color: var(--fill-color);\n",
              "    }\n",
              "    60% {\n",
              "      border-color: transparent;\n",
              "      border-right-color: var(--fill-color);\n",
              "    }\n",
              "    80% {\n",
              "      border-color: transparent;\n",
              "      border-right-color: var(--fill-color);\n",
              "      border-bottom-color: var(--fill-color);\n",
              "    }\n",
              "    90% {\n",
              "      border-color: transparent;\n",
              "      border-bottom-color: var(--fill-color);\n",
              "    }\n",
              "  }\n",
              "</style>\n",
              "\n",
              "  <script>\n",
              "    async function quickchart(key) {\n",
              "      const quickchartButtonEl =\n",
              "        document.querySelector('#' + key + ' button');\n",
              "      quickchartButtonEl.disabled = true;  // To prevent multiple clicks.\n",
              "      quickchartButtonEl.classList.add('colab-df-spinner');\n",
              "      try {\n",
              "        const charts = await google.colab.kernel.invokeFunction(\n",
              "            'suggestCharts', [key], {});\n",
              "      } catch (error) {\n",
              "        console.error('Error during call to suggestCharts:', error);\n",
              "      }\n",
              "      quickchartButtonEl.classList.remove('colab-df-spinner');\n",
              "      quickchartButtonEl.classList.add('colab-df-quickchart-complete');\n",
              "    }\n",
              "    (() => {\n",
              "      let quickchartButtonEl =\n",
              "        document.querySelector('#df-4e09458d-a31e-4042-b2a1-18ac2f3640b0 button');\n",
              "      quickchartButtonEl.style.display =\n",
              "        google.colab.kernel.accessAllowed ? 'block' : 'none';\n",
              "    })();\n",
              "  </script>\n",
              "</div>\n",
              "    </div>\n",
              "  </div>\n"
            ],
            "text/plain": [
              "            id  movieId                                             title  \\\n",
              "0      3324223      326  Главным героем всё это время был не Энди Дюфрейн   \n",
              "1      3323034  5019944            Даешь работу плутонянининанам! (хе-хе)   \n",
              "2      3322706  5019944        Новый взгляд на фантастику — Кибердеревня!   \n",
              "3      3322405  5019944                            Растеряли все полимеры   \n",
              "4      3322252  5019944         Марсианский кукумбер увидел большой экран   \n",
              "...        ...      ...                                               ...   \n",
              "12495  2958066   817509                             реально крутой сериал   \n",
              "12496  2958038   412248         Рецензия на фильм Все умрут, а я останусь   \n",
              "12497  2958010  1190387                              Смерть во имя жизни.   \n",
              "12498  2957997   412248                           Осуждать нельзя, понять   \n",
              "12499  2957989   933208                              Сюжет раскрывает мир   \n",
              "\n",
              "              type                                             review  \\\n",
              "0       Позитивный  Говоря про фильм «Побег из Шоушенка», то я все...   \n",
              "1       Позитивный  Очень понравилась концовка. Очень не понравило...   \n",
              "2       Позитивный  Неожиданно классный сериал, сочетающий в себе ...   \n",
              "3      Нейтральный  Начался сериал бодренько, и серии до пятой я н...   \n",
              "4       Позитивный  Думаю, многие видели короткие ролики, появивши...   \n",
              "...            ...                                                ...   \n",
              "12495   Позитивный  На самом деле, редко советую кому нормальный с...   \n",
              "12496   Позитивный  У всех разные ассоциации и воспоминания о школ...   \n",
              "12497   Позитивный  Очень странно, что рейтинг настолько низкий. М...   \n",
              "12498   Позитивный  Кажется, что конфликт между родителями и детьм...   \n",
              "12499   Позитивный  Мало чего приходится ждать от российских блокб...   \n",
              "\n",
              "                               author    authorId  \n",
              "0                      HochuHollywood   1453824.0  \n",
              "1                         bluebellaza   1084607.0  \n",
              "2             a.smirnova@creagames.ru  18658956.0  \n",
              "3                          mega-linch  31270117.0  \n",
              "4                   barrels-n-bullets  21221018.0  \n",
              "...                               ...         ...  \n",
              "12495   Александр Болсуновский - 1520  61330771.0  \n",
              "12496                      danayassin  65077609.0  \n",
              "12497            Очарованный_странник  14153751.0  \n",
              "12498                  Anel Kemeshova  63175641.0  \n",
              "12499  Елена Вячеславовна Хмельницкая  59159586.0  \n",
              "\n",
              "[12500 rows x 7 columns]"
            ]
          },
          "execution_count": 10,
          "metadata": {},
          "output_type": "execute_result"
        }
      ],
      "source": [
        "review_df"
      ]
    },
    {
      "cell_type": "code",
      "execution_count": null,
      "metadata": {
        "colab": {
          "base_uri": "https://localhost:8080/"
        },
        "id": "6O6hDLlqhAJS",
        "outputId": "cd438a88-6b73-4e24-c6de-91436d3d048d"
      },
      "outputs": [
        {
          "data": {
            "text/html": [
              "\n",
              "  <div id=\"df-431e31c9-b009-4fcc-b10b-66cc6682945a\" class=\"colab-df-container\">\n",
              "    <div>\n",
              "<style scoped>\n",
              "    .dataframe tbody tr th:only-of-type {\n",
              "        vertical-align: middle;\n",
              "    }\n",
              "\n",
              "    .dataframe tbody tr th {\n",
              "        vertical-align: top;\n",
              "    }\n",
              "\n",
              "    .dataframe thead th {\n",
              "        text-align: right;\n",
              "    }\n",
              "</style>\n",
              "<table border=\"1\" class=\"dataframe\">\n",
              "  <thead>\n",
              "    <tr style=\"text-align: right;\">\n",
              "      <th></th>\n",
              "      <th>review</th>\n",
              "      <th>movieName</th>\n",
              "      <th>movieId</th>\n",
              "    </tr>\n",
              "  </thead>\n",
              "  <tbody>\n",
              "    <tr>\n",
              "      <th>0</th>\n",
              "      <td>Это аниме повествует об атаке гигантских челов...</td>\n",
              "      <td>Атака титанов</td>\n",
              "      <td>749374</td>\n",
              "    </tr>\n",
              "    <tr>\n",
              "      <th>1</th>\n",
              "      <td>В этом биографическом фильме рассказывается о ...</td>\n",
              "      <td>Богемская рапсодия</td>\n",
              "      <td>568289</td>\n",
              "    </tr>\n",
              "    <tr>\n",
              "      <th>2</th>\n",
              "      <td>История про человека, который решил кардинальн...</td>\n",
              "      <td>Бойцовский клуб</td>\n",
              "      <td>361</td>\n",
              "    </tr>\n",
              "    <tr>\n",
              "      <th>3</th>\n",
              "      <td>Добрый мультик про робота-мусорщика и несерьез...</td>\n",
              "      <td>ВАЛЛ·И</td>\n",
              "      <td>279102</td>\n",
              "    </tr>\n",
              "    <tr>\n",
              "      <th>4</th>\n",
              "      <td>Фильм-биография про брокера. В фильме большое ...</td>\n",
              "      <td>Волк с Уолл-стрит</td>\n",
              "      <td>462682</td>\n",
              "    </tr>\n",
              "    <tr>\n",
              "      <th>5</th>\n",
              "      <td>Фильм по известной серии книг про особенного р...</td>\n",
              "      <td>Гарри Поттер и философский камень</td>\n",
              "      <td>689</td>\n",
              "    </tr>\n",
              "    <tr>\n",
              "      <th>6</th>\n",
              "      <td>Старый фильм по книге Стивена Кинга, в котором...</td>\n",
              "      <td>Зеленая миля</td>\n",
              "      <td>435</td>\n",
              "    </tr>\n",
              "    <tr>\n",
              "      <th>7</th>\n",
              "      <td>В недалеком будущем наша планета стала практич...</td>\n",
              "      <td>Интерстеллар</td>\n",
              "      <td>258687</td>\n",
              "    </tr>\n",
              "    <tr>\n",
              "      <th>8</th>\n",
              "      <td>Фильм по книге. Рассказана история детектива, ...</td>\n",
              "      <td>Остров проклятых</td>\n",
              "      <td>397667</td>\n",
              "    </tr>\n",
              "    <tr>\n",
              "      <th>9</th>\n",
              "      <td>Актер из человека паука в фильме про войну</td>\n",
              "      <td>По соображениям совести</td>\n",
              "      <td>649917</td>\n",
              "    </tr>\n",
              "    <tr>\n",
              "      <th>10</th>\n",
              "      <td>Актер из человека паука помогает бороться прот...</td>\n",
              "      <td>По соображениям совести</td>\n",
              "      <td>649917</td>\n",
              "    </tr>\n",
              "    <tr>\n",
              "      <th>11</th>\n",
              "      <td>Мультик про крысу, которая любила готовить и п...</td>\n",
              "      <td>Рататуй</td>\n",
              "      <td>89514</td>\n",
              "    </tr>\n",
              "    <tr>\n",
              "      <th>12</th>\n",
              "      <td>Супер популярный фильм о затонувшем корабле и ...</td>\n",
              "      <td>Титаник</td>\n",
              "      <td>2213</td>\n",
              "    </tr>\n",
              "    <tr>\n",
              "      <th>13</th>\n",
              "      <td>Мультик про огра, живущего на болоте</td>\n",
              "      <td>Шрэк</td>\n",
              "      <td>430</td>\n",
              "    </tr>\n",
              "    <tr>\n",
              "      <th>14</th>\n",
              "      <td>Ужастик от Стивена Кинга про существо, которое...</td>\n",
              "      <td>Оно</td>\n",
              "      <td>453397</td>\n",
              "    </tr>\n",
              "    <tr>\n",
              "      <th>15</th>\n",
              "      <td>Группа низкорослых людей отправляется в поход,...</td>\n",
              "      <td>Властелин колец: Братство Кольца</td>\n",
              "      <td>328</td>\n",
              "    </tr>\n",
              "    <tr>\n",
              "      <th>16</th>\n",
              "      <td>Очень толстые люди сбегают с Земли, чтобы в ко...</td>\n",
              "      <td>ВАЛЛ·И</td>\n",
              "      <td>279102</td>\n",
              "    </tr>\n",
              "    <tr>\n",
              "      <th>17</th>\n",
              "      <td>Безответственная семья, безответственный ребен...</td>\n",
              "      <td>Один дома</td>\n",
              "      <td>8124</td>\n",
              "    </tr>\n",
              "    <tr>\n",
              "      <th>18</th>\n",
              "      <td>Мизантроп, живущий поодаль от городской суеты ...</td>\n",
              "      <td>Шрэк</td>\n",
              "      <td>430</td>\n",
              "    </tr>\n",
              "    <tr>\n",
              "      <th>19</th>\n",
              "      <td>Фильм про то как после распространение зомби-в...</td>\n",
              "      <td>Я — легенда</td>\n",
              "      <td>195524</td>\n",
              "    </tr>\n",
              "    <tr>\n",
              "      <th>20</th>\n",
              "      <td>Главный герой — мальчик из бедной семьи, наход...</td>\n",
              "      <td>Чарли и шоколадная фабрика</td>\n",
              "      <td>38905</td>\n",
              "    </tr>\n",
              "    <tr>\n",
              "      <th>21</th>\n",
              "      <td>Человек изначально родился старым, а потом с к...</td>\n",
              "      <td>Загадочная история Бенджамина Баттона</td>\n",
              "      <td>81555</td>\n",
              "    </tr>\n",
              "    <tr>\n",
              "      <th>22</th>\n",
              "      <td>Фильм, действие которого происходит во вселенн...</td>\n",
              "      <td>Фантастические твари и где они обитают</td>\n",
              "      <td>797840</td>\n",
              "    </tr>\n",
              "    <tr>\n",
              "      <th>23</th>\n",
              "      <td>Молодой человек хочет стать крутым барабанщико...</td>\n",
              "      <td>Одержимость</td>\n",
              "      <td>725190</td>\n",
              "    </tr>\n",
              "    <tr>\n",
              "      <th>24</th>\n",
              "      <td>Фильм, в котором показана ужасная сторона прин...</td>\n",
              "      <td>Реквием по мечте</td>\n",
              "      <td>23737</td>\n",
              "    </tr>\n",
              "    <tr>\n",
              "      <th>25</th>\n",
              "      <td>Мультик про разговаривающие машины. Главный ге...</td>\n",
              "      <td>Тачки</td>\n",
              "      <td>367</td>\n",
              "    </tr>\n",
              "    <tr>\n",
              "      <th>26</th>\n",
              "      <td>Мамонт, ленивец и саблезубый тигр спасают чело...</td>\n",
              "      <td>Ледниковый период</td>\n",
              "      <td>61249</td>\n",
              "    </tr>\n",
              "    <tr>\n",
              "      <th>27</th>\n",
              "      <td>Мультик про панду, которая оказалась избранной...</td>\n",
              "      <td>Кунг-фу Панда</td>\n",
              "      <td>707</td>\n",
              "    </tr>\n",
              "    <tr>\n",
              "      <th>28</th>\n",
              "      <td>В этом старом советском фильме показаны приклю...</td>\n",
              "      <td>12 стульев</td>\n",
              "      <td>103734</td>\n",
              "    </tr>\n",
              "    <tr>\n",
              "      <th>29</th>\n",
              "      <td>Очень популярный мультик про желтую губку, жив...</td>\n",
              "      <td>Губка Боб квадратные штаны</td>\n",
              "      <td>46789</td>\n",
              "    </tr>\n",
              "    <tr>\n",
              "      <th>30</th>\n",
              "      <td>Мрачный мультик, главный герой, перед своей св...</td>\n",
              "      <td>Труп невесты</td>\n",
              "      <td>77270</td>\n",
              "    </tr>\n",
              "    <tr>\n",
              "      <th>31</th>\n",
              "      <td>У главного героя ножницы вместо рук, в конце ф...</td>\n",
              "      <td>Эдвард руки-ножницы</td>\n",
              "      <td>161268</td>\n",
              "    </tr>\n",
              "    <tr>\n",
              "      <th>32</th>\n",
              "      <td>Фильм, снятый по книге, в котором на землю при...</td>\n",
              "      <td>Война миров</td>\n",
              "      <td>77548</td>\n",
              "    </tr>\n",
              "    <tr>\n",
              "      <th>33</th>\n",
              "      <td>Говорящий рыжий кот, который любит лазанью</td>\n",
              "      <td>Гарфилд</td>\n",
              "      <td>8421</td>\n",
              "    </tr>\n",
              "    <tr>\n",
              "      <th>34</th>\n",
              "      <td>Какой-то ученый воссоздал динозавров по сохран...</td>\n",
              "      <td>Парк Юрского периода</td>\n",
              "      <td>81289</td>\n",
              "    </tr>\n",
              "    <tr>\n",
              "      <th>35</th>\n",
              "      <td>Российский сериал про молодых врачей, который ...</td>\n",
              "      <td>Интерны</td>\n",
              "      <td>8932</td>\n",
              "    </tr>\n",
              "    <tr>\n",
              "      <th>36</th>\n",
              "      <td>Фильм ужасы про то как весь мир накрыл туман, ...</td>\n",
              "      <td>Мгла</td>\n",
              "      <td>7121</td>\n",
              "    </tr>\n",
              "    <tr>\n",
              "      <th>37</th>\n",
              "      <td>Старый добрый советский мультик про людей, кот...</td>\n",
              "      <td>Остров сокровищ</td>\n",
              "      <td>501998</td>\n",
              "    </tr>\n",
              "  </tbody>\n",
              "</table>\n",
              "</div>\n",
              "    <div class=\"colab-df-buttons\">\n",
              "\n",
              "  <div class=\"colab-df-container\">\n",
              "    <button class=\"colab-df-convert\" onclick=\"convertToInteractive('df-431e31c9-b009-4fcc-b10b-66cc6682945a')\"\n",
              "            title=\"Convert this dataframe to an interactive table.\"\n",
              "            style=\"display:none;\">\n",
              "\n",
              "  <svg xmlns=\"http://www.w3.org/2000/svg\" height=\"24px\" viewBox=\"0 -960 960 960\">\n",
              "    <path d=\"M120-120v-720h720v720H120Zm60-500h600v-160H180v160Zm220 220h160v-160H400v160Zm0 220h160v-160H400v160ZM180-400h160v-160H180v160Zm440 0h160v-160H620v160ZM180-180h160v-160H180v160Zm440 0h160v-160H620v160Z\"/>\n",
              "  </svg>\n",
              "    </button>\n",
              "\n",
              "  <style>\n",
              "    .colab-df-container {\n",
              "      display:flex;\n",
              "      gap: 12px;\n",
              "    }\n",
              "\n",
              "    .colab-df-convert {\n",
              "      background-color: #E8F0FE;\n",
              "      border: none;\n",
              "      border-radius: 50%;\n",
              "      cursor: pointer;\n",
              "      display: none;\n",
              "      fill: #1967D2;\n",
              "      height: 32px;\n",
              "      padding: 0 0 0 0;\n",
              "      width: 32px;\n",
              "    }\n",
              "\n",
              "    .colab-df-convert:hover {\n",
              "      background-color: #E2EBFA;\n",
              "      box-shadow: 0px 1px 2px rgba(60, 64, 67, 0.3), 0px 1px 3px 1px rgba(60, 64, 67, 0.15);\n",
              "      fill: #174EA6;\n",
              "    }\n",
              "\n",
              "    .colab-df-buttons div {\n",
              "      margin-bottom: 4px;\n",
              "    }\n",
              "\n",
              "    [theme=dark] .colab-df-convert {\n",
              "      background-color: #3B4455;\n",
              "      fill: #D2E3FC;\n",
              "    }\n",
              "\n",
              "    [theme=dark] .colab-df-convert:hover {\n",
              "      background-color: #434B5C;\n",
              "      box-shadow: 0px 1px 3px 1px rgba(0, 0, 0, 0.15);\n",
              "      filter: drop-shadow(0px 1px 2px rgba(0, 0, 0, 0.3));\n",
              "      fill: #FFFFFF;\n",
              "    }\n",
              "  </style>\n",
              "\n",
              "    <script>\n",
              "      const buttonEl =\n",
              "        document.querySelector('#df-431e31c9-b009-4fcc-b10b-66cc6682945a button.colab-df-convert');\n",
              "      buttonEl.style.display =\n",
              "        google.colab.kernel.accessAllowed ? 'block' : 'none';\n",
              "\n",
              "      async function convertToInteractive(key) {\n",
              "        const element = document.querySelector('#df-431e31c9-b009-4fcc-b10b-66cc6682945a');\n",
              "        const dataTable =\n",
              "          await google.colab.kernel.invokeFunction('convertToInteractive',\n",
              "                                                    [key], {});\n",
              "        if (!dataTable) return;\n",
              "\n",
              "        const docLinkHtml = 'Like what you see? Visit the ' +\n",
              "          '<a target=\"_blank\" href=https://colab.research.google.com/notebooks/data_table.ipynb>data table notebook</a>'\n",
              "          + ' to learn more about interactive tables.';\n",
              "        element.innerHTML = '';\n",
              "        dataTable['output_type'] = 'display_data';\n",
              "        await google.colab.output.renderOutput(dataTable, element);\n",
              "        const docLink = document.createElement('div');\n",
              "        docLink.innerHTML = docLinkHtml;\n",
              "        element.appendChild(docLink);\n",
              "      }\n",
              "    </script>\n",
              "  </div>\n",
              "\n",
              "\n",
              "<div id=\"df-6cfdac2f-e1b1-4ed8-ab30-40f774ea1f2a\">\n",
              "  <button class=\"colab-df-quickchart\" onclick=\"quickchart('df-6cfdac2f-e1b1-4ed8-ab30-40f774ea1f2a')\"\n",
              "            title=\"Suggest charts\"\n",
              "            style=\"display:none;\">\n",
              "\n",
              "<svg xmlns=\"http://www.w3.org/2000/svg\" height=\"24px\"viewBox=\"0 0 24 24\"\n",
              "     width=\"24px\">\n",
              "    <g>\n",
              "        <path d=\"M19 3H5c-1.1 0-2 .9-2 2v14c0 1.1.9 2 2 2h14c1.1 0 2-.9 2-2V5c0-1.1-.9-2-2-2zM9 17H7v-7h2v7zm4 0h-2V7h2v10zm4 0h-2v-4h2v4z\"/>\n",
              "    </g>\n",
              "</svg>\n",
              "  </button>\n",
              "\n",
              "<style>\n",
              "  .colab-df-quickchart {\n",
              "      --bg-color: #E8F0FE;\n",
              "      --fill-color: #1967D2;\n",
              "      --hover-bg-color: #E2EBFA;\n",
              "      --hover-fill-color: #174EA6;\n",
              "      --disabled-fill-color: #AAA;\n",
              "      --disabled-bg-color: #DDD;\n",
              "  }\n",
              "\n",
              "  [theme=dark] .colab-df-quickchart {\n",
              "      --bg-color: #3B4455;\n",
              "      --fill-color: #D2E3FC;\n",
              "      --hover-bg-color: #434B5C;\n",
              "      --hover-fill-color: #FFFFFF;\n",
              "      --disabled-bg-color: #3B4455;\n",
              "      --disabled-fill-color: #666;\n",
              "  }\n",
              "\n",
              "  .colab-df-quickchart {\n",
              "    background-color: var(--bg-color);\n",
              "    border: none;\n",
              "    border-radius: 50%;\n",
              "    cursor: pointer;\n",
              "    display: none;\n",
              "    fill: var(--fill-color);\n",
              "    height: 32px;\n",
              "    padding: 0;\n",
              "    width: 32px;\n",
              "  }\n",
              "\n",
              "  .colab-df-quickchart:hover {\n",
              "    background-color: var(--hover-bg-color);\n",
              "    box-shadow: 0 1px 2px rgba(60, 64, 67, 0.3), 0 1px 3px 1px rgba(60, 64, 67, 0.15);\n",
              "    fill: var(--button-hover-fill-color);\n",
              "  }\n",
              "\n",
              "  .colab-df-quickchart-complete:disabled,\n",
              "  .colab-df-quickchart-complete:disabled:hover {\n",
              "    background-color: var(--disabled-bg-color);\n",
              "    fill: var(--disabled-fill-color);\n",
              "    box-shadow: none;\n",
              "  }\n",
              "\n",
              "  .colab-df-spinner {\n",
              "    border: 2px solid var(--fill-color);\n",
              "    border-color: transparent;\n",
              "    border-bottom-color: var(--fill-color);\n",
              "    animation:\n",
              "      spin 1s steps(1) infinite;\n",
              "  }\n",
              "\n",
              "  @keyframes spin {\n",
              "    0% {\n",
              "      border-color: transparent;\n",
              "      border-bottom-color: var(--fill-color);\n",
              "      border-left-color: var(--fill-color);\n",
              "    }\n",
              "    20% {\n",
              "      border-color: transparent;\n",
              "      border-left-color: var(--fill-color);\n",
              "      border-top-color: var(--fill-color);\n",
              "    }\n",
              "    30% {\n",
              "      border-color: transparent;\n",
              "      border-left-color: var(--fill-color);\n",
              "      border-top-color: var(--fill-color);\n",
              "      border-right-color: var(--fill-color);\n",
              "    }\n",
              "    40% {\n",
              "      border-color: transparent;\n",
              "      border-right-color: var(--fill-color);\n",
              "      border-top-color: var(--fill-color);\n",
              "    }\n",
              "    60% {\n",
              "      border-color: transparent;\n",
              "      border-right-color: var(--fill-color);\n",
              "    }\n",
              "    80% {\n",
              "      border-color: transparent;\n",
              "      border-right-color: var(--fill-color);\n",
              "      border-bottom-color: var(--fill-color);\n",
              "    }\n",
              "    90% {\n",
              "      border-color: transparent;\n",
              "      border-bottom-color: var(--fill-color);\n",
              "    }\n",
              "  }\n",
              "</style>\n",
              "\n",
              "  <script>\n",
              "    async function quickchart(key) {\n",
              "      const quickchartButtonEl =\n",
              "        document.querySelector('#' + key + ' button');\n",
              "      quickchartButtonEl.disabled = true;  // To prevent multiple clicks.\n",
              "      quickchartButtonEl.classList.add('colab-df-spinner');\n",
              "      try {\n",
              "        const charts = await google.colab.kernel.invokeFunction(\n",
              "            'suggestCharts', [key], {});\n",
              "      } catch (error) {\n",
              "        console.error('Error during call to suggestCharts:', error);\n",
              "      }\n",
              "      quickchartButtonEl.classList.remove('colab-df-spinner');\n",
              "      quickchartButtonEl.classList.add('colab-df-quickchart-complete');\n",
              "    }\n",
              "    (() => {\n",
              "      let quickchartButtonEl =\n",
              "        document.querySelector('#df-6cfdac2f-e1b1-4ed8-ab30-40f774ea1f2a button');\n",
              "      quickchartButtonEl.style.display =\n",
              "        google.colab.kernel.accessAllowed ? 'block' : 'none';\n",
              "    })();\n",
              "  </script>\n",
              "</div>\n",
              "    </div>\n",
              "  </div>\n"
            ],
            "text/plain": [
              "                                               review  \\\n",
              "0   Это аниме повествует об атаке гигантских челов...   \n",
              "1   В этом биографическом фильме рассказывается о ...   \n",
              "2   История про человека, который решил кардинальн...   \n",
              "3   Добрый мультик про робота-мусорщика и несерьез...   \n",
              "4   Фильм-биография про брокера. В фильме большое ...   \n",
              "5   Фильм по известной серии книг про особенного р...   \n",
              "6   Старый фильм по книге Стивена Кинга, в котором...   \n",
              "7   В недалеком будущем наша планета стала практич...   \n",
              "8   Фильм по книге. Рассказана история детектива, ...   \n",
              "9          Актер из человека паука в фильме про войну   \n",
              "10  Актер из человека паука помогает бороться прот...   \n",
              "11  Мультик про крысу, которая любила готовить и п...   \n",
              "12  Супер популярный фильм о затонувшем корабле и ...   \n",
              "13               Мультик про огра, живущего на болоте   \n",
              "14  Ужастик от Стивена Кинга про существо, которое...   \n",
              "15  Группа низкорослых людей отправляется в поход,...   \n",
              "16  Очень толстые люди сбегают с Земли, чтобы в ко...   \n",
              "17  Безответственная семья, безответственный ребен...   \n",
              "18  Мизантроп, живущий поодаль от городской суеты ...   \n",
              "19  Фильм про то как после распространение зомби-в...   \n",
              "20  Главный герой — мальчик из бедной семьи, наход...   \n",
              "21  Человек изначально родился старым, а потом с к...   \n",
              "22  Фильм, действие которого происходит во вселенн...   \n",
              "23  Молодой человек хочет стать крутым барабанщико...   \n",
              "24  Фильм, в котором показана ужасная сторона прин...   \n",
              "25  Мультик про разговаривающие машины. Главный ге...   \n",
              "26  Мамонт, ленивец и саблезубый тигр спасают чело...   \n",
              "27  Мультик про панду, которая оказалась избранной...   \n",
              "28  В этом старом советском фильме показаны приклю...   \n",
              "29  Очень популярный мультик про желтую губку, жив...   \n",
              "30  Мрачный мультик, главный герой, перед своей св...   \n",
              "31  У главного героя ножницы вместо рук, в конце ф...   \n",
              "32  Фильм, снятый по книге, в котором на землю при...   \n",
              "33         Говорящий рыжий кот, который любит лазанью   \n",
              "34  Какой-то ученый воссоздал динозавров по сохран...   \n",
              "35  Российский сериал про молодых врачей, который ...   \n",
              "36  Фильм ужасы про то как весь мир накрыл туман, ...   \n",
              "37  Старый добрый советский мультик про людей, кот...   \n",
              "\n",
              "                                 movieName  movieId  \n",
              "0                            Атака титанов   749374  \n",
              "1                       Богемская рапсодия   568289  \n",
              "2                          Бойцовский клуб      361  \n",
              "3                                   ВАЛЛ·И   279102  \n",
              "4                        Волк с Уолл-стрит   462682  \n",
              "5        Гарри Поттер и философский камень      689  \n",
              "6                             Зеленая миля      435  \n",
              "7                             Интерстеллар   258687  \n",
              "8                         Остров проклятых   397667  \n",
              "9                  По соображениям совести   649917  \n",
              "10                 По соображениям совести   649917  \n",
              "11                                 Рататуй    89514  \n",
              "12                                 Титаник     2213  \n",
              "13                                    Шрэк      430  \n",
              "14                                     Оно   453397  \n",
              "15        Властелин колец: Братство Кольца      328  \n",
              "16                                  ВАЛЛ·И   279102  \n",
              "17                               Один дома     8124  \n",
              "18                                    Шрэк      430  \n",
              "19                             Я — легенда   195524  \n",
              "20              Чарли и шоколадная фабрика    38905  \n",
              "21   Загадочная история Бенджамина Баттона    81555  \n",
              "22  Фантастические твари и где они обитают   797840  \n",
              "23                             Одержимость   725190  \n",
              "24                        Реквием по мечте    23737  \n",
              "25                                   Тачки      367  \n",
              "26                       Ледниковый период    61249  \n",
              "27                           Кунг-фу Панда      707  \n",
              "28                              12 стульев   103734  \n",
              "29              Губка Боб квадратные штаны    46789  \n",
              "30                            Труп невесты    77270  \n",
              "31                     Эдвард руки-ножницы   161268  \n",
              "32                             Война миров    77548  \n",
              "33                                 Гарфилд     8421  \n",
              "34                    Парк Юрского периода    81289  \n",
              "35                                 Интерны     8932  \n",
              "36                                    Мгла     7121  \n",
              "37                         Остров сокровищ   501998  "
            ]
          },
          "execution_count": 11,
          "metadata": {},
          "output_type": "execute_result"
        }
      ],
      "source": [
        "val_df"
      ]
    },
    {
      "cell_type": "code",
      "execution_count": null,
      "metadata": {
        "colab": {
          "base_uri": "https://localhost:8080/"
        },
        "id": "fd0n2kk_wZME",
        "outputId": "caa97135-f71c-4c59-c1a2-40901269b42e"
      },
      "outputs": [
        {
          "name": "stdout",
          "output_type": "stream",
          "text": [
            "1+1\n",
            "Пострадав в результате несчастного случая, богатый аристократ Филипп нанимает в помощники человека, который менее всего подходит для этой работы, – молодого жителя предместья Дрисса, только что освободившегося из тюрьмы. Несмотря на то, что Филипп прикован к инвалидному креслу, Дриссу удается привнести в размеренную жизнь аристократа дух приключений.\n",
            "Аристократ на коляске нанимает в сиделки бывшего заключенного. Искрометная французская комедия с Омаром Си\n"
          ]
        }
      ],
      "source": [
        "index = 0\n",
        "print(movie_df.name[index])\n",
        "print(movie_df.description[index])\n",
        "print(movie_df.shortDescription[index])"
      ]
    },
    {
      "cell_type": "code",
      "execution_count": null,
      "metadata": {
        "colab": {
          "base_uri": "https://localhost:8080/"
        },
        "id": "q6GvuSUsyatu",
        "outputId": "8cecf27d-26a6-48f7-cb07-6ee8525690fb"
      },
      "outputs": [
        {
          "data": {
            "application/vnd.google.colaboratory.intrinsic+json": {
              "type": "string"
            },
            "text/plain": [
              "'С уверенностью могу сказать, что это один из самых лучших фильмов современного кинематографа. Потрясающая история дружбы, которая проходит через время, боль, утрату, препятствия, но все равно сохраняет свою теплоту и доверие.  Клевый сюжет, который так или иначе затрагивает тему социального и финансового неравенства. Яркие актеры, лучезарный Идрис не оставляет равнодушным. Фильм ярко демонстрирует, что ни смотря ни на что, даже казалось бы непоправимые обстоятельства, наше счастье зависит от нас самих, а так же от тех людей, которых мы выбрали себе в окружение.  Обычный человек может быть спасательным кругом в той или иной жизненной ситуации. Важное иметь таких людей и платить верностью, заботой и любовью. Здорово, что фильм снят на основе реальных событий-это заставляет верить в добро и маленькое волшебство.  Элементы роскошной жизни (дорогие автомобили, частные самолёты, классические концерты музыки) так же цепляют. Но так же фильм отражает мысль, что не все купишь за деньги. И сколько бы их не было-важное оставаться самим собой, сохраняя в себе человеческое достоинство и доброту.  Считаю его современной классикой, поэтому обязательно к просмотру.'"
            ]
          },
          "execution_count": 13,
          "metadata": {},
          "output_type": "execute_result"
        }
      ],
      "source": [
        "review_df[review_df.movieId == movie_df.id[index]].review.values[0]"
      ]
    },
    {
      "cell_type": "code",
      "execution_count": null,
      "metadata": {
        "colab": {
          "base_uri": "https://localhost:8080/"
        },
        "id": "il2um4mpuHDv",
        "outputId": "31644883-13b9-47c3-b6d5-eb8cd810ac69"
      },
      "outputs": [
        {
          "data": {
            "image/png": "[encoded data removed]",
            "text/plain": [
              "<Figure size 640x480 with 1 Axes>"
            ]
          },
          "metadata": {},
          "output_type": "display_data"
        }
      ],
      "source": [
        "plt.hist(movie_df.description.str.len(), alpha=0.5, label='description')\n",
        "plt.hist(movie_df.shortDescription.str.len(), alpha=0.5, label='shortDescription', bins = 5)\n",
        "plt.xlabel('symbols')\n",
        "plt.title('hist')\n",
        "plt.legend(loc='upper right')\n",
        "plt.show()"
      ]
    },
    {
      "cell_type": "code",
      "execution_count": null,
      "metadata": {
        "colab": {
          "base_uri": "https://localhost:8080/"
        },
        "id": "qmM3blbvgqw6",
        "outputId": "e3992435-50c7-4815-e12f-7c7904aa4325"
      },
      "outputs": [
        {
          "data": {
            "image/png": "[encoded data removed]",
            "text/plain": [
              "<Figure size 640x480 with 1 Axes>"
            ]
          },
          "metadata": {},
          "output_type": "display_data"
        }
      ],
      "source": [
        "movie_df.description.apply(lambda text: len(str(text).rstrip(\".\").split(\".\"))).hist(alpha=0.5, label='description')\n",
        "movie_df.shortDescription.apply(lambda text: len(str(text).rstrip(\".\").split(\".\"))).hist(alpha=0.5, label='shortDescription', bins = 5)\n",
        "plt.xlabel('sentences')\n",
        "plt.title('hist')\n",
        "plt.legend(loc='upper right')\n",
        "plt.show()"
      ]
    },
    {
      "cell_type": "code",
      "execution_count": null,
      "metadata": {
        "colab": {
          "base_uri": "https://localhost:8080/"
        },
        "id": "i25h0HM0f3Rj",
        "outputId": "1d6e2caa-75b6-4885-d9ba-69a9e0c83394"
      },
      "outputs": [
        {
          "data": {
            "image/png": "[encoded data removed]",
            "text/plain": [
              "<Figure size 640x480 with 1 Axes>"
            ]
          },
          "metadata": {},
          "output_type": "display_data"
        }
      ],
      "source": [
        "review_df.review.str.len().hist(bins=20)\n",
        "plt.xlabel('symbols')\n",
        "plt.title('hist')\n",
        "plt.show()"
      ]
    },
    {
      "cell_type": "code",
      "execution_count": null,
      "metadata": {
        "colab": {
          "base_uri": "https://localhost:8080/"
        },
        "id": "XVqLehk8v7vR",
        "outputId": "7640d1f1-5a0e-4796-fc9d-679d42e7d728"
      },
      "outputs": [
        {
          "data": {
            "image/png": "[encoded data removed]",
            "text/plain": [
              "<Figure size 640x480 with 1 Axes>"
            ]
          },
          "metadata": {},
          "output_type": "display_data"
        }
      ],
      "source": [
        "review_df.review.apply(lambda text: len(str(text).rstrip(\".\").split(\".\"))).hist(alpha=0.5, label='description',bins=20)\n",
        "plt.xlabel('sentences')\n",
        "plt.title('hist')\n",
        "plt.show()"
      ]
    },
    {
      "cell_type": "markdown",
      "metadata": {
        "id": "zL5STlrM2pIP"
      },
      "source": [
        "# Токенизатор"
      ]
    },
    {
      "cell_type": "code",
      "execution_count": null,
      "metadata": {
        "id": "NG_6Rpae2omG"
      },
      "outputs": [],
      "source": [
        "tokenizer = Tokenizer(WordPiece(unk_token=\"[UNK]\"))\n",
        "trainer = WordPieceTrainer(special_tokens=[\"[UNK]\"])\n",
        "tokenizer.pre_tokenizer = Whitespace()\n",
        "tokenizer.normalizer = Lowercase()"
      ]
    },
    {
      "cell_type": "code",
      "execution_count": null,
      "metadata": {
        "id": "N3_Mg6v72_Mm"
      },
      "outputs": [],
      "source": [
        "tokenizer.train_from_iterator(review_df.review.values, trainer=trainer)\n",
        "tokenizer.decoder = decoders.WordPiece()"
      ]
    },
    {
      "cell_type": "code",
      "execution_count": null,
      "metadata": {
        "colab": {
          "base_uri": "https://localhost:8080/"
        },
        "id": "mwhLJ-R52_D_",
        "outputId": "db5a5aca-9707-42fa-e09e-4683a56e6edd"
      },
      "outputs": [
        {
          "data": {
            "text/plain": [
              "30000"
            ]
          },
          "execution_count": 20,
          "metadata": {},
          "output_type": "execute_result"
        }
      ],
      "source": [
        "vocab_size = tokenizer.get_vocab_size()\n",
        "vocab_size"
      ]
    },
    {
      "cell_type": "code",
      "execution_count": null,
      "metadata": {
        "id": "XSNQt0e93nxm"
      },
      "outputs": [],
      "source": [
        "tokenized_review = [text.tokens for text in tokenizer.encode_batch(review_df.review.values)]\n",
        "tokenized_shortDescription = [text.tokens for text in tokenizer.encode_batch(movie_df.description.values)]\n",
        "tokenized_description = [text.tokens for text in tokenizer.encode_batch(movie_df.shortDescription.values)]"
      ]
    },
    {
      "cell_type": "markdown",
      "metadata": {
        "id": "zlPzV3p24YuA"
      },
      "source": [
        "# Word2Vec Embedding"
      ]
    },
    {
      "cell_type": "code",
      "execution_count": null,
      "metadata": {
        "id": "bfzrXT384bGM"
      },
      "outputs": [],
      "source": [
        "embedding_size = 512\n",
        "word2vec = gensim.models.Word2Vec(\n",
        "    tokenized_review,\n",
        "    vector_size=embedding_size,\n",
        "    epochs = 3,\n",
        "    min_count=1,\n",
        "    window = 6,\n",
        "    shrink_windows = 1,\n",
        "\n",
        ")"
      ]
    },
    {
      "cell_type": "code",
      "execution_count": null,
      "metadata": {
        "colab": {
          "base_uri": "https://localhost:8080/"
        },
        "id": "qL0qqcw_4kLv",
        "outputId": "ad8f27fe-670b-450c-aff4-997df139a1fb"
      },
      "outputs": [
        {
          "data": {
            "text/plain": [
              "[('девочка', 0.9284723997116089),\n",
              " ('девушка', 0.9112789034843445),\n",
              " ('молодая', 0.8025418519973755),\n",
              " ('мама', 0.7888116240501404),\n",
              " ('героиня', 0.7851748466491699),\n",
              " ('мать', 0.7847239971160889),\n",
              " ('наша', 0.7730816006660461),\n",
              " ('семья', 0.7658632397651672),\n",
              " ('маленькая', 0.7630724906921387),\n",
              " ('подруга', 0.7525051236152649)]"
            ]
          },
          "execution_count": 23,
          "metadata": {},
          "output_type": "execute_result"
        }
      ],
      "source": [
        "word2vec.wv.most_similar('женщина')"
      ]
    },
    {
      "cell_type": "markdown",
      "metadata": {
        "id": "MstxADA45I2F"
      },
      "source": [
        "# Dataset"
      ]
    },
    {
      "cell_type": "code",
      "execution_count": null,
      "metadata": {
        "colab": {
          "base_uri": "https://localhost:8080/"
        },
        "id": "XmzEuJoZIh1d",
        "outputId": "de187500-5753-4432-d24f-ea5d81f9a4f4"
      },
      "outputs": [
        {
          "name": "stderr",
          "output_type": "stream",
          "text": [
            "[nltk_data] Downloading package punkt to /root/nltk_data...\n",
            "[nltk_data]   Package punkt is already up-to-date!\n",
            "100%|██████████| 12500/12500 [00:10<00:00, 1137.31it/s]\n"
          ]
        }
      ],
      "source": [
        "import nltk\n",
        "nltk.download('punkt')\n",
        "\n",
        "def split_review(review, limit = 3):\n",
        "    # определяем количество предложений в обзоре\n",
        "    sentences = nltk.sent_tokenize(review)\n",
        "    num_sentences = len(sentences)\n",
        "\n",
        "    # если количество предложений меньше или равно 10, то возвращаем исходный обзор\n",
        "    if num_sentences <= limit:\n",
        "        return [review]\n",
        "\n",
        "    # иначе разбиваем обзор на несколько частей (не больше 10 предложений в каждой)\n",
        "    split_reviews = []\n",
        "    for i in range(0, num_sentences, limit):\n",
        "        split_review = ' '.join(sentences[i:i+limit])\n",
        "        split_reviews.append(split_review)\n",
        "\n",
        "    return split_reviews\n",
        "\n",
        "movieIds = []\n",
        "reviews = []\n",
        "\n",
        "# проходим по каждой строке и разбиваем обзоры, у которых длина больше 10 предложений\n",
        "for index, row in tqdm.tqdm(review_df.iterrows(),total = len(review_df)):\n",
        "    split_reviews = split_review(row['review'])\n",
        "\n",
        "    # добавляем новые строки в новый датафрейм\n",
        "    for review in split_reviews:\n",
        "        movieIds.append(row['movieId'])\n",
        "        reviews.append(review)\n",
        "short_review_df = pd.DataFrame({'movieId' : movieIds, 'review' : reviews})\n"
      ]
    },
    {
      "cell_type": "code",
      "execution_count": null,
      "metadata": {
        "colab": {
          "base_uri": "https://localhost:8080/",
          "height": 423
        },
        "id": "7KVRHXcmOn2T",
        "outputId": "0fb1ad6e-196a-4bc4-c4eb-86bd5034c063"
      },
      "outputs": [
        {
          "data": {
            "text/html": [
              "\n",
              "  <div id=\"df-b58112e9-7fcf-4c76-863c-9036bc5f22c2\" class=\"colab-df-container\">\n",
              "    <div>\n",
              "<style scoped>\n",
              "    .dataframe tbody tr th:only-of-type {\n",
              "        vertical-align: middle;\n",
              "    }\n",
              "\n",
              "    .dataframe tbody tr th {\n",
              "        vertical-align: top;\n",
              "    }\n",
              "\n",
              "    .dataframe thead th {\n",
              "        text-align: right;\n",
              "    }\n",
              "</style>\n",
              "<table border=\"1\" class=\"dataframe\">\n",
              "  <thead>\n",
              "    <tr style=\"text-align: right;\">\n",
              "      <th></th>\n",
              "      <th>movieId</th>\n",
              "      <th>review</th>\n",
              "    </tr>\n",
              "  </thead>\n",
              "  <tbody>\n",
              "    <tr>\n",
              "      <th>0</th>\n",
              "      <td>326</td>\n",
              "      <td>Говоря про фильм «Побег из Шоушенка», то я все...</td>\n",
              "    </tr>\n",
              "    <tr>\n",
              "      <th>1</th>\n",
              "      <td>326</td>\n",
              "      <td>Это точно история Эллиса Бойда Реддинга, тем б...</td>\n",
              "    </tr>\n",
              "    <tr>\n",
              "      <th>2</th>\n",
              "      <td>5019944</td>\n",
              "      <td>Очень понравилась концовка. Очень не понравило...</td>\n",
              "    </tr>\n",
              "    <tr>\n",
              "      <th>3</th>\n",
              "      <td>5019944</td>\n",
              "      <td>Поэтому я первые серии просто изнывала от того...</td>\n",
              "    </tr>\n",
              "    <tr>\n",
              "      <th>4</th>\n",
              "      <td>5019944</td>\n",
              "      <td>Поэтому я страшно скучала, мечтая об ином угле...</td>\n",
              "    </tr>\n",
              "    <tr>\n",
              "      <th>...</th>\n",
              "      <td>...</td>\n",
              "      <td>...</td>\n",
              "    </tr>\n",
              "    <tr>\n",
              "      <th>116731</th>\n",
              "      <td>933208</td>\n",
              "      <td>Постарались, кстати, не только сценаристы и ак...</td>\n",
              "    </tr>\n",
              "    <tr>\n",
              "      <th>116732</th>\n",
              "      <td>933208</td>\n",
              "      <td>Особенно хочу отметить то, как команде проекта...</td>\n",
              "    </tr>\n",
              "    <tr>\n",
              "      <th>116733</th>\n",
              "      <td>933208</td>\n",
              "      <td>Тут речь не о том, кто добрый, а кто не очень....</td>\n",
              "    </tr>\n",
              "    <tr>\n",
              "      <th>116734</th>\n",
              "      <td>933208</td>\n",
              "      <td>Мне нравятся фильмы про отряды, команды и груп...</td>\n",
              "    </tr>\n",
              "    <tr>\n",
              "      <th>116735</th>\n",
              "      <td>933208</td>\n",
              "      <td>Именно эта деталь, думаю, и является ядром фил...</td>\n",
              "    </tr>\n",
              "  </tbody>\n",
              "</table>\n",
              "<p>116736 rows × 2 columns</p>\n",
              "</div>\n",
              "    <div class=\"colab-df-buttons\">\n",
              "\n",
              "  <div class=\"colab-df-container\">\n",
              "    <button class=\"colab-df-convert\" onclick=\"convertToInteractive('df-b58112e9-7fcf-4c76-863c-9036bc5f22c2')\"\n",
              "            title=\"Convert this dataframe to an interactive table.\"\n",
              "            style=\"display:none;\">\n",
              "\n",
              "  <svg xmlns=\"http://www.w3.org/2000/svg\" height=\"24px\" viewBox=\"0 -960 960 960\">\n",
              "    <path d=\"M120-120v-720h720v720H120Zm60-500h600v-160H180v160Zm220 220h160v-160H400v160Zm0 220h160v-160H400v160ZM180-400h160v-160H180v160Zm440 0h160v-160H620v160ZM180-180h160v-160H180v160Zm440 0h160v-160H620v160Z\"/>\n",
              "  </svg>\n",
              "    </button>\n",
              "\n",
              "  <style>\n",
              "    .colab-df-container {\n",
              "      display:flex;\n",
              "      gap: 12px;\n",
              "    }\n",
              "\n",
              "    .colab-df-convert {\n",
              "      background-color: #E8F0FE;\n",
              "      border: none;\n",
              "      border-radius: 50%;\n",
              "      cursor: pointer;\n",
              "      display: none;\n",
              "      fill: #1967D2;\n",
              "      height: 32px;\n",
              "      padding: 0 0 0 0;\n",
              "      width: 32px;\n",
              "    }\n",
              "\n",
              "    .colab-df-convert:hover {\n",
              "      background-color: #E2EBFA;\n",
              "      box-shadow: 0px 1px 2px rgba(60, 64, 67, 0.3), 0px 1px 3px 1px rgba(60, 64, 67, 0.15);\n",
              "      fill: #174EA6;\n",
              "    }\n",
              "\n",
              "    .colab-df-buttons div {\n",
              "      margin-bottom: 4px;\n",
              "    }\n",
              "\n",
              "    [theme=dark] .colab-df-convert {\n",
              "      background-color: #3B4455;\n",
              "      fill: #D2E3FC;\n",
              "    }\n",
              "\n",
              "    [theme=dark] .colab-df-convert:hover {\n",
              "      background-color: #434B5C;\n",
              "      box-shadow: 0px 1px 3px 1px rgba(0, 0, 0, 0.15);\n",
              "      filter: drop-shadow(0px 1px 2px rgba(0, 0, 0, 0.3));\n",
              "      fill: #FFFFFF;\n",
              "    }\n",
              "  </style>\n",
              "\n",
              "    <script>\n",
              "      const buttonEl =\n",
              "        document.querySelector('#df-b58112e9-7fcf-4c76-863c-9036bc5f22c2 button.colab-df-convert');\n",
              "      buttonEl.style.display =\n",
              "        google.colab.kernel.accessAllowed ? 'block' : 'none';\n",
              "\n",
              "      async function convertToInteractive(key) {\n",
              "        const element = document.querySelector('#df-b58112e9-7fcf-4c76-863c-9036bc5f22c2');\n",
              "        const dataTable =\n",
              "          await google.colab.kernel.invokeFunction('convertToInteractive',\n",
              "                                                    [key], {});\n",
              "        if (!dataTable) return;\n",
              "\n",
              "        const docLinkHtml = 'Like what you see? Visit the ' +\n",
              "          '<a target=\"_blank\" href=https://colab.research.google.com/notebooks/data_table.ipynb>data table notebook</a>'\n",
              "          + ' to learn more about interactive tables.';\n",
              "        element.innerHTML = '';\n",
              "        dataTable['output_type'] = 'display_data';\n",
              "        await google.colab.output.renderOutput(dataTable, element);\n",
              "        const docLink = document.createElement('div');\n",
              "        docLink.innerHTML = docLinkHtml;\n",
              "        element.appendChild(docLink);\n",
              "      }\n",
              "    </script>\n",
              "  </div>\n",
              "\n",
              "\n",
              "<div id=\"df-5cf1244b-52b1-4ca0-9f0b-01cfe76a0ae9\">\n",
              "  <button class=\"colab-df-quickchart\" onclick=\"quickchart('df-5cf1244b-52b1-4ca0-9f0b-01cfe76a0ae9')\"\n",
              "            title=\"Suggest charts\"\n",
              "            style=\"display:none;\">\n",
              "\n",
              "<svg xmlns=\"http://www.w3.org/2000/svg\" height=\"24px\"viewBox=\"0 0 24 24\"\n",
              "     width=\"24px\">\n",
              "    <g>\n",
              "        <path d=\"M19 3H5c-1.1 0-2 .9-2 2v14c0 1.1.9 2 2 2h14c1.1 0 2-.9 2-2V5c0-1.1-.9-2-2-2zM9 17H7v-7h2v7zm4 0h-2V7h2v10zm4 0h-2v-4h2v4z\"/>\n",
              "    </g>\n",
              "</svg>\n",
              "  </button>\n",
              "\n",
              "<style>\n",
              "  .colab-df-quickchart {\n",
              "      --bg-color: #E8F0FE;\n",
              "      --fill-color: #1967D2;\n",
              "      --hover-bg-color: #E2EBFA;\n",
              "      --hover-fill-color: #174EA6;\n",
              "      --disabled-fill-color: #AAA;\n",
              "      --disabled-bg-color: #DDD;\n",
              "  }\n",
              "\n",
              "  [theme=dark] .colab-df-quickchart {\n",
              "      --bg-color: #3B4455;\n",
              "      --fill-color: #D2E3FC;\n",
              "      --hover-bg-color: #434B5C;\n",
              "      --hover-fill-color: #FFFFFF;\n",
              "      --disabled-bg-color: #3B4455;\n",
              "      --disabled-fill-color: #666;\n",
              "  }\n",
              "\n",
              "  .colab-df-quickchart {\n",
              "    background-color: var(--bg-color);\n",
              "    border: none;\n",
              "    border-radius: 50%;\n",
              "    cursor: pointer;\n",
              "    display: none;\n",
              "    fill: var(--fill-color);\n",
              "    height: 32px;\n",
              "    padding: 0;\n",
              "    width: 32px;\n",
              "  }\n",
              "\n",
              "  .colab-df-quickchart:hover {\n",
              "    background-color: var(--hover-bg-color);\n",
              "    box-shadow: 0 1px 2px rgba(60, 64, 67, 0.3), 0 1px 3px 1px rgba(60, 64, 67, 0.15);\n",
              "    fill: var(--button-hover-fill-color);\n",
              "  }\n",
              "\n",
              "  .colab-df-quickchart-complete:disabled,\n",
              "  .colab-df-quickchart-complete:disabled:hover {\n",
              "    background-color: var(--disabled-bg-color);\n",
              "    fill: var(--disabled-fill-color);\n",
              "    box-shadow: none;\n",
              "  }\n",
              "\n",
              "  .colab-df-spinner {\n",
              "    border: 2px solid var(--fill-color);\n",
              "    border-color: transparent;\n",
              "    border-bottom-color: var(--fill-color);\n",
              "    animation:\n",
              "      spin 1s steps(1) infinite;\n",
              "  }\n",
              "\n",
              "  @keyframes spin {\n",
              "    0% {\n",
              "      border-color: transparent;\n",
              "      border-bottom-color: var(--fill-color);\n",
              "      border-left-color: var(--fill-color);\n",
              "    }\n",
              "    20% {\n",
              "      border-color: transparent;\n",
              "      border-left-color: var(--fill-color);\n",
              "      border-top-color: var(--fill-color);\n",
              "    }\n",
              "    30% {\n",
              "      border-color: transparent;\n",
              "      border-left-color: var(--fill-color);\n",
              "      border-top-color: var(--fill-color);\n",
              "      border-right-color: var(--fill-color);\n",
              "    }\n",
              "    40% {\n",
              "      border-color: transparent;\n",
              "      border-right-color: var(--fill-color);\n",
              "      border-top-color: var(--fill-color);\n",
              "    }\n",
              "    60% {\n",
              "      border-color: transparent;\n",
              "      border-right-color: var(--fill-color);\n",
              "    }\n",
              "    80% {\n",
              "      border-color: transparent;\n",
              "      border-right-color: var(--fill-color);\n",
              "      border-bottom-color: var(--fill-color);\n",
              "    }\n",
              "    90% {\n",
              "      border-color: transparent;\n",
              "      border-bottom-color: var(--fill-color);\n",
              "    }\n",
              "  }\n",
              "</style>\n",
              "\n",
              "  <script>\n",
              "    async function quickchart(key) {\n",
              "      const quickchartButtonEl =\n",
              "        document.querySelector('#' + key + ' button');\n",
              "      quickchartButtonEl.disabled = true;  // To prevent multiple clicks.\n",
              "      quickchartButtonEl.classList.add('colab-df-spinner');\n",
              "      try {\n",
              "        const charts = await google.colab.kernel.invokeFunction(\n",
              "            'suggestCharts', [key], {});\n",
              "      } catch (error) {\n",
              "        console.error('Error during call to suggestCharts:', error);\n",
              "      }\n",
              "      quickchartButtonEl.classList.remove('colab-df-spinner');\n",
              "      quickchartButtonEl.classList.add('colab-df-quickchart-complete');\n",
              "    }\n",
              "    (() => {\n",
              "      let quickchartButtonEl =\n",
              "        document.querySelector('#df-5cf1244b-52b1-4ca0-9f0b-01cfe76a0ae9 button');\n",
              "      quickchartButtonEl.style.display =\n",
              "        google.colab.kernel.accessAllowed ? 'block' : 'none';\n",
              "    })();\n",
              "  </script>\n",
              "</div>\n",
              "    </div>\n",
              "  </div>\n"
            ],
            "text/plain": [
              "        movieId                                             review\n",
              "0           326  Говоря про фильм «Побег из Шоушенка», то я все...\n",
              "1           326  Это точно история Эллиса Бойда Реддинга, тем б...\n",
              "2       5019944  Очень понравилась концовка. Очень не понравило...\n",
              "3       5019944  Поэтому я первые серии просто изнывала от того...\n",
              "4       5019944  Поэтому я страшно скучала, мечтая об ином угле...\n",
              "...         ...                                                ...\n",
              "116731   933208  Постарались, кстати, не только сценаристы и ак...\n",
              "116732   933208  Особенно хочу отметить то, как команде проекта...\n",
              "116733   933208  Тут речь не о том, кто добрый, а кто не очень....\n",
              "116734   933208  Мне нравятся фильмы про отряды, команды и груп...\n",
              "116735   933208  Именно эта деталь, думаю, и является ядром фил...\n",
              "\n",
              "[116736 rows x 2 columns]"
            ]
          },
          "execution_count": 174,
          "metadata": {},
          "output_type": "execute_result"
        }
      ],
      "source": [
        "short_review_df"
      ]
    },
    {
      "cell_type": "code",
      "execution_count": null,
      "metadata": {
        "id": "m8JpU9bVOnwW"
      },
      "outputs": [],
      "source": [
        "tokenized_short_review = [text.tokens for text in tokenizer.encode_batch(short_review_df.review.values)]"
      ]
    },
    {
      "cell_type": "code",
      "execution_count": null,
      "metadata": {
        "id": "xKwad-Z95KTU"
      },
      "outputs": [],
      "source": [
        "class TextDataset(torch.utils.data.Dataset):\n",
        "    def __init__(self):\n",
        "        self.tokenized_texts = tokenized_short_review\n",
        "\n",
        "    def __len__(self):\n",
        "        return len(self.tokenized_texts)\n",
        "\n",
        "    def __getitem__(self, idx):\n",
        "        positive_tokens = [word2vec.wv.get_vector(token) for token in self.tokenized_texts[idx]]\n",
        "\n",
        "        movieId = short_review_df.iloc[idx].movieId\n",
        "        movie_index = movie_df[movie_df.id == movieId].index[0]\n",
        "        anchor_tokens = [word2vec.wv.get_vector(token) for token in tokenized_shortDescription[movie_index] if word2vec.wv.has_index_for(token)]\n",
        "\n",
        "        negative_index = np.random.choice(movie_df[movie_df.id != movieId].index.values)\n",
        "        negative_tokens = [word2vec.wv.get_vector(token) for token in tokenized_shortDescription[negative_index] if word2vec.wv.has_index_for(token)]\n",
        "\n",
        "        return {\n",
        "                'anchor' : torch.tensor(np.stack(anchor_tokens)),\n",
        "                'positive' : torch.tensor(np.stack(positive_tokens)),\n",
        "                'negative' : torch.tensor(np.stack(negative_tokens)),\n",
        "            }\n",
        "\n",
        "\n",
        "\n",
        "dataset = TextDataset()"
      ]
    },
    {
      "cell_type": "code",
      "execution_count": null,
      "metadata": {
        "id": "19-VCzOqeB8t"
      },
      "outputs": [],
      "source": [
        "class SentenceLengthBatchSampler:\n",
        "    def __init__(self, data_source, batch_size):\n",
        "        self.data_source = data_source\n",
        "        self.batch_size = batch_size\n",
        "        self.sorted_indices = np.argsort([10000000*len(x['anchor'])+ 10000 * len(x['positive']) + len(x['negative']) for x in data_source])\n",
        "\n",
        "    def __iter__(self):\n",
        "        batches = []\n",
        "        batch = []\n",
        "        for idx in self.sorted_indices:\n",
        "            batch.append(idx)\n",
        "            if len(batch) == self.batch_size:\n",
        "                batches.append(batch)\n",
        "                batch = []\n",
        "        if len(batch) > 0:\n",
        "            batches.append(batch)\n",
        "        np.random.shuffle(batches)\n",
        "        return iter(batches)\n",
        "\n",
        "    def __len__(self):\n",
        "        return len(self.data_source) // self.batch_size\n",
        "\n",
        "\n",
        "batch_sampler = SentenceLengthBatchSampler(dataset, batch_size=100)"
      ]
    },
    {
      "cell_type": "code",
      "execution_count": null,
      "metadata": {
        "id": "NCX8yX5CjC-s"
      },
      "outputs": [],
      "source": [
        "def collate_fn(batch):\n",
        "    anchor_sizes = torch.tensor([t['anchor'].size(0) for t in batch]).to(device)\n",
        "    pos_sizes = torch.tensor([t['positive'].size(0) for t in batch]).to(device)\n",
        "    neg_sizes = torch.tensor([t['negative'].size(0) for t in batch]).to(device)\n",
        "    vector_size = batch[0]['anchor'].size()[1:]\n",
        "    new_batch = {\n",
        "        'anchor' : torch.zeros(len(batch), torch.max(anchor_sizes), *vector_size),\n",
        "        'positive' : torch.zeros(len(batch),  torch.max(pos_sizes), *vector_size),\n",
        "        'negative' : torch.zeros(len(batch),  torch.max(neg_sizes), *vector_size),\n",
        "    }\n",
        "\n",
        "    for i, t in enumerate(batch):\n",
        "        new_batch['anchor'][i, :anchor_sizes[i]] = t['anchor']\n",
        "        new_batch['positive'][i, :pos_sizes[i]] = t['positive']\n",
        "        new_batch['negative'][i, :neg_sizes[i]] = t['negative']\n",
        "    return {'anchor' : (new_batch['anchor'].to(device),anchor_sizes),\n",
        "            'positive': (new_batch['positive'].to(device),pos_sizes),\n",
        "            'negative': (new_batch['negative'].to(device),neg_sizes),\n",
        "            }\n",
        "\n",
        "dataloader = DataLoader(dataset, batch_sampler=batch_sampler, collate_fn = collate_fn)"
      ]
    },
    {
      "cell_type": "markdown",
      "metadata": {
        "id": "YbL_vGxWPsLu"
      },
      "source": [
        " # Triplet Loss"
      ]
    },
    {
      "cell_type": "code",
      "execution_count": null,
      "metadata": {
        "id": "mqn6CXXFlEYr"
      },
      "outputs": [],
      "source": [
        "class RNN(nn.Module):\n",
        "    def __init__(self, input_size, hidden_size, out_size):\n",
        "        super().__init__()\n",
        "        self.hidden_size = hidden_size\n",
        "        self.out_size = out_size\n",
        "\n",
        "        self.x2h = nn.Linear(input_size, hidden_size, bias=False)\n",
        "        self.h2h = nn.Linear(hidden_size, hidden_size, bias=False)\n",
        "        self.h2y = nn.Linear(hidden_size, out_size, bias = False)\n",
        "        self.f = nn.Tanh()\n",
        "\n",
        "    def forward(self, x, actual_sequence_lens):\n",
        "        # x : (batch_size, seq, input_size)\n",
        "        batch_size = x.size(0)\n",
        "        sequence_size = x.size(1)\n",
        "\n",
        "        out = torch.zeros(batch_size,sequence_size, self.out_size).to(device)\n",
        "        hidden = torch.zeros(batch_size, sequence_size + 1, self.hidden_size).to(device)\n",
        "        for t in range(sequence_size):\n",
        "            mask = actual_sequence_lens > t\n",
        "            hidden[mask, t] = self.f(self.h2h(hidden[mask, t-1]) + self.x2h(x[mask, t]))\n",
        "            out[mask, t] = self.h2y(hidden[mask, t])\n",
        "\n",
        "        return out, hidden\n",
        "\n",
        "    @torch.no_grad()\n",
        "    def single_forward(self, x, hidden):\n",
        "        new_hidden = self.f(self.h2h(hidden) + self.x2h(x))\n",
        "        out = self.h2y(new_hidden)\n",
        "        return out, new_hidden"
      ]
    },
    {
      "cell_type": "code",
      "execution_count": null,
      "metadata": {
        "id": "qxqKYcMr-pQR"
      },
      "outputs": [],
      "source": [
        "class LSTM(nn.Module):\n",
        "    def __init__(self, input_size, hidden_size, out_size):\n",
        "        super().__init__()\n",
        "        self.hidden_size = hidden_size\n",
        "        self.out_size = out_size\n",
        "\n",
        "        self.x2i = nn.Linear(input_size, hidden_size)\n",
        "        self.h2i = nn.Linear(hidden_size, hidden_size, bias=False)\n",
        "        self.p2i = nn.Linear(hidden_size, hidden_size, bias=False)\n",
        "\n",
        "        self.x2f = nn.Linear(input_size, hidden_size)\n",
        "        self.h2f = nn.Linear(hidden_size, hidden_size, bias=False)\n",
        "        self.p2f = nn.Linear(hidden_size, hidden_size, bias=False)\n",
        "\n",
        "        self.x2o = nn.Linear(input_size, hidden_size)\n",
        "        self.h2o = nn.Linear(hidden_size, hidden_size, bias = False)\n",
        "        self.p2o = nn.Linear(hidden_size, hidden_size, bias=False)\n",
        "\n",
        "        self.x2c = nn.Linear(input_size, hidden_size)\n",
        "        self.h2c = nn.Linear(hidden_size, hidden_size, bias = False)\n",
        "\n",
        "        self.h2y = nn.Linear(hidden_size, out_size)\n",
        "\n",
        "        self.sigmoid = nn.Sigmoid()\n",
        "        self.tanh = nn.Tanh()\n",
        "\n",
        "    def forward(self, x, actual_sequence_lens):\n",
        "        # x : (batch_size, seq, input_size)\n",
        "        batch_size = x.size(0)\n",
        "        sequence_size = x.size(1)\n",
        "\n",
        "        out = torch.zeros_like(x).to(device)\n",
        "        hidden = torch.zeros(batch_size, sequence_size + 1, self.hidden_size).to(device)\n",
        "        c = torch.ones(batch_size, self.hidden_size).to(device)\n",
        "        for t in range(sequence_size):\n",
        "            mask = actual_sequence_lens > t\n",
        "            i = self.sigmoid(self.x2i(x[mask, t])+self.h2i(hidden[mask, t-1])+self.p2i(c[mask]))\n",
        "            f = self.sigmoid(self.x2f(x[mask, t])+self.h2f(hidden[mask, t-1])+self.p2f(c[mask]))\n",
        "            o = self.sigmoid(self.x2o(x[mask, t])+self.h2o(hidden[mask, t-1])+self.p2o(c[mask]))\n",
        "            c_ = self.tanh(self.x2c(x[mask, t])+self.h2c(hidden[mask, t-1]))\n",
        "            c[mask] = f * c[mask] + i * c_\n",
        "            hidden[mask, t] = o * c[mask]\n",
        "            out[mask, t] = self.h2y(hidden[mask, t])\n",
        "\n",
        "        return out, hidden\n",
        "\n",
        "    @torch.no_grad()\n",
        "    def single_forward(self, x, hidden, c):\n",
        "        i = self.sigmoid(self.x2i(x)+self.h2i(hidden)+self.p2i(c))\n",
        "        f = self.sigmoid(self.x2f(x)+self.h2f(hidden)+self.p2f(c))\n",
        "        o = self.sigmoid(self.x2o(x)+self.h2o(hidden)+self.p2o(c))\n",
        "        c_ = self.tanh(self.x2c(x)+self.h2c(hidden))\n",
        "        c = f * c + i * c_\n",
        "        new_hidden = o * c\n",
        "        out = self.h2y(new_hidden)\n",
        "        return out, new_hidden"
      ]
    },
    {
      "cell_type": "code",
      "execution_count": null,
      "metadata": {
        "id": "Jz76rt4Nlbbp"
      },
      "outputs": [],
      "source": [
        "# model = RNN(input_size = embedding_size, hidden_size = 4 * embedding_size, out_size = embedding_size).to(device)\n",
        "model = LSTM(input_size = embedding_size, hidden_size = 4 * embedding_size, out_size = embedding_size).to(device)"
      ]
    },
    {
      "cell_type": "code",
      "execution_count": null,
      "metadata": {
        "id": "QZVPCwH9mefC"
      },
      "outputs": [],
      "source": [
        "class TripletLoss(nn.Module):\n",
        "    def __init__(self, margin=1.0):\n",
        "        super(TripletLoss, self).__init__()\n",
        "        self.margin = margin\n",
        "\n",
        "    def forward(self, anchor, positive, negative):\n",
        "        # вычисляем расстояния между anchor и positive\n",
        "        pos_dist = torch.sum((anchor - positive) ** 2, dim=1)\n",
        "        # вычисляем расстояния между anchor и negative\n",
        "        neg_dist = torch.sum((anchor - negative) ** 2, dim=1)\n",
        "        # вычисляем разницу между расстояниями и добавляем margin\n",
        "        loss = torch.clamp(pos_dist - neg_dist + self.margin, min=0.0)\n",
        "        # усредняем по батчу\n",
        "        loss = torch.mean(loss)\n",
        "        return loss"
      ]
    },
    {
      "cell_type": "code",
      "execution_count": null,
      "metadata": {
        "id": "Vem6035UnpUu"
      },
      "outputs": [],
      "source": [
        "criterion = TripletLoss()\n",
        "optimizer = torch.optim.Adam(model.parameters(),lr=1e-4)"
      ]
    },
    {
      "cell_type": "code",
      "execution_count": null,
      "metadata": {
        "colab": {
          "base_uri": "https://localhost:8080/",
          "height": 1000
        },
        "id": "A8LIUCL3nuor",
        "outputId": "6bedc147-737a-4cbe-ae86-eebb473b331d"
      },
      "outputs": [
        {
          "name": "stdout",
          "output_type": "stream",
          "text": [
            "1.3751187324523926\n",
            "1.062268853187561\n",
            "0.9937022924423218\n",
            "1.0302735567092896\n",
            "1.114687204360962\n",
            "0.9236009120941162\n",
            "1.0316495895385742\n",
            "1.1680501699447632\n",
            "0.9043231010437012\n",
            "0.8140391111373901\n",
            "0.9436739087104797\n",
            "0.8852713704109192\n",
            "0.809345543384552\n",
            "0.8821678757667542\n",
            "0.9800962805747986\n",
            "0.836603045463562\n",
            "0.95984947681427\n",
            "0.8250250220298767\n",
            "1.0709704160690308\n",
            "0.8350936770439148\n",
            "1.004398226737976\n",
            "0.8677142858505249\n",
            "0.9613505601882935\n",
            "0.8586573004722595\n",
            "0.8520945310592651\n",
            "0.7609959840774536\n",
            "0.958389937877655\n",
            "0.9272708892822266\n",
            "0.7990262508392334\n",
            "0.8257604837417603\n",
            "0.8313899636268616\n",
            "0.7706518173217773\n",
            "0.7993806004524231\n",
            "0.826384425163269\n",
            "0.6777464151382446\n",
            "0.9037438035011292\n",
            "0.8388001322746277\n",
            "0.6814776659011841\n",
            "0.9829091429710388\n",
            "0.9027935862541199\n",
            "0.8278566002845764\n",
            "0.8802501559257507\n",
            "0.8320311307907104\n",
            "0.7414631247520447\n",
            "0.864338219165802\n",
            "0.7537029981613159\n",
            "0.6966772079467773\n",
            "0.7336061000823975\n",
            "0.8284457325935364\n",
            "0.9396876096725464\n",
            "0.8341618180274963\n",
            "0.6211491823196411\n",
            "0.9028214812278748\n",
            "0.7511798143386841\n",
            "0.8925080895423889\n",
            "0.7456277012825012\n",
            "0.8047535419464111\n",
            "0.71761155128479\n",
            "0.8335791826248169\n",
            "0.7345512509346008\n",
            "0.7148444056510925\n",
            "0.8876223564147949\n",
            "0.83674156665802\n",
            "0.8408082127571106\n",
            "0.7298470735549927\n",
            "0.6532576084136963\n",
            "0.8427559733390808\n",
            "0.8098588585853577\n",
            "0.7545907497406006\n",
            "0.8212125897407532\n",
            "0.7195196151733398\n",
            "0.7119497656822205\n",
            "0.5989289283752441\n",
            "0.5722652077674866\n",
            "0.6560971140861511\n",
            "0.7952413558959961\n",
            "1.0131901502609253\n",
            "0.6243038773536682\n",
            "0.944737434387207\n",
            "0.773219645023346\n",
            "0.5502445697784424\n",
            "0.7760874629020691\n",
            "0.6704311966896057\n",
            "0.8014167547225952\n",
            "0.7574463486671448\n",
            "0.7982652187347412\n",
            "0.7574283480644226\n",
            "0.8489563465118408\n",
            "0.658230721950531\n",
            "0.7727482318878174\n",
            "0.6963014006614685\n",
            "0.6059470772743225\n",
            "0.7972847819328308\n",
            "0.7035447359085083\n",
            "0.8157902956008911\n",
            "0.6886776089668274\n",
            "0.6669524908065796\n",
            "0.6760903596878052\n",
            "0.6999244689941406\n",
            "0.5559006333351135\n",
            "0.7007327675819397\n",
            "0.7756451368331909\n",
            "0.6991177797317505\n",
            "0.6702494621276855\n",
            "0.8896411061286926\n",
            "0.6761185526847839\n",
            "0.7400477528572083\n",
            "0.7493186593055725\n",
            "0.6246516108512878\n",
            "0.7642309665679932\n",
            "0.8415191173553467\n",
            "0.7519147992134094\n",
            "0.7281239032745361\n",
            "0.6763456463813782\n",
            "0.5812351703643799\n",
            "0.6128800511360168\n",
            "0.519467830657959\n",
            "0.5209943056106567\n",
            "0.7394131422042847\n",
            "0.6957859396934509\n",
            "0.647827684879303\n",
            "0.6981945633888245\n",
            "0.7869563102722168\n",
            "0.6939566135406494\n",
            "0.7991628050804138\n",
            "0.7887853980064392\n",
            "0.7115679979324341\n",
            "0.7682821750640869\n",
            "0.5157455205917358\n",
            "0.49147844314575195\n",
            "0.7308067083358765\n",
            "0.6927596926689148\n",
            "0.5806771516799927\n",
            "0.5594727396965027\n",
            "0.7742584347724915\n",
            "0.8030118346214294\n",
            "0.4859454333782196\n",
            "0.6208520531654358\n",
            "0.7315639853477478\n",
            "0.6024545431137085\n",
            "0.5337464213371277\n",
            "0.6598665714263916\n",
            "0.7111733555793762\n",
            "0.6915896534919739\n",
            "0.7157987952232361\n",
            "0.7534921169281006\n",
            "0.7183427214622498\n",
            "0.8789770603179932\n",
            "0.4571821987628937\n",
            "0.8009138107299805\n",
            "0.7307987809181213\n",
            "0.714489221572876\n",
            "0.650957465171814\n",
            "0.7882568836212158\n",
            "0.5769609212875366\n",
            "0.6751818656921387\n",
            "0.6790300607681274\n",
            "0.673439621925354\n",
            "0.6237062811851501\n",
            "0.5712558031082153\n",
            "0.5779998898506165\n",
            "0.6337486505508423\n",
            "0.6472310423851013\n",
            "0.635748028755188\n",
            "0.6620225310325623\n",
            "0.5091548562049866\n",
            "0.5482118725776672\n",
            "0.5153922438621521\n",
            "0.5252115726470947\n",
            "0.59969562292099\n",
            "0.6155399084091187\n",
            "0.8110561370849609\n",
            "0.9247655272483826\n",
            "0.6223287582397461\n",
            "0.6539539694786072\n",
            "0.5896372199058533\n",
            "0.7832955718040466\n",
            "0.6027287244796753\n",
            "0.7460601925849915\n",
            "0.5333237648010254\n",
            "0.5471599698066711\n",
            "0.6371340155601501\n",
            "0.5146232843399048\n",
            "0.6114857196807861\n",
            "0.6063587069511414\n",
            "0.6400860548019409\n",
            "0.7867620587348938\n",
            "0.9778386950492859\n",
            "0.6240012049674988\n",
            "0.5248255729675293\n",
            "0.5442599654197693\n",
            "334.9513244628906\n",
            "0.7088058590888977\n",
            "0.6961643099784851\n",
            "0.7253028154373169\n",
            "0.5798506736755371\n",
            "0.46603941917419434\n",
            "11.41169261932373\n",
            "0.634940505027771\n",
            "0.444139689207077\n",
            "0.9206299185752869\n",
            "0.7501276731491089\n",
            "0.6752555966377258\n",
            "0.6096228361129761\n",
            "0.6273043751716614\n",
            "0.8603037595748901\n",
            "0.6713210344314575\n",
            "0.7127287983894348\n",
            "0.7160996198654175\n",
            "0.624206006526947\n",
            "0.5982175469398499\n",
            "0.7934470772743225\n",
            "0.8537480235099792\n",
            "0.6928552389144897\n",
            "0.7303265929222107\n",
            "0.7056310772895813\n",
            "0.6623470187187195\n",
            "0.7095217108726501\n",
            "0.8239144682884216\n",
            "0.7083595395088196\n"
          ]
        },
        {
          "ename": "KeyboardInterrupt",
          "evalue": "ignored",
          "output_type": "error",
          "traceback": [
            "\u001b[0;31m---------------------------------------------------------------------------\u001b[0m",
            "\u001b[0;31mKeyboardInterrupt\u001b[0m                         Traceback (most recent call last)",
            "\u001b[0;32m<ipython-input-185-4215c1ba4dd7>\u001b[0m in \u001b[0;36m<cell line: 4>\u001b[0;34m()\u001b[0m\n\u001b[1;32m     29\u001b[0m         \u001b[0mloss\u001b[0m \u001b[0;34m=\u001b[0m \u001b[0mcriterion\u001b[0m\u001b[0;34m(\u001b[0m\u001b[0manchor\u001b[0m\u001b[0;34m,\u001b[0m \u001b[0mpositive\u001b[0m\u001b[0;34m,\u001b[0m \u001b[0mnegative\u001b[0m\u001b[0;34m)\u001b[0m\u001b[0;34m\u001b[0m\u001b[0;34m\u001b[0m\u001b[0m\n\u001b[1;32m     30\u001b[0m         \u001b[0moptimizer\u001b[0m\u001b[0;34m.\u001b[0m\u001b[0mzero_grad\u001b[0m\u001b[0;34m(\u001b[0m\u001b[0;34m)\u001b[0m\u001b[0;34m\u001b[0m\u001b[0;34m\u001b[0m\u001b[0m\n\u001b[0;32m---> 31\u001b[0;31m         \u001b[0mloss\u001b[0m\u001b[0;34m.\u001b[0m\u001b[0mbackward\u001b[0m\u001b[0;34m(\u001b[0m\u001b[0;34m)\u001b[0m\u001b[0;34m\u001b[0m\u001b[0;34m\u001b[0m\u001b[0m\n\u001b[0m\u001b[1;32m     32\u001b[0m         \u001b[0moptimizer\u001b[0m\u001b[0;34m.\u001b[0m\u001b[0mstep\u001b[0m\u001b[0;34m(\u001b[0m\u001b[0;34m)\u001b[0m\u001b[0;34m\u001b[0m\u001b[0;34m\u001b[0m\u001b[0m\n\u001b[1;32m     33\u001b[0m         \u001b[0mprint\u001b[0m\u001b[0;34m(\u001b[0m\u001b[0mloss\u001b[0m\u001b[0;34m.\u001b[0m\u001b[0mitem\u001b[0m\u001b[0;34m(\u001b[0m\u001b[0;34m)\u001b[0m\u001b[0;34m)\u001b[0m\u001b[0;34m\u001b[0m\u001b[0;34m\u001b[0m\u001b[0m\n",
            "\u001b[0;32m/usr/local/lib/python3.10/dist-packages/torch/_tensor.py\u001b[0m in \u001b[0;36mbackward\u001b[0;34m(self, gradient, retain_graph, create_graph, inputs)\u001b[0m\n\u001b[1;32m    490\u001b[0m                 \u001b[0minputs\u001b[0m\u001b[0;34m=\u001b[0m\u001b[0minputs\u001b[0m\u001b[0;34m,\u001b[0m\u001b[0;34m\u001b[0m\u001b[0;34m\u001b[0m\u001b[0m\n\u001b[1;32m    491\u001b[0m             )\n\u001b[0;32m--> 492\u001b[0;31m         torch.autograd.backward(\n\u001b[0m\u001b[1;32m    493\u001b[0m             \u001b[0mself\u001b[0m\u001b[0;34m,\u001b[0m \u001b[0mgradient\u001b[0m\u001b[0;34m,\u001b[0m \u001b[0mretain_graph\u001b[0m\u001b[0;34m,\u001b[0m \u001b[0mcreate_graph\u001b[0m\u001b[0;34m,\u001b[0m \u001b[0minputs\u001b[0m\u001b[0;34m=\u001b[0m\u001b[0minputs\u001b[0m\u001b[0;34m\u001b[0m\u001b[0;34m\u001b[0m\u001b[0m\n\u001b[1;32m    494\u001b[0m         )\n",
            "\u001b[0;32m/usr/local/lib/python3.10/dist-packages/torch/autograd/__init__.py\u001b[0m in \u001b[0;36mbackward\u001b[0;34m(tensors, grad_tensors, retain_graph, create_graph, grad_variables, inputs)\u001b[0m\n\u001b[1;32m    249\u001b[0m     \u001b[0;31m# some Python versions print out the first line of a multi-line function\u001b[0m\u001b[0;34m\u001b[0m\u001b[0;34m\u001b[0m\u001b[0m\n\u001b[1;32m    250\u001b[0m     \u001b[0;31m# calls in the traceback and some print out the last line\u001b[0m\u001b[0;34m\u001b[0m\u001b[0;34m\u001b[0m\u001b[0m\n\u001b[0;32m--> 251\u001b[0;31m     Variable._execution_engine.run_backward(  # Calls into the C++ engine to run the backward pass\n\u001b[0m\u001b[1;32m    252\u001b[0m         \u001b[0mtensors\u001b[0m\u001b[0;34m,\u001b[0m\u001b[0;34m\u001b[0m\u001b[0;34m\u001b[0m\u001b[0m\n\u001b[1;32m    253\u001b[0m         \u001b[0mgrad_tensors_\u001b[0m\u001b[0;34m,\u001b[0m\u001b[0;34m\u001b[0m\u001b[0;34m\u001b[0m\u001b[0m\n",
            "\u001b[0;31mKeyboardInterrupt\u001b[0m: "
          ]
        }
      ],
      "source": [
        "num_epochs = 1\n",
        "model.train()\n",
        "losses = []\n",
        "for epoch in range(num_epochs):\n",
        "    for x in dataloader:\n",
        "\n",
        "        input, sizes = x['anchor']\n",
        "        anchor = model(input, sizes)[0]\n",
        "        mask = torch.zeros_like(anchor).to(device)\n",
        "        for i, size in enumerate(sizes):\n",
        "            mask[i, size-1, :] = 1\n",
        "        anchor = torch.masked_select(anchor, mask.bool()).view(sizes.size(0), anchor.size(2))\n",
        "\n",
        "        input, sizes = x['positive']\n",
        "        positive = model(input, sizes)[0]\n",
        "        mask = torch.zeros_like(positive).to(device)\n",
        "        for i, size in enumerate(sizes):\n",
        "            mask[i, size-1, :] = 1\n",
        "        positive = torch.masked_select(positive, mask.bool()).view(sizes.size(0), positive.size(2))\n",
        "\n",
        "        input, sizes = x['negative']\n",
        "        negative = model(input, sizes)[0]\n",
        "        mask = torch.zeros_like(negative).to(device)\n",
        "        for i, size in enumerate(sizes):\n",
        "            mask[i, size-1, :] = 1\n",
        "        negative = torch.masked_select(negative, mask.bool()).view(sizes.size(0), negative.size(2))\n",
        "\n",
        "        # вычисление loss и обновление параметров\n",
        "        loss = criterion(anchor, positive, negative)\n",
        "        optimizer.zero_grad()\n",
        "        loss.backward()\n",
        "        optimizer.step()\n",
        "        print(loss.item())\n",
        "        losses.append(loss.item())\n",
        "\n",
        "    print('Epoch: {}, Loss: {}'.format(epoch+1, loss.item()))"
      ]
    },
    {
      "cell_type": "code",
      "execution_count": null,
      "metadata": {
        "colab": {
          "base_uri": "https://localhost:8080/"
        },
        "id": "cZAZhYPyogO8",
        "outputId": "16688393-01ab-460b-f6b4-114920e6f5e3"
      },
      "outputs": [
        {
          "data": {
            "text/plain": [
              "197"
            ]
          },
          "execution_count": 197,
          "metadata": {},
          "output_type": "execute_result"
        }
      ],
      "source": [
        "np.argmax(losses)"
      ]
    },
    {
      "cell_type": "code",
      "execution_count": null,
      "metadata": {
        "id": "H_COVu6soji_"
      },
      "outputs": [],
      "source": [
        "losses[197] = 0"
      ]
    },
    {
      "cell_type": "code",
      "execution_count": null,
      "metadata": {
        "colab": {
          "base_uri": "https://localhost:8080/",
          "height": 447
        },
        "id": "-2vVnyFZKOR8",
        "outputId": "8a81ab7b-bcb8-411c-a32e-12d788f137c8"
      },
      "outputs": [
        {
          "data": {
            "text/plain": [
              "[<matplotlib.lines.Line2D at 0x7ab3f003b730>]"
            ]
          },
          "execution_count": 199,
          "metadata": {},
          "output_type": "execute_result"
        },
        {
          "data": {
            "image/png": "[encoded data removed]",
            "text/plain": [
              "<Figure size 640x480 with 1 Axes>"
            ]
          },
          "metadata": {},
          "output_type": "display_data"
        }
      ],
      "source": [
        "plt.plot(losses)"
      ]
    },
    {
      "cell_type": "markdown",
      "metadata": {
        "id": "Pp42-jlXQIsr"
      },
      "source": [
        "# Prediction"
      ]
    },
    {
      "cell_type": "code",
      "execution_count": null,
      "metadata": {
        "id": "xs2Anf82vPU5"
      },
      "outputs": [],
      "source": [
        "class MovieDataset(torch.utils.data.Dataset):\n",
        "    def __init__(self):\n",
        "        self.tokenized_texts = tokenized_description\n",
        "        self.tokenized_short_texts = tokenized_shortDescription\n",
        "\n",
        "    def __len__(self):\n",
        "        return len(self.tokenized_texts)\n",
        "\n",
        "    def __getitem__(self, idx):\n",
        "        num = np.random.randint(0,2)\n",
        "        if num == 0:\n",
        "            tokens = [word2vec.wv.get_vector(token) for token in self.tokenized_texts[idx] if word2vec.wv.has_index_for(token)]\n",
        "        else:\n",
        "            tokens = [word2vec.wv.get_vector(token) for token in self.tokenized_short_texts[idx] if word2vec.wv.has_index_for(token)]\n",
        "\n",
        "        return torch.tensor(np.stack(tokens)), torch.zeros(len(self.tokenized_texts), dtype=torch.float).scatter_(0, torch.tensor(idx), value=1)\n",
        "\n",
        "\n",
        "\n",
        "dataset = MovieDataset()"
      ]
    },
    {
      "cell_type": "code",
      "execution_count": null,
      "metadata": {
        "id": "ri6XkD73xOxL"
      },
      "outputs": [],
      "source": [
        "class SentenceLengthBatchSampler2:\n",
        "    def __init__(self, data_source, batch_size):\n",
        "        self.data_source = data_source\n",
        "        self.batch_size = batch_size\n",
        "        self.sorted_indices = np.argsort([len(x[0]) for x in data_source])\n",
        "\n",
        "    def __iter__(self):\n",
        "        batches = []\n",
        "        batch = []\n",
        "        for idx in self.sorted_indices:\n",
        "            batch.append(idx)\n",
        "            if len(batch) == self.batch_size:\n",
        "                batches.append(batch)\n",
        "                batch = []\n",
        "        if len(batch) > 0:\n",
        "            batches.append(batch)\n",
        "        np.random.shuffle(batches)\n",
        "        return iter(batches)\n",
        "\n",
        "    def __len__(self):\n",
        "        return len(self.data_source) // self.batch_size\n",
        "\n",
        "\n",
        "batch_sampler = SentenceLengthBatchSampler2(dataset, batch_size=650)"
      ]
    },
    {
      "cell_type": "code",
      "execution_count": null,
      "metadata": {
        "id": "Tk2aJIsQxm_n"
      },
      "outputs": [],
      "source": [
        "def collate_fn2(batch):\n",
        "    sizes = torch.tensor([t[0].size(0) for t in batch])\n",
        "    vector_size = batch[0][0].size()[1:]\n",
        "    new_batch = torch.zeros(len(batch), torch.max(sizes), *vector_size).to(device)\n",
        "    y  = torch.zeros(len(batch), batch[0][1].size()[0]).to(device)\n",
        "\n",
        "    for i, t in enumerate(batch):\n",
        "        new_batch[i, :sizes[i]] = t[0]\n",
        "        y[i] = t[1]\n",
        "    return (new_batch,sizes), y\n",
        "\n",
        "train_dataloader = DataLoader(dataset, batch_sampler=batch_sampler, collate_fn = collate_fn2)"
      ]
    },
    {
      "cell_type": "code",
      "execution_count": null,
      "metadata": {
        "id": "r0vIl5zu0iB_"
      },
      "outputs": [],
      "source": [
        "class NeuralPredictor(nn.Module):\n",
        "    def __init__(self, input_size, hidden_size, out_size):\n",
        "        super().__init__()\n",
        "        self.model = nn.Sequential(\n",
        "            nn.Linear(input_size, hidden_size),\n",
        "            nn.Sigmoid(),\n",
        "            nn.Linear(hidden_size, out_size)\n",
        "        )\n",
        "\n",
        "    def forward(self, x):\n",
        "        return self.model(x)\n",
        "\n",
        "class NeuralPredictor2(nn.Module):\n",
        "    def __init__(self, input_size, out_size):\n",
        "        super().__init__()\n",
        "        self.model = nn.Sequential(\n",
        "            nn.Linear(input_size, out_size),\n",
        "            nn.Sigmoid()\n",
        "        )\n",
        "\n",
        "    def forward(self, x):\n",
        "        return self.model(x)\n",
        "\n",
        "# predictor = NeuralPredictor(512,1024, len(movie_df)).to(device)\n",
        "predictor = NeuralPredictor2(512, len(movie_df)).to(device)"
      ]
    },
    {
      "cell_type": "code",
      "execution_count": null,
      "metadata": {
        "colab": {
          "base_uri": "https://localhost:8080/"
        },
        "id": "XPv3IhVLz0BV",
        "outputId": "d36bbe3f-c3c9-48e7-ad88-2279a7281808"
      },
      "outputs": [
        {
          "data": {
            "text/plain": [
              "3"
            ]
          },
          "execution_count": 343,
          "metadata": {},
          "output_type": "execute_result"
        }
      ],
      "source": [
        "len(train_dataloader)"
      ]
    },
    {
      "cell_type": "code",
      "execution_count": null,
      "metadata": {
        "id": "WWFYPjlhMzyR"
      },
      "outputs": [],
      "source": [
        "losses = []"
      ]
    },
    {
      "cell_type": "code",
      "execution_count": null,
      "metadata": {
        "colab": {
          "base_uri": "https://localhost:8080/"
        },
        "id": "NFdMdMRSr-5P",
        "outputId": "616cb8c3-6320-440e-ddcd-d153cc7775d6"
      },
      "outputs": [
        {
          "data": {
            "text/plain": [
              "0"
            ]
          },
          "execution_count": 346,
          "metadata": {},
          "output_type": "execute_result"
        }
      ],
      "source": [
        "torch.cuda.empty_cache()\n",
        "import gc\n",
        "gc.collect()"
      ]
    },
    {
      "cell_type": "code",
      "execution_count": null,
      "metadata": {
        "colab": {
          "base_uri": "https://localhost:8080/"
        },
        "id": "xBVluCunx4K7",
        "outputId": "54528804-0d65-4e60-c48c-a16151a4ec6d"
      },
      "outputs": [
        {
          "name": "stdout",
          "output_type": "stream",
          "text": [
            "7.778099060058594\n",
            "7.771467685699463\n",
            "7.736356258392334\n",
            "7.774189472198486\n",
            "EPOCH 7.760671138763428\n",
            "7.777592658996582\n",
            "7.771753787994385\n",
            "7.775105953216553\n",
            "7.730635166168213\n",
            "EPOCH 7.759164969126384\n",
            "7.731576919555664\n",
            "7.771774768829346\n",
            "7.770578384399414\n",
            "7.774937629699707\n",
            "EPOCH 7.772430260976155\n",
            "7.771008014678955\n",
            "7.731616020202637\n",
            "7.776102066040039\n",
            "7.772103786468506\n",
            "EPOCH 7.7599406242370605\n",
            "7.774440765380859\n",
            "7.736546516418457\n",
            "7.772310733795166\n",
            "7.7669196128845215\n",
            "EPOCH 7.758592287699382\n",
            "7.774590969085693\n",
            "7.725471019744873\n",
            "7.77056360244751\n",
            "7.767079830169678\n",
            "EPOCH 7.7543714841206866\n",
            "7.772881984710693\n",
            "7.731389045715332\n",
            "7.773034572601318\n",
            "7.768539905548096\n",
            "EPOCH 7.757654507954915\n",
            "7.767294883728027\n",
            "7.730515956878662\n",
            "7.774069786071777\n",
            "7.770571231842041\n",
            "EPOCH 7.75838565826416\n",
            "7.768284797668457\n",
            "7.766733169555664\n",
            "7.723391056060791\n",
            "7.773128032684326\n",
            "EPOCH 7.754417419433594\n",
            "7.7286529541015625\n",
            "7.765627384185791\n",
            "7.769545555114746\n",
            "7.772682189941406\n",
            "EPOCH 7.7692850430806475\n"
          ]
        }
      ],
      "source": [
        "criterion = torch.nn.CrossEntropyLoss()\n",
        "optimizer = torch.optim.Adam(predictor.parameters(), lr=1e-4)\n",
        "\n",
        "num_epochs = 10\n",
        "predictor.train()\n",
        "model.eval()\n",
        "for epoch in range(num_epochs):\n",
        "    for (x,sizes), y in train_dataloader:\n",
        "        torch.cuda.empty_cache()\n",
        "        gc.collect()\n",
        "        embds= model(x,sizes)[0]\n",
        "        mask = torch.zeros_like(embds).to(device)\n",
        "        for i, size in enumerate(sizes):\n",
        "            mask[i, size-1, :] = 1\n",
        "        embds = torch.masked_select(embds, mask.bool()).view(sizes.size(0), embds.size(2)).detach()\n",
        "        preds = predictor(embds)\n",
        "        loss = criterion(preds, y)\n",
        "        losses.append(loss.item())\n",
        "        optimizer.zero_grad()\n",
        "        print(loss.item())\n",
        "        loss.backward()\n",
        "        optimizer.step()\n",
        "    print(\"EPOCH\", np.mean(losses[-len(train_dataloader):]))"
      ]
    },
    {
      "cell_type": "code",
      "execution_count": null,
      "metadata": {
        "colab": {
          "base_uri": "https://localhost:8080/",
          "height": 447
        },
        "id": "MhTEfk683AXQ",
        "outputId": "d249b859-dc24-4448-9af9-3f9b26b12fb5"
      },
      "outputs": [
        {
          "data": {
            "text/plain": [
              "[<matplotlib.lines.Line2D at 0x7ab4062f2440>]"
            ]
          },
          "execution_count": 350,
          "metadata": {},
          "output_type": "execute_result"
        },
        {
          "data": {
            "image/png": "[encoded data removed]",
            "text/plain": [
              "<Figure size 640x480 with 1 Axes>"
            ]
          },
          "metadata": {},
          "output_type": "display_data"
        }
      ],
      "source": [
        "plt.plot(losses)"
      ]
    },
    {
      "cell_type": "code",
      "execution_count": null,
      "metadata": {
        "id": "5JpHO4-C3dr5"
      },
      "outputs": [],
      "source": [
        "def test():\n",
        "    ds_size = len(train_dataloader.dataset)\n",
        "    num_batches = len(train_dataloader)\n",
        "    model.eval()\n",
        "    predictor.eval()\n",
        "    test_loss, correct = 0, 0\n",
        "    with torch.no_grad():\n",
        "        for (x,sizes), y in train_dataloader:\n",
        "            embds= model(x,sizes)[0]\n",
        "            mask = torch.zeros_like(embds).to(device)\n",
        "            for i, size in enumerate(sizes):\n",
        "                mask[i, size-1, :] = 1\n",
        "            embds = torch.masked_select(embds, mask.bool()).view(sizes.size(0), embds.size(2)).detach()\n",
        "            preds = predictor(embds)\n",
        "\n",
        "            test_loss += criterion(preds, y).item()\n",
        "            correct += (preds.argmax(1) == y.argmax(1)).type(torch.float).sum().item()\n",
        "    test_loss /= num_batches\n",
        "    correct /= ds_size\n",
        "    print(f\"Test Error: \\n Accuracy: {(100*correct):>0.1f}%, Avg loss: {test_loss:>8f} \\n\")"
      ]
    },
    {
      "cell_type": "code",
      "execution_count": null,
      "metadata": {
        "colab": {
          "base_uri": "https://localhost:8080/"
        },
        "id": "I9KxjFeC_8_w",
        "outputId": "f4915a2f-67b6-4b93-ab9a-2e35fc243ef3"
      },
      "outputs": [
        {
          "name": "stdout",
          "output_type": "stream",
          "text": [
            "Test Error: \n",
            " Accuracy: 3.8%, Avg loss: 10.345545 \n",
            "\n"
          ]
        }
      ],
      "source": [
        "test()"
      ]
    },
    {
      "cell_type": "code",
      "execution_count": null,
      "metadata": {
        "id": "dgMdwQXFR-3J"
      },
      "outputs": [],
      "source": [
        "import torch\n",
        "torch.save(model.state_dict(), \"LSTM weights new.pt\")\n",
        "# torch.save(predictor.state_dict(), \"predictor weights 100 pers accuracy.pt\")"
      ]
    },
    {
      "cell_type": "code",
      "execution_count": null,
      "metadata": {
        "colab": {
          "base_uri": "https://localhost:8080/"
        },
        "id": "rHv2FIXGVVxq",
        "outputId": "90dc3dc1-3a80-40ed-dc43-c9514c856b44"
      },
      "outputs": [
        {
          "data": {
            "text/plain": [
              "NeuralPredictor(\n",
              "  (model): Sequential(\n",
              "    (0): Linear(in_features=512, out_features=1024, bias=True)\n",
              "    (1): Sigmoid()\n",
              "    (2): Linear(in_features=1024, out_features=2500, bias=True)\n",
              "  )\n",
              ")"
            ]
          },
          "execution_count": 115,
          "metadata": {},
          "output_type": "execute_result"
        }
      ],
      "source": [
        "predictor.load_state_dict(torch.load(\"predictor weights 100 pers accuracy.pt\"))\n",
        "predictor.eval()"
      ]
    },
    {
      "cell_type": "code",
      "execution_count": null,
      "metadata": {
        "id": "VYAMnZWLYsPn"
      },
      "outputs": [],
      "source": [
        "def predict_movie(description: str) -> int:\n",
        "    tokens = tokenizer.encode(description).tokens\n",
        "    vectors = torch.tensor(np.stack([word2vec.wv.get_vector(token) for token in tokens])).to(device)\n",
        "\n",
        "    model.eval()\n",
        "    predictor.eval()\n",
        "\n",
        "    sizes = torch.tensor([len(tokens)]).to(device)\n",
        "\n",
        "    embds= model(vectors.unsqueeze(0), sizes)[0]\n",
        "    mask = torch.zeros_like(embds).to(device)\n",
        "    for i, size in enumerate(sizes):\n",
        "        mask[i, size-1, :] = 1\n",
        "    embds = torch.masked_select(embds, mask.bool()).view(sizes.size(0), embds.size(2)).detach()\n",
        "    preds = predictor(embds)[0]\n",
        "    return torch.argmax(preds).item()"
      ]
    },
    {
      "cell_type": "code",
      "execution_count": null,
      "metadata": {
        "colab": {
          "base_uri": "https://localhost:8080/",
          "height": 35
        },
        "id": "cAJcPM3-ZCoD",
        "outputId": "e4d1c3b3-6657-49bd-a28f-ccc09307f7e7"
      },
      "outputs": [
        {
          "data": {
            "application/vnd.google.colaboratory.intrinsic+json": {
              "type": "string"
            },
            "text/plain": [
              "'Самогонщики'"
            ]
          },
          "execution_count": 171,
          "metadata": {},
          "output_type": "execute_result"
        }
      ],
      "source": [
        "index = predict_movie(\"1987 год. Джордан Белфорт становится брокером в успешном инвестиционном банке. Вскоре банк закрывается после внезапного обвала индекса Доу-Джонса. По совету жены Терезы Джордан устраивается в небольшое заведение, занимающееся мелкими акциями. Его настойчивый стиль общения с клиентами и врождённая харизма быстро даёт свои плоды. Он знакомится с соседом по дому Донни, торговцем, который сразу находит общий язык с Джорданом и решает открыть с ним собственную фирму. В качестве сотрудников они нанимают нескольких друзей Белфорта, его отца Макса и называют компанию «Стрэттон Оукмонт». В свободное от работы время Джордан прожигает жизнь: лавирует от одной вечеринки к другой, вступает в сексуальные отношения с проститутками, употребляет множество наркотических препаратов, в том числе кокаин и кваалюд. Однажды наступает момент, когда быстрым обогащением Белфорта начинает интересоваться агент ФБР...\")\n",
        "movie_df.iloc[index][\"name\"]"
      ]
    },
    {
      "cell_type": "code",
      "execution_count": null,
      "metadata": {
        "colab": {
          "base_uri": "https://localhost:8080/",
          "height": 35
        },
        "id": "1UDUpx0OZEjD",
        "outputId": "4f2cd18c-071d-42b1-bc4a-8b502d8e6df2"
      },
      "outputs": [
        {
          "data": {
            "application/vnd.google.colaboratory.intrinsic+json": {
              "type": "string"
            },
            "text/plain": [
              "'Месть от кутюр'"
            ]
          },
          "execution_count": 155,
          "metadata": {},
          "output_type": "execute_result"
        }
      ],
      "source": [
        "movie_df.iloc[index]"
      ]
    },
    {
      "cell_type": "code",
      "execution_count": null,
      "metadata": {
        "colab": {
          "base_uri": "https://localhost:8080/",
          "height": 157
        },
        "id": "_hfstw6EZtCx",
        "outputId": "58caac42-5148-44f5-fd38-249ef69799c3"
      },
      "outputs": [
        {
          "data": {
            "application/vnd.google.colaboratory.intrinsic+json": {
              "type": "string"
            },
            "text/plain": [
              "'1987 год. Джордан Белфорт становится брокером в успешном инвестиционном банке. Вскоре банк закрывается после внезапного обвала индекса Доу-Джонса. По совету жены Терезы Джордан устраивается в небольшое заведение, занимающееся мелкими акциями. Его настойчивый стиль общения с клиентами и врождённая харизма быстро даёт свои плоды. Он знакомится с соседом по дому Донни, торговцем, который сразу находит общий язык с Джорданом и решает открыть с ним собственную фирму. В качестве сотрудников они нанимают нескольких друзей Белфорта, его отца Макса и называют компанию «Стрэттон Оукмонт». В свободное от работы время Джордан прожигает жизнь: лавирует от одной вечеринки к другой, вступает в сексуальные отношения с проститутками, употребляет множество наркотических препаратов, в том числе кокаин и кваалюд. Однажды наступает момент, когда быстрым обогащением Белфорта начинает интересоваться агент ФБР...'"
            ]
          },
          "execution_count": 170,
          "metadata": {},
          "output_type": "execute_result"
        }
      ],
      "source": [
        "movie_df.description[2]"
      ]
    },
    {
      "cell_type": "code",
      "execution_count": null,
      "metadata": {
        "id": "9iHpcZmAbxMi"
      },
      "outputs": [],
      "source": []
    },
    {
      "cell_type": "markdown",
      "metadata": {
        "id": "XgJ7u3tzUlpS"
      },
      "source": [
        "# Transformer"
      ]
    },
    {
      "cell_type": "code",
      "execution_count": null,
      "metadata": {
        "id": "9S6kIq73Um2v"
      },
      "outputs": [],
      "source": []
    }
  ],
  "metadata": {
    "colab": {
      "collapsed_sections": [
        "b917KanN1lgQ",
        "H6lPHpphekJd",
        "zL5STlrM2pIP",
        "zlPzV3p24YuA",
        "MstxADA45I2F",
        "YbL_vGxWPsLu"
      ],
      "provenance": []
    },
    "kernelspec": {
      "display_name": "Python 3",
      "name": "python3"
    },
    "language_info": {
      "name": "python"
    }
  },
  "nbformat": 4,
  "nbformat_minor": 0
}
