{
  "nbformat": 4,
  "nbformat_minor": 0,
  "metadata": {
    "colab": {
      "provenance": []
    },
    "kernelspec": {
      "name": "python3",
      "display_name": "Python 3"
    },
    "language_info": {
      "name": "python"
    }
  },
  "cells": [
    {
      "cell_type": "code",
      "execution_count": null,
      "metadata": {
        "colab": {
          "base_uri": "https://localhost:8080/",
          "height": 445
        },
        "id": "vTqJDoDqu6FE",
        "outputId": "c4e84fac-454e-455d-c802-d402364b8ea3"
      },
      "outputs": [
        {
          "output_type": "execute_result",
          "data": {
            "text/plain": [
              "<Axes: title={'center': 'is 18+'}, ylabel='target'>"
            ]
          },
          "metadata": {},
          "execution_count": 2
        },
        {
          "output_type": "display_data",
          "data": {
            "text/plain": [
              "<Figure size 640x480 with 1 Axes>"
            ],
            "image/png": "[encoded data removed]"
          },
          "metadata": {}
        }
      ],
      "source": [
        "import numpy as np\n",
        "import pandas as pd\n",
        "from sklearn.metrics import f1_score\n",
        "from sklearn.model_selection import train_test_split\n",
        "import matplotlib.pyplot as plt\n",
        "\n",
        "labeled_data = pd.read_csv('https://raw.githubusercontent.com/vadim0912/ML2023/master/lecture05/kaggle/train.csv')\n",
        "unlabeled_data = pd.read_csv('https://raw.githubusercontent.com/vadim0912/ML2023/master/lecture05/kaggle/test.csv')\n",
        "\n",
        "\n",
        "X = labeled_data[['url','title']]\n",
        "y = labeled_data['target']\n",
        "X_train, X_test, y_train, y_test = train_test_split(X, y, test_size=0.25, shuffle = False)\n",
        "\n",
        "X_validation = unlabeled_data[['url','title']]\n",
        "\n",
        "plt.title('is 18+')\n",
        "y_train.value_counts().plot(kind='pie',autopct='%1.0f%%', colors = ['green', 'red'])"
      ]
    },
    {
      "cell_type": "code",
      "source": [
        "X_val = X.values\n",
        "X_train_val = X_train.values\n",
        "X_test_val = X_test.values\n",
        "X_validation_val = X_validation.values\n",
        "y_val = y.astype(int).values\n",
        "y_train_val = y_train.astype(int).values\n",
        "y_test_val = y_test.astype(int).values"
      ],
      "metadata": {
        "id": "SdNZ_HD7xKZN"
      },
      "execution_count": null,
      "outputs": []
    },
    {
      "cell_type": "code",
      "source": [
        "import re\n",
        "from collections import Counter\n",
        "TOKEN_PATTERN = \"[а-яА-ЯёЁa-zA-Z]+\"\n",
        "def tokenize(text):\n",
        "    return re.findall(TOKEN_PATTERN, text.lower())\n",
        "docs = [tokenize(text) for text in X_train_val[:,1]]\n",
        "\n",
        "occurence = Counter([token for doc in docs for token in doc])\n",
        "occurence.most_common(30)"
      ],
      "metadata": {
        "colab": {
          "base_uri": "https://localhost:8080/"
        },
        "id": "NEGm8qKh3QmO",
        "outputId": "4fb67085-3bca-4509-9bff-e5879ec8ec3c"
      },
      "execution_count": null,
      "outputs": [
        {
          "output_type": "execute_result",
          "data": {
            "text/plain": [
              "[('в', 28893),\n",
              " ('на', 17288),\n",
              " ('и', 16991),\n",
              " ('ru', 10726),\n",
              " ('онлайн', 8990),\n",
              " ('с', 8688),\n",
              " ('для', 7645),\n",
              " ('по', 6335),\n",
              " ('бесплатно', 6228),\n",
              " ('скачать', 5882),\n",
              " ('mail', 5112),\n",
              " ('фото', 4769),\n",
              " ('купить', 4720),\n",
              " ('страница', 4417),\n",
              " ('смотреть', 4203),\n",
              " ('от', 4063),\n",
              " ('поиск', 4018),\n",
              " ('порно', 3896),\n",
              " ('видео', 3882),\n",
              " ('porn', 2823),\n",
              " ('из', 2802),\n",
              " ('mp', 2721),\n",
              " ('интернет', 2567),\n",
              " ('как', 2544),\n",
              " ('читать', 2522),\n",
              " ('о', 2443),\n",
              " ('отзывы', 2400),\n",
              " ('цена', 2317),\n",
              " ('com', 2276),\n",
              " ('м', 2134)]"
            ]
          },
          "metadata": {},
          "execution_count": 4
        }
      ]
    },
    {
      "cell_type": "markdown",
      "source": [
        "# 1. Логистическая регрессия только для title"
      ],
      "metadata": {
        "id": "TdS3jQt7xDB4"
      }
    },
    {
      "cell_type": "code",
      "source": [
        "from sklearn.feature_extraction.text import CountVectorizer\n",
        "from sklearn.linear_model import LogisticRegression\n",
        "vectorizer = CountVectorizer(min_df = 3, stop_words = ['в','на', 'о', 'и', 'ru', 'с','com','м'], ngram_range = (1,2))\n",
        "\n",
        "model_logreg = LogisticRegression(solver = 'sag', max_iter = 500, C=50, warm_start = True)\n",
        "X_train_vectorized = vectorizer.fit_transform(X_train_val[:,1])\n",
        "X_test_vectorized = vectorizer.transform(X_test_val[:,1])\n",
        "model_logreg.fit(\n",
        "    X_train_vectorized,\n",
        "    y_train\n",
        ")\n",
        "\n",
        "y_pred_logreg = model_logreg.predict(\n",
        "    X_test_vectorized\n",
        ")\n",
        "\n",
        "f1_score(y_test, y_pred_logreg)"
      ],
      "metadata": {
        "colab": {
          "base_uri": "https://localhost:8080/"
        },
        "id": "RCi1EeUsxFCP",
        "outputId": "bb5f2ae7-f4e2-4d33-f7f2-7e30584550b6"
      },
      "execution_count": null,
      "outputs": [
        {
          "output_type": "stream",
          "name": "stderr",
          "text": [
            "/usr/local/lib/python3.9/dist-packages/sklearn/linear_model/_sag.py:350: ConvergenceWarning: The max_iter was reached which means the coef_ did not converge\n",
            "  warnings.warn(\n"
          ]
        },
        {
          "output_type": "execute_result",
          "data": {
            "text/plain": [
              "0.9545121056493029"
            ]
          },
          "metadata": {},
          "execution_count": 16
        }
      ]
    },
    {
      "cell_type": "code",
      "source": [
        "feature1 = model_logreg.predict_proba(X_train_vectorized)[:,0]"
      ],
      "metadata": {
        "id": "zGX9019F5LSj"
      },
      "execution_count": null,
      "outputs": []
    },
    {
      "cell_type": "markdown",
      "source": [
        "Submit"
      ],
      "metadata": {
        "id": "gzQMO_8F1VYy"
      }
    },
    {
      "cell_type": "code",
      "source": [
        "vectorizer = CountVectorizer(min_df = 3, stop_words = ['в','на', 'и', 'ru', 'с','com','м'], ngram_range = (1,2))\n",
        "model = LogisticRegression(solver = 'sag', max_iter = 500, C=50, warm_start = True)\n",
        "X_vectorized = vectorizer.fit_transform(X_val[:,1])\n",
        "model.fit(\n",
        "    X_vectorized,\n",
        "    y\n",
        ")\n",
        "X_validation_vectorized = vectorizer.transform(X_validation_val[:,1])\n",
        "unlabeled_data[\"target\"] = model.predict(X_validation_vectorized).astype(bool)\n",
        "unlabeled_data[[\"id\", \"target\"]].to_csv(\"logreg.csv\", index=False)"
      ],
      "metadata": {
        "colab": {
          "base_uri": "https://localhost:8080/"
        },
        "id": "nobDAb64yqAB",
        "outputId": "9139fe8b-1263-4250-b419-acc584050d72"
      },
      "execution_count": null,
      "outputs": [
        {
          "output_type": "stream",
          "name": "stderr",
          "text": [
            "/usr/local/lib/python3.9/dist-packages/sklearn/linear_model/_sag.py:350: ConvergenceWarning: The max_iter was reached which means the coef_ did not converge\n",
            "  warnings.warn(\n"
          ]
        }
      ]
    },
    {
      "cell_type": "markdown",
      "source": [
        "# 2. Логистическая регрессия с url"
      ],
      "metadata": {
        "id": "1453Jmoj1Zbv"
      }
    },
    {
      "cell_type": "code",
      "source": [
        "vectorizer_url = CountVectorizer(binary = True, ngram_range = (1,2),token_pattern = '[а-яА-ЯёЁa-zA-Z0-9]+')\n",
        "model_logreg_url = LogisticRegression(solver = 'sag', max_iter = 1000, C=50, warm_start = True)\n",
        "X_train_vectorized = vectorizer_url.fit_transform(X_train_val[:,0])\n",
        "X_test_vectorized = vectorizer_url.transform(X_test_val[:,0])\n",
        "model_logreg_url.fit(\n",
        "    X_train_vectorized,\n",
        "    y_train\n",
        ")\n",
        "\n",
        "y_pred_logreg_url = model_logreg_url.predict(\n",
        "    X_test_vectorized\n",
        ")\n",
        "\n",
        "f1_score(y_test, y_pred_logreg_url)"
      ],
      "metadata": {
        "colab": {
          "base_uri": "https://localhost:8080/"
        },
        "id": "3iuSno_31T0z",
        "outputId": "efdb531b-eeff-4317-ed91-21c38c029ab7"
      },
      "execution_count": null,
      "outputs": [
        {
          "output_type": "execute_result",
          "data": {
            "text/plain": [
              "0.9169169169169169"
            ]
          },
          "metadata": {},
          "execution_count": 24
        }
      ]
    },
    {
      "cell_type": "markdown",
      "source": [
        "Попробуем построить линейную модель на основе предсказаний для title и для url"
      ],
      "metadata": {
        "id": "wPjN2pky4pGa"
      }
    },
    {
      "cell_type": "code",
      "source": [
        "X_train_vectorized = vectorizer.transform(X_train_val[:,1])\n",
        "feature1 = model_logreg.predict_proba(X_train_vectorized)[:,0]\n",
        "\n",
        "X_train_vectorized = vectorizer_url.transform(X_train_val[:,0])\n",
        "feature2 = model_logreg_url.predict_proba(X_train_vectorized)[:,0]"
      ],
      "metadata": {
        "id": "LOIPjYMo5kVV"
      },
      "execution_count": null,
      "outputs": []
    },
    {
      "cell_type": "code",
      "source": [
        "from sklearn.linear_model import RidgeClassifier\n",
        "\n",
        "model = RidgeClassifier(max_iter = 1000,alpha = 250)\n",
        "X_train_total = np.vstack((feature1,feature2)).T\n",
        "model.fit(\n",
        "    X_train_total,\n",
        "    y_train\n",
        ")\n",
        "\n",
        "\n",
        "X_test_vectorized = vectorizer.transform(X_test_val[:,1])\n",
        "feature1test = model_logreg.predict_proba(X_test_vectorized)[:,0]\n",
        "\n",
        "X_test_vectorized = vectorizer_url.transform(X_test_val[:,0])\n",
        "feature2test = model_logreg_url.predict_proba(X_test_vectorized)[:,0]\n",
        "\n",
        "X_test_total = np.vstack((feature1test,feature2test)).T\n",
        "\n",
        "y_pred_total = model.predict(\n",
        "    X_test_total\n",
        ")\n",
        "\n",
        "f1_score(y_test, y_pred_total)"
      ],
      "metadata": {
        "colab": {
          "base_uri": "https://localhost:8080/"
        },
        "id": "T-0VpoR83zrG",
        "outputId": "585a8eca-edbf-49c4-ae17-cc970f147e52"
      },
      "execution_count": null,
      "outputs": [
        {
          "output_type": "execute_result",
          "data": {
            "text/plain": [
              "0.9722423364711561"
            ]
          },
          "metadata": {},
          "execution_count": 71
        }
      ]
    },
    {
      "cell_type": "markdown",
      "source": [
        "Submit"
      ],
      "metadata": {
        "id": "RyY6QpPM9gs5"
      }
    },
    {
      "cell_type": "code",
      "source": [
        "vectorizer = CountVectorizer(min_df = 3, stop_words = ['в','на', 'и', 'ru', 'с','com','м'], ngram_range = (1,2))\n",
        "model_logreg = LogisticRegression(solver = 'sag', max_iter = 500, C=50, warm_start = True)\n",
        "X_vectorized = vectorizer.fit_transform(X_val[:,1])\n",
        "model_logreg.fit(\n",
        "    X_vectorized,\n",
        "    y\n",
        ")\n",
        "feature1 = model_logreg.predict_proba(X_vectorized)[:,0]\n",
        "\n",
        "\n",
        "vectorizer_url = CountVectorizer(binary = True, ngram_range = (1,2))\n",
        "model_logreg_url = LogisticRegression(solver = 'sag', max_iter = 1000, C=50, warm_start = True)\n",
        "X_vectorized = vectorizer_url.fit_transform(X_val[:,0])\n",
        "model_logreg_url.fit(\n",
        "    X_vectorized,\n",
        "    y\n",
        ")\n",
        "feature2 = model_logreg_url.predict_proba(X_vectorized)[:,0]\n",
        "\n",
        "\n",
        "model_total = RidgeClassifier(max_iter = 1000,alpha = 200)\n",
        "X_total = np.vstack((feature1,feature2)).T\n",
        "model_total.fit(\n",
        "    X_total,\n",
        "    y\n",
        ")\n",
        "\n",
        "\n",
        "X_validation_vectorized = vectorizer.transform(X_validation_val[:,1])\n",
        "feature1_validation = model_logreg.predict_proba(X_validation_vectorized)[:,0]\n",
        "\n",
        "X_validation_vectorized = vectorizer_url.transform(X_validation_val[:,0])\n",
        "feature2_validation = model_logreg_url.predict_proba(X_validation_vectorized)[:,0]\n",
        "\n",
        "X_validation_total = np.vstack((feature1_validation,feature2_validation)).T\n",
        "\n",
        "unlabeled_data[\"target\"] = model_total.predict(X_validation_total).astype(bool)\n",
        "unlabeled_data[[\"id\", \"target\"]].to_csv(\"logreg_with_url.csv\", index=False)\n"
      ],
      "metadata": {
        "colab": {
          "base_uri": "https://localhost:8080/"
        },
        "id": "mT7FzEMT9raD",
        "outputId": "145a8b61-057f-4e27-9d9b-aff901389202"
      },
      "execution_count": null,
      "outputs": [
        {
          "output_type": "stream",
          "name": "stderr",
          "text": [
            "/usr/local/lib/python3.9/dist-packages/sklearn/linear_model/_sag.py:350: ConvergenceWarning: The max_iter was reached which means the coef_ did not converge\n",
            "  warnings.warn(\n"
          ]
        }
      ]
    },
    {
      "cell_type": "markdown",
      "source": [
        "Можно заметить что для url подстрока porn во всех случаях оказалась в 18+ сайтах"
      ],
      "metadata": {
        "id": "RquYKOTEwqLT"
      }
    },
    {
      "cell_type": "code",
      "source": [
        "labeled_data[labeled_data.url.str.contains(\"porn\")].target.value_counts()"
      ],
      "metadata": {
        "colab": {
          "base_uri": "https://localhost:8080/"
        },
        "id": "_TvwgV0Cwqn2",
        "outputId": "297d0f6a-9148-4c26-955e-edc5863e595c"
      },
      "execution_count": null,
      "outputs": [
        {
          "output_type": "execute_result",
          "data": {
            "text/plain": [
              "True    4673\n",
              "Name: target, dtype: int64"
            ]
          },
          "metadata": {},
          "execution_count": 6
        }
      ]
    },
    {
      "cell_type": "code",
      "source": [
        "labeled_data[labeled_data.url.str.contains(\"sex\")].target.value_counts()"
      ],
      "metadata": {
        "colab": {
          "base_uri": "https://localhost:8080/"
        },
        "id": "SYhLtfHFDbLz",
        "outputId": "2d9a7a35-504b-4381-e528-aa2db1768c28"
      },
      "execution_count": null,
      "outputs": [
        {
          "output_type": "execute_result",
          "data": {
            "text/plain": [
              "True     2159\n",
              "False      31\n",
              "Name: target, dtype: int64"
            ]
          },
          "metadata": {},
          "execution_count": 67
        }
      ]
    },
    {
      "cell_type": "code",
      "source": [
        "labeled_data[labeled_data.url.str.contains(\"xxx\")].target.value_counts()"
      ],
      "metadata": {
        "colab": {
          "base_uri": "https://localhost:8080/"
        },
        "id": "j-HUO0ppw222",
        "outputId": "2e8be1ed-ec2a-4d74-b411-9fab4aa121a9"
      },
      "execution_count": null,
      "outputs": [
        {
          "output_type": "execute_result",
          "data": {
            "text/plain": [
              "True     710\n",
              "False      1\n",
              "Name: target, dtype: int64"
            ]
          },
          "metadata": {},
          "execution_count": 7
        }
      ]
    },
    {
      "cell_type": "markdown",
      "source": [
        "submit"
      ],
      "metadata": {
        "id": "19gTVtf-DFW2"
      }
    },
    {
      "cell_type": "code",
      "source": [
        "unlabeled_data.loc[unlabeled_data.url.str.contains(\"porn\"),\"target\"] = True\n",
        "unlabeled_data.loc[unlabeled_data.url.str.contains(\"xxx\"),\"target\"] = True\n",
        "unlabeled_data[[\"id\", \"target\"]].to_csv(\"logreg_with_url2.csv\", index=False)"
      ],
      "metadata": {
        "id": "Jh3d5XMjC-3L"
      },
      "execution_count": null,
      "outputs": []
    },
    {
      "cell_type": "code",
      "source": [
        "unlabeled_data[(unlabeled_data.url.str.contains(\"porn\")) & (unlabeled_data.target == False)]"
      ],
      "metadata": {
        "colab": {
          "base_uri": "https://localhost:8080/",
          "height": 49
        },
        "id": "n8iEqYLWD4lD",
        "outputId": "0dcff824-36a2-4b99-83a1-db7708d7b563"
      },
      "execution_count": null,
      "outputs": [
        {
          "output_type": "execute_result",
          "data": {
            "text/plain": [
              "Empty DataFrame\n",
              "Columns: [id, url, title, target]\n",
              "Index: []"
            ],
            "text/html": [
              "\n",
              "  <div id=\"df-88658ce8-22bc-401d-a6f5-c83a356040bf\">\n",
              "    <div class=\"colab-df-container\">\n",
              "      <div>\n",
              "<style scoped>\n",
              "    .dataframe tbody tr th:only-of-type {\n",
              "        vertical-align: middle;\n",
              "    }\n",
              "\n",
              "    .dataframe tbody tr th {\n",
              "        vertical-align: top;\n",
              "    }\n",
              "\n",
              "    .dataframe thead th {\n",
              "        text-align: right;\n",
              "    }\n",
              "</style>\n",
              "<table border=\"1\" class=\"dataframe\">\n",
              "  <thead>\n",
              "    <tr style=\"text-align: right;\">\n",
              "      <th></th>\n",
              "      <th>id</th>\n",
              "      <th>url</th>\n",
              "      <th>title</th>\n",
              "      <th>target</th>\n",
              "    </tr>\n",
              "  </thead>\n",
              "  <tbody>\n",
              "  </tbody>\n",
              "</table>\n",
              "</div>\n",
              "      <button class=\"colab-df-convert\" onclick=\"convertToInteractive('df-88658ce8-22bc-401d-a6f5-c83a356040bf')\"\n",
              "              title=\"Convert this dataframe to an interactive table.\"\n",
              "              style=\"display:none;\">\n",
              "        \n",
              "  <svg xmlns=\"http://www.w3.org/2000/svg\" height=\"24px\"viewBox=\"0 0 24 24\"\n",
              "       width=\"24px\">\n",
              "    <path d=\"M0 0h24v24H0V0z\" fill=\"none\"/>\n",
              "    <path d=\"M18.56 5.44l.94 2.06.94-2.06 2.06-.94-2.06-.94-.94-2.06-.94 2.06-2.06.94zm-11 1L8.5 8.5l.94-2.06 2.06-.94-2.06-.94L8.5 2.5l-.94 2.06-2.06.94zm10 10l.94 2.06.94-2.06 2.06-.94-2.06-.94-.94-2.06-.94 2.06-2.06.94z\"/><path d=\"M17.41 7.96l-1.37-1.37c-.4-.4-.92-.59-1.43-.59-.52 0-1.04.2-1.43.59L10.3 9.45l-7.72 7.72c-.78.78-.78 2.05 0 2.83L4 21.41c.39.39.9.59 1.41.59.51 0 1.02-.2 1.41-.59l7.78-7.78 2.81-2.81c.8-.78.8-2.07 0-2.86zM5.41 20L4 18.59l7.72-7.72 1.47 1.35L5.41 20z\"/>\n",
              "  </svg>\n",
              "      </button>\n",
              "      \n",
              "  <style>\n",
              "    .colab-df-container {\n",
              "      display:flex;\n",
              "      flex-wrap:wrap;\n",
              "      gap: 12px;\n",
              "    }\n",
              "\n",
              "    .colab-df-convert {\n",
              "      background-color: #E8F0FE;\n",
              "      border: none;\n",
              "      border-radius: 50%;\n",
              "      cursor: pointer;\n",
              "      display: none;\n",
              "      fill: #1967D2;\n",
              "      height: 32px;\n",
              "      padding: 0 0 0 0;\n",
              "      width: 32px;\n",
              "    }\n",
              "\n",
              "    .colab-df-convert:hover {\n",
              "      background-color: #E2EBFA;\n",
              "      box-shadow: 0px 1px 2px rgba(60, 64, 67, 0.3), 0px 1px 3px 1px rgba(60, 64, 67, 0.15);\n",
              "      fill: #174EA6;\n",
              "    }\n",
              "\n",
              "    [theme=dark] .colab-df-convert {\n",
              "      background-color: #3B4455;\n",
              "      fill: #D2E3FC;\n",
              "    }\n",
              "\n",
              "    [theme=dark] .colab-df-convert:hover {\n",
              "      background-color: #434B5C;\n",
              "      box-shadow: 0px 1px 3px 1px rgba(0, 0, 0, 0.15);\n",
              "      filter: drop-shadow(0px 1px 2px rgba(0, 0, 0, 0.3));\n",
              "      fill: #FFFFFF;\n",
              "    }\n",
              "  </style>\n",
              "\n",
              "      <script>\n",
              "        const buttonEl =\n",
              "          document.querySelector('#df-88658ce8-22bc-401d-a6f5-c83a356040bf button.colab-df-convert');\n",
              "        buttonEl.style.display =\n",
              "          google.colab.kernel.accessAllowed ? 'block' : 'none';\n",
              "\n",
              "        async function convertToInteractive(key) {\n",
              "          const element = document.querySelector('#df-88658ce8-22bc-401d-a6f5-c83a356040bf');\n",
              "          const dataTable =\n",
              "            await google.colab.kernel.invokeFunction('convertToInteractive',\n",
              "                                                     [key], {});\n",
              "          if (!dataTable) return;\n",
              "\n",
              "          const docLinkHtml = 'Like what you see? Visit the ' +\n",
              "            '<a target=\"_blank\" href=https://colab.research.google.com/notebooks/data_table.ipynb>data table notebook</a>'\n",
              "            + ' to learn more about interactive tables.';\n",
              "          element.innerHTML = '';\n",
              "          dataTable['output_type'] = 'display_data';\n",
              "          await google.colab.output.renderOutput(dataTable, element);\n",
              "          const docLink = document.createElement('div');\n",
              "          docLink.innerHTML = docLinkHtml;\n",
              "          element.appendChild(docLink);\n",
              "        }\n",
              "      </script>\n",
              "    </div>\n",
              "  </div>\n",
              "  "
            ]
          },
          "metadata": {},
          "execution_count": 63
        }
      ]
    },
    {
      "cell_type": "markdown",
      "source": [
        "Попробуем обучить другие модели"
      ],
      "metadata": {
        "id": "14fEKWAHGJ6K"
      }
    },
    {
      "cell_type": "code",
      "source": [
        "from sklearn.linear_model import RidgeClassifier\n",
        "vectorizer = CountVectorizer(binary = True,  ngram_range = (1,2))\n",
        "\n",
        "model = RidgeClassifier(solver = 'sag', max_iter = 1000)\n",
        "X_vectorized = vectorizer.fit_transform(X_val[:,0])\n",
        "X_validation_vectorized = vectorizer.transform(X_validation_val[:,0])\n",
        "model.fit(\n",
        "    X_vectorized,\n",
        "    y\n",
        ")\n",
        "\n",
        "y_pred_url = model.predict(\n",
        "    X_validation_vectorized\n",
        ")\n",
        "\n",
        "f1_score(y, model.predict(X_vectorized))"
      ],
      "metadata": {
        "colab": {
          "base_uri": "https://localhost:8080/"
        },
        "id": "p6o5uIonGOSb",
        "outputId": "515b0490-19ff-4b02-980a-75e9d5d6a6cc"
      },
      "execution_count": null,
      "outputs": [
        {
          "output_type": "execute_result",
          "data": {
            "text/plain": [
              "0.9775443679826149"
            ]
          },
          "metadata": {},
          "execution_count": 70
        }
      ]
    },
    {
      "cell_type": "code",
      "source": [
        "vectorizer = CountVectorizer(binary = True,min_df = 3, stop_words = ['в','на', 'и', 'ru', 'с','com'], ngram_range = (1,2))\n",
        "\n",
        "model = RidgeClassifier(max_iter = 500, solver='sag')\n",
        "X_vectorized = vectorizer.fit_transform(X_val[:,1])\n",
        "X_validation_vectorized = vectorizer.transform(X_validation_val[:,1])\n",
        "model.fit(\n",
        "    X_vectorized,\n",
        "    y\n",
        ")\n",
        "\n",
        "y_pred = model.predict(\n",
        "    X_validation_vectorized\n",
        ")\n",
        "\n",
        "f1_score(y, model.predict(X_vectorized))"
      ],
      "metadata": {
        "colab": {
          "base_uri": "https://localhost:8080/"
        },
        "id": "Y76UtfPDG2fJ",
        "outputId": "75c4c1a5-dd53-4107-83fc-69dd8f984633"
      },
      "execution_count": null,
      "outputs": [
        {
          "output_type": "execute_result",
          "data": {
            "text/plain": [
              "0.9753245162870438"
            ]
          },
          "metadata": {},
          "execution_count": 71
        }
      ]
    },
    {
      "cell_type": "markdown",
      "source": [
        "submit"
      ],
      "metadata": {
        "id": "ZkD42I_YHz_b"
      }
    },
    {
      "cell_type": "code",
      "source": [
        "unlabeled_data.loc[(y_pred_url == True) & ( y_pred == True),\"target\"] = True\n",
        "unlabeled_data[[\"id\", \"target\"]].to_csv(\"ml_3.csv\", index=False)"
      ],
      "metadata": {
        "id": "cQ3WtvS4FoPU"
      },
      "execution_count": null,
      "outputs": []
    }
  ]
}