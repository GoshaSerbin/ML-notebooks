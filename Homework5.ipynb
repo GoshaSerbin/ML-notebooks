{
  "cells": [
    {
      "cell_type": "markdown",
      "metadata": {
        "id": "SgimqZgT2wkQ"
      },
      "source": [
        "# Загрузка данных"
      ]
    },
    {
      "cell_type": "code",
      "execution_count": null,
      "metadata": {
        "colab": {
          "base_uri": "https://localhost:8080/",
          "height": 110
        },
        "id": "Zy9YaZZk16Cm",
        "outputId": "71af0582-ce76-447d-9368-3abd61149809"
      },
      "outputs": [
        {
          "output_type": "stream",
          "name": "stdout",
          "text": [
            "Mounted at /content/gdrive\n"
          ]
        },
        {
          "output_type": "display_data",
          "data": {
            "text/plain": [
              "<IPython.core.display.HTML object>"
            ],
            "text/html": [
              "\n",
              "     <input type=\"file\" id=\"files-747f9be6-cf4f-41f1-ae4e-64ae57c40514\" name=\"files[]\" multiple disabled\n",
              "        style=\"border:none\" />\n",
              "     <output id=\"result-747f9be6-cf4f-41f1-ae4e-64ae57c40514\">\n",
              "      Upload widget is only available when the cell has been executed in the\n",
              "      current browser session. Please rerun this cell to enable.\n",
              "      </output>\n",
              "      <script>// Copyright 2017 Google LLC\n",
              "//\n",
              "// Licensed under the Apache License, Version 2.0 (the \"License\");\n",
              "// you may not use this file except in compliance with the License.\n",
              "// You may obtain a copy of the License at\n",
              "//\n",
              "//      http://www.apache.org/licenses/LICENSE-2.0\n",
              "//\n",
              "// Unless required by applicable law or agreed to in writing, software\n",
              "// distributed under the License is distributed on an \"AS IS\" BASIS,\n",
              "// WITHOUT WARRANTIES OR CONDITIONS OF ANY KIND, either express or implied.\n",
              "// See the License for the specific language governing permissions and\n",
              "// limitations under the License.\n",
              "\n",
              "/**\n",
              " * @fileoverview Helpers for google.colab Python module.\n",
              " */\n",
              "(function(scope) {\n",
              "function span(text, styleAttributes = {}) {\n",
              "  const element = document.createElement('span');\n",
              "  element.textContent = text;\n",
              "  for (const key of Object.keys(styleAttributes)) {\n",
              "    element.style[key] = styleAttributes[key];\n",
              "  }\n",
              "  return element;\n",
              "}\n",
              "\n",
              "// Max number of bytes which will be uploaded at a time.\n",
              "const MAX_PAYLOAD_SIZE = 100 * 1024;\n",
              "\n",
              "function _uploadFiles(inputId, outputId) {\n",
              "  const steps = uploadFilesStep(inputId, outputId);\n",
              "  const outputElement = document.getElementById(outputId);\n",
              "  // Cache steps on the outputElement to make it available for the next call\n",
              "  // to uploadFilesContinue from Python.\n",
              "  outputElement.steps = steps;\n",
              "\n",
              "  return _uploadFilesContinue(outputId);\n",
              "}\n",
              "\n",
              "// This is roughly an async generator (not supported in the browser yet),\n",
              "// where there are multiple asynchronous steps and the Python side is going\n",
              "// to poll for completion of each step.\n",
              "// This uses a Promise to block the python side on completion of each step,\n",
              "// then passes the result of the previous step as the input to the next step.\n",
              "function _uploadFilesContinue(outputId) {\n",
              "  const outputElement = document.getElementById(outputId);\n",
              "  const steps = outputElement.steps;\n",
              "\n",
              "  const next = steps.next(outputElement.lastPromiseValue);\n",
              "  return Promise.resolve(next.value.promise).then((value) => {\n",
              "    // Cache the last promise value to make it available to the next\n",
              "    // step of the generator.\n",
              "    outputElement.lastPromiseValue = value;\n",
              "    return next.value.response;\n",
              "  });\n",
              "}\n",
              "\n",
              "/**\n",
              " * Generator function which is called between each async step of the upload\n",
              " * process.\n",
              " * @param {string} inputId Element ID of the input file picker element.\n",
              " * @param {string} outputId Element ID of the output display.\n",
              " * @return {!Iterable<!Object>} Iterable of next steps.\n",
              " */\n",
              "function* uploadFilesStep(inputId, outputId) {\n",
              "  const inputElement = document.getElementById(inputId);\n",
              "  inputElement.disabled = false;\n",
              "\n",
              "  const outputElement = document.getElementById(outputId);\n",
              "  outputElement.innerHTML = '';\n",
              "\n",
              "  const pickedPromise = new Promise((resolve) => {\n",
              "    inputElement.addEventListener('change', (e) => {\n",
              "      resolve(e.target.files);\n",
              "    });\n",
              "  });\n",
              "\n",
              "  const cancel = document.createElement('button');\n",
              "  inputElement.parentElement.appendChild(cancel);\n",
              "  cancel.textContent = 'Cancel upload';\n",
              "  const cancelPromise = new Promise((resolve) => {\n",
              "    cancel.onclick = () => {\n",
              "      resolve(null);\n",
              "    };\n",
              "  });\n",
              "\n",
              "  // Wait for the user to pick the files.\n",
              "  const files = yield {\n",
              "    promise: Promise.race([pickedPromise, cancelPromise]),\n",
              "    response: {\n",
              "      action: 'starting',\n",
              "    }\n",
              "  };\n",
              "\n",
              "  cancel.remove();\n",
              "\n",
              "  // Disable the input element since further picks are not allowed.\n",
              "  inputElement.disabled = true;\n",
              "\n",
              "  if (!files) {\n",
              "    return {\n",
              "      response: {\n",
              "        action: 'complete',\n",
              "      }\n",
              "    };\n",
              "  }\n",
              "\n",
              "  for (const file of files) {\n",
              "    const li = document.createElement('li');\n",
              "    li.append(span(file.name, {fontWeight: 'bold'}));\n",
              "    li.append(span(\n",
              "        `(${file.type || 'n/a'}) - ${file.size} bytes, ` +\n",
              "        `last modified: ${\n",
              "            file.lastModifiedDate ? file.lastModifiedDate.toLocaleDateString() :\n",
              "                                    'n/a'} - `));\n",
              "    const percent = span('0% done');\n",
              "    li.appendChild(percent);\n",
              "\n",
              "    outputElement.appendChild(li);\n",
              "\n",
              "    const fileDataPromise = new Promise((resolve) => {\n",
              "      const reader = new FileReader();\n",
              "      reader.onload = (e) => {\n",
              "        resolve(e.target.result);\n",
              "      };\n",
              "      reader.readAsArrayBuffer(file);\n",
              "    });\n",
              "    // Wait for the data to be ready.\n",
              "    let fileData = yield {\n",
              "      promise: fileDataPromise,\n",
              "      response: {\n",
              "        action: 'continue',\n",
              "      }\n",
              "    };\n",
              "\n",
              "    // Use a chunked sending to avoid message size limits. See b/62115660.\n",
              "    let position = 0;\n",
              "    do {\n",
              "      const length = Math.min(fileData.byteLength - position, MAX_PAYLOAD_SIZE);\n",
              "      const chunk = new Uint8Array(fileData, position, length);\n",
              "      position += length;\n",
              "\n",
              "      const base64 = btoa(String.fromCharCode.apply(null, chunk));\n",
              "      yield {\n",
              "        response: {\n",
              "          action: 'append',\n",
              "          file: file.name,\n",
              "          data: base64,\n",
              "        },\n",
              "      };\n",
              "\n",
              "      let percentDone = fileData.byteLength === 0 ?\n",
              "          100 :\n",
              "          Math.round((position / fileData.byteLength) * 100);\n",
              "      percent.textContent = `${percentDone}% done`;\n",
              "\n",
              "    } while (position < fileData.byteLength);\n",
              "  }\n",
              "\n",
              "  // All done.\n",
              "  yield {\n",
              "    response: {\n",
              "      action: 'complete',\n",
              "    }\n",
              "  };\n",
              "}\n",
              "\n",
              "scope.google = scope.google || {};\n",
              "scope.google.colab = scope.google.colab || {};\n",
              "scope.google.colab._files = {\n",
              "  _uploadFiles,\n",
              "  _uploadFilesContinue,\n",
              "};\n",
              "})(self);\n",
              "</script> "
            ]
          },
          "metadata": {}
        },
        {
          "output_type": "stream",
          "name": "stdout",
          "text": [
            "Saving kaggle.json to kaggle.json\n"
          ]
        },
        {
          "output_type": "execute_result",
          "data": {
            "text/plain": [
              "{'kaggle.json': b'{\"username\":\"goshaserbin\",\"key\":\"1bf5f9b29c4b8aaf933caeda54b78cfa\"}'}"
            ]
          },
          "metadata": {},
          "execution_count": 1
        }
      ],
      "source": [
        "from google.colab import drive\n",
        "drive.mount('/content/gdrive')\n",
        "from google.colab import files\n",
        "files.upload() #this will prompt you to upload the kaggle.json"
      ]
    },
    {
      "cell_type": "code",
      "execution_count": null,
      "metadata": {
        "colab": {
          "base_uri": "https://localhost:8080/"
        },
        "id": "mh_7_jHf2BS4",
        "outputId": "02c56565-7be5-40b7-cee9-29d4294ba9c2"
      },
      "outputs": [
        {
          "output_type": "stream",
          "name": "stdout",
          "text": [
            "Downloading spring-2023-property-prices.zip to /content\n",
            "\r  0% 0.00/2.68M [00:00<?, ?B/s]\n",
            "\r100% 2.68M/2.68M [00:00<00:00, 125MB/s]\n",
            "Archive:  spring-2023-property-prices.zip\n",
            "  inflating: SampleSubmission.csv    \n",
            "  inflating: Test.csv                \n",
            "  inflating: Train.csv               \n"
          ]
        }
      ],
      "source": [
        "!pip install -q kaggle\n",
        "!mkdir -p ~/.kaggle\n",
        "!cp kaggle.json ~/.kaggle/\n",
        "!chmod 600 /root/.kaggle/kaggle.json\n",
        "!kaggle competitions download -c spring-2023-property-prices\n",
        "!unzip spring-2023-property-prices.zip"
      ]
    },
    {
      "cell_type": "markdown",
      "metadata": {
        "id": "E7wvQgNU2SN-"
      },
      "source": [
        "# Анализ данных и работа с признаками"
      ]
    },
    {
      "cell_type": "code",
      "execution_count": null,
      "metadata": {
        "id": "ecmb6kYa2XdU"
      },
      "outputs": [],
      "source": [
        "import matplotlib.pyplot as plt\n",
        "import seaborn as sns\n",
        "import pandas as pd\n",
        "import numpy as np\n",
        "import warnings\n",
        "warnings.simplefilter(\"ignore\")\n",
        "%matplotlib inline\n",
        "\n",
        "sns.set(style=\"darkgrid\")"
      ]
    },
    {
      "cell_type": "code",
      "execution_count": null,
      "metadata": {
        "id": "v0yY6VUn2dq0"
      },
      "outputs": [],
      "source": [
        "train_data = pd.read_csv(\"Train.csv\")\n",
        "test_data = pd.read_csv(\"Test.csv\")"
      ]
    },
    {
      "cell_type": "code",
      "execution_count": null,
      "metadata": {
        "colab": {
          "base_uri": "https://localhost:8080/",
          "height": 235
        },
        "id": "WuO_KQU3HCsb",
        "outputId": "d95625ec-64d4-4823-82ac-3c1d61cc9bca"
      },
      "outputs": [
        {
          "output_type": "execute_result",
          "data": {
            "text/plain": [
              "   id    date  street_id  build_tech  floor  area  rooms  balcon  metro_dist  \\\n",
              "0   0  2011-1        560         NaN      2    59      3       0        30.0   \n",
              "1   1  2011-1        667         NaN     10    50      2       1        25.0   \n",
              "2   2  2011-1         90         0.0      1    48      2       0        25.0   \n",
              "3   3  2011-1         94         1.0      3    62      3       1        30.0   \n",
              "4   4  2011-1        232         0.0      3    60      3       0        25.0   \n",
              "\n",
              "   g_lift  ...  kw5  kw6  kw7  kw8  kw9  kw10  kw11  kw12  kw13     price  \n",
              "0     1.0  ...    0    0    0    0    0     0     0     0     0   4510000  \n",
              "1     NaN  ...    0    0    0    0    0     0     0     0     0  13231000  \n",
              "2     0.0  ...    0    0    0    0    0     0     0     0     0   2008000  \n",
              "3     NaN  ...    0    0    0    0    0     0     0     0     0  12680000  \n",
              "4     NaN  ...    0    0    0    0    0     0     0     0     0   3335000  \n",
              "\n",
              "[5 rows x 25 columns]"
            ],
            "text/html": [
              "\n",
              "  <div id=\"df-3c5514ae-4087-4dab-bf24-a8951872b360\">\n",
              "    <div class=\"colab-df-container\">\n",
              "      <div>\n",
              "<style scoped>\n",
              "    .dataframe tbody tr th:only-of-type {\n",
              "        vertical-align: middle;\n",
              "    }\n",
              "\n",
              "    .dataframe tbody tr th {\n",
              "        vertical-align: top;\n",
              "    }\n",
              "\n",
              "    .dataframe thead th {\n",
              "        text-align: right;\n",
              "    }\n",
              "</style>\n",
              "<table border=\"1\" class=\"dataframe\">\n",
              "  <thead>\n",
              "    <tr style=\"text-align: right;\">\n",
              "      <th></th>\n",
              "      <th>id</th>\n",
              "      <th>date</th>\n",
              "      <th>street_id</th>\n",
              "      <th>build_tech</th>\n",
              "      <th>floor</th>\n",
              "      <th>area</th>\n",
              "      <th>rooms</th>\n",
              "      <th>balcon</th>\n",
              "      <th>metro_dist</th>\n",
              "      <th>g_lift</th>\n",
              "      <th>...</th>\n",
              "      <th>kw5</th>\n",
              "      <th>kw6</th>\n",
              "      <th>kw7</th>\n",
              "      <th>kw8</th>\n",
              "      <th>kw9</th>\n",
              "      <th>kw10</th>\n",
              "      <th>kw11</th>\n",
              "      <th>kw12</th>\n",
              "      <th>kw13</th>\n",
              "      <th>price</th>\n",
              "    </tr>\n",
              "  </thead>\n",
              "  <tbody>\n",
              "    <tr>\n",
              "      <th>0</th>\n",
              "      <td>0</td>\n",
              "      <td>2011-1</td>\n",
              "      <td>560</td>\n",
              "      <td>NaN</td>\n",
              "      <td>2</td>\n",
              "      <td>59</td>\n",
              "      <td>3</td>\n",
              "      <td>0</td>\n",
              "      <td>30.0</td>\n",
              "      <td>1.0</td>\n",
              "      <td>...</td>\n",
              "      <td>0</td>\n",
              "      <td>0</td>\n",
              "      <td>0</td>\n",
              "      <td>0</td>\n",
              "      <td>0</td>\n",
              "      <td>0</td>\n",
              "      <td>0</td>\n",
              "      <td>0</td>\n",
              "      <td>0</td>\n",
              "      <td>4510000</td>\n",
              "    </tr>\n",
              "    <tr>\n",
              "      <th>1</th>\n",
              "      <td>1</td>\n",
              "      <td>2011-1</td>\n",
              "      <td>667</td>\n",
              "      <td>NaN</td>\n",
              "      <td>10</td>\n",
              "      <td>50</td>\n",
              "      <td>2</td>\n",
              "      <td>1</td>\n",
              "      <td>25.0</td>\n",
              "      <td>NaN</td>\n",
              "      <td>...</td>\n",
              "      <td>0</td>\n",
              "      <td>0</td>\n",
              "      <td>0</td>\n",
              "      <td>0</td>\n",
              "      <td>0</td>\n",
              "      <td>0</td>\n",
              "      <td>0</td>\n",
              "      <td>0</td>\n",
              "      <td>0</td>\n",
              "      <td>13231000</td>\n",
              "    </tr>\n",
              "    <tr>\n",
              "      <th>2</th>\n",
              "      <td>2</td>\n",
              "      <td>2011-1</td>\n",
              "      <td>90</td>\n",
              "      <td>0.0</td>\n",
              "      <td>1</td>\n",
              "      <td>48</td>\n",
              "      <td>2</td>\n",
              "      <td>0</td>\n",
              "      <td>25.0</td>\n",
              "      <td>0.0</td>\n",
              "      <td>...</td>\n",
              "      <td>0</td>\n",
              "      <td>0</td>\n",
              "      <td>0</td>\n",
              "      <td>0</td>\n",
              "      <td>0</td>\n",
              "      <td>0</td>\n",
              "      <td>0</td>\n",
              "      <td>0</td>\n",
              "      <td>0</td>\n",
              "      <td>2008000</td>\n",
              "    </tr>\n",
              "    <tr>\n",
              "      <th>3</th>\n",
              "      <td>3</td>\n",
              "      <td>2011-1</td>\n",
              "      <td>94</td>\n",
              "      <td>1.0</td>\n",
              "      <td>3</td>\n",
              "      <td>62</td>\n",
              "      <td>3</td>\n",
              "      <td>1</td>\n",
              "      <td>30.0</td>\n",
              "      <td>NaN</td>\n",
              "      <td>...</td>\n",
              "      <td>0</td>\n",
              "      <td>0</td>\n",
              "      <td>0</td>\n",
              "      <td>0</td>\n",
              "      <td>0</td>\n",
              "      <td>0</td>\n",
              "      <td>0</td>\n",
              "      <td>0</td>\n",
              "      <td>0</td>\n",
              "      <td>12680000</td>\n",
              "    </tr>\n",
              "    <tr>\n",
              "      <th>4</th>\n",
              "      <td>4</td>\n",
              "      <td>2011-1</td>\n",
              "      <td>232</td>\n",
              "      <td>0.0</td>\n",
              "      <td>3</td>\n",
              "      <td>60</td>\n",
              "      <td>3</td>\n",
              "      <td>0</td>\n",
              "      <td>25.0</td>\n",
              "      <td>NaN</td>\n",
              "      <td>...</td>\n",
              "      <td>0</td>\n",
              "      <td>0</td>\n",
              "      <td>0</td>\n",
              "      <td>0</td>\n",
              "      <td>0</td>\n",
              "      <td>0</td>\n",
              "      <td>0</td>\n",
              "      <td>0</td>\n",
              "      <td>0</td>\n",
              "      <td>3335000</td>\n",
              "    </tr>\n",
              "  </tbody>\n",
              "</table>\n",
              "<p>5 rows × 25 columns</p>\n",
              "</div>\n",
              "      <button class=\"colab-df-convert\" onclick=\"convertToInteractive('df-3c5514ae-4087-4dab-bf24-a8951872b360')\"\n",
              "              title=\"Convert this dataframe to an interactive table.\"\n",
              "              style=\"display:none;\">\n",
              "        \n",
              "  <svg xmlns=\"http://www.w3.org/2000/svg\" height=\"24px\"viewBox=\"0 0 24 24\"\n",
              "       width=\"24px\">\n",
              "    <path d=\"M0 0h24v24H0V0z\" fill=\"none\"/>\n",
              "    <path d=\"M18.56 5.44l.94 2.06.94-2.06 2.06-.94-2.06-.94-.94-2.06-.94 2.06-2.06.94zm-11 1L8.5 8.5l.94-2.06 2.06-.94-2.06-.94L8.5 2.5l-.94 2.06-2.06.94zm10 10l.94 2.06.94-2.06 2.06-.94-2.06-.94-.94-2.06-.94 2.06-2.06.94z\"/><path d=\"M17.41 7.96l-1.37-1.37c-.4-.4-.92-.59-1.43-.59-.52 0-1.04.2-1.43.59L10.3 9.45l-7.72 7.72c-.78.78-.78 2.05 0 2.83L4 21.41c.39.39.9.59 1.41.59.51 0 1.02-.2 1.41-.59l7.78-7.78 2.81-2.81c.8-.78.8-2.07 0-2.86zM5.41 20L4 18.59l7.72-7.72 1.47 1.35L5.41 20z\"/>\n",
              "  </svg>\n",
              "      </button>\n",
              "      \n",
              "  <style>\n",
              "    .colab-df-container {\n",
              "      display:flex;\n",
              "      flex-wrap:wrap;\n",
              "      gap: 12px;\n",
              "    }\n",
              "\n",
              "    .colab-df-convert {\n",
              "      background-color: #E8F0FE;\n",
              "      border: none;\n",
              "      border-radius: 50%;\n",
              "      cursor: pointer;\n",
              "      display: none;\n",
              "      fill: #1967D2;\n",
              "      height: 32px;\n",
              "      padding: 0 0 0 0;\n",
              "      width: 32px;\n",
              "    }\n",
              "\n",
              "    .colab-df-convert:hover {\n",
              "      background-color: #E2EBFA;\n",
              "      box-shadow: 0px 1px 2px rgba(60, 64, 67, 0.3), 0px 1px 3px 1px rgba(60, 64, 67, 0.15);\n",
              "      fill: #174EA6;\n",
              "    }\n",
              "\n",
              "    [theme=dark] .colab-df-convert {\n",
              "      background-color: #3B4455;\n",
              "      fill: #D2E3FC;\n",
              "    }\n",
              "\n",
              "    [theme=dark] .colab-df-convert:hover {\n",
              "      background-color: #434B5C;\n",
              "      box-shadow: 0px 1px 3px 1px rgba(0, 0, 0, 0.15);\n",
              "      filter: drop-shadow(0px 1px 2px rgba(0, 0, 0, 0.3));\n",
              "      fill: #FFFFFF;\n",
              "    }\n",
              "  </style>\n",
              "\n",
              "      <script>\n",
              "        const buttonEl =\n",
              "          document.querySelector('#df-3c5514ae-4087-4dab-bf24-a8951872b360 button.colab-df-convert');\n",
              "        buttonEl.style.display =\n",
              "          google.colab.kernel.accessAllowed ? 'block' : 'none';\n",
              "\n",
              "        async function convertToInteractive(key) {\n",
              "          const element = document.querySelector('#df-3c5514ae-4087-4dab-bf24-a8951872b360');\n",
              "          const dataTable =\n",
              "            await google.colab.kernel.invokeFunction('convertToInteractive',\n",
              "                                                     [key], {});\n",
              "          if (!dataTable) return;\n",
              "\n",
              "          const docLinkHtml = 'Like what you see? Visit the ' +\n",
              "            '<a target=\"_blank\" href=https://colab.research.google.com/notebooks/data_table.ipynb>data table notebook</a>'\n",
              "            + ' to learn more about interactive tables.';\n",
              "          element.innerHTML = '';\n",
              "          dataTable['output_type'] = 'display_data';\n",
              "          await google.colab.output.renderOutput(dataTable, element);\n",
              "          const docLink = document.createElement('div');\n",
              "          docLink.innerHTML = docLinkHtml;\n",
              "          element.appendChild(docLink);\n",
              "        }\n",
              "      </script>\n",
              "    </div>\n",
              "  </div>\n",
              "  "
            ]
          },
          "metadata": {},
          "execution_count": 5
        }
      ],
      "source": [
        "train_data.head()"
      ]
    },
    {
      "cell_type": "code",
      "execution_count": null,
      "metadata": {
        "colab": {
          "base_uri": "https://localhost:8080/",
          "height": 235
        },
        "id": "42n8pswvGoMT",
        "outputId": "2c3b3771-91b2-4ff7-f76c-f54252aa64dc"
      },
      "outputs": [
        {
          "output_type": "execute_result",
          "data": {
            "text/plain": [
              "       id    date  street_id  build_tech  floor  area  rooms  balcon  \\\n",
              "0  100000  2012-3        459         NaN      1    60      3       1   \n",
              "1  100001  2012-3        344         1.0     10    52      2       1   \n",
              "2  100002  2012-3        585         0.0      4    54      3       0   \n",
              "3  100003  2012-3        494         NaN      2    52      2       1   \n",
              "4  100004  2012-3        622         1.0      9    60      3       1   \n",
              "\n",
              "   metro_dist  g_lift  ...  kw4  kw5  kw6  kw7  kw8  kw9  kw10  kw11  kw12  \\\n",
              "0        30.0     0.0  ...    0    0    0    0    0    0     0     0     0   \n",
              "1         NaN     NaN  ...    0    0    0    0    0    0     0     0     0   \n",
              "2        30.0     0.0  ...    0    0    0    0    0    0     0     0     0   \n",
              "3        25.0     1.0  ...    0    0    0    0    0    0     0     0     0   \n",
              "4        15.0     NaN  ...    0    0    0    0    0    0     0     0     0   \n",
              "\n",
              "   kw13  \n",
              "0     0  \n",
              "1     0  \n",
              "2     0  \n",
              "3     0  \n",
              "4     0  \n",
              "\n",
              "[5 rows x 24 columns]"
            ],
            "text/html": [
              "\n",
              "  <div id=\"df-749d5fea-d886-4d8a-a4c5-117d2260e999\">\n",
              "    <div class=\"colab-df-container\">\n",
              "      <div>\n",
              "<style scoped>\n",
              "    .dataframe tbody tr th:only-of-type {\n",
              "        vertical-align: middle;\n",
              "    }\n",
              "\n",
              "    .dataframe tbody tr th {\n",
              "        vertical-align: top;\n",
              "    }\n",
              "\n",
              "    .dataframe thead th {\n",
              "        text-align: right;\n",
              "    }\n",
              "</style>\n",
              "<table border=\"1\" class=\"dataframe\">\n",
              "  <thead>\n",
              "    <tr style=\"text-align: right;\">\n",
              "      <th></th>\n",
              "      <th>id</th>\n",
              "      <th>date</th>\n",
              "      <th>street_id</th>\n",
              "      <th>build_tech</th>\n",
              "      <th>floor</th>\n",
              "      <th>area</th>\n",
              "      <th>rooms</th>\n",
              "      <th>balcon</th>\n",
              "      <th>metro_dist</th>\n",
              "      <th>g_lift</th>\n",
              "      <th>...</th>\n",
              "      <th>kw4</th>\n",
              "      <th>kw5</th>\n",
              "      <th>kw6</th>\n",
              "      <th>kw7</th>\n",
              "      <th>kw8</th>\n",
              "      <th>kw9</th>\n",
              "      <th>kw10</th>\n",
              "      <th>kw11</th>\n",
              "      <th>kw12</th>\n",
              "      <th>kw13</th>\n",
              "    </tr>\n",
              "  </thead>\n",
              "  <tbody>\n",
              "    <tr>\n",
              "      <th>0</th>\n",
              "      <td>100000</td>\n",
              "      <td>2012-3</td>\n",
              "      <td>459</td>\n",
              "      <td>NaN</td>\n",
              "      <td>1</td>\n",
              "      <td>60</td>\n",
              "      <td>3</td>\n",
              "      <td>1</td>\n",
              "      <td>30.0</td>\n",
              "      <td>0.0</td>\n",
              "      <td>...</td>\n",
              "      <td>0</td>\n",
              "      <td>0</td>\n",
              "      <td>0</td>\n",
              "      <td>0</td>\n",
              "      <td>0</td>\n",
              "      <td>0</td>\n",
              "      <td>0</td>\n",
              "      <td>0</td>\n",
              "      <td>0</td>\n",
              "      <td>0</td>\n",
              "    </tr>\n",
              "    <tr>\n",
              "      <th>1</th>\n",
              "      <td>100001</td>\n",
              "      <td>2012-3</td>\n",
              "      <td>344</td>\n",
              "      <td>1.0</td>\n",
              "      <td>10</td>\n",
              "      <td>52</td>\n",
              "      <td>2</td>\n",
              "      <td>1</td>\n",
              "      <td>NaN</td>\n",
              "      <td>NaN</td>\n",
              "      <td>...</td>\n",
              "      <td>0</td>\n",
              "      <td>0</td>\n",
              "      <td>0</td>\n",
              "      <td>0</td>\n",
              "      <td>0</td>\n",
              "      <td>0</td>\n",
              "      <td>0</td>\n",
              "      <td>0</td>\n",
              "      <td>0</td>\n",
              "      <td>0</td>\n",
              "    </tr>\n",
              "    <tr>\n",
              "      <th>2</th>\n",
              "      <td>100002</td>\n",
              "      <td>2012-3</td>\n",
              "      <td>585</td>\n",
              "      <td>0.0</td>\n",
              "      <td>4</td>\n",
              "      <td>54</td>\n",
              "      <td>3</td>\n",
              "      <td>0</td>\n",
              "      <td>30.0</td>\n",
              "      <td>0.0</td>\n",
              "      <td>...</td>\n",
              "      <td>0</td>\n",
              "      <td>0</td>\n",
              "      <td>0</td>\n",
              "      <td>0</td>\n",
              "      <td>0</td>\n",
              "      <td>0</td>\n",
              "      <td>0</td>\n",
              "      <td>0</td>\n",
              "      <td>0</td>\n",
              "      <td>0</td>\n",
              "    </tr>\n",
              "    <tr>\n",
              "      <th>3</th>\n",
              "      <td>100003</td>\n",
              "      <td>2012-3</td>\n",
              "      <td>494</td>\n",
              "      <td>NaN</td>\n",
              "      <td>2</td>\n",
              "      <td>52</td>\n",
              "      <td>2</td>\n",
              "      <td>1</td>\n",
              "      <td>25.0</td>\n",
              "      <td>1.0</td>\n",
              "      <td>...</td>\n",
              "      <td>0</td>\n",
              "      <td>0</td>\n",
              "      <td>0</td>\n",
              "      <td>0</td>\n",
              "      <td>0</td>\n",
              "      <td>0</td>\n",
              "      <td>0</td>\n",
              "      <td>0</td>\n",
              "      <td>0</td>\n",
              "      <td>0</td>\n",
              "    </tr>\n",
              "    <tr>\n",
              "      <th>4</th>\n",
              "      <td>100004</td>\n",
              "      <td>2012-3</td>\n",
              "      <td>622</td>\n",
              "      <td>1.0</td>\n",
              "      <td>9</td>\n",
              "      <td>60</td>\n",
              "      <td>3</td>\n",
              "      <td>1</td>\n",
              "      <td>15.0</td>\n",
              "      <td>NaN</td>\n",
              "      <td>...</td>\n",
              "      <td>0</td>\n",
              "      <td>0</td>\n",
              "      <td>0</td>\n",
              "      <td>0</td>\n",
              "      <td>0</td>\n",
              "      <td>0</td>\n",
              "      <td>0</td>\n",
              "      <td>0</td>\n",
              "      <td>0</td>\n",
              "      <td>0</td>\n",
              "    </tr>\n",
              "  </tbody>\n",
              "</table>\n",
              "<p>5 rows × 24 columns</p>\n",
              "</div>\n",
              "      <button class=\"colab-df-convert\" onclick=\"convertToInteractive('df-749d5fea-d886-4d8a-a4c5-117d2260e999')\"\n",
              "              title=\"Convert this dataframe to an interactive table.\"\n",
              "              style=\"display:none;\">\n",
              "        \n",
              "  <svg xmlns=\"http://www.w3.org/2000/svg\" height=\"24px\"viewBox=\"0 0 24 24\"\n",
              "       width=\"24px\">\n",
              "    <path d=\"M0 0h24v24H0V0z\" fill=\"none\"/>\n",
              "    <path d=\"M18.56 5.44l.94 2.06.94-2.06 2.06-.94-2.06-.94-.94-2.06-.94 2.06-2.06.94zm-11 1L8.5 8.5l.94-2.06 2.06-.94-2.06-.94L8.5 2.5l-.94 2.06-2.06.94zm10 10l.94 2.06.94-2.06 2.06-.94-2.06-.94-.94-2.06-.94 2.06-2.06.94z\"/><path d=\"M17.41 7.96l-1.37-1.37c-.4-.4-.92-.59-1.43-.59-.52 0-1.04.2-1.43.59L10.3 9.45l-7.72 7.72c-.78.78-.78 2.05 0 2.83L4 21.41c.39.39.9.59 1.41.59.51 0 1.02-.2 1.41-.59l7.78-7.78 2.81-2.81c.8-.78.8-2.07 0-2.86zM5.41 20L4 18.59l7.72-7.72 1.47 1.35L5.41 20z\"/>\n",
              "  </svg>\n",
              "      </button>\n",
              "      \n",
              "  <style>\n",
              "    .colab-df-container {\n",
              "      display:flex;\n",
              "      flex-wrap:wrap;\n",
              "      gap: 12px;\n",
              "    }\n",
              "\n",
              "    .colab-df-convert {\n",
              "      background-color: #E8F0FE;\n",
              "      border: none;\n",
              "      border-radius: 50%;\n",
              "      cursor: pointer;\n",
              "      display: none;\n",
              "      fill: #1967D2;\n",
              "      height: 32px;\n",
              "      padding: 0 0 0 0;\n",
              "      width: 32px;\n",
              "    }\n",
              "\n",
              "    .colab-df-convert:hover {\n",
              "      background-color: #E2EBFA;\n",
              "      box-shadow: 0px 1px 2px rgba(60, 64, 67, 0.3), 0px 1px 3px 1px rgba(60, 64, 67, 0.15);\n",
              "      fill: #174EA6;\n",
              "    }\n",
              "\n",
              "    [theme=dark] .colab-df-convert {\n",
              "      background-color: #3B4455;\n",
              "      fill: #D2E3FC;\n",
              "    }\n",
              "\n",
              "    [theme=dark] .colab-df-convert:hover {\n",
              "      background-color: #434B5C;\n",
              "      box-shadow: 0px 1px 3px 1px rgba(0, 0, 0, 0.15);\n",
              "      filter: drop-shadow(0px 1px 2px rgba(0, 0, 0, 0.3));\n",
              "      fill: #FFFFFF;\n",
              "    }\n",
              "  </style>\n",
              "\n",
              "      <script>\n",
              "        const buttonEl =\n",
              "          document.querySelector('#df-749d5fea-d886-4d8a-a4c5-117d2260e999 button.colab-df-convert');\n",
              "        buttonEl.style.display =\n",
              "          google.colab.kernel.accessAllowed ? 'block' : 'none';\n",
              "\n",
              "        async function convertToInteractive(key) {\n",
              "          const element = document.querySelector('#df-749d5fea-d886-4d8a-a4c5-117d2260e999');\n",
              "          const dataTable =\n",
              "            await google.colab.kernel.invokeFunction('convertToInteractive',\n",
              "                                                     [key], {});\n",
              "          if (!dataTable) return;\n",
              "\n",
              "          const docLinkHtml = 'Like what you see? Visit the ' +\n",
              "            '<a target=\"_blank\" href=https://colab.research.google.com/notebooks/data_table.ipynb>data table notebook</a>'\n",
              "            + ' to learn more about interactive tables.';\n",
              "          element.innerHTML = '';\n",
              "          dataTable['output_type'] = 'display_data';\n",
              "          await google.colab.output.renderOutput(dataTable, element);\n",
              "          const docLink = document.createElement('div');\n",
              "          docLink.innerHTML = docLinkHtml;\n",
              "          element.appendChild(docLink);\n",
              "        }\n",
              "      </script>\n",
              "    </div>\n",
              "  </div>\n",
              "  "
            ]
          },
          "metadata": {},
          "execution_count": 6
        }
      ],
      "source": [
        "test_data.head()"
      ]
    },
    {
      "cell_type": "code",
      "execution_count": null,
      "metadata": {
        "id": "itcTVmfh2ivi"
      },
      "outputs": [],
      "source": [
        "del train_data['id']"
      ]
    },
    {
      "cell_type": "markdown",
      "metadata": {
        "id": "j0qPdPsJGz2G"
      },
      "source": [
        "В трейне даты с 2011 по 2012, а в тесте с 2012 по 2013"
      ]
    },
    {
      "cell_type": "code",
      "execution_count": null,
      "metadata": {
        "colab": {
          "base_uri": "https://localhost:8080/"
        },
        "id": "UabkBIOvG4u0",
        "outputId": "271de2a8-530f-41d8-e971-ac31e23acddc"
      },
      "outputs": [
        {
          "output_type": "execute_result",
          "data": {
            "text/plain": [
              "array(['2011-1', '2011-10', '2011-11', '2011-12', '2011-2', '2011-3',\n",
              "       '2011-4', '2011-5', '2011-6', '2011-7', '2011-8', '2011-9',\n",
              "       '2012-1', '2012-10', '2012-11', '2012-12', '2012-2', '2012-3'],\n",
              "      dtype=object)"
            ]
          },
          "metadata": {},
          "execution_count": 8
        }
      ],
      "source": [
        "train_data.date.unique()"
      ]
    },
    {
      "cell_type": "code",
      "execution_count": null,
      "metadata": {
        "colab": {
          "base_uri": "https://localhost:8080/"
        },
        "id": "2Zv1QNIeHL9K",
        "outputId": "f8111445-9345-47ae-b536-81b651bc6a69"
      },
      "outputs": [
        {
          "output_type": "execute_result",
          "data": {
            "text/plain": [
              "array(['2012-3', '2012-4', '2012-5', '2012-6', '2012-7', '2012-8',\n",
              "       '2012-9', '2013-1', '2013-10', '2013-11', '2013-12', '2013-2',\n",
              "       '2013-3', '2013-4', '2013-5', '2013-6', '2013-7', '2013-8',\n",
              "       '2013-9'], dtype=object)"
            ]
          },
          "metadata": {},
          "execution_count": 9
        }
      ],
      "source": [
        "test_data.date.unique()"
      ]
    },
    {
      "cell_type": "markdown",
      "metadata": {
        "id": "oRb7sRHtH6Z0"
      },
      "source": [
        "Можно было бы отсортировать все даты по средней стоимости жилья в этот период и каждой дате сопоставить число - позицию в отсортированном списке. Но поскольку в тесте присутствуют даты, которых нет в трейне, то делать так нелогично. Можно посмотреть на зависимость цены жилья от даты"
      ]
    },
    {
      "cell_type": "code",
      "execution_count": null,
      "metadata": {
        "id": "wSAYvNxBGRce"
      },
      "outputs": [],
      "source": [
        "train_data.date=train_data.date.astype(\"datetime64[ns]\")\n",
        "test_data.date=test_data.date.astype(\"datetime64[ns]\")"
      ]
    },
    {
      "cell_type": "code",
      "execution_count": null,
      "metadata": {
        "colab": {
          "base_uri": "https://localhost:8080/",
          "height": 478
        },
        "id": "AkpjcGSPGb2L",
        "outputId": "be63f396-a92b-4322-f4a9-ffcc2acf7a8b"
      },
      "outputs": [
        {
          "output_type": "execute_result",
          "data": {
            "text/plain": [
              "<Axes: xlabel='date'>"
            ]
          },
          "metadata": {},
          "execution_count": 11
        },
        {
          "output_type": "display_data",
          "data": {
            "text/plain": [
              "<Figure size 640x480 with 1 Axes>"
            ],
            "image/png": "[encoded data removed]"
          },
          "metadata": {}
        }
      ],
      "source": [
        "train_data.groupby('date')['price'].mean().plot(x = 'date', y = 'price')"
      ]
    },
    {
      "cell_type": "markdown",
      "metadata": {
        "id": "3qpn1dJAI_g_"
      },
      "source": [
        "Видно что со временем цены растут. Можно сказать что линейно. Можно попробовать заменить дату на число - количество месяцев, прошедших, например, с 2010-12-31"
      ]
    },
    {
      "cell_type": "code",
      "execution_count": null,
      "metadata": {
        "id": "QsF_GBjwLJnr"
      },
      "outputs": [],
      "source": [
        "start_date = pd.to_datetime('2010-12-31')\n",
        "\n",
        "def months_since_start(date):\n",
        "    return (date.year - start_date.year) * 12 + (date.month - start_date.month)\n",
        "\n",
        "train_data['date'] = train_data['date'].apply(months_since_start)\n",
        "test_data['date'] = test_data['date'].apply(months_since_start)"
      ]
    },
    {
      "cell_type": "code",
      "execution_count": null,
      "metadata": {
        "colab": {
          "base_uri": "https://localhost:8080/"
        },
        "id": "wAojRgO_2gTG",
        "outputId": "42a61470-2ca3-4948-cb0d-6d53fbe5e82e",
        "scrolled": true
      },
      "outputs": [
        {
          "output_type": "stream",
          "name": "stdout",
          "text": [
            "<class 'pandas.core.frame.DataFrame'>\n",
            "RangeIndex: 100000 entries, 0 to 99999\n",
            "Data columns (total 24 columns):\n",
            " #   Column      Non-Null Count   Dtype  \n",
            "---  ------      --------------   -----  \n",
            " 0   date        100000 non-null  int64  \n",
            " 1   street_id   100000 non-null  int64  \n",
            " 2   build_tech  70265 non-null   float64\n",
            " 3   floor       100000 non-null  int64  \n",
            " 4   area        100000 non-null  int64  \n",
            " 5   rooms       100000 non-null  int64  \n",
            " 6   balcon      100000 non-null  int64  \n",
            " 7   metro_dist  95104 non-null   float64\n",
            " 8   g_lift      70008 non-null   float64\n",
            " 9   n_photos    100000 non-null  int64  \n",
            " 10  kw1         100000 non-null  int64  \n",
            " 11  kw2         100000 non-null  int64  \n",
            " 12  kw3         100000 non-null  int64  \n",
            " 13  kw4         100000 non-null  int64  \n",
            " 14  kw5         100000 non-null  int64  \n",
            " 15  kw6         100000 non-null  int64  \n",
            " 16  kw7         100000 non-null  int64  \n",
            " 17  kw8         100000 non-null  int64  \n",
            " 18  kw9         100000 non-null  int64  \n",
            " 19  kw10        100000 non-null  int64  \n",
            " 20  kw11        100000 non-null  int64  \n",
            " 21  kw12        100000 non-null  int64  \n",
            " 22  kw13        100000 non-null  int64  \n",
            " 23  price       100000 non-null  int64  \n",
            "dtypes: float64(3), int64(21)\n",
            "memory usage: 18.3 MB\n"
          ]
        }
      ],
      "source": [
        "train_data.info()"
      ]
    },
    {
      "cell_type": "markdown",
      "metadata": {
        "id": "Zyb8afbyABPp"
      },
      "source": [
        "Номера улиц в трейне и тесте совпадают"
      ]
    },
    {
      "cell_type": "code",
      "execution_count": null,
      "metadata": {
        "id": "r-4COf9DcEwS",
        "outputId": "1f796fe1-fd41-404b-ea7a-5a54f098121a",
        "colab": {
          "base_uri": "https://localhost:8080/"
        }
      },
      "outputs": [
        {
          "output_type": "execute_result",
          "data": {
            "text/plain": [
              "True"
            ]
          },
          "metadata": {},
          "execution_count": 14
        }
      ],
      "source": [
        "set(train_data.street_id.unique()) == set(test_data.street_id.unique())"
      ]
    },
    {
      "cell_type": "markdown",
      "metadata": {
        "id": "Lr5sjZuScEwS"
      },
      "source": [
        "Улица влияет на стоимость жилья"
      ]
    },
    {
      "cell_type": "code",
      "execution_count": null,
      "metadata": {
        "scrolled": false,
        "id": "3WxhCz-NcEwS",
        "outputId": "984b0da8-f5c6-4fb6-80a8-fa7c617be32e",
        "colab": {
          "base_uri": "https://localhost:8080/"
        }
      },
      "outputs": [
        {
          "output_type": "execute_result",
          "data": {
            "text/plain": [
              "street_id\n",
              "387    1.253659e+06\n",
              "499    1.273598e+06\n",
              "105    1.386078e+06\n",
              "535    1.412810e+06\n",
              "99     1.574197e+06\n",
              "           ...     \n",
              "287    1.390176e+07\n",
              "286    1.394396e+07\n",
              "430    1.608498e+07\n",
              "94     1.658026e+07\n",
              "186    1.944087e+07\n",
              "Name: price, Length: 672, dtype: float64"
            ]
          },
          "metadata": {},
          "execution_count": 15
        }
      ],
      "source": [
        "train_data.groupby('street_id')['price'].mean().sort_values()"
      ]
    },
    {
      "cell_type": "markdown",
      "metadata": {
        "id": "qpADxatdcEwT"
      },
      "source": [
        "Заменим id улицы на ее позицию в массиве, упорядоченном по возрастанию средней стоимости жилья на этой улицы"
      ]
    },
    {
      "cell_type": "code",
      "execution_count": null,
      "metadata": {
        "id": "IfGOi8_jcEwT"
      },
      "outputs": [],
      "source": [
        "map_dict = train_data.groupby('street_id')['price'].mean().sort_values()\n",
        "train_data['street_id'] = train_data['street_id'].replace(map_dict.index, np.arange(map_dict.size))\n",
        "test_data['street_id'] = test_data['street_id'].replace(map_dict.index, np.arange(map_dict.size))"
      ]
    },
    {
      "cell_type": "code",
      "execution_count": null,
      "metadata": {
        "id": "I9wz8oKWAcoi"
      },
      "outputs": [],
      "source": [
        "from sklearn.model_selection import train_test_split\n",
        "y = train_data[\"price\"]\n",
        "X = train_data.drop(columns=[\"price\"])\n",
        "X_train, X_test, y_train, y_test = train_test_split(X, y, test_size=0.3, random_state=10)\n",
        "\n",
        "X_validation = test_data.drop(columns=[\"id\"])"
      ]
    },
    {
      "cell_type": "markdown",
      "metadata": {
        "id": "h7mO30EfcEwT"
      },
      "source": [
        "Работа с пропусками"
      ]
    },
    {
      "cell_type": "code",
      "execution_count": null,
      "metadata": {
        "id": "nw8IIFD8ACIP"
      },
      "outputs": [],
      "source": [
        "from sklearn.impute import KNNImputer\n",
        "from sklearn.impute import SimpleImputer\n",
        "#imputer=KNNImputer(n_neighbors=1, weights='uniform')\n",
        "imputer =  SimpleImputer(strategy = 'mean')\n",
        "X_train = imputer.fit_transform(X_train)\n",
        "X_test = imputer.transform(X_test)\n",
        "X_validation = imputer.transform(X_validation)"
      ]
    },
    {
      "cell_type": "markdown",
      "metadata": {
        "id": "UjwKjuR42re1"
      },
      "source": [
        "# Модели"
      ]
    },
    {
      "cell_type": "code",
      "execution_count": null,
      "metadata": {
        "id": "ZlPC7KfhDqJE"
      },
      "outputs": [],
      "source": [
        "from sklearn.metrics import auc, f1_score, accuracy_score, roc_auc_score\n",
        "from sklearn.metrics import mean_squared_error, mean_absolute_error\n",
        "def print_metrics(y_test, ans):\n",
        "    print(\"MAE ~\", np.round(mean_absolute_error(y_test, ans), 4))"
      ]
    },
    {
      "cell_type": "markdown",
      "metadata": {
        "id": "2RVVwfD0lkrL"
      },
      "source": [
        "## Base line"
      ]
    },
    {
      "cell_type": "code",
      "execution_count": null,
      "metadata": {
        "colab": {
          "base_uri": "https://localhost:8080/"
        },
        "id": "vuOFna5wlnqD",
        "outputId": "768b187e-9ea3-40d2-92c9-707d3e441c70"
      },
      "outputs": [
        {
          "output_type": "stream",
          "name": "stdout",
          "text": [
            "train: MAE ~ 2551896.6143\n",
            "test:  MAE ~ 2587537.5\n"
          ]
        }
      ],
      "source": [
        "print(\"train: \", end='')\n",
        "train_ans = np.full(y_train.size, y_train.median())\n",
        "print_metrics(y_train, train_ans)\n",
        "\n",
        "print(\"test:  \", end='')\n",
        "test_ans = np.full(y_test.size, y_train.median())\n",
        "print_metrics(y_test, test_ans)"
      ]
    },
    {
      "cell_type": "markdown",
      "metadata": {
        "id": "1c9jHh7WcEwU"
      },
      "source": [
        "## Linear Model"
      ]
    },
    {
      "cell_type": "code",
      "execution_count": null,
      "metadata": {
        "id": "_Y8M7uXNcEwU",
        "outputId": "3bdaf77d-abbb-47a0-aaf7-41edd1124fd2",
        "colab": {
          "base_uri": "https://localhost:8080/"
        }
      },
      "outputs": [
        {
          "output_type": "stream",
          "name": "stdout",
          "text": [
            "train: MAE ~ 1310031.6625\n",
            "test:  MAE ~ 1326837.5568\n"
          ]
        }
      ],
      "source": [
        "from sklearn.linear_model import Ridge\n",
        "from sklearn.linear_model import Lasso\n",
        "from sklearn.preprocessing import StandardScaler\n",
        "\n",
        "scaler = StandardScaler()\n",
        "X_train_scaled = scaler.fit_transform(X_train)\n",
        "X_test_scaled = scaler.transform(X_test)\n",
        "\n",
        "model = Lasso()\n",
        "model.fit(X_train_scaled, y_train)\n",
        "\n",
        "print(\"train: \", end='')\n",
        "train_ans = model.predict(X_train_scaled)\n",
        "print_metrics(y_train, train_ans)\n",
        "\n",
        "print(\"test:  \", end='')\n",
        "test_ans = model.predict(X_test_scaled)\n",
        "print_metrics(y_test, test_ans)"
      ]
    },
    {
      "cell_type": "code",
      "execution_count": null,
      "metadata": {
        "id": "jqF1cf4kcEwU"
      },
      "outputs": [],
      "source": [
        "def show_weights(features, weights):\n",
        "    sorted_weights = sorted(zip(weights, features), reverse=True)\n",
        "    weights = [x[0] for x in sorted_weights]\n",
        "    features = [x[1] for x in sorted_weights]\n",
        "    sns.barplot(y=features, x=weights)"
      ]
    },
    {
      "cell_type": "code",
      "execution_count": null,
      "metadata": {
        "id": "HNUz1zANcEwV",
        "outputId": "8ba3e8ab-5e27-43df-d1be-076181fcc04b",
        "colab": {
          "base_uri": "https://localhost:8080/",
          "height": 453
        }
      },
      "outputs": [
        {
          "output_type": "display_data",
          "data": {
            "text/plain": [
              "<Figure size 640x480 with 1 Axes>"
            ],
            "image/png": "[encoded data removed]"
          },
          "metadata": {}
        }
      ],
      "source": [
        "show_weights(train_data.columns, model.coef_)"
      ]
    },
    {
      "cell_type": "code",
      "execution_count": null,
      "metadata": {
        "id": "LF-jnBKCcEwV",
        "outputId": "0976aa50-d179-4c22-d517-245ab41cb7f6",
        "colab": {
          "base_uri": "https://localhost:8080/"
        }
      },
      "outputs": [
        {
          "output_type": "stream",
          "name": "stdout",
          "text": [
            "Zero weights in Lasso: 0\n"
          ]
        }
      ],
      "source": [
        "lasso_zeros = np.sum(model.coef_ == 0)\n",
        "print(\"Zero weights in Lasso:\", lasso_zeros)"
      ]
    },
    {
      "cell_type": "code",
      "execution_count": null,
      "metadata": {
        "id": "sdHqbGzscEwV",
        "outputId": "ad21f9ee-462a-46ff-8587-856af0d9610d",
        "colab": {
          "base_uri": "https://localhost:8080/",
          "height": 492
        }
      },
      "outputs": [
        {
          "output_type": "execute_result",
          "data": {
            "text/plain": [
              "<Axes: xlabel='price', ylabel='Density'>"
            ]
          },
          "metadata": {},
          "execution_count": 25
        },
        {
          "output_type": "display_data",
          "data": {
            "text/plain": [
              "<Figure size 640x480 with 1 Axes>"
            ],
            "image/png": "[encoded data removed]"
          },
          "metadata": {}
        }
      ],
      "source": [
        "error = (y_train - model.predict(X_train)) ** 2\n",
        "sns.distplot(error)"
      ]
    },
    {
      "cell_type": "markdown",
      "metadata": {
        "id": "YB26mskFcEwV"
      },
      "source": [
        "Попробуем убрать данные с большой ошибкой"
      ]
    },
    {
      "cell_type": "code",
      "execution_count": null,
      "metadata": {
        "id": "7ci7GdVBcEwV",
        "outputId": "d770efa1-b287-4872-9b68-bba3dd4b08d3",
        "colab": {
          "base_uri": "https://localhost:8080/"
        }
      },
      "outputs": [
        {
          "output_type": "stream",
          "name": "stdout",
          "text": [
            "train: MAE ~ 1290196.2079\n",
            "test:  MAE ~ 1310840.7838\n"
          ]
        }
      ],
      "source": [
        "X_without_errors = X_train_scaled[error < np.quantile(error, 0.95)]\n",
        "y_without_errors = y_train[error < np.quantile(error, 0.95)]\n",
        "model = Lasso()\n",
        "model.fit(X_without_errors, y_without_errors)\n",
        "\n",
        "print(\"train: \", end='')\n",
        "train_ans = model.predict(X_train_scaled)\n",
        "print_metrics(y_train, train_ans)\n",
        "\n",
        "print(\"test:  \", end='')\n",
        "test_ans = model.predict(X_test_scaled)\n",
        "print_metrics(y_test, test_ans)"
      ]
    },
    {
      "cell_type": "markdown",
      "metadata": {
        "id": "L8m5TIJok9ds"
      },
      "source": [
        " ## Random Forest"
      ]
    },
    {
      "cell_type": "code",
      "execution_count": null,
      "metadata": {
        "id": "8VsEAom0pAbT",
        "outputId": "8562dc2a-a22a-415b-b695-41382c192a45",
        "colab": {
          "base_uri": "https://localhost:8080/"
        }
      },
      "outputs": [
        {
          "output_type": "stream",
          "name": "stdout",
          "text": [
            "train: MAE ~ 339818.5474\n",
            "test:  MAE ~ 916812.1138\n"
          ]
        }
      ],
      "source": [
        "from sklearn.ensemble import RandomForestRegressor\n",
        "model = RandomForestRegressor(warm_start=True)\n",
        "model.fit(X_train, y_train)\n",
        "\n",
        "print(\"train: \", end='')\n",
        "train_ans = model.predict(X_train)\n",
        "print_metrics(y_train, train_ans)\n",
        "\n",
        "print(\"test:  \", end='')\n",
        "test_ans = model.predict(X_test)\n",
        "print_metrics(y_test, test_ans)"
      ]
    },
    {
      "cell_type": "code",
      "execution_count": null,
      "metadata": {
        "id": "K_tbX2tdcEwl",
        "outputId": "b4251437-5f4f-4c3e-99cc-b86836fe0a4c",
        "colab": {
          "base_uri": "https://localhost:8080/"
        }
      },
      "outputs": [
        {
          "output_type": "stream",
          "name": "stdout",
          "text": [
            "train: MAE ~ 641591.0628\n",
            "test:  MAE ~ 910251.0424\n"
          ]
        }
      ],
      "source": [
        "from sklearn.ensemble import RandomForestRegressor\n",
        "model = RandomForestRegressor(warm_start=True, n_estimators = 250,n_jobs=3,min_samples_leaf=5,max_depth=70)\n",
        "model.fit(X_train, y_train)\n",
        "\n",
        "print(\"train: \", end='')\n",
        "train_ans = model.predict(X_train)\n",
        "print_metrics(y_train, train_ans)\n",
        "\n",
        "print(\"test:  \", end='')\n",
        "test_ans = model.predict(X_test)\n",
        "print_metrics(y_test, test_ans)"
      ]
    },
    {
      "cell_type": "markdown",
      "metadata": {
        "id": "8EJAWH2vcEwm"
      },
      "source": [
        "submit"
      ]
    },
    {
      "cell_type": "code",
      "execution_count": null,
      "metadata": {
        "id": "wKDZq1WdcEwm"
      },
      "outputs": [],
      "source": [
        "model.predict(X_validation)\n",
        "test_data['price'] = model.predict(X_validation)\n",
        "test_data[[\"id\", \"price\"]].to_csv(\"randomForestDefault.csv\", index=False)"
      ]
    },
    {
      "cell_type": "markdown",
      "metadata": {
        "id": "mxSsLnIscEwm"
      },
      "source": [
        "Подбор гиперпараметров"
      ]
    },
    {
      "cell_type": "code",
      "execution_count": null,
      "metadata": {
        "id": "v_vrUVODcEwm",
        "outputId": "c11935d1-e88f-4c58-c8a7-9cd9fc1b3109",
        "colab": {
          "base_uri": "https://localhost:8080/",
          "height": 135
        }
      },
      "outputs": [
        {
          "output_type": "stream",
          "name": "stdout",
          "text": [
            "Fitting 5 folds for each of 72 candidates, totalling 360 fits\n"
          ]
        },
        {
          "output_type": "execute_result",
          "data": {
            "text/plain": [
              "GridSearchCV(cv=StratifiedKFold(n_splits=5, random_state=42, shuffle=True),\n",
              "             estimator=RandomForestRegressor(n_jobs=3, oob_score=True,\n",
              "                                             random_state=42),\n",
              "             n_jobs=3,\n",
              "             param_grid={'max_depth': [5, 10, 15, 20, 30, 50],\n",
              "                         'max_features': [1, 5, 6],\n",
              "                         'min_samples_leaf': [1, 3, 5, 7]},\n",
              "             verbose=1)"
            ],
            "text/html": [
              "<style>#sk-container-id-1 {color: black;background-color: white;}#sk-container-id-1 pre{padding: 0;}#sk-container-id-1 div.sk-toggleable {background-color: white;}#sk-container-id-1 label.sk-toggleable__label {cursor: pointer;display: block;width: 100%;margin-bottom: 0;padding: 0.3em;box-sizing: border-box;text-align: center;}#sk-container-id-1 label.sk-toggleable__label-arrow:before {content: \"▸\";float: left;margin-right: 0.25em;color: #696969;}#sk-container-id-1 label.sk-toggleable__label-arrow:hover:before {color: black;}#sk-container-id-1 div.sk-estimator:hover label.sk-toggleable__label-arrow:before {color: black;}#sk-container-id-1 div.sk-toggleable__content {max-height: 0;max-width: 0;overflow: hidden;text-align: left;background-color: #f0f8ff;}#sk-container-id-1 div.sk-toggleable__content pre {margin: 0.2em;color: black;border-radius: 0.25em;background-color: #f0f8ff;}#sk-container-id-1 input.sk-toggleable__control:checked~div.sk-toggleable__content {max-height: 200px;max-width: 100%;overflow: auto;}#sk-container-id-1 input.sk-toggleable__control:checked~label.sk-toggleable__label-arrow:before {content: \"▾\";}#sk-container-id-1 div.sk-estimator input.sk-toggleable__control:checked~label.sk-toggleable__label {background-color: #d4ebff;}#sk-container-id-1 div.sk-label input.sk-toggleable__control:checked~label.sk-toggleable__label {background-color: #d4ebff;}#sk-container-id-1 input.sk-hidden--visually {border: 0;clip: rect(1px 1px 1px 1px);clip: rect(1px, 1px, 1px, 1px);height: 1px;margin: -1px;overflow: hidden;padding: 0;position: absolute;width: 1px;}#sk-container-id-1 div.sk-estimator {font-family: monospace;background-color: #f0f8ff;border: 1px dotted black;border-radius: 0.25em;box-sizing: border-box;margin-bottom: 0.5em;}#sk-container-id-1 div.sk-estimator:hover {background-color: #d4ebff;}#sk-container-id-1 div.sk-parallel-item::after {content: \"\";width: 100%;border-bottom: 1px solid gray;flex-grow: 1;}#sk-container-id-1 div.sk-label:hover label.sk-toggleable__label {background-color: #d4ebff;}#sk-container-id-1 div.sk-serial::before {content: \"\";position: absolute;border-left: 1px solid gray;box-sizing: border-box;top: 0;bottom: 0;left: 50%;z-index: 0;}#sk-container-id-1 div.sk-serial {display: flex;flex-direction: column;align-items: center;background-color: white;padding-right: 0.2em;padding-left: 0.2em;position: relative;}#sk-container-id-1 div.sk-item {position: relative;z-index: 1;}#sk-container-id-1 div.sk-parallel {display: flex;align-items: stretch;justify-content: center;background-color: white;position: relative;}#sk-container-id-1 div.sk-item::before, #sk-container-id-1 div.sk-parallel-item::before {content: \"\";position: absolute;border-left: 1px solid gray;box-sizing: border-box;top: 0;bottom: 0;left: 50%;z-index: -1;}#sk-container-id-1 div.sk-parallel-item {display: flex;flex-direction: column;z-index: 1;position: relative;background-color: white;}#sk-container-id-1 div.sk-parallel-item:first-child::after {align-self: flex-end;width: 50%;}#sk-container-id-1 div.sk-parallel-item:last-child::after {align-self: flex-start;width: 50%;}#sk-container-id-1 div.sk-parallel-item:only-child::after {width: 0;}#sk-container-id-1 div.sk-dashed-wrapped {border: 1px dashed gray;margin: 0 0.4em 0.5em 0.4em;box-sizing: border-box;padding-bottom: 0.4em;background-color: white;}#sk-container-id-1 div.sk-label label {font-family: monospace;font-weight: bold;display: inline-block;line-height: 1.2em;}#sk-container-id-1 div.sk-label-container {text-align: center;}#sk-container-id-1 div.sk-container {/* jupyter's `normalize.less` sets `[hidden] { display: none; }` but bootstrap.min.css set `[hidden] { display: none !important; }` so we also need the `!important` here to be able to override the default hidden behavior on the sphinx rendered scikit-learn.org. See: https://github.com/scikit-learn/scikit-learn/issues/21755 */display: inline-block !important;position: relative;}#sk-container-id-1 div.sk-text-repr-fallback {display: none;}</style><div id=\"sk-container-id-1\" class=\"sk-top-container\"><div class=\"sk-text-repr-fallback\"><pre>GridSearchCV(cv=StratifiedKFold(n_splits=5, random_state=42, shuffle=True),\n",
              "             estimator=RandomForestRegressor(n_jobs=3, oob_score=True,\n",
              "                                             random_state=42),\n",
              "             n_jobs=3,\n",
              "             param_grid={&#x27;max_depth&#x27;: [5, 10, 15, 20, 30, 50],\n",
              "                         &#x27;max_features&#x27;: [1, 5, 6],\n",
              "                         &#x27;min_samples_leaf&#x27;: [1, 3, 5, 7]},\n",
              "             verbose=1)</pre><b>In a Jupyter environment, please rerun this cell to show the HTML representation or trust the notebook. <br />On GitHub, the HTML representation is unable to render, please try loading this page with nbviewer.org.</b></div><div class=\"sk-container\" hidden><div class=\"sk-item sk-dashed-wrapped\"><div class=\"sk-label-container\"><div class=\"sk-label sk-toggleable\"><input class=\"sk-toggleable__control sk-hidden--visually\" id=\"sk-estimator-id-1\" type=\"checkbox\" ><label for=\"sk-estimator-id-1\" class=\"sk-toggleable__label sk-toggleable__label-arrow\">GridSearchCV</label><div class=\"sk-toggleable__content\"><pre>GridSearchCV(cv=StratifiedKFold(n_splits=5, random_state=42, shuffle=True),\n",
              "             estimator=RandomForestRegressor(n_jobs=3, oob_score=True,\n",
              "                                             random_state=42),\n",
              "             n_jobs=3,\n",
              "             param_grid={&#x27;max_depth&#x27;: [5, 10, 15, 20, 30, 50],\n",
              "                         &#x27;max_features&#x27;: [1, 5, 6],\n",
              "                         &#x27;min_samples_leaf&#x27;: [1, 3, 5, 7]},\n",
              "             verbose=1)</pre></div></div></div><div class=\"sk-parallel\"><div class=\"sk-parallel-item\"><div class=\"sk-item\"><div class=\"sk-label-container\"><div class=\"sk-label sk-toggleable\"><input class=\"sk-toggleable__control sk-hidden--visually\" id=\"sk-estimator-id-2\" type=\"checkbox\" ><label for=\"sk-estimator-id-2\" class=\"sk-toggleable__label sk-toggleable__label-arrow\">estimator: RandomForestRegressor</label><div class=\"sk-toggleable__content\"><pre>RandomForestRegressor(n_jobs=3, oob_score=True, random_state=42)</pre></div></div></div><div class=\"sk-serial\"><div class=\"sk-item\"><div class=\"sk-estimator sk-toggleable\"><input class=\"sk-toggleable__control sk-hidden--visually\" id=\"sk-estimator-id-3\" type=\"checkbox\" ><label for=\"sk-estimator-id-3\" class=\"sk-toggleable__label sk-toggleable__label-arrow\">RandomForestRegressor</label><div class=\"sk-toggleable__content\"><pre>RandomForestRegressor(n_jobs=3, oob_score=True, random_state=42)</pre></div></div></div></div></div></div></div></div></div></div>"
            ]
          },
          "metadata": {},
          "execution_count": 30
        }
      ],
      "source": [
        "from sklearn.model_selection import StratifiedKFold,GridSearchCV\n",
        "skf = StratifiedKFold(n_splits=5, shuffle=True, random_state=42)\n",
        "parameters = {'max_features': [1, 5, 6],\n",
        "              'min_samples_leaf': [1, 3, 5, 7],\n",
        "              'max_depth': [5, 10, 15, 20, 30, 50]}\n",
        "rfr = RandomForestRegressor(random_state=42,\n",
        "                             n_jobs=3, oob_score=True)\n",
        "gcv = GridSearchCV(rfr, parameters, n_jobs=3, cv=skf, verbose=1)\n",
        "gcv.fit(X_train, y_train)"
      ]
    },
    {
      "cell_type": "code",
      "execution_count": null,
      "metadata": {
        "id": "0wDBawN5cEwm",
        "outputId": "a8bf65ce-70af-4db0-a1d5-44ac640cadfb",
        "colab": {
          "base_uri": "https://localhost:8080/",
          "height": 92
        }
      },
      "outputs": [
        {
          "output_type": "execute_result",
          "data": {
            "text/plain": [
              "RandomForestRegressor(max_depth=30, max_features=6, n_jobs=3, oob_score=True,\n",
              "                      random_state=42)"
            ],
            "text/html": [
              "<style>#sk-container-id-2 {color: black;background-color: white;}#sk-container-id-2 pre{padding: 0;}#sk-container-id-2 div.sk-toggleable {background-color: white;}#sk-container-id-2 label.sk-toggleable__label {cursor: pointer;display: block;width: 100%;margin-bottom: 0;padding: 0.3em;box-sizing: border-box;text-align: center;}#sk-container-id-2 label.sk-toggleable__label-arrow:before {content: \"▸\";float: left;margin-right: 0.25em;color: #696969;}#sk-container-id-2 label.sk-toggleable__label-arrow:hover:before {color: black;}#sk-container-id-2 div.sk-estimator:hover label.sk-toggleable__label-arrow:before {color: black;}#sk-container-id-2 div.sk-toggleable__content {max-height: 0;max-width: 0;overflow: hidden;text-align: left;background-color: #f0f8ff;}#sk-container-id-2 div.sk-toggleable__content pre {margin: 0.2em;color: black;border-radius: 0.25em;background-color: #f0f8ff;}#sk-container-id-2 input.sk-toggleable__control:checked~div.sk-toggleable__content {max-height: 200px;max-width: 100%;overflow: auto;}#sk-container-id-2 input.sk-toggleable__control:checked~label.sk-toggleable__label-arrow:before {content: \"▾\";}#sk-container-id-2 div.sk-estimator input.sk-toggleable__control:checked~label.sk-toggleable__label {background-color: #d4ebff;}#sk-container-id-2 div.sk-label input.sk-toggleable__control:checked~label.sk-toggleable__label {background-color: #d4ebff;}#sk-container-id-2 input.sk-hidden--visually {border: 0;clip: rect(1px 1px 1px 1px);clip: rect(1px, 1px, 1px, 1px);height: 1px;margin: -1px;overflow: hidden;padding: 0;position: absolute;width: 1px;}#sk-container-id-2 div.sk-estimator {font-family: monospace;background-color: #f0f8ff;border: 1px dotted black;border-radius: 0.25em;box-sizing: border-box;margin-bottom: 0.5em;}#sk-container-id-2 div.sk-estimator:hover {background-color: #d4ebff;}#sk-container-id-2 div.sk-parallel-item::after {content: \"\";width: 100%;border-bottom: 1px solid gray;flex-grow: 1;}#sk-container-id-2 div.sk-label:hover label.sk-toggleable__label {background-color: #d4ebff;}#sk-container-id-2 div.sk-serial::before {content: \"\";position: absolute;border-left: 1px solid gray;box-sizing: border-box;top: 0;bottom: 0;left: 50%;z-index: 0;}#sk-container-id-2 div.sk-serial {display: flex;flex-direction: column;align-items: center;background-color: white;padding-right: 0.2em;padding-left: 0.2em;position: relative;}#sk-container-id-2 div.sk-item {position: relative;z-index: 1;}#sk-container-id-2 div.sk-parallel {display: flex;align-items: stretch;justify-content: center;background-color: white;position: relative;}#sk-container-id-2 div.sk-item::before, #sk-container-id-2 div.sk-parallel-item::before {content: \"\";position: absolute;border-left: 1px solid gray;box-sizing: border-box;top: 0;bottom: 0;left: 50%;z-index: -1;}#sk-container-id-2 div.sk-parallel-item {display: flex;flex-direction: column;z-index: 1;position: relative;background-color: white;}#sk-container-id-2 div.sk-parallel-item:first-child::after {align-self: flex-end;width: 50%;}#sk-container-id-2 div.sk-parallel-item:last-child::after {align-self: flex-start;width: 50%;}#sk-container-id-2 div.sk-parallel-item:only-child::after {width: 0;}#sk-container-id-2 div.sk-dashed-wrapped {border: 1px dashed gray;margin: 0 0.4em 0.5em 0.4em;box-sizing: border-box;padding-bottom: 0.4em;background-color: white;}#sk-container-id-2 div.sk-label label {font-family: monospace;font-weight: bold;display: inline-block;line-height: 1.2em;}#sk-container-id-2 div.sk-label-container {text-align: center;}#sk-container-id-2 div.sk-container {/* jupyter's `normalize.less` sets `[hidden] { display: none; }` but bootstrap.min.css set `[hidden] { display: none !important; }` so we also need the `!important` here to be able to override the default hidden behavior on the sphinx rendered scikit-learn.org. See: https://github.com/scikit-learn/scikit-learn/issues/21755 */display: inline-block !important;position: relative;}#sk-container-id-2 div.sk-text-repr-fallback {display: none;}</style><div id=\"sk-container-id-2\" class=\"sk-top-container\"><div class=\"sk-text-repr-fallback\"><pre>RandomForestRegressor(max_depth=30, max_features=6, n_jobs=3, oob_score=True,\n",
              "                      random_state=42)</pre><b>In a Jupyter environment, please rerun this cell to show the HTML representation or trust the notebook. <br />On GitHub, the HTML representation is unable to render, please try loading this page with nbviewer.org.</b></div><div class=\"sk-container\" hidden><div class=\"sk-item\"><div class=\"sk-estimator sk-toggleable\"><input class=\"sk-toggleable__control sk-hidden--visually\" id=\"sk-estimator-id-4\" type=\"checkbox\" checked><label for=\"sk-estimator-id-4\" class=\"sk-toggleable__label sk-toggleable__label-arrow\">RandomForestRegressor</label><div class=\"sk-toggleable__content\"><pre>RandomForestRegressor(max_depth=30, max_features=6, n_jobs=3, oob_score=True,\n",
              "                      random_state=42)</pre></div></div></div></div></div>"
            ]
          },
          "metadata": {},
          "execution_count": 31
        }
      ],
      "source": [
        "gcv.best_estimator_"
      ]
    },
    {
      "cell_type": "code",
      "execution_count": null,
      "metadata": {
        "id": "zOZofwi-cEwm",
        "outputId": "83dc0c24-f461-4c30-d348-f6e456f9c813",
        "colab": {
          "base_uri": "https://localhost:8080/",
          "height": 510
        }
      },
      "outputs": [
        {
          "output_type": "stream",
          "name": "stdout",
          "text": [
            "Best n_estimators = 150.0000\n"
          ]
        },
        {
          "output_type": "execute_result",
          "data": {
            "text/plain": [
              "Text(0, 0.5, 'CV score')"
            ]
          },
          "metadata": {},
          "execution_count": 32
        },
        {
          "output_type": "display_data",
          "data": {
            "text/plain": [
              "<Figure size 640x480 with 1 Axes>"
            ],
            "image/png": "[encoded data removed]"
          },
          "metadata": {}
        }
      ],
      "source": [
        "from sklearn.model_selection import GridSearchCV\n",
        "\n",
        "estimators = [5,50,100, 150]\n",
        "searcher = GridSearchCV(gcv.best_estimator_, [{\"n_estimators\": estimators}], scoring=\"neg_mean_absolute_error\")\n",
        "searcher.fit(X_train, y_train)\n",
        "\n",
        "best_estimators = searcher.best_params_[\"n_estimators\"]\n",
        "print(\"Best n_estimators = %.4f\" % best_estimators)\n",
        "\n",
        "plt.plot(estimators, -searcher.cv_results_[\"mean_test_score\"])\n",
        "plt.xlabel(\"n_estimators\")\n",
        "plt.ylabel(\"CV score\")"
      ]
    },
    {
      "cell_type": "markdown",
      "metadata": {
        "id": "JiGshXHB_LNf"
      },
      "source": [
        "Попробуем сначала обучить линейную модель на ключевых словах"
      ]
    },
    {
      "cell_type": "code",
      "execution_count": null,
      "metadata": {
        "id": "_UP4rJUVD-XT",
        "outputId": "7587b387-9319-49ef-c3ac-089455a0cea3",
        "colab": {
          "base_uri": "https://localhost:8080/"
        }
      },
      "outputs": [
        {
          "output_type": "stream",
          "name": "stdout",
          "text": [
            "train: MAE ~ 2683895.6585\n",
            "test:  MAE ~ 2698206.0653\n"
          ]
        }
      ],
      "source": [
        "from sklearn.linear_model import Ridge\n",
        "ridge = Ridge()\n",
        "ridge.fit(X_train[:,-13:], y_train)\n",
        "\n",
        "print(\"train: \", end='')\n",
        "train_ans = ridge.predict(X_train[:,-13:])\n",
        "print_metrics(y_train, train_ans)\n",
        "\n",
        "print(\"test:  \", end='')\n",
        "test_ans = ridge.predict(X_test[:,-13:])\n",
        "print_metrics(y_test, test_ans)"
      ]
    },
    {
      "cell_type": "markdown",
      "source": [
        "И потом обучить лсучайный лес на оставшихся признаках + предсказании линейной модели"
      ],
      "metadata": {
        "id": "pOmlbbuIYllO"
      }
    },
    {
      "cell_type": "code",
      "execution_count": null,
      "metadata": {
        "id": "9QJSJThpEBD9",
        "outputId": "3af7b99c-58b7-4ac7-b051-b3d17290e92c",
        "colab": {
          "base_uri": "https://localhost:8080/"
        }
      },
      "outputs": [
        {
          "output_type": "stream",
          "name": "stdout",
          "text": [
            "train: MAE ~ 341076.864\n",
            "test:  MAE ~ 919395.1175\n"
          ]
        }
      ],
      "source": [
        "from sklearn.ensemble import RandomForestRegressor\n",
        "\n",
        "newX_train = np.hstack((X_train[:,:-13], ridge.predict(X_train[:,-13:]).reshape(-1, 1)))\n",
        "newX_test = np.hstack((X_test[:,:-13], ridge.predict(X_test[:,-13:]).reshape(-1, 1)))\n",
        "\n",
        "model = RandomForestRegressor()\n",
        "model.fit(newX_train, y_train)\n",
        "\n",
        "print(\"train: \", end='')\n",
        "train_ans = model.predict(newX_train)\n",
        "print_metrics(y_train, train_ans)\n",
        "\n",
        "print(\"test:  \", end='')\n",
        "test_ans = model.predict(newX_test)\n",
        "print_metrics(y_test, test_ans)"
      ]
    },
    {
      "cell_type": "markdown",
      "metadata": {
        "id": "GN2eoJYHcEwn"
      },
      "source": [
        "## Gradient Boosting"
      ]
    },
    {
      "cell_type": "code",
      "execution_count": null,
      "metadata": {
        "id": "sK_gjHLxEgHF",
        "outputId": "b5dcb244-f3aa-4723-e54f-1567e66bcff9",
        "colab": {
          "base_uri": "https://localhost:8080/"
        }
      },
      "outputs": [
        {
          "output_type": "stream",
          "name": "stdout",
          "text": [
            "train: MAE ~ 837344.086\n",
            "test:  MAE ~ 862966.7255\n"
          ]
        }
      ],
      "source": [
        "from sklearn.ensemble import GradientBoostingRegressor\n",
        "gbr = GradientBoostingRegressor(warm_start=True,min_samples_leaf=4,n_estimators = 250,learning_rate=0.2)\n",
        "gbr.fit(X_train, y_train)\n",
        "\n",
        "print(\"train: \", end='')\n",
        "train_ans = gbr.predict(X_train)\n",
        "print_metrics(y_train, train_ans)\n",
        "\n",
        "print(\"test:  \", end='')\n",
        "test_ans = gbr.predict(X_test)\n",
        "print_metrics(y_test, test_ans)"
      ]
    },
    {
      "cell_type": "code",
      "execution_count": null,
      "metadata": {
        "id": "l26LQLuIcEwo",
        "outputId": "dbce10ab-78f7-4b71-da5e-1c3ea638d27d",
        "colab": {
          "base_uri": "https://localhost:8080/"
        }
      },
      "outputs": [
        {
          "output_type": "stream",
          "name": "stdout",
          "text": [
            "train: MAE ~ 767717.4515\n",
            "test:  MAE ~ 804543.285\n"
          ]
        }
      ],
      "source": [
        "from sklearn.ensemble import GradientBoostingRegressor\n",
        "gbr2 = GradientBoostingRegressor(warm_start=True,min_samples_leaf=4,n_estimators = 285,learning_rate=0.32)\n",
        "gbr2.fit(X_train, y_train)\n",
        "\n",
        "print(\"train: \", end='')\n",
        "train_ans = gbr2.predict(X_train)\n",
        "print_metrics(y_train, train_ans)\n",
        "\n",
        "print(\"test:  \", end='')\n",
        "test_ans = gbr2.predict(X_test)\n",
        "print_metrics(y_test, test_ans)"
      ]
    },
    {
      "cell_type": "markdown",
      "metadata": {
        "id": "NS4L-AH1cEwo"
      },
      "source": [
        "submit"
      ]
    },
    {
      "cell_type": "code",
      "execution_count": null,
      "metadata": {
        "id": "jGXH3GyBcEwo",
        "outputId": "4952c50d-602b-4a02-cf04-b74c62b83257",
        "colab": {
          "base_uri": "https://localhost:8080/"
        }
      },
      "outputs": [
        {
          "output_type": "stream",
          "name": "stdout",
          "text": [
            "train: MAE ~ 772930.5622\n"
          ]
        }
      ],
      "source": [
        "X_TRAIN = np.vstack((X_train, X_test))\n",
        "Y_TRAIN = np.hstack((y_train,y_test))\n",
        "gbr = GradientBoostingRegressor(warm_start=True,min_samples_leaf=4,n_estimators = 300,learning_rate=0.32)\n",
        "gbr.fit(X_TRAIN, Y_TRAIN)\n",
        "print(\"train: \", end='')\n",
        "train_ans = gbr.predict(X_TRAIN)\n",
        "print_metrics(Y_TRAIN, train_ans)"
      ]
    },
    {
      "cell_type": "code",
      "execution_count": null,
      "metadata": {
        "id": "S9sNa1t7cEwo"
      },
      "outputs": [],
      "source": [
        "test_data['price'] = gbr.predict(X_validation)\n",
        "test_data[[\"id\", \"price\"]].to_csv(\"GBDefault.csv\", index=False)"
      ]
    },
    {
      "cell_type": "code",
      "execution_count": null,
      "metadata": {
        "id": "QjfYMH1ccEwp",
        "outputId": "d0a6a5eb-89ad-4f39-feea-bba172d3b742",
        "colab": {
          "base_uri": "https://localhost:8080/"
        }
      },
      "outputs": [
        {
          "output_type": "stream",
          "name": "stdout",
          "text": [
            "train: MAE ~ 552719.5474\n",
            "test:  MAE ~ 659378.2442\n"
          ]
        }
      ],
      "source": [
        "from sklearn.ensemble import GradientBoostingRegressor\n",
        "gbr2 = GradientBoostingRegressor(warm_start=True,min_samples_leaf=4,n_estimators = 300,learning_rate=0.4,max_depth=5, loss='huber')\n",
        "gbr2.fit(X_train, y_train)\n",
        "\n",
        "print(\"train: \", end='')\n",
        "train_ans = gbr2.predict(X_train)\n",
        "print_metrics(y_train, train_ans)\n",
        "\n",
        "print(\"test:  \", end='')\n",
        "test_ans = gbr2.predict(X_test)\n",
        "print_metrics(y_test, test_ans)"
      ]
    },
    {
      "cell_type": "code",
      "execution_count": null,
      "metadata": {
        "id": "-4S3jpqkcEwp",
        "outputId": "b1c1b94b-577d-423c-d2db-4ac071632ecf",
        "colab": {
          "base_uri": "https://localhost:8080/"
        }
      },
      "outputs": [
        {
          "output_type": "stream",
          "name": "stdout",
          "text": [
            "train: MAE ~ 553245.9994\n",
            "test:  MAE ~ 655702.2852\n"
          ]
        }
      ],
      "source": [
        "from sklearn.ensemble import GradientBoostingRegressor\n",
        "gbr = GradientBoostingRegressor(warm_start=True,min_samples_leaf=4,n_estimators = 320,learning_rate=0.37,max_depth=5, loss='huber')\n",
        "gbr.fit(X_train, y_train)\n",
        "\n",
        "print(\"train: \", end='')\n",
        "train_ans = gbr.predict(X_train)\n",
        "print_metrics(y_train, train_ans)\n",
        "\n",
        "print(\"test:  \", end='')\n",
        "test_ans = gbr.predict(X_test)\n",
        "print_metrics(y_test, test_ans)"
      ]
    },
    {
      "cell_type": "markdown",
      "metadata": {
        "id": "0R4hgdDlcEwp"
      },
      "source": [
        "submit"
      ]
    },
    {
      "cell_type": "code",
      "execution_count": null,
      "metadata": {
        "id": "rBOw492pcEwp",
        "outputId": "2384ce4e-77db-482d-9c36-1a988b3fa1a1",
        "colab": {
          "base_uri": "https://localhost:8080/"
        }
      },
      "outputs": [
        {
          "output_type": "stream",
          "name": "stdout",
          "text": [
            "train: MAE ~ 583982.8851\n"
          ]
        }
      ],
      "source": [
        "gbr.fit(X_TRAIN, Y_TRAIN)\n",
        "print(\"train: \", end='')\n",
        "train_ans = gbr.predict(X_TRAIN)\n",
        "print_metrics(Y_TRAIN, train_ans)"
      ]
    },
    {
      "cell_type": "code",
      "execution_count": null,
      "metadata": {
        "id": "kp71L5VPcEwp"
      },
      "outputs": [],
      "source": [
        "test_data['price'] = gbr.predict(X_validation)\n",
        "test_data[[\"id\", \"price\"]].to_csv(\"GBExtended.csv\", index=False)"
      ]
    }
  ],
  "metadata": {
    "colab": {
      "collapsed_sections": [
        "SgimqZgT2wkQ"
      ],
      "provenance": []
    },
    "kernelspec": {
      "display_name": "Python 3 (ipykernel)",
      "language": "python",
      "name": "python3"
    },
    "language_info": {
      "codemirror_mode": {
        "name": "ipython",
        "version": 3
      },
      "file_extension": ".py",
      "mimetype": "text/x-python",
      "name": "python",
      "nbconvert_exporter": "python",
      "pygments_lexer": "ipython3",
      "version": "3.10.5"
    }
  },
  "nbformat": 4,
  "nbformat_minor": 0
}